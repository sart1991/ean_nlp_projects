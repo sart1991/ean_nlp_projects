{
  "cells": [
    {
      "cell_type": "code",
      "source": [
        "!pip install datasets"
      ],
      "metadata": {
        "colab": {
          "base_uri": "https://localhost:8080/"
        },
        "id": "5TOUQHny3k_0",
        "outputId": "dba0a534-02a5-4b6d-cab1-81f842a838ed"
      },
      "execution_count": 4,
      "outputs": [
        {
          "output_type": "stream",
          "name": "stdout",
          "text": [
            "Requirement already satisfied: datasets in /usr/local/lib/python3.10/dist-packages (3.2.0)\n",
            "Requirement already satisfied: filelock in /usr/local/lib/python3.10/dist-packages (from datasets) (3.16.1)\n",
            "Requirement already satisfied: numpy>=1.17 in /usr/local/lib/python3.10/dist-packages (from datasets) (1.26.4)\n",
            "Requirement already satisfied: pyarrow>=15.0.0 in /usr/local/lib/python3.10/dist-packages (from datasets) (17.0.0)\n",
            "Requirement already satisfied: dill<0.3.9,>=0.3.0 in /usr/local/lib/python3.10/dist-packages (from datasets) (0.3.8)\n",
            "Requirement already satisfied: pandas in /usr/local/lib/python3.10/dist-packages (from datasets) (2.2.2)\n",
            "Requirement already satisfied: requests>=2.32.2 in /usr/local/lib/python3.10/dist-packages (from datasets) (2.32.3)\n",
            "Requirement already satisfied: tqdm>=4.66.3 in /usr/local/lib/python3.10/dist-packages (from datasets) (4.66.6)\n",
            "Requirement already satisfied: xxhash in /usr/local/lib/python3.10/dist-packages (from datasets) (3.5.0)\n",
            "Requirement already satisfied: multiprocess<0.70.17 in /usr/local/lib/python3.10/dist-packages (from datasets) (0.70.16)\n",
            "Requirement already satisfied: fsspec<=2024.9.0,>=2023.1.0 in /usr/local/lib/python3.10/dist-packages (from fsspec[http]<=2024.9.0,>=2023.1.0->datasets) (2024.9.0)\n",
            "Requirement already satisfied: aiohttp in /usr/local/lib/python3.10/dist-packages (from datasets) (3.11.10)\n",
            "Requirement already satisfied: huggingface-hub>=0.23.0 in /usr/local/lib/python3.10/dist-packages (from datasets) (0.26.5)\n",
            "Requirement already satisfied: packaging in /usr/local/lib/python3.10/dist-packages (from datasets) (24.2)\n",
            "Requirement already satisfied: pyyaml>=5.1 in /usr/local/lib/python3.10/dist-packages (from datasets) (6.0.2)\n",
            "Requirement already satisfied: aiohappyeyeballs>=2.3.0 in /usr/local/lib/python3.10/dist-packages (from aiohttp->datasets) (2.4.4)\n",
            "Requirement already satisfied: aiosignal>=1.1.2 in /usr/local/lib/python3.10/dist-packages (from aiohttp->datasets) (1.3.1)\n",
            "Requirement already satisfied: async-timeout<6.0,>=4.0 in /usr/local/lib/python3.10/dist-packages (from aiohttp->datasets) (4.0.3)\n",
            "Requirement already satisfied: attrs>=17.3.0 in /usr/local/lib/python3.10/dist-packages (from aiohttp->datasets) (24.2.0)\n",
            "Requirement already satisfied: frozenlist>=1.1.1 in /usr/local/lib/python3.10/dist-packages (from aiohttp->datasets) (1.5.0)\n",
            "Requirement already satisfied: multidict<7.0,>=4.5 in /usr/local/lib/python3.10/dist-packages (from aiohttp->datasets) (6.1.0)\n",
            "Requirement already satisfied: propcache>=0.2.0 in /usr/local/lib/python3.10/dist-packages (from aiohttp->datasets) (0.2.1)\n",
            "Requirement already satisfied: yarl<2.0,>=1.17.0 in /usr/local/lib/python3.10/dist-packages (from aiohttp->datasets) (1.18.3)\n",
            "Requirement already satisfied: typing-extensions>=3.7.4.3 in /usr/local/lib/python3.10/dist-packages (from huggingface-hub>=0.23.0->datasets) (4.12.2)\n",
            "Requirement already satisfied: charset-normalizer<4,>=2 in /usr/local/lib/python3.10/dist-packages (from requests>=2.32.2->datasets) (3.4.0)\n",
            "Requirement already satisfied: idna<4,>=2.5 in /usr/local/lib/python3.10/dist-packages (from requests>=2.32.2->datasets) (3.10)\n",
            "Requirement already satisfied: urllib3<3,>=1.21.1 in /usr/local/lib/python3.10/dist-packages (from requests>=2.32.2->datasets) (2.2.3)\n",
            "Requirement already satisfied: certifi>=2017.4.17 in /usr/local/lib/python3.10/dist-packages (from requests>=2.32.2->datasets) (2024.8.30)\n",
            "Requirement already satisfied: python-dateutil>=2.8.2 in /usr/local/lib/python3.10/dist-packages (from pandas->datasets) (2.8.2)\n",
            "Requirement already satisfied: pytz>=2020.1 in /usr/local/lib/python3.10/dist-packages (from pandas->datasets) (2024.2)\n",
            "Requirement already satisfied: tzdata>=2022.7 in /usr/local/lib/python3.10/dist-packages (from pandas->datasets) (2024.2)\n",
            "Requirement already satisfied: six>=1.5 in /usr/local/lib/python3.10/dist-packages (from python-dateutil>=2.8.2->pandas->datasets) (1.17.0)\n"
          ]
        }
      ]
    },
    {
      "cell_type": "code",
      "execution_count": 5,
      "metadata": {
        "vscode": {
          "languageId": "plaintext"
        },
        "id": "ZfkMQI-iyohS"
      },
      "outputs": [],
      "source": [
        "from transformers import (\n",
        "  AutoTokenizer,\n",
        "  BertTokenizer,\n",
        "  EvalPrediction,\n",
        "  AutoModelForSequenceClassification,\n",
        "  Trainer,\n",
        "  TrainingArguments,\n",
        ")\n",
        "from datasets import Dataset, DatasetDict\n",
        "from sklearn.model_selection import train_test_split\n",
        "import pandas as pd\n",
        "import torch\n",
        "import numpy as np\n",
        "from sklearn.metrics import f1_score, roc_auc_score, accuracy_score\n",
        "import re"
      ]
    },
    {
      "cell_type": "code",
      "source": [
        "file_path = 'data/Noticias.xlsx'\n",
        "df_news = pd.read_excel('data/Noticias.xlsx', usecols='B:F')\n",
        "df_news.dropna(inplace=True)\n",
        "df_news = df_news[df_news['Etiqueta'].isin([\n",
        "    'deportes',\n",
        "    'cultura',\n",
        "    'economia',\n",
        "    'justicia',\n",
        "    'politica',\n",
        "    'tecnosfera',\n",
        "    'salud'\n",
        "])]\n",
        "df_news.shape"
      ],
      "metadata": {
        "colab": {
          "base_uri": "https://localhost:8080/"
        },
        "id": "it4DOsF9DlUf",
        "outputId": "3e1f4272-e810-4e78-a45c-7f49005a681d"
      },
      "execution_count": 6,
      "outputs": [
        {
          "output_type": "execute_result",
          "data": {
            "text/plain": [
              "(2386, 5)"
            ]
          },
          "metadata": {},
          "execution_count": 6
        }
      ]
    },
    {
      "cell_type": "code",
      "source": [
        "df_preprocessed = df_news.copy()"
      ],
      "metadata": {
        "id": "E9FW7qJmZ5Sq"
      },
      "execution_count": 7,
      "outputs": []
    },
    {
      "cell_type": "code",
      "source": [
        "df_preprocessed['unified_text'] = 'Título: ' + df_preprocessed['Título'] + '. Resumen: ' + df_preprocessed['info'] + '. Contenido: ' + df_preprocessed['contenido'] + '.'\n",
        "df_preprocessed.head(2)"
      ],
      "metadata": {
        "colab": {
          "base_uri": "https://localhost:8080/",
          "height": 318
        },
        "id": "etEqaADoaHhD",
        "outputId": "a128f3c4-81a5-414b-8568-e9cd6d3dd96f"
      },
      "execution_count": 8,
      "outputs": [
        {
          "output_type": "execute_result",
          "data": {
            "text/plain": [
              "                                                 Enlaces  \\\n",
              "10487  https://www.eltiempo.com/cultura/al-interior-d...   \n",
              "10488  https://www.eltiempo.com/cultura/arte-y-teatro...   \n",
              "\n",
              "                                                  Título  \\\n",
              "10487  Al interior de, aparte, roquero, rock / El len...   \n",
              "10488  Antonina Canal: 20 años de danza oriental en C...   \n",
              "\n",
              "                                                    info  \\\n",
              "10487  'Al interior de' es el reemplazo sofisticado e...   \n",
              "10488  La bailarina habló con EL TIEMPO de su trayect...   \n",
              "\n",
              "                                               contenido Etiqueta  \\\n",
              "10487  Citas: “Los crímenes de violencia sexual comet...  cultura   \n",
              "10488  Con motivo de la celebración de los 20 años de...  cultura   \n",
              "\n",
              "                                            unified_text  \n",
              "10487  Título: Al interior de, aparte, roquero, rock ...  \n",
              "10488  Título: Antonina Canal: 20 años de danza orien...  "
            ],
            "text/html": [
              "\n",
              "  <div id=\"df-2e2c7241-2285-486a-a9f1-307104c0dba8\" class=\"colab-df-container\">\n",
              "    <div>\n",
              "<style scoped>\n",
              "    .dataframe tbody tr th:only-of-type {\n",
              "        vertical-align: middle;\n",
              "    }\n",
              "\n",
              "    .dataframe tbody tr th {\n",
              "        vertical-align: top;\n",
              "    }\n",
              "\n",
              "    .dataframe thead th {\n",
              "        text-align: right;\n",
              "    }\n",
              "</style>\n",
              "<table border=\"1\" class=\"dataframe\">\n",
              "  <thead>\n",
              "    <tr style=\"text-align: right;\">\n",
              "      <th></th>\n",
              "      <th>Enlaces</th>\n",
              "      <th>Título</th>\n",
              "      <th>info</th>\n",
              "      <th>contenido</th>\n",
              "      <th>Etiqueta</th>\n",
              "      <th>unified_text</th>\n",
              "    </tr>\n",
              "  </thead>\n",
              "  <tbody>\n",
              "    <tr>\n",
              "      <th>10487</th>\n",
              "      <td>https://www.eltiempo.com/cultura/al-interior-d...</td>\n",
              "      <td>Al interior de, aparte, roquero, rock / El len...</td>\n",
              "      <td>'Al interior de' es el reemplazo sofisticado e...</td>\n",
              "      <td>Citas: “Los crímenes de violencia sexual comet...</td>\n",
              "      <td>cultura</td>\n",
              "      <td>Título: Al interior de, aparte, roquero, rock ...</td>\n",
              "    </tr>\n",
              "    <tr>\n",
              "      <th>10488</th>\n",
              "      <td>https://www.eltiempo.com/cultura/arte-y-teatro...</td>\n",
              "      <td>Antonina Canal: 20 años de danza oriental en C...</td>\n",
              "      <td>La bailarina habló con EL TIEMPO de su trayect...</td>\n",
              "      <td>Con motivo de la celebración de los 20 años de...</td>\n",
              "      <td>cultura</td>\n",
              "      <td>Título: Antonina Canal: 20 años de danza orien...</td>\n",
              "    </tr>\n",
              "  </tbody>\n",
              "</table>\n",
              "</div>\n",
              "    <div class=\"colab-df-buttons\">\n",
              "\n",
              "  <div class=\"colab-df-container\">\n",
              "    <button class=\"colab-df-convert\" onclick=\"convertToInteractive('df-2e2c7241-2285-486a-a9f1-307104c0dba8')\"\n",
              "            title=\"Convert this dataframe to an interactive table.\"\n",
              "            style=\"display:none;\">\n",
              "\n",
              "  <svg xmlns=\"http://www.w3.org/2000/svg\" height=\"24px\" viewBox=\"0 -960 960 960\">\n",
              "    <path d=\"M120-120v-720h720v720H120Zm60-500h600v-160H180v160Zm220 220h160v-160H400v160Zm0 220h160v-160H400v160ZM180-400h160v-160H180v160Zm440 0h160v-160H620v160ZM180-180h160v-160H180v160Zm440 0h160v-160H620v160Z\"/>\n",
              "  </svg>\n",
              "    </button>\n",
              "\n",
              "  <style>\n",
              "    .colab-df-container {\n",
              "      display:flex;\n",
              "      gap: 12px;\n",
              "    }\n",
              "\n",
              "    .colab-df-convert {\n",
              "      background-color: #E8F0FE;\n",
              "      border: none;\n",
              "      border-radius: 50%;\n",
              "      cursor: pointer;\n",
              "      display: none;\n",
              "      fill: #1967D2;\n",
              "      height: 32px;\n",
              "      padding: 0 0 0 0;\n",
              "      width: 32px;\n",
              "    }\n",
              "\n",
              "    .colab-df-convert:hover {\n",
              "      background-color: #E2EBFA;\n",
              "      box-shadow: 0px 1px 2px rgba(60, 64, 67, 0.3), 0px 1px 3px 1px rgba(60, 64, 67, 0.15);\n",
              "      fill: #174EA6;\n",
              "    }\n",
              "\n",
              "    .colab-df-buttons div {\n",
              "      margin-bottom: 4px;\n",
              "    }\n",
              "\n",
              "    [theme=dark] .colab-df-convert {\n",
              "      background-color: #3B4455;\n",
              "      fill: #D2E3FC;\n",
              "    }\n",
              "\n",
              "    [theme=dark] .colab-df-convert:hover {\n",
              "      background-color: #434B5C;\n",
              "      box-shadow: 0px 1px 3px 1px rgba(0, 0, 0, 0.15);\n",
              "      filter: drop-shadow(0px 1px 2px rgba(0, 0, 0, 0.3));\n",
              "      fill: #FFFFFF;\n",
              "    }\n",
              "  </style>\n",
              "\n",
              "    <script>\n",
              "      const buttonEl =\n",
              "        document.querySelector('#df-2e2c7241-2285-486a-a9f1-307104c0dba8 button.colab-df-convert');\n",
              "      buttonEl.style.display =\n",
              "        google.colab.kernel.accessAllowed ? 'block' : 'none';\n",
              "\n",
              "      async function convertToInteractive(key) {\n",
              "        const element = document.querySelector('#df-2e2c7241-2285-486a-a9f1-307104c0dba8');\n",
              "        const dataTable =\n",
              "          await google.colab.kernel.invokeFunction('convertToInteractive',\n",
              "                                                    [key], {});\n",
              "        if (!dataTable) return;\n",
              "\n",
              "        const docLinkHtml = 'Like what you see? Visit the ' +\n",
              "          '<a target=\"_blank\" href=https://colab.research.google.com/notebooks/data_table.ipynb>data table notebook</a>'\n",
              "          + ' to learn more about interactive tables.';\n",
              "        element.innerHTML = '';\n",
              "        dataTable['output_type'] = 'display_data';\n",
              "        await google.colab.output.renderOutput(dataTable, element);\n",
              "        const docLink = document.createElement('div');\n",
              "        docLink.innerHTML = docLinkHtml;\n",
              "        element.appendChild(docLink);\n",
              "      }\n",
              "    </script>\n",
              "  </div>\n",
              "\n",
              "\n",
              "<div id=\"df-7b29baae-cc18-4f44-8964-9bfd1bdce6f7\">\n",
              "  <button class=\"colab-df-quickchart\" onclick=\"quickchart('df-7b29baae-cc18-4f44-8964-9bfd1bdce6f7')\"\n",
              "            title=\"Suggest charts\"\n",
              "            style=\"display:none;\">\n",
              "\n",
              "<svg xmlns=\"http://www.w3.org/2000/svg\" height=\"24px\"viewBox=\"0 0 24 24\"\n",
              "     width=\"24px\">\n",
              "    <g>\n",
              "        <path d=\"M19 3H5c-1.1 0-2 .9-2 2v14c0 1.1.9 2 2 2h14c1.1 0 2-.9 2-2V5c0-1.1-.9-2-2-2zM9 17H7v-7h2v7zm4 0h-2V7h2v10zm4 0h-2v-4h2v4z\"/>\n",
              "    </g>\n",
              "</svg>\n",
              "  </button>\n",
              "\n",
              "<style>\n",
              "  .colab-df-quickchart {\n",
              "      --bg-color: #E8F0FE;\n",
              "      --fill-color: #1967D2;\n",
              "      --hover-bg-color: #E2EBFA;\n",
              "      --hover-fill-color: #174EA6;\n",
              "      --disabled-fill-color: #AAA;\n",
              "      --disabled-bg-color: #DDD;\n",
              "  }\n",
              "\n",
              "  [theme=dark] .colab-df-quickchart {\n",
              "      --bg-color: #3B4455;\n",
              "      --fill-color: #D2E3FC;\n",
              "      --hover-bg-color: #434B5C;\n",
              "      --hover-fill-color: #FFFFFF;\n",
              "      --disabled-bg-color: #3B4455;\n",
              "      --disabled-fill-color: #666;\n",
              "  }\n",
              "\n",
              "  .colab-df-quickchart {\n",
              "    background-color: var(--bg-color);\n",
              "    border: none;\n",
              "    border-radius: 50%;\n",
              "    cursor: pointer;\n",
              "    display: none;\n",
              "    fill: var(--fill-color);\n",
              "    height: 32px;\n",
              "    padding: 0;\n",
              "    width: 32px;\n",
              "  }\n",
              "\n",
              "  .colab-df-quickchart:hover {\n",
              "    background-color: var(--hover-bg-color);\n",
              "    box-shadow: 0 1px 2px rgba(60, 64, 67, 0.3), 0 1px 3px 1px rgba(60, 64, 67, 0.15);\n",
              "    fill: var(--button-hover-fill-color);\n",
              "  }\n",
              "\n",
              "  .colab-df-quickchart-complete:disabled,\n",
              "  .colab-df-quickchart-complete:disabled:hover {\n",
              "    background-color: var(--disabled-bg-color);\n",
              "    fill: var(--disabled-fill-color);\n",
              "    box-shadow: none;\n",
              "  }\n",
              "\n",
              "  .colab-df-spinner {\n",
              "    border: 2px solid var(--fill-color);\n",
              "    border-color: transparent;\n",
              "    border-bottom-color: var(--fill-color);\n",
              "    animation:\n",
              "      spin 1s steps(1) infinite;\n",
              "  }\n",
              "\n",
              "  @keyframes spin {\n",
              "    0% {\n",
              "      border-color: transparent;\n",
              "      border-bottom-color: var(--fill-color);\n",
              "      border-left-color: var(--fill-color);\n",
              "    }\n",
              "    20% {\n",
              "      border-color: transparent;\n",
              "      border-left-color: var(--fill-color);\n",
              "      border-top-color: var(--fill-color);\n",
              "    }\n",
              "    30% {\n",
              "      border-color: transparent;\n",
              "      border-left-color: var(--fill-color);\n",
              "      border-top-color: var(--fill-color);\n",
              "      border-right-color: var(--fill-color);\n",
              "    }\n",
              "    40% {\n",
              "      border-color: transparent;\n",
              "      border-right-color: var(--fill-color);\n",
              "      border-top-color: var(--fill-color);\n",
              "    }\n",
              "    60% {\n",
              "      border-color: transparent;\n",
              "      border-right-color: var(--fill-color);\n",
              "    }\n",
              "    80% {\n",
              "      border-color: transparent;\n",
              "      border-right-color: var(--fill-color);\n",
              "      border-bottom-color: var(--fill-color);\n",
              "    }\n",
              "    90% {\n",
              "      border-color: transparent;\n",
              "      border-bottom-color: var(--fill-color);\n",
              "    }\n",
              "  }\n",
              "</style>\n",
              "\n",
              "  <script>\n",
              "    async function quickchart(key) {\n",
              "      const quickchartButtonEl =\n",
              "        document.querySelector('#' + key + ' button');\n",
              "      quickchartButtonEl.disabled = true;  // To prevent multiple clicks.\n",
              "      quickchartButtonEl.classList.add('colab-df-spinner');\n",
              "      try {\n",
              "        const charts = await google.colab.kernel.invokeFunction(\n",
              "            'suggestCharts', [key], {});\n",
              "      } catch (error) {\n",
              "        console.error('Error during call to suggestCharts:', error);\n",
              "      }\n",
              "      quickchartButtonEl.classList.remove('colab-df-spinner');\n",
              "      quickchartButtonEl.classList.add('colab-df-quickchart-complete');\n",
              "    }\n",
              "    (() => {\n",
              "      let quickchartButtonEl =\n",
              "        document.querySelector('#df-7b29baae-cc18-4f44-8964-9bfd1bdce6f7 button');\n",
              "      quickchartButtonEl.style.display =\n",
              "        google.colab.kernel.accessAllowed ? 'block' : 'none';\n",
              "    })();\n",
              "  </script>\n",
              "</div>\n",
              "\n",
              "    </div>\n",
              "  </div>\n"
            ],
            "application/vnd.google.colaboratory.intrinsic+json": {
              "type": "dataframe",
              "variable_name": "df_preprocessed",
              "summary": "{\n  \"name\": \"df_preprocessed\",\n  \"rows\": 2386,\n  \"fields\": [\n    {\n      \"column\": \"Enlaces\",\n      \"properties\": {\n        \"dtype\": \"string\",\n        \"num_unique_values\": 2386,\n        \"samples\": [\n          \"https://www.eltiempo.com/justicia/delitos/informe-sobre-violencia-sexual-en-la-guerra-en-colombia-155268\",\n          \"https://www.eltiempo.com/deportes/futbol-internacional/mojica-y-espinosa-dos-sorpresas-en-la-recta-final-hacia-el-mundial-195568\",\n          \"https://www.eltiempo.com/economia/empresas/avianca-brasil-de-german-efromovich-dejara-de-operar-21-rutas-342094\"\n        ],\n        \"semantic_type\": \"\",\n        \"description\": \"\"\n      }\n    },\n    {\n      \"column\": \"T\\u00edtulo\",\n      \"properties\": {\n        \"dtype\": \"string\",\n        \"num_unique_values\": 2384,\n        \"samples\": [\n          \"Un crimen en el que la impunidad es de 90 %\",\n          \"No se han encontrado indicios sobreviolaci\\u00f3n de soberan\\u00eda venezolana\",\n          \"Avianca demanda a socio minoritario que se opone a alianza con United\"\n        ],\n        \"semantic_type\": \"\",\n        \"description\": \"\"\n      }\n    },\n    {\n      \"column\": \"info\",\n      \"properties\": {\n        \"dtype\": \"string\",\n        \"num_unique_values\": 2384,\n        \"samples\": [\n          \"Entrevista con\\u00a0Roc\\u00edo Mart\\u00ednez Montoya, investigadora del informe \\u2018La guerra inscrita en el cuerpo\\u2019.\",\n          \"Ministro de Defensa afirm\\u00f3 que por el momento no tiene razones para informar del hecho a Canciller\",\n          \"La aerol\\u00ednea interpuso dos recursos contra la familia Kriete ante una corte de Nueva York.\"\n        ],\n        \"semantic_type\": \"\",\n        \"description\": \"\"\n      }\n    },\n    {\n      \"column\": \"contenido\",\n      \"properties\": {\n        \"dtype\": \"string\",\n        \"num_unique_values\": 2385,\n        \"samples\": [\n          \"Helena, una campesina del sur del Tolima, uno de los enclaves hist\\u00f3ricos de las Farc, logr\\u00f3 salvar a sus hijos de 10, 14 y 15 a\\u00f1os de ser reclutados por esa guerrilla. Eso ocurri\\u00f3 hace siete a\\u00f1os, en el 2010. Guerrilleros del frente 21 le mandaron raz\\u00f3n de que preparara a los muchachos porque \\u201ciban a pasar por ellos\\u201d, y ese mismo d\\u00eda ella decidi\\u00f3 sacarlos de la vereda escondidos, entre guacales, en un carro de venta de bananos. \\u201cAll\\u00e1, en cada vereda, en cada finca, a usted le dicen: \\u2018Tiene dos o tres hijos, y a medida que vayan creciendo, de los 10 a\\u00f1os en adelante, se los van llevando\\u2019. Y si usted habla o algo, es peor: lo matan. La ley es que todo el mundo va a engrosar la fila de la guerrilla\\u201d, cont\\u00f3 la mujer. Pero la valent\\u00eda para defender a sus hijos termin\\u00f3 por convertirla en v\\u00edctima de violencia sexual. \\u201cLes dec\\u00eda que yo por mis hijos me hago matar. Fueron a mi casa a las 9 de la noche. Me ataron las manos atr\\u00e1s. Me llevaron al \\u2018Rinc\\u00f3n de la muerte\\u2019 (en inmediaciones de la quebrada La Catalina, donde los grupos armados asesinaron a varias personas)\\u201d. All\\u00e1 estaba \\u2018Agust\\u00edn\\u2019, el jefe del frente 21, que muri\\u00f3 en combate con el Ej\\u00e9rcito en el 2012: \\u201c\\u00c9l me viol\\u00f3 y les dijo a los otros: \\u2018Cada uno haga lo que quiera con ella, tenemos cinco horas para hacer todo lo que quieran\\u2019 \\u201d. Testimonios como el de Helena fueron recogidos por el Centro Nacional de Memoria Hist\\u00f3rica en el informe \\u2018La guerra inscrita en el cuerpo\\u2019, revelado esta semana y que reconstruye c\\u00f3mo todos los grupos armados y muchos agentes del Estado utilizaron la violencia sexual en medio del conflicto armado . La investigaci\\u00f3n tiene casos desde 1959 y su macabro balance \\u2013que claramente es inferior a la realidad, porque muchas v\\u00edctimas temen denunciar incluso hoy\\u2013 es que al menos 15.000 ni\\u00f1as y mujeres, pero tambi\\u00e9n muchos ni\\u00f1os y adolescentes, fueron violados por los actores de la guerra. La mayor\\u00eda de los casos no tiene un responsable identificado. Pero el documento, de 550 p\\u00e1ginas, encontr\\u00f3 que los grupos paramilitares fueron se\\u00f1alados por 4.837 v\\u00edctimas; las guerrillas de las Farc, el Eln y el Erg, por 4.722, y los agentes del Estado, por al menos 206. El Centro Nacional de Memoria Hist\\u00f3rica acudi\\u00f3 a expedientes judiciales y a testimonios directos para retratar las pr\\u00e1cticas de sometimiento. Muchas de ellas han sido documentadas y ampliamente recogidas en la \\u00faltima d\\u00e9cada, gracias a las confesiones de paramilitares desmovilizados ante la jurisdicci\\u00f3n de Justicia y Paz y, sobre todo, a la valent\\u00eda de centenares de v\\u00edctimas que se atrevieron a romper el miedo y la impunidad. En cuanto a las guerrillas, la violencia sexual fue ejercida tanto contra las comunidades de sus zonas de influencia como contra las ni\\u00f1as y adolescentes reclutadas. La plena confesi\\u00f3n sobre esas pr\\u00e1cticas ser\\u00e1 una de las pruebas de fuego sobre el real compromiso de los desmovilizados ante la nueva Jurisdicci\\u00f3n Especial para la Paz (JEP), pues la verdad y la reparaci\\u00f3n a las v\\u00edctimas son parte de las condiciones para acceder a penas alternativas. Esta semana, de hecho, caus\\u00f3 revuelo el se\\u00f1alamiento directo contra \\u2018Ra\\u00fal Reyes\\u2019, uno de los \\u00edconos de las Farc, quien, como lo revel\\u00f3 EL TIEMPO, fue acusado por mujeres de su escolta \\u2013que fueron elegidas por \\u00e9l cuando contaban apenas con 10 u 11 a\\u00f1os\\u2013 de abusar sistem\\u00e1ticamente de ellas. En sus estatutos, las Farc castigan incluso con la muerte las violaciones y otro tipo de abusos sexuales. Lo que las v\\u00edctimas denuncian es que si bien esto pod\\u00eda regir para los mandos medios o los combatientes rasos, rara vez aplicaba para los jefes de frente y menos para hombres tan poderosos en la organizaci\\u00f3n como \\u2018Reyes\\u2019, cuya muerte en un bombardeo de la Fuerza A\\u00e9rea marc\\u00f3 en el 2008 el declive militar de las Farc. \\u201cA \\u00e9l le gustaba cogerlo a uno para escolta, siempre ten\\u00eda muchachas as\\u00ed y despu\\u00e9s abusaba de uno, a \\u00e9l le gustaba abusar de las muchachas que llevaba\\u201d, dijo Gina, quien fue su guardaespaldas durante 16 a\\u00f1os. El informe se\\u00f1ala que algunos frentes tambi\\u00e9n usaron la violaci\\u00f3n para castigar a quienes se negaban a pagar las vacunas. En el 2006, Yuliana, de 40 a\\u00f1os y con nueve meses de embarazo, fue atacada por guerrilleros del frente 32 en el Huila. La violaron en frente de su esposo. \\u201cLlegaron hombres comandados por \\u2018Joaqu\\u00edn\\u2019 y yo les dije que qu\\u00e9 pasaba, si ellos sab\\u00edan que nosotros les pag\\u00e1bamos, que nosotros \\u00e9ramos gente de bien, que me dieran una explicaci\\u00f3n (...). \\u00c9l (Joaqu\\u00edn) y otros dos abusaron de m\\u00ed. Mi esposo lloraba de ver lo que me estaban haciendo\\u201d, narr\\u00f3 la mujer. \\u201cA las mujeres les recuerdan la cuota que deben sus parejas con violencia sexual, o les cobran parte de la cuota o de los intereses de esta forma. Donde hay extorsiones a los comerciantes, suele existir violencia sexual hacia sus esposas para que recuerden que no deben dejar de pagar la cuota\\u201d, dice el informe. En Meta y Buenaventura se encontr\\u00f3 que las Farc \\u201cutilizaron t\\u00e9cnicas de control moral sobre las mujeres y las comunidades con el prop\\u00f3sito de regular la vida cotidiana de la poblaci\\u00f3n y establecer un control de g\\u00e9nero\\u201d. Tambi\\u00e9n buscaban \\u201cproclamarse como la \\u00fanica autoridad capaz de hacer uso de la fuerza en el territorio\\u201d. \\u201cEllos ten\\u00edan sus leyes y castigaban, y a quienes no cumpl\\u00edan sus leyes los mataban\\u201d, dijo una mujer durante un taller de reconstrucci\\u00f3n de memoria. \\u201cParamilitares y guerrillas establecieron, cada uno, sus propias pautas de comportamiento, nociones frente al delito; regularon la vida afectiva, los ritmos y espacios cotidianos, la vida social, la sexualidad, los espacios de divertimento y las formas de llevar y conducir los cuerpos\\u201d, se\\u00f1alan los investigadores del Centro Nacional de Memoria Hist\\u00f3rica. En el 2009, en Nari\\u00f1o, una lesbiana fue v\\u00edctima de guerrilleros porque decidi\\u00f3 vivir abiertamente con su pareja. Una noche su casa fue asaltada. A las dos las violaron y a su compa\\u00f1era la desaparecieron. \\u201cLos paramilitares y las guerrillas tuvieron el af\\u00e1n de \\u2018limpiar\\u2019 de sus territorios a aquellos cuerpos que representaban contaminaci\\u00f3n, desviaci\\u00f3n, inmoralidad y enfermedades\\u201d, advierte el documento. Este resalta tambi\\u00e9n los casos de ni\\u00f1as que fueron reclutadas y, despu\\u00e9s, v\\u00edctimas de abuso. Rosa, que fue guerrillera en el Meta, cont\\u00f3 que fue reclutada por las Farc junto con sus dos primas, de 9 y 10 a\\u00f1os, en los a\\u00f1os 80. \\u201cHac\\u00edan dos filas, las que eran v\\u00edrgenes y las que no. Los que comandaban ten\\u00edan relaciones con las ni\\u00f1as v\\u00edrgenes. Y ya los dem\\u00e1s compa\\u00f1eros eran los que abusaban de otras muchachas. Pero siempre las v\\u00edrgenes pasaban por la cabeza mayor\\u201d, afirm\\u00f3. \\u201cLa relaci\\u00f3n entre reclutamiento de ni\\u00f1as y adolescentes y violencia sexual en el interior de las Farc fue com\\u00fan. Se repitieron y recrudecieron en las filas discursos que situaban los cuerpos de las ni\\u00f1as como cuerpos-premio para los altos comandantes\\u201d, se\\u00f1ala el informe. Pero esa pr\\u00e1ctica se daba en todos los actores armados. Neyit, excombatiente de la guerrilla del Eln, fue reclutada a los 15 a\\u00f1os y a los dos d\\u00edas la violaron: \\u201cReclutaban y hac\\u00edan lo que quisieran con las muchachas. El que me reclut\\u00f3 lleg\\u00f3 a mi habitaci\\u00f3n y me quiso besar, y no lo dej\\u00e9. Luego vino con dos muchachos, uno me agarr\\u00f3 las manos y otro los pies, y \\u00e9l me iba quitando la ropa\\u201d. Para evitar ser atacada por otros, la joven termin\\u00f3 como pareja del violador, que ten\\u00eda mando en la tropa. Yurani, quien form\\u00f3 parte de las Farc en el suroriente del pa\\u00eds, cont\\u00f3 que tuvo tres abortos forzados. En las tres ocasiones quiso tener el beb\\u00e9 ocultando su estado, pero siempre fue descubierta y sancionada. La \\u00faltima vez ten\\u00eda ocho meses de embarazo. \\u201cCuando eso todav\\u00eda estaba vivo el \\u2018Mono Jojoy\\u2019. \\u00c9l dijo: \\u2018H\\u00e1gale el aborto\\u2019, y al otro d\\u00eda madrugaron a meterme la pasta esa para hacerme un legrado\\u201d, narr\\u00f3. Con estos testimonios, el informe rese\\u00f1a que las decisiones sobre los cuerpos de las mujeres estaban en poder de los comandantes. En las Farc y en los otros grupos, dice el Centro Nacional de Memoria Hist\\u00f3rica, las combatientes fueron obligadas a pr\\u00e1cticas de anticoncepci\\u00f3n, aborto y esterilizaci\\u00f3n forzada. \\u201cDicha renuncia obligada a la maternidad se configura como un reflejo m\\u00e1s del ejercicio de entrenamiento y acondicionamiento del cuerpo femenino a la guerra: un cuerpo masculinizado \\u2013se\\u00f1ala el documento\\u2013. Las ni\\u00f1as y mujeres son sujetas a controles sanitarios constantes, verificaci\\u00f3n y vigilancia sobre los ciclos menstruales y vigilancia sobre las relaciones sexuales que establecen las mujeres y con qui\\u00e9nes lo hacen\\u201d. Algunas de sus compa\\u00f1eras, seg\\u00fan Yurani, murieron despu\\u00e9s de practicarles abortos forzados. \\u201cEn el Yar\\u00ed hubo una muchacha que se llamaba Dayana y le dec\\u00edan la \\u2018Charuza\\u2019. A ella le practicaron el aborto y a los dos d\\u00edas muri\\u00f3 desangrada\\u201d, cont\\u00f3. Estos casos, dice el informe, se suman a las 21 muertes en similares condiciones que document\\u00f3 Justicia y Paz contra el Ej\\u00e9rcito Revolucionario Guevarista (Erg). El desgarrador informe advierte tambi\\u00e9n sobre los abusos perpetrados por el bando contrario. Un exparamilitar de las Autodefensas Campesinas del Casanare cont\\u00f3 que cuando las guerrilleras se dejaban \\u201ccoger vivas\\u201d eran v\\u00edctimas de torturas y violencia sexual. \\u201cS\\u00ed, era guerrillera, pero no ten\\u00edan derecho de violarla tantos manes, pasaron como unos 25 por encima de ella y la mataron a cuchillo\\u201d, confes\\u00f3. Magaly, exintegrante de las Farc, cont\\u00f3 que su prima, tambi\\u00e9n de la guerrilla, fue violada por el Ej\\u00e9rcito en un combate en el 2004: \\u201cLe echaron \\u00e1cido en la cara despu\\u00e9s de violada; yo estaba escondida y vi todo, y me daban rabia las cosas que le dec\\u00edan. Ellos le dec\\u00edan que por ser el Ej\\u00e9rcito pod\\u00edan violar y asesinar como si nada\\u201d. Como ya se conoce, los paramilitares utilizaron la violencia sexual como m\\u00e9todo de terror en las zonas a las que iban llegando. Pero no solo ocurr\\u00eda en la etapa de incursi\\u00f3n. Ya establecidos en las zonas, numerosos jefes se convirtieron en depredadores sexuales contra las comunidades que estaban en sus \\u00e1reas de influencia. El caso m\\u00e1s conocido es el de Hern\\u00e1n Giraldo, capo del cartel de Medell\\u00edn que termin\\u00f3 como jefe paramilitar de Magdalena. \\u201cEl se\\u00f1or (Hern\\u00e1n Giraldo) solo violaba ni\\u00f1as menores de 15 a\\u00f1os. Para \\u00e9l, y lo dijo p\\u00fablicamente en la audiencia, para \\u00e9l una mujer de 20 a\\u00f1os era una anciana. Las ten\\u00eda una semana y luego las devolv\\u00eda\\u201d, cont\\u00f3 una l\\u00edder de la zona rural de Santa Marta. Incluso, denunci\\u00f3 que estando preso (antes de ser extraditado a Estados Unidos) le llevaban menores de edad. En las goteras de Santa Marta, los paramilitares ten\\u00edan la pr\\u00e1ctica de quitar la luz en las noches para perpetrar sus ataques sexuales. Irrump\\u00edan en las casas y forzaban a familias enteras. Tambi\\u00e9n se documentaron casos de esterilizaci\\u00f3n forzada practicada en hospitales p\\u00fablicos. \\u201cNos mandaban a \\u2018capar\\u2019 para que no tuvi\\u00e9ramos hijos, y esto lo hicieron en el hospital. Era algo tan inhumano, llegaban con lista en mano\\u201d, dijo una de las mujeres afectadas. En Valle y Santander se documentaron casos de paramilitares que buscaban a sus v\\u00edctimas entre las ni\\u00f1as de las escuelas, como lo se\\u00f1al\\u00f3 la hist\\u00f3rica sentencia contra el bloque Central Bol\\u00edvar por casi 3.000 cr\\u00edmenes, entre ellos 1.013 de violencia sexual. Como ocurri\\u00f3 con Helena, a Esperanza la violaron por evitar que uno de sus peque\\u00f1os hijos fuera utilizado por paramilitares del bloque Cacique Nutibara para mover armas. Ocurri\\u00f3 en diciembre del 2002 en Medell\\u00edn. Ella decidi\\u00f3 mandar a los ni\\u00f1os a casa de su hermana, metidos en un armario del trasteo de una vecina. Cuando los \\u2018paras\\u2019 fueron a buscar al muchacho, la reacci\\u00f3n fue salvaje. \\u201cEntraron cuatro de ellos, cerraron la puerta, me tiraron a la cama, me amarraron de pies y manos, me da\\u00f1aron mi pijama y abusaron de m\\u00ed toda la noche\\u201d, relat\\u00f3 la mujer. El Centro de Memoria Hist\\u00f3rica recomienda a los gobiernos departamentales y municipales, a la academia y a las organizaciones sociales realizar investigaciones que contribuyan a la comprensi\\u00f3n de las variaciones locales de la violencia sexual, con el fin de conocer las condiciones que, en cada caso, han permitido su emergencia. Mary Luz L\\u00f3pez Mi mayor motivaci\\u00f3n es estar viva, respirar, saber que no me mataron, que mientras yo est\\u00e9 viva las letras hablar\\u00e1n por m\\u00ed y por otras mujeres. E scribo cuentos y poes\\u00eda para sacar el dolor. La escritura pasa por el coraz\\u00f3n, por el cuerpo y remueve muchas cosas. Uno tiene un talento escondido y el m\\u00edo es la escritura; eso me ha ayudado bastante. Yo creo que lo que lo mueve a uno es el amor, esa fortaleza y esa resiliencia que hay en uno para no quedarse postrado. Por eso hoy les digo a las mujeres que dejen el miedo, el miedo no viene detr\\u00e1s de uno, no callen. Sandra Gonz\\u00e1lez Mi principal motivaci\\u00f3n para seguir viva y seguir adelante, son mis hijos y mi familia. Cuando uno empieza a hablar, crea una conciencia con las otras mujeres que nunca han hablado, ellas se identifican con mi historia y dicen, a m\\u00ed tambi\\u00e9n me pas\\u00f3. Yo soy la voz de las mujeres que no tienen voz, soy la voz de las mujeres que han muerto. Ojal\\u00e1 que todo el mundo se entere de que esto pasa en Colombia y ojal\\u00e1 que el Estado lo reconozca. Ilda Osorio Mi prioridad y motivaci\\u00f3n son el resto de mujeres que han sufrido la misma violencia que yo. Porque s\\u00e9 lo que se siente, s\\u00e9 lo que duele, y s\\u00e9 la vida tan sucia que uno siente que lleva. El mensaje para las mujeres v\\u00edctimas es que escuchen la voz de esta experiencia que sufri\\u00f3 en carne propia la guerra en su propio cuerpo. S i 10 veces les cierran la puerta, hay que tocarla 50 veces, hasta que la abran. Para que los due\\u00f1os de esta guerra tambi\\u00e9n sean due\\u00f1os de esta verg\\u00fcenza, de esta culpa que nosotras no tenemos. Tulia Lozano En medio de una guerra nuestros cuerpos han sido botines de guerra. Nosotras no somos las culpables. No tenemos por qu\\u00e9 callar algo que nunca debi\\u00f3 haber sucedido. Hay que ir superando, ir saliendo, ir luchando por nuestros derechos, nosotras fuimos las m\\u00e1s damnificadas en esta guerra y por eso tenemos razones para seguir paradas luchando, as\\u00ed nos amenacen por hacerlo. JUSTICIA justicia@eltiempo.com @JusticiaET Miedo 11:19 p.m. Ejercite su mente en la cuarentena con este test de l\\u00f3gica matem\\u00e1tica Ponga a prueba esas clases de matem\\u00e1ticas del colegio y de la vida par ... Manizales 10:00 p.m. Ya se venden medicamentos de cannabis con f\\u00f3rmula m\\u00e9dica En farmacias especializadas de Colombia es posible acceder a medicamen ... Manizales 10:00 p.m. El gu\\u00eda de la salud mental del pueblo con m\\u00e1s casos de bipolaridad Coronavirus en Colombia 09:31 p.m. Una cabina de desinfecci\\u00f3n manual para Barranquilla Valle del Cauca 07:50 p.m. Se han recogido cerca de 132 mil mercados en 'Donat\\u00f3n Valle Solidario'\",\n          \"Por el homicidio de cuatro mineros en Remedios, Antioquia, y por financiar grupos armados ilegales en el noreste de ese departamento, un juez sentenci\\u00f3 a 55 a\\u00f1os de c\\u00e1rcel a Jairo Hugo Escobar Cata\\u00f1o, conocido como el Zar del Oro. El 20 de diciembre de 2011 los mineros Johan Esteban Pareja Avenda\\u00f1o, Jaime Nicol\\u00e1s Jim\\u00e9nez, y los hermanos Yeison Andr\\u00e9s y Wilmar Alberto Taborda Jim\\u00e9nez, a quienes se les conoc\\u00eda como los serafines, fueron citados a una supuesta reuni\\u00f3n en la finca La T\\u00eda ubicada en la vereda La Roca, donde fueron asesinados por una estructura criminal. La Fiscal\\u00eda estableci\\u00f3 adem\\u00e1s que por el crimen se pagaron 800 millones de pesos. De acuerdo con las investigaciones, el homicidio estar\\u00eda relacionado con un atentado del que Escobar sali\\u00f3 ileso en el el 2011, y con la negativa de los mineros de vender un yacimiento aur\\u00edfero del que eran copropietarios. Los investigadores determinaron tambi\\u00e9n que Escobar Cata\\u00f1o aportaba considerables sumas de dinero para el pago de n\\u00f3mina de una organizaci\\u00f3n delincuencial conocida como \\u2018Seguridad H\\u00e9roes del Nordeste\\u2019. Escobar no es el \\u00fanico \\u2018zar\\u2019 del metal dorado . John \\u00daber Hern\\u00e1ndez , cabeza de la firma G\\u00f3ldex, lleg\\u00f3 a ser uno de los principales fundidores del pa\\u00eds, por lo que tambi\\u00e9n se gan\\u00f3 ese apelativo. Es se\\u00f1alado de haber lavado 2,3 billones de pesos a trav\\u00e9s de la firma.\\u00a0A pesar de la gravedad de los cargos, inexplicablemente qued\\u00f3 libre por vencimiento de t\\u00e9rminos. JUSTICIA Miedo 11:19 p.m. Ejercite su mente en la cuarentena con este test de l\\u00f3gica matem\\u00e1tica Ponga a prueba esas clases de matem\\u00e1ticas del colegio y de la vida par ... Manizales 10:00 p.m. Ya se venden medicamentos de cannabis con f\\u00f3rmula m\\u00e9dica En farmacias especializadas de Colombia es posible acceder a medicamen ... Manizales 10:00 p.m. El gu\\u00eda de la salud mental del pueblo con m\\u00e1s casos de bipolaridad Coronavirus en Colombia 09:31 p.m. Una cabina de desinfecci\\u00f3n manual para Barranquilla Valle del Cauca 07:50 p.m. Se han recogido cerca de 132 mil mercados en 'Donat\\u00f3n Valle Solidario'\",\n          \"Avianca  Brasil, la cuarta mayor compa\\u00f1\\u00eda a\\u00e9rea del pa\\u00eds y que en diciembre se acogi\\u00f3 a la ley de bancarrota, dejar\\u00e1 de volar 21 rutas en abril y cerrar\\u00e1 tres bases de operaciones, seg\\u00fan inform\\u00f3 este martes la empresa. En un comunicado, Avianca Brasil, nombre comercial bajo el cual opera la empresa Ocean Air,  indic\\u00f3 que la decisi\\u00f3n forma parte del \\\"plan de recuperaci\\u00f3n judicial\\\" con el que est\\u00e1 \\\"readecuando progresivamente\\\" sus operaciones para reducir el tama\\u00f1o de la flota y alcanzar el \\\"objetivo\\\" de operar 23 rutas, de las 53 que tiene en la actualidad, solo con 26 aviones. Las tres bases operacionales que cerrar\\u00e1 definitivamente la compa\\u00f1\\u00eda son las del aeropuerto internacional de Galeao, en R\\u00edo de Janeiro; la de Petrolina (Pernambuco, noreste) y la de Belem, capital del amaz\\u00f3nico estado de Par\\u00e1. Al dejar de operar 21 rutas, las 32 restantes, calificadas como \\\"estrat\\u00e9gicas\\\", se mantendr\\u00e1n \\\"normalmente\\\" y \\\"dentro del cronograma previsto\\\". De las 21 rutas que ser\\u00e1n canceladas, dos tienen destino internacional con vuelos a Bogot\\u00e1 partiendo desde Fortaleza y Salvador, ambas en el noreste del pa\\u00eds. Con la cancelaci\\u00f3n de las rutas del Galeao, la ciudad m\\u00e1s afectada con la decisi\\u00f3n fue la capital Brasilia, que perder\\u00e1 el vuelo con el mayor aeropuerto de R\\u00edo de Janeiro y su conexi\\u00f3n directa con Cuiab\\u00e1 (oeste) y Fortaleza, Salvador y Macei\\u00f3 (noreste). La aerol\\u00ednea brasile\\u00f1a se acogi\\u00f3 en diciembre pasado a la ley de quiebras para garantizar la continuidad de sus operaciones y la sustentabilidad de su negocio, as\\u00ed como para reestructurar una elevada deuda que le acarre\\u00f3 varias demandas en los tribunales. El pasado 11 de marzo, la aerol\\u00ednea brasile\\u00f1a de bajo coste Azul, la tercera mayor compa\\u00f1\\u00eda a\\u00e9rea del pa\\u00eds, anunci\\u00f3 que firm\\u00f3 un acuerdo de intenci\\u00f3n por 105 millones de d\\u00f3lares para adquirir parte de los activos de  Avianca  Brasil. Entre esos activos est\\u00e1n el certificado de operador a\\u00e9reo de Avianca  Brasil, setenta pares de \\\"slots\\\" -como se conoce a los derechos de despegar y aterrizar en aeropuertos congestionados- y aproximadamente treinta aeronaves Airbus A320. Avianca  Brasil opera vuelos regulares desde el 2002 y en enero pasado anunci\\u00f3 el recorte de sus vuelos internacionales directos desde Guarulhos, que opera para Sao Paulo, a las ciudades de Santiago de Chile, Nueva York y Miami. OceanAir es una compa\\u00f1\\u00eda independiente de Avianca Holdings S.A. y utiliza comercialmente el nombre de \\\"Avianca  Brasil\\\", en virtud de un acuerdo de licencia de uso de nombre que celebr\\u00f3 con Aerov\\u00edas del Continente Americano S.A, con sede en Colombia. EFE Miedo 11:19 p.m. Ejercite su mente en la cuarentena con este test de l\\u00f3gica matem\\u00e1tica Ponga a prueba esas clases de matem\\u00e1ticas del colegio y de la vida par ... Manizales 10:00 p.m. Ya se venden medicamentos de cannabis con f\\u00f3rmula m\\u00e9dica En farmacias especializadas de Colombia es posible acceder a medicamen ... Manizales 10:00 p.m. El gu\\u00eda de la salud mental del pueblo con m\\u00e1s casos de bipolaridad Coronavirus en Colombia 09:31 p.m. Una cabina de desinfecci\\u00f3n manual para Barranquilla Valle del Cauca 07:50 p.m. Se han recogido cerca de 132 mil mercados en 'Donat\\u00f3n Valle Solidario'\"\n        ],\n        \"semantic_type\": \"\",\n        \"description\": \"\"\n      }\n    },\n    {\n      \"column\": \"Etiqueta\",\n      \"properties\": {\n        \"dtype\": \"category\",\n        \"num_unique_values\": 7,\n        \"samples\": [\n          \"cultura\",\n          \"deportes\",\n          \"salud\"\n        ],\n        \"semantic_type\": \"\",\n        \"description\": \"\"\n      }\n    },\n    {\n      \"column\": \"unified_text\",\n      \"properties\": {\n        \"dtype\": \"string\",\n        \"num_unique_values\": 2385,\n        \"samples\": [\n          \"T\\u00edtulo: Informe devela 57 a\\u00f1os de violencia sexual en la guerra. Resumen: El documento 'La guerra inscrita en el cuerpo\\u2019 muestra la magnitud de ese crimen en el pa\\u00eds.. Contenido: Helena, una campesina del sur del Tolima, uno de los enclaves hist\\u00f3ricos de las Farc, logr\\u00f3 salvar a sus hijos de 10, 14 y 15 a\\u00f1os de ser reclutados por esa guerrilla. Eso ocurri\\u00f3 hace siete a\\u00f1os, en el 2010. Guerrilleros del frente 21 le mandaron raz\\u00f3n de que preparara a los muchachos porque \\u201ciban a pasar por ellos\\u201d, y ese mismo d\\u00eda ella decidi\\u00f3 sacarlos de la vereda escondidos, entre guacales, en un carro de venta de bananos. \\u201cAll\\u00e1, en cada vereda, en cada finca, a usted le dicen: \\u2018Tiene dos o tres hijos, y a medida que vayan creciendo, de los 10 a\\u00f1os en adelante, se los van llevando\\u2019. Y si usted habla o algo, es peor: lo matan. La ley es que todo el mundo va a engrosar la fila de la guerrilla\\u201d, cont\\u00f3 la mujer. Pero la valent\\u00eda para defender a sus hijos termin\\u00f3 por convertirla en v\\u00edctima de violencia sexual. \\u201cLes dec\\u00eda que yo por mis hijos me hago matar. Fueron a mi casa a las 9 de la noche. Me ataron las manos atr\\u00e1s. Me llevaron al \\u2018Rinc\\u00f3n de la muerte\\u2019 (en inmediaciones de la quebrada La Catalina, donde los grupos armados asesinaron a varias personas)\\u201d. All\\u00e1 estaba \\u2018Agust\\u00edn\\u2019, el jefe del frente 21, que muri\\u00f3 en combate con el Ej\\u00e9rcito en el 2012: \\u201c\\u00c9l me viol\\u00f3 y les dijo a los otros: \\u2018Cada uno haga lo que quiera con ella, tenemos cinco horas para hacer todo lo que quieran\\u2019 \\u201d. Testimonios como el de Helena fueron recogidos por el Centro Nacional de Memoria Hist\\u00f3rica en el informe \\u2018La guerra inscrita en el cuerpo\\u2019, revelado esta semana y que reconstruye c\\u00f3mo todos los grupos armados y muchos agentes del Estado utilizaron la violencia sexual en medio del conflicto armado . La investigaci\\u00f3n tiene casos desde 1959 y su macabro balance \\u2013que claramente es inferior a la realidad, porque muchas v\\u00edctimas temen denunciar incluso hoy\\u2013 es que al menos 15.000 ni\\u00f1as y mujeres, pero tambi\\u00e9n muchos ni\\u00f1os y adolescentes, fueron violados por los actores de la guerra. La mayor\\u00eda de los casos no tiene un responsable identificado. Pero el documento, de 550 p\\u00e1ginas, encontr\\u00f3 que los grupos paramilitares fueron se\\u00f1alados por 4.837 v\\u00edctimas; las guerrillas de las Farc, el Eln y el Erg, por 4.722, y los agentes del Estado, por al menos 206. El Centro Nacional de Memoria Hist\\u00f3rica acudi\\u00f3 a expedientes judiciales y a testimonios directos para retratar las pr\\u00e1cticas de sometimiento. Muchas de ellas han sido documentadas y ampliamente recogidas en la \\u00faltima d\\u00e9cada, gracias a las confesiones de paramilitares desmovilizados ante la jurisdicci\\u00f3n de Justicia y Paz y, sobre todo, a la valent\\u00eda de centenares de v\\u00edctimas que se atrevieron a romper el miedo y la impunidad. En cuanto a las guerrillas, la violencia sexual fue ejercida tanto contra las comunidades de sus zonas de influencia como contra las ni\\u00f1as y adolescentes reclutadas. La plena confesi\\u00f3n sobre esas pr\\u00e1cticas ser\\u00e1 una de las pruebas de fuego sobre el real compromiso de los desmovilizados ante la nueva Jurisdicci\\u00f3n Especial para la Paz (JEP), pues la verdad y la reparaci\\u00f3n a las v\\u00edctimas son parte de las condiciones para acceder a penas alternativas. Esta semana, de hecho, caus\\u00f3 revuelo el se\\u00f1alamiento directo contra \\u2018Ra\\u00fal Reyes\\u2019, uno de los \\u00edconos de las Farc, quien, como lo revel\\u00f3 EL TIEMPO, fue acusado por mujeres de su escolta \\u2013que fueron elegidas por \\u00e9l cuando contaban apenas con 10 u 11 a\\u00f1os\\u2013 de abusar sistem\\u00e1ticamente de ellas. En sus estatutos, las Farc castigan incluso con la muerte las violaciones y otro tipo de abusos sexuales. Lo que las v\\u00edctimas denuncian es que si bien esto pod\\u00eda regir para los mandos medios o los combatientes rasos, rara vez aplicaba para los jefes de frente y menos para hombres tan poderosos en la organizaci\\u00f3n como \\u2018Reyes\\u2019, cuya muerte en un bombardeo de la Fuerza A\\u00e9rea marc\\u00f3 en el 2008 el declive militar de las Farc. \\u201cA \\u00e9l le gustaba cogerlo a uno para escolta, siempre ten\\u00eda muchachas as\\u00ed y despu\\u00e9s abusaba de uno, a \\u00e9l le gustaba abusar de las muchachas que llevaba\\u201d, dijo Gina, quien fue su guardaespaldas durante 16 a\\u00f1os. El informe se\\u00f1ala que algunos frentes tambi\\u00e9n usaron la violaci\\u00f3n para castigar a quienes se negaban a pagar las vacunas. En el 2006, Yuliana, de 40 a\\u00f1os y con nueve meses de embarazo, fue atacada por guerrilleros del frente 32 en el Huila. La violaron en frente de su esposo. \\u201cLlegaron hombres comandados por \\u2018Joaqu\\u00edn\\u2019 y yo les dije que qu\\u00e9 pasaba, si ellos sab\\u00edan que nosotros les pag\\u00e1bamos, que nosotros \\u00e9ramos gente de bien, que me dieran una explicaci\\u00f3n (...). \\u00c9l (Joaqu\\u00edn) y otros dos abusaron de m\\u00ed. Mi esposo lloraba de ver lo que me estaban haciendo\\u201d, narr\\u00f3 la mujer. \\u201cA las mujeres les recuerdan la cuota que deben sus parejas con violencia sexual, o les cobran parte de la cuota o de los intereses de esta forma. Donde hay extorsiones a los comerciantes, suele existir violencia sexual hacia sus esposas para que recuerden que no deben dejar de pagar la cuota\\u201d, dice el informe. En Meta y Buenaventura se encontr\\u00f3 que las Farc \\u201cutilizaron t\\u00e9cnicas de control moral sobre las mujeres y las comunidades con el prop\\u00f3sito de regular la vida cotidiana de la poblaci\\u00f3n y establecer un control de g\\u00e9nero\\u201d. Tambi\\u00e9n buscaban \\u201cproclamarse como la \\u00fanica autoridad capaz de hacer uso de la fuerza en el territorio\\u201d. \\u201cEllos ten\\u00edan sus leyes y castigaban, y a quienes no cumpl\\u00edan sus leyes los mataban\\u201d, dijo una mujer durante un taller de reconstrucci\\u00f3n de memoria. \\u201cParamilitares y guerrillas establecieron, cada uno, sus propias pautas de comportamiento, nociones frente al delito; regularon la vida afectiva, los ritmos y espacios cotidianos, la vida social, la sexualidad, los espacios de divertimento y las formas de llevar y conducir los cuerpos\\u201d, se\\u00f1alan los investigadores del Centro Nacional de Memoria Hist\\u00f3rica. En el 2009, en Nari\\u00f1o, una lesbiana fue v\\u00edctima de guerrilleros porque decidi\\u00f3 vivir abiertamente con su pareja. Una noche su casa fue asaltada. A las dos las violaron y a su compa\\u00f1era la desaparecieron. \\u201cLos paramilitares y las guerrillas tuvieron el af\\u00e1n de \\u2018limpiar\\u2019 de sus territorios a aquellos cuerpos que representaban contaminaci\\u00f3n, desviaci\\u00f3n, inmoralidad y enfermedades\\u201d, advierte el documento. Este resalta tambi\\u00e9n los casos de ni\\u00f1as que fueron reclutadas y, despu\\u00e9s, v\\u00edctimas de abuso. Rosa, que fue guerrillera en el Meta, cont\\u00f3 que fue reclutada por las Farc junto con sus dos primas, de 9 y 10 a\\u00f1os, en los a\\u00f1os 80. \\u201cHac\\u00edan dos filas, las que eran v\\u00edrgenes y las que no. Los que comandaban ten\\u00edan relaciones con las ni\\u00f1as v\\u00edrgenes. Y ya los dem\\u00e1s compa\\u00f1eros eran los que abusaban de otras muchachas. Pero siempre las v\\u00edrgenes pasaban por la cabeza mayor\\u201d, afirm\\u00f3. \\u201cLa relaci\\u00f3n entre reclutamiento de ni\\u00f1as y adolescentes y violencia sexual en el interior de las Farc fue com\\u00fan. Se repitieron y recrudecieron en las filas discursos que situaban los cuerpos de las ni\\u00f1as como cuerpos-premio para los altos comandantes\\u201d, se\\u00f1ala el informe. Pero esa pr\\u00e1ctica se daba en todos los actores armados. Neyit, excombatiente de la guerrilla del Eln, fue reclutada a los 15 a\\u00f1os y a los dos d\\u00edas la violaron: \\u201cReclutaban y hac\\u00edan lo que quisieran con las muchachas. El que me reclut\\u00f3 lleg\\u00f3 a mi habitaci\\u00f3n y me quiso besar, y no lo dej\\u00e9. Luego vino con dos muchachos, uno me agarr\\u00f3 las manos y otro los pies, y \\u00e9l me iba quitando la ropa\\u201d. Para evitar ser atacada por otros, la joven termin\\u00f3 como pareja del violador, que ten\\u00eda mando en la tropa. Yurani, quien form\\u00f3 parte de las Farc en el suroriente del pa\\u00eds, cont\\u00f3 que tuvo tres abortos forzados. En las tres ocasiones quiso tener el beb\\u00e9 ocultando su estado, pero siempre fue descubierta y sancionada. La \\u00faltima vez ten\\u00eda ocho meses de embarazo. \\u201cCuando eso todav\\u00eda estaba vivo el \\u2018Mono Jojoy\\u2019. \\u00c9l dijo: \\u2018H\\u00e1gale el aborto\\u2019, y al otro d\\u00eda madrugaron a meterme la pasta esa para hacerme un legrado\\u201d, narr\\u00f3. Con estos testimonios, el informe rese\\u00f1a que las decisiones sobre los cuerpos de las mujeres estaban en poder de los comandantes. En las Farc y en los otros grupos, dice el Centro Nacional de Memoria Hist\\u00f3rica, las combatientes fueron obligadas a pr\\u00e1cticas de anticoncepci\\u00f3n, aborto y esterilizaci\\u00f3n forzada. \\u201cDicha renuncia obligada a la maternidad se configura como un reflejo m\\u00e1s del ejercicio de entrenamiento y acondicionamiento del cuerpo femenino a la guerra: un cuerpo masculinizado \\u2013se\\u00f1ala el documento\\u2013. Las ni\\u00f1as y mujeres son sujetas a controles sanitarios constantes, verificaci\\u00f3n y vigilancia sobre los ciclos menstruales y vigilancia sobre las relaciones sexuales que establecen las mujeres y con qui\\u00e9nes lo hacen\\u201d. Algunas de sus compa\\u00f1eras, seg\\u00fan Yurani, murieron despu\\u00e9s de practicarles abortos forzados. \\u201cEn el Yar\\u00ed hubo una muchacha que se llamaba Dayana y le dec\\u00edan la \\u2018Charuza\\u2019. A ella le practicaron el aborto y a los dos d\\u00edas muri\\u00f3 desangrada\\u201d, cont\\u00f3. Estos casos, dice el informe, se suman a las 21 muertes en similares condiciones que document\\u00f3 Justicia y Paz contra el Ej\\u00e9rcito Revolucionario Guevarista (Erg). El desgarrador informe advierte tambi\\u00e9n sobre los abusos perpetrados por el bando contrario. Un exparamilitar de las Autodefensas Campesinas del Casanare cont\\u00f3 que cuando las guerrilleras se dejaban \\u201ccoger vivas\\u201d eran v\\u00edctimas de torturas y violencia sexual. \\u201cS\\u00ed, era guerrillera, pero no ten\\u00edan derecho de violarla tantos manes, pasaron como unos 25 por encima de ella y la mataron a cuchillo\\u201d, confes\\u00f3. Magaly, exintegrante de las Farc, cont\\u00f3 que su prima, tambi\\u00e9n de la guerrilla, fue violada por el Ej\\u00e9rcito en un combate en el 2004: \\u201cLe echaron \\u00e1cido en la cara despu\\u00e9s de violada; yo estaba escondida y vi todo, y me daban rabia las cosas que le dec\\u00edan. Ellos le dec\\u00edan que por ser el Ej\\u00e9rcito pod\\u00edan violar y asesinar como si nada\\u201d. Como ya se conoce, los paramilitares utilizaron la violencia sexual como m\\u00e9todo de terror en las zonas a las que iban llegando. Pero no solo ocurr\\u00eda en la etapa de incursi\\u00f3n. Ya establecidos en las zonas, numerosos jefes se convirtieron en depredadores sexuales contra las comunidades que estaban en sus \\u00e1reas de influencia. El caso m\\u00e1s conocido es el de Hern\\u00e1n Giraldo, capo del cartel de Medell\\u00edn que termin\\u00f3 como jefe paramilitar de Magdalena. \\u201cEl se\\u00f1or (Hern\\u00e1n Giraldo) solo violaba ni\\u00f1as menores de 15 a\\u00f1os. Para \\u00e9l, y lo dijo p\\u00fablicamente en la audiencia, para \\u00e9l una mujer de 20 a\\u00f1os era una anciana. Las ten\\u00eda una semana y luego las devolv\\u00eda\\u201d, cont\\u00f3 una l\\u00edder de la zona rural de Santa Marta. Incluso, denunci\\u00f3 que estando preso (antes de ser extraditado a Estados Unidos) le llevaban menores de edad. En las goteras de Santa Marta, los paramilitares ten\\u00edan la pr\\u00e1ctica de quitar la luz en las noches para perpetrar sus ataques sexuales. Irrump\\u00edan en las casas y forzaban a familias enteras. Tambi\\u00e9n se documentaron casos de esterilizaci\\u00f3n forzada practicada en hospitales p\\u00fablicos. \\u201cNos mandaban a \\u2018capar\\u2019 para que no tuvi\\u00e9ramos hijos, y esto lo hicieron en el hospital. Era algo tan inhumano, llegaban con lista en mano\\u201d, dijo una de las mujeres afectadas. En Valle y Santander se documentaron casos de paramilitares que buscaban a sus v\\u00edctimas entre las ni\\u00f1as de las escuelas, como lo se\\u00f1al\\u00f3 la hist\\u00f3rica sentencia contra el bloque Central Bol\\u00edvar por casi 3.000 cr\\u00edmenes, entre ellos 1.013 de violencia sexual. Como ocurri\\u00f3 con Helena, a Esperanza la violaron por evitar que uno de sus peque\\u00f1os hijos fuera utilizado por paramilitares del bloque Cacique Nutibara para mover armas. Ocurri\\u00f3 en diciembre del 2002 en Medell\\u00edn. Ella decidi\\u00f3 mandar a los ni\\u00f1os a casa de su hermana, metidos en un armario del trasteo de una vecina. Cuando los \\u2018paras\\u2019 fueron a buscar al muchacho, la reacci\\u00f3n fue salvaje. \\u201cEntraron cuatro de ellos, cerraron la puerta, me tiraron a la cama, me amarraron de pies y manos, me da\\u00f1aron mi pijama y abusaron de m\\u00ed toda la noche\\u201d, relat\\u00f3 la mujer. El Centro de Memoria Hist\\u00f3rica recomienda a los gobiernos departamentales y municipales, a la academia y a las organizaciones sociales realizar investigaciones que contribuyan a la comprensi\\u00f3n de las variaciones locales de la violencia sexual, con el fin de conocer las condiciones que, en cada caso, han permitido su emergencia. Mary Luz L\\u00f3pez Mi mayor motivaci\\u00f3n es estar viva, respirar, saber que no me mataron, que mientras yo est\\u00e9 viva las letras hablar\\u00e1n por m\\u00ed y por otras mujeres. E scribo cuentos y poes\\u00eda para sacar el dolor. La escritura pasa por el coraz\\u00f3n, por el cuerpo y remueve muchas cosas. Uno tiene un talento escondido y el m\\u00edo es la escritura; eso me ha ayudado bastante. Yo creo que lo que lo mueve a uno es el amor, esa fortaleza y esa resiliencia que hay en uno para no quedarse postrado. Por eso hoy les digo a las mujeres que dejen el miedo, el miedo no viene detr\\u00e1s de uno, no callen. Sandra Gonz\\u00e1lez Mi principal motivaci\\u00f3n para seguir viva y seguir adelante, son mis hijos y mi familia. Cuando uno empieza a hablar, crea una conciencia con las otras mujeres que nunca han hablado, ellas se identifican con mi historia y dicen, a m\\u00ed tambi\\u00e9n me pas\\u00f3. Yo soy la voz de las mujeres que no tienen voz, soy la voz de las mujeres que han muerto. Ojal\\u00e1 que todo el mundo se entere de que esto pasa en Colombia y ojal\\u00e1 que el Estado lo reconozca. Ilda Osorio Mi prioridad y motivaci\\u00f3n son el resto de mujeres que han sufrido la misma violencia que yo. Porque s\\u00e9 lo que se siente, s\\u00e9 lo que duele, y s\\u00e9 la vida tan sucia que uno siente que lleva. El mensaje para las mujeres v\\u00edctimas es que escuchen la voz de esta experiencia que sufri\\u00f3 en carne propia la guerra en su propio cuerpo. S i 10 veces les cierran la puerta, hay que tocarla 50 veces, hasta que la abran. Para que los due\\u00f1os de esta guerra tambi\\u00e9n sean due\\u00f1os de esta verg\\u00fcenza, de esta culpa que nosotras no tenemos. Tulia Lozano En medio de una guerra nuestros cuerpos han sido botines de guerra. Nosotras no somos las culpables. No tenemos por qu\\u00e9 callar algo que nunca debi\\u00f3 haber sucedido. Hay que ir superando, ir saliendo, ir luchando por nuestros derechos, nosotras fuimos las m\\u00e1s damnificadas en esta guerra y por eso tenemos razones para seguir paradas luchando, as\\u00ed nos amenacen por hacerlo. JUSTICIA justicia@eltiempo.com @JusticiaET Miedo 11:19 p.m. Ejercite su mente en la cuarentena con este test de l\\u00f3gica matem\\u00e1tica Ponga a prueba esas clases de matem\\u00e1ticas del colegio y de la vida par ... Manizales 10:00 p.m. Ya se venden medicamentos de cannabis con f\\u00f3rmula m\\u00e9dica En farmacias especializadas de Colombia es posible acceder a medicamen ... Manizales 10:00 p.m. El gu\\u00eda de la salud mental del pueblo con m\\u00e1s casos de bipolaridad Coronavirus en Colombia 09:31 p.m. Una cabina de desinfecci\\u00f3n manual para Barranquilla Valle del Cauca 07:50 p.m. Se han recogido cerca de 132 mil mercados en 'Donat\\u00f3n Valle Solidario'.\",\n          \"T\\u00edtulo: El prontuario que condena a 55 a\\u00f1os de prisi\\u00f3n al \\u2018Zar del Oro\\u2019. Resumen: Fue hallado culpable del homicidio de cuatro mineros y de financiar grupos criminales.. Contenido: Por el homicidio de cuatro mineros en Remedios, Antioquia, y por financiar grupos armados ilegales en el noreste de ese departamento, un juez sentenci\\u00f3 a 55 a\\u00f1os de c\\u00e1rcel a Jairo Hugo Escobar Cata\\u00f1o, conocido como el Zar del Oro. El 20 de diciembre de 2011 los mineros Johan Esteban Pareja Avenda\\u00f1o, Jaime Nicol\\u00e1s Jim\\u00e9nez, y los hermanos Yeison Andr\\u00e9s y Wilmar Alberto Taborda Jim\\u00e9nez, a quienes se les conoc\\u00eda como los serafines, fueron citados a una supuesta reuni\\u00f3n en la finca La T\\u00eda ubicada en la vereda La Roca, donde fueron asesinados por una estructura criminal. La Fiscal\\u00eda estableci\\u00f3 adem\\u00e1s que por el crimen se pagaron 800 millones de pesos. De acuerdo con las investigaciones, el homicidio estar\\u00eda relacionado con un atentado del que Escobar sali\\u00f3 ileso en el el 2011, y con la negativa de los mineros de vender un yacimiento aur\\u00edfero del que eran copropietarios. Los investigadores determinaron tambi\\u00e9n que Escobar Cata\\u00f1o aportaba considerables sumas de dinero para el pago de n\\u00f3mina de una organizaci\\u00f3n delincuencial conocida como \\u2018Seguridad H\\u00e9roes del Nordeste\\u2019. Escobar no es el \\u00fanico \\u2018zar\\u2019 del metal dorado . John \\u00daber Hern\\u00e1ndez , cabeza de la firma G\\u00f3ldex, lleg\\u00f3 a ser uno de los principales fundidores del pa\\u00eds, por lo que tambi\\u00e9n se gan\\u00f3 ese apelativo. Es se\\u00f1alado de haber lavado 2,3 billones de pesos a trav\\u00e9s de la firma.\\u00a0A pesar de la gravedad de los cargos, inexplicablemente qued\\u00f3 libre por vencimiento de t\\u00e9rminos. JUSTICIA Miedo 11:19 p.m. Ejercite su mente en la cuarentena con este test de l\\u00f3gica matem\\u00e1tica Ponga a prueba esas clases de matem\\u00e1ticas del colegio y de la vida par ... Manizales 10:00 p.m. Ya se venden medicamentos de cannabis con f\\u00f3rmula m\\u00e9dica En farmacias especializadas de Colombia es posible acceder a medicamen ... Manizales 10:00 p.m. El gu\\u00eda de la salud mental del pueblo con m\\u00e1s casos de bipolaridad Coronavirus en Colombia 09:31 p.m. Una cabina de desinfecci\\u00f3n manual para Barranquilla Valle del Cauca 07:50 p.m. Se han recogido cerca de 132 mil mercados en 'Donat\\u00f3n Valle Solidario'.\",\n          \"T\\u00edtulo: Avianca Brasil dejar\\u00e1 de volar 21 rutas y cerrar\\u00e1 tres bases. Resumen: La firma, tambi\\u00e9n del empresario Germ\\u00e1n Efromovich, quedar\\u00e1 operando solo con 26 aviones.. Contenido: Avianca  Brasil, la cuarta mayor compa\\u00f1\\u00eda a\\u00e9rea del pa\\u00eds y que en diciembre se acogi\\u00f3 a la ley de bancarrota, dejar\\u00e1 de volar 21 rutas en abril y cerrar\\u00e1 tres bases de operaciones, seg\\u00fan inform\\u00f3 este martes la empresa. En un comunicado, Avianca Brasil, nombre comercial bajo el cual opera la empresa Ocean Air,  indic\\u00f3 que la decisi\\u00f3n forma parte del \\\"plan de recuperaci\\u00f3n judicial\\\" con el que est\\u00e1 \\\"readecuando progresivamente\\\" sus operaciones para reducir el tama\\u00f1o de la flota y alcanzar el \\\"objetivo\\\" de operar 23 rutas, de las 53 que tiene en la actualidad, solo con 26 aviones. Las tres bases operacionales que cerrar\\u00e1 definitivamente la compa\\u00f1\\u00eda son las del aeropuerto internacional de Galeao, en R\\u00edo de Janeiro; la de Petrolina (Pernambuco, noreste) y la de Belem, capital del amaz\\u00f3nico estado de Par\\u00e1. Al dejar de operar 21 rutas, las 32 restantes, calificadas como \\\"estrat\\u00e9gicas\\\", se mantendr\\u00e1n \\\"normalmente\\\" y \\\"dentro del cronograma previsto\\\". De las 21 rutas que ser\\u00e1n canceladas, dos tienen destino internacional con vuelos a Bogot\\u00e1 partiendo desde Fortaleza y Salvador, ambas en el noreste del pa\\u00eds. Con la cancelaci\\u00f3n de las rutas del Galeao, la ciudad m\\u00e1s afectada con la decisi\\u00f3n fue la capital Brasilia, que perder\\u00e1 el vuelo con el mayor aeropuerto de R\\u00edo de Janeiro y su conexi\\u00f3n directa con Cuiab\\u00e1 (oeste) y Fortaleza, Salvador y Macei\\u00f3 (noreste). La aerol\\u00ednea brasile\\u00f1a se acogi\\u00f3 en diciembre pasado a la ley de quiebras para garantizar la continuidad de sus operaciones y la sustentabilidad de su negocio, as\\u00ed como para reestructurar una elevada deuda que le acarre\\u00f3 varias demandas en los tribunales. El pasado 11 de marzo, la aerol\\u00ednea brasile\\u00f1a de bajo coste Azul, la tercera mayor compa\\u00f1\\u00eda a\\u00e9rea del pa\\u00eds, anunci\\u00f3 que firm\\u00f3 un acuerdo de intenci\\u00f3n por 105 millones de d\\u00f3lares para adquirir parte de los activos de  Avianca  Brasil. Entre esos activos est\\u00e1n el certificado de operador a\\u00e9reo de Avianca  Brasil, setenta pares de \\\"slots\\\" -como se conoce a los derechos de despegar y aterrizar en aeropuertos congestionados- y aproximadamente treinta aeronaves Airbus A320. Avianca  Brasil opera vuelos regulares desde el 2002 y en enero pasado anunci\\u00f3 el recorte de sus vuelos internacionales directos desde Guarulhos, que opera para Sao Paulo, a las ciudades de Santiago de Chile, Nueva York y Miami. OceanAir es una compa\\u00f1\\u00eda independiente de Avianca Holdings S.A. y utiliza comercialmente el nombre de \\\"Avianca  Brasil\\\", en virtud de un acuerdo de licencia de uso de nombre que celebr\\u00f3 con Aerov\\u00edas del Continente Americano S.A, con sede en Colombia. EFE Miedo 11:19 p.m. Ejercite su mente en la cuarentena con este test de l\\u00f3gica matem\\u00e1tica Ponga a prueba esas clases de matem\\u00e1ticas del colegio y de la vida par ... Manizales 10:00 p.m. Ya se venden medicamentos de cannabis con f\\u00f3rmula m\\u00e9dica En farmacias especializadas de Colombia es posible acceder a medicamen ... Manizales 10:00 p.m. El gu\\u00eda de la salud mental del pueblo con m\\u00e1s casos de bipolaridad Coronavirus en Colombia 09:31 p.m. Una cabina de desinfecci\\u00f3n manual para Barranquilla Valle del Cauca 07:50 p.m. Se han recogido cerca de 132 mil mercados en 'Donat\\u00f3n Valle Solidario'.\"\n        ],\n        \"semantic_type\": \"\",\n        \"description\": \"\"\n      }\n    }\n  ]\n}"
            }
          },
          "metadata": {},
          "execution_count": 8
        }
      ]
    },
    {
      "cell_type": "code",
      "source": [
        "def preprocess_text(text):\n",
        "    stripped = text.strip()\n",
        "    cleaned = re.sub(r'[\\n\\t]+', ' ', stripped)\n",
        "    cleaned = re.sub(r'\\s{2,}', ' ', cleaned)\n",
        "    cleaned = re.sub(r'\\.{2,}', '.', cleaned)\n",
        "    return cleaned"
      ],
      "metadata": {
        "id": "mrL-O2k4aA-c"
      },
      "execution_count": 9,
      "outputs": []
    },
    {
      "cell_type": "code",
      "source": [
        "df_preprocessed['cleaned_text'] = df_preprocessed['unified_text'].apply(preprocess_text)\n",
        "df_preprocessed.head(2)"
      ],
      "metadata": {
        "colab": {
          "base_uri": "https://localhost:8080/",
          "height": 318
        },
        "id": "WYUaiNMMaCu9",
        "outputId": "aebbf40c-0a4c-42d1-db92-d83da48b8f1e"
      },
      "execution_count": 10,
      "outputs": [
        {
          "output_type": "execute_result",
          "data": {
            "text/plain": [
              "                                                 Enlaces  \\\n",
              "10487  https://www.eltiempo.com/cultura/al-interior-d...   \n",
              "10488  https://www.eltiempo.com/cultura/arte-y-teatro...   \n",
              "\n",
              "                                                  Título  \\\n",
              "10487  Al interior de, aparte, roquero, rock / El len...   \n",
              "10488  Antonina Canal: 20 años de danza oriental en C...   \n",
              "\n",
              "                                                    info  \\\n",
              "10487  'Al interior de' es el reemplazo sofisticado e...   \n",
              "10488  La bailarina habló con EL TIEMPO de su trayect...   \n",
              "\n",
              "                                               contenido Etiqueta  \\\n",
              "10487  Citas: “Los crímenes de violencia sexual comet...  cultura   \n",
              "10488  Con motivo de la celebración de los 20 años de...  cultura   \n",
              "\n",
              "                                            unified_text  \\\n",
              "10487  Título: Al interior de, aparte, roquero, rock ...   \n",
              "10488  Título: Antonina Canal: 20 años de danza orien...   \n",
              "\n",
              "                                            cleaned_text  \n",
              "10487  Título: Al interior de, aparte, roquero, rock ...  \n",
              "10488  Título: Antonina Canal: 20 años de danza orien...  "
            ],
            "text/html": [
              "\n",
              "  <div id=\"df-9095f865-cf9a-4f42-9615-e7859438f9e2\" class=\"colab-df-container\">\n",
              "    <div>\n",
              "<style scoped>\n",
              "    .dataframe tbody tr th:only-of-type {\n",
              "        vertical-align: middle;\n",
              "    }\n",
              "\n",
              "    .dataframe tbody tr th {\n",
              "        vertical-align: top;\n",
              "    }\n",
              "\n",
              "    .dataframe thead th {\n",
              "        text-align: right;\n",
              "    }\n",
              "</style>\n",
              "<table border=\"1\" class=\"dataframe\">\n",
              "  <thead>\n",
              "    <tr style=\"text-align: right;\">\n",
              "      <th></th>\n",
              "      <th>Enlaces</th>\n",
              "      <th>Título</th>\n",
              "      <th>info</th>\n",
              "      <th>contenido</th>\n",
              "      <th>Etiqueta</th>\n",
              "      <th>unified_text</th>\n",
              "      <th>cleaned_text</th>\n",
              "    </tr>\n",
              "  </thead>\n",
              "  <tbody>\n",
              "    <tr>\n",
              "      <th>10487</th>\n",
              "      <td>https://www.eltiempo.com/cultura/al-interior-d...</td>\n",
              "      <td>Al interior de, aparte, roquero, rock / El len...</td>\n",
              "      <td>'Al interior de' es el reemplazo sofisticado e...</td>\n",
              "      <td>Citas: “Los crímenes de violencia sexual comet...</td>\n",
              "      <td>cultura</td>\n",
              "      <td>Título: Al interior de, aparte, roquero, rock ...</td>\n",
              "      <td>Título: Al interior de, aparte, roquero, rock ...</td>\n",
              "    </tr>\n",
              "    <tr>\n",
              "      <th>10488</th>\n",
              "      <td>https://www.eltiempo.com/cultura/arte-y-teatro...</td>\n",
              "      <td>Antonina Canal: 20 años de danza oriental en C...</td>\n",
              "      <td>La bailarina habló con EL TIEMPO de su trayect...</td>\n",
              "      <td>Con motivo de la celebración de los 20 años de...</td>\n",
              "      <td>cultura</td>\n",
              "      <td>Título: Antonina Canal: 20 años de danza orien...</td>\n",
              "      <td>Título: Antonina Canal: 20 años de danza orien...</td>\n",
              "    </tr>\n",
              "  </tbody>\n",
              "</table>\n",
              "</div>\n",
              "    <div class=\"colab-df-buttons\">\n",
              "\n",
              "  <div class=\"colab-df-container\">\n",
              "    <button class=\"colab-df-convert\" onclick=\"convertToInteractive('df-9095f865-cf9a-4f42-9615-e7859438f9e2')\"\n",
              "            title=\"Convert this dataframe to an interactive table.\"\n",
              "            style=\"display:none;\">\n",
              "\n",
              "  <svg xmlns=\"http://www.w3.org/2000/svg\" height=\"24px\" viewBox=\"0 -960 960 960\">\n",
              "    <path d=\"M120-120v-720h720v720H120Zm60-500h600v-160H180v160Zm220 220h160v-160H400v160Zm0 220h160v-160H400v160ZM180-400h160v-160H180v160Zm440 0h160v-160H620v160ZM180-180h160v-160H180v160Zm440 0h160v-160H620v160Z\"/>\n",
              "  </svg>\n",
              "    </button>\n",
              "\n",
              "  <style>\n",
              "    .colab-df-container {\n",
              "      display:flex;\n",
              "      gap: 12px;\n",
              "    }\n",
              "\n",
              "    .colab-df-convert {\n",
              "      background-color: #E8F0FE;\n",
              "      border: none;\n",
              "      border-radius: 50%;\n",
              "      cursor: pointer;\n",
              "      display: none;\n",
              "      fill: #1967D2;\n",
              "      height: 32px;\n",
              "      padding: 0 0 0 0;\n",
              "      width: 32px;\n",
              "    }\n",
              "\n",
              "    .colab-df-convert:hover {\n",
              "      background-color: #E2EBFA;\n",
              "      box-shadow: 0px 1px 2px rgba(60, 64, 67, 0.3), 0px 1px 3px 1px rgba(60, 64, 67, 0.15);\n",
              "      fill: #174EA6;\n",
              "    }\n",
              "\n",
              "    .colab-df-buttons div {\n",
              "      margin-bottom: 4px;\n",
              "    }\n",
              "\n",
              "    [theme=dark] .colab-df-convert {\n",
              "      background-color: #3B4455;\n",
              "      fill: #D2E3FC;\n",
              "    }\n",
              "\n",
              "    [theme=dark] .colab-df-convert:hover {\n",
              "      background-color: #434B5C;\n",
              "      box-shadow: 0px 1px 3px 1px rgba(0, 0, 0, 0.15);\n",
              "      filter: drop-shadow(0px 1px 2px rgba(0, 0, 0, 0.3));\n",
              "      fill: #FFFFFF;\n",
              "    }\n",
              "  </style>\n",
              "\n",
              "    <script>\n",
              "      const buttonEl =\n",
              "        document.querySelector('#df-9095f865-cf9a-4f42-9615-e7859438f9e2 button.colab-df-convert');\n",
              "      buttonEl.style.display =\n",
              "        google.colab.kernel.accessAllowed ? 'block' : 'none';\n",
              "\n",
              "      async function convertToInteractive(key) {\n",
              "        const element = document.querySelector('#df-9095f865-cf9a-4f42-9615-e7859438f9e2');\n",
              "        const dataTable =\n",
              "          await google.colab.kernel.invokeFunction('convertToInteractive',\n",
              "                                                    [key], {});\n",
              "        if (!dataTable) return;\n",
              "\n",
              "        const docLinkHtml = 'Like what you see? Visit the ' +\n",
              "          '<a target=\"_blank\" href=https://colab.research.google.com/notebooks/data_table.ipynb>data table notebook</a>'\n",
              "          + ' to learn more about interactive tables.';\n",
              "        element.innerHTML = '';\n",
              "        dataTable['output_type'] = 'display_data';\n",
              "        await google.colab.output.renderOutput(dataTable, element);\n",
              "        const docLink = document.createElement('div');\n",
              "        docLink.innerHTML = docLinkHtml;\n",
              "        element.appendChild(docLink);\n",
              "      }\n",
              "    </script>\n",
              "  </div>\n",
              "\n",
              "\n",
              "<div id=\"df-9934397e-13bc-4656-b5ae-094188972d13\">\n",
              "  <button class=\"colab-df-quickchart\" onclick=\"quickchart('df-9934397e-13bc-4656-b5ae-094188972d13')\"\n",
              "            title=\"Suggest charts\"\n",
              "            style=\"display:none;\">\n",
              "\n",
              "<svg xmlns=\"http://www.w3.org/2000/svg\" height=\"24px\"viewBox=\"0 0 24 24\"\n",
              "     width=\"24px\">\n",
              "    <g>\n",
              "        <path d=\"M19 3H5c-1.1 0-2 .9-2 2v14c0 1.1.9 2 2 2h14c1.1 0 2-.9 2-2V5c0-1.1-.9-2-2-2zM9 17H7v-7h2v7zm4 0h-2V7h2v10zm4 0h-2v-4h2v4z\"/>\n",
              "    </g>\n",
              "</svg>\n",
              "  </button>\n",
              "\n",
              "<style>\n",
              "  .colab-df-quickchart {\n",
              "      --bg-color: #E8F0FE;\n",
              "      --fill-color: #1967D2;\n",
              "      --hover-bg-color: #E2EBFA;\n",
              "      --hover-fill-color: #174EA6;\n",
              "      --disabled-fill-color: #AAA;\n",
              "      --disabled-bg-color: #DDD;\n",
              "  }\n",
              "\n",
              "  [theme=dark] .colab-df-quickchart {\n",
              "      --bg-color: #3B4455;\n",
              "      --fill-color: #D2E3FC;\n",
              "      --hover-bg-color: #434B5C;\n",
              "      --hover-fill-color: #FFFFFF;\n",
              "      --disabled-bg-color: #3B4455;\n",
              "      --disabled-fill-color: #666;\n",
              "  }\n",
              "\n",
              "  .colab-df-quickchart {\n",
              "    background-color: var(--bg-color);\n",
              "    border: none;\n",
              "    border-radius: 50%;\n",
              "    cursor: pointer;\n",
              "    display: none;\n",
              "    fill: var(--fill-color);\n",
              "    height: 32px;\n",
              "    padding: 0;\n",
              "    width: 32px;\n",
              "  }\n",
              "\n",
              "  .colab-df-quickchart:hover {\n",
              "    background-color: var(--hover-bg-color);\n",
              "    box-shadow: 0 1px 2px rgba(60, 64, 67, 0.3), 0 1px 3px 1px rgba(60, 64, 67, 0.15);\n",
              "    fill: var(--button-hover-fill-color);\n",
              "  }\n",
              "\n",
              "  .colab-df-quickchart-complete:disabled,\n",
              "  .colab-df-quickchart-complete:disabled:hover {\n",
              "    background-color: var(--disabled-bg-color);\n",
              "    fill: var(--disabled-fill-color);\n",
              "    box-shadow: none;\n",
              "  }\n",
              "\n",
              "  .colab-df-spinner {\n",
              "    border: 2px solid var(--fill-color);\n",
              "    border-color: transparent;\n",
              "    border-bottom-color: var(--fill-color);\n",
              "    animation:\n",
              "      spin 1s steps(1) infinite;\n",
              "  }\n",
              "\n",
              "  @keyframes spin {\n",
              "    0% {\n",
              "      border-color: transparent;\n",
              "      border-bottom-color: var(--fill-color);\n",
              "      border-left-color: var(--fill-color);\n",
              "    }\n",
              "    20% {\n",
              "      border-color: transparent;\n",
              "      border-left-color: var(--fill-color);\n",
              "      border-top-color: var(--fill-color);\n",
              "    }\n",
              "    30% {\n",
              "      border-color: transparent;\n",
              "      border-left-color: var(--fill-color);\n",
              "      border-top-color: var(--fill-color);\n",
              "      border-right-color: var(--fill-color);\n",
              "    }\n",
              "    40% {\n",
              "      border-color: transparent;\n",
              "      border-right-color: var(--fill-color);\n",
              "      border-top-color: var(--fill-color);\n",
              "    }\n",
              "    60% {\n",
              "      border-color: transparent;\n",
              "      border-right-color: var(--fill-color);\n",
              "    }\n",
              "    80% {\n",
              "      border-color: transparent;\n",
              "      border-right-color: var(--fill-color);\n",
              "      border-bottom-color: var(--fill-color);\n",
              "    }\n",
              "    90% {\n",
              "      border-color: transparent;\n",
              "      border-bottom-color: var(--fill-color);\n",
              "    }\n",
              "  }\n",
              "</style>\n",
              "\n",
              "  <script>\n",
              "    async function quickchart(key) {\n",
              "      const quickchartButtonEl =\n",
              "        document.querySelector('#' + key + ' button');\n",
              "      quickchartButtonEl.disabled = true;  // To prevent multiple clicks.\n",
              "      quickchartButtonEl.classList.add('colab-df-spinner');\n",
              "      try {\n",
              "        const charts = await google.colab.kernel.invokeFunction(\n",
              "            'suggestCharts', [key], {});\n",
              "      } catch (error) {\n",
              "        console.error('Error during call to suggestCharts:', error);\n",
              "      }\n",
              "      quickchartButtonEl.classList.remove('colab-df-spinner');\n",
              "      quickchartButtonEl.classList.add('colab-df-quickchart-complete');\n",
              "    }\n",
              "    (() => {\n",
              "      let quickchartButtonEl =\n",
              "        document.querySelector('#df-9934397e-13bc-4656-b5ae-094188972d13 button');\n",
              "      quickchartButtonEl.style.display =\n",
              "        google.colab.kernel.accessAllowed ? 'block' : 'none';\n",
              "    })();\n",
              "  </script>\n",
              "</div>\n",
              "\n",
              "    </div>\n",
              "  </div>\n"
            ],
            "application/vnd.google.colaboratory.intrinsic+json": {
              "type": "dataframe",
              "variable_name": "df_preprocessed",
              "summary": "{\n  \"name\": \"df_preprocessed\",\n  \"rows\": 2386,\n  \"fields\": [\n    {\n      \"column\": \"Enlaces\",\n      \"properties\": {\n        \"dtype\": \"string\",\n        \"num_unique_values\": 2386,\n        \"samples\": [\n          \"https://www.eltiempo.com/justicia/delitos/informe-sobre-violencia-sexual-en-la-guerra-en-colombia-155268\",\n          \"https://www.eltiempo.com/deportes/futbol-internacional/mojica-y-espinosa-dos-sorpresas-en-la-recta-final-hacia-el-mundial-195568\",\n          \"https://www.eltiempo.com/economia/empresas/avianca-brasil-de-german-efromovich-dejara-de-operar-21-rutas-342094\"\n        ],\n        \"semantic_type\": \"\",\n        \"description\": \"\"\n      }\n    },\n    {\n      \"column\": \"T\\u00edtulo\",\n      \"properties\": {\n        \"dtype\": \"string\",\n        \"num_unique_values\": 2384,\n        \"samples\": [\n          \"Un crimen en el que la impunidad es de 90 %\",\n          \"No se han encontrado indicios sobreviolaci\\u00f3n de soberan\\u00eda venezolana\",\n          \"Avianca demanda a socio minoritario que se opone a alianza con United\"\n        ],\n        \"semantic_type\": \"\",\n        \"description\": \"\"\n      }\n    },\n    {\n      \"column\": \"info\",\n      \"properties\": {\n        \"dtype\": \"string\",\n        \"num_unique_values\": 2384,\n        \"samples\": [\n          \"Entrevista con\\u00a0Roc\\u00edo Mart\\u00ednez Montoya, investigadora del informe \\u2018La guerra inscrita en el cuerpo\\u2019.\",\n          \"Ministro de Defensa afirm\\u00f3 que por el momento no tiene razones para informar del hecho a Canciller\",\n          \"La aerol\\u00ednea interpuso dos recursos contra la familia Kriete ante una corte de Nueva York.\"\n        ],\n        \"semantic_type\": \"\",\n        \"description\": \"\"\n      }\n    },\n    {\n      \"column\": \"contenido\",\n      \"properties\": {\n        \"dtype\": \"string\",\n        \"num_unique_values\": 2385,\n        \"samples\": [\n          \"Helena, una campesina del sur del Tolima, uno de los enclaves hist\\u00f3ricos de las Farc, logr\\u00f3 salvar a sus hijos de 10, 14 y 15 a\\u00f1os de ser reclutados por esa guerrilla. Eso ocurri\\u00f3 hace siete a\\u00f1os, en el 2010. Guerrilleros del frente 21 le mandaron raz\\u00f3n de que preparara a los muchachos porque \\u201ciban a pasar por ellos\\u201d, y ese mismo d\\u00eda ella decidi\\u00f3 sacarlos de la vereda escondidos, entre guacales, en un carro de venta de bananos. \\u201cAll\\u00e1, en cada vereda, en cada finca, a usted le dicen: \\u2018Tiene dos o tres hijos, y a medida que vayan creciendo, de los 10 a\\u00f1os en adelante, se los van llevando\\u2019. Y si usted habla o algo, es peor: lo matan. La ley es que todo el mundo va a engrosar la fila de la guerrilla\\u201d, cont\\u00f3 la mujer. Pero la valent\\u00eda para defender a sus hijos termin\\u00f3 por convertirla en v\\u00edctima de violencia sexual. \\u201cLes dec\\u00eda que yo por mis hijos me hago matar. Fueron a mi casa a las 9 de la noche. Me ataron las manos atr\\u00e1s. Me llevaron al \\u2018Rinc\\u00f3n de la muerte\\u2019 (en inmediaciones de la quebrada La Catalina, donde los grupos armados asesinaron a varias personas)\\u201d. All\\u00e1 estaba \\u2018Agust\\u00edn\\u2019, el jefe del frente 21, que muri\\u00f3 en combate con el Ej\\u00e9rcito en el 2012: \\u201c\\u00c9l me viol\\u00f3 y les dijo a los otros: \\u2018Cada uno haga lo que quiera con ella, tenemos cinco horas para hacer todo lo que quieran\\u2019 \\u201d. Testimonios como el de Helena fueron recogidos por el Centro Nacional de Memoria Hist\\u00f3rica en el informe \\u2018La guerra inscrita en el cuerpo\\u2019, revelado esta semana y que reconstruye c\\u00f3mo todos los grupos armados y muchos agentes del Estado utilizaron la violencia sexual en medio del conflicto armado . La investigaci\\u00f3n tiene casos desde 1959 y su macabro balance \\u2013que claramente es inferior a la realidad, porque muchas v\\u00edctimas temen denunciar incluso hoy\\u2013 es que al menos 15.000 ni\\u00f1as y mujeres, pero tambi\\u00e9n muchos ni\\u00f1os y adolescentes, fueron violados por los actores de la guerra. La mayor\\u00eda de los casos no tiene un responsable identificado. Pero el documento, de 550 p\\u00e1ginas, encontr\\u00f3 que los grupos paramilitares fueron se\\u00f1alados por 4.837 v\\u00edctimas; las guerrillas de las Farc, el Eln y el Erg, por 4.722, y los agentes del Estado, por al menos 206. El Centro Nacional de Memoria Hist\\u00f3rica acudi\\u00f3 a expedientes judiciales y a testimonios directos para retratar las pr\\u00e1cticas de sometimiento. Muchas de ellas han sido documentadas y ampliamente recogidas en la \\u00faltima d\\u00e9cada, gracias a las confesiones de paramilitares desmovilizados ante la jurisdicci\\u00f3n de Justicia y Paz y, sobre todo, a la valent\\u00eda de centenares de v\\u00edctimas que se atrevieron a romper el miedo y la impunidad. En cuanto a las guerrillas, la violencia sexual fue ejercida tanto contra las comunidades de sus zonas de influencia como contra las ni\\u00f1as y adolescentes reclutadas. La plena confesi\\u00f3n sobre esas pr\\u00e1cticas ser\\u00e1 una de las pruebas de fuego sobre el real compromiso de los desmovilizados ante la nueva Jurisdicci\\u00f3n Especial para la Paz (JEP), pues la verdad y la reparaci\\u00f3n a las v\\u00edctimas son parte de las condiciones para acceder a penas alternativas. Esta semana, de hecho, caus\\u00f3 revuelo el se\\u00f1alamiento directo contra \\u2018Ra\\u00fal Reyes\\u2019, uno de los \\u00edconos de las Farc, quien, como lo revel\\u00f3 EL TIEMPO, fue acusado por mujeres de su escolta \\u2013que fueron elegidas por \\u00e9l cuando contaban apenas con 10 u 11 a\\u00f1os\\u2013 de abusar sistem\\u00e1ticamente de ellas. En sus estatutos, las Farc castigan incluso con la muerte las violaciones y otro tipo de abusos sexuales. Lo que las v\\u00edctimas denuncian es que si bien esto pod\\u00eda regir para los mandos medios o los combatientes rasos, rara vez aplicaba para los jefes de frente y menos para hombres tan poderosos en la organizaci\\u00f3n como \\u2018Reyes\\u2019, cuya muerte en un bombardeo de la Fuerza A\\u00e9rea marc\\u00f3 en el 2008 el declive militar de las Farc. \\u201cA \\u00e9l le gustaba cogerlo a uno para escolta, siempre ten\\u00eda muchachas as\\u00ed y despu\\u00e9s abusaba de uno, a \\u00e9l le gustaba abusar de las muchachas que llevaba\\u201d, dijo Gina, quien fue su guardaespaldas durante 16 a\\u00f1os. El informe se\\u00f1ala que algunos frentes tambi\\u00e9n usaron la violaci\\u00f3n para castigar a quienes se negaban a pagar las vacunas. En el 2006, Yuliana, de 40 a\\u00f1os y con nueve meses de embarazo, fue atacada por guerrilleros del frente 32 en el Huila. La violaron en frente de su esposo. \\u201cLlegaron hombres comandados por \\u2018Joaqu\\u00edn\\u2019 y yo les dije que qu\\u00e9 pasaba, si ellos sab\\u00edan que nosotros les pag\\u00e1bamos, que nosotros \\u00e9ramos gente de bien, que me dieran una explicaci\\u00f3n (...). \\u00c9l (Joaqu\\u00edn) y otros dos abusaron de m\\u00ed. Mi esposo lloraba de ver lo que me estaban haciendo\\u201d, narr\\u00f3 la mujer. \\u201cA las mujeres les recuerdan la cuota que deben sus parejas con violencia sexual, o les cobran parte de la cuota o de los intereses de esta forma. Donde hay extorsiones a los comerciantes, suele existir violencia sexual hacia sus esposas para que recuerden que no deben dejar de pagar la cuota\\u201d, dice el informe. En Meta y Buenaventura se encontr\\u00f3 que las Farc \\u201cutilizaron t\\u00e9cnicas de control moral sobre las mujeres y las comunidades con el prop\\u00f3sito de regular la vida cotidiana de la poblaci\\u00f3n y establecer un control de g\\u00e9nero\\u201d. Tambi\\u00e9n buscaban \\u201cproclamarse como la \\u00fanica autoridad capaz de hacer uso de la fuerza en el territorio\\u201d. \\u201cEllos ten\\u00edan sus leyes y castigaban, y a quienes no cumpl\\u00edan sus leyes los mataban\\u201d, dijo una mujer durante un taller de reconstrucci\\u00f3n de memoria. \\u201cParamilitares y guerrillas establecieron, cada uno, sus propias pautas de comportamiento, nociones frente al delito; regularon la vida afectiva, los ritmos y espacios cotidianos, la vida social, la sexualidad, los espacios de divertimento y las formas de llevar y conducir los cuerpos\\u201d, se\\u00f1alan los investigadores del Centro Nacional de Memoria Hist\\u00f3rica. En el 2009, en Nari\\u00f1o, una lesbiana fue v\\u00edctima de guerrilleros porque decidi\\u00f3 vivir abiertamente con su pareja. Una noche su casa fue asaltada. A las dos las violaron y a su compa\\u00f1era la desaparecieron. \\u201cLos paramilitares y las guerrillas tuvieron el af\\u00e1n de \\u2018limpiar\\u2019 de sus territorios a aquellos cuerpos que representaban contaminaci\\u00f3n, desviaci\\u00f3n, inmoralidad y enfermedades\\u201d, advierte el documento. Este resalta tambi\\u00e9n los casos de ni\\u00f1as que fueron reclutadas y, despu\\u00e9s, v\\u00edctimas de abuso. Rosa, que fue guerrillera en el Meta, cont\\u00f3 que fue reclutada por las Farc junto con sus dos primas, de 9 y 10 a\\u00f1os, en los a\\u00f1os 80. \\u201cHac\\u00edan dos filas, las que eran v\\u00edrgenes y las que no. Los que comandaban ten\\u00edan relaciones con las ni\\u00f1as v\\u00edrgenes. Y ya los dem\\u00e1s compa\\u00f1eros eran los que abusaban de otras muchachas. Pero siempre las v\\u00edrgenes pasaban por la cabeza mayor\\u201d, afirm\\u00f3. \\u201cLa relaci\\u00f3n entre reclutamiento de ni\\u00f1as y adolescentes y violencia sexual en el interior de las Farc fue com\\u00fan. Se repitieron y recrudecieron en las filas discursos que situaban los cuerpos de las ni\\u00f1as como cuerpos-premio para los altos comandantes\\u201d, se\\u00f1ala el informe. Pero esa pr\\u00e1ctica se daba en todos los actores armados. Neyit, excombatiente de la guerrilla del Eln, fue reclutada a los 15 a\\u00f1os y a los dos d\\u00edas la violaron: \\u201cReclutaban y hac\\u00edan lo que quisieran con las muchachas. El que me reclut\\u00f3 lleg\\u00f3 a mi habitaci\\u00f3n y me quiso besar, y no lo dej\\u00e9. Luego vino con dos muchachos, uno me agarr\\u00f3 las manos y otro los pies, y \\u00e9l me iba quitando la ropa\\u201d. Para evitar ser atacada por otros, la joven termin\\u00f3 como pareja del violador, que ten\\u00eda mando en la tropa. Yurani, quien form\\u00f3 parte de las Farc en el suroriente del pa\\u00eds, cont\\u00f3 que tuvo tres abortos forzados. En las tres ocasiones quiso tener el beb\\u00e9 ocultando su estado, pero siempre fue descubierta y sancionada. La \\u00faltima vez ten\\u00eda ocho meses de embarazo. \\u201cCuando eso todav\\u00eda estaba vivo el \\u2018Mono Jojoy\\u2019. \\u00c9l dijo: \\u2018H\\u00e1gale el aborto\\u2019, y al otro d\\u00eda madrugaron a meterme la pasta esa para hacerme un legrado\\u201d, narr\\u00f3. Con estos testimonios, el informe rese\\u00f1a que las decisiones sobre los cuerpos de las mujeres estaban en poder de los comandantes. En las Farc y en los otros grupos, dice el Centro Nacional de Memoria Hist\\u00f3rica, las combatientes fueron obligadas a pr\\u00e1cticas de anticoncepci\\u00f3n, aborto y esterilizaci\\u00f3n forzada. \\u201cDicha renuncia obligada a la maternidad se configura como un reflejo m\\u00e1s del ejercicio de entrenamiento y acondicionamiento del cuerpo femenino a la guerra: un cuerpo masculinizado \\u2013se\\u00f1ala el documento\\u2013. Las ni\\u00f1as y mujeres son sujetas a controles sanitarios constantes, verificaci\\u00f3n y vigilancia sobre los ciclos menstruales y vigilancia sobre las relaciones sexuales que establecen las mujeres y con qui\\u00e9nes lo hacen\\u201d. Algunas de sus compa\\u00f1eras, seg\\u00fan Yurani, murieron despu\\u00e9s de practicarles abortos forzados. \\u201cEn el Yar\\u00ed hubo una muchacha que se llamaba Dayana y le dec\\u00edan la \\u2018Charuza\\u2019. A ella le practicaron el aborto y a los dos d\\u00edas muri\\u00f3 desangrada\\u201d, cont\\u00f3. Estos casos, dice el informe, se suman a las 21 muertes en similares condiciones que document\\u00f3 Justicia y Paz contra el Ej\\u00e9rcito Revolucionario Guevarista (Erg). El desgarrador informe advierte tambi\\u00e9n sobre los abusos perpetrados por el bando contrario. Un exparamilitar de las Autodefensas Campesinas del Casanare cont\\u00f3 que cuando las guerrilleras se dejaban \\u201ccoger vivas\\u201d eran v\\u00edctimas de torturas y violencia sexual. \\u201cS\\u00ed, era guerrillera, pero no ten\\u00edan derecho de violarla tantos manes, pasaron como unos 25 por encima de ella y la mataron a cuchillo\\u201d, confes\\u00f3. Magaly, exintegrante de las Farc, cont\\u00f3 que su prima, tambi\\u00e9n de la guerrilla, fue violada por el Ej\\u00e9rcito en un combate en el 2004: \\u201cLe echaron \\u00e1cido en la cara despu\\u00e9s de violada; yo estaba escondida y vi todo, y me daban rabia las cosas que le dec\\u00edan. Ellos le dec\\u00edan que por ser el Ej\\u00e9rcito pod\\u00edan violar y asesinar como si nada\\u201d. Como ya se conoce, los paramilitares utilizaron la violencia sexual como m\\u00e9todo de terror en las zonas a las que iban llegando. Pero no solo ocurr\\u00eda en la etapa de incursi\\u00f3n. Ya establecidos en las zonas, numerosos jefes se convirtieron en depredadores sexuales contra las comunidades que estaban en sus \\u00e1reas de influencia. El caso m\\u00e1s conocido es el de Hern\\u00e1n Giraldo, capo del cartel de Medell\\u00edn que termin\\u00f3 como jefe paramilitar de Magdalena. \\u201cEl se\\u00f1or (Hern\\u00e1n Giraldo) solo violaba ni\\u00f1as menores de 15 a\\u00f1os. Para \\u00e9l, y lo dijo p\\u00fablicamente en la audiencia, para \\u00e9l una mujer de 20 a\\u00f1os era una anciana. Las ten\\u00eda una semana y luego las devolv\\u00eda\\u201d, cont\\u00f3 una l\\u00edder de la zona rural de Santa Marta. Incluso, denunci\\u00f3 que estando preso (antes de ser extraditado a Estados Unidos) le llevaban menores de edad. En las goteras de Santa Marta, los paramilitares ten\\u00edan la pr\\u00e1ctica de quitar la luz en las noches para perpetrar sus ataques sexuales. Irrump\\u00edan en las casas y forzaban a familias enteras. Tambi\\u00e9n se documentaron casos de esterilizaci\\u00f3n forzada practicada en hospitales p\\u00fablicos. \\u201cNos mandaban a \\u2018capar\\u2019 para que no tuvi\\u00e9ramos hijos, y esto lo hicieron en el hospital. Era algo tan inhumano, llegaban con lista en mano\\u201d, dijo una de las mujeres afectadas. En Valle y Santander se documentaron casos de paramilitares que buscaban a sus v\\u00edctimas entre las ni\\u00f1as de las escuelas, como lo se\\u00f1al\\u00f3 la hist\\u00f3rica sentencia contra el bloque Central Bol\\u00edvar por casi 3.000 cr\\u00edmenes, entre ellos 1.013 de violencia sexual. Como ocurri\\u00f3 con Helena, a Esperanza la violaron por evitar que uno de sus peque\\u00f1os hijos fuera utilizado por paramilitares del bloque Cacique Nutibara para mover armas. Ocurri\\u00f3 en diciembre del 2002 en Medell\\u00edn. Ella decidi\\u00f3 mandar a los ni\\u00f1os a casa de su hermana, metidos en un armario del trasteo de una vecina. Cuando los \\u2018paras\\u2019 fueron a buscar al muchacho, la reacci\\u00f3n fue salvaje. \\u201cEntraron cuatro de ellos, cerraron la puerta, me tiraron a la cama, me amarraron de pies y manos, me da\\u00f1aron mi pijama y abusaron de m\\u00ed toda la noche\\u201d, relat\\u00f3 la mujer. El Centro de Memoria Hist\\u00f3rica recomienda a los gobiernos departamentales y municipales, a la academia y a las organizaciones sociales realizar investigaciones que contribuyan a la comprensi\\u00f3n de las variaciones locales de la violencia sexual, con el fin de conocer las condiciones que, en cada caso, han permitido su emergencia. Mary Luz L\\u00f3pez Mi mayor motivaci\\u00f3n es estar viva, respirar, saber que no me mataron, que mientras yo est\\u00e9 viva las letras hablar\\u00e1n por m\\u00ed y por otras mujeres. E scribo cuentos y poes\\u00eda para sacar el dolor. La escritura pasa por el coraz\\u00f3n, por el cuerpo y remueve muchas cosas. Uno tiene un talento escondido y el m\\u00edo es la escritura; eso me ha ayudado bastante. Yo creo que lo que lo mueve a uno es el amor, esa fortaleza y esa resiliencia que hay en uno para no quedarse postrado. Por eso hoy les digo a las mujeres que dejen el miedo, el miedo no viene detr\\u00e1s de uno, no callen. Sandra Gonz\\u00e1lez Mi principal motivaci\\u00f3n para seguir viva y seguir adelante, son mis hijos y mi familia. Cuando uno empieza a hablar, crea una conciencia con las otras mujeres que nunca han hablado, ellas se identifican con mi historia y dicen, a m\\u00ed tambi\\u00e9n me pas\\u00f3. Yo soy la voz de las mujeres que no tienen voz, soy la voz de las mujeres que han muerto. Ojal\\u00e1 que todo el mundo se entere de que esto pasa en Colombia y ojal\\u00e1 que el Estado lo reconozca. Ilda Osorio Mi prioridad y motivaci\\u00f3n son el resto de mujeres que han sufrido la misma violencia que yo. Porque s\\u00e9 lo que se siente, s\\u00e9 lo que duele, y s\\u00e9 la vida tan sucia que uno siente que lleva. El mensaje para las mujeres v\\u00edctimas es que escuchen la voz de esta experiencia que sufri\\u00f3 en carne propia la guerra en su propio cuerpo. S i 10 veces les cierran la puerta, hay que tocarla 50 veces, hasta que la abran. Para que los due\\u00f1os de esta guerra tambi\\u00e9n sean due\\u00f1os de esta verg\\u00fcenza, de esta culpa que nosotras no tenemos. Tulia Lozano En medio de una guerra nuestros cuerpos han sido botines de guerra. Nosotras no somos las culpables. No tenemos por qu\\u00e9 callar algo que nunca debi\\u00f3 haber sucedido. Hay que ir superando, ir saliendo, ir luchando por nuestros derechos, nosotras fuimos las m\\u00e1s damnificadas en esta guerra y por eso tenemos razones para seguir paradas luchando, as\\u00ed nos amenacen por hacerlo. JUSTICIA justicia@eltiempo.com @JusticiaET Miedo 11:19 p.m. Ejercite su mente en la cuarentena con este test de l\\u00f3gica matem\\u00e1tica Ponga a prueba esas clases de matem\\u00e1ticas del colegio y de la vida par ... Manizales 10:00 p.m. Ya se venden medicamentos de cannabis con f\\u00f3rmula m\\u00e9dica En farmacias especializadas de Colombia es posible acceder a medicamen ... Manizales 10:00 p.m. El gu\\u00eda de la salud mental del pueblo con m\\u00e1s casos de bipolaridad Coronavirus en Colombia 09:31 p.m. Una cabina de desinfecci\\u00f3n manual para Barranquilla Valle del Cauca 07:50 p.m. Se han recogido cerca de 132 mil mercados en 'Donat\\u00f3n Valle Solidario'\",\n          \"Por el homicidio de cuatro mineros en Remedios, Antioquia, y por financiar grupos armados ilegales en el noreste de ese departamento, un juez sentenci\\u00f3 a 55 a\\u00f1os de c\\u00e1rcel a Jairo Hugo Escobar Cata\\u00f1o, conocido como el Zar del Oro. El 20 de diciembre de 2011 los mineros Johan Esteban Pareja Avenda\\u00f1o, Jaime Nicol\\u00e1s Jim\\u00e9nez, y los hermanos Yeison Andr\\u00e9s y Wilmar Alberto Taborda Jim\\u00e9nez, a quienes se les conoc\\u00eda como los serafines, fueron citados a una supuesta reuni\\u00f3n en la finca La T\\u00eda ubicada en la vereda La Roca, donde fueron asesinados por una estructura criminal. La Fiscal\\u00eda estableci\\u00f3 adem\\u00e1s que por el crimen se pagaron 800 millones de pesos. De acuerdo con las investigaciones, el homicidio estar\\u00eda relacionado con un atentado del que Escobar sali\\u00f3 ileso en el el 2011, y con la negativa de los mineros de vender un yacimiento aur\\u00edfero del que eran copropietarios. Los investigadores determinaron tambi\\u00e9n que Escobar Cata\\u00f1o aportaba considerables sumas de dinero para el pago de n\\u00f3mina de una organizaci\\u00f3n delincuencial conocida como \\u2018Seguridad H\\u00e9roes del Nordeste\\u2019. Escobar no es el \\u00fanico \\u2018zar\\u2019 del metal dorado . John \\u00daber Hern\\u00e1ndez , cabeza de la firma G\\u00f3ldex, lleg\\u00f3 a ser uno de los principales fundidores del pa\\u00eds, por lo que tambi\\u00e9n se gan\\u00f3 ese apelativo. Es se\\u00f1alado de haber lavado 2,3 billones de pesos a trav\\u00e9s de la firma.\\u00a0A pesar de la gravedad de los cargos, inexplicablemente qued\\u00f3 libre por vencimiento de t\\u00e9rminos. JUSTICIA Miedo 11:19 p.m. Ejercite su mente en la cuarentena con este test de l\\u00f3gica matem\\u00e1tica Ponga a prueba esas clases de matem\\u00e1ticas del colegio y de la vida par ... Manizales 10:00 p.m. Ya se venden medicamentos de cannabis con f\\u00f3rmula m\\u00e9dica En farmacias especializadas de Colombia es posible acceder a medicamen ... Manizales 10:00 p.m. El gu\\u00eda de la salud mental del pueblo con m\\u00e1s casos de bipolaridad Coronavirus en Colombia 09:31 p.m. Una cabina de desinfecci\\u00f3n manual para Barranquilla Valle del Cauca 07:50 p.m. Se han recogido cerca de 132 mil mercados en 'Donat\\u00f3n Valle Solidario'\",\n          \"Avianca  Brasil, la cuarta mayor compa\\u00f1\\u00eda a\\u00e9rea del pa\\u00eds y que en diciembre se acogi\\u00f3 a la ley de bancarrota, dejar\\u00e1 de volar 21 rutas en abril y cerrar\\u00e1 tres bases de operaciones, seg\\u00fan inform\\u00f3 este martes la empresa. En un comunicado, Avianca Brasil, nombre comercial bajo el cual opera la empresa Ocean Air,  indic\\u00f3 que la decisi\\u00f3n forma parte del \\\"plan de recuperaci\\u00f3n judicial\\\" con el que est\\u00e1 \\\"readecuando progresivamente\\\" sus operaciones para reducir el tama\\u00f1o de la flota y alcanzar el \\\"objetivo\\\" de operar 23 rutas, de las 53 que tiene en la actualidad, solo con 26 aviones. Las tres bases operacionales que cerrar\\u00e1 definitivamente la compa\\u00f1\\u00eda son las del aeropuerto internacional de Galeao, en R\\u00edo de Janeiro; la de Petrolina (Pernambuco, noreste) y la de Belem, capital del amaz\\u00f3nico estado de Par\\u00e1. Al dejar de operar 21 rutas, las 32 restantes, calificadas como \\\"estrat\\u00e9gicas\\\", se mantendr\\u00e1n \\\"normalmente\\\" y \\\"dentro del cronograma previsto\\\". De las 21 rutas que ser\\u00e1n canceladas, dos tienen destino internacional con vuelos a Bogot\\u00e1 partiendo desde Fortaleza y Salvador, ambas en el noreste del pa\\u00eds. Con la cancelaci\\u00f3n de las rutas del Galeao, la ciudad m\\u00e1s afectada con la decisi\\u00f3n fue la capital Brasilia, que perder\\u00e1 el vuelo con el mayor aeropuerto de R\\u00edo de Janeiro y su conexi\\u00f3n directa con Cuiab\\u00e1 (oeste) y Fortaleza, Salvador y Macei\\u00f3 (noreste). La aerol\\u00ednea brasile\\u00f1a se acogi\\u00f3 en diciembre pasado a la ley de quiebras para garantizar la continuidad de sus operaciones y la sustentabilidad de su negocio, as\\u00ed como para reestructurar una elevada deuda que le acarre\\u00f3 varias demandas en los tribunales. El pasado 11 de marzo, la aerol\\u00ednea brasile\\u00f1a de bajo coste Azul, la tercera mayor compa\\u00f1\\u00eda a\\u00e9rea del pa\\u00eds, anunci\\u00f3 que firm\\u00f3 un acuerdo de intenci\\u00f3n por 105 millones de d\\u00f3lares para adquirir parte de los activos de  Avianca  Brasil. Entre esos activos est\\u00e1n el certificado de operador a\\u00e9reo de Avianca  Brasil, setenta pares de \\\"slots\\\" -como se conoce a los derechos de despegar y aterrizar en aeropuertos congestionados- y aproximadamente treinta aeronaves Airbus A320. Avianca  Brasil opera vuelos regulares desde el 2002 y en enero pasado anunci\\u00f3 el recorte de sus vuelos internacionales directos desde Guarulhos, que opera para Sao Paulo, a las ciudades de Santiago de Chile, Nueva York y Miami. OceanAir es una compa\\u00f1\\u00eda independiente de Avianca Holdings S.A. y utiliza comercialmente el nombre de \\\"Avianca  Brasil\\\", en virtud de un acuerdo de licencia de uso de nombre que celebr\\u00f3 con Aerov\\u00edas del Continente Americano S.A, con sede en Colombia. EFE Miedo 11:19 p.m. Ejercite su mente en la cuarentena con este test de l\\u00f3gica matem\\u00e1tica Ponga a prueba esas clases de matem\\u00e1ticas del colegio y de la vida par ... Manizales 10:00 p.m. Ya se venden medicamentos de cannabis con f\\u00f3rmula m\\u00e9dica En farmacias especializadas de Colombia es posible acceder a medicamen ... Manizales 10:00 p.m. El gu\\u00eda de la salud mental del pueblo con m\\u00e1s casos de bipolaridad Coronavirus en Colombia 09:31 p.m. Una cabina de desinfecci\\u00f3n manual para Barranquilla Valle del Cauca 07:50 p.m. Se han recogido cerca de 132 mil mercados en 'Donat\\u00f3n Valle Solidario'\"\n        ],\n        \"semantic_type\": \"\",\n        \"description\": \"\"\n      }\n    },\n    {\n      \"column\": \"Etiqueta\",\n      \"properties\": {\n        \"dtype\": \"category\",\n        \"num_unique_values\": 7,\n        \"samples\": [\n          \"cultura\",\n          \"deportes\",\n          \"salud\"\n        ],\n        \"semantic_type\": \"\",\n        \"description\": \"\"\n      }\n    },\n    {\n      \"column\": \"unified_text\",\n      \"properties\": {\n        \"dtype\": \"string\",\n        \"num_unique_values\": 2385,\n        \"samples\": [\n          \"T\\u00edtulo: Informe devela 57 a\\u00f1os de violencia sexual en la guerra. Resumen: El documento 'La guerra inscrita en el cuerpo\\u2019 muestra la magnitud de ese crimen en el pa\\u00eds.. Contenido: Helena, una campesina del sur del Tolima, uno de los enclaves hist\\u00f3ricos de las Farc, logr\\u00f3 salvar a sus hijos de 10, 14 y 15 a\\u00f1os de ser reclutados por esa guerrilla. Eso ocurri\\u00f3 hace siete a\\u00f1os, en el 2010. Guerrilleros del frente 21 le mandaron raz\\u00f3n de que preparara a los muchachos porque \\u201ciban a pasar por ellos\\u201d, y ese mismo d\\u00eda ella decidi\\u00f3 sacarlos de la vereda escondidos, entre guacales, en un carro de venta de bananos. \\u201cAll\\u00e1, en cada vereda, en cada finca, a usted le dicen: \\u2018Tiene dos o tres hijos, y a medida que vayan creciendo, de los 10 a\\u00f1os en adelante, se los van llevando\\u2019. Y si usted habla o algo, es peor: lo matan. La ley es que todo el mundo va a engrosar la fila de la guerrilla\\u201d, cont\\u00f3 la mujer. Pero la valent\\u00eda para defender a sus hijos termin\\u00f3 por convertirla en v\\u00edctima de violencia sexual. \\u201cLes dec\\u00eda que yo por mis hijos me hago matar. Fueron a mi casa a las 9 de la noche. Me ataron las manos atr\\u00e1s. Me llevaron al \\u2018Rinc\\u00f3n de la muerte\\u2019 (en inmediaciones de la quebrada La Catalina, donde los grupos armados asesinaron a varias personas)\\u201d. All\\u00e1 estaba \\u2018Agust\\u00edn\\u2019, el jefe del frente 21, que muri\\u00f3 en combate con el Ej\\u00e9rcito en el 2012: \\u201c\\u00c9l me viol\\u00f3 y les dijo a los otros: \\u2018Cada uno haga lo que quiera con ella, tenemos cinco horas para hacer todo lo que quieran\\u2019 \\u201d. Testimonios como el de Helena fueron recogidos por el Centro Nacional de Memoria Hist\\u00f3rica en el informe \\u2018La guerra inscrita en el cuerpo\\u2019, revelado esta semana y que reconstruye c\\u00f3mo todos los grupos armados y muchos agentes del Estado utilizaron la violencia sexual en medio del conflicto armado . La investigaci\\u00f3n tiene casos desde 1959 y su macabro balance \\u2013que claramente es inferior a la realidad, porque muchas v\\u00edctimas temen denunciar incluso hoy\\u2013 es que al menos 15.000 ni\\u00f1as y mujeres, pero tambi\\u00e9n muchos ni\\u00f1os y adolescentes, fueron violados por los actores de la guerra. La mayor\\u00eda de los casos no tiene un responsable identificado. Pero el documento, de 550 p\\u00e1ginas, encontr\\u00f3 que los grupos paramilitares fueron se\\u00f1alados por 4.837 v\\u00edctimas; las guerrillas de las Farc, el Eln y el Erg, por 4.722, y los agentes del Estado, por al menos 206. El Centro Nacional de Memoria Hist\\u00f3rica acudi\\u00f3 a expedientes judiciales y a testimonios directos para retratar las pr\\u00e1cticas de sometimiento. Muchas de ellas han sido documentadas y ampliamente recogidas en la \\u00faltima d\\u00e9cada, gracias a las confesiones de paramilitares desmovilizados ante la jurisdicci\\u00f3n de Justicia y Paz y, sobre todo, a la valent\\u00eda de centenares de v\\u00edctimas que se atrevieron a romper el miedo y la impunidad. En cuanto a las guerrillas, la violencia sexual fue ejercida tanto contra las comunidades de sus zonas de influencia como contra las ni\\u00f1as y adolescentes reclutadas. La plena confesi\\u00f3n sobre esas pr\\u00e1cticas ser\\u00e1 una de las pruebas de fuego sobre el real compromiso de los desmovilizados ante la nueva Jurisdicci\\u00f3n Especial para la Paz (JEP), pues la verdad y la reparaci\\u00f3n a las v\\u00edctimas son parte de las condiciones para acceder a penas alternativas. Esta semana, de hecho, caus\\u00f3 revuelo el se\\u00f1alamiento directo contra \\u2018Ra\\u00fal Reyes\\u2019, uno de los \\u00edconos de las Farc, quien, como lo revel\\u00f3 EL TIEMPO, fue acusado por mujeres de su escolta \\u2013que fueron elegidas por \\u00e9l cuando contaban apenas con 10 u 11 a\\u00f1os\\u2013 de abusar sistem\\u00e1ticamente de ellas. En sus estatutos, las Farc castigan incluso con la muerte las violaciones y otro tipo de abusos sexuales. Lo que las v\\u00edctimas denuncian es que si bien esto pod\\u00eda regir para los mandos medios o los combatientes rasos, rara vez aplicaba para los jefes de frente y menos para hombres tan poderosos en la organizaci\\u00f3n como \\u2018Reyes\\u2019, cuya muerte en un bombardeo de la Fuerza A\\u00e9rea marc\\u00f3 en el 2008 el declive militar de las Farc. \\u201cA \\u00e9l le gustaba cogerlo a uno para escolta, siempre ten\\u00eda muchachas as\\u00ed y despu\\u00e9s abusaba de uno, a \\u00e9l le gustaba abusar de las muchachas que llevaba\\u201d, dijo Gina, quien fue su guardaespaldas durante 16 a\\u00f1os. El informe se\\u00f1ala que algunos frentes tambi\\u00e9n usaron la violaci\\u00f3n para castigar a quienes se negaban a pagar las vacunas. En el 2006, Yuliana, de 40 a\\u00f1os y con nueve meses de embarazo, fue atacada por guerrilleros del frente 32 en el Huila. La violaron en frente de su esposo. \\u201cLlegaron hombres comandados por \\u2018Joaqu\\u00edn\\u2019 y yo les dije que qu\\u00e9 pasaba, si ellos sab\\u00edan que nosotros les pag\\u00e1bamos, que nosotros \\u00e9ramos gente de bien, que me dieran una explicaci\\u00f3n (...). \\u00c9l (Joaqu\\u00edn) y otros dos abusaron de m\\u00ed. Mi esposo lloraba de ver lo que me estaban haciendo\\u201d, narr\\u00f3 la mujer. \\u201cA las mujeres les recuerdan la cuota que deben sus parejas con violencia sexual, o les cobran parte de la cuota o de los intereses de esta forma. Donde hay extorsiones a los comerciantes, suele existir violencia sexual hacia sus esposas para que recuerden que no deben dejar de pagar la cuota\\u201d, dice el informe. En Meta y Buenaventura se encontr\\u00f3 que las Farc \\u201cutilizaron t\\u00e9cnicas de control moral sobre las mujeres y las comunidades con el prop\\u00f3sito de regular la vida cotidiana de la poblaci\\u00f3n y establecer un control de g\\u00e9nero\\u201d. Tambi\\u00e9n buscaban \\u201cproclamarse como la \\u00fanica autoridad capaz de hacer uso de la fuerza en el territorio\\u201d. \\u201cEllos ten\\u00edan sus leyes y castigaban, y a quienes no cumpl\\u00edan sus leyes los mataban\\u201d, dijo una mujer durante un taller de reconstrucci\\u00f3n de memoria. \\u201cParamilitares y guerrillas establecieron, cada uno, sus propias pautas de comportamiento, nociones frente al delito; regularon la vida afectiva, los ritmos y espacios cotidianos, la vida social, la sexualidad, los espacios de divertimento y las formas de llevar y conducir los cuerpos\\u201d, se\\u00f1alan los investigadores del Centro Nacional de Memoria Hist\\u00f3rica. En el 2009, en Nari\\u00f1o, una lesbiana fue v\\u00edctima de guerrilleros porque decidi\\u00f3 vivir abiertamente con su pareja. Una noche su casa fue asaltada. A las dos las violaron y a su compa\\u00f1era la desaparecieron. \\u201cLos paramilitares y las guerrillas tuvieron el af\\u00e1n de \\u2018limpiar\\u2019 de sus territorios a aquellos cuerpos que representaban contaminaci\\u00f3n, desviaci\\u00f3n, inmoralidad y enfermedades\\u201d, advierte el documento. Este resalta tambi\\u00e9n los casos de ni\\u00f1as que fueron reclutadas y, despu\\u00e9s, v\\u00edctimas de abuso. Rosa, que fue guerrillera en el Meta, cont\\u00f3 que fue reclutada por las Farc junto con sus dos primas, de 9 y 10 a\\u00f1os, en los a\\u00f1os 80. \\u201cHac\\u00edan dos filas, las que eran v\\u00edrgenes y las que no. Los que comandaban ten\\u00edan relaciones con las ni\\u00f1as v\\u00edrgenes. Y ya los dem\\u00e1s compa\\u00f1eros eran los que abusaban de otras muchachas. Pero siempre las v\\u00edrgenes pasaban por la cabeza mayor\\u201d, afirm\\u00f3. \\u201cLa relaci\\u00f3n entre reclutamiento de ni\\u00f1as y adolescentes y violencia sexual en el interior de las Farc fue com\\u00fan. Se repitieron y recrudecieron en las filas discursos que situaban los cuerpos de las ni\\u00f1as como cuerpos-premio para los altos comandantes\\u201d, se\\u00f1ala el informe. Pero esa pr\\u00e1ctica se daba en todos los actores armados. Neyit, excombatiente de la guerrilla del Eln, fue reclutada a los 15 a\\u00f1os y a los dos d\\u00edas la violaron: \\u201cReclutaban y hac\\u00edan lo que quisieran con las muchachas. El que me reclut\\u00f3 lleg\\u00f3 a mi habitaci\\u00f3n y me quiso besar, y no lo dej\\u00e9. Luego vino con dos muchachos, uno me agarr\\u00f3 las manos y otro los pies, y \\u00e9l me iba quitando la ropa\\u201d. Para evitar ser atacada por otros, la joven termin\\u00f3 como pareja del violador, que ten\\u00eda mando en la tropa. Yurani, quien form\\u00f3 parte de las Farc en el suroriente del pa\\u00eds, cont\\u00f3 que tuvo tres abortos forzados. En las tres ocasiones quiso tener el beb\\u00e9 ocultando su estado, pero siempre fue descubierta y sancionada. La \\u00faltima vez ten\\u00eda ocho meses de embarazo. \\u201cCuando eso todav\\u00eda estaba vivo el \\u2018Mono Jojoy\\u2019. \\u00c9l dijo: \\u2018H\\u00e1gale el aborto\\u2019, y al otro d\\u00eda madrugaron a meterme la pasta esa para hacerme un legrado\\u201d, narr\\u00f3. Con estos testimonios, el informe rese\\u00f1a que las decisiones sobre los cuerpos de las mujeres estaban en poder de los comandantes. En las Farc y en los otros grupos, dice el Centro Nacional de Memoria Hist\\u00f3rica, las combatientes fueron obligadas a pr\\u00e1cticas de anticoncepci\\u00f3n, aborto y esterilizaci\\u00f3n forzada. \\u201cDicha renuncia obligada a la maternidad se configura como un reflejo m\\u00e1s del ejercicio de entrenamiento y acondicionamiento del cuerpo femenino a la guerra: un cuerpo masculinizado \\u2013se\\u00f1ala el documento\\u2013. Las ni\\u00f1as y mujeres son sujetas a controles sanitarios constantes, verificaci\\u00f3n y vigilancia sobre los ciclos menstruales y vigilancia sobre las relaciones sexuales que establecen las mujeres y con qui\\u00e9nes lo hacen\\u201d. Algunas de sus compa\\u00f1eras, seg\\u00fan Yurani, murieron despu\\u00e9s de practicarles abortos forzados. \\u201cEn el Yar\\u00ed hubo una muchacha que se llamaba Dayana y le dec\\u00edan la \\u2018Charuza\\u2019. A ella le practicaron el aborto y a los dos d\\u00edas muri\\u00f3 desangrada\\u201d, cont\\u00f3. Estos casos, dice el informe, se suman a las 21 muertes en similares condiciones que document\\u00f3 Justicia y Paz contra el Ej\\u00e9rcito Revolucionario Guevarista (Erg). El desgarrador informe advierte tambi\\u00e9n sobre los abusos perpetrados por el bando contrario. Un exparamilitar de las Autodefensas Campesinas del Casanare cont\\u00f3 que cuando las guerrilleras se dejaban \\u201ccoger vivas\\u201d eran v\\u00edctimas de torturas y violencia sexual. \\u201cS\\u00ed, era guerrillera, pero no ten\\u00edan derecho de violarla tantos manes, pasaron como unos 25 por encima de ella y la mataron a cuchillo\\u201d, confes\\u00f3. Magaly, exintegrante de las Farc, cont\\u00f3 que su prima, tambi\\u00e9n de la guerrilla, fue violada por el Ej\\u00e9rcito en un combate en el 2004: \\u201cLe echaron \\u00e1cido en la cara despu\\u00e9s de violada; yo estaba escondida y vi todo, y me daban rabia las cosas que le dec\\u00edan. Ellos le dec\\u00edan que por ser el Ej\\u00e9rcito pod\\u00edan violar y asesinar como si nada\\u201d. Como ya se conoce, los paramilitares utilizaron la violencia sexual como m\\u00e9todo de terror en las zonas a las que iban llegando. Pero no solo ocurr\\u00eda en la etapa de incursi\\u00f3n. Ya establecidos en las zonas, numerosos jefes se convirtieron en depredadores sexuales contra las comunidades que estaban en sus \\u00e1reas de influencia. El caso m\\u00e1s conocido es el de Hern\\u00e1n Giraldo, capo del cartel de Medell\\u00edn que termin\\u00f3 como jefe paramilitar de Magdalena. \\u201cEl se\\u00f1or (Hern\\u00e1n Giraldo) solo violaba ni\\u00f1as menores de 15 a\\u00f1os. Para \\u00e9l, y lo dijo p\\u00fablicamente en la audiencia, para \\u00e9l una mujer de 20 a\\u00f1os era una anciana. Las ten\\u00eda una semana y luego las devolv\\u00eda\\u201d, cont\\u00f3 una l\\u00edder de la zona rural de Santa Marta. Incluso, denunci\\u00f3 que estando preso (antes de ser extraditado a Estados Unidos) le llevaban menores de edad. En las goteras de Santa Marta, los paramilitares ten\\u00edan la pr\\u00e1ctica de quitar la luz en las noches para perpetrar sus ataques sexuales. Irrump\\u00edan en las casas y forzaban a familias enteras. Tambi\\u00e9n se documentaron casos de esterilizaci\\u00f3n forzada practicada en hospitales p\\u00fablicos. \\u201cNos mandaban a \\u2018capar\\u2019 para que no tuvi\\u00e9ramos hijos, y esto lo hicieron en el hospital. Era algo tan inhumano, llegaban con lista en mano\\u201d, dijo una de las mujeres afectadas. En Valle y Santander se documentaron casos de paramilitares que buscaban a sus v\\u00edctimas entre las ni\\u00f1as de las escuelas, como lo se\\u00f1al\\u00f3 la hist\\u00f3rica sentencia contra el bloque Central Bol\\u00edvar por casi 3.000 cr\\u00edmenes, entre ellos 1.013 de violencia sexual. Como ocurri\\u00f3 con Helena, a Esperanza la violaron por evitar que uno de sus peque\\u00f1os hijos fuera utilizado por paramilitares del bloque Cacique Nutibara para mover armas. Ocurri\\u00f3 en diciembre del 2002 en Medell\\u00edn. Ella decidi\\u00f3 mandar a los ni\\u00f1os a casa de su hermana, metidos en un armario del trasteo de una vecina. Cuando los \\u2018paras\\u2019 fueron a buscar al muchacho, la reacci\\u00f3n fue salvaje. \\u201cEntraron cuatro de ellos, cerraron la puerta, me tiraron a la cama, me amarraron de pies y manos, me da\\u00f1aron mi pijama y abusaron de m\\u00ed toda la noche\\u201d, relat\\u00f3 la mujer. El Centro de Memoria Hist\\u00f3rica recomienda a los gobiernos departamentales y municipales, a la academia y a las organizaciones sociales realizar investigaciones que contribuyan a la comprensi\\u00f3n de las variaciones locales de la violencia sexual, con el fin de conocer las condiciones que, en cada caso, han permitido su emergencia. Mary Luz L\\u00f3pez Mi mayor motivaci\\u00f3n es estar viva, respirar, saber que no me mataron, que mientras yo est\\u00e9 viva las letras hablar\\u00e1n por m\\u00ed y por otras mujeres. E scribo cuentos y poes\\u00eda para sacar el dolor. La escritura pasa por el coraz\\u00f3n, por el cuerpo y remueve muchas cosas. Uno tiene un talento escondido y el m\\u00edo es la escritura; eso me ha ayudado bastante. Yo creo que lo que lo mueve a uno es el amor, esa fortaleza y esa resiliencia que hay en uno para no quedarse postrado. Por eso hoy les digo a las mujeres que dejen el miedo, el miedo no viene detr\\u00e1s de uno, no callen. Sandra Gonz\\u00e1lez Mi principal motivaci\\u00f3n para seguir viva y seguir adelante, son mis hijos y mi familia. Cuando uno empieza a hablar, crea una conciencia con las otras mujeres que nunca han hablado, ellas se identifican con mi historia y dicen, a m\\u00ed tambi\\u00e9n me pas\\u00f3. Yo soy la voz de las mujeres que no tienen voz, soy la voz de las mujeres que han muerto. Ojal\\u00e1 que todo el mundo se entere de que esto pasa en Colombia y ojal\\u00e1 que el Estado lo reconozca. Ilda Osorio Mi prioridad y motivaci\\u00f3n son el resto de mujeres que han sufrido la misma violencia que yo. Porque s\\u00e9 lo que se siente, s\\u00e9 lo que duele, y s\\u00e9 la vida tan sucia que uno siente que lleva. El mensaje para las mujeres v\\u00edctimas es que escuchen la voz de esta experiencia que sufri\\u00f3 en carne propia la guerra en su propio cuerpo. S i 10 veces les cierran la puerta, hay que tocarla 50 veces, hasta que la abran. Para que los due\\u00f1os de esta guerra tambi\\u00e9n sean due\\u00f1os de esta verg\\u00fcenza, de esta culpa que nosotras no tenemos. Tulia Lozano En medio de una guerra nuestros cuerpos han sido botines de guerra. Nosotras no somos las culpables. No tenemos por qu\\u00e9 callar algo que nunca debi\\u00f3 haber sucedido. Hay que ir superando, ir saliendo, ir luchando por nuestros derechos, nosotras fuimos las m\\u00e1s damnificadas en esta guerra y por eso tenemos razones para seguir paradas luchando, as\\u00ed nos amenacen por hacerlo. JUSTICIA justicia@eltiempo.com @JusticiaET Miedo 11:19 p.m. Ejercite su mente en la cuarentena con este test de l\\u00f3gica matem\\u00e1tica Ponga a prueba esas clases de matem\\u00e1ticas del colegio y de la vida par ... Manizales 10:00 p.m. Ya se venden medicamentos de cannabis con f\\u00f3rmula m\\u00e9dica En farmacias especializadas de Colombia es posible acceder a medicamen ... Manizales 10:00 p.m. El gu\\u00eda de la salud mental del pueblo con m\\u00e1s casos de bipolaridad Coronavirus en Colombia 09:31 p.m. Una cabina de desinfecci\\u00f3n manual para Barranquilla Valle del Cauca 07:50 p.m. Se han recogido cerca de 132 mil mercados en 'Donat\\u00f3n Valle Solidario'.\",\n          \"T\\u00edtulo: El prontuario que condena a 55 a\\u00f1os de prisi\\u00f3n al \\u2018Zar del Oro\\u2019. Resumen: Fue hallado culpable del homicidio de cuatro mineros y de financiar grupos criminales.. Contenido: Por el homicidio de cuatro mineros en Remedios, Antioquia, y por financiar grupos armados ilegales en el noreste de ese departamento, un juez sentenci\\u00f3 a 55 a\\u00f1os de c\\u00e1rcel a Jairo Hugo Escobar Cata\\u00f1o, conocido como el Zar del Oro. El 20 de diciembre de 2011 los mineros Johan Esteban Pareja Avenda\\u00f1o, Jaime Nicol\\u00e1s Jim\\u00e9nez, y los hermanos Yeison Andr\\u00e9s y Wilmar Alberto Taborda Jim\\u00e9nez, a quienes se les conoc\\u00eda como los serafines, fueron citados a una supuesta reuni\\u00f3n en la finca La T\\u00eda ubicada en la vereda La Roca, donde fueron asesinados por una estructura criminal. La Fiscal\\u00eda estableci\\u00f3 adem\\u00e1s que por el crimen se pagaron 800 millones de pesos. De acuerdo con las investigaciones, el homicidio estar\\u00eda relacionado con un atentado del que Escobar sali\\u00f3 ileso en el el 2011, y con la negativa de los mineros de vender un yacimiento aur\\u00edfero del que eran copropietarios. Los investigadores determinaron tambi\\u00e9n que Escobar Cata\\u00f1o aportaba considerables sumas de dinero para el pago de n\\u00f3mina de una organizaci\\u00f3n delincuencial conocida como \\u2018Seguridad H\\u00e9roes del Nordeste\\u2019. Escobar no es el \\u00fanico \\u2018zar\\u2019 del metal dorado . John \\u00daber Hern\\u00e1ndez , cabeza de la firma G\\u00f3ldex, lleg\\u00f3 a ser uno de los principales fundidores del pa\\u00eds, por lo que tambi\\u00e9n se gan\\u00f3 ese apelativo. Es se\\u00f1alado de haber lavado 2,3 billones de pesos a trav\\u00e9s de la firma.\\u00a0A pesar de la gravedad de los cargos, inexplicablemente qued\\u00f3 libre por vencimiento de t\\u00e9rminos. JUSTICIA Miedo 11:19 p.m. Ejercite su mente en la cuarentena con este test de l\\u00f3gica matem\\u00e1tica Ponga a prueba esas clases de matem\\u00e1ticas del colegio y de la vida par ... Manizales 10:00 p.m. Ya se venden medicamentos de cannabis con f\\u00f3rmula m\\u00e9dica En farmacias especializadas de Colombia es posible acceder a medicamen ... Manizales 10:00 p.m. El gu\\u00eda de la salud mental del pueblo con m\\u00e1s casos de bipolaridad Coronavirus en Colombia 09:31 p.m. Una cabina de desinfecci\\u00f3n manual para Barranquilla Valle del Cauca 07:50 p.m. Se han recogido cerca de 132 mil mercados en 'Donat\\u00f3n Valle Solidario'.\",\n          \"T\\u00edtulo: Avianca Brasil dejar\\u00e1 de volar 21 rutas y cerrar\\u00e1 tres bases. Resumen: La firma, tambi\\u00e9n del empresario Germ\\u00e1n Efromovich, quedar\\u00e1 operando solo con 26 aviones.. Contenido: Avianca  Brasil, la cuarta mayor compa\\u00f1\\u00eda a\\u00e9rea del pa\\u00eds y que en diciembre se acogi\\u00f3 a la ley de bancarrota, dejar\\u00e1 de volar 21 rutas en abril y cerrar\\u00e1 tres bases de operaciones, seg\\u00fan inform\\u00f3 este martes la empresa. En un comunicado, Avianca Brasil, nombre comercial bajo el cual opera la empresa Ocean Air,  indic\\u00f3 que la decisi\\u00f3n forma parte del \\\"plan de recuperaci\\u00f3n judicial\\\" con el que est\\u00e1 \\\"readecuando progresivamente\\\" sus operaciones para reducir el tama\\u00f1o de la flota y alcanzar el \\\"objetivo\\\" de operar 23 rutas, de las 53 que tiene en la actualidad, solo con 26 aviones. Las tres bases operacionales que cerrar\\u00e1 definitivamente la compa\\u00f1\\u00eda son las del aeropuerto internacional de Galeao, en R\\u00edo de Janeiro; la de Petrolina (Pernambuco, noreste) y la de Belem, capital del amaz\\u00f3nico estado de Par\\u00e1. Al dejar de operar 21 rutas, las 32 restantes, calificadas como \\\"estrat\\u00e9gicas\\\", se mantendr\\u00e1n \\\"normalmente\\\" y \\\"dentro del cronograma previsto\\\". De las 21 rutas que ser\\u00e1n canceladas, dos tienen destino internacional con vuelos a Bogot\\u00e1 partiendo desde Fortaleza y Salvador, ambas en el noreste del pa\\u00eds. Con la cancelaci\\u00f3n de las rutas del Galeao, la ciudad m\\u00e1s afectada con la decisi\\u00f3n fue la capital Brasilia, que perder\\u00e1 el vuelo con el mayor aeropuerto de R\\u00edo de Janeiro y su conexi\\u00f3n directa con Cuiab\\u00e1 (oeste) y Fortaleza, Salvador y Macei\\u00f3 (noreste). La aerol\\u00ednea brasile\\u00f1a se acogi\\u00f3 en diciembre pasado a la ley de quiebras para garantizar la continuidad de sus operaciones y la sustentabilidad de su negocio, as\\u00ed como para reestructurar una elevada deuda que le acarre\\u00f3 varias demandas en los tribunales. El pasado 11 de marzo, la aerol\\u00ednea brasile\\u00f1a de bajo coste Azul, la tercera mayor compa\\u00f1\\u00eda a\\u00e9rea del pa\\u00eds, anunci\\u00f3 que firm\\u00f3 un acuerdo de intenci\\u00f3n por 105 millones de d\\u00f3lares para adquirir parte de los activos de  Avianca  Brasil. Entre esos activos est\\u00e1n el certificado de operador a\\u00e9reo de Avianca  Brasil, setenta pares de \\\"slots\\\" -como se conoce a los derechos de despegar y aterrizar en aeropuertos congestionados- y aproximadamente treinta aeronaves Airbus A320. Avianca  Brasil opera vuelos regulares desde el 2002 y en enero pasado anunci\\u00f3 el recorte de sus vuelos internacionales directos desde Guarulhos, que opera para Sao Paulo, a las ciudades de Santiago de Chile, Nueva York y Miami. OceanAir es una compa\\u00f1\\u00eda independiente de Avianca Holdings S.A. y utiliza comercialmente el nombre de \\\"Avianca  Brasil\\\", en virtud de un acuerdo de licencia de uso de nombre que celebr\\u00f3 con Aerov\\u00edas del Continente Americano S.A, con sede en Colombia. EFE Miedo 11:19 p.m. Ejercite su mente en la cuarentena con este test de l\\u00f3gica matem\\u00e1tica Ponga a prueba esas clases de matem\\u00e1ticas del colegio y de la vida par ... Manizales 10:00 p.m. Ya se venden medicamentos de cannabis con f\\u00f3rmula m\\u00e9dica En farmacias especializadas de Colombia es posible acceder a medicamen ... Manizales 10:00 p.m. El gu\\u00eda de la salud mental del pueblo con m\\u00e1s casos de bipolaridad Coronavirus en Colombia 09:31 p.m. Una cabina de desinfecci\\u00f3n manual para Barranquilla Valle del Cauca 07:50 p.m. Se han recogido cerca de 132 mil mercados en 'Donat\\u00f3n Valle Solidario'.\"\n        ],\n        \"semantic_type\": \"\",\n        \"description\": \"\"\n      }\n    },\n    {\n      \"column\": \"cleaned_text\",\n      \"properties\": {\n        \"dtype\": \"string\",\n        \"num_unique_values\": 2385,\n        \"samples\": [\n          \"T\\u00edtulo: Informe devela 57 a\\u00f1os de violencia sexual en la guerra. Resumen: El documento 'La guerra inscrita en el cuerpo\\u2019 muestra la magnitud de ese crimen en el pa\\u00eds. Contenido: Helena, una campesina del sur del Tolima, uno de los enclaves hist\\u00f3ricos de las Farc, logr\\u00f3 salvar a sus hijos de 10, 14 y 15 a\\u00f1os de ser reclutados por esa guerrilla. Eso ocurri\\u00f3 hace siete a\\u00f1os, en el 2010. Guerrilleros del frente 21 le mandaron raz\\u00f3n de que preparara a los muchachos porque \\u201ciban a pasar por ellos\\u201d, y ese mismo d\\u00eda ella decidi\\u00f3 sacarlos de la vereda escondidos, entre guacales, en un carro de venta de bananos. \\u201cAll\\u00e1, en cada vereda, en cada finca, a usted le dicen: \\u2018Tiene dos o tres hijos, y a medida que vayan creciendo, de los 10 a\\u00f1os en adelante, se los van llevando\\u2019. Y si usted habla o algo, es peor: lo matan. La ley es que todo el mundo va a engrosar la fila de la guerrilla\\u201d, cont\\u00f3 la mujer. Pero la valent\\u00eda para defender a sus hijos termin\\u00f3 por convertirla en v\\u00edctima de violencia sexual. \\u201cLes dec\\u00eda que yo por mis hijos me hago matar. Fueron a mi casa a las 9 de la noche. Me ataron las manos atr\\u00e1s. Me llevaron al \\u2018Rinc\\u00f3n de la muerte\\u2019 (en inmediaciones de la quebrada La Catalina, donde los grupos armados asesinaron a varias personas)\\u201d. All\\u00e1 estaba \\u2018Agust\\u00edn\\u2019, el jefe del frente 21, que muri\\u00f3 en combate con el Ej\\u00e9rcito en el 2012: \\u201c\\u00c9l me viol\\u00f3 y les dijo a los otros: \\u2018Cada uno haga lo que quiera con ella, tenemos cinco horas para hacer todo lo que quieran\\u2019 \\u201d. Testimonios como el de Helena fueron recogidos por el Centro Nacional de Memoria Hist\\u00f3rica en el informe \\u2018La guerra inscrita en el cuerpo\\u2019, revelado esta semana y que reconstruye c\\u00f3mo todos los grupos armados y muchos agentes del Estado utilizaron la violencia sexual en medio del conflicto armado . La investigaci\\u00f3n tiene casos desde 1959 y su macabro balance \\u2013que claramente es inferior a la realidad, porque muchas v\\u00edctimas temen denunciar incluso hoy\\u2013 es que al menos 15.000 ni\\u00f1as y mujeres, pero tambi\\u00e9n muchos ni\\u00f1os y adolescentes, fueron violados por los actores de la guerra. La mayor\\u00eda de los casos no tiene un responsable identificado. Pero el documento, de 550 p\\u00e1ginas, encontr\\u00f3 que los grupos paramilitares fueron se\\u00f1alados por 4.837 v\\u00edctimas; las guerrillas de las Farc, el Eln y el Erg, por 4.722, y los agentes del Estado, por al menos 206. El Centro Nacional de Memoria Hist\\u00f3rica acudi\\u00f3 a expedientes judiciales y a testimonios directos para retratar las pr\\u00e1cticas de sometimiento. Muchas de ellas han sido documentadas y ampliamente recogidas en la \\u00faltima d\\u00e9cada, gracias a las confesiones de paramilitares desmovilizados ante la jurisdicci\\u00f3n de Justicia y Paz y, sobre todo, a la valent\\u00eda de centenares de v\\u00edctimas que se atrevieron a romper el miedo y la impunidad. En cuanto a las guerrillas, la violencia sexual fue ejercida tanto contra las comunidades de sus zonas de influencia como contra las ni\\u00f1as y adolescentes reclutadas. La plena confesi\\u00f3n sobre esas pr\\u00e1cticas ser\\u00e1 una de las pruebas de fuego sobre el real compromiso de los desmovilizados ante la nueva Jurisdicci\\u00f3n Especial para la Paz (JEP), pues la verdad y la reparaci\\u00f3n a las v\\u00edctimas son parte de las condiciones para acceder a penas alternativas. Esta semana, de hecho, caus\\u00f3 revuelo el se\\u00f1alamiento directo contra \\u2018Ra\\u00fal Reyes\\u2019, uno de los \\u00edconos de las Farc, quien, como lo revel\\u00f3 EL TIEMPO, fue acusado por mujeres de su escolta \\u2013que fueron elegidas por \\u00e9l cuando contaban apenas con 10 u 11 a\\u00f1os\\u2013 de abusar sistem\\u00e1ticamente de ellas. En sus estatutos, las Farc castigan incluso con la muerte las violaciones y otro tipo de abusos sexuales. Lo que las v\\u00edctimas denuncian es que si bien esto pod\\u00eda regir para los mandos medios o los combatientes rasos, rara vez aplicaba para los jefes de frente y menos para hombres tan poderosos en la organizaci\\u00f3n como \\u2018Reyes\\u2019, cuya muerte en un bombardeo de la Fuerza A\\u00e9rea marc\\u00f3 en el 2008 el declive militar de las Farc. \\u201cA \\u00e9l le gustaba cogerlo a uno para escolta, siempre ten\\u00eda muchachas as\\u00ed y despu\\u00e9s abusaba de uno, a \\u00e9l le gustaba abusar de las muchachas que llevaba\\u201d, dijo Gina, quien fue su guardaespaldas durante 16 a\\u00f1os. El informe se\\u00f1ala que algunos frentes tambi\\u00e9n usaron la violaci\\u00f3n para castigar a quienes se negaban a pagar las vacunas. En el 2006, Yuliana, de 40 a\\u00f1os y con nueve meses de embarazo, fue atacada por guerrilleros del frente 32 en el Huila. La violaron en frente de su esposo. \\u201cLlegaron hombres comandados por \\u2018Joaqu\\u00edn\\u2019 y yo les dije que qu\\u00e9 pasaba, si ellos sab\\u00edan que nosotros les pag\\u00e1bamos, que nosotros \\u00e9ramos gente de bien, que me dieran una explicaci\\u00f3n (.). \\u00c9l (Joaqu\\u00edn) y otros dos abusaron de m\\u00ed. Mi esposo lloraba de ver lo que me estaban haciendo\\u201d, narr\\u00f3 la mujer. \\u201cA las mujeres les recuerdan la cuota que deben sus parejas con violencia sexual, o les cobran parte de la cuota o de los intereses de esta forma. Donde hay extorsiones a los comerciantes, suele existir violencia sexual hacia sus esposas para que recuerden que no deben dejar de pagar la cuota\\u201d, dice el informe. En Meta y Buenaventura se encontr\\u00f3 que las Farc \\u201cutilizaron t\\u00e9cnicas de control moral sobre las mujeres y las comunidades con el prop\\u00f3sito de regular la vida cotidiana de la poblaci\\u00f3n y establecer un control de g\\u00e9nero\\u201d. Tambi\\u00e9n buscaban \\u201cproclamarse como la \\u00fanica autoridad capaz de hacer uso de la fuerza en el territorio\\u201d. \\u201cEllos ten\\u00edan sus leyes y castigaban, y a quienes no cumpl\\u00edan sus leyes los mataban\\u201d, dijo una mujer durante un taller de reconstrucci\\u00f3n de memoria. \\u201cParamilitares y guerrillas establecieron, cada uno, sus propias pautas de comportamiento, nociones frente al delito; regularon la vida afectiva, los ritmos y espacios cotidianos, la vida social, la sexualidad, los espacios de divertimento y las formas de llevar y conducir los cuerpos\\u201d, se\\u00f1alan los investigadores del Centro Nacional de Memoria Hist\\u00f3rica. En el 2009, en Nari\\u00f1o, una lesbiana fue v\\u00edctima de guerrilleros porque decidi\\u00f3 vivir abiertamente con su pareja. Una noche su casa fue asaltada. A las dos las violaron y a su compa\\u00f1era la desaparecieron. \\u201cLos paramilitares y las guerrillas tuvieron el af\\u00e1n de \\u2018limpiar\\u2019 de sus territorios a aquellos cuerpos que representaban contaminaci\\u00f3n, desviaci\\u00f3n, inmoralidad y enfermedades\\u201d, advierte el documento. Este resalta tambi\\u00e9n los casos de ni\\u00f1as que fueron reclutadas y, despu\\u00e9s, v\\u00edctimas de abuso. Rosa, que fue guerrillera en el Meta, cont\\u00f3 que fue reclutada por las Farc junto con sus dos primas, de 9 y 10 a\\u00f1os, en los a\\u00f1os 80. \\u201cHac\\u00edan dos filas, las que eran v\\u00edrgenes y las que no. Los que comandaban ten\\u00edan relaciones con las ni\\u00f1as v\\u00edrgenes. Y ya los dem\\u00e1s compa\\u00f1eros eran los que abusaban de otras muchachas. Pero siempre las v\\u00edrgenes pasaban por la cabeza mayor\\u201d, afirm\\u00f3. \\u201cLa relaci\\u00f3n entre reclutamiento de ni\\u00f1as y adolescentes y violencia sexual en el interior de las Farc fue com\\u00fan. Se repitieron y recrudecieron en las filas discursos que situaban los cuerpos de las ni\\u00f1as como cuerpos-premio para los altos comandantes\\u201d, se\\u00f1ala el informe. Pero esa pr\\u00e1ctica se daba en todos los actores armados. Neyit, excombatiente de la guerrilla del Eln, fue reclutada a los 15 a\\u00f1os y a los dos d\\u00edas la violaron: \\u201cReclutaban y hac\\u00edan lo que quisieran con las muchachas. El que me reclut\\u00f3 lleg\\u00f3 a mi habitaci\\u00f3n y me quiso besar, y no lo dej\\u00e9. Luego vino con dos muchachos, uno me agarr\\u00f3 las manos y otro los pies, y \\u00e9l me iba quitando la ropa\\u201d. Para evitar ser atacada por otros, la joven termin\\u00f3 como pareja del violador, que ten\\u00eda mando en la tropa. Yurani, quien form\\u00f3 parte de las Farc en el suroriente del pa\\u00eds, cont\\u00f3 que tuvo tres abortos forzados. En las tres ocasiones quiso tener el beb\\u00e9 ocultando su estado, pero siempre fue descubierta y sancionada. La \\u00faltima vez ten\\u00eda ocho meses de embarazo. \\u201cCuando eso todav\\u00eda estaba vivo el \\u2018Mono Jojoy\\u2019. \\u00c9l dijo: \\u2018H\\u00e1gale el aborto\\u2019, y al otro d\\u00eda madrugaron a meterme la pasta esa para hacerme un legrado\\u201d, narr\\u00f3. Con estos testimonios, el informe rese\\u00f1a que las decisiones sobre los cuerpos de las mujeres estaban en poder de los comandantes. En las Farc y en los otros grupos, dice el Centro Nacional de Memoria Hist\\u00f3rica, las combatientes fueron obligadas a pr\\u00e1cticas de anticoncepci\\u00f3n, aborto y esterilizaci\\u00f3n forzada. \\u201cDicha renuncia obligada a la maternidad se configura como un reflejo m\\u00e1s del ejercicio de entrenamiento y acondicionamiento del cuerpo femenino a la guerra: un cuerpo masculinizado \\u2013se\\u00f1ala el documento\\u2013. Las ni\\u00f1as y mujeres son sujetas a controles sanitarios constantes, verificaci\\u00f3n y vigilancia sobre los ciclos menstruales y vigilancia sobre las relaciones sexuales que establecen las mujeres y con qui\\u00e9nes lo hacen\\u201d. Algunas de sus compa\\u00f1eras, seg\\u00fan Yurani, murieron despu\\u00e9s de practicarles abortos forzados. \\u201cEn el Yar\\u00ed hubo una muchacha que se llamaba Dayana y le dec\\u00edan la \\u2018Charuza\\u2019. A ella le practicaron el aborto y a los dos d\\u00edas muri\\u00f3 desangrada\\u201d, cont\\u00f3. Estos casos, dice el informe, se suman a las 21 muertes en similares condiciones que document\\u00f3 Justicia y Paz contra el Ej\\u00e9rcito Revolucionario Guevarista (Erg). El desgarrador informe advierte tambi\\u00e9n sobre los abusos perpetrados por el bando contrario. Un exparamilitar de las Autodefensas Campesinas del Casanare cont\\u00f3 que cuando las guerrilleras se dejaban \\u201ccoger vivas\\u201d eran v\\u00edctimas de torturas y violencia sexual. \\u201cS\\u00ed, era guerrillera, pero no ten\\u00edan derecho de violarla tantos manes, pasaron como unos 25 por encima de ella y la mataron a cuchillo\\u201d, confes\\u00f3. Magaly, exintegrante de las Farc, cont\\u00f3 que su prima, tambi\\u00e9n de la guerrilla, fue violada por el Ej\\u00e9rcito en un combate en el 2004: \\u201cLe echaron \\u00e1cido en la cara despu\\u00e9s de violada; yo estaba escondida y vi todo, y me daban rabia las cosas que le dec\\u00edan. Ellos le dec\\u00edan que por ser el Ej\\u00e9rcito pod\\u00edan violar y asesinar como si nada\\u201d. Como ya se conoce, los paramilitares utilizaron la violencia sexual como m\\u00e9todo de terror en las zonas a las que iban llegando. Pero no solo ocurr\\u00eda en la etapa de incursi\\u00f3n. Ya establecidos en las zonas, numerosos jefes se convirtieron en depredadores sexuales contra las comunidades que estaban en sus \\u00e1reas de influencia. El caso m\\u00e1s conocido es el de Hern\\u00e1n Giraldo, capo del cartel de Medell\\u00edn que termin\\u00f3 como jefe paramilitar de Magdalena. \\u201cEl se\\u00f1or (Hern\\u00e1n Giraldo) solo violaba ni\\u00f1as menores de 15 a\\u00f1os. Para \\u00e9l, y lo dijo p\\u00fablicamente en la audiencia, para \\u00e9l una mujer de 20 a\\u00f1os era una anciana. Las ten\\u00eda una semana y luego las devolv\\u00eda\\u201d, cont\\u00f3 una l\\u00edder de la zona rural de Santa Marta. Incluso, denunci\\u00f3 que estando preso (antes de ser extraditado a Estados Unidos) le llevaban menores de edad. En las goteras de Santa Marta, los paramilitares ten\\u00edan la pr\\u00e1ctica de quitar la luz en las noches para perpetrar sus ataques sexuales. Irrump\\u00edan en las casas y forzaban a familias enteras. Tambi\\u00e9n se documentaron casos de esterilizaci\\u00f3n forzada practicada en hospitales p\\u00fablicos. \\u201cNos mandaban a \\u2018capar\\u2019 para que no tuvi\\u00e9ramos hijos, y esto lo hicieron en el hospital. Era algo tan inhumano, llegaban con lista en mano\\u201d, dijo una de las mujeres afectadas. En Valle y Santander se documentaron casos de paramilitares que buscaban a sus v\\u00edctimas entre las ni\\u00f1as de las escuelas, como lo se\\u00f1al\\u00f3 la hist\\u00f3rica sentencia contra el bloque Central Bol\\u00edvar por casi 3.000 cr\\u00edmenes, entre ellos 1.013 de violencia sexual. Como ocurri\\u00f3 con Helena, a Esperanza la violaron por evitar que uno de sus peque\\u00f1os hijos fuera utilizado por paramilitares del bloque Cacique Nutibara para mover armas. Ocurri\\u00f3 en diciembre del 2002 en Medell\\u00edn. Ella decidi\\u00f3 mandar a los ni\\u00f1os a casa de su hermana, metidos en un armario del trasteo de una vecina. Cuando los \\u2018paras\\u2019 fueron a buscar al muchacho, la reacci\\u00f3n fue salvaje. \\u201cEntraron cuatro de ellos, cerraron la puerta, me tiraron a la cama, me amarraron de pies y manos, me da\\u00f1aron mi pijama y abusaron de m\\u00ed toda la noche\\u201d, relat\\u00f3 la mujer. El Centro de Memoria Hist\\u00f3rica recomienda a los gobiernos departamentales y municipales, a la academia y a las organizaciones sociales realizar investigaciones que contribuyan a la comprensi\\u00f3n de las variaciones locales de la violencia sexual, con el fin de conocer las condiciones que, en cada caso, han permitido su emergencia. Mary Luz L\\u00f3pez Mi mayor motivaci\\u00f3n es estar viva, respirar, saber que no me mataron, que mientras yo est\\u00e9 viva las letras hablar\\u00e1n por m\\u00ed y por otras mujeres. E scribo cuentos y poes\\u00eda para sacar el dolor. La escritura pasa por el coraz\\u00f3n, por el cuerpo y remueve muchas cosas. Uno tiene un talento escondido y el m\\u00edo es la escritura; eso me ha ayudado bastante. Yo creo que lo que lo mueve a uno es el amor, esa fortaleza y esa resiliencia que hay en uno para no quedarse postrado. Por eso hoy les digo a las mujeres que dejen el miedo, el miedo no viene detr\\u00e1s de uno, no callen. Sandra Gonz\\u00e1lez Mi principal motivaci\\u00f3n para seguir viva y seguir adelante, son mis hijos y mi familia. Cuando uno empieza a hablar, crea una conciencia con las otras mujeres que nunca han hablado, ellas se identifican con mi historia y dicen, a m\\u00ed tambi\\u00e9n me pas\\u00f3. Yo soy la voz de las mujeres que no tienen voz, soy la voz de las mujeres que han muerto. Ojal\\u00e1 que todo el mundo se entere de que esto pasa en Colombia y ojal\\u00e1 que el Estado lo reconozca. Ilda Osorio Mi prioridad y motivaci\\u00f3n son el resto de mujeres que han sufrido la misma violencia que yo. Porque s\\u00e9 lo que se siente, s\\u00e9 lo que duele, y s\\u00e9 la vida tan sucia que uno siente que lleva. El mensaje para las mujeres v\\u00edctimas es que escuchen la voz de esta experiencia que sufri\\u00f3 en carne propia la guerra en su propio cuerpo. S i 10 veces les cierran la puerta, hay que tocarla 50 veces, hasta que la abran. Para que los due\\u00f1os de esta guerra tambi\\u00e9n sean due\\u00f1os de esta verg\\u00fcenza, de esta culpa que nosotras no tenemos. Tulia Lozano En medio de una guerra nuestros cuerpos han sido botines de guerra. Nosotras no somos las culpables. No tenemos por qu\\u00e9 callar algo que nunca debi\\u00f3 haber sucedido. Hay que ir superando, ir saliendo, ir luchando por nuestros derechos, nosotras fuimos las m\\u00e1s damnificadas en esta guerra y por eso tenemos razones para seguir paradas luchando, as\\u00ed nos amenacen por hacerlo. JUSTICIA justicia@eltiempo.com @JusticiaET Miedo 11:19 p.m. Ejercite su mente en la cuarentena con este test de l\\u00f3gica matem\\u00e1tica Ponga a prueba esas clases de matem\\u00e1ticas del colegio y de la vida par . Manizales 10:00 p.m. Ya se venden medicamentos de cannabis con f\\u00f3rmula m\\u00e9dica En farmacias especializadas de Colombia es posible acceder a medicamen . Manizales 10:00 p.m. El gu\\u00eda de la salud mental del pueblo con m\\u00e1s casos de bipolaridad Coronavirus en Colombia 09:31 p.m. Una cabina de desinfecci\\u00f3n manual para Barranquilla Valle del Cauca 07:50 p.m. Se han recogido cerca de 132 mil mercados en 'Donat\\u00f3n Valle Solidario'.\",\n          \"T\\u00edtulo: El prontuario que condena a 55 a\\u00f1os de prisi\\u00f3n al \\u2018Zar del Oro\\u2019. Resumen: Fue hallado culpable del homicidio de cuatro mineros y de financiar grupos criminales. Contenido: Por el homicidio de cuatro mineros en Remedios, Antioquia, y por financiar grupos armados ilegales en el noreste de ese departamento, un juez sentenci\\u00f3 a 55 a\\u00f1os de c\\u00e1rcel a Jairo Hugo Escobar Cata\\u00f1o, conocido como el Zar del Oro. El 20 de diciembre de 2011 los mineros Johan Esteban Pareja Avenda\\u00f1o, Jaime Nicol\\u00e1s Jim\\u00e9nez, y los hermanos Yeison Andr\\u00e9s y Wilmar Alberto Taborda Jim\\u00e9nez, a quienes se les conoc\\u00eda como los serafines, fueron citados a una supuesta reuni\\u00f3n en la finca La T\\u00eda ubicada en la vereda La Roca, donde fueron asesinados por una estructura criminal. La Fiscal\\u00eda estableci\\u00f3 adem\\u00e1s que por el crimen se pagaron 800 millones de pesos. De acuerdo con las investigaciones, el homicidio estar\\u00eda relacionado con un atentado del que Escobar sali\\u00f3 ileso en el el 2011, y con la negativa de los mineros de vender un yacimiento aur\\u00edfero del que eran copropietarios. Los investigadores determinaron tambi\\u00e9n que Escobar Cata\\u00f1o aportaba considerables sumas de dinero para el pago de n\\u00f3mina de una organizaci\\u00f3n delincuencial conocida como \\u2018Seguridad H\\u00e9roes del Nordeste\\u2019. Escobar no es el \\u00fanico \\u2018zar\\u2019 del metal dorado . John \\u00daber Hern\\u00e1ndez , cabeza de la firma G\\u00f3ldex, lleg\\u00f3 a ser uno de los principales fundidores del pa\\u00eds, por lo que tambi\\u00e9n se gan\\u00f3 ese apelativo. Es se\\u00f1alado de haber lavado 2,3 billones de pesos a trav\\u00e9s de la firma.\\u00a0A pesar de la gravedad de los cargos, inexplicablemente qued\\u00f3 libre por vencimiento de t\\u00e9rminos. JUSTICIA Miedo 11:19 p.m. Ejercite su mente en la cuarentena con este test de l\\u00f3gica matem\\u00e1tica Ponga a prueba esas clases de matem\\u00e1ticas del colegio y de la vida par . Manizales 10:00 p.m. Ya se venden medicamentos de cannabis con f\\u00f3rmula m\\u00e9dica En farmacias especializadas de Colombia es posible acceder a medicamen . Manizales 10:00 p.m. El gu\\u00eda de la salud mental del pueblo con m\\u00e1s casos de bipolaridad Coronavirus en Colombia 09:31 p.m. Una cabina de desinfecci\\u00f3n manual para Barranquilla Valle del Cauca 07:50 p.m. Se han recogido cerca de 132 mil mercados en 'Donat\\u00f3n Valle Solidario'.\",\n          \"T\\u00edtulo: Avianca Brasil dejar\\u00e1 de volar 21 rutas y cerrar\\u00e1 tres bases. Resumen: La firma, tambi\\u00e9n del empresario Germ\\u00e1n Efromovich, quedar\\u00e1 operando solo con 26 aviones. Contenido: Avianca Brasil, la cuarta mayor compa\\u00f1\\u00eda a\\u00e9rea del pa\\u00eds y que en diciembre se acogi\\u00f3 a la ley de bancarrota, dejar\\u00e1 de volar 21 rutas en abril y cerrar\\u00e1 tres bases de operaciones, seg\\u00fan inform\\u00f3 este martes la empresa. En un comunicado, Avianca Brasil, nombre comercial bajo el cual opera la empresa Ocean Air, indic\\u00f3 que la decisi\\u00f3n forma parte del \\\"plan de recuperaci\\u00f3n judicial\\\" con el que est\\u00e1 \\\"readecuando progresivamente\\\" sus operaciones para reducir el tama\\u00f1o de la flota y alcanzar el \\\"objetivo\\\" de operar 23 rutas, de las 53 que tiene en la actualidad, solo con 26 aviones. Las tres bases operacionales que cerrar\\u00e1 definitivamente la compa\\u00f1\\u00eda son las del aeropuerto internacional de Galeao, en R\\u00edo de Janeiro; la de Petrolina (Pernambuco, noreste) y la de Belem, capital del amaz\\u00f3nico estado de Par\\u00e1. Al dejar de operar 21 rutas, las 32 restantes, calificadas como \\\"estrat\\u00e9gicas\\\", se mantendr\\u00e1n \\\"normalmente\\\" y \\\"dentro del cronograma previsto\\\". De las 21 rutas que ser\\u00e1n canceladas, dos tienen destino internacional con vuelos a Bogot\\u00e1 partiendo desde Fortaleza y Salvador, ambas en el noreste del pa\\u00eds. Con la cancelaci\\u00f3n de las rutas del Galeao, la ciudad m\\u00e1s afectada con la decisi\\u00f3n fue la capital Brasilia, que perder\\u00e1 el vuelo con el mayor aeropuerto de R\\u00edo de Janeiro y su conexi\\u00f3n directa con Cuiab\\u00e1 (oeste) y Fortaleza, Salvador y Macei\\u00f3 (noreste). La aerol\\u00ednea brasile\\u00f1a se acogi\\u00f3 en diciembre pasado a la ley de quiebras para garantizar la continuidad de sus operaciones y la sustentabilidad de su negocio, as\\u00ed como para reestructurar una elevada deuda que le acarre\\u00f3 varias demandas en los tribunales. El pasado 11 de marzo, la aerol\\u00ednea brasile\\u00f1a de bajo coste Azul, la tercera mayor compa\\u00f1\\u00eda a\\u00e9rea del pa\\u00eds, anunci\\u00f3 que firm\\u00f3 un acuerdo de intenci\\u00f3n por 105 millones de d\\u00f3lares para adquirir parte de los activos de Avianca Brasil. Entre esos activos est\\u00e1n el certificado de operador a\\u00e9reo de Avianca Brasil, setenta pares de \\\"slots\\\" -como se conoce a los derechos de despegar y aterrizar en aeropuertos congestionados- y aproximadamente treinta aeronaves Airbus A320. Avianca Brasil opera vuelos regulares desde el 2002 y en enero pasado anunci\\u00f3 el recorte de sus vuelos internacionales directos desde Guarulhos, que opera para Sao Paulo, a las ciudades de Santiago de Chile, Nueva York y Miami. OceanAir es una compa\\u00f1\\u00eda independiente de Avianca Holdings S.A. y utiliza comercialmente el nombre de \\\"Avianca Brasil\\\", en virtud de un acuerdo de licencia de uso de nombre que celebr\\u00f3 con Aerov\\u00edas del Continente Americano S.A, con sede en Colombia. EFE Miedo 11:19 p.m. Ejercite su mente en la cuarentena con este test de l\\u00f3gica matem\\u00e1tica Ponga a prueba esas clases de matem\\u00e1ticas del colegio y de la vida par . Manizales 10:00 p.m. Ya se venden medicamentos de cannabis con f\\u00f3rmula m\\u00e9dica En farmacias especializadas de Colombia es posible acceder a medicamen . Manizales 10:00 p.m. El gu\\u00eda de la salud mental del pueblo con m\\u00e1s casos de bipolaridad Coronavirus en Colombia 09:31 p.m. Una cabina de desinfecci\\u00f3n manual para Barranquilla Valle del Cauca 07:50 p.m. Se han recogido cerca de 132 mil mercados en 'Donat\\u00f3n Valle Solidario'.\"\n        ],\n        \"semantic_type\": \"\",\n        \"description\": \"\"\n      }\n    }\n  ]\n}"
            }
          },
          "metadata": {},
          "execution_count": 10
        }
      ]
    },
    {
      "cell_type": "code",
      "source": [
        "model_id = \"bert-base-uncased\"\n",
        "tokenizer = BertTokenizer.from_pretrained(model_id)"
      ],
      "metadata": {
        "colab": {
          "base_uri": "https://localhost:8080/",
          "height": 267,
          "referenced_widgets": [
            "537abd0471f44831a0321fa079e2d4b1",
            "dd871c2a58334ac799c15707e48ed206",
            "d4f9e722c49048b29a08ba1f210b5705",
            "6c82c75bb8784018b11f3d9bbf798e00",
            "d4a969d37f7b4108aec55ab4c6c74835",
            "6b7a65cf63a24b9081cc1f919ab2cf0b",
            "95ec6f4f0b8845b985237557518cfeeb",
            "e110bf64ae9442eeaca875991aba668c",
            "b541f91d824a4371868f321cc2e2fc3f",
            "a33eaf0ad6d74426bebdcaf3832daf47",
            "e4fbfd0f0cda4a78948560b49ca64433",
            "fa05980b3de940bebaf1156d0c4e5d17",
            "4e75d378cc754e8d9344480bf33dba55",
            "44d727ebcd794aedac9b8b63184d6d8b",
            "3c3b25f5e02344889e532f1339a18ebe",
            "e7132e4503b5490e8acf9c44c40d954b",
            "fdcadb6c339f4149b4b9f806af608e31",
            "01afbebda45942d69ee32a22f094f73f",
            "7a3d1b594aae4cc58bc5ab1253cb213d",
            "d94026f090e0444f8b765ce51ceca26e",
            "ac37d6dba2e749a3bbec483c1b3cb809",
            "a0a156367409439d89c326be425748e6",
            "17c51f7a7f3f49769bf5a3ba4e4a2dde",
            "3905d8a4d481478e8530c6cf7b40f2a0",
            "e7ef79fb835247ae86984e255a9dea34",
            "b60f8f15441d474682e820bcb62abadf",
            "53a343310fbd4b3f9b798a038b470b36",
            "9489a42378564020b5e7285486f99332",
            "19c2155625f24ec88398ed88dc0eb7dc",
            "db9d8c9719aa47469e06001de5412313",
            "b43df6bd65e0408484fd62f7219a5632",
            "b26ba07f6e554a01bce9506b4f048c9e",
            "6f0da2eebe224b04ba99a345ea99f3da",
            "27cc6a4dc1f54134987ffb4a89a28b78",
            "6fe1342bfb6d458f8ed3f83bbdfbeaee",
            "76a519bfe1264dc399935041ea222075",
            "8dc91c123a9c416c981afdeb808fd1f6",
            "7a52fdda50f2410db7785daaf4807131",
            "4ed1a2a83ca04e37be423dd2249e9dc0",
            "71a84c4510994dbaab4212550f844cc0",
            "41030043d42341afacd18fbc44530836",
            "a21ccc8d04ef4d12be81908ff3cc4fd1",
            "488503c82223414fb0983234d9d90c89",
            "521cd1e94bd0458caea0efca700f244a"
          ]
        },
        "id": "3qSWtyoB3vLV",
        "outputId": "c0a01001-6e7e-4289-bbd1-d574e2a57449"
      },
      "execution_count": 11,
      "outputs": [
        {
          "output_type": "stream",
          "name": "stderr",
          "text": [
            "/usr/local/lib/python3.10/dist-packages/huggingface_hub/utils/_auth.py:94: UserWarning: \n",
            "The secret `HF_TOKEN` does not exist in your Colab secrets.\n",
            "To authenticate with the Hugging Face Hub, create a token in your settings tab (https://huggingface.co/settings/tokens), set it as secret in your Google Colab and restart your session.\n",
            "You will be able to reuse this secret in all of your notebooks.\n",
            "Please note that authentication is recommended but still optional to access public models or datasets.\n",
            "  warnings.warn(\n"
          ]
        },
        {
          "output_type": "display_data",
          "data": {
            "text/plain": [
              "tokenizer_config.json:   0%|          | 0.00/48.0 [00:00<?, ?B/s]"
            ],
            "application/vnd.jupyter.widget-view+json": {
              "version_major": 2,
              "version_minor": 0,
              "model_id": "537abd0471f44831a0321fa079e2d4b1"
            }
          },
          "metadata": {}
        },
        {
          "output_type": "display_data",
          "data": {
            "text/plain": [
              "vocab.txt:   0%|          | 0.00/232k [00:00<?, ?B/s]"
            ],
            "application/vnd.jupyter.widget-view+json": {
              "version_major": 2,
              "version_minor": 0,
              "model_id": "fa05980b3de940bebaf1156d0c4e5d17"
            }
          },
          "metadata": {}
        },
        {
          "output_type": "display_data",
          "data": {
            "text/plain": [
              "tokenizer.json:   0%|          | 0.00/466k [00:00<?, ?B/s]"
            ],
            "application/vnd.jupyter.widget-view+json": {
              "version_major": 2,
              "version_minor": 0,
              "model_id": "17c51f7a7f3f49769bf5a3ba4e4a2dde"
            }
          },
          "metadata": {}
        },
        {
          "output_type": "display_data",
          "data": {
            "text/plain": [
              "config.json:   0%|          | 0.00/570 [00:00<?, ?B/s]"
            ],
            "application/vnd.jupyter.widget-view+json": {
              "version_major": 2,
              "version_minor": 0,
              "model_id": "27cc6a4dc1f54134987ffb4a89a28b78"
            }
          },
          "metadata": {}
        }
      ]
    },
    {
      "cell_type": "code",
      "source": [
        "model = AutoModelForSequenceClassification.from_pretrained(\n",
        "  model_id,\n",
        "  problem_type=\"multi_label_classification\",\n",
        "  num_labels=1\n",
        ")"
      ],
      "metadata": {
        "colab": {
          "base_uri": "https://localhost:8080/",
          "height": 103,
          "referenced_widgets": [
            "f5d9384bd81144c48149fd1bf247a7e7",
            "a35907bac2264767968deeaeed8b7094",
            "6fa21153207149c1b111343312dcc078",
            "732cc76133904e3c851d9bca01a6f4fd",
            "f321cbfb72a245eda6b395ff0a88e04b",
            "bed485b3f5474608bf349150a28a6c12",
            "42f399758b5c495dbc52bc44719651cb",
            "451d3c1bc31f419f80e0f2bb94e9ab34",
            "ec1d31f4dd314b42bd171e46958c244b",
            "dc1c4a9043dd4a4a9623825a507fa34d",
            "2b676bd9b00945f3a39587f47ed49187"
          ]
        },
        "id": "seBogr2ma83d",
        "outputId": "e35398fb-fb50-4238-d64c-b544202074f3"
      },
      "execution_count": 12,
      "outputs": [
        {
          "output_type": "display_data",
          "data": {
            "text/plain": [
              "model.safetensors:   0%|          | 0.00/440M [00:00<?, ?B/s]"
            ],
            "application/vnd.jupyter.widget-view+json": {
              "version_major": 2,
              "version_minor": 0,
              "model_id": "f5d9384bd81144c48149fd1bf247a7e7"
            }
          },
          "metadata": {}
        },
        {
          "output_type": "stream",
          "name": "stderr",
          "text": [
            "Some weights of BertForSequenceClassification were not initialized from the model checkpoint at bert-base-uncased and are newly initialized: ['classifier.bias', 'classifier.weight']\n",
            "You should probably TRAIN this model on a down-stream task to be able to use it for predictions and inference.\n"
          ]
        }
      ]
    },
    {
      "cell_type": "code",
      "source": [
        "df_preprocessed['input_ids'] = df_preprocessed['cleaned_text'].apply(lambda x: tokenizer.encode(x, add_special_tokens=True))"
      ],
      "metadata": {
        "colab": {
          "base_uri": "https://localhost:8080/"
        },
        "id": "6VFvJaBvEqJ9",
        "outputId": "f2edc937-f162-4367-8a70-89c05200e614"
      },
      "execution_count": 13,
      "outputs": [
        {
          "output_type": "stream",
          "name": "stderr",
          "text": [
            "Token indices sequence length is longer than the specified maximum sequence length for this model (1165 > 512). Running this sequence through the model will result in indexing errors\n"
          ]
        }
      ]
    },
    {
      "cell_type": "code",
      "source": [
        "max_len = 512\n",
        "df_preprocessed['input_ids'] = df_preprocessed['input_ids'].apply(lambda x: x[:max_len] + [0]*(max_len-len(x)) if len(x) < max_len else x[:max_len])"
      ],
      "metadata": {
        "id": "pKGVuAaDEZJk"
      },
      "execution_count": 14,
      "outputs": []
    },
    {
      "cell_type": "code",
      "source": [
        "df_class = df_preprocessed.copy()"
      ],
      "metadata": {
        "id": "LAfJ3_o8cdGo"
      },
      "execution_count": 15,
      "outputs": []
    },
    {
      "cell_type": "code",
      "source": [
        "df_class['Etiqueta_class'] = [1 if x == \"deportes\" else 0 for x in df_class[\"Etiqueta\"]]"
      ],
      "metadata": {
        "id": "53tyeEyb-yxK"
      },
      "execution_count": 16,
      "outputs": []
    },
    {
      "cell_type": "code",
      "source": [
        "X = df_class['input_ids'].tolist()\n",
        "y = df_class['Etiqueta_class'].tolist()"
      ],
      "metadata": {
        "id": "v_lR9oaMc2vx"
      },
      "execution_count": 17,
      "outputs": []
    },
    {
      "cell_type": "code",
      "source": [
        "X_train, X_val, y_train, y_val = train_test_split(X, y, stratify=y, test_size=0.2, random_state=42)"
      ],
      "metadata": {
        "id": "Ql5ZvXrV-8Ai"
      },
      "execution_count": 18,
      "outputs": []
    },
    {
      "cell_type": "code",
      "source": [
        "train_encodings = torch.tensor(X_train)\n",
        "val_encodings = torch.tensor(X_val)\n",
        "train_labels = torch.tensor(np.array(y_train).reshape(-1, 1)).type(torch.FloatTensor)\n",
        "val_labels = torch.tensor(np.array(y_val).reshape(-1, 1)).type(torch.FloatTensor)"
      ],
      "metadata": {
        "id": "iGtlNDb2-4Zd"
      },
      "execution_count": 39,
      "outputs": []
    },
    {
      "cell_type": "code",
      "source": [
        "train_masks = torch.tensor([[float(i != 0) for i in ii] for ii in X_train])\n",
        "val_masks = torch.tensor([[float(i != 0) for i in ii] for ii in X_val])"
      ],
      "metadata": {
        "id": "iuTXTr4M-MOR"
      },
      "execution_count": 40,
      "outputs": []
    },
    {
      "cell_type": "markdown",
      "source": [
        "# BERT"
      ],
      "metadata": {
        "id": "uS9DcHLXAkqE"
      }
    },
    {
      "cell_type": "code",
      "source": [
        "id2label = {0: \"no_deportes\", 1: \"deportes\"}\n",
        "label2id = {\"no_deportes\": 0, \"deportes\": 1}\n",
        "\n",
        "labels = list(id2label.keys())"
      ],
      "metadata": {
        "id": "lezXYc6bAoCz"
      },
      "execution_count": 41,
      "outputs": []
    },
    {
      "cell_type": "code",
      "source": [
        "# source: https://jesusleal.io/2021/04/21/Longformer-multilabel-classification/\n",
        "def multi_label_metrics(predictions, labels, threshold=0.5):\n",
        "    # first, apply sigmoid on predictions which are of shape (batch_size, num_labels)\n",
        "    sigmoid = torch.nn.Sigmoid()\n",
        "    probs = sigmoid(torch.Tensor(predictions))\n",
        "    # next, use threshold to turn them into integer predictions\n",
        "    y_pred = np.zeros(probs.shape)\n",
        "    y_pred[np.where(probs >= threshold)] = 1\n",
        "    # finally, compute metrics\n",
        "    y_true = labels\n",
        "    f1_micro_average = f1_score(y_true=y_true, y_pred=y_pred, average='micro')\n",
        "    roc_auc = roc_auc_score(y_true, y_pred, average = 'micro')\n",
        "    accuracy = accuracy_score(y_true, y_pred)\n",
        "    # return as dictionary\n",
        "    metrics = {\n",
        "        'f1': f1_micro_average,\n",
        "        'eval_f1': f1_micro_average,\n",
        "        'roc_auc': roc_auc,\n",
        "        'accuracy': accuracy\n",
        "      }\n",
        "    return metrics\n",
        "\n",
        "def compute_metrics(p: EvalPrediction):\n",
        "    preds = p.predictions[0] if isinstance(p.predictions,\n",
        "            tuple) else p.predictions\n",
        "    result = multi_label_metrics(\n",
        "        predictions=preds,\n",
        "        labels=p.label_ids)\n",
        "    return result"
      ],
      "metadata": {
        "id": "lgwEMBg-A3W2"
      },
      "execution_count": 48,
      "outputs": []
    },
    {
      "cell_type": "code",
      "source": [
        "batch_size = 8\n",
        "metric_name = \"loss\"\n",
        "\n",
        "args = TrainingArguments(\n",
        "    \"models\",\n",
        "    evaluation_strategy = \"epoch\",\n",
        "    save_strategy = \"epoch\",\n",
        "    learning_rate=2e-5,\n",
        "    per_device_train_batch_size=batch_size,\n",
        "    per_device_eval_batch_size=batch_size,\n",
        "    num_train_epochs=5,\n",
        "    weight_decay=0.01,\n",
        "    load_best_model_at_end=True,\n",
        "    metric_for_best_model=metric_name,\n",
        "    push_to_hub=False,\n",
        "    report_to='none'\n",
        ")"
      ],
      "metadata": {
        "colab": {
          "base_uri": "https://localhost:8080/"
        },
        "id": "LA4QYH2_A698",
        "outputId": "8fe53719-1ec7-4468-ca53-20e5b32ae238"
      },
      "execution_count": 50,
      "outputs": [
        {
          "output_type": "stream",
          "name": "stderr",
          "text": [
            "/usr/local/lib/python3.10/dist-packages/transformers/training_args.py:1568: FutureWarning: `evaluation_strategy` is deprecated and will be removed in version 4.46 of 🤗 Transformers. Use `eval_strategy` instead\n",
            "  warnings.warn(\n"
          ]
        }
      ]
    },
    {
      "cell_type": "code",
      "source": [
        "train_dataset = Dataset.from_dict({\"input_ids\": train_encodings, \"attention_mask\": train_masks, \"labels\": train_labels})\n",
        "val_dataset = Dataset.from_dict({\"input_ids\": val_encodings, \"attention_mask\": val_masks, \"labels\": val_labels})"
      ],
      "metadata": {
        "id": "VkCjpUNhBK-H"
      },
      "execution_count": 51,
      "outputs": []
    },
    {
      "cell_type": "code",
      "source": [
        "trainer = Trainer(\n",
        "  model,\n",
        "  args,\n",
        "  train_dataset=train_dataset,\n",
        "  eval_dataset=val_dataset,\n",
        "  tokenizer=tokenizer,\n",
        ")\n",
        "\n",
        "trainer.train()"
      ],
      "metadata": {
        "colab": {
          "base_uri": "https://localhost:8080/",
          "height": 352
        },
        "id": "MsuAcx0GBRnK",
        "outputId": "be71d70f-481c-4606-b47d-02db9174b873"
      },
      "execution_count": 52,
      "outputs": [
        {
          "output_type": "stream",
          "name": "stderr",
          "text": [
            "<ipython-input-52-644c23114b97>:1: FutureWarning: `tokenizer` is deprecated and will be removed in version 5.0.0 for `Trainer.__init__`. Use `processing_class` instead.\n",
            "  trainer = Trainer(\n"
          ]
        },
        {
          "output_type": "display_data",
          "data": {
            "text/plain": [
              "<IPython.core.display.HTML object>"
            ],
            "text/html": [
              "\n",
              "    <div>\n",
              "      \n",
              "      <progress value='1195' max='1195' style='width:300px; height:20px; vertical-align: middle;'></progress>\n",
              "      [1195/1195 03:55, Epoch 5/5]\n",
              "    </div>\n",
              "    <table border=\"1\" class=\"dataframe\">\n",
              "  <thead>\n",
              " <tr style=\"text-align: left;\">\n",
              "      <th>Epoch</th>\n",
              "      <th>Training Loss</th>\n",
              "      <th>Validation Loss</th>\n",
              "    </tr>\n",
              "  </thead>\n",
              "  <tbody>\n",
              "    <tr>\n",
              "      <td>1</td>\n",
              "      <td>No log</td>\n",
              "      <td>0.067337</td>\n",
              "    </tr>\n",
              "    <tr>\n",
              "      <td>2</td>\n",
              "      <td>No log</td>\n",
              "      <td>0.056207</td>\n",
              "    </tr>\n",
              "    <tr>\n",
              "      <td>3</td>\n",
              "      <td>0.104700</td>\n",
              "      <td>0.047222</td>\n",
              "    </tr>\n",
              "    <tr>\n",
              "      <td>4</td>\n",
              "      <td>0.104700</td>\n",
              "      <td>0.066997</td>\n",
              "    </tr>\n",
              "    <tr>\n",
              "      <td>5</td>\n",
              "      <td>0.027500</td>\n",
              "      <td>0.060362</td>\n",
              "    </tr>\n",
              "  </tbody>\n",
              "</table><p>"
            ]
          },
          "metadata": {}
        },
        {
          "output_type": "execute_result",
          "data": {
            "text/plain": [
              "TrainOutput(global_step=1195, training_loss=0.057656713709172844, metrics={'train_runtime': 235.2108, 'train_samples_per_second': 40.559, 'train_steps_per_second': 5.081, 'total_flos': 2510056931143680.0, 'train_loss': 0.057656713709172844, 'epoch': 5.0})"
            ]
          },
          "metadata": {},
          "execution_count": 52
        }
      ]
    },
    {
      "cell_type": "code",
      "source": [],
      "metadata": {
        "id": "N2JeOk0TtDvP"
      },
      "execution_count": null,
      "outputs": []
    },
    {
      "cell_type": "markdown",
      "source": [
        "# Analysis"
      ],
      "metadata": {
        "id": "9G12OEwWBaQf"
      }
    },
    {
      "cell_type": "code",
      "source": [
        "from sklearn.metrics import classification_report\n",
        "import matplotlib.pyplot as plt\n",
        "import seaborn as sns\n",
        "from sklearn.metrics import confusion_matrix"
      ],
      "metadata": {
        "id": "ZCSCNYWvVqiZ"
      },
      "execution_count": 70,
      "outputs": []
    },
    {
      "cell_type": "code",
      "source": [
        "# Evaluar el modelo\n",
        "results = trainer.evaluate()\n",
        "print(results)"
      ],
      "metadata": {
        "colab": {
          "base_uri": "https://localhost:8080/",
          "height": 74
        },
        "id": "wnE4tyN3mu6I",
        "outputId": "b35b3d6c-5b9f-46e8-d9b7-73a862006fea"
      },
      "execution_count": 53,
      "outputs": [
        {
          "output_type": "display_data",
          "data": {
            "text/plain": [
              "<IPython.core.display.HTML object>"
            ],
            "text/html": [
              "\n",
              "    <div>\n",
              "      \n",
              "      <progress value='60' max='60' style='width:300px; height:20px; vertical-align: middle;'></progress>\n",
              "      [60/60 00:03]\n",
              "    </div>\n",
              "    "
            ]
          },
          "metadata": {}
        },
        {
          "output_type": "stream",
          "name": "stdout",
          "text": [
            "{'eval_loss': 0.04722176864743233, 'eval_runtime': 3.3825, 'eval_samples_per_second': 141.315, 'eval_steps_per_second': 17.738, 'epoch': 5.0}\n"
          ]
        }
      ]
    },
    {
      "cell_type": "code",
      "source": [
        "y_pred = trainer.predict(val_dataset).predictions"
      ],
      "metadata": {
        "colab": {
          "base_uri": "https://localhost:8080/",
          "height": 17
        },
        "id": "DDmXwDnWnBHf",
        "outputId": "870d389f-7481-498e-fc05-ac493a159a69"
      },
      "execution_count": 54,
      "outputs": [
        {
          "output_type": "display_data",
          "data": {
            "text/plain": [
              "<IPython.core.display.HTML object>"
            ],
            "text/html": []
          },
          "metadata": {}
        }
      ]
    },
    {
      "cell_type": "code",
      "source": [
        "y_pred = torch.sigmoid(torch.Tensor(y_pred)).numpy()\n",
        "y_pred_res = (y_pred >= 0.5).astype(int)\n",
        "y_pred_res = y_pred_res.flatten()\n",
        "y_pred_res.shape"
      ],
      "metadata": {
        "colab": {
          "base_uri": "https://localhost:8080/"
        },
        "id": "gOqu18TzYksA",
        "outputId": "770e086a-f6de-4019-ec35-bd6b15d729fd"
      },
      "execution_count": 57,
      "outputs": [
        {
          "output_type": "execute_result",
          "data": {
            "text/plain": [
              "(478,)"
            ]
          },
          "metadata": {},
          "execution_count": 57
        }
      ]
    },
    {
      "cell_type": "code",
      "source": [
        "y_pred_fin = y_pred_res.tolist()\n",
        "len(y_val), len(y_pred_fin)"
      ],
      "metadata": {
        "colab": {
          "base_uri": "https://localhost:8080/"
        },
        "id": "NpN7HX9OnDmp",
        "outputId": "43bae7f6-bc80-4c6f-cabb-9edeceb67e3f"
      },
      "execution_count": 66,
      "outputs": [
        {
          "output_type": "execute_result",
          "data": {
            "text/plain": [
              "(478, 478)"
            ]
          },
          "metadata": {},
          "execution_count": 66
        }
      ]
    },
    {
      "cell_type": "code",
      "source": [
        "print(classification_report(y_val, y_pred_fin))"
      ],
      "metadata": {
        "colab": {
          "base_uri": "https://localhost:8080/"
        },
        "id": "yGYcc8XGmwrF",
        "outputId": "6ebf0bce-9f7c-460b-e841-1216622eff64"
      },
      "execution_count": 67,
      "outputs": [
        {
          "output_type": "stream",
          "name": "stdout",
          "text": [
            "              precision    recall  f1-score   support\n",
            "\n",
            "           0       0.99      0.99      0.99       337\n",
            "           1       0.99      0.99      0.99       141\n",
            "\n",
            "    accuracy                           0.99       478\n",
            "   macro avg       0.99      0.99      0.99       478\n",
            "weighted avg       0.99      0.99      0.99       478\n",
            "\n"
          ]
        }
      ]
    },
    {
      "cell_type": "code",
      "source": [
        "cm = confusion_matrix(y_val, y_pred_fin)\n",
        "\n",
        "plt.figure(figsize=(8, 6))\n",
        "sns.heatmap(cm, annot=True, fmt='d', cmap='Blues',\n",
        "            xticklabels=['no_deportes', 'deportes'],\n",
        "            yticklabels=['no_deportes', 'deportes'])\n",
        "plt.xlabel('Predicted')\n",
        "plt.ylabel('Actual')\n",
        "plt.title('Confusion Matrix')\n",
        "plt.show()"
      ],
      "metadata": {
        "colab": {
          "base_uri": "https://localhost:8080/",
          "height": 564
        },
        "id": "6bQbaZRfm0bh",
        "outputId": "54fae8cf-1644-4a40-b5b4-8f8ee947d783"
      },
      "execution_count": 71,
      "outputs": [
        {
          "output_type": "display_data",
          "data": {
            "text/plain": [
              "<Figure size 800x600 with 2 Axes>"
            ],
            "image/png": "[encoded data removed]"
          },
          "metadata": {}
        }
      ]
    },
    {
      "cell_type": "markdown",
      "source": [
        "# Conclusions\n",
        "\n",
        "Este modelo nos permitio enfocarnos en hacer un analisis comparativo sobre el entrenamiento y los resultados de entrenar un modelo desde 0 en relacion a un finetuning de un modelo ya existente, dando como resultado una mejora en el accuracy de por lo menos 10%.\n",
        "\n",
        "\n",
        "Usando metricas basicas es posible ver que las diferencias son significativamente favorables para el modelo de finetuning.\n",
        "\n",
        "En cuanto el proceso, los dos tienen ventajas y desventajas que nivelan la complejidad de llegar a un resultado, es decir no se ve una diferencia sustancial en que tan complejo es realizar el proceso de entrenamiento de modelos como LSTM o hacer finetuning a este modelo especifico.\n",
        "\n",
        "En cuanto a uso de recursos, hacer finetuning de un modelo, consume sin dudas muchos mas recursos."
      ],
      "metadata": {
        "id": "-AkHbx7raPyK"
      }
    },
    {
      "cell_type": "code",
      "source": [],
      "metadata": {
        "id": "hYpQBhBka2Ew"
      },
      "execution_count": 71,
      "outputs": []
    }
  ],
  "metadata": {
    "language_info": {
      "name": "python"
    },
    "colab": {
      "provenance": [],
      "machine_shape": "hm",
      "gpuType": "A100"
    },
    "kernelspec": {
      "name": "python3",
      "display_name": "Python 3"
    },
    "accelerator": "GPU",
    "widgets": {
      "application/vnd.jupyter.widget-state+json": {
        "537abd0471f44831a0321fa079e2d4b1": {
          "model_module": "@jupyter-widgets/controls",
          "model_name": "HBoxModel",
          "model_module_version": "1.5.0",
          "state": {
            "_dom_classes": [],
            "_model_module": "@jupyter-widgets/controls",
            "_model_module_version": "1.5.0",
            "_model_name": "HBoxModel",
            "_view_count": null,
            "_view_module": "@jupyter-widgets/controls",
            "_view_module_version": "1.5.0",
            "_view_name": "HBoxView",
            "box_style": "",
            "children": [
              "IPY_MODEL_dd871c2a58334ac799c15707e48ed206",
              "IPY_MODEL_d4f9e722c49048b29a08ba1f210b5705",
              "IPY_MODEL_6c82c75bb8784018b11f3d9bbf798e00"
            ],
            "layout": "IPY_MODEL_d4a969d37f7b4108aec55ab4c6c74835"
          }
        },
        "dd871c2a58334ac799c15707e48ed206": {
          "model_module": "@jupyter-widgets/controls",
          "model_name": "HTMLModel",
          "model_module_version": "1.5.0",
          "state": {
            "_dom_classes": [],
            "_model_module": "@jupyter-widgets/controls",
            "_model_module_version": "1.5.0",
            "_model_name": "HTMLModel",
            "_view_count": null,
            "_view_module": "@jupyter-widgets/controls",
            "_view_module_version": "1.5.0",
            "_view_name": "HTMLView",
            "description": "",
            "description_tooltip": null,
            "layout": "IPY_MODEL_6b7a65cf63a24b9081cc1f919ab2cf0b",
            "placeholder": "​",
            "style": "IPY_MODEL_95ec6f4f0b8845b985237557518cfeeb",
            "value": "tokenizer_config.json: 100%"
          }
        },
        "d4f9e722c49048b29a08ba1f210b5705": {
          "model_module": "@jupyter-widgets/controls",
          "model_name": "FloatProgressModel",
          "model_module_version": "1.5.0",
          "state": {
            "_dom_classes": [],
            "_model_module": "@jupyter-widgets/controls",
            "_model_module_version": "1.5.0",
            "_model_name": "FloatProgressModel",
            "_view_count": null,
            "_view_module": "@jupyter-widgets/controls",
            "_view_module_version": "1.5.0",
            "_view_name": "ProgressView",
            "bar_style": "success",
            "description": "",
            "description_tooltip": null,
            "layout": "IPY_MODEL_e110bf64ae9442eeaca875991aba668c",
            "max": 48,
            "min": 0,
            "orientation": "horizontal",
            "style": "IPY_MODEL_b541f91d824a4371868f321cc2e2fc3f",
            "value": 48
          }
        },
        "6c82c75bb8784018b11f3d9bbf798e00": {
          "model_module": "@jupyter-widgets/controls",
          "model_name": "HTMLModel",
          "model_module_version": "1.5.0",
          "state": {
            "_dom_classes": [],
            "_model_module": "@jupyter-widgets/controls",
            "_model_module_version": "1.5.0",
            "_model_name": "HTMLModel",
            "_view_count": null,
            "_view_module": "@jupyter-widgets/controls",
            "_view_module_version": "1.5.0",
            "_view_name": "HTMLView",
            "description": "",
            "description_tooltip": null,
            "layout": "IPY_MODEL_a33eaf0ad6d74426bebdcaf3832daf47",
            "placeholder": "​",
            "style": "IPY_MODEL_e4fbfd0f0cda4a78948560b49ca64433",
            "value": " 48.0/48.0 [00:00&lt;00:00, 3.78kB/s]"
          }
        },
        "d4a969d37f7b4108aec55ab4c6c74835": {
          "model_module": "@jupyter-widgets/base",
          "model_name": "LayoutModel",
          "model_module_version": "1.2.0",
          "state": {
            "_model_module": "@jupyter-widgets/base",
            "_model_module_version": "1.2.0",
            "_model_name": "LayoutModel",
            "_view_count": null,
            "_view_module": "@jupyter-widgets/base",
            "_view_module_version": "1.2.0",
            "_view_name": "LayoutView",
            "align_content": null,
            "align_items": null,
            "align_self": null,
            "border": null,
            "bottom": null,
            "display": null,
            "flex": null,
            "flex_flow": null,
            "grid_area": null,
            "grid_auto_columns": null,
            "grid_auto_flow": null,
            "grid_auto_rows": null,
            "grid_column": null,
            "grid_gap": null,
            "grid_row": null,
            "grid_template_areas": null,
            "grid_template_columns": null,
            "grid_template_rows": null,
            "height": null,
            "justify_content": null,
            "justify_items": null,
            "left": null,
            "margin": null,
            "max_height": null,
            "max_width": null,
            "min_height": null,
            "min_width": null,
            "object_fit": null,
            "object_position": null,
            "order": null,
            "overflow": null,
            "overflow_x": null,
            "overflow_y": null,
            "padding": null,
            "right": null,
            "top": null,
            "visibility": null,
            "width": null
          }
        },
        "6b7a65cf63a24b9081cc1f919ab2cf0b": {
          "model_module": "@jupyter-widgets/base",
          "model_name": "LayoutModel",
          "model_module_version": "1.2.0",
          "state": {
            "_model_module": "@jupyter-widgets/base",
            "_model_module_version": "1.2.0",
            "_model_name": "LayoutModel",
            "_view_count": null,
            "_view_module": "@jupyter-widgets/base",
            "_view_module_version": "1.2.0",
            "_view_name": "LayoutView",
            "align_content": null,
            "align_items": null,
            "align_self": null,
            "border": null,
            "bottom": null,
            "display": null,
            "flex": null,
            "flex_flow": null,
            "grid_area": null,
            "grid_auto_columns": null,
            "grid_auto_flow": null,
            "grid_auto_rows": null,
            "grid_column": null,
            "grid_gap": null,
            "grid_row": null,
            "grid_template_areas": null,
            "grid_template_columns": null,
            "grid_template_rows": null,
            "height": null,
            "justify_content": null,
            "justify_items": null,
            "left": null,
            "margin": null,
            "max_height": null,
            "max_width": null,
            "min_height": null,
            "min_width": null,
            "object_fit": null,
            "object_position": null,
            "order": null,
            "overflow": null,
            "overflow_x": null,
            "overflow_y": null,
            "padding": null,
            "right": null,
            "top": null,
            "visibility": null,
            "width": null
          }
        },
        "95ec6f4f0b8845b985237557518cfeeb": {
          "model_module": "@jupyter-widgets/controls",
          "model_name": "DescriptionStyleModel",
          "model_module_version": "1.5.0",
          "state": {
            "_model_module": "@jupyter-widgets/controls",
            "_model_module_version": "1.5.0",
            "_model_name": "DescriptionStyleModel",
            "_view_count": null,
            "_view_module": "@jupyter-widgets/base",
            "_view_module_version": "1.2.0",
            "_view_name": "StyleView",
            "description_width": ""
          }
        },
        "e110bf64ae9442eeaca875991aba668c": {
          "model_module": "@jupyter-widgets/base",
          "model_name": "LayoutModel",
          "model_module_version": "1.2.0",
          "state": {
            "_model_module": "@jupyter-widgets/base",
            "_model_module_version": "1.2.0",
            "_model_name": "LayoutModel",
            "_view_count": null,
            "_view_module": "@jupyter-widgets/base",
            "_view_module_version": "1.2.0",
            "_view_name": "LayoutView",
            "align_content": null,
            "align_items": null,
            "align_self": null,
            "border": null,
            "bottom": null,
            "display": null,
            "flex": null,
            "flex_flow": null,
            "grid_area": null,
            "grid_auto_columns": null,
            "grid_auto_flow": null,
            "grid_auto_rows": null,
            "grid_column": null,
            "grid_gap": null,
            "grid_row": null,
            "grid_template_areas": null,
            "grid_template_columns": null,
            "grid_template_rows": null,
            "height": null,
            "justify_content": null,
            "justify_items": null,
            "left": null,
            "margin": null,
            "max_height": null,
            "max_width": null,
            "min_height": null,
            "min_width": null,
            "object_fit": null,
            "object_position": null,
            "order": null,
            "overflow": null,
            "overflow_x": null,
            "overflow_y": null,
            "padding": null,
            "right": null,
            "top": null,
            "visibility": null,
            "width": null
          }
        },
        "b541f91d824a4371868f321cc2e2fc3f": {
          "model_module": "@jupyter-widgets/controls",
          "model_name": "ProgressStyleModel",
          "model_module_version": "1.5.0",
          "state": {
            "_model_module": "@jupyter-widgets/controls",
            "_model_module_version": "1.5.0",
            "_model_name": "ProgressStyleModel",
            "_view_count": null,
            "_view_module": "@jupyter-widgets/base",
            "_view_module_version": "1.2.0",
            "_view_name": "StyleView",
            "bar_color": null,
            "description_width": ""
          }
        },
        "a33eaf0ad6d74426bebdcaf3832daf47": {
          "model_module": "@jupyter-widgets/base",
          "model_name": "LayoutModel",
          "model_module_version": "1.2.0",
          "state": {
            "_model_module": "@jupyter-widgets/base",
            "_model_module_version": "1.2.0",
            "_model_name": "LayoutModel",
            "_view_count": null,
            "_view_module": "@jupyter-widgets/base",
            "_view_module_version": "1.2.0",
            "_view_name": "LayoutView",
            "align_content": null,
            "align_items": null,
            "align_self": null,
            "border": null,
            "bottom": null,
            "display": null,
            "flex": null,
            "flex_flow": null,
            "grid_area": null,
            "grid_auto_columns": null,
            "grid_auto_flow": null,
            "grid_auto_rows": null,
            "grid_column": null,
            "grid_gap": null,
            "grid_row": null,
            "grid_template_areas": null,
            "grid_template_columns": null,
            "grid_template_rows": null,
            "height": null,
            "justify_content": null,
            "justify_items": null,
            "left": null,
            "margin": null,
            "max_height": null,
            "max_width": null,
            "min_height": null,
            "min_width": null,
            "object_fit": null,
            "object_position": null,
            "order": null,
            "overflow": null,
            "overflow_x": null,
            "overflow_y": null,
            "padding": null,
            "right": null,
            "top": null,
            "visibility": null,
            "width": null
          }
        },
        "e4fbfd0f0cda4a78948560b49ca64433": {
          "model_module": "@jupyter-widgets/controls",
          "model_name": "DescriptionStyleModel",
          "model_module_version": "1.5.0",
          "state": {
            "_model_module": "@jupyter-widgets/controls",
            "_model_module_version": "1.5.0",
            "_model_name": "DescriptionStyleModel",
            "_view_count": null,
            "_view_module": "@jupyter-widgets/base",
            "_view_module_version": "1.2.0",
            "_view_name": "StyleView",
            "description_width": ""
          }
        },
        "fa05980b3de940bebaf1156d0c4e5d17": {
          "model_module": "@jupyter-widgets/controls",
          "model_name": "HBoxModel",
          "model_module_version": "1.5.0",
          "state": {
            "_dom_classes": [],
            "_model_module": "@jupyter-widgets/controls",
            "_model_module_version": "1.5.0",
            "_model_name": "HBoxModel",
            "_view_count": null,
            "_view_module": "@jupyter-widgets/controls",
            "_view_module_version": "1.5.0",
            "_view_name": "HBoxView",
            "box_style": "",
            "children": [
              "IPY_MODEL_4e75d378cc754e8d9344480bf33dba55",
              "IPY_MODEL_44d727ebcd794aedac9b8b63184d6d8b",
              "IPY_MODEL_3c3b25f5e02344889e532f1339a18ebe"
            ],
            "layout": "IPY_MODEL_e7132e4503b5490e8acf9c44c40d954b"
          }
        },
        "4e75d378cc754e8d9344480bf33dba55": {
          "model_module": "@jupyter-widgets/controls",
          "model_name": "HTMLModel",
          "model_module_version": "1.5.0",
          "state": {
            "_dom_classes": [],
            "_model_module": "@jupyter-widgets/controls",
            "_model_module_version": "1.5.0",
            "_model_name": "HTMLModel",
            "_view_count": null,
            "_view_module": "@jupyter-widgets/controls",
            "_view_module_version": "1.5.0",
            "_view_name": "HTMLView",
            "description": "",
            "description_tooltip": null,
            "layout": "IPY_MODEL_fdcadb6c339f4149b4b9f806af608e31",
            "placeholder": "​",
            "style": "IPY_MODEL_01afbebda45942d69ee32a22f094f73f",
            "value": "vocab.txt: 100%"
          }
        },
        "44d727ebcd794aedac9b8b63184d6d8b": {
          "model_module": "@jupyter-widgets/controls",
          "model_name": "FloatProgressModel",
          "model_module_version": "1.5.0",
          "state": {
            "_dom_classes": [],
            "_model_module": "@jupyter-widgets/controls",
            "_model_module_version": "1.5.0",
            "_model_name": "FloatProgressModel",
            "_view_count": null,
            "_view_module": "@jupyter-widgets/controls",
            "_view_module_version": "1.5.0",
            "_view_name": "ProgressView",
            "bar_style": "success",
            "description": "",
            "description_tooltip": null,
            "layout": "IPY_MODEL_7a3d1b594aae4cc58bc5ab1253cb213d",
            "max": 231508,
            "min": 0,
            "orientation": "horizontal",
            "style": "IPY_MODEL_d94026f090e0444f8b765ce51ceca26e",
            "value": 231508
          }
        },
        "3c3b25f5e02344889e532f1339a18ebe": {
          "model_module": "@jupyter-widgets/controls",
          "model_name": "HTMLModel",
          "model_module_version": "1.5.0",
          "state": {
            "_dom_classes": [],
            "_model_module": "@jupyter-widgets/controls",
            "_model_module_version": "1.5.0",
            "_model_name": "HTMLModel",
            "_view_count": null,
            "_view_module": "@jupyter-widgets/controls",
            "_view_module_version": "1.5.0",
            "_view_name": "HTMLView",
            "description": "",
            "description_tooltip": null,
            "layout": "IPY_MODEL_ac37d6dba2e749a3bbec483c1b3cb809",
            "placeholder": "​",
            "style": "IPY_MODEL_a0a156367409439d89c326be425748e6",
            "value": " 232k/232k [00:00&lt;00:00, 1.04MB/s]"
          }
        },
        "e7132e4503b5490e8acf9c44c40d954b": {
          "model_module": "@jupyter-widgets/base",
          "model_name": "LayoutModel",
          "model_module_version": "1.2.0",
          "state": {
            "_model_module": "@jupyter-widgets/base",
            "_model_module_version": "1.2.0",
            "_model_name": "LayoutModel",
            "_view_count": null,
            "_view_module": "@jupyter-widgets/base",
            "_view_module_version": "1.2.0",
            "_view_name": "LayoutView",
            "align_content": null,
            "align_items": null,
            "align_self": null,
            "border": null,
            "bottom": null,
            "display": null,
            "flex": null,
            "flex_flow": null,
            "grid_area": null,
            "grid_auto_columns": null,
            "grid_auto_flow": null,
            "grid_auto_rows": null,
            "grid_column": null,
            "grid_gap": null,
            "grid_row": null,
            "grid_template_areas": null,
            "grid_template_columns": null,
            "grid_template_rows": null,
            "height": null,
            "justify_content": null,
            "justify_items": null,
            "left": null,
            "margin": null,
            "max_height": null,
            "max_width": null,
            "min_height": null,
            "min_width": null,
            "object_fit": null,
            "object_position": null,
            "order": null,
            "overflow": null,
            "overflow_x": null,
            "overflow_y": null,
            "padding": null,
            "right": null,
            "top": null,
            "visibility": null,
            "width": null
          }
        },
        "fdcadb6c339f4149b4b9f806af608e31": {
          "model_module": "@jupyter-widgets/base",
          "model_name": "LayoutModel",
          "model_module_version": "1.2.0",
          "state": {
            "_model_module": "@jupyter-widgets/base",
            "_model_module_version": "1.2.0",
            "_model_name": "LayoutModel",
            "_view_count": null,
            "_view_module": "@jupyter-widgets/base",
            "_view_module_version": "1.2.0",
            "_view_name": "LayoutView",
            "align_content": null,
            "align_items": null,
            "align_self": null,
            "border": null,
            "bottom": null,
            "display": null,
            "flex": null,
            "flex_flow": null,
            "grid_area": null,
            "grid_auto_columns": null,
            "grid_auto_flow": null,
            "grid_auto_rows": null,
            "grid_column": null,
            "grid_gap": null,
            "grid_row": null,
            "grid_template_areas": null,
            "grid_template_columns": null,
            "grid_template_rows": null,
            "height": null,
            "justify_content": null,
            "justify_items": null,
            "left": null,
            "margin": null,
            "max_height": null,
            "max_width": null,
            "min_height": null,
            "min_width": null,
            "object_fit": null,
            "object_position": null,
            "order": null,
            "overflow": null,
            "overflow_x": null,
            "overflow_y": null,
            "padding": null,
            "right": null,
            "top": null,
            "visibility": null,
            "width": null
          }
        },
        "01afbebda45942d69ee32a22f094f73f": {
          "model_module": "@jupyter-widgets/controls",
          "model_name": "DescriptionStyleModel",
          "model_module_version": "1.5.0",
          "state": {
            "_model_module": "@jupyter-widgets/controls",
            "_model_module_version": "1.5.0",
            "_model_name": "DescriptionStyleModel",
            "_view_count": null,
            "_view_module": "@jupyter-widgets/base",
            "_view_module_version": "1.2.0",
            "_view_name": "StyleView",
            "description_width": ""
          }
        },
        "7a3d1b594aae4cc58bc5ab1253cb213d": {
          "model_module": "@jupyter-widgets/base",
          "model_name": "LayoutModel",
          "model_module_version": "1.2.0",
          "state": {
            "_model_module": "@jupyter-widgets/base",
            "_model_module_version": "1.2.0",
            "_model_name": "LayoutModel",
            "_view_count": null,
            "_view_module": "@jupyter-widgets/base",
            "_view_module_version": "1.2.0",
            "_view_name": "LayoutView",
            "align_content": null,
            "align_items": null,
            "align_self": null,
            "border": null,
            "bottom": null,
            "display": null,
            "flex": null,
            "flex_flow": null,
            "grid_area": null,
            "grid_auto_columns": null,
            "grid_auto_flow": null,
            "grid_auto_rows": null,
            "grid_column": null,
            "grid_gap": null,
            "grid_row": null,
            "grid_template_areas": null,
            "grid_template_columns": null,
            "grid_template_rows": null,
            "height": null,
            "justify_content": null,
            "justify_items": null,
            "left": null,
            "margin": null,
            "max_height": null,
            "max_width": null,
            "min_height": null,
            "min_width": null,
            "object_fit": null,
            "object_position": null,
            "order": null,
            "overflow": null,
            "overflow_x": null,
            "overflow_y": null,
            "padding": null,
            "right": null,
            "top": null,
            "visibility": null,
            "width": null
          }
        },
        "d94026f090e0444f8b765ce51ceca26e": {
          "model_module": "@jupyter-widgets/controls",
          "model_name": "ProgressStyleModel",
          "model_module_version": "1.5.0",
          "state": {
            "_model_module": "@jupyter-widgets/controls",
            "_model_module_version": "1.5.0",
            "_model_name": "ProgressStyleModel",
            "_view_count": null,
            "_view_module": "@jupyter-widgets/base",
            "_view_module_version": "1.2.0",
            "_view_name": "StyleView",
            "bar_color": null,
            "description_width": ""
          }
        },
        "ac37d6dba2e749a3bbec483c1b3cb809": {
          "model_module": "@jupyter-widgets/base",
          "model_name": "LayoutModel",
          "model_module_version": "1.2.0",
          "state": {
            "_model_module": "@jupyter-widgets/base",
            "_model_module_version": "1.2.0",
            "_model_name": "LayoutModel",
            "_view_count": null,
            "_view_module": "@jupyter-widgets/base",
            "_view_module_version": "1.2.0",
            "_view_name": "LayoutView",
            "align_content": null,
            "align_items": null,
            "align_self": null,
            "border": null,
            "bottom": null,
            "display": null,
            "flex": null,
            "flex_flow": null,
            "grid_area": null,
            "grid_auto_columns": null,
            "grid_auto_flow": null,
            "grid_auto_rows": null,
            "grid_column": null,
            "grid_gap": null,
            "grid_row": null,
            "grid_template_areas": null,
            "grid_template_columns": null,
            "grid_template_rows": null,
            "height": null,
            "justify_content": null,
            "justify_items": null,
            "left": null,
            "margin": null,
            "max_height": null,
            "max_width": null,
            "min_height": null,
            "min_width": null,
            "object_fit": null,
            "object_position": null,
            "order": null,
            "overflow": null,
            "overflow_x": null,
            "overflow_y": null,
            "padding": null,
            "right": null,
            "top": null,
            "visibility": null,
            "width": null
          }
        },
        "a0a156367409439d89c326be425748e6": {
          "model_module": "@jupyter-widgets/controls",
          "model_name": "DescriptionStyleModel",
          "model_module_version": "1.5.0",
          "state": {
            "_model_module": "@jupyter-widgets/controls",
            "_model_module_version": "1.5.0",
            "_model_name": "DescriptionStyleModel",
            "_view_count": null,
            "_view_module": "@jupyter-widgets/base",
            "_view_module_version": "1.2.0",
            "_view_name": "StyleView",
            "description_width": ""
          }
        },
        "17c51f7a7f3f49769bf5a3ba4e4a2dde": {
          "model_module": "@jupyter-widgets/controls",
          "model_name": "HBoxModel",
          "model_module_version": "1.5.0",
          "state": {
            "_dom_classes": [],
            "_model_module": "@jupyter-widgets/controls",
            "_model_module_version": "1.5.0",
            "_model_name": "HBoxModel",
            "_view_count": null,
            "_view_module": "@jupyter-widgets/controls",
            "_view_module_version": "1.5.0",
            "_view_name": "HBoxView",
            "box_style": "",
            "children": [
              "IPY_MODEL_3905d8a4d481478e8530c6cf7b40f2a0",
              "IPY_MODEL_e7ef79fb835247ae86984e255a9dea34",
              "IPY_MODEL_b60f8f15441d474682e820bcb62abadf"
            ],
            "layout": "IPY_MODEL_53a343310fbd4b3f9b798a038b470b36"
          }
        },
        "3905d8a4d481478e8530c6cf7b40f2a0": {
          "model_module": "@jupyter-widgets/controls",
          "model_name": "HTMLModel",
          "model_module_version": "1.5.0",
          "state": {
            "_dom_classes": [],
            "_model_module": "@jupyter-widgets/controls",
            "_model_module_version": "1.5.0",
            "_model_name": "HTMLModel",
            "_view_count": null,
            "_view_module": "@jupyter-widgets/controls",
            "_view_module_version": "1.5.0",
            "_view_name": "HTMLView",
            "description": "",
            "description_tooltip": null,
            "layout": "IPY_MODEL_9489a42378564020b5e7285486f99332",
            "placeholder": "​",
            "style": "IPY_MODEL_19c2155625f24ec88398ed88dc0eb7dc",
            "value": "tokenizer.json: 100%"
          }
        },
        "e7ef79fb835247ae86984e255a9dea34": {
          "model_module": "@jupyter-widgets/controls",
          "model_name": "FloatProgressModel",
          "model_module_version": "1.5.0",
          "state": {
            "_dom_classes": [],
            "_model_module": "@jupyter-widgets/controls",
            "_model_module_version": "1.5.0",
            "_model_name": "FloatProgressModel",
            "_view_count": null,
            "_view_module": "@jupyter-widgets/controls",
            "_view_module_version": "1.5.0",
            "_view_name": "ProgressView",
            "bar_style": "success",
            "description": "",
            "description_tooltip": null,
            "layout": "IPY_MODEL_db9d8c9719aa47469e06001de5412313",
            "max": 466062,
            "min": 0,
            "orientation": "horizontal",
            "style": "IPY_MODEL_b43df6bd65e0408484fd62f7219a5632",
            "value": 466062
          }
        },
        "b60f8f15441d474682e820bcb62abadf": {
          "model_module": "@jupyter-widgets/controls",
          "model_name": "HTMLModel",
          "model_module_version": "1.5.0",
          "state": {
            "_dom_classes": [],
            "_model_module": "@jupyter-widgets/controls",
            "_model_module_version": "1.5.0",
            "_model_name": "HTMLModel",
            "_view_count": null,
            "_view_module": "@jupyter-widgets/controls",
            "_view_module_version": "1.5.0",
            "_view_name": "HTMLView",
            "description": "",
            "description_tooltip": null,
            "layout": "IPY_MODEL_b26ba07f6e554a01bce9506b4f048c9e",
            "placeholder": "​",
            "style": "IPY_MODEL_6f0da2eebe224b04ba99a345ea99f3da",
            "value": " 466k/466k [00:00&lt;00:00, 2.11MB/s]"
          }
        },
        "53a343310fbd4b3f9b798a038b470b36": {
          "model_module": "@jupyter-widgets/base",
          "model_name": "LayoutModel",
          "model_module_version": "1.2.0",
          "state": {
            "_model_module": "@jupyter-widgets/base",
            "_model_module_version": "1.2.0",
            "_model_name": "LayoutModel",
            "_view_count": null,
            "_view_module": "@jupyter-widgets/base",
            "_view_module_version": "1.2.0",
            "_view_name": "LayoutView",
            "align_content": null,
            "align_items": null,
            "align_self": null,
            "border": null,
            "bottom": null,
            "display": null,
            "flex": null,
            "flex_flow": null,
            "grid_area": null,
            "grid_auto_columns": null,
            "grid_auto_flow": null,
            "grid_auto_rows": null,
            "grid_column": null,
            "grid_gap": null,
            "grid_row": null,
            "grid_template_areas": null,
            "grid_template_columns": null,
            "grid_template_rows": null,
            "height": null,
            "justify_content": null,
            "justify_items": null,
            "left": null,
            "margin": null,
            "max_height": null,
            "max_width": null,
            "min_height": null,
            "min_width": null,
            "object_fit": null,
            "object_position": null,
            "order": null,
            "overflow": null,
            "overflow_x": null,
            "overflow_y": null,
            "padding": null,
            "right": null,
            "top": null,
            "visibility": null,
            "width": null
          }
        },
        "9489a42378564020b5e7285486f99332": {
          "model_module": "@jupyter-widgets/base",
          "model_name": "LayoutModel",
          "model_module_version": "1.2.0",
          "state": {
            "_model_module": "@jupyter-widgets/base",
            "_model_module_version": "1.2.0",
            "_model_name": "LayoutModel",
            "_view_count": null,
            "_view_module": "@jupyter-widgets/base",
            "_view_module_version": "1.2.0",
            "_view_name": "LayoutView",
            "align_content": null,
            "align_items": null,
            "align_self": null,
            "border": null,
            "bottom": null,
            "display": null,
            "flex": null,
            "flex_flow": null,
            "grid_area": null,
            "grid_auto_columns": null,
            "grid_auto_flow": null,
            "grid_auto_rows": null,
            "grid_column": null,
            "grid_gap": null,
            "grid_row": null,
            "grid_template_areas": null,
            "grid_template_columns": null,
            "grid_template_rows": null,
            "height": null,
            "justify_content": null,
            "justify_items": null,
            "left": null,
            "margin": null,
            "max_height": null,
            "max_width": null,
            "min_height": null,
            "min_width": null,
            "object_fit": null,
            "object_position": null,
            "order": null,
            "overflow": null,
            "overflow_x": null,
            "overflow_y": null,
            "padding": null,
            "right": null,
            "top": null,
            "visibility": null,
            "width": null
          }
        },
        "19c2155625f24ec88398ed88dc0eb7dc": {
          "model_module": "@jupyter-widgets/controls",
          "model_name": "DescriptionStyleModel",
          "model_module_version": "1.5.0",
          "state": {
            "_model_module": "@jupyter-widgets/controls",
            "_model_module_version": "1.5.0",
            "_model_name": "DescriptionStyleModel",
            "_view_count": null,
            "_view_module": "@jupyter-widgets/base",
            "_view_module_version": "1.2.0",
            "_view_name": "StyleView",
            "description_width": ""
          }
        },
        "db9d8c9719aa47469e06001de5412313": {
          "model_module": "@jupyter-widgets/base",
          "model_name": "LayoutModel",
          "model_module_version": "1.2.0",
          "state": {
            "_model_module": "@jupyter-widgets/base",
            "_model_module_version": "1.2.0",
            "_model_name": "LayoutModel",
            "_view_count": null,
            "_view_module": "@jupyter-widgets/base",
            "_view_module_version": "1.2.0",
            "_view_name": "LayoutView",
            "align_content": null,
            "align_items": null,
            "align_self": null,
            "border": null,
            "bottom": null,
            "display": null,
            "flex": null,
            "flex_flow": null,
            "grid_area": null,
            "grid_auto_columns": null,
            "grid_auto_flow": null,
            "grid_auto_rows": null,
            "grid_column": null,
            "grid_gap": null,
            "grid_row": null,
            "grid_template_areas": null,
            "grid_template_columns": null,
            "grid_template_rows": null,
            "height": null,
            "justify_content": null,
            "justify_items": null,
            "left": null,
            "margin": null,
            "max_height": null,
            "max_width": null,
            "min_height": null,
            "min_width": null,
            "object_fit": null,
            "object_position": null,
            "order": null,
            "overflow": null,
            "overflow_x": null,
            "overflow_y": null,
            "padding": null,
            "right": null,
            "top": null,
            "visibility": null,
            "width": null
          }
        },
        "b43df6bd65e0408484fd62f7219a5632": {
          "model_module": "@jupyter-widgets/controls",
          "model_name": "ProgressStyleModel",
          "model_module_version": "1.5.0",
          "state": {
            "_model_module": "@jupyter-widgets/controls",
            "_model_module_version": "1.5.0",
            "_model_name": "ProgressStyleModel",
            "_view_count": null,
            "_view_module": "@jupyter-widgets/base",
            "_view_module_version": "1.2.0",
            "_view_name": "StyleView",
            "bar_color": null,
            "description_width": ""
          }
        },
        "b26ba07f6e554a01bce9506b4f048c9e": {
          "model_module": "@jupyter-widgets/base",
          "model_name": "LayoutModel",
          "model_module_version": "1.2.0",
          "state": {
            "_model_module": "@jupyter-widgets/base",
            "_model_module_version": "1.2.0",
            "_model_name": "LayoutModel",
            "_view_count": null,
            "_view_module": "@jupyter-widgets/base",
            "_view_module_version": "1.2.0",
            "_view_name": "LayoutView",
            "align_content": null,
            "align_items": null,
            "align_self": null,
            "border": null,
            "bottom": null,
            "display": null,
            "flex": null,
            "flex_flow": null,
            "grid_area": null,
            "grid_auto_columns": null,
            "grid_auto_flow": null,
            "grid_auto_rows": null,
            "grid_column": null,
            "grid_gap": null,
            "grid_row": null,
            "grid_template_areas": null,
            "grid_template_columns": null,
            "grid_template_rows": null,
            "height": null,
            "justify_content": null,
            "justify_items": null,
            "left": null,
            "margin": null,
            "max_height": null,
            "max_width": null,
            "min_height": null,
            "min_width": null,
            "object_fit": null,
            "object_position": null,
            "order": null,
            "overflow": null,
            "overflow_x": null,
            "overflow_y": null,
            "padding": null,
            "right": null,
            "top": null,
            "visibility": null,
            "width": null
          }
        },
        "6f0da2eebe224b04ba99a345ea99f3da": {
          "model_module": "@jupyter-widgets/controls",
          "model_name": "DescriptionStyleModel",
          "model_module_version": "1.5.0",
          "state": {
            "_model_module": "@jupyter-widgets/controls",
            "_model_module_version": "1.5.0",
            "_model_name": "DescriptionStyleModel",
            "_view_count": null,
            "_view_module": "@jupyter-widgets/base",
            "_view_module_version": "1.2.0",
            "_view_name": "StyleView",
            "description_width": ""
          }
        },
        "27cc6a4dc1f54134987ffb4a89a28b78": {
          "model_module": "@jupyter-widgets/controls",
          "model_name": "HBoxModel",
          "model_module_version": "1.5.0",
          "state": {
            "_dom_classes": [],
            "_model_module": "@jupyter-widgets/controls",
            "_model_module_version": "1.5.0",
            "_model_name": "HBoxModel",
            "_view_count": null,
            "_view_module": "@jupyter-widgets/controls",
            "_view_module_version": "1.5.0",
            "_view_name": "HBoxView",
            "box_style": "",
            "children": [
              "IPY_MODEL_6fe1342bfb6d458f8ed3f83bbdfbeaee",
              "IPY_MODEL_76a519bfe1264dc399935041ea222075",
              "IPY_MODEL_8dc91c123a9c416c981afdeb808fd1f6"
            ],
            "layout": "IPY_MODEL_7a52fdda50f2410db7785daaf4807131"
          }
        },
        "6fe1342bfb6d458f8ed3f83bbdfbeaee": {
          "model_module": "@jupyter-widgets/controls",
          "model_name": "HTMLModel",
          "model_module_version": "1.5.0",
          "state": {
            "_dom_classes": [],
            "_model_module": "@jupyter-widgets/controls",
            "_model_module_version": "1.5.0",
            "_model_name": "HTMLModel",
            "_view_count": null,
            "_view_module": "@jupyter-widgets/controls",
            "_view_module_version": "1.5.0",
            "_view_name": "HTMLView",
            "description": "",
            "description_tooltip": null,
            "layout": "IPY_MODEL_4ed1a2a83ca04e37be423dd2249e9dc0",
            "placeholder": "​",
            "style": "IPY_MODEL_71a84c4510994dbaab4212550f844cc0",
            "value": "config.json: 100%"
          }
        },
        "76a519bfe1264dc399935041ea222075": {
          "model_module": "@jupyter-widgets/controls",
          "model_name": "FloatProgressModel",
          "model_module_version": "1.5.0",
          "state": {
            "_dom_classes": [],
            "_model_module": "@jupyter-widgets/controls",
            "_model_module_version": "1.5.0",
            "_model_name": "FloatProgressModel",
            "_view_count": null,
            "_view_module": "@jupyter-widgets/controls",
            "_view_module_version": "1.5.0",
            "_view_name": "ProgressView",
            "bar_style": "success",
            "description": "",
            "description_tooltip": null,
            "layout": "IPY_MODEL_41030043d42341afacd18fbc44530836",
            "max": 570,
            "min": 0,
            "orientation": "horizontal",
            "style": "IPY_MODEL_a21ccc8d04ef4d12be81908ff3cc4fd1",
            "value": 570
          }
        },
        "8dc91c123a9c416c981afdeb808fd1f6": {
          "model_module": "@jupyter-widgets/controls",
          "model_name": "HTMLModel",
          "model_module_version": "1.5.0",
          "state": {
            "_dom_classes": [],
            "_model_module": "@jupyter-widgets/controls",
            "_model_module_version": "1.5.0",
            "_model_name": "HTMLModel",
            "_view_count": null,
            "_view_module": "@jupyter-widgets/controls",
            "_view_module_version": "1.5.0",
            "_view_name": "HTMLView",
            "description": "",
            "description_tooltip": null,
            "layout": "IPY_MODEL_488503c82223414fb0983234d9d90c89",
            "placeholder": "​",
            "style": "IPY_MODEL_521cd1e94bd0458caea0efca700f244a",
            "value": " 570/570 [00:00&lt;00:00, 46.0kB/s]"
          }
        },
        "7a52fdda50f2410db7785daaf4807131": {
          "model_module": "@jupyter-widgets/base",
          "model_name": "LayoutModel",
          "model_module_version": "1.2.0",
          "state": {
            "_model_module": "@jupyter-widgets/base",
            "_model_module_version": "1.2.0",
            "_model_name": "LayoutModel",
            "_view_count": null,
            "_view_module": "@jupyter-widgets/base",
            "_view_module_version": "1.2.0",
            "_view_name": "LayoutView",
            "align_content": null,
            "align_items": null,
            "align_self": null,
            "border": null,
            "bottom": null,
            "display": null,
            "flex": null,
            "flex_flow": null,
            "grid_area": null,
            "grid_auto_columns": null,
            "grid_auto_flow": null,
            "grid_auto_rows": null,
            "grid_column": null,
            "grid_gap": null,
            "grid_row": null,
            "grid_template_areas": null,
            "grid_template_columns": null,
            "grid_template_rows": null,
            "height": null,
            "justify_content": null,
            "justify_items": null,
            "left": null,
            "margin": null,
            "max_height": null,
            "max_width": null,
            "min_height": null,
            "min_width": null,
            "object_fit": null,
            "object_position": null,
            "order": null,
            "overflow": null,
            "overflow_x": null,
            "overflow_y": null,
            "padding": null,
            "right": null,
            "top": null,
            "visibility": null,
            "width": null
          }
        },
        "4ed1a2a83ca04e37be423dd2249e9dc0": {
          "model_module": "@jupyter-widgets/base",
          "model_name": "LayoutModel",
          "model_module_version": "1.2.0",
          "state": {
            "_model_module": "@jupyter-widgets/base",
            "_model_module_version": "1.2.0",
            "_model_name": "LayoutModel",
            "_view_count": null,
            "_view_module": "@jupyter-widgets/base",
            "_view_module_version": "1.2.0",
            "_view_name": "LayoutView",
            "align_content": null,
            "align_items": null,
            "align_self": null,
            "border": null,
            "bottom": null,
            "display": null,
            "flex": null,
            "flex_flow": null,
            "grid_area": null,
            "grid_auto_columns": null,
            "grid_auto_flow": null,
            "grid_auto_rows": null,
            "grid_column": null,
            "grid_gap": null,
            "grid_row": null,
            "grid_template_areas": null,
            "grid_template_columns": null,
            "grid_template_rows": null,
            "height": null,
            "justify_content": null,
            "justify_items": null,
            "left": null,
            "margin": null,
            "max_height": null,
            "max_width": null,
            "min_height": null,
            "min_width": null,
            "object_fit": null,
            "object_position": null,
            "order": null,
            "overflow": null,
            "overflow_x": null,
            "overflow_y": null,
            "padding": null,
            "right": null,
            "top": null,
            "visibility": null,
            "width": null
          }
        },
        "71a84c4510994dbaab4212550f844cc0": {
          "model_module": "@jupyter-widgets/controls",
          "model_name": "DescriptionStyleModel",
          "model_module_version": "1.5.0",
          "state": {
            "_model_module": "@jupyter-widgets/controls",
            "_model_module_version": "1.5.0",
            "_model_name": "DescriptionStyleModel",
            "_view_count": null,
            "_view_module": "@jupyter-widgets/base",
            "_view_module_version": "1.2.0",
            "_view_name": "StyleView",
            "description_width": ""
          }
        },
        "41030043d42341afacd18fbc44530836": {
          "model_module": "@jupyter-widgets/base",
          "model_name": "LayoutModel",
          "model_module_version": "1.2.0",
          "state": {
            "_model_module": "@jupyter-widgets/base",
            "_model_module_version": "1.2.0",
            "_model_name": "LayoutModel",
            "_view_count": null,
            "_view_module": "@jupyter-widgets/base",
            "_view_module_version": "1.2.0",
            "_view_name": "LayoutView",
            "align_content": null,
            "align_items": null,
            "align_self": null,
            "border": null,
            "bottom": null,
            "display": null,
            "flex": null,
            "flex_flow": null,
            "grid_area": null,
            "grid_auto_columns": null,
            "grid_auto_flow": null,
            "grid_auto_rows": null,
            "grid_column": null,
            "grid_gap": null,
            "grid_row": null,
            "grid_template_areas": null,
            "grid_template_columns": null,
            "grid_template_rows": null,
            "height": null,
            "justify_content": null,
            "justify_items": null,
            "left": null,
            "margin": null,
            "max_height": null,
            "max_width": null,
            "min_height": null,
            "min_width": null,
            "object_fit": null,
            "object_position": null,
            "order": null,
            "overflow": null,
            "overflow_x": null,
            "overflow_y": null,
            "padding": null,
            "right": null,
            "top": null,
            "visibility": null,
            "width": null
          }
        },
        "a21ccc8d04ef4d12be81908ff3cc4fd1": {
          "model_module": "@jupyter-widgets/controls",
          "model_name": "ProgressStyleModel",
          "model_module_version": "1.5.0",
          "state": {
            "_model_module": "@jupyter-widgets/controls",
            "_model_module_version": "1.5.0",
            "_model_name": "ProgressStyleModel",
            "_view_count": null,
            "_view_module": "@jupyter-widgets/base",
            "_view_module_version": "1.2.0",
            "_view_name": "StyleView",
            "bar_color": null,
            "description_width": ""
          }
        },
        "488503c82223414fb0983234d9d90c89": {
          "model_module": "@jupyter-widgets/base",
          "model_name": "LayoutModel",
          "model_module_version": "1.2.0",
          "state": {
            "_model_module": "@jupyter-widgets/base",
            "_model_module_version": "1.2.0",
            "_model_name": "LayoutModel",
            "_view_count": null,
            "_view_module": "@jupyter-widgets/base",
            "_view_module_version": "1.2.0",
            "_view_name": "LayoutView",
            "align_content": null,
            "align_items": null,
            "align_self": null,
            "border": null,
            "bottom": null,
            "display": null,
            "flex": null,
            "flex_flow": null,
            "grid_area": null,
            "grid_auto_columns": null,
            "grid_auto_flow": null,
            "grid_auto_rows": null,
            "grid_column": null,
            "grid_gap": null,
            "grid_row": null,
            "grid_template_areas": null,
            "grid_template_columns": null,
            "grid_template_rows": null,
            "height": null,
            "justify_content": null,
            "justify_items": null,
            "left": null,
            "margin": null,
            "max_height": null,
            "max_width": null,
            "min_height": null,
            "min_width": null,
            "object_fit": null,
            "object_position": null,
            "order": null,
            "overflow": null,
            "overflow_x": null,
            "overflow_y": null,
            "padding": null,
            "right": null,
            "top": null,
            "visibility": null,
            "width": null
          }
        },
        "521cd1e94bd0458caea0efca700f244a": {
          "model_module": "@jupyter-widgets/controls",
          "model_name": "DescriptionStyleModel",
          "model_module_version": "1.5.0",
          "state": {
            "_model_module": "@jupyter-widgets/controls",
            "_model_module_version": "1.5.0",
            "_model_name": "DescriptionStyleModel",
            "_view_count": null,
            "_view_module": "@jupyter-widgets/base",
            "_view_module_version": "1.2.0",
            "_view_name": "StyleView",
            "description_width": ""
          }
        },
        "f5d9384bd81144c48149fd1bf247a7e7": {
          "model_module": "@jupyter-widgets/controls",
          "model_name": "HBoxModel",
          "model_module_version": "1.5.0",
          "state": {
            "_dom_classes": [],
            "_model_module": "@jupyter-widgets/controls",
            "_model_module_version": "1.5.0",
            "_model_name": "HBoxModel",
            "_view_count": null,
            "_view_module": "@jupyter-widgets/controls",
            "_view_module_version": "1.5.0",
            "_view_name": "HBoxView",
            "box_style": "",
            "children": [
              "IPY_MODEL_a35907bac2264767968deeaeed8b7094",
              "IPY_MODEL_6fa21153207149c1b111343312dcc078",
              "IPY_MODEL_732cc76133904e3c851d9bca01a6f4fd"
            ],
            "layout": "IPY_MODEL_f321cbfb72a245eda6b395ff0a88e04b"
          }
        },
        "a35907bac2264767968deeaeed8b7094": {
          "model_module": "@jupyter-widgets/controls",
          "model_name": "HTMLModel",
          "model_module_version": "1.5.0",
          "state": {
            "_dom_classes": [],
            "_model_module": "@jupyter-widgets/controls",
            "_model_module_version": "1.5.0",
            "_model_name": "HTMLModel",
            "_view_count": null,
            "_view_module": "@jupyter-widgets/controls",
            "_view_module_version": "1.5.0",
            "_view_name": "HTMLView",
            "description": "",
            "description_tooltip": null,
            "layout": "IPY_MODEL_bed485b3f5474608bf349150a28a6c12",
            "placeholder": "​",
            "style": "IPY_MODEL_42f399758b5c495dbc52bc44719651cb",
            "value": "model.safetensors: 100%"
          }
        },
        "6fa21153207149c1b111343312dcc078": {
          "model_module": "@jupyter-widgets/controls",
          "model_name": "FloatProgressModel",
          "model_module_version": "1.5.0",
          "state": {
            "_dom_classes": [],
            "_model_module": "@jupyter-widgets/controls",
            "_model_module_version": "1.5.0",
            "_model_name": "FloatProgressModel",
            "_view_count": null,
            "_view_module": "@jupyter-widgets/controls",
            "_view_module_version": "1.5.0",
            "_view_name": "ProgressView",
            "bar_style": "success",
            "description": "",
            "description_tooltip": null,
            "layout": "IPY_MODEL_451d3c1bc31f419f80e0f2bb94e9ab34",
            "max": 440449768,
            "min": 0,
            "orientation": "horizontal",
            "style": "IPY_MODEL_ec1d31f4dd314b42bd171e46958c244b",
            "value": 440449768
          }
        },
        "732cc76133904e3c851d9bca01a6f4fd": {
          "model_module": "@jupyter-widgets/controls",
          "model_name": "HTMLModel",
          "model_module_version": "1.5.0",
          "state": {
            "_dom_classes": [],
            "_model_module": "@jupyter-widgets/controls",
            "_model_module_version": "1.5.0",
            "_model_name": "HTMLModel",
            "_view_count": null,
            "_view_module": "@jupyter-widgets/controls",
            "_view_module_version": "1.5.0",
            "_view_name": "HTMLView",
            "description": "",
            "description_tooltip": null,
            "layout": "IPY_MODEL_dc1c4a9043dd4a4a9623825a507fa34d",
            "placeholder": "​",
            "style": "IPY_MODEL_2b676bd9b00945f3a39587f47ed49187",
            "value": " 440M/440M [00:01&lt;00:00, 245MB/s]"
          }
        },
        "f321cbfb72a245eda6b395ff0a88e04b": {
          "model_module": "@jupyter-widgets/base",
          "model_name": "LayoutModel",
          "model_module_version": "1.2.0",
          "state": {
            "_model_module": "@jupyter-widgets/base",
            "_model_module_version": "1.2.0",
            "_model_name": "LayoutModel",
            "_view_count": null,
            "_view_module": "@jupyter-widgets/base",
            "_view_module_version": "1.2.0",
            "_view_name": "LayoutView",
            "align_content": null,
            "align_items": null,
            "align_self": null,
            "border": null,
            "bottom": null,
            "display": null,
            "flex": null,
            "flex_flow": null,
            "grid_area": null,
            "grid_auto_columns": null,
            "grid_auto_flow": null,
            "grid_auto_rows": null,
            "grid_column": null,
            "grid_gap": null,
            "grid_row": null,
            "grid_template_areas": null,
            "grid_template_columns": null,
            "grid_template_rows": null,
            "height": null,
            "justify_content": null,
            "justify_items": null,
            "left": null,
            "margin": null,
            "max_height": null,
            "max_width": null,
            "min_height": null,
            "min_width": null,
            "object_fit": null,
            "object_position": null,
            "order": null,
            "overflow": null,
            "overflow_x": null,
            "overflow_y": null,
            "padding": null,
            "right": null,
            "top": null,
            "visibility": null,
            "width": null
          }
        },
        "bed485b3f5474608bf349150a28a6c12": {
          "model_module": "@jupyter-widgets/base",
          "model_name": "LayoutModel",
          "model_module_version": "1.2.0",
          "state": {
            "_model_module": "@jupyter-widgets/base",
            "_model_module_version": "1.2.0",
            "_model_name": "LayoutModel",
            "_view_count": null,
            "_view_module": "@jupyter-widgets/base",
            "_view_module_version": "1.2.0",
            "_view_name": "LayoutView",
            "align_content": null,
            "align_items": null,
            "align_self": null,
            "border": null,
            "bottom": null,
            "display": null,
            "flex": null,
            "flex_flow": null,
            "grid_area": null,
            "grid_auto_columns": null,
            "grid_auto_flow": null,
            "grid_auto_rows": null,
            "grid_column": null,
            "grid_gap": null,
            "grid_row": null,
            "grid_template_areas": null,
            "grid_template_columns": null,
            "grid_template_rows": null,
            "height": null,
            "justify_content": null,
            "justify_items": null,
            "left": null,
            "margin": null,
            "max_height": null,
            "max_width": null,
            "min_height": null,
            "min_width": null,
            "object_fit": null,
            "object_position": null,
            "order": null,
            "overflow": null,
            "overflow_x": null,
            "overflow_y": null,
            "padding": null,
            "right": null,
            "top": null,
            "visibility": null,
            "width": null
          }
        },
        "42f399758b5c495dbc52bc44719651cb": {
          "model_module": "@jupyter-widgets/controls",
          "model_name": "DescriptionStyleModel",
          "model_module_version": "1.5.0",
          "state": {
            "_model_module": "@jupyter-widgets/controls",
            "_model_module_version": "1.5.0",
            "_model_name": "DescriptionStyleModel",
            "_view_count": null,
            "_view_module": "@jupyter-widgets/base",
            "_view_module_version": "1.2.0",
            "_view_name": "StyleView",
            "description_width": ""
          }
        },
        "451d3c1bc31f419f80e0f2bb94e9ab34": {
          "model_module": "@jupyter-widgets/base",
          "model_name": "LayoutModel",
          "model_module_version": "1.2.0",
          "state": {
            "_model_module": "@jupyter-widgets/base",
            "_model_module_version": "1.2.0",
            "_model_name": "LayoutModel",
            "_view_count": null,
            "_view_module": "@jupyter-widgets/base",
            "_view_module_version": "1.2.0",
            "_view_name": "LayoutView",
            "align_content": null,
            "align_items": null,
            "align_self": null,
            "border": null,
            "bottom": null,
            "display": null,
            "flex": null,
            "flex_flow": null,
            "grid_area": null,
            "grid_auto_columns": null,
            "grid_auto_flow": null,
            "grid_auto_rows": null,
            "grid_column": null,
            "grid_gap": null,
            "grid_row": null,
            "grid_template_areas": null,
            "grid_template_columns": null,
            "grid_template_rows": null,
            "height": null,
            "justify_content": null,
            "justify_items": null,
            "left": null,
            "margin": null,
            "max_height": null,
            "max_width": null,
            "min_height": null,
            "min_width": null,
            "object_fit": null,
            "object_position": null,
            "order": null,
            "overflow": null,
            "overflow_x": null,
            "overflow_y": null,
            "padding": null,
            "right": null,
            "top": null,
            "visibility": null,
            "width": null
          }
        },
        "ec1d31f4dd314b42bd171e46958c244b": {
          "model_module": "@jupyter-widgets/controls",
          "model_name": "ProgressStyleModel",
          "model_module_version": "1.5.0",
          "state": {
            "_model_module": "@jupyter-widgets/controls",
            "_model_module_version": "1.5.0",
            "_model_name": "ProgressStyleModel",
            "_view_count": null,
            "_view_module": "@jupyter-widgets/base",
            "_view_module_version": "1.2.0",
            "_view_name": "StyleView",
            "bar_color": null,
            "description_width": ""
          }
        },
        "dc1c4a9043dd4a4a9623825a507fa34d": {
          "model_module": "@jupyter-widgets/base",
          "model_name": "LayoutModel",
          "model_module_version": "1.2.0",
          "state": {
            "_model_module": "@jupyter-widgets/base",
            "_model_module_version": "1.2.0",
            "_model_name": "LayoutModel",
            "_view_count": null,
            "_view_module": "@jupyter-widgets/base",
            "_view_module_version": "1.2.0",
            "_view_name": "LayoutView",
            "align_content": null,
            "align_items": null,
            "align_self": null,
            "border": null,
            "bottom": null,
            "display": null,
            "flex": null,
            "flex_flow": null,
            "grid_area": null,
            "grid_auto_columns": null,
            "grid_auto_flow": null,
            "grid_auto_rows": null,
            "grid_column": null,
            "grid_gap": null,
            "grid_row": null,
            "grid_template_areas": null,
            "grid_template_columns": null,
            "grid_template_rows": null,
            "height": null,
            "justify_content": null,
            "justify_items": null,
            "left": null,
            "margin": null,
            "max_height": null,
            "max_width": null,
            "min_height": null,
            "min_width": null,
            "object_fit": null,
            "object_position": null,
            "order": null,
            "overflow": null,
            "overflow_x": null,
            "overflow_y": null,
            "padding": null,
            "right": null,
            "top": null,
            "visibility": null,
            "width": null
          }
        },
        "2b676bd9b00945f3a39587f47ed49187": {
          "model_module": "@jupyter-widgets/controls",
          "model_name": "DescriptionStyleModel",
          "model_module_version": "1.5.0",
          "state": {
            "_model_module": "@jupyter-widgets/controls",
            "_model_module_version": "1.5.0",
            "_model_name": "DescriptionStyleModel",
            "_view_count": null,
            "_view_module": "@jupyter-widgets/base",
            "_view_module_version": "1.2.0",
            "_view_name": "StyleView",
            "description_width": ""
          }
        }
      }
    }
  },
  "nbformat": 4,
  "nbformat_minor": 0
}