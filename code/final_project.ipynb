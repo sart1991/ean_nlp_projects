{
  "cells": [
    {
      "cell_type": "code",
      "source": [
        "!pip install openpyxl"
      ],
      "metadata": {
        "colab": {
          "base_uri": "https://localhost:8080/"
        },
        "id": "qZxYOHlQVk26",
        "outputId": "d858a80f-ccce-4ae0-cf46-82f7d71556d7"
      },
      "execution_count": 31,
      "outputs": [
        {
          "output_type": "stream",
          "name": "stdout",
          "text": [
            "Requirement already satisfied: openpyxl in /usr/local/lib/python3.10/dist-packages (3.1.5)\n",
            "Requirement already satisfied: et-xmlfile in /usr/local/lib/python3.10/dist-packages (from openpyxl) (2.0.0)\n"
          ]
        }
      ]
    },
    {
      "cell_type": "code",
      "execution_count": 73,
      "metadata": {
        "id": "QMR5YzhyT9Yx"
      },
      "outputs": [],
      "source": [
        "import pandas as pd\n",
        "import matplotlib.pyplot as plt\n",
        "import seaborn as sns\n",
        "\n",
        "import nltk\n",
        "import string\n",
        "import re\n",
        "\n",
        "import tensorflow as tf\n",
        "from tensorflow.keras.optimizers import Adam\n",
        "from tensorflow.keras.models import Sequential\n",
        "from tensorflow.keras.layers import Embedding, SimpleRNN, Dense, LSTM\n",
        "from tensorflow.keras.utils import to_categorical\n",
        "from tensorflow.keras.preprocessing.text import Tokenizer\n",
        "from tensorflow.keras.preprocessing.sequence import pad_sequences\n",
        "\n",
        "from sklearn.model_selection import train_test_split\n",
        "from sklearn.metrics import classification_report"
      ]
    },
    {
      "cell_type": "code",
      "execution_count": 33,
      "metadata": {
        "colab": {
          "base_uri": "https://localhost:8080/"
        },
        "id": "wXqE4hzGT9Yy",
        "outputId": "b932b029-275f-4a82-dadf-46a515decd99"
      },
      "outputs": [
        {
          "output_type": "execute_result",
          "data": {
            "text/plain": [
              "(14396, 5)"
            ]
          },
          "metadata": {},
          "execution_count": 33
        }
      ],
      "source": [
        "# load data exclude Columna1\n",
        "df_news = pd.read_excel('data/Noticias.xlsx', usecols='B:F')\n",
        "df_news.shape"
      ]
    },
    {
      "cell_type": "code",
      "execution_count": 34,
      "metadata": {
        "colab": {
          "base_uri": "https://localhost:8080/",
          "height": 301
        },
        "id": "C26kWVLsT9Yz",
        "outputId": "8f2c1726-1555-4526-d214-1f07ff7aba38"
      },
      "outputs": [
        {
          "output_type": "execute_result",
          "data": {
            "text/plain": [
              "                                             Enlaces  \\\n",
              "0  https://www.eltiempo.com/agresion-contra-un-op...   \n",
              "1  https://www.eltiempo.com/archivo/documento/CMS...   \n",
              "\n",
              "                                              Título  \\\n",
              "0  Operador de grúa quedó inconsciente tras agres...   \n",
              "1   Usaquén, primera en infracciones por mal parqueo   \n",
              "\n",
              "                                                info  \\\n",
              "0  El conductor de una moto le lanzó el casco y p...   \n",
              "1  La localidad ocupa el primer lugar en comparen...   \n",
              "\n",
              "                                           contenido  Etiqueta  \n",
              "0  Las autoridades están buscando al conductor de...  colombia  \n",
              "1  \"Los andenes son para los peatones\", reclama e...   archivo  "
            ],
            "text/html": [
              "\n",
              "  <div id=\"df-139de787-be13-4d98-b21d-5bd6b1f6b6af\" class=\"colab-df-container\">\n",
              "    <div>\n",
              "<style scoped>\n",
              "    .dataframe tbody tr th:only-of-type {\n",
              "        vertical-align: middle;\n",
              "    }\n",
              "\n",
              "    .dataframe tbody tr th {\n",
              "        vertical-align: top;\n",
              "    }\n",
              "\n",
              "    .dataframe thead th {\n",
              "        text-align: right;\n",
              "    }\n",
              "</style>\n",
              "<table border=\"1\" class=\"dataframe\">\n",
              "  <thead>\n",
              "    <tr style=\"text-align: right;\">\n",
              "      <th></th>\n",
              "      <th>Enlaces</th>\n",
              "      <th>Título</th>\n",
              "      <th>info</th>\n",
              "      <th>contenido</th>\n",
              "      <th>Etiqueta</th>\n",
              "    </tr>\n",
              "  </thead>\n",
              "  <tbody>\n",
              "    <tr>\n",
              "      <th>0</th>\n",
              "      <td>https://www.eltiempo.com/agresion-contra-un-op...</td>\n",
              "      <td>Operador de grúa quedó inconsciente tras agres...</td>\n",
              "      <td>El conductor de una moto le lanzó el casco y p...</td>\n",
              "      <td>Las autoridades están buscando al conductor de...</td>\n",
              "      <td>colombia</td>\n",
              "    </tr>\n",
              "    <tr>\n",
              "      <th>1</th>\n",
              "      <td>https://www.eltiempo.com/archivo/documento/CMS...</td>\n",
              "      <td>Usaquén, primera en infracciones por mal parqueo</td>\n",
              "      <td>La localidad ocupa el primer lugar en comparen...</td>\n",
              "      <td>\"Los andenes son para los peatones\", reclama e...</td>\n",
              "      <td>archivo</td>\n",
              "    </tr>\n",
              "  </tbody>\n",
              "</table>\n",
              "</div>\n",
              "    <div class=\"colab-df-buttons\">\n",
              "\n",
              "  <div class=\"colab-df-container\">\n",
              "    <button class=\"colab-df-convert\" onclick=\"convertToInteractive('df-139de787-be13-4d98-b21d-5bd6b1f6b6af')\"\n",
              "            title=\"Convert this dataframe to an interactive table.\"\n",
              "            style=\"display:none;\">\n",
              "\n",
              "  <svg xmlns=\"http://www.w3.org/2000/svg\" height=\"24px\" viewBox=\"0 -960 960 960\">\n",
              "    <path d=\"M120-120v-720h720v720H120Zm60-500h600v-160H180v160Zm220 220h160v-160H400v160Zm0 220h160v-160H400v160ZM180-400h160v-160H180v160Zm440 0h160v-160H620v160ZM180-180h160v-160H180v160Zm440 0h160v-160H620v160Z\"/>\n",
              "  </svg>\n",
              "    </button>\n",
              "\n",
              "  <style>\n",
              "    .colab-df-container {\n",
              "      display:flex;\n",
              "      gap: 12px;\n",
              "    }\n",
              "\n",
              "    .colab-df-convert {\n",
              "      background-color: #E8F0FE;\n",
              "      border: none;\n",
              "      border-radius: 50%;\n",
              "      cursor: pointer;\n",
              "      display: none;\n",
              "      fill: #1967D2;\n",
              "      height: 32px;\n",
              "      padding: 0 0 0 0;\n",
              "      width: 32px;\n",
              "    }\n",
              "\n",
              "    .colab-df-convert:hover {\n",
              "      background-color: #E2EBFA;\n",
              "      box-shadow: 0px 1px 2px rgba(60, 64, 67, 0.3), 0px 1px 3px 1px rgba(60, 64, 67, 0.15);\n",
              "      fill: #174EA6;\n",
              "    }\n",
              "\n",
              "    .colab-df-buttons div {\n",
              "      margin-bottom: 4px;\n",
              "    }\n",
              "\n",
              "    [theme=dark] .colab-df-convert {\n",
              "      background-color: #3B4455;\n",
              "      fill: #D2E3FC;\n",
              "    }\n",
              "\n",
              "    [theme=dark] .colab-df-convert:hover {\n",
              "      background-color: #434B5C;\n",
              "      box-shadow: 0px 1px 3px 1px rgba(0, 0, 0, 0.15);\n",
              "      filter: drop-shadow(0px 1px 2px rgba(0, 0, 0, 0.3));\n",
              "      fill: #FFFFFF;\n",
              "    }\n",
              "  </style>\n",
              "\n",
              "    <script>\n",
              "      const buttonEl =\n",
              "        document.querySelector('#df-139de787-be13-4d98-b21d-5bd6b1f6b6af button.colab-df-convert');\n",
              "      buttonEl.style.display =\n",
              "        google.colab.kernel.accessAllowed ? 'block' : 'none';\n",
              "\n",
              "      async function convertToInteractive(key) {\n",
              "        const element = document.querySelector('#df-139de787-be13-4d98-b21d-5bd6b1f6b6af');\n",
              "        const dataTable =\n",
              "          await google.colab.kernel.invokeFunction('convertToInteractive',\n",
              "                                                    [key], {});\n",
              "        if (!dataTable) return;\n",
              "\n",
              "        const docLinkHtml = 'Like what you see? Visit the ' +\n",
              "          '<a target=\"_blank\" href=https://colab.research.google.com/notebooks/data_table.ipynb>data table notebook</a>'\n",
              "          + ' to learn more about interactive tables.';\n",
              "        element.innerHTML = '';\n",
              "        dataTable['output_type'] = 'display_data';\n",
              "        await google.colab.output.renderOutput(dataTable, element);\n",
              "        const docLink = document.createElement('div');\n",
              "        docLink.innerHTML = docLinkHtml;\n",
              "        element.appendChild(docLink);\n",
              "      }\n",
              "    </script>\n",
              "  </div>\n",
              "\n",
              "\n",
              "<div id=\"df-b3ef7328-ae87-4ff9-b695-1e6868138f9c\">\n",
              "  <button class=\"colab-df-quickchart\" onclick=\"quickchart('df-b3ef7328-ae87-4ff9-b695-1e6868138f9c')\"\n",
              "            title=\"Suggest charts\"\n",
              "            style=\"display:none;\">\n",
              "\n",
              "<svg xmlns=\"http://www.w3.org/2000/svg\" height=\"24px\"viewBox=\"0 0 24 24\"\n",
              "     width=\"24px\">\n",
              "    <g>\n",
              "        <path d=\"M19 3H5c-1.1 0-2 .9-2 2v14c0 1.1.9 2 2 2h14c1.1 0 2-.9 2-2V5c0-1.1-.9-2-2-2zM9 17H7v-7h2v7zm4 0h-2V7h2v10zm4 0h-2v-4h2v4z\"/>\n",
              "    </g>\n",
              "</svg>\n",
              "  </button>\n",
              "\n",
              "<style>\n",
              "  .colab-df-quickchart {\n",
              "      --bg-color: #E8F0FE;\n",
              "      --fill-color: #1967D2;\n",
              "      --hover-bg-color: #E2EBFA;\n",
              "      --hover-fill-color: #174EA6;\n",
              "      --disabled-fill-color: #AAA;\n",
              "      --disabled-bg-color: #DDD;\n",
              "  }\n",
              "\n",
              "  [theme=dark] .colab-df-quickchart {\n",
              "      --bg-color: #3B4455;\n",
              "      --fill-color: #D2E3FC;\n",
              "      --hover-bg-color: #434B5C;\n",
              "      --hover-fill-color: #FFFFFF;\n",
              "      --disabled-bg-color: #3B4455;\n",
              "      --disabled-fill-color: #666;\n",
              "  }\n",
              "\n",
              "  .colab-df-quickchart {\n",
              "    background-color: var(--bg-color);\n",
              "    border: none;\n",
              "    border-radius: 50%;\n",
              "    cursor: pointer;\n",
              "    display: none;\n",
              "    fill: var(--fill-color);\n",
              "    height: 32px;\n",
              "    padding: 0;\n",
              "    width: 32px;\n",
              "  }\n",
              "\n",
              "  .colab-df-quickchart:hover {\n",
              "    background-color: var(--hover-bg-color);\n",
              "    box-shadow: 0 1px 2px rgba(60, 64, 67, 0.3), 0 1px 3px 1px rgba(60, 64, 67, 0.15);\n",
              "    fill: var(--button-hover-fill-color);\n",
              "  }\n",
              "\n",
              "  .colab-df-quickchart-complete:disabled,\n",
              "  .colab-df-quickchart-complete:disabled:hover {\n",
              "    background-color: var(--disabled-bg-color);\n",
              "    fill: var(--disabled-fill-color);\n",
              "    box-shadow: none;\n",
              "  }\n",
              "\n",
              "  .colab-df-spinner {\n",
              "    border: 2px solid var(--fill-color);\n",
              "    border-color: transparent;\n",
              "    border-bottom-color: var(--fill-color);\n",
              "    animation:\n",
              "      spin 1s steps(1) infinite;\n",
              "  }\n",
              "\n",
              "  @keyframes spin {\n",
              "    0% {\n",
              "      border-color: transparent;\n",
              "      border-bottom-color: var(--fill-color);\n",
              "      border-left-color: var(--fill-color);\n",
              "    }\n",
              "    20% {\n",
              "      border-color: transparent;\n",
              "      border-left-color: var(--fill-color);\n",
              "      border-top-color: var(--fill-color);\n",
              "    }\n",
              "    30% {\n",
              "      border-color: transparent;\n",
              "      border-left-color: var(--fill-color);\n",
              "      border-top-color: var(--fill-color);\n",
              "      border-right-color: var(--fill-color);\n",
              "    }\n",
              "    40% {\n",
              "      border-color: transparent;\n",
              "      border-right-color: var(--fill-color);\n",
              "      border-top-color: var(--fill-color);\n",
              "    }\n",
              "    60% {\n",
              "      border-color: transparent;\n",
              "      border-right-color: var(--fill-color);\n",
              "    }\n",
              "    80% {\n",
              "      border-color: transparent;\n",
              "      border-right-color: var(--fill-color);\n",
              "      border-bottom-color: var(--fill-color);\n",
              "    }\n",
              "    90% {\n",
              "      border-color: transparent;\n",
              "      border-bottom-color: var(--fill-color);\n",
              "    }\n",
              "  }\n",
              "</style>\n",
              "\n",
              "  <script>\n",
              "    async function quickchart(key) {\n",
              "      const quickchartButtonEl =\n",
              "        document.querySelector('#' + key + ' button');\n",
              "      quickchartButtonEl.disabled = true;  // To prevent multiple clicks.\n",
              "      quickchartButtonEl.classList.add('colab-df-spinner');\n",
              "      try {\n",
              "        const charts = await google.colab.kernel.invokeFunction(\n",
              "            'suggestCharts', [key], {});\n",
              "      } catch (error) {\n",
              "        console.error('Error during call to suggestCharts:', error);\n",
              "      }\n",
              "      quickchartButtonEl.classList.remove('colab-df-spinner');\n",
              "      quickchartButtonEl.classList.add('colab-df-quickchart-complete');\n",
              "    }\n",
              "    (() => {\n",
              "      let quickchartButtonEl =\n",
              "        document.querySelector('#df-b3ef7328-ae87-4ff9-b695-1e6868138f9c button');\n",
              "      quickchartButtonEl.style.display =\n",
              "        google.colab.kernel.accessAllowed ? 'block' : 'none';\n",
              "    })();\n",
              "  </script>\n",
              "</div>\n",
              "\n",
              "    </div>\n",
              "  </div>\n"
            ],
            "application/vnd.google.colaboratory.intrinsic+json": {
              "type": "dataframe",
              "variable_name": "df_news",
              "summary": "{\n  \"name\": \"df_news\",\n  \"rows\": 14396,\n  \"fields\": [\n    {\n      \"column\": \"Enlaces\",\n      \"properties\": {\n        \"dtype\": \"string\",\n        \"num_unique_values\": 14396,\n        \"samples\": [\n          \"https://www.eltiempo.com/colombia/otras-ciudades/denuncian-asesinato-de-lider-indigena-en-zona-rural-de-caqueta-155310\",\n          \"https://www.eltiempo.com/bogota/profesores-de-universidades-hacen-llamado-a-lideres-a-dialogar-y-rectificar-el-rumbo-del-pais-439696\",\n          \"https://www.eltiempo.com/archivo/documento/CMS-4865951\"\n        ],\n        \"semantic_type\": \"\",\n        \"description\": \"\"\n      }\n    },\n    {\n      \"column\": \"T\\u00edtulo\",\n      \"properties\": {\n        \"dtype\": \"string\",\n        \"num_unique_values\": 13851,\n        \"samples\": [\n          \"\\u00bfPor qu\\u00e9 volvieron a subir los homicidios en el pa\\u00eds?\",\n          \"Siete carteles en M\\u00e9xico controlan el narcotr\\u00e1fico hacia Estados Unidos\",\n          \"Un a\\u00f1o despu\\u00e9s, no hay condena por crimen de chilena Ilse Amory\"\n        ],\n        \"semantic_type\": \"\",\n        \"description\": \"\"\n      }\n    },\n    {\n      \"column\": \"info\",\n      \"properties\": {\n        \"dtype\": \"string\",\n        \"num_unique_values\": 11412,\n        \"samples\": [\n          \"Un gol del delantero Lionard Pajoy, en el minuto 10 del primer tiempo, le \\n represent\\u00f3 al C\\u00facuta Deportivo los tres puntos, su segunda victoria en el \\n torneo Finalizaci\\u00f3n y la derrota del Junior, anoche en el Estadio Roberto \\n Mel\\u00e9ndez.\",\n          \"El equipo tuvo una jornada para el olvido, al ser goleado por el Eintracht Fr\\u00e1ncfort.\",\n          \"En \\u00faltimos cuatro meses, la guerrilla de las Farc ha recibido cuatro \\n hist\\u00f3ricos golpes militares y pol\\u00edticos que no solo la han debilitado ante \\n la comunidan nacional e internacional, sino que adem\\u00e1s han dejado al \\n descubierto su vulnerabilidad en dos temas clave: el pago de recompensas por \\n su cabecillas y el monitoreo a sus comunicaciones.\"\n        ],\n        \"semantic_type\": \"\",\n        \"description\": \"\"\n      }\n    },\n    {\n      \"column\": \"contenido\",\n      \"properties\": {\n        \"dtype\": \"string\",\n        \"num_unique_values\": 13202,\n        \"samples\": [\n          \"Buenos comentarios de la prensa y elogios fueron los que cosech\\u00f3 Fernando Uribe, quien el mi\\u00e9rcoles pasado anot\\u00f3 tres goles en la victoria de Toluca sobre Necaxa, en la Copa MX. El colombiano se convirti\\u00f3 en figura y recibi\\u00f3 aplausos de los aficionados de los 'Diablos Rojos'. Este jueves, los diarios en M\\u00e9xico resaltaron al exjugador de Millonarios y el paraguayo Jos\\u00e9 Saturnino Cardozo, su t\\u00e9cnico, se mostr\\u00f3 satisfecho con su labor. As\\u00ed manifest\\u00f3: \\\"Trajimos cuatro centro delanteros, sufrimos el torneo pasado y no me gust\\u00f3 para nada, el equipo dej\\u00f3 de hacer cosas importantes. Necesitamos jugadores que te marquen la diferencia en el \\u00e1rea como Fernando y por eso hay que destacar lo que hizo\\\". Cardozo, quien fue un temible goleador, sigui\\u00f3 con su discurso sobre el futbolista pereirano: \\\"Ac\\u00e1 lo bueno es que los goles de Fernando en el partido de Copa MX, le dar\\u00e1n m\\u00e1s confianza\\\". Toluca jugar\\u00e1 el pr\\u00f3ximo domingo frente a Pumas, en juego de la Liga de M\\u00e9xico, y se espera que sea comandado por Uribe en la zona ofensiva. Redacci\\u00f3n Futbolred Coronavirus en Colombia 09:31 p.m. Una cabina de desinfecci\\u00f3n manual para Barranquilla Jes\\u00fas David Vergara y \\u00c1ngel Garc\\u00eda decidieron elaborar un prototipo pa ... Valle del Cauca 07:50 p.m. Se han recogido cerca de 132 mil mercados en 'Donat\\u00f3n Valle Solidario' La meta es llegar a 200 mil mercados. Personas del com\\u00fan y empresas se ... Coronavirus en Colombia 07:36 p.m. Cuarentena en Medell\\u00edn: el diario de lo que pasa en la ciudad Gabriel Garc\\u00eda M\\u00e1rquez 07:15 p.m. Falleci\\u00f3 el 'Mago D\\u00e1vila', primer linotipista que tuvo Garc\\u00eda M\\u00e1rquez Barranquilla 06:43 p.m. Alias el 'Sat\\u00e1nico' busca la libertad por vencimiento de t\\u00e9rminos\",\n          \"La Empresa de Energ\\u00eda de Bogot\\u00e1 (EEB) report\\u00f3 un resultado financiero positivo al cierre del primer trimestre del a\\u00f1o, periodo en el que obtuvo utilidades por 540.005 millones de pesos, cifra que frente a los 224.397 millones de pesos del mismo lapso del 2011 refleja un aumento del 140 por ciento. De acuerdo con el reporte de la compa\\u00f1\\u00eda, en el balance incidieron las utilidades operacionales de sus compa\\u00f1\\u00edas controladas y, de forma importante, los dividendos decretados por sus compa\\u00f1\\u00edas participadas. En efecto, este \\u00faltimo rubro aument\\u00f3 175 por ciento en el primer trimestre, en parte por los mejores resultados operacionales de estas compa\\u00f1\\u00edas y tambi\\u00e9n porque en el mismo periodo del a\\u00f1o pasado Emgesa, Codensa y Gas Natural decretaron dividendos con base en los resultados de los \\u00faltimos meses del periodo inmediatamente anterior. Si estas firmas hubieran decretado sus dividendos con base en periodos anuales, la utilidad neta de la EEB en el primer trimestre de este a\\u00f1o habr\\u00eda crecido 4,2 por ciento. En el primer trimestre, las utilidades operacionales de la empresa capitalina crecieron 5,7 por ciento, principalmente producto de los mejores resultados de C\\u00e1lidda y la Transportadora de Gas Internacional (TGI). Calidda es una compa\\u00f1\\u00eda que est\\u00e1 en el negocio de la distribuci\\u00f3n de gas natural en la zona de Lima y Callao, en el Per\\u00fa, y duplic\\u00f3 en el 2011 el n\\u00famero de usuarios conectados a su red. Para este a\\u00f1o la peruana proyecta una inversi\\u00f3n de 105 millones de d\\u00f3lares, con lo cual podr\\u00e1 incrementar en un 82 por ciento el n\\u00famero de clientes conectados, con una meta de 105.000 conexiones para finalizar el 2012. AUMENTAN LAS INVERSIONES Y LOS NEGOCIOS TGI culmina un proceso de ampliaci\\u00f3n de su infraestructura, que demand\\u00f3 inversiones cercanas a los US$650 millones para aumentar su capacidad de transporte en 53%. Dos de las tres fases de la ampliaci\\u00f3n ya est\\u00e1n en operaci\\u00f3n, y la tercera iniciar\\u00eda operaciones antes de junio de este a\\u00f1o. La empresa destac\\u00f3 el respaldo que la actual junta directiva le dio a su plan de negocios, que fue decisivo para ganar tres subastas de transmisi\\u00f3n de energ\\u00eda en Colombia, cuya inversi\\u00f3n se estima en US$140 millones y en la presentaci\\u00f3n de una oferta para construir activos de transmisi\\u00f3n en Chile, con una inversi\\u00f3n valorada en US$736 millones. Miedo 11:00 p.m. Ejercite su mente en la cuarentena con este test de l\\u00f3gica matem\\u00e1tica Ponga a prueba esas clases de matem\\u00e1ticas del colegio y de la vida par ... Manizales 10:00 p.m. Ya se venden medicamentos de cannabis con f\\u00f3rmula m\\u00e9dica En farmacias especializadas de Colombia es posible acceder a medicamen ... Manizales 10:00 p.m. El gu\\u00eda de la salud mental del pueblo con m\\u00e1s casos de bipolaridad Coronavirus en Colombia 09:31 p.m. Una cabina de desinfecci\\u00f3n manual para Barranquilla Valle del Cauca 07:50 p.m. Se han recogido cerca de 132 mil mercados en 'Donat\\u00f3n Valle Solidario'\",\n          \"La Polic\\u00eda Fiscal y Aduanera adelant\\u00f3 los operativos en seis municipios vallecaucanos y uno caucano. De acuerdo con la Polic\\u00eda Fiscal y Aduanera, en la \\u00faltima semana se aprehendi\\u00f3 calzado, computadores, elementos de aseo, elementos industriales, joyer\\u00eda, perfumer\\u00eda, entre otros. Los operativos de control aduanero fueron realizados en Cali, Jamund\\u00ed, Tulu\\u00e1, Palmira, Candelaria, Yumbo, en el Valle; y Puerto Tejada en el Cauca. La Polic\\u00eda inform\\u00f3 que en la continuando la ofensiva contra el contrabando en esta regi\\u00f3n del pa\\u00eds se logr\\u00f3 la aprehensi\\u00f3n de mercanc\\u00eda por un valor aproximado a los 1.481 millones de pesos. Fueron decomisados 7.198 materiales de aseo por 36 millones de pesos; 2.724 pares de zapatos por 48 millones; 11.840 juguetes por 5'4 millones;  129.193 accesorios de celular por 604 millones;  239.788 textiles por 629 millones; 10.237 art\\u00edculos de joyer\\u00eda por 122 millones; adem\\u00e1s de computadores, perfumer\\u00eda y elementos industriales. Las indagaciones se\\u00f1alan que los productos fueron tra\\u00eddos, al parecer, \\\"de China, escala en Panam\\u00e1 e ingresado al pa\\u00eds por el puerto de Buenaventura. Se presume que ser\\u00eda distribuida a nivel nacional especialmente en Cali y no presentaba la documentaci\\u00f3n requerida para su ingreso al territorio\\\", seg\\u00fan el informe. La Polic\\u00eda Fiscal y Aduanera aseguraz que este operativo se constituye en el cierre al paso de contrabando hacia la capital del Valle del Cauca. Miedo 11:19 p.m. Ejercite su mente en la cuarentena con este test de l\\u00f3gica matem\\u00e1tica Ponga a prueba esas clases de matem\\u00e1ticas del colegio y de la vida par ... Manizales 10:00 p.m. Ya se venden medicamentos de cannabis con f\\u00f3rmula m\\u00e9dica En farmacias especializadas de Colombia es posible acceder a medicamen ... Manizales 10:00 p.m. El gu\\u00eda de la salud mental del pueblo con m\\u00e1s casos de bipolaridad Coronavirus en Colombia 09:31 p.m. Una cabina de desinfecci\\u00f3n manual para Barranquilla Valle del Cauca 07:50 p.m. Se han recogido cerca de 132 mil mercados en 'Donat\\u00f3n Valle Solidario'\"\n        ],\n        \"semantic_type\": \"\",\n        \"description\": \"\"\n      }\n    },\n    {\n      \"column\": \"Etiqueta\",\n      \"properties\": {\n        \"dtype\": \"category\",\n        \"num_unique_values\": 26,\n        \"samples\": [\n          \"deportes\",\n          \"mas-contenido\",\n          \"colombia\"\n        ],\n        \"semantic_type\": \"\",\n        \"description\": \"\"\n      }\n    }\n  ]\n}"
            }
          },
          "metadata": {},
          "execution_count": 34
        }
      ],
      "source": [
        "df_news.head(2)"
      ]
    },
    {
      "cell_type": "code",
      "execution_count": 35,
      "metadata": {
        "colab": {
          "base_uri": "https://localhost:8080/",
          "height": 278
        },
        "id": "YjK1jFzGT9Yz",
        "outputId": "0dc12b99-542d-45ae-b0ec-047660d55869"
      },
      "outputs": [
        {
          "output_type": "execute_result",
          "data": {
            "text/plain": [
              "                                                  Enlaces       Título  \\\n",
              "count                                               14396        14378   \n",
              "unique                                              14396        13851   \n",
              "top     https://www.eltiempo.com/vida/viajar/yovoy-cam...  Caricaturas   \n",
              "freq                                                    1          138   \n",
              "\n",
              "                                                     info  \\\n",
              "count                                               11483   \n",
              "unique                                              11412   \n",
              "top     Si no tuvo tiempo para informarse hoy, aquí un...   \n",
              "freq                                                   12   \n",
              "\n",
              "                                                contenido Etiqueta  \n",
              "count                                               13738    14396  \n",
              "unique                                              13202       26  \n",
              "top     Manizales 10:00 p.m. Ya se venden medicamentos...  archivo  \n",
              "freq                                                  238     9187  "
            ],
            "text/html": [
              "\n",
              "  <div id=\"df-d6099085-1bde-453f-b939-3846ce31c87d\" class=\"colab-df-container\">\n",
              "    <div>\n",
              "<style scoped>\n",
              "    .dataframe tbody tr th:only-of-type {\n",
              "        vertical-align: middle;\n",
              "    }\n",
              "\n",
              "    .dataframe tbody tr th {\n",
              "        vertical-align: top;\n",
              "    }\n",
              "\n",
              "    .dataframe thead th {\n",
              "        text-align: right;\n",
              "    }\n",
              "</style>\n",
              "<table border=\"1\" class=\"dataframe\">\n",
              "  <thead>\n",
              "    <tr style=\"text-align: right;\">\n",
              "      <th></th>\n",
              "      <th>Enlaces</th>\n",
              "      <th>Título</th>\n",
              "      <th>info</th>\n",
              "      <th>contenido</th>\n",
              "      <th>Etiqueta</th>\n",
              "    </tr>\n",
              "  </thead>\n",
              "  <tbody>\n",
              "    <tr>\n",
              "      <th>count</th>\n",
              "      <td>14396</td>\n",
              "      <td>14378</td>\n",
              "      <td>11483</td>\n",
              "      <td>13738</td>\n",
              "      <td>14396</td>\n",
              "    </tr>\n",
              "    <tr>\n",
              "      <th>unique</th>\n",
              "      <td>14396</td>\n",
              "      <td>13851</td>\n",
              "      <td>11412</td>\n",
              "      <td>13202</td>\n",
              "      <td>26</td>\n",
              "    </tr>\n",
              "    <tr>\n",
              "      <th>top</th>\n",
              "      <td>https://www.eltiempo.com/vida/viajar/yovoy-cam...</td>\n",
              "      <td>Caricaturas</td>\n",
              "      <td>Si no tuvo tiempo para informarse hoy, aquí un...</td>\n",
              "      <td>Manizales 10:00 p.m. Ya se venden medicamentos...</td>\n",
              "      <td>archivo</td>\n",
              "    </tr>\n",
              "    <tr>\n",
              "      <th>freq</th>\n",
              "      <td>1</td>\n",
              "      <td>138</td>\n",
              "      <td>12</td>\n",
              "      <td>238</td>\n",
              "      <td>9187</td>\n",
              "    </tr>\n",
              "  </tbody>\n",
              "</table>\n",
              "</div>\n",
              "    <div class=\"colab-df-buttons\">\n",
              "\n",
              "  <div class=\"colab-df-container\">\n",
              "    <button class=\"colab-df-convert\" onclick=\"convertToInteractive('df-d6099085-1bde-453f-b939-3846ce31c87d')\"\n",
              "            title=\"Convert this dataframe to an interactive table.\"\n",
              "            style=\"display:none;\">\n",
              "\n",
              "  <svg xmlns=\"http://www.w3.org/2000/svg\" height=\"24px\" viewBox=\"0 -960 960 960\">\n",
              "    <path d=\"M120-120v-720h720v720H120Zm60-500h600v-160H180v160Zm220 220h160v-160H400v160Zm0 220h160v-160H400v160ZM180-400h160v-160H180v160Zm440 0h160v-160H620v160ZM180-180h160v-160H180v160Zm440 0h160v-160H620v160Z\"/>\n",
              "  </svg>\n",
              "    </button>\n",
              "\n",
              "  <style>\n",
              "    .colab-df-container {\n",
              "      display:flex;\n",
              "      gap: 12px;\n",
              "    }\n",
              "\n",
              "    .colab-df-convert {\n",
              "      background-color: #E8F0FE;\n",
              "      border: none;\n",
              "      border-radius: 50%;\n",
              "      cursor: pointer;\n",
              "      display: none;\n",
              "      fill: #1967D2;\n",
              "      height: 32px;\n",
              "      padding: 0 0 0 0;\n",
              "      width: 32px;\n",
              "    }\n",
              "\n",
              "    .colab-df-convert:hover {\n",
              "      background-color: #E2EBFA;\n",
              "      box-shadow: 0px 1px 2px rgba(60, 64, 67, 0.3), 0px 1px 3px 1px rgba(60, 64, 67, 0.15);\n",
              "      fill: #174EA6;\n",
              "    }\n",
              "\n",
              "    .colab-df-buttons div {\n",
              "      margin-bottom: 4px;\n",
              "    }\n",
              "\n",
              "    [theme=dark] .colab-df-convert {\n",
              "      background-color: #3B4455;\n",
              "      fill: #D2E3FC;\n",
              "    }\n",
              "\n",
              "    [theme=dark] .colab-df-convert:hover {\n",
              "      background-color: #434B5C;\n",
              "      box-shadow: 0px 1px 3px 1px rgba(0, 0, 0, 0.15);\n",
              "      filter: drop-shadow(0px 1px 2px rgba(0, 0, 0, 0.3));\n",
              "      fill: #FFFFFF;\n",
              "    }\n",
              "  </style>\n",
              "\n",
              "    <script>\n",
              "      const buttonEl =\n",
              "        document.querySelector('#df-d6099085-1bde-453f-b939-3846ce31c87d button.colab-df-convert');\n",
              "      buttonEl.style.display =\n",
              "        google.colab.kernel.accessAllowed ? 'block' : 'none';\n",
              "\n",
              "      async function convertToInteractive(key) {\n",
              "        const element = document.querySelector('#df-d6099085-1bde-453f-b939-3846ce31c87d');\n",
              "        const dataTable =\n",
              "          await google.colab.kernel.invokeFunction('convertToInteractive',\n",
              "                                                    [key], {});\n",
              "        if (!dataTable) return;\n",
              "\n",
              "        const docLinkHtml = 'Like what you see? Visit the ' +\n",
              "          '<a target=\"_blank\" href=https://colab.research.google.com/notebooks/data_table.ipynb>data table notebook</a>'\n",
              "          + ' to learn more about interactive tables.';\n",
              "        element.innerHTML = '';\n",
              "        dataTable['output_type'] = 'display_data';\n",
              "        await google.colab.output.renderOutput(dataTable, element);\n",
              "        const docLink = document.createElement('div');\n",
              "        docLink.innerHTML = docLinkHtml;\n",
              "        element.appendChild(docLink);\n",
              "      }\n",
              "    </script>\n",
              "  </div>\n",
              "\n",
              "\n",
              "<div id=\"df-7aac270d-537d-477d-9724-72c8c9e90410\">\n",
              "  <button class=\"colab-df-quickchart\" onclick=\"quickchart('df-7aac270d-537d-477d-9724-72c8c9e90410')\"\n",
              "            title=\"Suggest charts\"\n",
              "            style=\"display:none;\">\n",
              "\n",
              "<svg xmlns=\"http://www.w3.org/2000/svg\" height=\"24px\"viewBox=\"0 0 24 24\"\n",
              "     width=\"24px\">\n",
              "    <g>\n",
              "        <path d=\"M19 3H5c-1.1 0-2 .9-2 2v14c0 1.1.9 2 2 2h14c1.1 0 2-.9 2-2V5c0-1.1-.9-2-2-2zM9 17H7v-7h2v7zm4 0h-2V7h2v10zm4 0h-2v-4h2v4z\"/>\n",
              "    </g>\n",
              "</svg>\n",
              "  </button>\n",
              "\n",
              "<style>\n",
              "  .colab-df-quickchart {\n",
              "      --bg-color: #E8F0FE;\n",
              "      --fill-color: #1967D2;\n",
              "      --hover-bg-color: #E2EBFA;\n",
              "      --hover-fill-color: #174EA6;\n",
              "      --disabled-fill-color: #AAA;\n",
              "      --disabled-bg-color: #DDD;\n",
              "  }\n",
              "\n",
              "  [theme=dark] .colab-df-quickchart {\n",
              "      --bg-color: #3B4455;\n",
              "      --fill-color: #D2E3FC;\n",
              "      --hover-bg-color: #434B5C;\n",
              "      --hover-fill-color: #FFFFFF;\n",
              "      --disabled-bg-color: #3B4455;\n",
              "      --disabled-fill-color: #666;\n",
              "  }\n",
              "\n",
              "  .colab-df-quickchart {\n",
              "    background-color: var(--bg-color);\n",
              "    border: none;\n",
              "    border-radius: 50%;\n",
              "    cursor: pointer;\n",
              "    display: none;\n",
              "    fill: var(--fill-color);\n",
              "    height: 32px;\n",
              "    padding: 0;\n",
              "    width: 32px;\n",
              "  }\n",
              "\n",
              "  .colab-df-quickchart:hover {\n",
              "    background-color: var(--hover-bg-color);\n",
              "    box-shadow: 0 1px 2px rgba(60, 64, 67, 0.3), 0 1px 3px 1px rgba(60, 64, 67, 0.15);\n",
              "    fill: var(--button-hover-fill-color);\n",
              "  }\n",
              "\n",
              "  .colab-df-quickchart-complete:disabled,\n",
              "  .colab-df-quickchart-complete:disabled:hover {\n",
              "    background-color: var(--disabled-bg-color);\n",
              "    fill: var(--disabled-fill-color);\n",
              "    box-shadow: none;\n",
              "  }\n",
              "\n",
              "  .colab-df-spinner {\n",
              "    border: 2px solid var(--fill-color);\n",
              "    border-color: transparent;\n",
              "    border-bottom-color: var(--fill-color);\n",
              "    animation:\n",
              "      spin 1s steps(1) infinite;\n",
              "  }\n",
              "\n",
              "  @keyframes spin {\n",
              "    0% {\n",
              "      border-color: transparent;\n",
              "      border-bottom-color: var(--fill-color);\n",
              "      border-left-color: var(--fill-color);\n",
              "    }\n",
              "    20% {\n",
              "      border-color: transparent;\n",
              "      border-left-color: var(--fill-color);\n",
              "      border-top-color: var(--fill-color);\n",
              "    }\n",
              "    30% {\n",
              "      border-color: transparent;\n",
              "      border-left-color: var(--fill-color);\n",
              "      border-top-color: var(--fill-color);\n",
              "      border-right-color: var(--fill-color);\n",
              "    }\n",
              "    40% {\n",
              "      border-color: transparent;\n",
              "      border-right-color: var(--fill-color);\n",
              "      border-top-color: var(--fill-color);\n",
              "    }\n",
              "    60% {\n",
              "      border-color: transparent;\n",
              "      border-right-color: var(--fill-color);\n",
              "    }\n",
              "    80% {\n",
              "      border-color: transparent;\n",
              "      border-right-color: var(--fill-color);\n",
              "      border-bottom-color: var(--fill-color);\n",
              "    }\n",
              "    90% {\n",
              "      border-color: transparent;\n",
              "      border-bottom-color: var(--fill-color);\n",
              "    }\n",
              "  }\n",
              "</style>\n",
              "\n",
              "  <script>\n",
              "    async function quickchart(key) {\n",
              "      const quickchartButtonEl =\n",
              "        document.querySelector('#' + key + ' button');\n",
              "      quickchartButtonEl.disabled = true;  // To prevent multiple clicks.\n",
              "      quickchartButtonEl.classList.add('colab-df-spinner');\n",
              "      try {\n",
              "        const charts = await google.colab.kernel.invokeFunction(\n",
              "            'suggestCharts', [key], {});\n",
              "      } catch (error) {\n",
              "        console.error('Error during call to suggestCharts:', error);\n",
              "      }\n",
              "      quickchartButtonEl.classList.remove('colab-df-spinner');\n",
              "      quickchartButtonEl.classList.add('colab-df-quickchart-complete');\n",
              "    }\n",
              "    (() => {\n",
              "      let quickchartButtonEl =\n",
              "        document.querySelector('#df-7aac270d-537d-477d-9724-72c8c9e90410 button');\n",
              "      quickchartButtonEl.style.display =\n",
              "        google.colab.kernel.accessAllowed ? 'block' : 'none';\n",
              "    })();\n",
              "  </script>\n",
              "</div>\n",
              "\n",
              "    </div>\n",
              "  </div>\n"
            ],
            "application/vnd.google.colaboratory.intrinsic+json": {
              "type": "dataframe",
              "summary": "{\n  \"name\": \"df_news\",\n  \"rows\": 4,\n  \"fields\": [\n    {\n      \"column\": \"Enlaces\",\n      \"properties\": {\n        \"dtype\": \"string\",\n        \"num_unique_values\": 3,\n        \"samples\": [\n          \"14396\",\n          \"https://www.eltiempo.com/vida/viajar/yovoy-campana-nacional-de-turismo-de-mincomercio-332120\",\n          \"1\"\n        ],\n        \"semantic_type\": \"\",\n        \"description\": \"\"\n      }\n    },\n    {\n      \"column\": \"T\\u00edtulo\",\n      \"properties\": {\n        \"dtype\": \"string\",\n        \"num_unique_values\": 4,\n        \"samples\": [\n          13851,\n          \"138\",\n          \"14378\"\n        ],\n        \"semantic_type\": \"\",\n        \"description\": \"\"\n      }\n    },\n    {\n      \"column\": \"info\",\n      \"properties\": {\n        \"dtype\": \"string\",\n        \"num_unique_values\": 4,\n        \"samples\": [\n          11412,\n          \"12\",\n          \"11483\"\n        ],\n        \"semantic_type\": \"\",\n        \"description\": \"\"\n      }\n    },\n    {\n      \"column\": \"contenido\",\n      \"properties\": {\n        \"dtype\": \"string\",\n        \"num_unique_values\": 4,\n        \"samples\": [\n          13202,\n          \"238\",\n          \"13738\"\n        ],\n        \"semantic_type\": \"\",\n        \"description\": \"\"\n      }\n    },\n    {\n      \"column\": \"Etiqueta\",\n      \"properties\": {\n        \"dtype\": \"string\",\n        \"num_unique_values\": 4,\n        \"samples\": [\n          26,\n          \"9187\",\n          \"14396\"\n        ],\n        \"semantic_type\": \"\",\n        \"description\": \"\"\n      }\n    }\n  ]\n}"
            }
          },
          "metadata": {},
          "execution_count": 35
        }
      ],
      "source": [
        "df_news.describe()"
      ]
    },
    {
      "cell_type": "markdown",
      "metadata": {
        "id": "NLwg8X6NT9Yz"
      },
      "source": [
        "# Exercise 1\n",
        "Data exploration"
      ]
    },
    {
      "cell_type": "code",
      "execution_count": 36,
      "metadata": {
        "colab": {
          "base_uri": "https://localhost:8080/"
        },
        "id": "ERPWuvNUT9Y0",
        "outputId": "4fc52842-dbe2-47df-a4c1-646b3dad88aa"
      },
      "outputs": [
        {
          "output_type": "stream",
          "name": "stdout",
          "text": [
            "Etiqueta\n",
            "archivo                9187\n",
            "colombia                934\n",
            "deportes                727\n",
            "opinion                 532\n",
            "mundo                   446\n",
            "cultura                 430\n",
            "economia                367\n",
            "justicia                343\n",
            "bogota                  311\n",
            "vida                    268\n",
            "politica                252\n",
            "tecnosfera              214\n",
            "salud                   106\n",
            "historias-el-tiempo      57\n",
            "mundial                  47\n",
            "Name: count, dtype: int64\n"
          ]
        }
      ],
      "source": [
        "category_counts = df_news['Etiqueta'].value_counts()\n",
        "print(category_counts[:15])"
      ]
    },
    {
      "cell_type": "code",
      "execution_count": 37,
      "metadata": {
        "colab": {
          "base_uri": "https://localhost:8080/",
          "height": 381
        },
        "id": "fOhHx9aVT9Y0",
        "outputId": "cb7cdcee-a598-45a5-e4a5-d0e995d07c75"
      },
      "outputs": [
        {
          "output_type": "display_data",
          "data": {
            "text/plain": [
              "<Figure size 1500x600 with 1 Axes>"
            ],
            "image/png": "[encoded data removed]"
          },
          "metadata": {}
        }
      ],
      "source": [
        "plt.figure(figsize=(15,6))\n",
        "sns.barplot(x=category_counts.index[:15], y=category_counts.values[:15])\n",
        "plt.title('Distribution of News Categories')\n",
        "plt.xlabel('Category')\n",
        "plt.ylabel('Count')\n",
        "plt.xticks(rotation=45)\n",
        "plt.show()"
      ]
    },
    {
      "cell_type": "markdown",
      "metadata": {
        "id": "n3M1a1y6T9Y0"
      },
      "source": [
        "# Exercise 2\n",
        "Filter by most relevant"
      ]
    },
    {
      "cell_type": "code",
      "execution_count": 38,
      "metadata": {
        "colab": {
          "base_uri": "https://localhost:8080/"
        },
        "id": "Anto-bS0T9Y0",
        "outputId": "c0f74fba-706f-4598-d7ee-ca0827eb0ea7"
      },
      "outputs": [
        {
          "output_type": "stream",
          "name": "stdout",
          "text": [
            "Etiqueta\n",
            "colombia      934\n",
            "deportes      727\n",
            "opinion       532\n",
            "mundo         446\n",
            "cultura       430\n",
            "economia      367\n",
            "justicia      343\n",
            "bogota        311\n",
            "vida          268\n",
            "politica      252\n",
            "tecnosfera    214\n",
            "salud         106\n",
            "Name: count, dtype: int64\n"
          ]
        }
      ],
      "source": [
        "# randomly picked 100 as the min threshold\n",
        "most_relevant_cats = category_counts[(category_counts > 100) & (category_counts < 1000)]\n",
        "print(most_relevant_cats)"
      ]
    },
    {
      "cell_type": "code",
      "execution_count": 39,
      "metadata": {
        "colab": {
          "base_uri": "https://localhost:8080/"
        },
        "id": "6tdRi7osT9Y0",
        "outputId": "1a337191-ede1-4b77-e6cc-2608841c80a1"
      },
      "outputs": [
        {
          "output_type": "execute_result",
          "data": {
            "text/plain": [
              "(2439, 5)"
            ]
          },
          "metadata": {},
          "execution_count": 39
        }
      ],
      "source": [
        "df_filtered = df_news[df_news['Etiqueta'].isin([\n",
        "    'deportes',\n",
        "    'cultura',\n",
        "    'economia',\n",
        "    'justicia',\n",
        "    'politica',\n",
        "    'tecnosfera',\n",
        "    'salud'\n",
        "])]\n",
        "df_filtered.shape"
      ]
    },
    {
      "cell_type": "markdown",
      "metadata": {
        "id": "-pL0xHdcT9Y0"
      },
      "source": [
        "# Exercise 3\n",
        "Data preprocessing"
      ]
    },
    {
      "cell_type": "code",
      "execution_count": 40,
      "metadata": {
        "colab": {
          "base_uri": "https://localhost:8080/"
        },
        "id": "FRHWf_KYT9Y0",
        "outputId": "a11423f1-5668-4105-de57-ec2ca672a3d7"
      },
      "outputs": [
        {
          "output_type": "execute_result",
          "data": {
            "text/plain": [
              "(2439, 5)"
            ]
          },
          "metadata": {},
          "execution_count": 40
        }
      ],
      "source": [
        "df_preprocessed = df_filtered.copy()\n",
        "df_preprocessed.shape"
      ]
    },
    {
      "cell_type": "code",
      "execution_count": 41,
      "metadata": {
        "colab": {
          "base_uri": "https://localhost:8080/"
        },
        "id": "yGklTbvGT9Y1",
        "outputId": "a7a33d10-d420-44b5-f44d-c1241d12a8bb"
      },
      "outputs": [
        {
          "output_type": "execute_result",
          "data": {
            "text/plain": [
              "(2439, 4)"
            ]
          },
          "metadata": {},
          "execution_count": 41
        }
      ],
      "source": [
        "df_preprocessed = df_preprocessed[['Título', 'info', 'contenido', 'Etiqueta']]\n",
        "df_preprocessed.shape"
      ]
    },
    {
      "cell_type": "code",
      "execution_count": 42,
      "metadata": {
        "colab": {
          "base_uri": "https://localhost:8080/"
        },
        "id": "kZkXecNhT9Y1",
        "outputId": "04fbd56d-c9b1-4777-9e32-73cd3e215f21"
      },
      "outputs": [
        {
          "output_type": "execute_result",
          "data": {
            "text/plain": [
              "(2386, 4)"
            ]
          },
          "metadata": {},
          "execution_count": 42
        }
      ],
      "source": [
        "df_preprocessed = df_preprocessed.dropna()\n",
        "df_preprocessed.shape"
      ]
    },
    {
      "cell_type": "code",
      "execution_count": 43,
      "metadata": {
        "colab": {
          "base_uri": "https://localhost:8080/",
          "height": 162
        },
        "id": "LcHGN-f_T9Y1",
        "outputId": "04da9335-cdf2-4f00-d14e-392a2fa6acb8"
      },
      "outputs": [
        {
          "output_type": "execute_result",
          "data": {
            "text/plain": [
              "                                                  Título  \\\n",
              "10487  Al interior de, aparte, roquero, rock / El len...   \n",
              "10488  Antonina Canal: 20 años de danza oriental en C...   \n",
              "\n",
              "                                                    info  \\\n",
              "10487  'Al interior de' es el reemplazo sofisticado e...   \n",
              "10488  La bailarina habló con EL TIEMPO de su trayect...   \n",
              "\n",
              "                                               contenido Etiqueta  \n",
              "10487  Citas: “Los crímenes de violencia sexual comet...  cultura  \n",
              "10488  Con motivo de la celebración de los 20 años de...  cultura  "
            ],
            "text/html": [
              "\n",
              "  <div id=\"df-a8fd97fe-e233-4954-aeeb-0fe2dc077886\" class=\"colab-df-container\">\n",
              "    <div>\n",
              "<style scoped>\n",
              "    .dataframe tbody tr th:only-of-type {\n",
              "        vertical-align: middle;\n",
              "    }\n",
              "\n",
              "    .dataframe tbody tr th {\n",
              "        vertical-align: top;\n",
              "    }\n",
              "\n",
              "    .dataframe thead th {\n",
              "        text-align: right;\n",
              "    }\n",
              "</style>\n",
              "<table border=\"1\" class=\"dataframe\">\n",
              "  <thead>\n",
              "    <tr style=\"text-align: right;\">\n",
              "      <th></th>\n",
              "      <th>Título</th>\n",
              "      <th>info</th>\n",
              "      <th>contenido</th>\n",
              "      <th>Etiqueta</th>\n",
              "    </tr>\n",
              "  </thead>\n",
              "  <tbody>\n",
              "    <tr>\n",
              "      <th>10487</th>\n",
              "      <td>Al interior de, aparte, roquero, rock / El len...</td>\n",
              "      <td>'Al interior de' es el reemplazo sofisticado e...</td>\n",
              "      <td>Citas: “Los crímenes de violencia sexual comet...</td>\n",
              "      <td>cultura</td>\n",
              "    </tr>\n",
              "    <tr>\n",
              "      <th>10488</th>\n",
              "      <td>Antonina Canal: 20 años de danza oriental en C...</td>\n",
              "      <td>La bailarina habló con EL TIEMPO de su trayect...</td>\n",
              "      <td>Con motivo de la celebración de los 20 años de...</td>\n",
              "      <td>cultura</td>\n",
              "    </tr>\n",
              "  </tbody>\n",
              "</table>\n",
              "</div>\n",
              "    <div class=\"colab-df-buttons\">\n",
              "\n",
              "  <div class=\"colab-df-container\">\n",
              "    <button class=\"colab-df-convert\" onclick=\"convertToInteractive('df-a8fd97fe-e233-4954-aeeb-0fe2dc077886')\"\n",
              "            title=\"Convert this dataframe to an interactive table.\"\n",
              "            style=\"display:none;\">\n",
              "\n",
              "  <svg xmlns=\"http://www.w3.org/2000/svg\" height=\"24px\" viewBox=\"0 -960 960 960\">\n",
              "    <path d=\"M120-120v-720h720v720H120Zm60-500h600v-160H180v160Zm220 220h160v-160H400v160Zm0 220h160v-160H400v160ZM180-400h160v-160H180v160Zm440 0h160v-160H620v160ZM180-180h160v-160H180v160Zm440 0h160v-160H620v160Z\"/>\n",
              "  </svg>\n",
              "    </button>\n",
              "\n",
              "  <style>\n",
              "    .colab-df-container {\n",
              "      display:flex;\n",
              "      gap: 12px;\n",
              "    }\n",
              "\n",
              "    .colab-df-convert {\n",
              "      background-color: #E8F0FE;\n",
              "      border: none;\n",
              "      border-radius: 50%;\n",
              "      cursor: pointer;\n",
              "      display: none;\n",
              "      fill: #1967D2;\n",
              "      height: 32px;\n",
              "      padding: 0 0 0 0;\n",
              "      width: 32px;\n",
              "    }\n",
              "\n",
              "    .colab-df-convert:hover {\n",
              "      background-color: #E2EBFA;\n",
              "      box-shadow: 0px 1px 2px rgba(60, 64, 67, 0.3), 0px 1px 3px 1px rgba(60, 64, 67, 0.15);\n",
              "      fill: #174EA6;\n",
              "    }\n",
              "\n",
              "    .colab-df-buttons div {\n",
              "      margin-bottom: 4px;\n",
              "    }\n",
              "\n",
              "    [theme=dark] .colab-df-convert {\n",
              "      background-color: #3B4455;\n",
              "      fill: #D2E3FC;\n",
              "    }\n",
              "\n",
              "    [theme=dark] .colab-df-convert:hover {\n",
              "      background-color: #434B5C;\n",
              "      box-shadow: 0px 1px 3px 1px rgba(0, 0, 0, 0.15);\n",
              "      filter: drop-shadow(0px 1px 2px rgba(0, 0, 0, 0.3));\n",
              "      fill: #FFFFFF;\n",
              "    }\n",
              "  </style>\n",
              "\n",
              "    <script>\n",
              "      const buttonEl =\n",
              "        document.querySelector('#df-a8fd97fe-e233-4954-aeeb-0fe2dc077886 button.colab-df-convert');\n",
              "      buttonEl.style.display =\n",
              "        google.colab.kernel.accessAllowed ? 'block' : 'none';\n",
              "\n",
              "      async function convertToInteractive(key) {\n",
              "        const element = document.querySelector('#df-a8fd97fe-e233-4954-aeeb-0fe2dc077886');\n",
              "        const dataTable =\n",
              "          await google.colab.kernel.invokeFunction('convertToInteractive',\n",
              "                                                    [key], {});\n",
              "        if (!dataTable) return;\n",
              "\n",
              "        const docLinkHtml = 'Like what you see? Visit the ' +\n",
              "          '<a target=\"_blank\" href=https://colab.research.google.com/notebooks/data_table.ipynb>data table notebook</a>'\n",
              "          + ' to learn more about interactive tables.';\n",
              "        element.innerHTML = '';\n",
              "        dataTable['output_type'] = 'display_data';\n",
              "        await google.colab.output.renderOutput(dataTable, element);\n",
              "        const docLink = document.createElement('div');\n",
              "        docLink.innerHTML = docLinkHtml;\n",
              "        element.appendChild(docLink);\n",
              "      }\n",
              "    </script>\n",
              "  </div>\n",
              "\n",
              "\n",
              "<div id=\"df-223427c5-5121-4dde-a000-c6145cea0562\">\n",
              "  <button class=\"colab-df-quickchart\" onclick=\"quickchart('df-223427c5-5121-4dde-a000-c6145cea0562')\"\n",
              "            title=\"Suggest charts\"\n",
              "            style=\"display:none;\">\n",
              "\n",
              "<svg xmlns=\"http://www.w3.org/2000/svg\" height=\"24px\"viewBox=\"0 0 24 24\"\n",
              "     width=\"24px\">\n",
              "    <g>\n",
              "        <path d=\"M19 3H5c-1.1 0-2 .9-2 2v14c0 1.1.9 2 2 2h14c1.1 0 2-.9 2-2V5c0-1.1-.9-2-2-2zM9 17H7v-7h2v7zm4 0h-2V7h2v10zm4 0h-2v-4h2v4z\"/>\n",
              "    </g>\n",
              "</svg>\n",
              "  </button>\n",
              "\n",
              "<style>\n",
              "  .colab-df-quickchart {\n",
              "      --bg-color: #E8F0FE;\n",
              "      --fill-color: #1967D2;\n",
              "      --hover-bg-color: #E2EBFA;\n",
              "      --hover-fill-color: #174EA6;\n",
              "      --disabled-fill-color: #AAA;\n",
              "      --disabled-bg-color: #DDD;\n",
              "  }\n",
              "\n",
              "  [theme=dark] .colab-df-quickchart {\n",
              "      --bg-color: #3B4455;\n",
              "      --fill-color: #D2E3FC;\n",
              "      --hover-bg-color: #434B5C;\n",
              "      --hover-fill-color: #FFFFFF;\n",
              "      --disabled-bg-color: #3B4455;\n",
              "      --disabled-fill-color: #666;\n",
              "  }\n",
              "\n",
              "  .colab-df-quickchart {\n",
              "    background-color: var(--bg-color);\n",
              "    border: none;\n",
              "    border-radius: 50%;\n",
              "    cursor: pointer;\n",
              "    display: none;\n",
              "    fill: var(--fill-color);\n",
              "    height: 32px;\n",
              "    padding: 0;\n",
              "    width: 32px;\n",
              "  }\n",
              "\n",
              "  .colab-df-quickchart:hover {\n",
              "    background-color: var(--hover-bg-color);\n",
              "    box-shadow: 0 1px 2px rgba(60, 64, 67, 0.3), 0 1px 3px 1px rgba(60, 64, 67, 0.15);\n",
              "    fill: var(--button-hover-fill-color);\n",
              "  }\n",
              "\n",
              "  .colab-df-quickchart-complete:disabled,\n",
              "  .colab-df-quickchart-complete:disabled:hover {\n",
              "    background-color: var(--disabled-bg-color);\n",
              "    fill: var(--disabled-fill-color);\n",
              "    box-shadow: none;\n",
              "  }\n",
              "\n",
              "  .colab-df-spinner {\n",
              "    border: 2px solid var(--fill-color);\n",
              "    border-color: transparent;\n",
              "    border-bottom-color: var(--fill-color);\n",
              "    animation:\n",
              "      spin 1s steps(1) infinite;\n",
              "  }\n",
              "\n",
              "  @keyframes spin {\n",
              "    0% {\n",
              "      border-color: transparent;\n",
              "      border-bottom-color: var(--fill-color);\n",
              "      border-left-color: var(--fill-color);\n",
              "    }\n",
              "    20% {\n",
              "      border-color: transparent;\n",
              "      border-left-color: var(--fill-color);\n",
              "      border-top-color: var(--fill-color);\n",
              "    }\n",
              "    30% {\n",
              "      border-color: transparent;\n",
              "      border-left-color: var(--fill-color);\n",
              "      border-top-color: var(--fill-color);\n",
              "      border-right-color: var(--fill-color);\n",
              "    }\n",
              "    40% {\n",
              "      border-color: transparent;\n",
              "      border-right-color: var(--fill-color);\n",
              "      border-top-color: var(--fill-color);\n",
              "    }\n",
              "    60% {\n",
              "      border-color: transparent;\n",
              "      border-right-color: var(--fill-color);\n",
              "    }\n",
              "    80% {\n",
              "      border-color: transparent;\n",
              "      border-right-color: var(--fill-color);\n",
              "      border-bottom-color: var(--fill-color);\n",
              "    }\n",
              "    90% {\n",
              "      border-color: transparent;\n",
              "      border-bottom-color: var(--fill-color);\n",
              "    }\n",
              "  }\n",
              "</style>\n",
              "\n",
              "  <script>\n",
              "    async function quickchart(key) {\n",
              "      const quickchartButtonEl =\n",
              "        document.querySelector('#' + key + ' button');\n",
              "      quickchartButtonEl.disabled = true;  // To prevent multiple clicks.\n",
              "      quickchartButtonEl.classList.add('colab-df-spinner');\n",
              "      try {\n",
              "        const charts = await google.colab.kernel.invokeFunction(\n",
              "            'suggestCharts', [key], {});\n",
              "      } catch (error) {\n",
              "        console.error('Error during call to suggestCharts:', error);\n",
              "      }\n",
              "      quickchartButtonEl.classList.remove('colab-df-spinner');\n",
              "      quickchartButtonEl.classList.add('colab-df-quickchart-complete');\n",
              "    }\n",
              "    (() => {\n",
              "      let quickchartButtonEl =\n",
              "        document.querySelector('#df-223427c5-5121-4dde-a000-c6145cea0562 button');\n",
              "      quickchartButtonEl.style.display =\n",
              "        google.colab.kernel.accessAllowed ? 'block' : 'none';\n",
              "    })();\n",
              "  </script>\n",
              "</div>\n",
              "\n",
              "    </div>\n",
              "  </div>\n"
            ],
            "application/vnd.google.colaboratory.intrinsic+json": {
              "type": "dataframe",
              "variable_name": "df_preprocessed",
              "summary": "{\n  \"name\": \"df_preprocessed\",\n  \"rows\": 2386,\n  \"fields\": [\n    {\n      \"column\": \"T\\u00edtulo\",\n      \"properties\": {\n        \"dtype\": \"string\",\n        \"num_unique_values\": 2384,\n        \"samples\": [\n          \"Un crimen en el que la impunidad es de 90 %\",\n          \"No se han encontrado indicios sobreviolaci\\u00f3n de soberan\\u00eda venezolana\",\n          \"Avianca demanda a socio minoritario que se opone a alianza con United\"\n        ],\n        \"semantic_type\": \"\",\n        \"description\": \"\"\n      }\n    },\n    {\n      \"column\": \"info\",\n      \"properties\": {\n        \"dtype\": \"string\",\n        \"num_unique_values\": 2384,\n        \"samples\": [\n          \"Entrevista con\\u00a0Roc\\u00edo Mart\\u00ednez Montoya, investigadora del informe \\u2018La guerra inscrita en el cuerpo\\u2019.\",\n          \"Ministro de Defensa afirm\\u00f3 que por el momento no tiene razones para informar del hecho a Canciller\",\n          \"La aerol\\u00ednea interpuso dos recursos contra la familia Kriete ante una corte de Nueva York.\"\n        ],\n        \"semantic_type\": \"\",\n        \"description\": \"\"\n      }\n    },\n    {\n      \"column\": \"contenido\",\n      \"properties\": {\n        \"dtype\": \"string\",\n        \"num_unique_values\": 2385,\n        \"samples\": [\n          \"Helena, una campesina del sur del Tolima, uno de los enclaves hist\\u00f3ricos de las Farc, logr\\u00f3 salvar a sus hijos de 10, 14 y 15 a\\u00f1os de ser reclutados por esa guerrilla. Eso ocurri\\u00f3 hace siete a\\u00f1os, en el 2010. Guerrilleros del frente 21 le mandaron raz\\u00f3n de que preparara a los muchachos porque \\u201ciban a pasar por ellos\\u201d, y ese mismo d\\u00eda ella decidi\\u00f3 sacarlos de la vereda escondidos, entre guacales, en un carro de venta de bananos. \\u201cAll\\u00e1, en cada vereda, en cada finca, a usted le dicen: \\u2018Tiene dos o tres hijos, y a medida que vayan creciendo, de los 10 a\\u00f1os en adelante, se los van llevando\\u2019. Y si usted habla o algo, es peor: lo matan. La ley es que todo el mundo va a engrosar la fila de la guerrilla\\u201d, cont\\u00f3 la mujer. Pero la valent\\u00eda para defender a sus hijos termin\\u00f3 por convertirla en v\\u00edctima de violencia sexual. \\u201cLes dec\\u00eda que yo por mis hijos me hago matar. Fueron a mi casa a las 9 de la noche. Me ataron las manos atr\\u00e1s. Me llevaron al \\u2018Rinc\\u00f3n de la muerte\\u2019 (en inmediaciones de la quebrada La Catalina, donde los grupos armados asesinaron a varias personas)\\u201d. All\\u00e1 estaba \\u2018Agust\\u00edn\\u2019, el jefe del frente 21, que muri\\u00f3 en combate con el Ej\\u00e9rcito en el 2012: \\u201c\\u00c9l me viol\\u00f3 y les dijo a los otros: \\u2018Cada uno haga lo que quiera con ella, tenemos cinco horas para hacer todo lo que quieran\\u2019 \\u201d. Testimonios como el de Helena fueron recogidos por el Centro Nacional de Memoria Hist\\u00f3rica en el informe \\u2018La guerra inscrita en el cuerpo\\u2019, revelado esta semana y que reconstruye c\\u00f3mo todos los grupos armados y muchos agentes del Estado utilizaron la violencia sexual en medio del conflicto armado . La investigaci\\u00f3n tiene casos desde 1959 y su macabro balance \\u2013que claramente es inferior a la realidad, porque muchas v\\u00edctimas temen denunciar incluso hoy\\u2013 es que al menos 15.000 ni\\u00f1as y mujeres, pero tambi\\u00e9n muchos ni\\u00f1os y adolescentes, fueron violados por los actores de la guerra. La mayor\\u00eda de los casos no tiene un responsable identificado. Pero el documento, de 550 p\\u00e1ginas, encontr\\u00f3 que los grupos paramilitares fueron se\\u00f1alados por 4.837 v\\u00edctimas; las guerrillas de las Farc, el Eln y el Erg, por 4.722, y los agentes del Estado, por al menos 206. El Centro Nacional de Memoria Hist\\u00f3rica acudi\\u00f3 a expedientes judiciales y a testimonios directos para retratar las pr\\u00e1cticas de sometimiento. Muchas de ellas han sido documentadas y ampliamente recogidas en la \\u00faltima d\\u00e9cada, gracias a las confesiones de paramilitares desmovilizados ante la jurisdicci\\u00f3n de Justicia y Paz y, sobre todo, a la valent\\u00eda de centenares de v\\u00edctimas que se atrevieron a romper el miedo y la impunidad. En cuanto a las guerrillas, la violencia sexual fue ejercida tanto contra las comunidades de sus zonas de influencia como contra las ni\\u00f1as y adolescentes reclutadas. La plena confesi\\u00f3n sobre esas pr\\u00e1cticas ser\\u00e1 una de las pruebas de fuego sobre el real compromiso de los desmovilizados ante la nueva Jurisdicci\\u00f3n Especial para la Paz (JEP), pues la verdad y la reparaci\\u00f3n a las v\\u00edctimas son parte de las condiciones para acceder a penas alternativas. Esta semana, de hecho, caus\\u00f3 revuelo el se\\u00f1alamiento directo contra \\u2018Ra\\u00fal Reyes\\u2019, uno de los \\u00edconos de las Farc, quien, como lo revel\\u00f3 EL TIEMPO, fue acusado por mujeres de su escolta \\u2013que fueron elegidas por \\u00e9l cuando contaban apenas con 10 u 11 a\\u00f1os\\u2013 de abusar sistem\\u00e1ticamente de ellas. En sus estatutos, las Farc castigan incluso con la muerte las violaciones y otro tipo de abusos sexuales. Lo que las v\\u00edctimas denuncian es que si bien esto pod\\u00eda regir para los mandos medios o los combatientes rasos, rara vez aplicaba para los jefes de frente y menos para hombres tan poderosos en la organizaci\\u00f3n como \\u2018Reyes\\u2019, cuya muerte en un bombardeo de la Fuerza A\\u00e9rea marc\\u00f3 en el 2008 el declive militar de las Farc. \\u201cA \\u00e9l le gustaba cogerlo a uno para escolta, siempre ten\\u00eda muchachas as\\u00ed y despu\\u00e9s abusaba de uno, a \\u00e9l le gustaba abusar de las muchachas que llevaba\\u201d, dijo Gina, quien fue su guardaespaldas durante 16 a\\u00f1os. El informe se\\u00f1ala que algunos frentes tambi\\u00e9n usaron la violaci\\u00f3n para castigar a quienes se negaban a pagar las vacunas. En el 2006, Yuliana, de 40 a\\u00f1os y con nueve meses de embarazo, fue atacada por guerrilleros del frente 32 en el Huila. La violaron en frente de su esposo. \\u201cLlegaron hombres comandados por \\u2018Joaqu\\u00edn\\u2019 y yo les dije que qu\\u00e9 pasaba, si ellos sab\\u00edan que nosotros les pag\\u00e1bamos, que nosotros \\u00e9ramos gente de bien, que me dieran una explicaci\\u00f3n (...). \\u00c9l (Joaqu\\u00edn) y otros dos abusaron de m\\u00ed. Mi esposo lloraba de ver lo que me estaban haciendo\\u201d, narr\\u00f3 la mujer. \\u201cA las mujeres les recuerdan la cuota que deben sus parejas con violencia sexual, o les cobran parte de la cuota o de los intereses de esta forma. Donde hay extorsiones a los comerciantes, suele existir violencia sexual hacia sus esposas para que recuerden que no deben dejar de pagar la cuota\\u201d, dice el informe. En Meta y Buenaventura se encontr\\u00f3 que las Farc \\u201cutilizaron t\\u00e9cnicas de control moral sobre las mujeres y las comunidades con el prop\\u00f3sito de regular la vida cotidiana de la poblaci\\u00f3n y establecer un control de g\\u00e9nero\\u201d. Tambi\\u00e9n buscaban \\u201cproclamarse como la \\u00fanica autoridad capaz de hacer uso de la fuerza en el territorio\\u201d. \\u201cEllos ten\\u00edan sus leyes y castigaban, y a quienes no cumpl\\u00edan sus leyes los mataban\\u201d, dijo una mujer durante un taller de reconstrucci\\u00f3n de memoria. \\u201cParamilitares y guerrillas establecieron, cada uno, sus propias pautas de comportamiento, nociones frente al delito; regularon la vida afectiva, los ritmos y espacios cotidianos, la vida social, la sexualidad, los espacios de divertimento y las formas de llevar y conducir los cuerpos\\u201d, se\\u00f1alan los investigadores del Centro Nacional de Memoria Hist\\u00f3rica. En el 2009, en Nari\\u00f1o, una lesbiana fue v\\u00edctima de guerrilleros porque decidi\\u00f3 vivir abiertamente con su pareja. Una noche su casa fue asaltada. A las dos las violaron y a su compa\\u00f1era la desaparecieron. \\u201cLos paramilitares y las guerrillas tuvieron el af\\u00e1n de \\u2018limpiar\\u2019 de sus territorios a aquellos cuerpos que representaban contaminaci\\u00f3n, desviaci\\u00f3n, inmoralidad y enfermedades\\u201d, advierte el documento. Este resalta tambi\\u00e9n los casos de ni\\u00f1as que fueron reclutadas y, despu\\u00e9s, v\\u00edctimas de abuso. Rosa, que fue guerrillera en el Meta, cont\\u00f3 que fue reclutada por las Farc junto con sus dos primas, de 9 y 10 a\\u00f1os, en los a\\u00f1os 80. \\u201cHac\\u00edan dos filas, las que eran v\\u00edrgenes y las que no. Los que comandaban ten\\u00edan relaciones con las ni\\u00f1as v\\u00edrgenes. Y ya los dem\\u00e1s compa\\u00f1eros eran los que abusaban de otras muchachas. Pero siempre las v\\u00edrgenes pasaban por la cabeza mayor\\u201d, afirm\\u00f3. \\u201cLa relaci\\u00f3n entre reclutamiento de ni\\u00f1as y adolescentes y violencia sexual en el interior de las Farc fue com\\u00fan. Se repitieron y recrudecieron en las filas discursos que situaban los cuerpos de las ni\\u00f1as como cuerpos-premio para los altos comandantes\\u201d, se\\u00f1ala el informe. Pero esa pr\\u00e1ctica se daba en todos los actores armados. Neyit, excombatiente de la guerrilla del Eln, fue reclutada a los 15 a\\u00f1os y a los dos d\\u00edas la violaron: \\u201cReclutaban y hac\\u00edan lo que quisieran con las muchachas. El que me reclut\\u00f3 lleg\\u00f3 a mi habitaci\\u00f3n y me quiso besar, y no lo dej\\u00e9. Luego vino con dos muchachos, uno me agarr\\u00f3 las manos y otro los pies, y \\u00e9l me iba quitando la ropa\\u201d. Para evitar ser atacada por otros, la joven termin\\u00f3 como pareja del violador, que ten\\u00eda mando en la tropa. Yurani, quien form\\u00f3 parte de las Farc en el suroriente del pa\\u00eds, cont\\u00f3 que tuvo tres abortos forzados. En las tres ocasiones quiso tener el beb\\u00e9 ocultando su estado, pero siempre fue descubierta y sancionada. La \\u00faltima vez ten\\u00eda ocho meses de embarazo. \\u201cCuando eso todav\\u00eda estaba vivo el \\u2018Mono Jojoy\\u2019. \\u00c9l dijo: \\u2018H\\u00e1gale el aborto\\u2019, y al otro d\\u00eda madrugaron a meterme la pasta esa para hacerme un legrado\\u201d, narr\\u00f3. Con estos testimonios, el informe rese\\u00f1a que las decisiones sobre los cuerpos de las mujeres estaban en poder de los comandantes. En las Farc y en los otros grupos, dice el Centro Nacional de Memoria Hist\\u00f3rica, las combatientes fueron obligadas a pr\\u00e1cticas de anticoncepci\\u00f3n, aborto y esterilizaci\\u00f3n forzada. \\u201cDicha renuncia obligada a la maternidad se configura como un reflejo m\\u00e1s del ejercicio de entrenamiento y acondicionamiento del cuerpo femenino a la guerra: un cuerpo masculinizado \\u2013se\\u00f1ala el documento\\u2013. Las ni\\u00f1as y mujeres son sujetas a controles sanitarios constantes, verificaci\\u00f3n y vigilancia sobre los ciclos menstruales y vigilancia sobre las relaciones sexuales que establecen las mujeres y con qui\\u00e9nes lo hacen\\u201d. Algunas de sus compa\\u00f1eras, seg\\u00fan Yurani, murieron despu\\u00e9s de practicarles abortos forzados. \\u201cEn el Yar\\u00ed hubo una muchacha que se llamaba Dayana y le dec\\u00edan la \\u2018Charuza\\u2019. A ella le practicaron el aborto y a los dos d\\u00edas muri\\u00f3 desangrada\\u201d, cont\\u00f3. Estos casos, dice el informe, se suman a las 21 muertes en similares condiciones que document\\u00f3 Justicia y Paz contra el Ej\\u00e9rcito Revolucionario Guevarista (Erg). El desgarrador informe advierte tambi\\u00e9n sobre los abusos perpetrados por el bando contrario. Un exparamilitar de las Autodefensas Campesinas del Casanare cont\\u00f3 que cuando las guerrilleras se dejaban \\u201ccoger vivas\\u201d eran v\\u00edctimas de torturas y violencia sexual. \\u201cS\\u00ed, era guerrillera, pero no ten\\u00edan derecho de violarla tantos manes, pasaron como unos 25 por encima de ella y la mataron a cuchillo\\u201d, confes\\u00f3. Magaly, exintegrante de las Farc, cont\\u00f3 que su prima, tambi\\u00e9n de la guerrilla, fue violada por el Ej\\u00e9rcito en un combate en el 2004: \\u201cLe echaron \\u00e1cido en la cara despu\\u00e9s de violada; yo estaba escondida y vi todo, y me daban rabia las cosas que le dec\\u00edan. Ellos le dec\\u00edan que por ser el Ej\\u00e9rcito pod\\u00edan violar y asesinar como si nada\\u201d. Como ya se conoce, los paramilitares utilizaron la violencia sexual como m\\u00e9todo de terror en las zonas a las que iban llegando. Pero no solo ocurr\\u00eda en la etapa de incursi\\u00f3n. Ya establecidos en las zonas, numerosos jefes se convirtieron en depredadores sexuales contra las comunidades que estaban en sus \\u00e1reas de influencia. El caso m\\u00e1s conocido es el de Hern\\u00e1n Giraldo, capo del cartel de Medell\\u00edn que termin\\u00f3 como jefe paramilitar de Magdalena. \\u201cEl se\\u00f1or (Hern\\u00e1n Giraldo) solo violaba ni\\u00f1as menores de 15 a\\u00f1os. Para \\u00e9l, y lo dijo p\\u00fablicamente en la audiencia, para \\u00e9l una mujer de 20 a\\u00f1os era una anciana. Las ten\\u00eda una semana y luego las devolv\\u00eda\\u201d, cont\\u00f3 una l\\u00edder de la zona rural de Santa Marta. Incluso, denunci\\u00f3 que estando preso (antes de ser extraditado a Estados Unidos) le llevaban menores de edad. En las goteras de Santa Marta, los paramilitares ten\\u00edan la pr\\u00e1ctica de quitar la luz en las noches para perpetrar sus ataques sexuales. Irrump\\u00edan en las casas y forzaban a familias enteras. Tambi\\u00e9n se documentaron casos de esterilizaci\\u00f3n forzada practicada en hospitales p\\u00fablicos. \\u201cNos mandaban a \\u2018capar\\u2019 para que no tuvi\\u00e9ramos hijos, y esto lo hicieron en el hospital. Era algo tan inhumano, llegaban con lista en mano\\u201d, dijo una de las mujeres afectadas. En Valle y Santander se documentaron casos de paramilitares que buscaban a sus v\\u00edctimas entre las ni\\u00f1as de las escuelas, como lo se\\u00f1al\\u00f3 la hist\\u00f3rica sentencia contra el bloque Central Bol\\u00edvar por casi 3.000 cr\\u00edmenes, entre ellos 1.013 de violencia sexual. Como ocurri\\u00f3 con Helena, a Esperanza la violaron por evitar que uno de sus peque\\u00f1os hijos fuera utilizado por paramilitares del bloque Cacique Nutibara para mover armas. Ocurri\\u00f3 en diciembre del 2002 en Medell\\u00edn. Ella decidi\\u00f3 mandar a los ni\\u00f1os a casa de su hermana, metidos en un armario del trasteo de una vecina. Cuando los \\u2018paras\\u2019 fueron a buscar al muchacho, la reacci\\u00f3n fue salvaje. \\u201cEntraron cuatro de ellos, cerraron la puerta, me tiraron a la cama, me amarraron de pies y manos, me da\\u00f1aron mi pijama y abusaron de m\\u00ed toda la noche\\u201d, relat\\u00f3 la mujer. El Centro de Memoria Hist\\u00f3rica recomienda a los gobiernos departamentales y municipales, a la academia y a las organizaciones sociales realizar investigaciones que contribuyan a la comprensi\\u00f3n de las variaciones locales de la violencia sexual, con el fin de conocer las condiciones que, en cada caso, han permitido su emergencia. Mary Luz L\\u00f3pez Mi mayor motivaci\\u00f3n es estar viva, respirar, saber que no me mataron, que mientras yo est\\u00e9 viva las letras hablar\\u00e1n por m\\u00ed y por otras mujeres. E scribo cuentos y poes\\u00eda para sacar el dolor. La escritura pasa por el coraz\\u00f3n, por el cuerpo y remueve muchas cosas. Uno tiene un talento escondido y el m\\u00edo es la escritura; eso me ha ayudado bastante. Yo creo que lo que lo mueve a uno es el amor, esa fortaleza y esa resiliencia que hay en uno para no quedarse postrado. Por eso hoy les digo a las mujeres que dejen el miedo, el miedo no viene detr\\u00e1s de uno, no callen. Sandra Gonz\\u00e1lez Mi principal motivaci\\u00f3n para seguir viva y seguir adelante, son mis hijos y mi familia. Cuando uno empieza a hablar, crea una conciencia con las otras mujeres que nunca han hablado, ellas se identifican con mi historia y dicen, a m\\u00ed tambi\\u00e9n me pas\\u00f3. Yo soy la voz de las mujeres que no tienen voz, soy la voz de las mujeres que han muerto. Ojal\\u00e1 que todo el mundo se entere de que esto pasa en Colombia y ojal\\u00e1 que el Estado lo reconozca. Ilda Osorio Mi prioridad y motivaci\\u00f3n son el resto de mujeres que han sufrido la misma violencia que yo. Porque s\\u00e9 lo que se siente, s\\u00e9 lo que duele, y s\\u00e9 la vida tan sucia que uno siente que lleva. El mensaje para las mujeres v\\u00edctimas es que escuchen la voz de esta experiencia que sufri\\u00f3 en carne propia la guerra en su propio cuerpo. S i 10 veces les cierran la puerta, hay que tocarla 50 veces, hasta que la abran. Para que los due\\u00f1os de esta guerra tambi\\u00e9n sean due\\u00f1os de esta verg\\u00fcenza, de esta culpa que nosotras no tenemos. Tulia Lozano En medio de una guerra nuestros cuerpos han sido botines de guerra. Nosotras no somos las culpables. No tenemos por qu\\u00e9 callar algo que nunca debi\\u00f3 haber sucedido. Hay que ir superando, ir saliendo, ir luchando por nuestros derechos, nosotras fuimos las m\\u00e1s damnificadas en esta guerra y por eso tenemos razones para seguir paradas luchando, as\\u00ed nos amenacen por hacerlo. JUSTICIA justicia@eltiempo.com @JusticiaET Miedo 11:19 p.m. Ejercite su mente en la cuarentena con este test de l\\u00f3gica matem\\u00e1tica Ponga a prueba esas clases de matem\\u00e1ticas del colegio y de la vida par ... Manizales 10:00 p.m. Ya se venden medicamentos de cannabis con f\\u00f3rmula m\\u00e9dica En farmacias especializadas de Colombia es posible acceder a medicamen ... Manizales 10:00 p.m. El gu\\u00eda de la salud mental del pueblo con m\\u00e1s casos de bipolaridad Coronavirus en Colombia 09:31 p.m. Una cabina de desinfecci\\u00f3n manual para Barranquilla Valle del Cauca 07:50 p.m. Se han recogido cerca de 132 mil mercados en 'Donat\\u00f3n Valle Solidario'\",\n          \"Por el homicidio de cuatro mineros en Remedios, Antioquia, y por financiar grupos armados ilegales en el noreste de ese departamento, un juez sentenci\\u00f3 a 55 a\\u00f1os de c\\u00e1rcel a Jairo Hugo Escobar Cata\\u00f1o, conocido como el Zar del Oro. El 20 de diciembre de 2011 los mineros Johan Esteban Pareja Avenda\\u00f1o, Jaime Nicol\\u00e1s Jim\\u00e9nez, y los hermanos Yeison Andr\\u00e9s y Wilmar Alberto Taborda Jim\\u00e9nez, a quienes se les conoc\\u00eda como los serafines, fueron citados a una supuesta reuni\\u00f3n en la finca La T\\u00eda ubicada en la vereda La Roca, donde fueron asesinados por una estructura criminal. La Fiscal\\u00eda estableci\\u00f3 adem\\u00e1s que por el crimen se pagaron 800 millones de pesos. De acuerdo con las investigaciones, el homicidio estar\\u00eda relacionado con un atentado del que Escobar sali\\u00f3 ileso en el el 2011, y con la negativa de los mineros de vender un yacimiento aur\\u00edfero del que eran copropietarios. Los investigadores determinaron tambi\\u00e9n que Escobar Cata\\u00f1o aportaba considerables sumas de dinero para el pago de n\\u00f3mina de una organizaci\\u00f3n delincuencial conocida como \\u2018Seguridad H\\u00e9roes del Nordeste\\u2019. Escobar no es el \\u00fanico \\u2018zar\\u2019 del metal dorado . John \\u00daber Hern\\u00e1ndez , cabeza de la firma G\\u00f3ldex, lleg\\u00f3 a ser uno de los principales fundidores del pa\\u00eds, por lo que tambi\\u00e9n se gan\\u00f3 ese apelativo. Es se\\u00f1alado de haber lavado 2,3 billones de pesos a trav\\u00e9s de la firma.\\u00a0A pesar de la gravedad de los cargos, inexplicablemente qued\\u00f3 libre por vencimiento de t\\u00e9rminos. JUSTICIA Miedo 11:19 p.m. Ejercite su mente en la cuarentena con este test de l\\u00f3gica matem\\u00e1tica Ponga a prueba esas clases de matem\\u00e1ticas del colegio y de la vida par ... Manizales 10:00 p.m. Ya se venden medicamentos de cannabis con f\\u00f3rmula m\\u00e9dica En farmacias especializadas de Colombia es posible acceder a medicamen ... Manizales 10:00 p.m. El gu\\u00eda de la salud mental del pueblo con m\\u00e1s casos de bipolaridad Coronavirus en Colombia 09:31 p.m. Una cabina de desinfecci\\u00f3n manual para Barranquilla Valle del Cauca 07:50 p.m. Se han recogido cerca de 132 mil mercados en 'Donat\\u00f3n Valle Solidario'\",\n          \"Avianca  Brasil, la cuarta mayor compa\\u00f1\\u00eda a\\u00e9rea del pa\\u00eds y que en diciembre se acogi\\u00f3 a la ley de bancarrota, dejar\\u00e1 de volar 21 rutas en abril y cerrar\\u00e1 tres bases de operaciones, seg\\u00fan inform\\u00f3 este martes la empresa. En un comunicado, Avianca Brasil, nombre comercial bajo el cual opera la empresa Ocean Air,  indic\\u00f3 que la decisi\\u00f3n forma parte del \\\"plan de recuperaci\\u00f3n judicial\\\" con el que est\\u00e1 \\\"readecuando progresivamente\\\" sus operaciones para reducir el tama\\u00f1o de la flota y alcanzar el \\\"objetivo\\\" de operar 23 rutas, de las 53 que tiene en la actualidad, solo con 26 aviones. Las tres bases operacionales que cerrar\\u00e1 definitivamente la compa\\u00f1\\u00eda son las del aeropuerto internacional de Galeao, en R\\u00edo de Janeiro; la de Petrolina (Pernambuco, noreste) y la de Belem, capital del amaz\\u00f3nico estado de Par\\u00e1. Al dejar de operar 21 rutas, las 32 restantes, calificadas como \\\"estrat\\u00e9gicas\\\", se mantendr\\u00e1n \\\"normalmente\\\" y \\\"dentro del cronograma previsto\\\". De las 21 rutas que ser\\u00e1n canceladas, dos tienen destino internacional con vuelos a Bogot\\u00e1 partiendo desde Fortaleza y Salvador, ambas en el noreste del pa\\u00eds. Con la cancelaci\\u00f3n de las rutas del Galeao, la ciudad m\\u00e1s afectada con la decisi\\u00f3n fue la capital Brasilia, que perder\\u00e1 el vuelo con el mayor aeropuerto de R\\u00edo de Janeiro y su conexi\\u00f3n directa con Cuiab\\u00e1 (oeste) y Fortaleza, Salvador y Macei\\u00f3 (noreste). La aerol\\u00ednea brasile\\u00f1a se acogi\\u00f3 en diciembre pasado a la ley de quiebras para garantizar la continuidad de sus operaciones y la sustentabilidad de su negocio, as\\u00ed como para reestructurar una elevada deuda que le acarre\\u00f3 varias demandas en los tribunales. El pasado 11 de marzo, la aerol\\u00ednea brasile\\u00f1a de bajo coste Azul, la tercera mayor compa\\u00f1\\u00eda a\\u00e9rea del pa\\u00eds, anunci\\u00f3 que firm\\u00f3 un acuerdo de intenci\\u00f3n por 105 millones de d\\u00f3lares para adquirir parte de los activos de  Avianca  Brasil. Entre esos activos est\\u00e1n el certificado de operador a\\u00e9reo de Avianca  Brasil, setenta pares de \\\"slots\\\" -como se conoce a los derechos de despegar y aterrizar en aeropuertos congestionados- y aproximadamente treinta aeronaves Airbus A320. Avianca  Brasil opera vuelos regulares desde el 2002 y en enero pasado anunci\\u00f3 el recorte de sus vuelos internacionales directos desde Guarulhos, que opera para Sao Paulo, a las ciudades de Santiago de Chile, Nueva York y Miami. OceanAir es una compa\\u00f1\\u00eda independiente de Avianca Holdings S.A. y utiliza comercialmente el nombre de \\\"Avianca  Brasil\\\", en virtud de un acuerdo de licencia de uso de nombre que celebr\\u00f3 con Aerov\\u00edas del Continente Americano S.A, con sede en Colombia. EFE Miedo 11:19 p.m. Ejercite su mente en la cuarentena con este test de l\\u00f3gica matem\\u00e1tica Ponga a prueba esas clases de matem\\u00e1ticas del colegio y de la vida par ... Manizales 10:00 p.m. Ya se venden medicamentos de cannabis con f\\u00f3rmula m\\u00e9dica En farmacias especializadas de Colombia es posible acceder a medicamen ... Manizales 10:00 p.m. El gu\\u00eda de la salud mental del pueblo con m\\u00e1s casos de bipolaridad Coronavirus en Colombia 09:31 p.m. Una cabina de desinfecci\\u00f3n manual para Barranquilla Valle del Cauca 07:50 p.m. Se han recogido cerca de 132 mil mercados en 'Donat\\u00f3n Valle Solidario'\"\n        ],\n        \"semantic_type\": \"\",\n        \"description\": \"\"\n      }\n    },\n    {\n      \"column\": \"Etiqueta\",\n      \"properties\": {\n        \"dtype\": \"category\",\n        \"num_unique_values\": 7,\n        \"samples\": [\n          \"cultura\",\n          \"deportes\",\n          \"salud\"\n        ],\n        \"semantic_type\": \"\",\n        \"description\": \"\"\n      }\n    }\n  ]\n}"
            }
          },
          "metadata": {},
          "execution_count": 43
        }
      ],
      "source": [
        "df_preprocessed.head(2)"
      ]
    },
    {
      "cell_type": "code",
      "execution_count": 44,
      "metadata": {
        "colab": {
          "base_uri": "https://localhost:8080/",
          "height": 213
        },
        "id": "JCp8RHhLT9Y1",
        "outputId": "a31d3af5-6ee2-4fcd-e5cf-544fd4cc16d1"
      },
      "outputs": [
        {
          "output_type": "execute_result",
          "data": {
            "text/plain": [
              "                                                  Título  \\\n",
              "10487  Al interior de, aparte, roquero, rock / El len...   \n",
              "10488  Antonina Canal: 20 años de danza oriental en C...   \n",
              "\n",
              "                                                    info  \\\n",
              "10487  'Al interior de' es el reemplazo sofisticado e...   \n",
              "10488  La bailarina habló con EL TIEMPO de su trayect...   \n",
              "\n",
              "                                               contenido Etiqueta  \\\n",
              "10487  Citas: “Los crímenes de violencia sexual comet...  cultura   \n",
              "10488  Con motivo de la celebración de los 20 años de...  cultura   \n",
              "\n",
              "                                            unified_text  \n",
              "10487  Título: Al interior de, aparte, roquero, rock ...  \n",
              "10488  Título: Antonina Canal: 20 años de danza orien...  "
            ],
            "text/html": [
              "\n",
              "  <div id=\"df-9f64fdc8-4c4e-410b-8ea0-30ea5809a308\" class=\"colab-df-container\">\n",
              "    <div>\n",
              "<style scoped>\n",
              "    .dataframe tbody tr th:only-of-type {\n",
              "        vertical-align: middle;\n",
              "    }\n",
              "\n",
              "    .dataframe tbody tr th {\n",
              "        vertical-align: top;\n",
              "    }\n",
              "\n",
              "    .dataframe thead th {\n",
              "        text-align: right;\n",
              "    }\n",
              "</style>\n",
              "<table border=\"1\" class=\"dataframe\">\n",
              "  <thead>\n",
              "    <tr style=\"text-align: right;\">\n",
              "      <th></th>\n",
              "      <th>Título</th>\n",
              "      <th>info</th>\n",
              "      <th>contenido</th>\n",
              "      <th>Etiqueta</th>\n",
              "      <th>unified_text</th>\n",
              "    </tr>\n",
              "  </thead>\n",
              "  <tbody>\n",
              "    <tr>\n",
              "      <th>10487</th>\n",
              "      <td>Al interior de, aparte, roquero, rock / El len...</td>\n",
              "      <td>'Al interior de' es el reemplazo sofisticado e...</td>\n",
              "      <td>Citas: “Los crímenes de violencia sexual comet...</td>\n",
              "      <td>cultura</td>\n",
              "      <td>Título: Al interior de, aparte, roquero, rock ...</td>\n",
              "    </tr>\n",
              "    <tr>\n",
              "      <th>10488</th>\n",
              "      <td>Antonina Canal: 20 años de danza oriental en C...</td>\n",
              "      <td>La bailarina habló con EL TIEMPO de su trayect...</td>\n",
              "      <td>Con motivo de la celebración de los 20 años de...</td>\n",
              "      <td>cultura</td>\n",
              "      <td>Título: Antonina Canal: 20 años de danza orien...</td>\n",
              "    </tr>\n",
              "  </tbody>\n",
              "</table>\n",
              "</div>\n",
              "    <div class=\"colab-df-buttons\">\n",
              "\n",
              "  <div class=\"colab-df-container\">\n",
              "    <button class=\"colab-df-convert\" onclick=\"convertToInteractive('df-9f64fdc8-4c4e-410b-8ea0-30ea5809a308')\"\n",
              "            title=\"Convert this dataframe to an interactive table.\"\n",
              "            style=\"display:none;\">\n",
              "\n",
              "  <svg xmlns=\"http://www.w3.org/2000/svg\" height=\"24px\" viewBox=\"0 -960 960 960\">\n",
              "    <path d=\"M120-120v-720h720v720H120Zm60-500h600v-160H180v160Zm220 220h160v-160H400v160Zm0 220h160v-160H400v160ZM180-400h160v-160H180v160Zm440 0h160v-160H620v160ZM180-180h160v-160H180v160Zm440 0h160v-160H620v160Z\"/>\n",
              "  </svg>\n",
              "    </button>\n",
              "\n",
              "  <style>\n",
              "    .colab-df-container {\n",
              "      display:flex;\n",
              "      gap: 12px;\n",
              "    }\n",
              "\n",
              "    .colab-df-convert {\n",
              "      background-color: #E8F0FE;\n",
              "      border: none;\n",
              "      border-radius: 50%;\n",
              "      cursor: pointer;\n",
              "      display: none;\n",
              "      fill: #1967D2;\n",
              "      height: 32px;\n",
              "      padding: 0 0 0 0;\n",
              "      width: 32px;\n",
              "    }\n",
              "\n",
              "    .colab-df-convert:hover {\n",
              "      background-color: #E2EBFA;\n",
              "      box-shadow: 0px 1px 2px rgba(60, 64, 67, 0.3), 0px 1px 3px 1px rgba(60, 64, 67, 0.15);\n",
              "      fill: #174EA6;\n",
              "    }\n",
              "\n",
              "    .colab-df-buttons div {\n",
              "      margin-bottom: 4px;\n",
              "    }\n",
              "\n",
              "    [theme=dark] .colab-df-convert {\n",
              "      background-color: #3B4455;\n",
              "      fill: #D2E3FC;\n",
              "    }\n",
              "\n",
              "    [theme=dark] .colab-df-convert:hover {\n",
              "      background-color: #434B5C;\n",
              "      box-shadow: 0px 1px 3px 1px rgba(0, 0, 0, 0.15);\n",
              "      filter: drop-shadow(0px 1px 2px rgba(0, 0, 0, 0.3));\n",
              "      fill: #FFFFFF;\n",
              "    }\n",
              "  </style>\n",
              "\n",
              "    <script>\n",
              "      const buttonEl =\n",
              "        document.querySelector('#df-9f64fdc8-4c4e-410b-8ea0-30ea5809a308 button.colab-df-convert');\n",
              "      buttonEl.style.display =\n",
              "        google.colab.kernel.accessAllowed ? 'block' : 'none';\n",
              "\n",
              "      async function convertToInteractive(key) {\n",
              "        const element = document.querySelector('#df-9f64fdc8-4c4e-410b-8ea0-30ea5809a308');\n",
              "        const dataTable =\n",
              "          await google.colab.kernel.invokeFunction('convertToInteractive',\n",
              "                                                    [key], {});\n",
              "        if (!dataTable) return;\n",
              "\n",
              "        const docLinkHtml = 'Like what you see? Visit the ' +\n",
              "          '<a target=\"_blank\" href=https://colab.research.google.com/notebooks/data_table.ipynb>data table notebook</a>'\n",
              "          + ' to learn more about interactive tables.';\n",
              "        element.innerHTML = '';\n",
              "        dataTable['output_type'] = 'display_data';\n",
              "        await google.colab.output.renderOutput(dataTable, element);\n",
              "        const docLink = document.createElement('div');\n",
              "        docLink.innerHTML = docLinkHtml;\n",
              "        element.appendChild(docLink);\n",
              "      }\n",
              "    </script>\n",
              "  </div>\n",
              "\n",
              "\n",
              "<div id=\"df-42a57d92-0a08-4c60-a93f-1d47b48a9fd2\">\n",
              "  <button class=\"colab-df-quickchart\" onclick=\"quickchart('df-42a57d92-0a08-4c60-a93f-1d47b48a9fd2')\"\n",
              "            title=\"Suggest charts\"\n",
              "            style=\"display:none;\">\n",
              "\n",
              "<svg xmlns=\"http://www.w3.org/2000/svg\" height=\"24px\"viewBox=\"0 0 24 24\"\n",
              "     width=\"24px\">\n",
              "    <g>\n",
              "        <path d=\"M19 3H5c-1.1 0-2 .9-2 2v14c0 1.1.9 2 2 2h14c1.1 0 2-.9 2-2V5c0-1.1-.9-2-2-2zM9 17H7v-7h2v7zm4 0h-2V7h2v10zm4 0h-2v-4h2v4z\"/>\n",
              "    </g>\n",
              "</svg>\n",
              "  </button>\n",
              "\n",
              "<style>\n",
              "  .colab-df-quickchart {\n",
              "      --bg-color: #E8F0FE;\n",
              "      --fill-color: #1967D2;\n",
              "      --hover-bg-color: #E2EBFA;\n",
              "      --hover-fill-color: #174EA6;\n",
              "      --disabled-fill-color: #AAA;\n",
              "      --disabled-bg-color: #DDD;\n",
              "  }\n",
              "\n",
              "  [theme=dark] .colab-df-quickchart {\n",
              "      --bg-color: #3B4455;\n",
              "      --fill-color: #D2E3FC;\n",
              "      --hover-bg-color: #434B5C;\n",
              "      --hover-fill-color: #FFFFFF;\n",
              "      --disabled-bg-color: #3B4455;\n",
              "      --disabled-fill-color: #666;\n",
              "  }\n",
              "\n",
              "  .colab-df-quickchart {\n",
              "    background-color: var(--bg-color);\n",
              "    border: none;\n",
              "    border-radius: 50%;\n",
              "    cursor: pointer;\n",
              "    display: none;\n",
              "    fill: var(--fill-color);\n",
              "    height: 32px;\n",
              "    padding: 0;\n",
              "    width: 32px;\n",
              "  }\n",
              "\n",
              "  .colab-df-quickchart:hover {\n",
              "    background-color: var(--hover-bg-color);\n",
              "    box-shadow: 0 1px 2px rgba(60, 64, 67, 0.3), 0 1px 3px 1px rgba(60, 64, 67, 0.15);\n",
              "    fill: var(--button-hover-fill-color);\n",
              "  }\n",
              "\n",
              "  .colab-df-quickchart-complete:disabled,\n",
              "  .colab-df-quickchart-complete:disabled:hover {\n",
              "    background-color: var(--disabled-bg-color);\n",
              "    fill: var(--disabled-fill-color);\n",
              "    box-shadow: none;\n",
              "  }\n",
              "\n",
              "  .colab-df-spinner {\n",
              "    border: 2px solid var(--fill-color);\n",
              "    border-color: transparent;\n",
              "    border-bottom-color: var(--fill-color);\n",
              "    animation:\n",
              "      spin 1s steps(1) infinite;\n",
              "  }\n",
              "\n",
              "  @keyframes spin {\n",
              "    0% {\n",
              "      border-color: transparent;\n",
              "      border-bottom-color: var(--fill-color);\n",
              "      border-left-color: var(--fill-color);\n",
              "    }\n",
              "    20% {\n",
              "      border-color: transparent;\n",
              "      border-left-color: var(--fill-color);\n",
              "      border-top-color: var(--fill-color);\n",
              "    }\n",
              "    30% {\n",
              "      border-color: transparent;\n",
              "      border-left-color: var(--fill-color);\n",
              "      border-top-color: var(--fill-color);\n",
              "      border-right-color: var(--fill-color);\n",
              "    }\n",
              "    40% {\n",
              "      border-color: transparent;\n",
              "      border-right-color: var(--fill-color);\n",
              "      border-top-color: var(--fill-color);\n",
              "    }\n",
              "    60% {\n",
              "      border-color: transparent;\n",
              "      border-right-color: var(--fill-color);\n",
              "    }\n",
              "    80% {\n",
              "      border-color: transparent;\n",
              "      border-right-color: var(--fill-color);\n",
              "      border-bottom-color: var(--fill-color);\n",
              "    }\n",
              "    90% {\n",
              "      border-color: transparent;\n",
              "      border-bottom-color: var(--fill-color);\n",
              "    }\n",
              "  }\n",
              "</style>\n",
              "\n",
              "  <script>\n",
              "    async function quickchart(key) {\n",
              "      const quickchartButtonEl =\n",
              "        document.querySelector('#' + key + ' button');\n",
              "      quickchartButtonEl.disabled = true;  // To prevent multiple clicks.\n",
              "      quickchartButtonEl.classList.add('colab-df-spinner');\n",
              "      try {\n",
              "        const charts = await google.colab.kernel.invokeFunction(\n",
              "            'suggestCharts', [key], {});\n",
              "      } catch (error) {\n",
              "        console.error('Error during call to suggestCharts:', error);\n",
              "      }\n",
              "      quickchartButtonEl.classList.remove('colab-df-spinner');\n",
              "      quickchartButtonEl.classList.add('colab-df-quickchart-complete');\n",
              "    }\n",
              "    (() => {\n",
              "      let quickchartButtonEl =\n",
              "        document.querySelector('#df-42a57d92-0a08-4c60-a93f-1d47b48a9fd2 button');\n",
              "      quickchartButtonEl.style.display =\n",
              "        google.colab.kernel.accessAllowed ? 'block' : 'none';\n",
              "    })();\n",
              "  </script>\n",
              "</div>\n",
              "\n",
              "    </div>\n",
              "  </div>\n"
            ],
            "application/vnd.google.colaboratory.intrinsic+json": {
              "type": "dataframe",
              "variable_name": "df_preprocessed",
              "summary": "{\n  \"name\": \"df_preprocessed\",\n  \"rows\": 2386,\n  \"fields\": [\n    {\n      \"column\": \"T\\u00edtulo\",\n      \"properties\": {\n        \"dtype\": \"string\",\n        \"num_unique_values\": 2384,\n        \"samples\": [\n          \"Un crimen en el que la impunidad es de 90 %\",\n          \"No se han encontrado indicios sobreviolaci\\u00f3n de soberan\\u00eda venezolana\",\n          \"Avianca demanda a socio minoritario que se opone a alianza con United\"\n        ],\n        \"semantic_type\": \"\",\n        \"description\": \"\"\n      }\n    },\n    {\n      \"column\": \"info\",\n      \"properties\": {\n        \"dtype\": \"string\",\n        \"num_unique_values\": 2384,\n        \"samples\": [\n          \"Entrevista con\\u00a0Roc\\u00edo Mart\\u00ednez Montoya, investigadora del informe \\u2018La guerra inscrita en el cuerpo\\u2019.\",\n          \"Ministro de Defensa afirm\\u00f3 que por el momento no tiene razones para informar del hecho a Canciller\",\n          \"La aerol\\u00ednea interpuso dos recursos contra la familia Kriete ante una corte de Nueva York.\"\n        ],\n        \"semantic_type\": \"\",\n        \"description\": \"\"\n      }\n    },\n    {\n      \"column\": \"contenido\",\n      \"properties\": {\n        \"dtype\": \"string\",\n        \"num_unique_values\": 2385,\n        \"samples\": [\n          \"Helena, una campesina del sur del Tolima, uno de los enclaves hist\\u00f3ricos de las Farc, logr\\u00f3 salvar a sus hijos de 10, 14 y 15 a\\u00f1os de ser reclutados por esa guerrilla. Eso ocurri\\u00f3 hace siete a\\u00f1os, en el 2010. Guerrilleros del frente 21 le mandaron raz\\u00f3n de que preparara a los muchachos porque \\u201ciban a pasar por ellos\\u201d, y ese mismo d\\u00eda ella decidi\\u00f3 sacarlos de la vereda escondidos, entre guacales, en un carro de venta de bananos. \\u201cAll\\u00e1, en cada vereda, en cada finca, a usted le dicen: \\u2018Tiene dos o tres hijos, y a medida que vayan creciendo, de los 10 a\\u00f1os en adelante, se los van llevando\\u2019. Y si usted habla o algo, es peor: lo matan. La ley es que todo el mundo va a engrosar la fila de la guerrilla\\u201d, cont\\u00f3 la mujer. Pero la valent\\u00eda para defender a sus hijos termin\\u00f3 por convertirla en v\\u00edctima de violencia sexual. \\u201cLes dec\\u00eda que yo por mis hijos me hago matar. Fueron a mi casa a las 9 de la noche. Me ataron las manos atr\\u00e1s. Me llevaron al \\u2018Rinc\\u00f3n de la muerte\\u2019 (en inmediaciones de la quebrada La Catalina, donde los grupos armados asesinaron a varias personas)\\u201d. All\\u00e1 estaba \\u2018Agust\\u00edn\\u2019, el jefe del frente 21, que muri\\u00f3 en combate con el Ej\\u00e9rcito en el 2012: \\u201c\\u00c9l me viol\\u00f3 y les dijo a los otros: \\u2018Cada uno haga lo que quiera con ella, tenemos cinco horas para hacer todo lo que quieran\\u2019 \\u201d. Testimonios como el de Helena fueron recogidos por el Centro Nacional de Memoria Hist\\u00f3rica en el informe \\u2018La guerra inscrita en el cuerpo\\u2019, revelado esta semana y que reconstruye c\\u00f3mo todos los grupos armados y muchos agentes del Estado utilizaron la violencia sexual en medio del conflicto armado . La investigaci\\u00f3n tiene casos desde 1959 y su macabro balance \\u2013que claramente es inferior a la realidad, porque muchas v\\u00edctimas temen denunciar incluso hoy\\u2013 es que al menos 15.000 ni\\u00f1as y mujeres, pero tambi\\u00e9n muchos ni\\u00f1os y adolescentes, fueron violados por los actores de la guerra. La mayor\\u00eda de los casos no tiene un responsable identificado. Pero el documento, de 550 p\\u00e1ginas, encontr\\u00f3 que los grupos paramilitares fueron se\\u00f1alados por 4.837 v\\u00edctimas; las guerrillas de las Farc, el Eln y el Erg, por 4.722, y los agentes del Estado, por al menos 206. El Centro Nacional de Memoria Hist\\u00f3rica acudi\\u00f3 a expedientes judiciales y a testimonios directos para retratar las pr\\u00e1cticas de sometimiento. Muchas de ellas han sido documentadas y ampliamente recogidas en la \\u00faltima d\\u00e9cada, gracias a las confesiones de paramilitares desmovilizados ante la jurisdicci\\u00f3n de Justicia y Paz y, sobre todo, a la valent\\u00eda de centenares de v\\u00edctimas que se atrevieron a romper el miedo y la impunidad. En cuanto a las guerrillas, la violencia sexual fue ejercida tanto contra las comunidades de sus zonas de influencia como contra las ni\\u00f1as y adolescentes reclutadas. La plena confesi\\u00f3n sobre esas pr\\u00e1cticas ser\\u00e1 una de las pruebas de fuego sobre el real compromiso de los desmovilizados ante la nueva Jurisdicci\\u00f3n Especial para la Paz (JEP), pues la verdad y la reparaci\\u00f3n a las v\\u00edctimas son parte de las condiciones para acceder a penas alternativas. Esta semana, de hecho, caus\\u00f3 revuelo el se\\u00f1alamiento directo contra \\u2018Ra\\u00fal Reyes\\u2019, uno de los \\u00edconos de las Farc, quien, como lo revel\\u00f3 EL TIEMPO, fue acusado por mujeres de su escolta \\u2013que fueron elegidas por \\u00e9l cuando contaban apenas con 10 u 11 a\\u00f1os\\u2013 de abusar sistem\\u00e1ticamente de ellas. En sus estatutos, las Farc castigan incluso con la muerte las violaciones y otro tipo de abusos sexuales. Lo que las v\\u00edctimas denuncian es que si bien esto pod\\u00eda regir para los mandos medios o los combatientes rasos, rara vez aplicaba para los jefes de frente y menos para hombres tan poderosos en la organizaci\\u00f3n como \\u2018Reyes\\u2019, cuya muerte en un bombardeo de la Fuerza A\\u00e9rea marc\\u00f3 en el 2008 el declive militar de las Farc. \\u201cA \\u00e9l le gustaba cogerlo a uno para escolta, siempre ten\\u00eda muchachas as\\u00ed y despu\\u00e9s abusaba de uno, a \\u00e9l le gustaba abusar de las muchachas que llevaba\\u201d, dijo Gina, quien fue su guardaespaldas durante 16 a\\u00f1os. El informe se\\u00f1ala que algunos frentes tambi\\u00e9n usaron la violaci\\u00f3n para castigar a quienes se negaban a pagar las vacunas. En el 2006, Yuliana, de 40 a\\u00f1os y con nueve meses de embarazo, fue atacada por guerrilleros del frente 32 en el Huila. La violaron en frente de su esposo. \\u201cLlegaron hombres comandados por \\u2018Joaqu\\u00edn\\u2019 y yo les dije que qu\\u00e9 pasaba, si ellos sab\\u00edan que nosotros les pag\\u00e1bamos, que nosotros \\u00e9ramos gente de bien, que me dieran una explicaci\\u00f3n (...). \\u00c9l (Joaqu\\u00edn) y otros dos abusaron de m\\u00ed. Mi esposo lloraba de ver lo que me estaban haciendo\\u201d, narr\\u00f3 la mujer. \\u201cA las mujeres les recuerdan la cuota que deben sus parejas con violencia sexual, o les cobran parte de la cuota o de los intereses de esta forma. Donde hay extorsiones a los comerciantes, suele existir violencia sexual hacia sus esposas para que recuerden que no deben dejar de pagar la cuota\\u201d, dice el informe. En Meta y Buenaventura se encontr\\u00f3 que las Farc \\u201cutilizaron t\\u00e9cnicas de control moral sobre las mujeres y las comunidades con el prop\\u00f3sito de regular la vida cotidiana de la poblaci\\u00f3n y establecer un control de g\\u00e9nero\\u201d. Tambi\\u00e9n buscaban \\u201cproclamarse como la \\u00fanica autoridad capaz de hacer uso de la fuerza en el territorio\\u201d. \\u201cEllos ten\\u00edan sus leyes y castigaban, y a quienes no cumpl\\u00edan sus leyes los mataban\\u201d, dijo una mujer durante un taller de reconstrucci\\u00f3n de memoria. \\u201cParamilitares y guerrillas establecieron, cada uno, sus propias pautas de comportamiento, nociones frente al delito; regularon la vida afectiva, los ritmos y espacios cotidianos, la vida social, la sexualidad, los espacios de divertimento y las formas de llevar y conducir los cuerpos\\u201d, se\\u00f1alan los investigadores del Centro Nacional de Memoria Hist\\u00f3rica. En el 2009, en Nari\\u00f1o, una lesbiana fue v\\u00edctima de guerrilleros porque decidi\\u00f3 vivir abiertamente con su pareja. Una noche su casa fue asaltada. A las dos las violaron y a su compa\\u00f1era la desaparecieron. \\u201cLos paramilitares y las guerrillas tuvieron el af\\u00e1n de \\u2018limpiar\\u2019 de sus territorios a aquellos cuerpos que representaban contaminaci\\u00f3n, desviaci\\u00f3n, inmoralidad y enfermedades\\u201d, advierte el documento. Este resalta tambi\\u00e9n los casos de ni\\u00f1as que fueron reclutadas y, despu\\u00e9s, v\\u00edctimas de abuso. Rosa, que fue guerrillera en el Meta, cont\\u00f3 que fue reclutada por las Farc junto con sus dos primas, de 9 y 10 a\\u00f1os, en los a\\u00f1os 80. \\u201cHac\\u00edan dos filas, las que eran v\\u00edrgenes y las que no. Los que comandaban ten\\u00edan relaciones con las ni\\u00f1as v\\u00edrgenes. Y ya los dem\\u00e1s compa\\u00f1eros eran los que abusaban de otras muchachas. Pero siempre las v\\u00edrgenes pasaban por la cabeza mayor\\u201d, afirm\\u00f3. \\u201cLa relaci\\u00f3n entre reclutamiento de ni\\u00f1as y adolescentes y violencia sexual en el interior de las Farc fue com\\u00fan. Se repitieron y recrudecieron en las filas discursos que situaban los cuerpos de las ni\\u00f1as como cuerpos-premio para los altos comandantes\\u201d, se\\u00f1ala el informe. Pero esa pr\\u00e1ctica se daba en todos los actores armados. Neyit, excombatiente de la guerrilla del Eln, fue reclutada a los 15 a\\u00f1os y a los dos d\\u00edas la violaron: \\u201cReclutaban y hac\\u00edan lo que quisieran con las muchachas. El que me reclut\\u00f3 lleg\\u00f3 a mi habitaci\\u00f3n y me quiso besar, y no lo dej\\u00e9. Luego vino con dos muchachos, uno me agarr\\u00f3 las manos y otro los pies, y \\u00e9l me iba quitando la ropa\\u201d. Para evitar ser atacada por otros, la joven termin\\u00f3 como pareja del violador, que ten\\u00eda mando en la tropa. Yurani, quien form\\u00f3 parte de las Farc en el suroriente del pa\\u00eds, cont\\u00f3 que tuvo tres abortos forzados. En las tres ocasiones quiso tener el beb\\u00e9 ocultando su estado, pero siempre fue descubierta y sancionada. La \\u00faltima vez ten\\u00eda ocho meses de embarazo. \\u201cCuando eso todav\\u00eda estaba vivo el \\u2018Mono Jojoy\\u2019. \\u00c9l dijo: \\u2018H\\u00e1gale el aborto\\u2019, y al otro d\\u00eda madrugaron a meterme la pasta esa para hacerme un legrado\\u201d, narr\\u00f3. Con estos testimonios, el informe rese\\u00f1a que las decisiones sobre los cuerpos de las mujeres estaban en poder de los comandantes. En las Farc y en los otros grupos, dice el Centro Nacional de Memoria Hist\\u00f3rica, las combatientes fueron obligadas a pr\\u00e1cticas de anticoncepci\\u00f3n, aborto y esterilizaci\\u00f3n forzada. \\u201cDicha renuncia obligada a la maternidad se configura como un reflejo m\\u00e1s del ejercicio de entrenamiento y acondicionamiento del cuerpo femenino a la guerra: un cuerpo masculinizado \\u2013se\\u00f1ala el documento\\u2013. Las ni\\u00f1as y mujeres son sujetas a controles sanitarios constantes, verificaci\\u00f3n y vigilancia sobre los ciclos menstruales y vigilancia sobre las relaciones sexuales que establecen las mujeres y con qui\\u00e9nes lo hacen\\u201d. Algunas de sus compa\\u00f1eras, seg\\u00fan Yurani, murieron despu\\u00e9s de practicarles abortos forzados. \\u201cEn el Yar\\u00ed hubo una muchacha que se llamaba Dayana y le dec\\u00edan la \\u2018Charuza\\u2019. A ella le practicaron el aborto y a los dos d\\u00edas muri\\u00f3 desangrada\\u201d, cont\\u00f3. Estos casos, dice el informe, se suman a las 21 muertes en similares condiciones que document\\u00f3 Justicia y Paz contra el Ej\\u00e9rcito Revolucionario Guevarista (Erg). El desgarrador informe advierte tambi\\u00e9n sobre los abusos perpetrados por el bando contrario. Un exparamilitar de las Autodefensas Campesinas del Casanare cont\\u00f3 que cuando las guerrilleras se dejaban \\u201ccoger vivas\\u201d eran v\\u00edctimas de torturas y violencia sexual. \\u201cS\\u00ed, era guerrillera, pero no ten\\u00edan derecho de violarla tantos manes, pasaron como unos 25 por encima de ella y la mataron a cuchillo\\u201d, confes\\u00f3. Magaly, exintegrante de las Farc, cont\\u00f3 que su prima, tambi\\u00e9n de la guerrilla, fue violada por el Ej\\u00e9rcito en un combate en el 2004: \\u201cLe echaron \\u00e1cido en la cara despu\\u00e9s de violada; yo estaba escondida y vi todo, y me daban rabia las cosas que le dec\\u00edan. Ellos le dec\\u00edan que por ser el Ej\\u00e9rcito pod\\u00edan violar y asesinar como si nada\\u201d. Como ya se conoce, los paramilitares utilizaron la violencia sexual como m\\u00e9todo de terror en las zonas a las que iban llegando. Pero no solo ocurr\\u00eda en la etapa de incursi\\u00f3n. Ya establecidos en las zonas, numerosos jefes se convirtieron en depredadores sexuales contra las comunidades que estaban en sus \\u00e1reas de influencia. El caso m\\u00e1s conocido es el de Hern\\u00e1n Giraldo, capo del cartel de Medell\\u00edn que termin\\u00f3 como jefe paramilitar de Magdalena. \\u201cEl se\\u00f1or (Hern\\u00e1n Giraldo) solo violaba ni\\u00f1as menores de 15 a\\u00f1os. Para \\u00e9l, y lo dijo p\\u00fablicamente en la audiencia, para \\u00e9l una mujer de 20 a\\u00f1os era una anciana. Las ten\\u00eda una semana y luego las devolv\\u00eda\\u201d, cont\\u00f3 una l\\u00edder de la zona rural de Santa Marta. Incluso, denunci\\u00f3 que estando preso (antes de ser extraditado a Estados Unidos) le llevaban menores de edad. En las goteras de Santa Marta, los paramilitares ten\\u00edan la pr\\u00e1ctica de quitar la luz en las noches para perpetrar sus ataques sexuales. Irrump\\u00edan en las casas y forzaban a familias enteras. Tambi\\u00e9n se documentaron casos de esterilizaci\\u00f3n forzada practicada en hospitales p\\u00fablicos. \\u201cNos mandaban a \\u2018capar\\u2019 para que no tuvi\\u00e9ramos hijos, y esto lo hicieron en el hospital. Era algo tan inhumano, llegaban con lista en mano\\u201d, dijo una de las mujeres afectadas. En Valle y Santander se documentaron casos de paramilitares que buscaban a sus v\\u00edctimas entre las ni\\u00f1as de las escuelas, como lo se\\u00f1al\\u00f3 la hist\\u00f3rica sentencia contra el bloque Central Bol\\u00edvar por casi 3.000 cr\\u00edmenes, entre ellos 1.013 de violencia sexual. Como ocurri\\u00f3 con Helena, a Esperanza la violaron por evitar que uno de sus peque\\u00f1os hijos fuera utilizado por paramilitares del bloque Cacique Nutibara para mover armas. Ocurri\\u00f3 en diciembre del 2002 en Medell\\u00edn. Ella decidi\\u00f3 mandar a los ni\\u00f1os a casa de su hermana, metidos en un armario del trasteo de una vecina. Cuando los \\u2018paras\\u2019 fueron a buscar al muchacho, la reacci\\u00f3n fue salvaje. \\u201cEntraron cuatro de ellos, cerraron la puerta, me tiraron a la cama, me amarraron de pies y manos, me da\\u00f1aron mi pijama y abusaron de m\\u00ed toda la noche\\u201d, relat\\u00f3 la mujer. El Centro de Memoria Hist\\u00f3rica recomienda a los gobiernos departamentales y municipales, a la academia y a las organizaciones sociales realizar investigaciones que contribuyan a la comprensi\\u00f3n de las variaciones locales de la violencia sexual, con el fin de conocer las condiciones que, en cada caso, han permitido su emergencia. Mary Luz L\\u00f3pez Mi mayor motivaci\\u00f3n es estar viva, respirar, saber que no me mataron, que mientras yo est\\u00e9 viva las letras hablar\\u00e1n por m\\u00ed y por otras mujeres. E scribo cuentos y poes\\u00eda para sacar el dolor. La escritura pasa por el coraz\\u00f3n, por el cuerpo y remueve muchas cosas. Uno tiene un talento escondido y el m\\u00edo es la escritura; eso me ha ayudado bastante. Yo creo que lo que lo mueve a uno es el amor, esa fortaleza y esa resiliencia que hay en uno para no quedarse postrado. Por eso hoy les digo a las mujeres que dejen el miedo, el miedo no viene detr\\u00e1s de uno, no callen. Sandra Gonz\\u00e1lez Mi principal motivaci\\u00f3n para seguir viva y seguir adelante, son mis hijos y mi familia. Cuando uno empieza a hablar, crea una conciencia con las otras mujeres que nunca han hablado, ellas se identifican con mi historia y dicen, a m\\u00ed tambi\\u00e9n me pas\\u00f3. Yo soy la voz de las mujeres que no tienen voz, soy la voz de las mujeres que han muerto. Ojal\\u00e1 que todo el mundo se entere de que esto pasa en Colombia y ojal\\u00e1 que el Estado lo reconozca. Ilda Osorio Mi prioridad y motivaci\\u00f3n son el resto de mujeres que han sufrido la misma violencia que yo. Porque s\\u00e9 lo que se siente, s\\u00e9 lo que duele, y s\\u00e9 la vida tan sucia que uno siente que lleva. El mensaje para las mujeres v\\u00edctimas es que escuchen la voz de esta experiencia que sufri\\u00f3 en carne propia la guerra en su propio cuerpo. S i 10 veces les cierran la puerta, hay que tocarla 50 veces, hasta que la abran. Para que los due\\u00f1os de esta guerra tambi\\u00e9n sean due\\u00f1os de esta verg\\u00fcenza, de esta culpa que nosotras no tenemos. Tulia Lozano En medio de una guerra nuestros cuerpos han sido botines de guerra. Nosotras no somos las culpables. No tenemos por qu\\u00e9 callar algo que nunca debi\\u00f3 haber sucedido. Hay que ir superando, ir saliendo, ir luchando por nuestros derechos, nosotras fuimos las m\\u00e1s damnificadas en esta guerra y por eso tenemos razones para seguir paradas luchando, as\\u00ed nos amenacen por hacerlo. JUSTICIA justicia@eltiempo.com @JusticiaET Miedo 11:19 p.m. Ejercite su mente en la cuarentena con este test de l\\u00f3gica matem\\u00e1tica Ponga a prueba esas clases de matem\\u00e1ticas del colegio y de la vida par ... Manizales 10:00 p.m. Ya se venden medicamentos de cannabis con f\\u00f3rmula m\\u00e9dica En farmacias especializadas de Colombia es posible acceder a medicamen ... Manizales 10:00 p.m. El gu\\u00eda de la salud mental del pueblo con m\\u00e1s casos de bipolaridad Coronavirus en Colombia 09:31 p.m. Una cabina de desinfecci\\u00f3n manual para Barranquilla Valle del Cauca 07:50 p.m. Se han recogido cerca de 132 mil mercados en 'Donat\\u00f3n Valle Solidario'\",\n          \"Por el homicidio de cuatro mineros en Remedios, Antioquia, y por financiar grupos armados ilegales en el noreste de ese departamento, un juez sentenci\\u00f3 a 55 a\\u00f1os de c\\u00e1rcel a Jairo Hugo Escobar Cata\\u00f1o, conocido como el Zar del Oro. El 20 de diciembre de 2011 los mineros Johan Esteban Pareja Avenda\\u00f1o, Jaime Nicol\\u00e1s Jim\\u00e9nez, y los hermanos Yeison Andr\\u00e9s y Wilmar Alberto Taborda Jim\\u00e9nez, a quienes se les conoc\\u00eda como los serafines, fueron citados a una supuesta reuni\\u00f3n en la finca La T\\u00eda ubicada en la vereda La Roca, donde fueron asesinados por una estructura criminal. La Fiscal\\u00eda estableci\\u00f3 adem\\u00e1s que por el crimen se pagaron 800 millones de pesos. De acuerdo con las investigaciones, el homicidio estar\\u00eda relacionado con un atentado del que Escobar sali\\u00f3 ileso en el el 2011, y con la negativa de los mineros de vender un yacimiento aur\\u00edfero del que eran copropietarios. Los investigadores determinaron tambi\\u00e9n que Escobar Cata\\u00f1o aportaba considerables sumas de dinero para el pago de n\\u00f3mina de una organizaci\\u00f3n delincuencial conocida como \\u2018Seguridad H\\u00e9roes del Nordeste\\u2019. Escobar no es el \\u00fanico \\u2018zar\\u2019 del metal dorado . John \\u00daber Hern\\u00e1ndez , cabeza de la firma G\\u00f3ldex, lleg\\u00f3 a ser uno de los principales fundidores del pa\\u00eds, por lo que tambi\\u00e9n se gan\\u00f3 ese apelativo. Es se\\u00f1alado de haber lavado 2,3 billones de pesos a trav\\u00e9s de la firma.\\u00a0A pesar de la gravedad de los cargos, inexplicablemente qued\\u00f3 libre por vencimiento de t\\u00e9rminos. JUSTICIA Miedo 11:19 p.m. Ejercite su mente en la cuarentena con este test de l\\u00f3gica matem\\u00e1tica Ponga a prueba esas clases de matem\\u00e1ticas del colegio y de la vida par ... Manizales 10:00 p.m. Ya se venden medicamentos de cannabis con f\\u00f3rmula m\\u00e9dica En farmacias especializadas de Colombia es posible acceder a medicamen ... Manizales 10:00 p.m. El gu\\u00eda de la salud mental del pueblo con m\\u00e1s casos de bipolaridad Coronavirus en Colombia 09:31 p.m. Una cabina de desinfecci\\u00f3n manual para Barranquilla Valle del Cauca 07:50 p.m. Se han recogido cerca de 132 mil mercados en 'Donat\\u00f3n Valle Solidario'\",\n          \"Avianca  Brasil, la cuarta mayor compa\\u00f1\\u00eda a\\u00e9rea del pa\\u00eds y que en diciembre se acogi\\u00f3 a la ley de bancarrota, dejar\\u00e1 de volar 21 rutas en abril y cerrar\\u00e1 tres bases de operaciones, seg\\u00fan inform\\u00f3 este martes la empresa. En un comunicado, Avianca Brasil, nombre comercial bajo el cual opera la empresa Ocean Air,  indic\\u00f3 que la decisi\\u00f3n forma parte del \\\"plan de recuperaci\\u00f3n judicial\\\" con el que est\\u00e1 \\\"readecuando progresivamente\\\" sus operaciones para reducir el tama\\u00f1o de la flota y alcanzar el \\\"objetivo\\\" de operar 23 rutas, de las 53 que tiene en la actualidad, solo con 26 aviones. Las tres bases operacionales que cerrar\\u00e1 definitivamente la compa\\u00f1\\u00eda son las del aeropuerto internacional de Galeao, en R\\u00edo de Janeiro; la de Petrolina (Pernambuco, noreste) y la de Belem, capital del amaz\\u00f3nico estado de Par\\u00e1. Al dejar de operar 21 rutas, las 32 restantes, calificadas como \\\"estrat\\u00e9gicas\\\", se mantendr\\u00e1n \\\"normalmente\\\" y \\\"dentro del cronograma previsto\\\". De las 21 rutas que ser\\u00e1n canceladas, dos tienen destino internacional con vuelos a Bogot\\u00e1 partiendo desde Fortaleza y Salvador, ambas en el noreste del pa\\u00eds. Con la cancelaci\\u00f3n de las rutas del Galeao, la ciudad m\\u00e1s afectada con la decisi\\u00f3n fue la capital Brasilia, que perder\\u00e1 el vuelo con el mayor aeropuerto de R\\u00edo de Janeiro y su conexi\\u00f3n directa con Cuiab\\u00e1 (oeste) y Fortaleza, Salvador y Macei\\u00f3 (noreste). La aerol\\u00ednea brasile\\u00f1a se acogi\\u00f3 en diciembre pasado a la ley de quiebras para garantizar la continuidad de sus operaciones y la sustentabilidad de su negocio, as\\u00ed como para reestructurar una elevada deuda que le acarre\\u00f3 varias demandas en los tribunales. El pasado 11 de marzo, la aerol\\u00ednea brasile\\u00f1a de bajo coste Azul, la tercera mayor compa\\u00f1\\u00eda a\\u00e9rea del pa\\u00eds, anunci\\u00f3 que firm\\u00f3 un acuerdo de intenci\\u00f3n por 105 millones de d\\u00f3lares para adquirir parte de los activos de  Avianca  Brasil. Entre esos activos est\\u00e1n el certificado de operador a\\u00e9reo de Avianca  Brasil, setenta pares de \\\"slots\\\" -como se conoce a los derechos de despegar y aterrizar en aeropuertos congestionados- y aproximadamente treinta aeronaves Airbus A320. Avianca  Brasil opera vuelos regulares desde el 2002 y en enero pasado anunci\\u00f3 el recorte de sus vuelos internacionales directos desde Guarulhos, que opera para Sao Paulo, a las ciudades de Santiago de Chile, Nueva York y Miami. OceanAir es una compa\\u00f1\\u00eda independiente de Avianca Holdings S.A. y utiliza comercialmente el nombre de \\\"Avianca  Brasil\\\", en virtud de un acuerdo de licencia de uso de nombre que celebr\\u00f3 con Aerov\\u00edas del Continente Americano S.A, con sede en Colombia. EFE Miedo 11:19 p.m. Ejercite su mente en la cuarentena con este test de l\\u00f3gica matem\\u00e1tica Ponga a prueba esas clases de matem\\u00e1ticas del colegio y de la vida par ... Manizales 10:00 p.m. Ya se venden medicamentos de cannabis con f\\u00f3rmula m\\u00e9dica En farmacias especializadas de Colombia es posible acceder a medicamen ... Manizales 10:00 p.m. El gu\\u00eda de la salud mental del pueblo con m\\u00e1s casos de bipolaridad Coronavirus en Colombia 09:31 p.m. Una cabina de desinfecci\\u00f3n manual para Barranquilla Valle del Cauca 07:50 p.m. Se han recogido cerca de 132 mil mercados en 'Donat\\u00f3n Valle Solidario'\"\n        ],\n        \"semantic_type\": \"\",\n        \"description\": \"\"\n      }\n    },\n    {\n      \"column\": \"Etiqueta\",\n      \"properties\": {\n        \"dtype\": \"category\",\n        \"num_unique_values\": 7,\n        \"samples\": [\n          \"cultura\",\n          \"deportes\",\n          \"salud\"\n        ],\n        \"semantic_type\": \"\",\n        \"description\": \"\"\n      }\n    },\n    {\n      \"column\": \"unified_text\",\n      \"properties\": {\n        \"dtype\": \"string\",\n        \"num_unique_values\": 2385,\n        \"samples\": [\n          \"T\\u00edtulo: Informe devela 57 a\\u00f1os de violencia sexual en la guerra. Resumen: El documento 'La guerra inscrita en el cuerpo\\u2019 muestra la magnitud de ese crimen en el pa\\u00eds.. Contenido: Helena, una campesina del sur del Tolima, uno de los enclaves hist\\u00f3ricos de las Farc, logr\\u00f3 salvar a sus hijos de 10, 14 y 15 a\\u00f1os de ser reclutados por esa guerrilla. Eso ocurri\\u00f3 hace siete a\\u00f1os, en el 2010. Guerrilleros del frente 21 le mandaron raz\\u00f3n de que preparara a los muchachos porque \\u201ciban a pasar por ellos\\u201d, y ese mismo d\\u00eda ella decidi\\u00f3 sacarlos de la vereda escondidos, entre guacales, en un carro de venta de bananos. \\u201cAll\\u00e1, en cada vereda, en cada finca, a usted le dicen: \\u2018Tiene dos o tres hijos, y a medida que vayan creciendo, de los 10 a\\u00f1os en adelante, se los van llevando\\u2019. Y si usted habla o algo, es peor: lo matan. La ley es que todo el mundo va a engrosar la fila de la guerrilla\\u201d, cont\\u00f3 la mujer. Pero la valent\\u00eda para defender a sus hijos termin\\u00f3 por convertirla en v\\u00edctima de violencia sexual. \\u201cLes dec\\u00eda que yo por mis hijos me hago matar. Fueron a mi casa a las 9 de la noche. Me ataron las manos atr\\u00e1s. Me llevaron al \\u2018Rinc\\u00f3n de la muerte\\u2019 (en inmediaciones de la quebrada La Catalina, donde los grupos armados asesinaron a varias personas)\\u201d. All\\u00e1 estaba \\u2018Agust\\u00edn\\u2019, el jefe del frente 21, que muri\\u00f3 en combate con el Ej\\u00e9rcito en el 2012: \\u201c\\u00c9l me viol\\u00f3 y les dijo a los otros: \\u2018Cada uno haga lo que quiera con ella, tenemos cinco horas para hacer todo lo que quieran\\u2019 \\u201d. Testimonios como el de Helena fueron recogidos por el Centro Nacional de Memoria Hist\\u00f3rica en el informe \\u2018La guerra inscrita en el cuerpo\\u2019, revelado esta semana y que reconstruye c\\u00f3mo todos los grupos armados y muchos agentes del Estado utilizaron la violencia sexual en medio del conflicto armado . La investigaci\\u00f3n tiene casos desde 1959 y su macabro balance \\u2013que claramente es inferior a la realidad, porque muchas v\\u00edctimas temen denunciar incluso hoy\\u2013 es que al menos 15.000 ni\\u00f1as y mujeres, pero tambi\\u00e9n muchos ni\\u00f1os y adolescentes, fueron violados por los actores de la guerra. La mayor\\u00eda de los casos no tiene un responsable identificado. Pero el documento, de 550 p\\u00e1ginas, encontr\\u00f3 que los grupos paramilitares fueron se\\u00f1alados por 4.837 v\\u00edctimas; las guerrillas de las Farc, el Eln y el Erg, por 4.722, y los agentes del Estado, por al menos 206. El Centro Nacional de Memoria Hist\\u00f3rica acudi\\u00f3 a expedientes judiciales y a testimonios directos para retratar las pr\\u00e1cticas de sometimiento. Muchas de ellas han sido documentadas y ampliamente recogidas en la \\u00faltima d\\u00e9cada, gracias a las confesiones de paramilitares desmovilizados ante la jurisdicci\\u00f3n de Justicia y Paz y, sobre todo, a la valent\\u00eda de centenares de v\\u00edctimas que se atrevieron a romper el miedo y la impunidad. En cuanto a las guerrillas, la violencia sexual fue ejercida tanto contra las comunidades de sus zonas de influencia como contra las ni\\u00f1as y adolescentes reclutadas. La plena confesi\\u00f3n sobre esas pr\\u00e1cticas ser\\u00e1 una de las pruebas de fuego sobre el real compromiso de los desmovilizados ante la nueva Jurisdicci\\u00f3n Especial para la Paz (JEP), pues la verdad y la reparaci\\u00f3n a las v\\u00edctimas son parte de las condiciones para acceder a penas alternativas. Esta semana, de hecho, caus\\u00f3 revuelo el se\\u00f1alamiento directo contra \\u2018Ra\\u00fal Reyes\\u2019, uno de los \\u00edconos de las Farc, quien, como lo revel\\u00f3 EL TIEMPO, fue acusado por mujeres de su escolta \\u2013que fueron elegidas por \\u00e9l cuando contaban apenas con 10 u 11 a\\u00f1os\\u2013 de abusar sistem\\u00e1ticamente de ellas. En sus estatutos, las Farc castigan incluso con la muerte las violaciones y otro tipo de abusos sexuales. Lo que las v\\u00edctimas denuncian es que si bien esto pod\\u00eda regir para los mandos medios o los combatientes rasos, rara vez aplicaba para los jefes de frente y menos para hombres tan poderosos en la organizaci\\u00f3n como \\u2018Reyes\\u2019, cuya muerte en un bombardeo de la Fuerza A\\u00e9rea marc\\u00f3 en el 2008 el declive militar de las Farc. \\u201cA \\u00e9l le gustaba cogerlo a uno para escolta, siempre ten\\u00eda muchachas as\\u00ed y despu\\u00e9s abusaba de uno, a \\u00e9l le gustaba abusar de las muchachas que llevaba\\u201d, dijo Gina, quien fue su guardaespaldas durante 16 a\\u00f1os. El informe se\\u00f1ala que algunos frentes tambi\\u00e9n usaron la violaci\\u00f3n para castigar a quienes se negaban a pagar las vacunas. En el 2006, Yuliana, de 40 a\\u00f1os y con nueve meses de embarazo, fue atacada por guerrilleros del frente 32 en el Huila. La violaron en frente de su esposo. \\u201cLlegaron hombres comandados por \\u2018Joaqu\\u00edn\\u2019 y yo les dije que qu\\u00e9 pasaba, si ellos sab\\u00edan que nosotros les pag\\u00e1bamos, que nosotros \\u00e9ramos gente de bien, que me dieran una explicaci\\u00f3n (...). \\u00c9l (Joaqu\\u00edn) y otros dos abusaron de m\\u00ed. Mi esposo lloraba de ver lo que me estaban haciendo\\u201d, narr\\u00f3 la mujer. \\u201cA las mujeres les recuerdan la cuota que deben sus parejas con violencia sexual, o les cobran parte de la cuota o de los intereses de esta forma. Donde hay extorsiones a los comerciantes, suele existir violencia sexual hacia sus esposas para que recuerden que no deben dejar de pagar la cuota\\u201d, dice el informe. En Meta y Buenaventura se encontr\\u00f3 que las Farc \\u201cutilizaron t\\u00e9cnicas de control moral sobre las mujeres y las comunidades con el prop\\u00f3sito de regular la vida cotidiana de la poblaci\\u00f3n y establecer un control de g\\u00e9nero\\u201d. Tambi\\u00e9n buscaban \\u201cproclamarse como la \\u00fanica autoridad capaz de hacer uso de la fuerza en el territorio\\u201d. \\u201cEllos ten\\u00edan sus leyes y castigaban, y a quienes no cumpl\\u00edan sus leyes los mataban\\u201d, dijo una mujer durante un taller de reconstrucci\\u00f3n de memoria. \\u201cParamilitares y guerrillas establecieron, cada uno, sus propias pautas de comportamiento, nociones frente al delito; regularon la vida afectiva, los ritmos y espacios cotidianos, la vida social, la sexualidad, los espacios de divertimento y las formas de llevar y conducir los cuerpos\\u201d, se\\u00f1alan los investigadores del Centro Nacional de Memoria Hist\\u00f3rica. En el 2009, en Nari\\u00f1o, una lesbiana fue v\\u00edctima de guerrilleros porque decidi\\u00f3 vivir abiertamente con su pareja. Una noche su casa fue asaltada. A las dos las violaron y a su compa\\u00f1era la desaparecieron. \\u201cLos paramilitares y las guerrillas tuvieron el af\\u00e1n de \\u2018limpiar\\u2019 de sus territorios a aquellos cuerpos que representaban contaminaci\\u00f3n, desviaci\\u00f3n, inmoralidad y enfermedades\\u201d, advierte el documento. Este resalta tambi\\u00e9n los casos de ni\\u00f1as que fueron reclutadas y, despu\\u00e9s, v\\u00edctimas de abuso. Rosa, que fue guerrillera en el Meta, cont\\u00f3 que fue reclutada por las Farc junto con sus dos primas, de 9 y 10 a\\u00f1os, en los a\\u00f1os 80. \\u201cHac\\u00edan dos filas, las que eran v\\u00edrgenes y las que no. Los que comandaban ten\\u00edan relaciones con las ni\\u00f1as v\\u00edrgenes. Y ya los dem\\u00e1s compa\\u00f1eros eran los que abusaban de otras muchachas. Pero siempre las v\\u00edrgenes pasaban por la cabeza mayor\\u201d, afirm\\u00f3. \\u201cLa relaci\\u00f3n entre reclutamiento de ni\\u00f1as y adolescentes y violencia sexual en el interior de las Farc fue com\\u00fan. Se repitieron y recrudecieron en las filas discursos que situaban los cuerpos de las ni\\u00f1as como cuerpos-premio para los altos comandantes\\u201d, se\\u00f1ala el informe. Pero esa pr\\u00e1ctica se daba en todos los actores armados. Neyit, excombatiente de la guerrilla del Eln, fue reclutada a los 15 a\\u00f1os y a los dos d\\u00edas la violaron: \\u201cReclutaban y hac\\u00edan lo que quisieran con las muchachas. El que me reclut\\u00f3 lleg\\u00f3 a mi habitaci\\u00f3n y me quiso besar, y no lo dej\\u00e9. Luego vino con dos muchachos, uno me agarr\\u00f3 las manos y otro los pies, y \\u00e9l me iba quitando la ropa\\u201d. Para evitar ser atacada por otros, la joven termin\\u00f3 como pareja del violador, que ten\\u00eda mando en la tropa. Yurani, quien form\\u00f3 parte de las Farc en el suroriente del pa\\u00eds, cont\\u00f3 que tuvo tres abortos forzados. En las tres ocasiones quiso tener el beb\\u00e9 ocultando su estado, pero siempre fue descubierta y sancionada. La \\u00faltima vez ten\\u00eda ocho meses de embarazo. \\u201cCuando eso todav\\u00eda estaba vivo el \\u2018Mono Jojoy\\u2019. \\u00c9l dijo: \\u2018H\\u00e1gale el aborto\\u2019, y al otro d\\u00eda madrugaron a meterme la pasta esa para hacerme un legrado\\u201d, narr\\u00f3. Con estos testimonios, el informe rese\\u00f1a que las decisiones sobre los cuerpos de las mujeres estaban en poder de los comandantes. En las Farc y en los otros grupos, dice el Centro Nacional de Memoria Hist\\u00f3rica, las combatientes fueron obligadas a pr\\u00e1cticas de anticoncepci\\u00f3n, aborto y esterilizaci\\u00f3n forzada. \\u201cDicha renuncia obligada a la maternidad se configura como un reflejo m\\u00e1s del ejercicio de entrenamiento y acondicionamiento del cuerpo femenino a la guerra: un cuerpo masculinizado \\u2013se\\u00f1ala el documento\\u2013. Las ni\\u00f1as y mujeres son sujetas a controles sanitarios constantes, verificaci\\u00f3n y vigilancia sobre los ciclos menstruales y vigilancia sobre las relaciones sexuales que establecen las mujeres y con qui\\u00e9nes lo hacen\\u201d. Algunas de sus compa\\u00f1eras, seg\\u00fan Yurani, murieron despu\\u00e9s de practicarles abortos forzados. \\u201cEn el Yar\\u00ed hubo una muchacha que se llamaba Dayana y le dec\\u00edan la \\u2018Charuza\\u2019. A ella le practicaron el aborto y a los dos d\\u00edas muri\\u00f3 desangrada\\u201d, cont\\u00f3. Estos casos, dice el informe, se suman a las 21 muertes en similares condiciones que document\\u00f3 Justicia y Paz contra el Ej\\u00e9rcito Revolucionario Guevarista (Erg). El desgarrador informe advierte tambi\\u00e9n sobre los abusos perpetrados por el bando contrario. Un exparamilitar de las Autodefensas Campesinas del Casanare cont\\u00f3 que cuando las guerrilleras se dejaban \\u201ccoger vivas\\u201d eran v\\u00edctimas de torturas y violencia sexual. \\u201cS\\u00ed, era guerrillera, pero no ten\\u00edan derecho de violarla tantos manes, pasaron como unos 25 por encima de ella y la mataron a cuchillo\\u201d, confes\\u00f3. Magaly, exintegrante de las Farc, cont\\u00f3 que su prima, tambi\\u00e9n de la guerrilla, fue violada por el Ej\\u00e9rcito en un combate en el 2004: \\u201cLe echaron \\u00e1cido en la cara despu\\u00e9s de violada; yo estaba escondida y vi todo, y me daban rabia las cosas que le dec\\u00edan. Ellos le dec\\u00edan que por ser el Ej\\u00e9rcito pod\\u00edan violar y asesinar como si nada\\u201d. Como ya se conoce, los paramilitares utilizaron la violencia sexual como m\\u00e9todo de terror en las zonas a las que iban llegando. Pero no solo ocurr\\u00eda en la etapa de incursi\\u00f3n. Ya establecidos en las zonas, numerosos jefes se convirtieron en depredadores sexuales contra las comunidades que estaban en sus \\u00e1reas de influencia. El caso m\\u00e1s conocido es el de Hern\\u00e1n Giraldo, capo del cartel de Medell\\u00edn que termin\\u00f3 como jefe paramilitar de Magdalena. \\u201cEl se\\u00f1or (Hern\\u00e1n Giraldo) solo violaba ni\\u00f1as menores de 15 a\\u00f1os. Para \\u00e9l, y lo dijo p\\u00fablicamente en la audiencia, para \\u00e9l una mujer de 20 a\\u00f1os era una anciana. Las ten\\u00eda una semana y luego las devolv\\u00eda\\u201d, cont\\u00f3 una l\\u00edder de la zona rural de Santa Marta. Incluso, denunci\\u00f3 que estando preso (antes de ser extraditado a Estados Unidos) le llevaban menores de edad. En las goteras de Santa Marta, los paramilitares ten\\u00edan la pr\\u00e1ctica de quitar la luz en las noches para perpetrar sus ataques sexuales. Irrump\\u00edan en las casas y forzaban a familias enteras. Tambi\\u00e9n se documentaron casos de esterilizaci\\u00f3n forzada practicada en hospitales p\\u00fablicos. \\u201cNos mandaban a \\u2018capar\\u2019 para que no tuvi\\u00e9ramos hijos, y esto lo hicieron en el hospital. Era algo tan inhumano, llegaban con lista en mano\\u201d, dijo una de las mujeres afectadas. En Valle y Santander se documentaron casos de paramilitares que buscaban a sus v\\u00edctimas entre las ni\\u00f1as de las escuelas, como lo se\\u00f1al\\u00f3 la hist\\u00f3rica sentencia contra el bloque Central Bol\\u00edvar por casi 3.000 cr\\u00edmenes, entre ellos 1.013 de violencia sexual. Como ocurri\\u00f3 con Helena, a Esperanza la violaron por evitar que uno de sus peque\\u00f1os hijos fuera utilizado por paramilitares del bloque Cacique Nutibara para mover armas. Ocurri\\u00f3 en diciembre del 2002 en Medell\\u00edn. Ella decidi\\u00f3 mandar a los ni\\u00f1os a casa de su hermana, metidos en un armario del trasteo de una vecina. Cuando los \\u2018paras\\u2019 fueron a buscar al muchacho, la reacci\\u00f3n fue salvaje. \\u201cEntraron cuatro de ellos, cerraron la puerta, me tiraron a la cama, me amarraron de pies y manos, me da\\u00f1aron mi pijama y abusaron de m\\u00ed toda la noche\\u201d, relat\\u00f3 la mujer. El Centro de Memoria Hist\\u00f3rica recomienda a los gobiernos departamentales y municipales, a la academia y a las organizaciones sociales realizar investigaciones que contribuyan a la comprensi\\u00f3n de las variaciones locales de la violencia sexual, con el fin de conocer las condiciones que, en cada caso, han permitido su emergencia. Mary Luz L\\u00f3pez Mi mayor motivaci\\u00f3n es estar viva, respirar, saber que no me mataron, que mientras yo est\\u00e9 viva las letras hablar\\u00e1n por m\\u00ed y por otras mujeres. E scribo cuentos y poes\\u00eda para sacar el dolor. La escritura pasa por el coraz\\u00f3n, por el cuerpo y remueve muchas cosas. Uno tiene un talento escondido y el m\\u00edo es la escritura; eso me ha ayudado bastante. Yo creo que lo que lo mueve a uno es el amor, esa fortaleza y esa resiliencia que hay en uno para no quedarse postrado. Por eso hoy les digo a las mujeres que dejen el miedo, el miedo no viene detr\\u00e1s de uno, no callen. Sandra Gonz\\u00e1lez Mi principal motivaci\\u00f3n para seguir viva y seguir adelante, son mis hijos y mi familia. Cuando uno empieza a hablar, crea una conciencia con las otras mujeres que nunca han hablado, ellas se identifican con mi historia y dicen, a m\\u00ed tambi\\u00e9n me pas\\u00f3. Yo soy la voz de las mujeres que no tienen voz, soy la voz de las mujeres que han muerto. Ojal\\u00e1 que todo el mundo se entere de que esto pasa en Colombia y ojal\\u00e1 que el Estado lo reconozca. Ilda Osorio Mi prioridad y motivaci\\u00f3n son el resto de mujeres que han sufrido la misma violencia que yo. Porque s\\u00e9 lo que se siente, s\\u00e9 lo que duele, y s\\u00e9 la vida tan sucia que uno siente que lleva. El mensaje para las mujeres v\\u00edctimas es que escuchen la voz de esta experiencia que sufri\\u00f3 en carne propia la guerra en su propio cuerpo. S i 10 veces les cierran la puerta, hay que tocarla 50 veces, hasta que la abran. Para que los due\\u00f1os de esta guerra tambi\\u00e9n sean due\\u00f1os de esta verg\\u00fcenza, de esta culpa que nosotras no tenemos. Tulia Lozano En medio de una guerra nuestros cuerpos han sido botines de guerra. Nosotras no somos las culpables. No tenemos por qu\\u00e9 callar algo que nunca debi\\u00f3 haber sucedido. Hay que ir superando, ir saliendo, ir luchando por nuestros derechos, nosotras fuimos las m\\u00e1s damnificadas en esta guerra y por eso tenemos razones para seguir paradas luchando, as\\u00ed nos amenacen por hacerlo. JUSTICIA justicia@eltiempo.com @JusticiaET Miedo 11:19 p.m. Ejercite su mente en la cuarentena con este test de l\\u00f3gica matem\\u00e1tica Ponga a prueba esas clases de matem\\u00e1ticas del colegio y de la vida par ... Manizales 10:00 p.m. Ya se venden medicamentos de cannabis con f\\u00f3rmula m\\u00e9dica En farmacias especializadas de Colombia es posible acceder a medicamen ... Manizales 10:00 p.m. El gu\\u00eda de la salud mental del pueblo con m\\u00e1s casos de bipolaridad Coronavirus en Colombia 09:31 p.m. Una cabina de desinfecci\\u00f3n manual para Barranquilla Valle del Cauca 07:50 p.m. Se han recogido cerca de 132 mil mercados en 'Donat\\u00f3n Valle Solidario'.\",\n          \"T\\u00edtulo: El prontuario que condena a 55 a\\u00f1os de prisi\\u00f3n al \\u2018Zar del Oro\\u2019. Resumen: Fue hallado culpable del homicidio de cuatro mineros y de financiar grupos criminales.. Contenido: Por el homicidio de cuatro mineros en Remedios, Antioquia, y por financiar grupos armados ilegales en el noreste de ese departamento, un juez sentenci\\u00f3 a 55 a\\u00f1os de c\\u00e1rcel a Jairo Hugo Escobar Cata\\u00f1o, conocido como el Zar del Oro. El 20 de diciembre de 2011 los mineros Johan Esteban Pareja Avenda\\u00f1o, Jaime Nicol\\u00e1s Jim\\u00e9nez, y los hermanos Yeison Andr\\u00e9s y Wilmar Alberto Taborda Jim\\u00e9nez, a quienes se les conoc\\u00eda como los serafines, fueron citados a una supuesta reuni\\u00f3n en la finca La T\\u00eda ubicada en la vereda La Roca, donde fueron asesinados por una estructura criminal. La Fiscal\\u00eda estableci\\u00f3 adem\\u00e1s que por el crimen se pagaron 800 millones de pesos. De acuerdo con las investigaciones, el homicidio estar\\u00eda relacionado con un atentado del que Escobar sali\\u00f3 ileso en el el 2011, y con la negativa de los mineros de vender un yacimiento aur\\u00edfero del que eran copropietarios. Los investigadores determinaron tambi\\u00e9n que Escobar Cata\\u00f1o aportaba considerables sumas de dinero para el pago de n\\u00f3mina de una organizaci\\u00f3n delincuencial conocida como \\u2018Seguridad H\\u00e9roes del Nordeste\\u2019. Escobar no es el \\u00fanico \\u2018zar\\u2019 del metal dorado . John \\u00daber Hern\\u00e1ndez , cabeza de la firma G\\u00f3ldex, lleg\\u00f3 a ser uno de los principales fundidores del pa\\u00eds, por lo que tambi\\u00e9n se gan\\u00f3 ese apelativo. Es se\\u00f1alado de haber lavado 2,3 billones de pesos a trav\\u00e9s de la firma.\\u00a0A pesar de la gravedad de los cargos, inexplicablemente qued\\u00f3 libre por vencimiento de t\\u00e9rminos. JUSTICIA Miedo 11:19 p.m. Ejercite su mente en la cuarentena con este test de l\\u00f3gica matem\\u00e1tica Ponga a prueba esas clases de matem\\u00e1ticas del colegio y de la vida par ... Manizales 10:00 p.m. Ya se venden medicamentos de cannabis con f\\u00f3rmula m\\u00e9dica En farmacias especializadas de Colombia es posible acceder a medicamen ... Manizales 10:00 p.m. El gu\\u00eda de la salud mental del pueblo con m\\u00e1s casos de bipolaridad Coronavirus en Colombia 09:31 p.m. Una cabina de desinfecci\\u00f3n manual para Barranquilla Valle del Cauca 07:50 p.m. Se han recogido cerca de 132 mil mercados en 'Donat\\u00f3n Valle Solidario'.\",\n          \"T\\u00edtulo: Avianca Brasil dejar\\u00e1 de volar 21 rutas y cerrar\\u00e1 tres bases. Resumen: La firma, tambi\\u00e9n del empresario Germ\\u00e1n Efromovich, quedar\\u00e1 operando solo con 26 aviones.. Contenido: Avianca  Brasil, la cuarta mayor compa\\u00f1\\u00eda a\\u00e9rea del pa\\u00eds y que en diciembre se acogi\\u00f3 a la ley de bancarrota, dejar\\u00e1 de volar 21 rutas en abril y cerrar\\u00e1 tres bases de operaciones, seg\\u00fan inform\\u00f3 este martes la empresa. En un comunicado, Avianca Brasil, nombre comercial bajo el cual opera la empresa Ocean Air,  indic\\u00f3 que la decisi\\u00f3n forma parte del \\\"plan de recuperaci\\u00f3n judicial\\\" con el que est\\u00e1 \\\"readecuando progresivamente\\\" sus operaciones para reducir el tama\\u00f1o de la flota y alcanzar el \\\"objetivo\\\" de operar 23 rutas, de las 53 que tiene en la actualidad, solo con 26 aviones. Las tres bases operacionales que cerrar\\u00e1 definitivamente la compa\\u00f1\\u00eda son las del aeropuerto internacional de Galeao, en R\\u00edo de Janeiro; la de Petrolina (Pernambuco, noreste) y la de Belem, capital del amaz\\u00f3nico estado de Par\\u00e1. Al dejar de operar 21 rutas, las 32 restantes, calificadas como \\\"estrat\\u00e9gicas\\\", se mantendr\\u00e1n \\\"normalmente\\\" y \\\"dentro del cronograma previsto\\\". De las 21 rutas que ser\\u00e1n canceladas, dos tienen destino internacional con vuelos a Bogot\\u00e1 partiendo desde Fortaleza y Salvador, ambas en el noreste del pa\\u00eds. Con la cancelaci\\u00f3n de las rutas del Galeao, la ciudad m\\u00e1s afectada con la decisi\\u00f3n fue la capital Brasilia, que perder\\u00e1 el vuelo con el mayor aeropuerto de R\\u00edo de Janeiro y su conexi\\u00f3n directa con Cuiab\\u00e1 (oeste) y Fortaleza, Salvador y Macei\\u00f3 (noreste). La aerol\\u00ednea brasile\\u00f1a se acogi\\u00f3 en diciembre pasado a la ley de quiebras para garantizar la continuidad de sus operaciones y la sustentabilidad de su negocio, as\\u00ed como para reestructurar una elevada deuda que le acarre\\u00f3 varias demandas en los tribunales. El pasado 11 de marzo, la aerol\\u00ednea brasile\\u00f1a de bajo coste Azul, la tercera mayor compa\\u00f1\\u00eda a\\u00e9rea del pa\\u00eds, anunci\\u00f3 que firm\\u00f3 un acuerdo de intenci\\u00f3n por 105 millones de d\\u00f3lares para adquirir parte de los activos de  Avianca  Brasil. Entre esos activos est\\u00e1n el certificado de operador a\\u00e9reo de Avianca  Brasil, setenta pares de \\\"slots\\\" -como se conoce a los derechos de despegar y aterrizar en aeropuertos congestionados- y aproximadamente treinta aeronaves Airbus A320. Avianca  Brasil opera vuelos regulares desde el 2002 y en enero pasado anunci\\u00f3 el recorte de sus vuelos internacionales directos desde Guarulhos, que opera para Sao Paulo, a las ciudades de Santiago de Chile, Nueva York y Miami. OceanAir es una compa\\u00f1\\u00eda independiente de Avianca Holdings S.A. y utiliza comercialmente el nombre de \\\"Avianca  Brasil\\\", en virtud de un acuerdo de licencia de uso de nombre que celebr\\u00f3 con Aerov\\u00edas del Continente Americano S.A, con sede en Colombia. EFE Miedo 11:19 p.m. Ejercite su mente en la cuarentena con este test de l\\u00f3gica matem\\u00e1tica Ponga a prueba esas clases de matem\\u00e1ticas del colegio y de la vida par ... Manizales 10:00 p.m. Ya se venden medicamentos de cannabis con f\\u00f3rmula m\\u00e9dica En farmacias especializadas de Colombia es posible acceder a medicamen ... Manizales 10:00 p.m. El gu\\u00eda de la salud mental del pueblo con m\\u00e1s casos de bipolaridad Coronavirus en Colombia 09:31 p.m. Una cabina de desinfecci\\u00f3n manual para Barranquilla Valle del Cauca 07:50 p.m. Se han recogido cerca de 132 mil mercados en 'Donat\\u00f3n Valle Solidario'.\"\n        ],\n        \"semantic_type\": \"\",\n        \"description\": \"\"\n      }\n    }\n  ]\n}"
            }
          },
          "metadata": {},
          "execution_count": 44
        }
      ],
      "source": [
        "df_preprocessed['unified_text'] = 'Título: ' + df_preprocessed['Título'] + '. Resumen: ' + df_preprocessed['info'] + '. Contenido: ' + df_preprocessed['contenido'] + '.'\n",
        "df_preprocessed.head(2)"
      ]
    },
    {
      "cell_type": "code",
      "execution_count": 45,
      "metadata": {
        "id": "A9hk7vmBT9Y2"
      },
      "outputs": [],
      "source": [
        "def preprocess_text(text):\n",
        "    stripped = text.strip()\n",
        "    cleaned = re.sub(r'[\\n\\t]+', ' ', stripped)\n",
        "    cleaned = re.sub(r'\\s{2,}', ' ', cleaned)\n",
        "    cleaned = re.sub(r'\\.{2,}', '.', cleaned)\n",
        "    return cleaned"
      ]
    },
    {
      "cell_type": "code",
      "execution_count": 46,
      "metadata": {
        "colab": {
          "base_uri": "https://localhost:8080/",
          "height": 264
        },
        "id": "41Z3W3FOT9Y2",
        "outputId": "dc178051-49c5-4dc3-ba02-47b576f9affb"
      },
      "outputs": [
        {
          "output_type": "execute_result",
          "data": {
            "text/plain": [
              "                                                  Título  \\\n",
              "10487  Al interior de, aparte, roquero, rock / El len...   \n",
              "10488  Antonina Canal: 20 años de danza oriental en C...   \n",
              "\n",
              "                                                    info  \\\n",
              "10487  'Al interior de' es el reemplazo sofisticado e...   \n",
              "10488  La bailarina habló con EL TIEMPO de su trayect...   \n",
              "\n",
              "                                               contenido Etiqueta  \\\n",
              "10487  Citas: “Los crímenes de violencia sexual comet...  cultura   \n",
              "10488  Con motivo de la celebración de los 20 años de...  cultura   \n",
              "\n",
              "                                            unified_text  \\\n",
              "10487  Título: Al interior de, aparte, roquero, rock ...   \n",
              "10488  Título: Antonina Canal: 20 años de danza orien...   \n",
              "\n",
              "                                            cleaned_text  \n",
              "10487  Título: Al interior de, aparte, roquero, rock ...  \n",
              "10488  Título: Antonina Canal: 20 años de danza orien...  "
            ],
            "text/html": [
              "\n",
              "  <div id=\"df-d4299b42-e018-4365-b3a0-38fe1a5950b2\" class=\"colab-df-container\">\n",
              "    <div>\n",
              "<style scoped>\n",
              "    .dataframe tbody tr th:only-of-type {\n",
              "        vertical-align: middle;\n",
              "    }\n",
              "\n",
              "    .dataframe tbody tr th {\n",
              "        vertical-align: top;\n",
              "    }\n",
              "\n",
              "    .dataframe thead th {\n",
              "        text-align: right;\n",
              "    }\n",
              "</style>\n",
              "<table border=\"1\" class=\"dataframe\">\n",
              "  <thead>\n",
              "    <tr style=\"text-align: right;\">\n",
              "      <th></th>\n",
              "      <th>Título</th>\n",
              "      <th>info</th>\n",
              "      <th>contenido</th>\n",
              "      <th>Etiqueta</th>\n",
              "      <th>unified_text</th>\n",
              "      <th>cleaned_text</th>\n",
              "    </tr>\n",
              "  </thead>\n",
              "  <tbody>\n",
              "    <tr>\n",
              "      <th>10487</th>\n",
              "      <td>Al interior de, aparte, roquero, rock / El len...</td>\n",
              "      <td>'Al interior de' es el reemplazo sofisticado e...</td>\n",
              "      <td>Citas: “Los crímenes de violencia sexual comet...</td>\n",
              "      <td>cultura</td>\n",
              "      <td>Título: Al interior de, aparte, roquero, rock ...</td>\n",
              "      <td>Título: Al interior de, aparte, roquero, rock ...</td>\n",
              "    </tr>\n",
              "    <tr>\n",
              "      <th>10488</th>\n",
              "      <td>Antonina Canal: 20 años de danza oriental en C...</td>\n",
              "      <td>La bailarina habló con EL TIEMPO de su trayect...</td>\n",
              "      <td>Con motivo de la celebración de los 20 años de...</td>\n",
              "      <td>cultura</td>\n",
              "      <td>Título: Antonina Canal: 20 años de danza orien...</td>\n",
              "      <td>Título: Antonina Canal: 20 años de danza orien...</td>\n",
              "    </tr>\n",
              "  </tbody>\n",
              "</table>\n",
              "</div>\n",
              "    <div class=\"colab-df-buttons\">\n",
              "\n",
              "  <div class=\"colab-df-container\">\n",
              "    <button class=\"colab-df-convert\" onclick=\"convertToInteractive('df-d4299b42-e018-4365-b3a0-38fe1a5950b2')\"\n",
              "            title=\"Convert this dataframe to an interactive table.\"\n",
              "            style=\"display:none;\">\n",
              "\n",
              "  <svg xmlns=\"http://www.w3.org/2000/svg\" height=\"24px\" viewBox=\"0 -960 960 960\">\n",
              "    <path d=\"M120-120v-720h720v720H120Zm60-500h600v-160H180v160Zm220 220h160v-160H400v160Zm0 220h160v-160H400v160ZM180-400h160v-160H180v160Zm440 0h160v-160H620v160ZM180-180h160v-160H180v160Zm440 0h160v-160H620v160Z\"/>\n",
              "  </svg>\n",
              "    </button>\n",
              "\n",
              "  <style>\n",
              "    .colab-df-container {\n",
              "      display:flex;\n",
              "      gap: 12px;\n",
              "    }\n",
              "\n",
              "    .colab-df-convert {\n",
              "      background-color: #E8F0FE;\n",
              "      border: none;\n",
              "      border-radius: 50%;\n",
              "      cursor: pointer;\n",
              "      display: none;\n",
              "      fill: #1967D2;\n",
              "      height: 32px;\n",
              "      padding: 0 0 0 0;\n",
              "      width: 32px;\n",
              "    }\n",
              "\n",
              "    .colab-df-convert:hover {\n",
              "      background-color: #E2EBFA;\n",
              "      box-shadow: 0px 1px 2px rgba(60, 64, 67, 0.3), 0px 1px 3px 1px rgba(60, 64, 67, 0.15);\n",
              "      fill: #174EA6;\n",
              "    }\n",
              "\n",
              "    .colab-df-buttons div {\n",
              "      margin-bottom: 4px;\n",
              "    }\n",
              "\n",
              "    [theme=dark] .colab-df-convert {\n",
              "      background-color: #3B4455;\n",
              "      fill: #D2E3FC;\n",
              "    }\n",
              "\n",
              "    [theme=dark] .colab-df-convert:hover {\n",
              "      background-color: #434B5C;\n",
              "      box-shadow: 0px 1px 3px 1px rgba(0, 0, 0, 0.15);\n",
              "      filter: drop-shadow(0px 1px 2px rgba(0, 0, 0, 0.3));\n",
              "      fill: #FFFFFF;\n",
              "    }\n",
              "  </style>\n",
              "\n",
              "    <script>\n",
              "      const buttonEl =\n",
              "        document.querySelector('#df-d4299b42-e018-4365-b3a0-38fe1a5950b2 button.colab-df-convert');\n",
              "      buttonEl.style.display =\n",
              "        google.colab.kernel.accessAllowed ? 'block' : 'none';\n",
              "\n",
              "      async function convertToInteractive(key) {\n",
              "        const element = document.querySelector('#df-d4299b42-e018-4365-b3a0-38fe1a5950b2');\n",
              "        const dataTable =\n",
              "          await google.colab.kernel.invokeFunction('convertToInteractive',\n",
              "                                                    [key], {});\n",
              "        if (!dataTable) return;\n",
              "\n",
              "        const docLinkHtml = 'Like what you see? Visit the ' +\n",
              "          '<a target=\"_blank\" href=https://colab.research.google.com/notebooks/data_table.ipynb>data table notebook</a>'\n",
              "          + ' to learn more about interactive tables.';\n",
              "        element.innerHTML = '';\n",
              "        dataTable['output_type'] = 'display_data';\n",
              "        await google.colab.output.renderOutput(dataTable, element);\n",
              "        const docLink = document.createElement('div');\n",
              "        docLink.innerHTML = docLinkHtml;\n",
              "        element.appendChild(docLink);\n",
              "      }\n",
              "    </script>\n",
              "  </div>\n",
              "\n",
              "\n",
              "<div id=\"df-0e170055-aa9e-4cd1-b2c4-3043233b11a0\">\n",
              "  <button class=\"colab-df-quickchart\" onclick=\"quickchart('df-0e170055-aa9e-4cd1-b2c4-3043233b11a0')\"\n",
              "            title=\"Suggest charts\"\n",
              "            style=\"display:none;\">\n",
              "\n",
              "<svg xmlns=\"http://www.w3.org/2000/svg\" height=\"24px\"viewBox=\"0 0 24 24\"\n",
              "     width=\"24px\">\n",
              "    <g>\n",
              "        <path d=\"M19 3H5c-1.1 0-2 .9-2 2v14c0 1.1.9 2 2 2h14c1.1 0 2-.9 2-2V5c0-1.1-.9-2-2-2zM9 17H7v-7h2v7zm4 0h-2V7h2v10zm4 0h-2v-4h2v4z\"/>\n",
              "    </g>\n",
              "</svg>\n",
              "  </button>\n",
              "\n",
              "<style>\n",
              "  .colab-df-quickchart {\n",
              "      --bg-color: #E8F0FE;\n",
              "      --fill-color: #1967D2;\n",
              "      --hover-bg-color: #E2EBFA;\n",
              "      --hover-fill-color: #174EA6;\n",
              "      --disabled-fill-color: #AAA;\n",
              "      --disabled-bg-color: #DDD;\n",
              "  }\n",
              "\n",
              "  [theme=dark] .colab-df-quickchart {\n",
              "      --bg-color: #3B4455;\n",
              "      --fill-color: #D2E3FC;\n",
              "      --hover-bg-color: #434B5C;\n",
              "      --hover-fill-color: #FFFFFF;\n",
              "      --disabled-bg-color: #3B4455;\n",
              "      --disabled-fill-color: #666;\n",
              "  }\n",
              "\n",
              "  .colab-df-quickchart {\n",
              "    background-color: var(--bg-color);\n",
              "    border: none;\n",
              "    border-radius: 50%;\n",
              "    cursor: pointer;\n",
              "    display: none;\n",
              "    fill: var(--fill-color);\n",
              "    height: 32px;\n",
              "    padding: 0;\n",
              "    width: 32px;\n",
              "  }\n",
              "\n",
              "  .colab-df-quickchart:hover {\n",
              "    background-color: var(--hover-bg-color);\n",
              "    box-shadow: 0 1px 2px rgba(60, 64, 67, 0.3), 0 1px 3px 1px rgba(60, 64, 67, 0.15);\n",
              "    fill: var(--button-hover-fill-color);\n",
              "  }\n",
              "\n",
              "  .colab-df-quickchart-complete:disabled,\n",
              "  .colab-df-quickchart-complete:disabled:hover {\n",
              "    background-color: var(--disabled-bg-color);\n",
              "    fill: var(--disabled-fill-color);\n",
              "    box-shadow: none;\n",
              "  }\n",
              "\n",
              "  .colab-df-spinner {\n",
              "    border: 2px solid var(--fill-color);\n",
              "    border-color: transparent;\n",
              "    border-bottom-color: var(--fill-color);\n",
              "    animation:\n",
              "      spin 1s steps(1) infinite;\n",
              "  }\n",
              "\n",
              "  @keyframes spin {\n",
              "    0% {\n",
              "      border-color: transparent;\n",
              "      border-bottom-color: var(--fill-color);\n",
              "      border-left-color: var(--fill-color);\n",
              "    }\n",
              "    20% {\n",
              "      border-color: transparent;\n",
              "      border-left-color: var(--fill-color);\n",
              "      border-top-color: var(--fill-color);\n",
              "    }\n",
              "    30% {\n",
              "      border-color: transparent;\n",
              "      border-left-color: var(--fill-color);\n",
              "      border-top-color: var(--fill-color);\n",
              "      border-right-color: var(--fill-color);\n",
              "    }\n",
              "    40% {\n",
              "      border-color: transparent;\n",
              "      border-right-color: var(--fill-color);\n",
              "      border-top-color: var(--fill-color);\n",
              "    }\n",
              "    60% {\n",
              "      border-color: transparent;\n",
              "      border-right-color: var(--fill-color);\n",
              "    }\n",
              "    80% {\n",
              "      border-color: transparent;\n",
              "      border-right-color: var(--fill-color);\n",
              "      border-bottom-color: var(--fill-color);\n",
              "    }\n",
              "    90% {\n",
              "      border-color: transparent;\n",
              "      border-bottom-color: var(--fill-color);\n",
              "    }\n",
              "  }\n",
              "</style>\n",
              "\n",
              "  <script>\n",
              "    async function quickchart(key) {\n",
              "      const quickchartButtonEl =\n",
              "        document.querySelector('#' + key + ' button');\n",
              "      quickchartButtonEl.disabled = true;  // To prevent multiple clicks.\n",
              "      quickchartButtonEl.classList.add('colab-df-spinner');\n",
              "      try {\n",
              "        const charts = await google.colab.kernel.invokeFunction(\n",
              "            'suggestCharts', [key], {});\n",
              "      } catch (error) {\n",
              "        console.error('Error during call to suggestCharts:', error);\n",
              "      }\n",
              "      quickchartButtonEl.classList.remove('colab-df-spinner');\n",
              "      quickchartButtonEl.classList.add('colab-df-quickchart-complete');\n",
              "    }\n",
              "    (() => {\n",
              "      let quickchartButtonEl =\n",
              "        document.querySelector('#df-0e170055-aa9e-4cd1-b2c4-3043233b11a0 button');\n",
              "      quickchartButtonEl.style.display =\n",
              "        google.colab.kernel.accessAllowed ? 'block' : 'none';\n",
              "    })();\n",
              "  </script>\n",
              "</div>\n",
              "\n",
              "    </div>\n",
              "  </div>\n"
            ],
            "application/vnd.google.colaboratory.intrinsic+json": {
              "type": "dataframe",
              "variable_name": "df_preprocessed",
              "summary": "{\n  \"name\": \"df_preprocessed\",\n  \"rows\": 2386,\n  \"fields\": [\n    {\n      \"column\": \"T\\u00edtulo\",\n      \"properties\": {\n        \"dtype\": \"string\",\n        \"num_unique_values\": 2384,\n        \"samples\": [\n          \"Un crimen en el que la impunidad es de 90 %\",\n          \"No se han encontrado indicios sobreviolaci\\u00f3n de soberan\\u00eda venezolana\",\n          \"Avianca demanda a socio minoritario que se opone a alianza con United\"\n        ],\n        \"semantic_type\": \"\",\n        \"description\": \"\"\n      }\n    },\n    {\n      \"column\": \"info\",\n      \"properties\": {\n        \"dtype\": \"string\",\n        \"num_unique_values\": 2384,\n        \"samples\": [\n          \"Entrevista con\\u00a0Roc\\u00edo Mart\\u00ednez Montoya, investigadora del informe \\u2018La guerra inscrita en el cuerpo\\u2019.\",\n          \"Ministro de Defensa afirm\\u00f3 que por el momento no tiene razones para informar del hecho a Canciller\",\n          \"La aerol\\u00ednea interpuso dos recursos contra la familia Kriete ante una corte de Nueva York.\"\n        ],\n        \"semantic_type\": \"\",\n        \"description\": \"\"\n      }\n    },\n    {\n      \"column\": \"contenido\",\n      \"properties\": {\n        \"dtype\": \"string\",\n        \"num_unique_values\": 2385,\n        \"samples\": [\n          \"Helena, una campesina del sur del Tolima, uno de los enclaves hist\\u00f3ricos de las Farc, logr\\u00f3 salvar a sus hijos de 10, 14 y 15 a\\u00f1os de ser reclutados por esa guerrilla. Eso ocurri\\u00f3 hace siete a\\u00f1os, en el 2010. Guerrilleros del frente 21 le mandaron raz\\u00f3n de que preparara a los muchachos porque \\u201ciban a pasar por ellos\\u201d, y ese mismo d\\u00eda ella decidi\\u00f3 sacarlos de la vereda escondidos, entre guacales, en un carro de venta de bananos. \\u201cAll\\u00e1, en cada vereda, en cada finca, a usted le dicen: \\u2018Tiene dos o tres hijos, y a medida que vayan creciendo, de los 10 a\\u00f1os en adelante, se los van llevando\\u2019. Y si usted habla o algo, es peor: lo matan. La ley es que todo el mundo va a engrosar la fila de la guerrilla\\u201d, cont\\u00f3 la mujer. Pero la valent\\u00eda para defender a sus hijos termin\\u00f3 por convertirla en v\\u00edctima de violencia sexual. \\u201cLes dec\\u00eda que yo por mis hijos me hago matar. Fueron a mi casa a las 9 de la noche. Me ataron las manos atr\\u00e1s. Me llevaron al \\u2018Rinc\\u00f3n de la muerte\\u2019 (en inmediaciones de la quebrada La Catalina, donde los grupos armados asesinaron a varias personas)\\u201d. All\\u00e1 estaba \\u2018Agust\\u00edn\\u2019, el jefe del frente 21, que muri\\u00f3 en combate con el Ej\\u00e9rcito en el 2012: \\u201c\\u00c9l me viol\\u00f3 y les dijo a los otros: \\u2018Cada uno haga lo que quiera con ella, tenemos cinco horas para hacer todo lo que quieran\\u2019 \\u201d. Testimonios como el de Helena fueron recogidos por el Centro Nacional de Memoria Hist\\u00f3rica en el informe \\u2018La guerra inscrita en el cuerpo\\u2019, revelado esta semana y que reconstruye c\\u00f3mo todos los grupos armados y muchos agentes del Estado utilizaron la violencia sexual en medio del conflicto armado . La investigaci\\u00f3n tiene casos desde 1959 y su macabro balance \\u2013que claramente es inferior a la realidad, porque muchas v\\u00edctimas temen denunciar incluso hoy\\u2013 es que al menos 15.000 ni\\u00f1as y mujeres, pero tambi\\u00e9n muchos ni\\u00f1os y adolescentes, fueron violados por los actores de la guerra. La mayor\\u00eda de los casos no tiene un responsable identificado. Pero el documento, de 550 p\\u00e1ginas, encontr\\u00f3 que los grupos paramilitares fueron se\\u00f1alados por 4.837 v\\u00edctimas; las guerrillas de las Farc, el Eln y el Erg, por 4.722, y los agentes del Estado, por al menos 206. El Centro Nacional de Memoria Hist\\u00f3rica acudi\\u00f3 a expedientes judiciales y a testimonios directos para retratar las pr\\u00e1cticas de sometimiento. Muchas de ellas han sido documentadas y ampliamente recogidas en la \\u00faltima d\\u00e9cada, gracias a las confesiones de paramilitares desmovilizados ante la jurisdicci\\u00f3n de Justicia y Paz y, sobre todo, a la valent\\u00eda de centenares de v\\u00edctimas que se atrevieron a romper el miedo y la impunidad. En cuanto a las guerrillas, la violencia sexual fue ejercida tanto contra las comunidades de sus zonas de influencia como contra las ni\\u00f1as y adolescentes reclutadas. La plena confesi\\u00f3n sobre esas pr\\u00e1cticas ser\\u00e1 una de las pruebas de fuego sobre el real compromiso de los desmovilizados ante la nueva Jurisdicci\\u00f3n Especial para la Paz (JEP), pues la verdad y la reparaci\\u00f3n a las v\\u00edctimas son parte de las condiciones para acceder a penas alternativas. Esta semana, de hecho, caus\\u00f3 revuelo el se\\u00f1alamiento directo contra \\u2018Ra\\u00fal Reyes\\u2019, uno de los \\u00edconos de las Farc, quien, como lo revel\\u00f3 EL TIEMPO, fue acusado por mujeres de su escolta \\u2013que fueron elegidas por \\u00e9l cuando contaban apenas con 10 u 11 a\\u00f1os\\u2013 de abusar sistem\\u00e1ticamente de ellas. En sus estatutos, las Farc castigan incluso con la muerte las violaciones y otro tipo de abusos sexuales. Lo que las v\\u00edctimas denuncian es que si bien esto pod\\u00eda regir para los mandos medios o los combatientes rasos, rara vez aplicaba para los jefes de frente y menos para hombres tan poderosos en la organizaci\\u00f3n como \\u2018Reyes\\u2019, cuya muerte en un bombardeo de la Fuerza A\\u00e9rea marc\\u00f3 en el 2008 el declive militar de las Farc. \\u201cA \\u00e9l le gustaba cogerlo a uno para escolta, siempre ten\\u00eda muchachas as\\u00ed y despu\\u00e9s abusaba de uno, a \\u00e9l le gustaba abusar de las muchachas que llevaba\\u201d, dijo Gina, quien fue su guardaespaldas durante 16 a\\u00f1os. El informe se\\u00f1ala que algunos frentes tambi\\u00e9n usaron la violaci\\u00f3n para castigar a quienes se negaban a pagar las vacunas. En el 2006, Yuliana, de 40 a\\u00f1os y con nueve meses de embarazo, fue atacada por guerrilleros del frente 32 en el Huila. La violaron en frente de su esposo. \\u201cLlegaron hombres comandados por \\u2018Joaqu\\u00edn\\u2019 y yo les dije que qu\\u00e9 pasaba, si ellos sab\\u00edan que nosotros les pag\\u00e1bamos, que nosotros \\u00e9ramos gente de bien, que me dieran una explicaci\\u00f3n (...). \\u00c9l (Joaqu\\u00edn) y otros dos abusaron de m\\u00ed. Mi esposo lloraba de ver lo que me estaban haciendo\\u201d, narr\\u00f3 la mujer. \\u201cA las mujeres les recuerdan la cuota que deben sus parejas con violencia sexual, o les cobran parte de la cuota o de los intereses de esta forma. Donde hay extorsiones a los comerciantes, suele existir violencia sexual hacia sus esposas para que recuerden que no deben dejar de pagar la cuota\\u201d, dice el informe. En Meta y Buenaventura se encontr\\u00f3 que las Farc \\u201cutilizaron t\\u00e9cnicas de control moral sobre las mujeres y las comunidades con el prop\\u00f3sito de regular la vida cotidiana de la poblaci\\u00f3n y establecer un control de g\\u00e9nero\\u201d. Tambi\\u00e9n buscaban \\u201cproclamarse como la \\u00fanica autoridad capaz de hacer uso de la fuerza en el territorio\\u201d. \\u201cEllos ten\\u00edan sus leyes y castigaban, y a quienes no cumpl\\u00edan sus leyes los mataban\\u201d, dijo una mujer durante un taller de reconstrucci\\u00f3n de memoria. \\u201cParamilitares y guerrillas establecieron, cada uno, sus propias pautas de comportamiento, nociones frente al delito; regularon la vida afectiva, los ritmos y espacios cotidianos, la vida social, la sexualidad, los espacios de divertimento y las formas de llevar y conducir los cuerpos\\u201d, se\\u00f1alan los investigadores del Centro Nacional de Memoria Hist\\u00f3rica. En el 2009, en Nari\\u00f1o, una lesbiana fue v\\u00edctima de guerrilleros porque decidi\\u00f3 vivir abiertamente con su pareja. Una noche su casa fue asaltada. A las dos las violaron y a su compa\\u00f1era la desaparecieron. \\u201cLos paramilitares y las guerrillas tuvieron el af\\u00e1n de \\u2018limpiar\\u2019 de sus territorios a aquellos cuerpos que representaban contaminaci\\u00f3n, desviaci\\u00f3n, inmoralidad y enfermedades\\u201d, advierte el documento. Este resalta tambi\\u00e9n los casos de ni\\u00f1as que fueron reclutadas y, despu\\u00e9s, v\\u00edctimas de abuso. Rosa, que fue guerrillera en el Meta, cont\\u00f3 que fue reclutada por las Farc junto con sus dos primas, de 9 y 10 a\\u00f1os, en los a\\u00f1os 80. \\u201cHac\\u00edan dos filas, las que eran v\\u00edrgenes y las que no. Los que comandaban ten\\u00edan relaciones con las ni\\u00f1as v\\u00edrgenes. Y ya los dem\\u00e1s compa\\u00f1eros eran los que abusaban de otras muchachas. Pero siempre las v\\u00edrgenes pasaban por la cabeza mayor\\u201d, afirm\\u00f3. \\u201cLa relaci\\u00f3n entre reclutamiento de ni\\u00f1as y adolescentes y violencia sexual en el interior de las Farc fue com\\u00fan. Se repitieron y recrudecieron en las filas discursos que situaban los cuerpos de las ni\\u00f1as como cuerpos-premio para los altos comandantes\\u201d, se\\u00f1ala el informe. Pero esa pr\\u00e1ctica se daba en todos los actores armados. Neyit, excombatiente de la guerrilla del Eln, fue reclutada a los 15 a\\u00f1os y a los dos d\\u00edas la violaron: \\u201cReclutaban y hac\\u00edan lo que quisieran con las muchachas. El que me reclut\\u00f3 lleg\\u00f3 a mi habitaci\\u00f3n y me quiso besar, y no lo dej\\u00e9. Luego vino con dos muchachos, uno me agarr\\u00f3 las manos y otro los pies, y \\u00e9l me iba quitando la ropa\\u201d. Para evitar ser atacada por otros, la joven termin\\u00f3 como pareja del violador, que ten\\u00eda mando en la tropa. Yurani, quien form\\u00f3 parte de las Farc en el suroriente del pa\\u00eds, cont\\u00f3 que tuvo tres abortos forzados. En las tres ocasiones quiso tener el beb\\u00e9 ocultando su estado, pero siempre fue descubierta y sancionada. La \\u00faltima vez ten\\u00eda ocho meses de embarazo. \\u201cCuando eso todav\\u00eda estaba vivo el \\u2018Mono Jojoy\\u2019. \\u00c9l dijo: \\u2018H\\u00e1gale el aborto\\u2019, y al otro d\\u00eda madrugaron a meterme la pasta esa para hacerme un legrado\\u201d, narr\\u00f3. Con estos testimonios, el informe rese\\u00f1a que las decisiones sobre los cuerpos de las mujeres estaban en poder de los comandantes. En las Farc y en los otros grupos, dice el Centro Nacional de Memoria Hist\\u00f3rica, las combatientes fueron obligadas a pr\\u00e1cticas de anticoncepci\\u00f3n, aborto y esterilizaci\\u00f3n forzada. \\u201cDicha renuncia obligada a la maternidad se configura como un reflejo m\\u00e1s del ejercicio de entrenamiento y acondicionamiento del cuerpo femenino a la guerra: un cuerpo masculinizado \\u2013se\\u00f1ala el documento\\u2013. Las ni\\u00f1as y mujeres son sujetas a controles sanitarios constantes, verificaci\\u00f3n y vigilancia sobre los ciclos menstruales y vigilancia sobre las relaciones sexuales que establecen las mujeres y con qui\\u00e9nes lo hacen\\u201d. Algunas de sus compa\\u00f1eras, seg\\u00fan Yurani, murieron despu\\u00e9s de practicarles abortos forzados. \\u201cEn el Yar\\u00ed hubo una muchacha que se llamaba Dayana y le dec\\u00edan la \\u2018Charuza\\u2019. A ella le practicaron el aborto y a los dos d\\u00edas muri\\u00f3 desangrada\\u201d, cont\\u00f3. Estos casos, dice el informe, se suman a las 21 muertes en similares condiciones que document\\u00f3 Justicia y Paz contra el Ej\\u00e9rcito Revolucionario Guevarista (Erg). El desgarrador informe advierte tambi\\u00e9n sobre los abusos perpetrados por el bando contrario. Un exparamilitar de las Autodefensas Campesinas del Casanare cont\\u00f3 que cuando las guerrilleras se dejaban \\u201ccoger vivas\\u201d eran v\\u00edctimas de torturas y violencia sexual. \\u201cS\\u00ed, era guerrillera, pero no ten\\u00edan derecho de violarla tantos manes, pasaron como unos 25 por encima de ella y la mataron a cuchillo\\u201d, confes\\u00f3. Magaly, exintegrante de las Farc, cont\\u00f3 que su prima, tambi\\u00e9n de la guerrilla, fue violada por el Ej\\u00e9rcito en un combate en el 2004: \\u201cLe echaron \\u00e1cido en la cara despu\\u00e9s de violada; yo estaba escondida y vi todo, y me daban rabia las cosas que le dec\\u00edan. Ellos le dec\\u00edan que por ser el Ej\\u00e9rcito pod\\u00edan violar y asesinar como si nada\\u201d. Como ya se conoce, los paramilitares utilizaron la violencia sexual como m\\u00e9todo de terror en las zonas a las que iban llegando. Pero no solo ocurr\\u00eda en la etapa de incursi\\u00f3n. Ya establecidos en las zonas, numerosos jefes se convirtieron en depredadores sexuales contra las comunidades que estaban en sus \\u00e1reas de influencia. El caso m\\u00e1s conocido es el de Hern\\u00e1n Giraldo, capo del cartel de Medell\\u00edn que termin\\u00f3 como jefe paramilitar de Magdalena. \\u201cEl se\\u00f1or (Hern\\u00e1n Giraldo) solo violaba ni\\u00f1as menores de 15 a\\u00f1os. Para \\u00e9l, y lo dijo p\\u00fablicamente en la audiencia, para \\u00e9l una mujer de 20 a\\u00f1os era una anciana. Las ten\\u00eda una semana y luego las devolv\\u00eda\\u201d, cont\\u00f3 una l\\u00edder de la zona rural de Santa Marta. Incluso, denunci\\u00f3 que estando preso (antes de ser extraditado a Estados Unidos) le llevaban menores de edad. En las goteras de Santa Marta, los paramilitares ten\\u00edan la pr\\u00e1ctica de quitar la luz en las noches para perpetrar sus ataques sexuales. Irrump\\u00edan en las casas y forzaban a familias enteras. Tambi\\u00e9n se documentaron casos de esterilizaci\\u00f3n forzada practicada en hospitales p\\u00fablicos. \\u201cNos mandaban a \\u2018capar\\u2019 para que no tuvi\\u00e9ramos hijos, y esto lo hicieron en el hospital. Era algo tan inhumano, llegaban con lista en mano\\u201d, dijo una de las mujeres afectadas. En Valle y Santander se documentaron casos de paramilitares que buscaban a sus v\\u00edctimas entre las ni\\u00f1as de las escuelas, como lo se\\u00f1al\\u00f3 la hist\\u00f3rica sentencia contra el bloque Central Bol\\u00edvar por casi 3.000 cr\\u00edmenes, entre ellos 1.013 de violencia sexual. Como ocurri\\u00f3 con Helena, a Esperanza la violaron por evitar que uno de sus peque\\u00f1os hijos fuera utilizado por paramilitares del bloque Cacique Nutibara para mover armas. Ocurri\\u00f3 en diciembre del 2002 en Medell\\u00edn. Ella decidi\\u00f3 mandar a los ni\\u00f1os a casa de su hermana, metidos en un armario del trasteo de una vecina. Cuando los \\u2018paras\\u2019 fueron a buscar al muchacho, la reacci\\u00f3n fue salvaje. \\u201cEntraron cuatro de ellos, cerraron la puerta, me tiraron a la cama, me amarraron de pies y manos, me da\\u00f1aron mi pijama y abusaron de m\\u00ed toda la noche\\u201d, relat\\u00f3 la mujer. El Centro de Memoria Hist\\u00f3rica recomienda a los gobiernos departamentales y municipales, a la academia y a las organizaciones sociales realizar investigaciones que contribuyan a la comprensi\\u00f3n de las variaciones locales de la violencia sexual, con el fin de conocer las condiciones que, en cada caso, han permitido su emergencia. Mary Luz L\\u00f3pez Mi mayor motivaci\\u00f3n es estar viva, respirar, saber que no me mataron, que mientras yo est\\u00e9 viva las letras hablar\\u00e1n por m\\u00ed y por otras mujeres. E scribo cuentos y poes\\u00eda para sacar el dolor. La escritura pasa por el coraz\\u00f3n, por el cuerpo y remueve muchas cosas. Uno tiene un talento escondido y el m\\u00edo es la escritura; eso me ha ayudado bastante. Yo creo que lo que lo mueve a uno es el amor, esa fortaleza y esa resiliencia que hay en uno para no quedarse postrado. Por eso hoy les digo a las mujeres que dejen el miedo, el miedo no viene detr\\u00e1s de uno, no callen. Sandra Gonz\\u00e1lez Mi principal motivaci\\u00f3n para seguir viva y seguir adelante, son mis hijos y mi familia. Cuando uno empieza a hablar, crea una conciencia con las otras mujeres que nunca han hablado, ellas se identifican con mi historia y dicen, a m\\u00ed tambi\\u00e9n me pas\\u00f3. Yo soy la voz de las mujeres que no tienen voz, soy la voz de las mujeres que han muerto. Ojal\\u00e1 que todo el mundo se entere de que esto pasa en Colombia y ojal\\u00e1 que el Estado lo reconozca. Ilda Osorio Mi prioridad y motivaci\\u00f3n son el resto de mujeres que han sufrido la misma violencia que yo. Porque s\\u00e9 lo que se siente, s\\u00e9 lo que duele, y s\\u00e9 la vida tan sucia que uno siente que lleva. El mensaje para las mujeres v\\u00edctimas es que escuchen la voz de esta experiencia que sufri\\u00f3 en carne propia la guerra en su propio cuerpo. S i 10 veces les cierran la puerta, hay que tocarla 50 veces, hasta que la abran. Para que los due\\u00f1os de esta guerra tambi\\u00e9n sean due\\u00f1os de esta verg\\u00fcenza, de esta culpa que nosotras no tenemos. Tulia Lozano En medio de una guerra nuestros cuerpos han sido botines de guerra. Nosotras no somos las culpables. No tenemos por qu\\u00e9 callar algo que nunca debi\\u00f3 haber sucedido. Hay que ir superando, ir saliendo, ir luchando por nuestros derechos, nosotras fuimos las m\\u00e1s damnificadas en esta guerra y por eso tenemos razones para seguir paradas luchando, as\\u00ed nos amenacen por hacerlo. JUSTICIA justicia@eltiempo.com @JusticiaET Miedo 11:19 p.m. Ejercite su mente en la cuarentena con este test de l\\u00f3gica matem\\u00e1tica Ponga a prueba esas clases de matem\\u00e1ticas del colegio y de la vida par ... Manizales 10:00 p.m. Ya se venden medicamentos de cannabis con f\\u00f3rmula m\\u00e9dica En farmacias especializadas de Colombia es posible acceder a medicamen ... Manizales 10:00 p.m. El gu\\u00eda de la salud mental del pueblo con m\\u00e1s casos de bipolaridad Coronavirus en Colombia 09:31 p.m. Una cabina de desinfecci\\u00f3n manual para Barranquilla Valle del Cauca 07:50 p.m. Se han recogido cerca de 132 mil mercados en 'Donat\\u00f3n Valle Solidario'\",\n          \"Por el homicidio de cuatro mineros en Remedios, Antioquia, y por financiar grupos armados ilegales en el noreste de ese departamento, un juez sentenci\\u00f3 a 55 a\\u00f1os de c\\u00e1rcel a Jairo Hugo Escobar Cata\\u00f1o, conocido como el Zar del Oro. El 20 de diciembre de 2011 los mineros Johan Esteban Pareja Avenda\\u00f1o, Jaime Nicol\\u00e1s Jim\\u00e9nez, y los hermanos Yeison Andr\\u00e9s y Wilmar Alberto Taborda Jim\\u00e9nez, a quienes se les conoc\\u00eda como los serafines, fueron citados a una supuesta reuni\\u00f3n en la finca La T\\u00eda ubicada en la vereda La Roca, donde fueron asesinados por una estructura criminal. La Fiscal\\u00eda estableci\\u00f3 adem\\u00e1s que por el crimen se pagaron 800 millones de pesos. De acuerdo con las investigaciones, el homicidio estar\\u00eda relacionado con un atentado del que Escobar sali\\u00f3 ileso en el el 2011, y con la negativa de los mineros de vender un yacimiento aur\\u00edfero del que eran copropietarios. Los investigadores determinaron tambi\\u00e9n que Escobar Cata\\u00f1o aportaba considerables sumas de dinero para el pago de n\\u00f3mina de una organizaci\\u00f3n delincuencial conocida como \\u2018Seguridad H\\u00e9roes del Nordeste\\u2019. Escobar no es el \\u00fanico \\u2018zar\\u2019 del metal dorado . John \\u00daber Hern\\u00e1ndez , cabeza de la firma G\\u00f3ldex, lleg\\u00f3 a ser uno de los principales fundidores del pa\\u00eds, por lo que tambi\\u00e9n se gan\\u00f3 ese apelativo. Es se\\u00f1alado de haber lavado 2,3 billones de pesos a trav\\u00e9s de la firma.\\u00a0A pesar de la gravedad de los cargos, inexplicablemente qued\\u00f3 libre por vencimiento de t\\u00e9rminos. JUSTICIA Miedo 11:19 p.m. Ejercite su mente en la cuarentena con este test de l\\u00f3gica matem\\u00e1tica Ponga a prueba esas clases de matem\\u00e1ticas del colegio y de la vida par ... Manizales 10:00 p.m. Ya se venden medicamentos de cannabis con f\\u00f3rmula m\\u00e9dica En farmacias especializadas de Colombia es posible acceder a medicamen ... Manizales 10:00 p.m. El gu\\u00eda de la salud mental del pueblo con m\\u00e1s casos de bipolaridad Coronavirus en Colombia 09:31 p.m. Una cabina de desinfecci\\u00f3n manual para Barranquilla Valle del Cauca 07:50 p.m. Se han recogido cerca de 132 mil mercados en 'Donat\\u00f3n Valle Solidario'\",\n          \"Avianca  Brasil, la cuarta mayor compa\\u00f1\\u00eda a\\u00e9rea del pa\\u00eds y que en diciembre se acogi\\u00f3 a la ley de bancarrota, dejar\\u00e1 de volar 21 rutas en abril y cerrar\\u00e1 tres bases de operaciones, seg\\u00fan inform\\u00f3 este martes la empresa. En un comunicado, Avianca Brasil, nombre comercial bajo el cual opera la empresa Ocean Air,  indic\\u00f3 que la decisi\\u00f3n forma parte del \\\"plan de recuperaci\\u00f3n judicial\\\" con el que est\\u00e1 \\\"readecuando progresivamente\\\" sus operaciones para reducir el tama\\u00f1o de la flota y alcanzar el \\\"objetivo\\\" de operar 23 rutas, de las 53 que tiene en la actualidad, solo con 26 aviones. Las tres bases operacionales que cerrar\\u00e1 definitivamente la compa\\u00f1\\u00eda son las del aeropuerto internacional de Galeao, en R\\u00edo de Janeiro; la de Petrolina (Pernambuco, noreste) y la de Belem, capital del amaz\\u00f3nico estado de Par\\u00e1. Al dejar de operar 21 rutas, las 32 restantes, calificadas como \\\"estrat\\u00e9gicas\\\", se mantendr\\u00e1n \\\"normalmente\\\" y \\\"dentro del cronograma previsto\\\". De las 21 rutas que ser\\u00e1n canceladas, dos tienen destino internacional con vuelos a Bogot\\u00e1 partiendo desde Fortaleza y Salvador, ambas en el noreste del pa\\u00eds. Con la cancelaci\\u00f3n de las rutas del Galeao, la ciudad m\\u00e1s afectada con la decisi\\u00f3n fue la capital Brasilia, que perder\\u00e1 el vuelo con el mayor aeropuerto de R\\u00edo de Janeiro y su conexi\\u00f3n directa con Cuiab\\u00e1 (oeste) y Fortaleza, Salvador y Macei\\u00f3 (noreste). La aerol\\u00ednea brasile\\u00f1a se acogi\\u00f3 en diciembre pasado a la ley de quiebras para garantizar la continuidad de sus operaciones y la sustentabilidad de su negocio, as\\u00ed como para reestructurar una elevada deuda que le acarre\\u00f3 varias demandas en los tribunales. El pasado 11 de marzo, la aerol\\u00ednea brasile\\u00f1a de bajo coste Azul, la tercera mayor compa\\u00f1\\u00eda a\\u00e9rea del pa\\u00eds, anunci\\u00f3 que firm\\u00f3 un acuerdo de intenci\\u00f3n por 105 millones de d\\u00f3lares para adquirir parte de los activos de  Avianca  Brasil. Entre esos activos est\\u00e1n el certificado de operador a\\u00e9reo de Avianca  Brasil, setenta pares de \\\"slots\\\" -como se conoce a los derechos de despegar y aterrizar en aeropuertos congestionados- y aproximadamente treinta aeronaves Airbus A320. Avianca  Brasil opera vuelos regulares desde el 2002 y en enero pasado anunci\\u00f3 el recorte de sus vuelos internacionales directos desde Guarulhos, que opera para Sao Paulo, a las ciudades de Santiago de Chile, Nueva York y Miami. OceanAir es una compa\\u00f1\\u00eda independiente de Avianca Holdings S.A. y utiliza comercialmente el nombre de \\\"Avianca  Brasil\\\", en virtud de un acuerdo de licencia de uso de nombre que celebr\\u00f3 con Aerov\\u00edas del Continente Americano S.A, con sede en Colombia. EFE Miedo 11:19 p.m. Ejercite su mente en la cuarentena con este test de l\\u00f3gica matem\\u00e1tica Ponga a prueba esas clases de matem\\u00e1ticas del colegio y de la vida par ... Manizales 10:00 p.m. Ya se venden medicamentos de cannabis con f\\u00f3rmula m\\u00e9dica En farmacias especializadas de Colombia es posible acceder a medicamen ... Manizales 10:00 p.m. El gu\\u00eda de la salud mental del pueblo con m\\u00e1s casos de bipolaridad Coronavirus en Colombia 09:31 p.m. Una cabina de desinfecci\\u00f3n manual para Barranquilla Valle del Cauca 07:50 p.m. Se han recogido cerca de 132 mil mercados en 'Donat\\u00f3n Valle Solidario'\"\n        ],\n        \"semantic_type\": \"\",\n        \"description\": \"\"\n      }\n    },\n    {\n      \"column\": \"Etiqueta\",\n      \"properties\": {\n        \"dtype\": \"category\",\n        \"num_unique_values\": 7,\n        \"samples\": [\n          \"cultura\",\n          \"deportes\",\n          \"salud\"\n        ],\n        \"semantic_type\": \"\",\n        \"description\": \"\"\n      }\n    },\n    {\n      \"column\": \"unified_text\",\n      \"properties\": {\n        \"dtype\": \"string\",\n        \"num_unique_values\": 2385,\n        \"samples\": [\n          \"T\\u00edtulo: Informe devela 57 a\\u00f1os de violencia sexual en la guerra. Resumen: El documento 'La guerra inscrita en el cuerpo\\u2019 muestra la magnitud de ese crimen en el pa\\u00eds.. Contenido: Helena, una campesina del sur del Tolima, uno de los enclaves hist\\u00f3ricos de las Farc, logr\\u00f3 salvar a sus hijos de 10, 14 y 15 a\\u00f1os de ser reclutados por esa guerrilla. Eso ocurri\\u00f3 hace siete a\\u00f1os, en el 2010. Guerrilleros del frente 21 le mandaron raz\\u00f3n de que preparara a los muchachos porque \\u201ciban a pasar por ellos\\u201d, y ese mismo d\\u00eda ella decidi\\u00f3 sacarlos de la vereda escondidos, entre guacales, en un carro de venta de bananos. \\u201cAll\\u00e1, en cada vereda, en cada finca, a usted le dicen: \\u2018Tiene dos o tres hijos, y a medida que vayan creciendo, de los 10 a\\u00f1os en adelante, se los van llevando\\u2019. Y si usted habla o algo, es peor: lo matan. La ley es que todo el mundo va a engrosar la fila de la guerrilla\\u201d, cont\\u00f3 la mujer. Pero la valent\\u00eda para defender a sus hijos termin\\u00f3 por convertirla en v\\u00edctima de violencia sexual. \\u201cLes dec\\u00eda que yo por mis hijos me hago matar. Fueron a mi casa a las 9 de la noche. Me ataron las manos atr\\u00e1s. Me llevaron al \\u2018Rinc\\u00f3n de la muerte\\u2019 (en inmediaciones de la quebrada La Catalina, donde los grupos armados asesinaron a varias personas)\\u201d. All\\u00e1 estaba \\u2018Agust\\u00edn\\u2019, el jefe del frente 21, que muri\\u00f3 en combate con el Ej\\u00e9rcito en el 2012: \\u201c\\u00c9l me viol\\u00f3 y les dijo a los otros: \\u2018Cada uno haga lo que quiera con ella, tenemos cinco horas para hacer todo lo que quieran\\u2019 \\u201d. Testimonios como el de Helena fueron recogidos por el Centro Nacional de Memoria Hist\\u00f3rica en el informe \\u2018La guerra inscrita en el cuerpo\\u2019, revelado esta semana y que reconstruye c\\u00f3mo todos los grupos armados y muchos agentes del Estado utilizaron la violencia sexual en medio del conflicto armado . La investigaci\\u00f3n tiene casos desde 1959 y su macabro balance \\u2013que claramente es inferior a la realidad, porque muchas v\\u00edctimas temen denunciar incluso hoy\\u2013 es que al menos 15.000 ni\\u00f1as y mujeres, pero tambi\\u00e9n muchos ni\\u00f1os y adolescentes, fueron violados por los actores de la guerra. La mayor\\u00eda de los casos no tiene un responsable identificado. Pero el documento, de 550 p\\u00e1ginas, encontr\\u00f3 que los grupos paramilitares fueron se\\u00f1alados por 4.837 v\\u00edctimas; las guerrillas de las Farc, el Eln y el Erg, por 4.722, y los agentes del Estado, por al menos 206. El Centro Nacional de Memoria Hist\\u00f3rica acudi\\u00f3 a expedientes judiciales y a testimonios directos para retratar las pr\\u00e1cticas de sometimiento. Muchas de ellas han sido documentadas y ampliamente recogidas en la \\u00faltima d\\u00e9cada, gracias a las confesiones de paramilitares desmovilizados ante la jurisdicci\\u00f3n de Justicia y Paz y, sobre todo, a la valent\\u00eda de centenares de v\\u00edctimas que se atrevieron a romper el miedo y la impunidad. En cuanto a las guerrillas, la violencia sexual fue ejercida tanto contra las comunidades de sus zonas de influencia como contra las ni\\u00f1as y adolescentes reclutadas. La plena confesi\\u00f3n sobre esas pr\\u00e1cticas ser\\u00e1 una de las pruebas de fuego sobre el real compromiso de los desmovilizados ante la nueva Jurisdicci\\u00f3n Especial para la Paz (JEP), pues la verdad y la reparaci\\u00f3n a las v\\u00edctimas son parte de las condiciones para acceder a penas alternativas. Esta semana, de hecho, caus\\u00f3 revuelo el se\\u00f1alamiento directo contra \\u2018Ra\\u00fal Reyes\\u2019, uno de los \\u00edconos de las Farc, quien, como lo revel\\u00f3 EL TIEMPO, fue acusado por mujeres de su escolta \\u2013que fueron elegidas por \\u00e9l cuando contaban apenas con 10 u 11 a\\u00f1os\\u2013 de abusar sistem\\u00e1ticamente de ellas. En sus estatutos, las Farc castigan incluso con la muerte las violaciones y otro tipo de abusos sexuales. Lo que las v\\u00edctimas denuncian es que si bien esto pod\\u00eda regir para los mandos medios o los combatientes rasos, rara vez aplicaba para los jefes de frente y menos para hombres tan poderosos en la organizaci\\u00f3n como \\u2018Reyes\\u2019, cuya muerte en un bombardeo de la Fuerza A\\u00e9rea marc\\u00f3 en el 2008 el declive militar de las Farc. \\u201cA \\u00e9l le gustaba cogerlo a uno para escolta, siempre ten\\u00eda muchachas as\\u00ed y despu\\u00e9s abusaba de uno, a \\u00e9l le gustaba abusar de las muchachas que llevaba\\u201d, dijo Gina, quien fue su guardaespaldas durante 16 a\\u00f1os. El informe se\\u00f1ala que algunos frentes tambi\\u00e9n usaron la violaci\\u00f3n para castigar a quienes se negaban a pagar las vacunas. En el 2006, Yuliana, de 40 a\\u00f1os y con nueve meses de embarazo, fue atacada por guerrilleros del frente 32 en el Huila. La violaron en frente de su esposo. \\u201cLlegaron hombres comandados por \\u2018Joaqu\\u00edn\\u2019 y yo les dije que qu\\u00e9 pasaba, si ellos sab\\u00edan que nosotros les pag\\u00e1bamos, que nosotros \\u00e9ramos gente de bien, que me dieran una explicaci\\u00f3n (...). \\u00c9l (Joaqu\\u00edn) y otros dos abusaron de m\\u00ed. Mi esposo lloraba de ver lo que me estaban haciendo\\u201d, narr\\u00f3 la mujer. \\u201cA las mujeres les recuerdan la cuota que deben sus parejas con violencia sexual, o les cobran parte de la cuota o de los intereses de esta forma. Donde hay extorsiones a los comerciantes, suele existir violencia sexual hacia sus esposas para que recuerden que no deben dejar de pagar la cuota\\u201d, dice el informe. En Meta y Buenaventura se encontr\\u00f3 que las Farc \\u201cutilizaron t\\u00e9cnicas de control moral sobre las mujeres y las comunidades con el prop\\u00f3sito de regular la vida cotidiana de la poblaci\\u00f3n y establecer un control de g\\u00e9nero\\u201d. Tambi\\u00e9n buscaban \\u201cproclamarse como la \\u00fanica autoridad capaz de hacer uso de la fuerza en el territorio\\u201d. \\u201cEllos ten\\u00edan sus leyes y castigaban, y a quienes no cumpl\\u00edan sus leyes los mataban\\u201d, dijo una mujer durante un taller de reconstrucci\\u00f3n de memoria. \\u201cParamilitares y guerrillas establecieron, cada uno, sus propias pautas de comportamiento, nociones frente al delito; regularon la vida afectiva, los ritmos y espacios cotidianos, la vida social, la sexualidad, los espacios de divertimento y las formas de llevar y conducir los cuerpos\\u201d, se\\u00f1alan los investigadores del Centro Nacional de Memoria Hist\\u00f3rica. En el 2009, en Nari\\u00f1o, una lesbiana fue v\\u00edctima de guerrilleros porque decidi\\u00f3 vivir abiertamente con su pareja. Una noche su casa fue asaltada. A las dos las violaron y a su compa\\u00f1era la desaparecieron. \\u201cLos paramilitares y las guerrillas tuvieron el af\\u00e1n de \\u2018limpiar\\u2019 de sus territorios a aquellos cuerpos que representaban contaminaci\\u00f3n, desviaci\\u00f3n, inmoralidad y enfermedades\\u201d, advierte el documento. Este resalta tambi\\u00e9n los casos de ni\\u00f1as que fueron reclutadas y, despu\\u00e9s, v\\u00edctimas de abuso. Rosa, que fue guerrillera en el Meta, cont\\u00f3 que fue reclutada por las Farc junto con sus dos primas, de 9 y 10 a\\u00f1os, en los a\\u00f1os 80. \\u201cHac\\u00edan dos filas, las que eran v\\u00edrgenes y las que no. Los que comandaban ten\\u00edan relaciones con las ni\\u00f1as v\\u00edrgenes. Y ya los dem\\u00e1s compa\\u00f1eros eran los que abusaban de otras muchachas. Pero siempre las v\\u00edrgenes pasaban por la cabeza mayor\\u201d, afirm\\u00f3. \\u201cLa relaci\\u00f3n entre reclutamiento de ni\\u00f1as y adolescentes y violencia sexual en el interior de las Farc fue com\\u00fan. Se repitieron y recrudecieron en las filas discursos que situaban los cuerpos de las ni\\u00f1as como cuerpos-premio para los altos comandantes\\u201d, se\\u00f1ala el informe. Pero esa pr\\u00e1ctica se daba en todos los actores armados. Neyit, excombatiente de la guerrilla del Eln, fue reclutada a los 15 a\\u00f1os y a los dos d\\u00edas la violaron: \\u201cReclutaban y hac\\u00edan lo que quisieran con las muchachas. El que me reclut\\u00f3 lleg\\u00f3 a mi habitaci\\u00f3n y me quiso besar, y no lo dej\\u00e9. Luego vino con dos muchachos, uno me agarr\\u00f3 las manos y otro los pies, y \\u00e9l me iba quitando la ropa\\u201d. Para evitar ser atacada por otros, la joven termin\\u00f3 como pareja del violador, que ten\\u00eda mando en la tropa. Yurani, quien form\\u00f3 parte de las Farc en el suroriente del pa\\u00eds, cont\\u00f3 que tuvo tres abortos forzados. En las tres ocasiones quiso tener el beb\\u00e9 ocultando su estado, pero siempre fue descubierta y sancionada. La \\u00faltima vez ten\\u00eda ocho meses de embarazo. \\u201cCuando eso todav\\u00eda estaba vivo el \\u2018Mono Jojoy\\u2019. \\u00c9l dijo: \\u2018H\\u00e1gale el aborto\\u2019, y al otro d\\u00eda madrugaron a meterme la pasta esa para hacerme un legrado\\u201d, narr\\u00f3. Con estos testimonios, el informe rese\\u00f1a que las decisiones sobre los cuerpos de las mujeres estaban en poder de los comandantes. En las Farc y en los otros grupos, dice el Centro Nacional de Memoria Hist\\u00f3rica, las combatientes fueron obligadas a pr\\u00e1cticas de anticoncepci\\u00f3n, aborto y esterilizaci\\u00f3n forzada. \\u201cDicha renuncia obligada a la maternidad se configura como un reflejo m\\u00e1s del ejercicio de entrenamiento y acondicionamiento del cuerpo femenino a la guerra: un cuerpo masculinizado \\u2013se\\u00f1ala el documento\\u2013. Las ni\\u00f1as y mujeres son sujetas a controles sanitarios constantes, verificaci\\u00f3n y vigilancia sobre los ciclos menstruales y vigilancia sobre las relaciones sexuales que establecen las mujeres y con qui\\u00e9nes lo hacen\\u201d. Algunas de sus compa\\u00f1eras, seg\\u00fan Yurani, murieron despu\\u00e9s de practicarles abortos forzados. \\u201cEn el Yar\\u00ed hubo una muchacha que se llamaba Dayana y le dec\\u00edan la \\u2018Charuza\\u2019. A ella le practicaron el aborto y a los dos d\\u00edas muri\\u00f3 desangrada\\u201d, cont\\u00f3. Estos casos, dice el informe, se suman a las 21 muertes en similares condiciones que document\\u00f3 Justicia y Paz contra el Ej\\u00e9rcito Revolucionario Guevarista (Erg). El desgarrador informe advierte tambi\\u00e9n sobre los abusos perpetrados por el bando contrario. Un exparamilitar de las Autodefensas Campesinas del Casanare cont\\u00f3 que cuando las guerrilleras se dejaban \\u201ccoger vivas\\u201d eran v\\u00edctimas de torturas y violencia sexual. \\u201cS\\u00ed, era guerrillera, pero no ten\\u00edan derecho de violarla tantos manes, pasaron como unos 25 por encima de ella y la mataron a cuchillo\\u201d, confes\\u00f3. Magaly, exintegrante de las Farc, cont\\u00f3 que su prima, tambi\\u00e9n de la guerrilla, fue violada por el Ej\\u00e9rcito en un combate en el 2004: \\u201cLe echaron \\u00e1cido en la cara despu\\u00e9s de violada; yo estaba escondida y vi todo, y me daban rabia las cosas que le dec\\u00edan. Ellos le dec\\u00edan que por ser el Ej\\u00e9rcito pod\\u00edan violar y asesinar como si nada\\u201d. Como ya se conoce, los paramilitares utilizaron la violencia sexual como m\\u00e9todo de terror en las zonas a las que iban llegando. Pero no solo ocurr\\u00eda en la etapa de incursi\\u00f3n. Ya establecidos en las zonas, numerosos jefes se convirtieron en depredadores sexuales contra las comunidades que estaban en sus \\u00e1reas de influencia. El caso m\\u00e1s conocido es el de Hern\\u00e1n Giraldo, capo del cartel de Medell\\u00edn que termin\\u00f3 como jefe paramilitar de Magdalena. \\u201cEl se\\u00f1or (Hern\\u00e1n Giraldo) solo violaba ni\\u00f1as menores de 15 a\\u00f1os. Para \\u00e9l, y lo dijo p\\u00fablicamente en la audiencia, para \\u00e9l una mujer de 20 a\\u00f1os era una anciana. Las ten\\u00eda una semana y luego las devolv\\u00eda\\u201d, cont\\u00f3 una l\\u00edder de la zona rural de Santa Marta. Incluso, denunci\\u00f3 que estando preso (antes de ser extraditado a Estados Unidos) le llevaban menores de edad. En las goteras de Santa Marta, los paramilitares ten\\u00edan la pr\\u00e1ctica de quitar la luz en las noches para perpetrar sus ataques sexuales. Irrump\\u00edan en las casas y forzaban a familias enteras. Tambi\\u00e9n se documentaron casos de esterilizaci\\u00f3n forzada practicada en hospitales p\\u00fablicos. \\u201cNos mandaban a \\u2018capar\\u2019 para que no tuvi\\u00e9ramos hijos, y esto lo hicieron en el hospital. Era algo tan inhumano, llegaban con lista en mano\\u201d, dijo una de las mujeres afectadas. En Valle y Santander se documentaron casos de paramilitares que buscaban a sus v\\u00edctimas entre las ni\\u00f1as de las escuelas, como lo se\\u00f1al\\u00f3 la hist\\u00f3rica sentencia contra el bloque Central Bol\\u00edvar por casi 3.000 cr\\u00edmenes, entre ellos 1.013 de violencia sexual. Como ocurri\\u00f3 con Helena, a Esperanza la violaron por evitar que uno de sus peque\\u00f1os hijos fuera utilizado por paramilitares del bloque Cacique Nutibara para mover armas. Ocurri\\u00f3 en diciembre del 2002 en Medell\\u00edn. Ella decidi\\u00f3 mandar a los ni\\u00f1os a casa de su hermana, metidos en un armario del trasteo de una vecina. Cuando los \\u2018paras\\u2019 fueron a buscar al muchacho, la reacci\\u00f3n fue salvaje. \\u201cEntraron cuatro de ellos, cerraron la puerta, me tiraron a la cama, me amarraron de pies y manos, me da\\u00f1aron mi pijama y abusaron de m\\u00ed toda la noche\\u201d, relat\\u00f3 la mujer. El Centro de Memoria Hist\\u00f3rica recomienda a los gobiernos departamentales y municipales, a la academia y a las organizaciones sociales realizar investigaciones que contribuyan a la comprensi\\u00f3n de las variaciones locales de la violencia sexual, con el fin de conocer las condiciones que, en cada caso, han permitido su emergencia. Mary Luz L\\u00f3pez Mi mayor motivaci\\u00f3n es estar viva, respirar, saber que no me mataron, que mientras yo est\\u00e9 viva las letras hablar\\u00e1n por m\\u00ed y por otras mujeres. E scribo cuentos y poes\\u00eda para sacar el dolor. La escritura pasa por el coraz\\u00f3n, por el cuerpo y remueve muchas cosas. Uno tiene un talento escondido y el m\\u00edo es la escritura; eso me ha ayudado bastante. Yo creo que lo que lo mueve a uno es el amor, esa fortaleza y esa resiliencia que hay en uno para no quedarse postrado. Por eso hoy les digo a las mujeres que dejen el miedo, el miedo no viene detr\\u00e1s de uno, no callen. Sandra Gonz\\u00e1lez Mi principal motivaci\\u00f3n para seguir viva y seguir adelante, son mis hijos y mi familia. Cuando uno empieza a hablar, crea una conciencia con las otras mujeres que nunca han hablado, ellas se identifican con mi historia y dicen, a m\\u00ed tambi\\u00e9n me pas\\u00f3. Yo soy la voz de las mujeres que no tienen voz, soy la voz de las mujeres que han muerto. Ojal\\u00e1 que todo el mundo se entere de que esto pasa en Colombia y ojal\\u00e1 que el Estado lo reconozca. Ilda Osorio Mi prioridad y motivaci\\u00f3n son el resto de mujeres que han sufrido la misma violencia que yo. Porque s\\u00e9 lo que se siente, s\\u00e9 lo que duele, y s\\u00e9 la vida tan sucia que uno siente que lleva. El mensaje para las mujeres v\\u00edctimas es que escuchen la voz de esta experiencia que sufri\\u00f3 en carne propia la guerra en su propio cuerpo. S i 10 veces les cierran la puerta, hay que tocarla 50 veces, hasta que la abran. Para que los due\\u00f1os de esta guerra tambi\\u00e9n sean due\\u00f1os de esta verg\\u00fcenza, de esta culpa que nosotras no tenemos. Tulia Lozano En medio de una guerra nuestros cuerpos han sido botines de guerra. Nosotras no somos las culpables. No tenemos por qu\\u00e9 callar algo que nunca debi\\u00f3 haber sucedido. Hay que ir superando, ir saliendo, ir luchando por nuestros derechos, nosotras fuimos las m\\u00e1s damnificadas en esta guerra y por eso tenemos razones para seguir paradas luchando, as\\u00ed nos amenacen por hacerlo. JUSTICIA justicia@eltiempo.com @JusticiaET Miedo 11:19 p.m. Ejercite su mente en la cuarentena con este test de l\\u00f3gica matem\\u00e1tica Ponga a prueba esas clases de matem\\u00e1ticas del colegio y de la vida par ... Manizales 10:00 p.m. Ya se venden medicamentos de cannabis con f\\u00f3rmula m\\u00e9dica En farmacias especializadas de Colombia es posible acceder a medicamen ... Manizales 10:00 p.m. El gu\\u00eda de la salud mental del pueblo con m\\u00e1s casos de bipolaridad Coronavirus en Colombia 09:31 p.m. Una cabina de desinfecci\\u00f3n manual para Barranquilla Valle del Cauca 07:50 p.m. Se han recogido cerca de 132 mil mercados en 'Donat\\u00f3n Valle Solidario'.\",\n          \"T\\u00edtulo: El prontuario que condena a 55 a\\u00f1os de prisi\\u00f3n al \\u2018Zar del Oro\\u2019. Resumen: Fue hallado culpable del homicidio de cuatro mineros y de financiar grupos criminales.. Contenido: Por el homicidio de cuatro mineros en Remedios, Antioquia, y por financiar grupos armados ilegales en el noreste de ese departamento, un juez sentenci\\u00f3 a 55 a\\u00f1os de c\\u00e1rcel a Jairo Hugo Escobar Cata\\u00f1o, conocido como el Zar del Oro. El 20 de diciembre de 2011 los mineros Johan Esteban Pareja Avenda\\u00f1o, Jaime Nicol\\u00e1s Jim\\u00e9nez, y los hermanos Yeison Andr\\u00e9s y Wilmar Alberto Taborda Jim\\u00e9nez, a quienes se les conoc\\u00eda como los serafines, fueron citados a una supuesta reuni\\u00f3n en la finca La T\\u00eda ubicada en la vereda La Roca, donde fueron asesinados por una estructura criminal. La Fiscal\\u00eda estableci\\u00f3 adem\\u00e1s que por el crimen se pagaron 800 millones de pesos. De acuerdo con las investigaciones, el homicidio estar\\u00eda relacionado con un atentado del que Escobar sali\\u00f3 ileso en el el 2011, y con la negativa de los mineros de vender un yacimiento aur\\u00edfero del que eran copropietarios. Los investigadores determinaron tambi\\u00e9n que Escobar Cata\\u00f1o aportaba considerables sumas de dinero para el pago de n\\u00f3mina de una organizaci\\u00f3n delincuencial conocida como \\u2018Seguridad H\\u00e9roes del Nordeste\\u2019. Escobar no es el \\u00fanico \\u2018zar\\u2019 del metal dorado . John \\u00daber Hern\\u00e1ndez , cabeza de la firma G\\u00f3ldex, lleg\\u00f3 a ser uno de los principales fundidores del pa\\u00eds, por lo que tambi\\u00e9n se gan\\u00f3 ese apelativo. Es se\\u00f1alado de haber lavado 2,3 billones de pesos a trav\\u00e9s de la firma.\\u00a0A pesar de la gravedad de los cargos, inexplicablemente qued\\u00f3 libre por vencimiento de t\\u00e9rminos. JUSTICIA Miedo 11:19 p.m. Ejercite su mente en la cuarentena con este test de l\\u00f3gica matem\\u00e1tica Ponga a prueba esas clases de matem\\u00e1ticas del colegio y de la vida par ... Manizales 10:00 p.m. Ya se venden medicamentos de cannabis con f\\u00f3rmula m\\u00e9dica En farmacias especializadas de Colombia es posible acceder a medicamen ... Manizales 10:00 p.m. El gu\\u00eda de la salud mental del pueblo con m\\u00e1s casos de bipolaridad Coronavirus en Colombia 09:31 p.m. Una cabina de desinfecci\\u00f3n manual para Barranquilla Valle del Cauca 07:50 p.m. Se han recogido cerca de 132 mil mercados en 'Donat\\u00f3n Valle Solidario'.\",\n          \"T\\u00edtulo: Avianca Brasil dejar\\u00e1 de volar 21 rutas y cerrar\\u00e1 tres bases. Resumen: La firma, tambi\\u00e9n del empresario Germ\\u00e1n Efromovich, quedar\\u00e1 operando solo con 26 aviones.. Contenido: Avianca  Brasil, la cuarta mayor compa\\u00f1\\u00eda a\\u00e9rea del pa\\u00eds y que en diciembre se acogi\\u00f3 a la ley de bancarrota, dejar\\u00e1 de volar 21 rutas en abril y cerrar\\u00e1 tres bases de operaciones, seg\\u00fan inform\\u00f3 este martes la empresa. En un comunicado, Avianca Brasil, nombre comercial bajo el cual opera la empresa Ocean Air,  indic\\u00f3 que la decisi\\u00f3n forma parte del \\\"plan de recuperaci\\u00f3n judicial\\\" con el que est\\u00e1 \\\"readecuando progresivamente\\\" sus operaciones para reducir el tama\\u00f1o de la flota y alcanzar el \\\"objetivo\\\" de operar 23 rutas, de las 53 que tiene en la actualidad, solo con 26 aviones. Las tres bases operacionales que cerrar\\u00e1 definitivamente la compa\\u00f1\\u00eda son las del aeropuerto internacional de Galeao, en R\\u00edo de Janeiro; la de Petrolina (Pernambuco, noreste) y la de Belem, capital del amaz\\u00f3nico estado de Par\\u00e1. Al dejar de operar 21 rutas, las 32 restantes, calificadas como \\\"estrat\\u00e9gicas\\\", se mantendr\\u00e1n \\\"normalmente\\\" y \\\"dentro del cronograma previsto\\\". De las 21 rutas que ser\\u00e1n canceladas, dos tienen destino internacional con vuelos a Bogot\\u00e1 partiendo desde Fortaleza y Salvador, ambas en el noreste del pa\\u00eds. Con la cancelaci\\u00f3n de las rutas del Galeao, la ciudad m\\u00e1s afectada con la decisi\\u00f3n fue la capital Brasilia, que perder\\u00e1 el vuelo con el mayor aeropuerto de R\\u00edo de Janeiro y su conexi\\u00f3n directa con Cuiab\\u00e1 (oeste) y Fortaleza, Salvador y Macei\\u00f3 (noreste). La aerol\\u00ednea brasile\\u00f1a se acogi\\u00f3 en diciembre pasado a la ley de quiebras para garantizar la continuidad de sus operaciones y la sustentabilidad de su negocio, as\\u00ed como para reestructurar una elevada deuda que le acarre\\u00f3 varias demandas en los tribunales. El pasado 11 de marzo, la aerol\\u00ednea brasile\\u00f1a de bajo coste Azul, la tercera mayor compa\\u00f1\\u00eda a\\u00e9rea del pa\\u00eds, anunci\\u00f3 que firm\\u00f3 un acuerdo de intenci\\u00f3n por 105 millones de d\\u00f3lares para adquirir parte de los activos de  Avianca  Brasil. Entre esos activos est\\u00e1n el certificado de operador a\\u00e9reo de Avianca  Brasil, setenta pares de \\\"slots\\\" -como se conoce a los derechos de despegar y aterrizar en aeropuertos congestionados- y aproximadamente treinta aeronaves Airbus A320. Avianca  Brasil opera vuelos regulares desde el 2002 y en enero pasado anunci\\u00f3 el recorte de sus vuelos internacionales directos desde Guarulhos, que opera para Sao Paulo, a las ciudades de Santiago de Chile, Nueva York y Miami. OceanAir es una compa\\u00f1\\u00eda independiente de Avianca Holdings S.A. y utiliza comercialmente el nombre de \\\"Avianca  Brasil\\\", en virtud de un acuerdo de licencia de uso de nombre que celebr\\u00f3 con Aerov\\u00edas del Continente Americano S.A, con sede en Colombia. EFE Miedo 11:19 p.m. Ejercite su mente en la cuarentena con este test de l\\u00f3gica matem\\u00e1tica Ponga a prueba esas clases de matem\\u00e1ticas del colegio y de la vida par ... Manizales 10:00 p.m. Ya se venden medicamentos de cannabis con f\\u00f3rmula m\\u00e9dica En farmacias especializadas de Colombia es posible acceder a medicamen ... Manizales 10:00 p.m. El gu\\u00eda de la salud mental del pueblo con m\\u00e1s casos de bipolaridad Coronavirus en Colombia 09:31 p.m. Una cabina de desinfecci\\u00f3n manual para Barranquilla Valle del Cauca 07:50 p.m. Se han recogido cerca de 132 mil mercados en 'Donat\\u00f3n Valle Solidario'.\"\n        ],\n        \"semantic_type\": \"\",\n        \"description\": \"\"\n      }\n    },\n    {\n      \"column\": \"cleaned_text\",\n      \"properties\": {\n        \"dtype\": \"string\",\n        \"num_unique_values\": 2385,\n        \"samples\": [\n          \"T\\u00edtulo: Informe devela 57 a\\u00f1os de violencia sexual en la guerra. Resumen: El documento 'La guerra inscrita en el cuerpo\\u2019 muestra la magnitud de ese crimen en el pa\\u00eds. Contenido: Helena, una campesina del sur del Tolima, uno de los enclaves hist\\u00f3ricos de las Farc, logr\\u00f3 salvar a sus hijos de 10, 14 y 15 a\\u00f1os de ser reclutados por esa guerrilla. Eso ocurri\\u00f3 hace siete a\\u00f1os, en el 2010. Guerrilleros del frente 21 le mandaron raz\\u00f3n de que preparara a los muchachos porque \\u201ciban a pasar por ellos\\u201d, y ese mismo d\\u00eda ella decidi\\u00f3 sacarlos de la vereda escondidos, entre guacales, en un carro de venta de bananos. \\u201cAll\\u00e1, en cada vereda, en cada finca, a usted le dicen: \\u2018Tiene dos o tres hijos, y a medida que vayan creciendo, de los 10 a\\u00f1os en adelante, se los van llevando\\u2019. Y si usted habla o algo, es peor: lo matan. La ley es que todo el mundo va a engrosar la fila de la guerrilla\\u201d, cont\\u00f3 la mujer. Pero la valent\\u00eda para defender a sus hijos termin\\u00f3 por convertirla en v\\u00edctima de violencia sexual. \\u201cLes dec\\u00eda que yo por mis hijos me hago matar. Fueron a mi casa a las 9 de la noche. Me ataron las manos atr\\u00e1s. Me llevaron al \\u2018Rinc\\u00f3n de la muerte\\u2019 (en inmediaciones de la quebrada La Catalina, donde los grupos armados asesinaron a varias personas)\\u201d. All\\u00e1 estaba \\u2018Agust\\u00edn\\u2019, el jefe del frente 21, que muri\\u00f3 en combate con el Ej\\u00e9rcito en el 2012: \\u201c\\u00c9l me viol\\u00f3 y les dijo a los otros: \\u2018Cada uno haga lo que quiera con ella, tenemos cinco horas para hacer todo lo que quieran\\u2019 \\u201d. Testimonios como el de Helena fueron recogidos por el Centro Nacional de Memoria Hist\\u00f3rica en el informe \\u2018La guerra inscrita en el cuerpo\\u2019, revelado esta semana y que reconstruye c\\u00f3mo todos los grupos armados y muchos agentes del Estado utilizaron la violencia sexual en medio del conflicto armado . La investigaci\\u00f3n tiene casos desde 1959 y su macabro balance \\u2013que claramente es inferior a la realidad, porque muchas v\\u00edctimas temen denunciar incluso hoy\\u2013 es que al menos 15.000 ni\\u00f1as y mujeres, pero tambi\\u00e9n muchos ni\\u00f1os y adolescentes, fueron violados por los actores de la guerra. La mayor\\u00eda de los casos no tiene un responsable identificado. Pero el documento, de 550 p\\u00e1ginas, encontr\\u00f3 que los grupos paramilitares fueron se\\u00f1alados por 4.837 v\\u00edctimas; las guerrillas de las Farc, el Eln y el Erg, por 4.722, y los agentes del Estado, por al menos 206. El Centro Nacional de Memoria Hist\\u00f3rica acudi\\u00f3 a expedientes judiciales y a testimonios directos para retratar las pr\\u00e1cticas de sometimiento. Muchas de ellas han sido documentadas y ampliamente recogidas en la \\u00faltima d\\u00e9cada, gracias a las confesiones de paramilitares desmovilizados ante la jurisdicci\\u00f3n de Justicia y Paz y, sobre todo, a la valent\\u00eda de centenares de v\\u00edctimas que se atrevieron a romper el miedo y la impunidad. En cuanto a las guerrillas, la violencia sexual fue ejercida tanto contra las comunidades de sus zonas de influencia como contra las ni\\u00f1as y adolescentes reclutadas. La plena confesi\\u00f3n sobre esas pr\\u00e1cticas ser\\u00e1 una de las pruebas de fuego sobre el real compromiso de los desmovilizados ante la nueva Jurisdicci\\u00f3n Especial para la Paz (JEP), pues la verdad y la reparaci\\u00f3n a las v\\u00edctimas son parte de las condiciones para acceder a penas alternativas. Esta semana, de hecho, caus\\u00f3 revuelo el se\\u00f1alamiento directo contra \\u2018Ra\\u00fal Reyes\\u2019, uno de los \\u00edconos de las Farc, quien, como lo revel\\u00f3 EL TIEMPO, fue acusado por mujeres de su escolta \\u2013que fueron elegidas por \\u00e9l cuando contaban apenas con 10 u 11 a\\u00f1os\\u2013 de abusar sistem\\u00e1ticamente de ellas. En sus estatutos, las Farc castigan incluso con la muerte las violaciones y otro tipo de abusos sexuales. Lo que las v\\u00edctimas denuncian es que si bien esto pod\\u00eda regir para los mandos medios o los combatientes rasos, rara vez aplicaba para los jefes de frente y menos para hombres tan poderosos en la organizaci\\u00f3n como \\u2018Reyes\\u2019, cuya muerte en un bombardeo de la Fuerza A\\u00e9rea marc\\u00f3 en el 2008 el declive militar de las Farc. \\u201cA \\u00e9l le gustaba cogerlo a uno para escolta, siempre ten\\u00eda muchachas as\\u00ed y despu\\u00e9s abusaba de uno, a \\u00e9l le gustaba abusar de las muchachas que llevaba\\u201d, dijo Gina, quien fue su guardaespaldas durante 16 a\\u00f1os. El informe se\\u00f1ala que algunos frentes tambi\\u00e9n usaron la violaci\\u00f3n para castigar a quienes se negaban a pagar las vacunas. En el 2006, Yuliana, de 40 a\\u00f1os y con nueve meses de embarazo, fue atacada por guerrilleros del frente 32 en el Huila. La violaron en frente de su esposo. \\u201cLlegaron hombres comandados por \\u2018Joaqu\\u00edn\\u2019 y yo les dije que qu\\u00e9 pasaba, si ellos sab\\u00edan que nosotros les pag\\u00e1bamos, que nosotros \\u00e9ramos gente de bien, que me dieran una explicaci\\u00f3n (.). \\u00c9l (Joaqu\\u00edn) y otros dos abusaron de m\\u00ed. Mi esposo lloraba de ver lo que me estaban haciendo\\u201d, narr\\u00f3 la mujer. \\u201cA las mujeres les recuerdan la cuota que deben sus parejas con violencia sexual, o les cobran parte de la cuota o de los intereses de esta forma. Donde hay extorsiones a los comerciantes, suele existir violencia sexual hacia sus esposas para que recuerden que no deben dejar de pagar la cuota\\u201d, dice el informe. En Meta y Buenaventura se encontr\\u00f3 que las Farc \\u201cutilizaron t\\u00e9cnicas de control moral sobre las mujeres y las comunidades con el prop\\u00f3sito de regular la vida cotidiana de la poblaci\\u00f3n y establecer un control de g\\u00e9nero\\u201d. Tambi\\u00e9n buscaban \\u201cproclamarse como la \\u00fanica autoridad capaz de hacer uso de la fuerza en el territorio\\u201d. \\u201cEllos ten\\u00edan sus leyes y castigaban, y a quienes no cumpl\\u00edan sus leyes los mataban\\u201d, dijo una mujer durante un taller de reconstrucci\\u00f3n de memoria. \\u201cParamilitares y guerrillas establecieron, cada uno, sus propias pautas de comportamiento, nociones frente al delito; regularon la vida afectiva, los ritmos y espacios cotidianos, la vida social, la sexualidad, los espacios de divertimento y las formas de llevar y conducir los cuerpos\\u201d, se\\u00f1alan los investigadores del Centro Nacional de Memoria Hist\\u00f3rica. En el 2009, en Nari\\u00f1o, una lesbiana fue v\\u00edctima de guerrilleros porque decidi\\u00f3 vivir abiertamente con su pareja. Una noche su casa fue asaltada. A las dos las violaron y a su compa\\u00f1era la desaparecieron. \\u201cLos paramilitares y las guerrillas tuvieron el af\\u00e1n de \\u2018limpiar\\u2019 de sus territorios a aquellos cuerpos que representaban contaminaci\\u00f3n, desviaci\\u00f3n, inmoralidad y enfermedades\\u201d, advierte el documento. Este resalta tambi\\u00e9n los casos de ni\\u00f1as que fueron reclutadas y, despu\\u00e9s, v\\u00edctimas de abuso. Rosa, que fue guerrillera en el Meta, cont\\u00f3 que fue reclutada por las Farc junto con sus dos primas, de 9 y 10 a\\u00f1os, en los a\\u00f1os 80. \\u201cHac\\u00edan dos filas, las que eran v\\u00edrgenes y las que no. Los que comandaban ten\\u00edan relaciones con las ni\\u00f1as v\\u00edrgenes. Y ya los dem\\u00e1s compa\\u00f1eros eran los que abusaban de otras muchachas. Pero siempre las v\\u00edrgenes pasaban por la cabeza mayor\\u201d, afirm\\u00f3. \\u201cLa relaci\\u00f3n entre reclutamiento de ni\\u00f1as y adolescentes y violencia sexual en el interior de las Farc fue com\\u00fan. Se repitieron y recrudecieron en las filas discursos que situaban los cuerpos de las ni\\u00f1as como cuerpos-premio para los altos comandantes\\u201d, se\\u00f1ala el informe. Pero esa pr\\u00e1ctica se daba en todos los actores armados. Neyit, excombatiente de la guerrilla del Eln, fue reclutada a los 15 a\\u00f1os y a los dos d\\u00edas la violaron: \\u201cReclutaban y hac\\u00edan lo que quisieran con las muchachas. El que me reclut\\u00f3 lleg\\u00f3 a mi habitaci\\u00f3n y me quiso besar, y no lo dej\\u00e9. Luego vino con dos muchachos, uno me agarr\\u00f3 las manos y otro los pies, y \\u00e9l me iba quitando la ropa\\u201d. Para evitar ser atacada por otros, la joven termin\\u00f3 como pareja del violador, que ten\\u00eda mando en la tropa. Yurani, quien form\\u00f3 parte de las Farc en el suroriente del pa\\u00eds, cont\\u00f3 que tuvo tres abortos forzados. En las tres ocasiones quiso tener el beb\\u00e9 ocultando su estado, pero siempre fue descubierta y sancionada. La \\u00faltima vez ten\\u00eda ocho meses de embarazo. \\u201cCuando eso todav\\u00eda estaba vivo el \\u2018Mono Jojoy\\u2019. \\u00c9l dijo: \\u2018H\\u00e1gale el aborto\\u2019, y al otro d\\u00eda madrugaron a meterme la pasta esa para hacerme un legrado\\u201d, narr\\u00f3. Con estos testimonios, el informe rese\\u00f1a que las decisiones sobre los cuerpos de las mujeres estaban en poder de los comandantes. En las Farc y en los otros grupos, dice el Centro Nacional de Memoria Hist\\u00f3rica, las combatientes fueron obligadas a pr\\u00e1cticas de anticoncepci\\u00f3n, aborto y esterilizaci\\u00f3n forzada. \\u201cDicha renuncia obligada a la maternidad se configura como un reflejo m\\u00e1s del ejercicio de entrenamiento y acondicionamiento del cuerpo femenino a la guerra: un cuerpo masculinizado \\u2013se\\u00f1ala el documento\\u2013. Las ni\\u00f1as y mujeres son sujetas a controles sanitarios constantes, verificaci\\u00f3n y vigilancia sobre los ciclos menstruales y vigilancia sobre las relaciones sexuales que establecen las mujeres y con qui\\u00e9nes lo hacen\\u201d. Algunas de sus compa\\u00f1eras, seg\\u00fan Yurani, murieron despu\\u00e9s de practicarles abortos forzados. \\u201cEn el Yar\\u00ed hubo una muchacha que se llamaba Dayana y le dec\\u00edan la \\u2018Charuza\\u2019. A ella le practicaron el aborto y a los dos d\\u00edas muri\\u00f3 desangrada\\u201d, cont\\u00f3. Estos casos, dice el informe, se suman a las 21 muertes en similares condiciones que document\\u00f3 Justicia y Paz contra el Ej\\u00e9rcito Revolucionario Guevarista (Erg). El desgarrador informe advierte tambi\\u00e9n sobre los abusos perpetrados por el bando contrario. Un exparamilitar de las Autodefensas Campesinas del Casanare cont\\u00f3 que cuando las guerrilleras se dejaban \\u201ccoger vivas\\u201d eran v\\u00edctimas de torturas y violencia sexual. \\u201cS\\u00ed, era guerrillera, pero no ten\\u00edan derecho de violarla tantos manes, pasaron como unos 25 por encima de ella y la mataron a cuchillo\\u201d, confes\\u00f3. Magaly, exintegrante de las Farc, cont\\u00f3 que su prima, tambi\\u00e9n de la guerrilla, fue violada por el Ej\\u00e9rcito en un combate en el 2004: \\u201cLe echaron \\u00e1cido en la cara despu\\u00e9s de violada; yo estaba escondida y vi todo, y me daban rabia las cosas que le dec\\u00edan. Ellos le dec\\u00edan que por ser el Ej\\u00e9rcito pod\\u00edan violar y asesinar como si nada\\u201d. Como ya se conoce, los paramilitares utilizaron la violencia sexual como m\\u00e9todo de terror en las zonas a las que iban llegando. Pero no solo ocurr\\u00eda en la etapa de incursi\\u00f3n. Ya establecidos en las zonas, numerosos jefes se convirtieron en depredadores sexuales contra las comunidades que estaban en sus \\u00e1reas de influencia. El caso m\\u00e1s conocido es el de Hern\\u00e1n Giraldo, capo del cartel de Medell\\u00edn que termin\\u00f3 como jefe paramilitar de Magdalena. \\u201cEl se\\u00f1or (Hern\\u00e1n Giraldo) solo violaba ni\\u00f1as menores de 15 a\\u00f1os. Para \\u00e9l, y lo dijo p\\u00fablicamente en la audiencia, para \\u00e9l una mujer de 20 a\\u00f1os era una anciana. Las ten\\u00eda una semana y luego las devolv\\u00eda\\u201d, cont\\u00f3 una l\\u00edder de la zona rural de Santa Marta. Incluso, denunci\\u00f3 que estando preso (antes de ser extraditado a Estados Unidos) le llevaban menores de edad. En las goteras de Santa Marta, los paramilitares ten\\u00edan la pr\\u00e1ctica de quitar la luz en las noches para perpetrar sus ataques sexuales. Irrump\\u00edan en las casas y forzaban a familias enteras. Tambi\\u00e9n se documentaron casos de esterilizaci\\u00f3n forzada practicada en hospitales p\\u00fablicos. \\u201cNos mandaban a \\u2018capar\\u2019 para que no tuvi\\u00e9ramos hijos, y esto lo hicieron en el hospital. Era algo tan inhumano, llegaban con lista en mano\\u201d, dijo una de las mujeres afectadas. En Valle y Santander se documentaron casos de paramilitares que buscaban a sus v\\u00edctimas entre las ni\\u00f1as de las escuelas, como lo se\\u00f1al\\u00f3 la hist\\u00f3rica sentencia contra el bloque Central Bol\\u00edvar por casi 3.000 cr\\u00edmenes, entre ellos 1.013 de violencia sexual. Como ocurri\\u00f3 con Helena, a Esperanza la violaron por evitar que uno de sus peque\\u00f1os hijos fuera utilizado por paramilitares del bloque Cacique Nutibara para mover armas. Ocurri\\u00f3 en diciembre del 2002 en Medell\\u00edn. Ella decidi\\u00f3 mandar a los ni\\u00f1os a casa de su hermana, metidos en un armario del trasteo de una vecina. Cuando los \\u2018paras\\u2019 fueron a buscar al muchacho, la reacci\\u00f3n fue salvaje. \\u201cEntraron cuatro de ellos, cerraron la puerta, me tiraron a la cama, me amarraron de pies y manos, me da\\u00f1aron mi pijama y abusaron de m\\u00ed toda la noche\\u201d, relat\\u00f3 la mujer. El Centro de Memoria Hist\\u00f3rica recomienda a los gobiernos departamentales y municipales, a la academia y a las organizaciones sociales realizar investigaciones que contribuyan a la comprensi\\u00f3n de las variaciones locales de la violencia sexual, con el fin de conocer las condiciones que, en cada caso, han permitido su emergencia. Mary Luz L\\u00f3pez Mi mayor motivaci\\u00f3n es estar viva, respirar, saber que no me mataron, que mientras yo est\\u00e9 viva las letras hablar\\u00e1n por m\\u00ed y por otras mujeres. E scribo cuentos y poes\\u00eda para sacar el dolor. La escritura pasa por el coraz\\u00f3n, por el cuerpo y remueve muchas cosas. Uno tiene un talento escondido y el m\\u00edo es la escritura; eso me ha ayudado bastante. Yo creo que lo que lo mueve a uno es el amor, esa fortaleza y esa resiliencia que hay en uno para no quedarse postrado. Por eso hoy les digo a las mujeres que dejen el miedo, el miedo no viene detr\\u00e1s de uno, no callen. Sandra Gonz\\u00e1lez Mi principal motivaci\\u00f3n para seguir viva y seguir adelante, son mis hijos y mi familia. Cuando uno empieza a hablar, crea una conciencia con las otras mujeres que nunca han hablado, ellas se identifican con mi historia y dicen, a m\\u00ed tambi\\u00e9n me pas\\u00f3. Yo soy la voz de las mujeres que no tienen voz, soy la voz de las mujeres que han muerto. Ojal\\u00e1 que todo el mundo se entere de que esto pasa en Colombia y ojal\\u00e1 que el Estado lo reconozca. Ilda Osorio Mi prioridad y motivaci\\u00f3n son el resto de mujeres que han sufrido la misma violencia que yo. Porque s\\u00e9 lo que se siente, s\\u00e9 lo que duele, y s\\u00e9 la vida tan sucia que uno siente que lleva. El mensaje para las mujeres v\\u00edctimas es que escuchen la voz de esta experiencia que sufri\\u00f3 en carne propia la guerra en su propio cuerpo. S i 10 veces les cierran la puerta, hay que tocarla 50 veces, hasta que la abran. Para que los due\\u00f1os de esta guerra tambi\\u00e9n sean due\\u00f1os de esta verg\\u00fcenza, de esta culpa que nosotras no tenemos. Tulia Lozano En medio de una guerra nuestros cuerpos han sido botines de guerra. Nosotras no somos las culpables. No tenemos por qu\\u00e9 callar algo que nunca debi\\u00f3 haber sucedido. Hay que ir superando, ir saliendo, ir luchando por nuestros derechos, nosotras fuimos las m\\u00e1s damnificadas en esta guerra y por eso tenemos razones para seguir paradas luchando, as\\u00ed nos amenacen por hacerlo. JUSTICIA justicia@eltiempo.com @JusticiaET Miedo 11:19 p.m. Ejercite su mente en la cuarentena con este test de l\\u00f3gica matem\\u00e1tica Ponga a prueba esas clases de matem\\u00e1ticas del colegio y de la vida par . Manizales 10:00 p.m. Ya se venden medicamentos de cannabis con f\\u00f3rmula m\\u00e9dica En farmacias especializadas de Colombia es posible acceder a medicamen . Manizales 10:00 p.m. El gu\\u00eda de la salud mental del pueblo con m\\u00e1s casos de bipolaridad Coronavirus en Colombia 09:31 p.m. Una cabina de desinfecci\\u00f3n manual para Barranquilla Valle del Cauca 07:50 p.m. Se han recogido cerca de 132 mil mercados en 'Donat\\u00f3n Valle Solidario'.\",\n          \"T\\u00edtulo: El prontuario que condena a 55 a\\u00f1os de prisi\\u00f3n al \\u2018Zar del Oro\\u2019. Resumen: Fue hallado culpable del homicidio de cuatro mineros y de financiar grupos criminales. Contenido: Por el homicidio de cuatro mineros en Remedios, Antioquia, y por financiar grupos armados ilegales en el noreste de ese departamento, un juez sentenci\\u00f3 a 55 a\\u00f1os de c\\u00e1rcel a Jairo Hugo Escobar Cata\\u00f1o, conocido como el Zar del Oro. El 20 de diciembre de 2011 los mineros Johan Esteban Pareja Avenda\\u00f1o, Jaime Nicol\\u00e1s Jim\\u00e9nez, y los hermanos Yeison Andr\\u00e9s y Wilmar Alberto Taborda Jim\\u00e9nez, a quienes se les conoc\\u00eda como los serafines, fueron citados a una supuesta reuni\\u00f3n en la finca La T\\u00eda ubicada en la vereda La Roca, donde fueron asesinados por una estructura criminal. La Fiscal\\u00eda estableci\\u00f3 adem\\u00e1s que por el crimen se pagaron 800 millones de pesos. De acuerdo con las investigaciones, el homicidio estar\\u00eda relacionado con un atentado del que Escobar sali\\u00f3 ileso en el el 2011, y con la negativa de los mineros de vender un yacimiento aur\\u00edfero del que eran copropietarios. Los investigadores determinaron tambi\\u00e9n que Escobar Cata\\u00f1o aportaba considerables sumas de dinero para el pago de n\\u00f3mina de una organizaci\\u00f3n delincuencial conocida como \\u2018Seguridad H\\u00e9roes del Nordeste\\u2019. Escobar no es el \\u00fanico \\u2018zar\\u2019 del metal dorado . John \\u00daber Hern\\u00e1ndez , cabeza de la firma G\\u00f3ldex, lleg\\u00f3 a ser uno de los principales fundidores del pa\\u00eds, por lo que tambi\\u00e9n se gan\\u00f3 ese apelativo. Es se\\u00f1alado de haber lavado 2,3 billones de pesos a trav\\u00e9s de la firma.\\u00a0A pesar de la gravedad de los cargos, inexplicablemente qued\\u00f3 libre por vencimiento de t\\u00e9rminos. JUSTICIA Miedo 11:19 p.m. Ejercite su mente en la cuarentena con este test de l\\u00f3gica matem\\u00e1tica Ponga a prueba esas clases de matem\\u00e1ticas del colegio y de la vida par . Manizales 10:00 p.m. Ya se venden medicamentos de cannabis con f\\u00f3rmula m\\u00e9dica En farmacias especializadas de Colombia es posible acceder a medicamen . Manizales 10:00 p.m. El gu\\u00eda de la salud mental del pueblo con m\\u00e1s casos de bipolaridad Coronavirus en Colombia 09:31 p.m. Una cabina de desinfecci\\u00f3n manual para Barranquilla Valle del Cauca 07:50 p.m. Se han recogido cerca de 132 mil mercados en 'Donat\\u00f3n Valle Solidario'.\",\n          \"T\\u00edtulo: Avianca Brasil dejar\\u00e1 de volar 21 rutas y cerrar\\u00e1 tres bases. Resumen: La firma, tambi\\u00e9n del empresario Germ\\u00e1n Efromovich, quedar\\u00e1 operando solo con 26 aviones. Contenido: Avianca Brasil, la cuarta mayor compa\\u00f1\\u00eda a\\u00e9rea del pa\\u00eds y que en diciembre se acogi\\u00f3 a la ley de bancarrota, dejar\\u00e1 de volar 21 rutas en abril y cerrar\\u00e1 tres bases de operaciones, seg\\u00fan inform\\u00f3 este martes la empresa. En un comunicado, Avianca Brasil, nombre comercial bajo el cual opera la empresa Ocean Air, indic\\u00f3 que la decisi\\u00f3n forma parte del \\\"plan de recuperaci\\u00f3n judicial\\\" con el que est\\u00e1 \\\"readecuando progresivamente\\\" sus operaciones para reducir el tama\\u00f1o de la flota y alcanzar el \\\"objetivo\\\" de operar 23 rutas, de las 53 que tiene en la actualidad, solo con 26 aviones. Las tres bases operacionales que cerrar\\u00e1 definitivamente la compa\\u00f1\\u00eda son las del aeropuerto internacional de Galeao, en R\\u00edo de Janeiro; la de Petrolina (Pernambuco, noreste) y la de Belem, capital del amaz\\u00f3nico estado de Par\\u00e1. Al dejar de operar 21 rutas, las 32 restantes, calificadas como \\\"estrat\\u00e9gicas\\\", se mantendr\\u00e1n \\\"normalmente\\\" y \\\"dentro del cronograma previsto\\\". De las 21 rutas que ser\\u00e1n canceladas, dos tienen destino internacional con vuelos a Bogot\\u00e1 partiendo desde Fortaleza y Salvador, ambas en el noreste del pa\\u00eds. Con la cancelaci\\u00f3n de las rutas del Galeao, la ciudad m\\u00e1s afectada con la decisi\\u00f3n fue la capital Brasilia, que perder\\u00e1 el vuelo con el mayor aeropuerto de R\\u00edo de Janeiro y su conexi\\u00f3n directa con Cuiab\\u00e1 (oeste) y Fortaleza, Salvador y Macei\\u00f3 (noreste). La aerol\\u00ednea brasile\\u00f1a se acogi\\u00f3 en diciembre pasado a la ley de quiebras para garantizar la continuidad de sus operaciones y la sustentabilidad de su negocio, as\\u00ed como para reestructurar una elevada deuda que le acarre\\u00f3 varias demandas en los tribunales. El pasado 11 de marzo, la aerol\\u00ednea brasile\\u00f1a de bajo coste Azul, la tercera mayor compa\\u00f1\\u00eda a\\u00e9rea del pa\\u00eds, anunci\\u00f3 que firm\\u00f3 un acuerdo de intenci\\u00f3n por 105 millones de d\\u00f3lares para adquirir parte de los activos de Avianca Brasil. Entre esos activos est\\u00e1n el certificado de operador a\\u00e9reo de Avianca Brasil, setenta pares de \\\"slots\\\" -como se conoce a los derechos de despegar y aterrizar en aeropuertos congestionados- y aproximadamente treinta aeronaves Airbus A320. Avianca Brasil opera vuelos regulares desde el 2002 y en enero pasado anunci\\u00f3 el recorte de sus vuelos internacionales directos desde Guarulhos, que opera para Sao Paulo, a las ciudades de Santiago de Chile, Nueva York y Miami. OceanAir es una compa\\u00f1\\u00eda independiente de Avianca Holdings S.A. y utiliza comercialmente el nombre de \\\"Avianca Brasil\\\", en virtud de un acuerdo de licencia de uso de nombre que celebr\\u00f3 con Aerov\\u00edas del Continente Americano S.A, con sede en Colombia. EFE Miedo 11:19 p.m. Ejercite su mente en la cuarentena con este test de l\\u00f3gica matem\\u00e1tica Ponga a prueba esas clases de matem\\u00e1ticas del colegio y de la vida par . Manizales 10:00 p.m. Ya se venden medicamentos de cannabis con f\\u00f3rmula m\\u00e9dica En farmacias especializadas de Colombia es posible acceder a medicamen . Manizales 10:00 p.m. El gu\\u00eda de la salud mental del pueblo con m\\u00e1s casos de bipolaridad Coronavirus en Colombia 09:31 p.m. Una cabina de desinfecci\\u00f3n manual para Barranquilla Valle del Cauca 07:50 p.m. Se han recogido cerca de 132 mil mercados en 'Donat\\u00f3n Valle Solidario'.\"\n        ],\n        \"semantic_type\": \"\",\n        \"description\": \"\"\n      }\n    }\n  ]\n}"
            }
          },
          "metadata": {},
          "execution_count": 46
        }
      ],
      "source": [
        "df_preprocessed['cleaned_text'] = df_preprocessed['unified_text'].apply(preprocess_text)\n",
        "df_preprocessed.head(2)"
      ]
    },
    {
      "cell_type": "code",
      "execution_count": 47,
      "metadata": {
        "colab": {
          "base_uri": "https://localhost:8080/"
        },
        "id": "tEl23YHfT9Y2",
        "outputId": "c6213b2f-1557-4b63-d097-44ff1c701bec"
      },
      "outputs": [
        {
          "output_type": "stream",
          "name": "stdout",
          "text": [
            "Number of unique words: 66161\n",
            "First 10 words: {'<OOV>': 1, 'de': 2, 'la': 3, 'en': 4, 'el': 5, 'que': 6, 'y': 7, 'a': 8, 'del': 9, 'los': 10}\n"
          ]
        }
      ],
      "source": [
        "# oov token is used to replace the words which are not in the vocabulary (Out Of Vocabulary)\n",
        "tokenizer = Tokenizer(oov_token=\"<OOV>\")\n",
        "tokenizer.fit_on_texts(df_preprocessed['cleaned_text'])\n",
        "word_index = tokenizer.word_index\n",
        "print('Number of unique words:', len(word_index))\n",
        "print('First 10 words:', dict(list(word_index.items())[:10]))"
      ]
    },
    {
      "cell_type": "code",
      "execution_count": 48,
      "metadata": {
        "id": "MRLKdy9lT9Y2"
      },
      "outputs": [],
      "source": [
        "sequences = tokenizer.texts_to_sequences(df_preprocessed['cleaned_text'])\n",
        "max_length = 256\n",
        "X = pad_sequences(sequences, maxlen=max_length, padding='post')\n",
        "cats = df_preprocessed['Etiqueta'].astype('category').cat\n",
        "y = cats.codes.values\n",
        "encoded_category = dict(enumerate(cats.categories))"
      ]
    },
    {
      "cell_type": "markdown",
      "metadata": {
        "id": "Ec_ydTf_T9Y2"
      },
      "source": [
        "# Exercise 4\n",
        "Data split"
      ]
    },
    {
      "cell_type": "code",
      "execution_count": 49,
      "metadata": {
        "colab": {
          "base_uri": "https://localhost:8080/"
        },
        "id": "U-Jm-H6gT9Y2",
        "outputId": "4b1b1fc5-7030-462d-cc6b-1f9624128050"
      },
      "outputs": [
        {
          "output_type": "stream",
          "name": "stdout",
          "text": [
            "Training set size: (1908, 256) (1908,)\n",
            "Validation set size: (478, 256) (478,)\n"
          ]
        }
      ],
      "source": [
        "X_train, X_val, y_train, y_val = train_test_split(X, y, test_size=0.2, stratify=y, random_state=42)\n",
        "\n",
        "print(\"Training set size:\", X_train.shape, y_train.shape)\n",
        "print(\"Validation set size:\", X_val.shape, y_val.shape)"
      ]
    },
    {
      "cell_type": "markdown",
      "metadata": {
        "id": "wEgWrQ9HT9Y2"
      },
      "source": [
        "# Exercise 5\n",
        "RNN model"
      ]
    },
    {
      "cell_type": "code",
      "execution_count": 86,
      "metadata": {
        "colab": {
          "base_uri": "https://localhost:8080/",
          "height": 279
        },
        "id": "B9QP25ejT9Y2",
        "outputId": "ca6b914c-bea9-4455-f2e8-44c7cdfff32c"
      },
      "outputs": [
        {
          "output_type": "stream",
          "name": "stderr",
          "text": [
            "/usr/local/lib/python3.10/dist-packages/keras/src/layers/core/embedding.py:90: UserWarning: Argument `input_length` is deprecated. Just remove it.\n",
            "  warnings.warn(\n"
          ]
        },
        {
          "output_type": "display_data",
          "data": {
            "text/plain": [
              "\u001b[1mModel: \"sequential_7\"\u001b[0m\n"
            ],
            "text/html": [
              "<pre style=\"white-space:pre;overflow-x:auto;line-height:normal;font-family:Menlo,'DejaVu Sans Mono',consolas,'Courier New',monospace\"><span style=\"font-weight: bold\">Model: \"sequential_7\"</span>\n",
              "</pre>\n"
            ]
          },
          "metadata": {}
        },
        {
          "output_type": "display_data",
          "data": {
            "text/plain": [
              "┏━━━━━━━━━━━━━━━━━━━━━━━━━━━━━━━━━━━━━━┳━━━━━━━━━━━━━━━━━━━━━━━━━━━━━┳━━━━━━━━━━━━━━━━━┓\n",
              "┃\u001b[1m \u001b[0m\u001b[1mLayer (type)                        \u001b[0m\u001b[1m \u001b[0m┃\u001b[1m \u001b[0m\u001b[1mOutput Shape               \u001b[0m\u001b[1m \u001b[0m┃\u001b[1m \u001b[0m\u001b[1m        Param #\u001b[0m\u001b[1m \u001b[0m┃\n",
              "┡━━━━━━━━━━━━━━━━━━━━━━━━━━━━━━━━━━━━━━╇━━━━━━━━━━━━━━━━━━━━━━━━━━━━━╇━━━━━━━━━━━━━━━━━┩\n",
              "│ embedding_7 (\u001b[38;5;33mEmbedding\u001b[0m)              │ ?                           │     \u001b[38;5;34m0\u001b[0m (unbuilt) │\n",
              "├──────────────────────────────────────┼─────────────────────────────┼─────────────────┤\n",
              "│ simple_rnn_3 (\u001b[38;5;33mSimpleRNN\u001b[0m)             │ ?                           │     \u001b[38;5;34m0\u001b[0m (unbuilt) │\n",
              "├──────────────────────────────────────┼─────────────────────────────┼─────────────────┤\n",
              "│ dense_7 (\u001b[38;5;33mDense\u001b[0m)                      │ ?                           │     \u001b[38;5;34m0\u001b[0m (unbuilt) │\n",
              "└──────────────────────────────────────┴─────────────────────────────┴─────────────────┘\n"
            ],
            "text/html": [
              "<pre style=\"white-space:pre;overflow-x:auto;line-height:normal;font-family:Menlo,'DejaVu Sans Mono',consolas,'Courier New',monospace\">┏━━━━━━━━━━━━━━━━━━━━━━━━━━━━━━━━━━━━━━┳━━━━━━━━━━━━━━━━━━━━━━━━━━━━━┳━━━━━━━━━━━━━━━━━┓\n",
              "┃<span style=\"font-weight: bold\"> Layer (type)                         </span>┃<span style=\"font-weight: bold\"> Output Shape                </span>┃<span style=\"font-weight: bold\">         Param # </span>┃\n",
              "┡━━━━━━━━━━━━━━━━━━━━━━━━━━━━━━━━━━━━━━╇━━━━━━━━━━━━━━━━━━━━━━━━━━━━━╇━━━━━━━━━━━━━━━━━┩\n",
              "│ embedding_7 (<span style=\"color: #0087ff; text-decoration-color: #0087ff\">Embedding</span>)              │ ?                           │     <span style=\"color: #00af00; text-decoration-color: #00af00\">0</span> (unbuilt) │\n",
              "├──────────────────────────────────────┼─────────────────────────────┼─────────────────┤\n",
              "│ simple_rnn_3 (<span style=\"color: #0087ff; text-decoration-color: #0087ff\">SimpleRNN</span>)             │ ?                           │     <span style=\"color: #00af00; text-decoration-color: #00af00\">0</span> (unbuilt) │\n",
              "├──────────────────────────────────────┼─────────────────────────────┼─────────────────┤\n",
              "│ dense_7 (<span style=\"color: #0087ff; text-decoration-color: #0087ff\">Dense</span>)                      │ ?                           │     <span style=\"color: #00af00; text-decoration-color: #00af00\">0</span> (unbuilt) │\n",
              "└──────────────────────────────────────┴─────────────────────────────┴─────────────────┘\n",
              "</pre>\n"
            ]
          },
          "metadata": {}
        },
        {
          "output_type": "display_data",
          "data": {
            "text/plain": [
              "\u001b[1m Total params: \u001b[0m\u001b[38;5;34m0\u001b[0m (0.00 B)\n"
            ],
            "text/html": [
              "<pre style=\"white-space:pre;overflow-x:auto;line-height:normal;font-family:Menlo,'DejaVu Sans Mono',consolas,'Courier New',monospace\"><span style=\"font-weight: bold\"> Total params: </span><span style=\"color: #00af00; text-decoration-color: #00af00\">0</span> (0.00 B)\n",
              "</pre>\n"
            ]
          },
          "metadata": {}
        },
        {
          "output_type": "display_data",
          "data": {
            "text/plain": [
              "\u001b[1m Trainable params: \u001b[0m\u001b[38;5;34m0\u001b[0m (0.00 B)\n"
            ],
            "text/html": [
              "<pre style=\"white-space:pre;overflow-x:auto;line-height:normal;font-family:Menlo,'DejaVu Sans Mono',consolas,'Courier New',monospace\"><span style=\"font-weight: bold\"> Trainable params: </span><span style=\"color: #00af00; text-decoration-color: #00af00\">0</span> (0.00 B)\n",
              "</pre>\n"
            ]
          },
          "metadata": {}
        },
        {
          "output_type": "display_data",
          "data": {
            "text/plain": [
              "\u001b[1m Non-trainable params: \u001b[0m\u001b[38;5;34m0\u001b[0m (0.00 B)\n"
            ],
            "text/html": [
              "<pre style=\"white-space:pre;overflow-x:auto;line-height:normal;font-family:Menlo,'DejaVu Sans Mono',consolas,'Courier New',monospace\"><span style=\"font-weight: bold\"> Non-trainable params: </span><span style=\"color: #00af00; text-decoration-color: #00af00\">0</span> (0.00 B)\n",
              "</pre>\n"
            ]
          },
          "metadata": {}
        }
      ],
      "source": [
        "num_classes = len(encoded_category)\n",
        "y_train_cat = to_categorical(y_train, num_classes=num_classes)\n",
        "y_val_cat = to_categorical(y_val, num_classes=num_classes)\n",
        "\n",
        "model_rnn = Sequential()\n",
        "model_rnn.add(Embedding(\n",
        "    input_dim=len(word_index) + 1,\n",
        "    output_dim=100,\n",
        "    input_length=max_length\n",
        "))\n",
        "model_rnn.add(SimpleRNN(\n",
        "  units=512,\n",
        "  go_backwards=True,\n",
        "  dropout=0.1,\n",
        "  recurrent_dropout=0.1\n",
        "))\n",
        "model_rnn.add(Dense(num_classes, activation='softmax'))\n",
        "\n",
        "model_rnn.compile(\n",
        "    loss='categorical_crossentropy',\n",
        "    optimizer=Adam(learning_rate=0.01),\n",
        "    metrics=['accuracy']\n",
        ")\n",
        "model_rnn.summary()"
      ]
    },
    {
      "cell_type": "code",
      "execution_count": 87,
      "metadata": {
        "colab": {
          "base_uri": "https://localhost:8080/"
        },
        "id": "2M_vS1HlT9Y3",
        "outputId": "6a83f588-139c-4a80-9987-e0ba838654c4"
      },
      "outputs": [
        {
          "output_type": "stream",
          "name": "stdout",
          "text": [
            "Epoch 1/30\n",
            "\u001b[1m60/60\u001b[0m \u001b[32m━━━━━━━━━━━━━━━━━━━━\u001b[0m\u001b[37m\u001b[0m \u001b[1m7s\u001b[0m 71ms/step - accuracy: 0.1857 - loss: 2.6692 - val_accuracy: 0.1799 - val_loss: 2.0680\n",
            "Epoch 2/30\n",
            "\u001b[1m60/60\u001b[0m \u001b[32m━━━━━━━━━━━━━━━━━━━━\u001b[0m\u001b[37m\u001b[0m \u001b[1m2s\u001b[0m 35ms/step - accuracy: 0.2157 - loss: 2.0568 - val_accuracy: 0.2950 - val_loss: 1.9386\n",
            "Epoch 3/30\n",
            "\u001b[1m60/60\u001b[0m \u001b[32m━━━━━━━━━━━━━━━━━━━━\u001b[0m\u001b[37m\u001b[0m \u001b[1m2s\u001b[0m 35ms/step - accuracy: 0.2217 - loss: 2.0243 - val_accuracy: 0.2866 - val_loss: 1.9728\n",
            "Epoch 4/30\n",
            "\u001b[1m60/60\u001b[0m \u001b[32m━━━━━━━━━━━━━━━━━━━━\u001b[0m\u001b[37m\u001b[0m \u001b[1m2s\u001b[0m 35ms/step - accuracy: 0.2593 - loss: 2.1427 - val_accuracy: 0.2782 - val_loss: 1.9968\n",
            "Epoch 5/30\n",
            "\u001b[1m60/60\u001b[0m \u001b[32m━━━━━━━━━━━━━━━━━━━━\u001b[0m\u001b[37m\u001b[0m \u001b[1m2s\u001b[0m 34ms/step - accuracy: 0.3047 - loss: 1.8560 - val_accuracy: 0.2385 - val_loss: 2.0149\n",
            "Epoch 6/30\n",
            "\u001b[1m60/60\u001b[0m \u001b[32m━━━━━━━━━━━━━━━━━━━━\u001b[0m\u001b[37m\u001b[0m \u001b[1m2s\u001b[0m 34ms/step - accuracy: 0.3245 - loss: 1.8419 - val_accuracy: 0.2720 - val_loss: 2.6556\n",
            "Epoch 7/30\n",
            "\u001b[1m60/60\u001b[0m \u001b[32m━━━━━━━━━━━━━━━━━━━━\u001b[0m\u001b[37m\u001b[0m \u001b[1m2s\u001b[0m 35ms/step - accuracy: 0.3830 - loss: 1.7439 - val_accuracy: 0.2552 - val_loss: 1.9711\n",
            "Epoch 8/30\n",
            "\u001b[1m60/60\u001b[0m \u001b[32m━━━━━━━━━━━━━━━━━━━━\u001b[0m\u001b[37m\u001b[0m \u001b[1m2s\u001b[0m 34ms/step - accuracy: 0.4023 - loss: 1.6152 - val_accuracy: 0.2636 - val_loss: 2.3167\n",
            "Epoch 9/30\n",
            "\u001b[1m60/60\u001b[0m \u001b[32m━━━━━━━━━━━━━━━━━━━━\u001b[0m\u001b[37m\u001b[0m \u001b[1m2s\u001b[0m 35ms/step - accuracy: 0.5036 - loss: 1.4800 - val_accuracy: 0.2657 - val_loss: 2.3969\n",
            "Epoch 10/30\n",
            "\u001b[1m60/60\u001b[0m \u001b[32m━━━━━━━━━━━━━━━━━━━━\u001b[0m\u001b[37m\u001b[0m \u001b[1m2s\u001b[0m 34ms/step - accuracy: 0.4267 - loss: 1.6116 - val_accuracy: 0.2741 - val_loss: 2.1179\n",
            "Epoch 11/30\n",
            "\u001b[1m60/60\u001b[0m \u001b[32m━━━━━━━━━━━━━━━━━━━━\u001b[0m\u001b[37m\u001b[0m \u001b[1m2s\u001b[0m 34ms/step - accuracy: 0.4987 - loss: 1.3984 - val_accuracy: 0.2657 - val_loss: 2.3912\n",
            "Epoch 12/30\n",
            "\u001b[1m60/60\u001b[0m \u001b[32m━━━━━━━━━━━━━━━━━━━━\u001b[0m\u001b[37m\u001b[0m \u001b[1m2s\u001b[0m 34ms/step - accuracy: 0.5748 - loss: 1.2180 - val_accuracy: 0.2280 - val_loss: 3.0289\n",
            "Epoch 13/30\n",
            "\u001b[1m60/60\u001b[0m \u001b[32m━━━━━━━━━━━━━━━━━━━━\u001b[0m\u001b[37m\u001b[0m \u001b[1m2s\u001b[0m 34ms/step - accuracy: 0.5806 - loss: 1.3387 - val_accuracy: 0.2343 - val_loss: 2.6134\n",
            "Epoch 14/30\n",
            "\u001b[1m60/60\u001b[0m \u001b[32m━━━━━━━━━━━━━━━━━━━━\u001b[0m\u001b[37m\u001b[0m \u001b[1m2s\u001b[0m 35ms/step - accuracy: 0.6195 - loss: 1.1683 - val_accuracy: 0.2364 - val_loss: 2.5376\n",
            "Epoch 15/30\n",
            "\u001b[1m60/60\u001b[0m \u001b[32m━━━━━━━━━━━━━━━━━━━━\u001b[0m\u001b[37m\u001b[0m \u001b[1m2s\u001b[0m 35ms/step - accuracy: 0.6992 - loss: 0.9894 - val_accuracy: 0.2866 - val_loss: 2.6774\n",
            "Epoch 16/30\n",
            "\u001b[1m60/60\u001b[0m \u001b[32m━━━━━━━━━━━━━━━━━━━━\u001b[0m\u001b[37m\u001b[0m \u001b[1m2s\u001b[0m 34ms/step - accuracy: 0.7015 - loss: 0.9780 - val_accuracy: 0.2573 - val_loss: 2.7626\n",
            "Epoch 17/30\n",
            "\u001b[1m60/60\u001b[0m \u001b[32m━━━━━━━━━━━━━━━━━━━━\u001b[0m\u001b[37m\u001b[0m \u001b[1m2s\u001b[0m 34ms/step - accuracy: 0.6868 - loss: 0.9843 - val_accuracy: 0.2259 - val_loss: 3.4446\n",
            "Epoch 18/30\n",
            "\u001b[1m60/60\u001b[0m \u001b[32m━━━━━━━━━━━━━━━━━━━━\u001b[0m\u001b[37m\u001b[0m \u001b[1m2s\u001b[0m 34ms/step - accuracy: 0.7233 - loss: 0.8994 - val_accuracy: 0.2636 - val_loss: 3.2552\n",
            "Epoch 19/30\n",
            "\u001b[1m60/60\u001b[0m \u001b[32m━━━━━━━━━━━━━━━━━━━━\u001b[0m\u001b[37m\u001b[0m \u001b[1m2s\u001b[0m 34ms/step - accuracy: 0.6994 - loss: 0.9794 - val_accuracy: 0.2385 - val_loss: 2.8272\n",
            "Epoch 20/30\n",
            "\u001b[1m60/60\u001b[0m \u001b[32m━━━━━━━━━━━━━━━━━━━━\u001b[0m\u001b[37m\u001b[0m \u001b[1m2s\u001b[0m 35ms/step - accuracy: 0.7158 - loss: 0.9645 - val_accuracy: 0.2071 - val_loss: 3.4228\n",
            "Epoch 21/30\n",
            "\u001b[1m60/60\u001b[0m \u001b[32m━━━━━━━━━━━━━━━━━━━━\u001b[0m\u001b[37m\u001b[0m \u001b[1m2s\u001b[0m 35ms/step - accuracy: 0.7121 - loss: 0.8795 - val_accuracy: 0.2448 - val_loss: 3.4644\n",
            "Epoch 22/30\n",
            "\u001b[1m60/60\u001b[0m \u001b[32m━━━━━━━━━━━━━━━━━━━━\u001b[0m\u001b[37m\u001b[0m \u001b[1m2s\u001b[0m 34ms/step - accuracy: 0.7193 - loss: 0.8882 - val_accuracy: 0.2113 - val_loss: 3.0938\n",
            "Epoch 23/30\n",
            "\u001b[1m60/60\u001b[0m \u001b[32m━━━━━━━━━━━━━━━━━━━━\u001b[0m\u001b[37m\u001b[0m \u001b[1m2s\u001b[0m 34ms/step - accuracy: 0.7269 - loss: 0.8506 - val_accuracy: 0.2322 - val_loss: 3.3468\n",
            "Epoch 24/30\n",
            "\u001b[1m60/60\u001b[0m \u001b[32m━━━━━━━━━━━━━━━━━━━━\u001b[0m\u001b[37m\u001b[0m \u001b[1m2s\u001b[0m 34ms/step - accuracy: 0.7373 - loss: 0.8170 - val_accuracy: 0.2385 - val_loss: 3.7645\n",
            "Epoch 25/30\n",
            "\u001b[1m60/60\u001b[0m \u001b[32m━━━━━━━━━━━━━━━━━━━━\u001b[0m\u001b[37m\u001b[0m \u001b[1m2s\u001b[0m 34ms/step - accuracy: 0.7501 - loss: 0.7746 - val_accuracy: 0.1946 - val_loss: 3.6765\n",
            "Epoch 26/30\n",
            "\u001b[1m60/60\u001b[0m \u001b[32m━━━━━━━━━━━━━━━━━━━━\u001b[0m\u001b[37m\u001b[0m \u001b[1m2s\u001b[0m 35ms/step - accuracy: 0.7642 - loss: 0.7704 - val_accuracy: 0.1925 - val_loss: 4.1448\n",
            "Epoch 27/30\n",
            "\u001b[1m60/60\u001b[0m \u001b[32m━━━━━━━━━━━━━━━━━━━━\u001b[0m\u001b[37m\u001b[0m \u001b[1m2s\u001b[0m 34ms/step - accuracy: 0.7793 - loss: 0.6992 - val_accuracy: 0.2427 - val_loss: 3.4551\n",
            "Epoch 28/30\n",
            "\u001b[1m60/60\u001b[0m \u001b[32m━━━━━━━━━━━━━━━━━━━━\u001b[0m\u001b[37m\u001b[0m \u001b[1m2s\u001b[0m 34ms/step - accuracy: 0.7825 - loss: 0.6517 - val_accuracy: 0.2469 - val_loss: 3.0297\n",
            "Epoch 29/30\n",
            "\u001b[1m60/60\u001b[0m \u001b[32m━━━━━━━━━━━━━━━━━━━━\u001b[0m\u001b[37m\u001b[0m \u001b[1m2s\u001b[0m 34ms/step - accuracy: 0.7667 - loss: 0.7882 - val_accuracy: 0.2322 - val_loss: 4.9068\n",
            "Epoch 30/30\n",
            "\u001b[1m60/60\u001b[0m \u001b[32m━━━━━━━━━━━━━━━━━━━━\u001b[0m\u001b[37m\u001b[0m \u001b[1m2s\u001b[0m 34ms/step - accuracy: 0.8356 - loss: 0.5421 - val_accuracy: 0.2029 - val_loss: 3.6761\n"
          ]
        }
      ],
      "source": [
        "history_rnn = model_rnn.fit(\n",
        "    X_train,\n",
        "    y_train_cat,\n",
        "    validation_data=(X_val, y_val_cat),\n",
        "    epochs=30,\n",
        "    verbose=1\n",
        ")"
      ]
    },
    {
      "cell_type": "markdown",
      "metadata": {
        "id": "rcQFCgy-T9Y3"
      },
      "source": [
        "### Store model"
      ]
    },
    {
      "cell_type": "code",
      "execution_count": 88,
      "metadata": {
        "colab": {
          "base_uri": "https://localhost:8080/"
        },
        "id": "vRPo99DGT9Y3",
        "outputId": "30bb5b29-c15e-4aa8-b027-ffba92b99801"
      },
      "outputs": [
        {
          "output_type": "stream",
          "name": "stderr",
          "text": [
            "WARNING:absl:You are saving your model as an HDF5 file via `model.save()` or `keras.saving.save_model(model)`. This file format is considered legacy. We recommend using instead the native Keras format, e.g. `model.save('my_model.keras')` or `keras.saving.save_model(model, 'my_model.keras')`. \n"
          ]
        }
      ],
      "source": [
        "model_rnn.save('models/history_rnn.h5')"
      ]
    },
    {
      "cell_type": "markdown",
      "metadata": {
        "id": "wC1UIomIT9Y3"
      },
      "source": [
        "# Exercise 6\n",
        "LSTM model"
      ]
    },
    {
      "cell_type": "code",
      "execution_count": 89,
      "metadata": {
        "colab": {
          "base_uri": "https://localhost:8080/",
          "height": 225
        },
        "id": "QxzDTif1T9Y3",
        "outputId": "ebb7f446-d7ba-4ab0-ff19-604a4e7bffdd"
      },
      "outputs": [
        {
          "output_type": "display_data",
          "data": {
            "text/plain": [
              "\u001b[1mModel: \"sequential_8\"\u001b[0m\n"
            ],
            "text/html": [
              "<pre style=\"white-space:pre;overflow-x:auto;line-height:normal;font-family:Menlo,'DejaVu Sans Mono',consolas,'Courier New',monospace\"><span style=\"font-weight: bold\">Model: \"sequential_8\"</span>\n",
              "</pre>\n"
            ]
          },
          "metadata": {}
        },
        {
          "output_type": "display_data",
          "data": {
            "text/plain": [
              "┏━━━━━━━━━━━━━━━━━━━━━━━━━━━━━━━━━━━━━━┳━━━━━━━━━━━━━━━━━━━━━━━━━━━━━┳━━━━━━━━━━━━━━━━━┓\n",
              "┃\u001b[1m \u001b[0m\u001b[1mLayer (type)                        \u001b[0m\u001b[1m \u001b[0m┃\u001b[1m \u001b[0m\u001b[1mOutput Shape               \u001b[0m\u001b[1m \u001b[0m┃\u001b[1m \u001b[0m\u001b[1m        Param #\u001b[0m\u001b[1m \u001b[0m┃\n",
              "┡━━━━━━━━━━━━━━━━━━━━━━━━━━━━━━━━━━━━━━╇━━━━━━━━━━━━━━━━━━━━━━━━━━━━━╇━━━━━━━━━━━━━━━━━┩\n",
              "│ embedding_8 (\u001b[38;5;33mEmbedding\u001b[0m)              │ ?                           │     \u001b[38;5;34m0\u001b[0m (unbuilt) │\n",
              "├──────────────────────────────────────┼─────────────────────────────┼─────────────────┤\n",
              "│ lstm_4 (\u001b[38;5;33mLSTM\u001b[0m)                        │ ?                           │     \u001b[38;5;34m0\u001b[0m (unbuilt) │\n",
              "├──────────────────────────────────────┼─────────────────────────────┼─────────────────┤\n",
              "│ dense_8 (\u001b[38;5;33mDense\u001b[0m)                      │ ?                           │     \u001b[38;5;34m0\u001b[0m (unbuilt) │\n",
              "└──────────────────────────────────────┴─────────────────────────────┴─────────────────┘\n"
            ],
            "text/html": [
              "<pre style=\"white-space:pre;overflow-x:auto;line-height:normal;font-family:Menlo,'DejaVu Sans Mono',consolas,'Courier New',monospace\">┏━━━━━━━━━━━━━━━━━━━━━━━━━━━━━━━━━━━━━━┳━━━━━━━━━━━━━━━━━━━━━━━━━━━━━┳━━━━━━━━━━━━━━━━━┓\n",
              "┃<span style=\"font-weight: bold\"> Layer (type)                         </span>┃<span style=\"font-weight: bold\"> Output Shape                </span>┃<span style=\"font-weight: bold\">         Param # </span>┃\n",
              "┡━━━━━━━━━━━━━━━━━━━━━━━━━━━━━━━━━━━━━━╇━━━━━━━━━━━━━━━━━━━━━━━━━━━━━╇━━━━━━━━━━━━━━━━━┩\n",
              "│ embedding_8 (<span style=\"color: #0087ff; text-decoration-color: #0087ff\">Embedding</span>)              │ ?                           │     <span style=\"color: #00af00; text-decoration-color: #00af00\">0</span> (unbuilt) │\n",
              "├──────────────────────────────────────┼─────────────────────────────┼─────────────────┤\n",
              "│ lstm_4 (<span style=\"color: #0087ff; text-decoration-color: #0087ff\">LSTM</span>)                        │ ?                           │     <span style=\"color: #00af00; text-decoration-color: #00af00\">0</span> (unbuilt) │\n",
              "├──────────────────────────────────────┼─────────────────────────────┼─────────────────┤\n",
              "│ dense_8 (<span style=\"color: #0087ff; text-decoration-color: #0087ff\">Dense</span>)                      │ ?                           │     <span style=\"color: #00af00; text-decoration-color: #00af00\">0</span> (unbuilt) │\n",
              "└──────────────────────────────────────┴─────────────────────────────┴─────────────────┘\n",
              "</pre>\n"
            ]
          },
          "metadata": {}
        },
        {
          "output_type": "display_data",
          "data": {
            "text/plain": [
              "\u001b[1m Total params: \u001b[0m\u001b[38;5;34m0\u001b[0m (0.00 B)\n"
            ],
            "text/html": [
              "<pre style=\"white-space:pre;overflow-x:auto;line-height:normal;font-family:Menlo,'DejaVu Sans Mono',consolas,'Courier New',monospace\"><span style=\"font-weight: bold\"> Total params: </span><span style=\"color: #00af00; text-decoration-color: #00af00\">0</span> (0.00 B)\n",
              "</pre>\n"
            ]
          },
          "metadata": {}
        },
        {
          "output_type": "display_data",
          "data": {
            "text/plain": [
              "\u001b[1m Trainable params: \u001b[0m\u001b[38;5;34m0\u001b[0m (0.00 B)\n"
            ],
            "text/html": [
              "<pre style=\"white-space:pre;overflow-x:auto;line-height:normal;font-family:Menlo,'DejaVu Sans Mono',consolas,'Courier New',monospace\"><span style=\"font-weight: bold\"> Trainable params: </span><span style=\"color: #00af00; text-decoration-color: #00af00\">0</span> (0.00 B)\n",
              "</pre>\n"
            ]
          },
          "metadata": {}
        },
        {
          "output_type": "display_data",
          "data": {
            "text/plain": [
              "\u001b[1m Non-trainable params: \u001b[0m\u001b[38;5;34m0\u001b[0m (0.00 B)\n"
            ],
            "text/html": [
              "<pre style=\"white-space:pre;overflow-x:auto;line-height:normal;font-family:Menlo,'DejaVu Sans Mono',consolas,'Courier New',monospace\"><span style=\"font-weight: bold\"> Non-trainable params: </span><span style=\"color: #00af00; text-decoration-color: #00af00\">0</span> (0.00 B)\n",
              "</pre>\n"
            ]
          },
          "metadata": {}
        }
      ],
      "source": [
        "model_lstm = Sequential()\n",
        "model_lstm.add(Embedding(\n",
        "  input_dim=len(word_index) + 1,\n",
        "  output_dim=100,\n",
        "  input_length=max_length\n",
        "))\n",
        "model_lstm.add(LSTM(units=1024, go_backwards=True))\n",
        "model_lstm.add(Dense(num_classes, activation='softmax'))\n",
        "\n",
        "model_lstm.compile(\n",
        "  loss='categorical_crossentropy',\n",
        "  optimizer=Adam(learning_rate=0.01),\n",
        "  metrics=['accuracy']\n",
        ")\n",
        "model_lstm.summary()"
      ]
    },
    {
      "cell_type": "code",
      "source": [
        "history_lstm = model_lstm.fit(\n",
        "  X_train,\n",
        "  y_train_cat,\n",
        "  validation_data=(X_val, y_val_cat),\n",
        "  epochs=25,\n",
        "  batch_size=32\n",
        ")"
      ],
      "metadata": {
        "colab": {
          "base_uri": "https://localhost:8080/"
        },
        "id": "u856K8GgWJN-",
        "outputId": "0c6662dc-6c92-4909-a3cf-b769dbcc5b0c"
      },
      "execution_count": 90,
      "outputs": [
        {
          "output_type": "stream",
          "name": "stdout",
          "text": [
            "Epoch 1/25\n",
            "\u001b[1m60/60\u001b[0m \u001b[32m━━━━━━━━━━━━━━━━━━━━\u001b[0m\u001b[37m\u001b[0m \u001b[1m4s\u001b[0m 25ms/step - accuracy: 0.2212 - loss: 2.9127 - val_accuracy: 0.2950 - val_loss: 2.0031\n",
            "Epoch 2/25\n",
            "\u001b[1m60/60\u001b[0m \u001b[32m━━━━━━━━━━━━━━━━━━━━\u001b[0m\u001b[37m\u001b[0m \u001b[1m1s\u001b[0m 20ms/step - accuracy: 0.2107 - loss: 2.0058 - val_accuracy: 0.2950 - val_loss: 1.8715\n",
            "Epoch 3/25\n",
            "\u001b[1m60/60\u001b[0m \u001b[32m━━━━━━━━━━━━━━━━━━━━\u001b[0m\u001b[37m\u001b[0m \u001b[1m1s\u001b[0m 20ms/step - accuracy: 0.3032 - loss: 1.8486 - val_accuracy: 0.2134 - val_loss: 2.1803\n",
            "Epoch 4/25\n",
            "\u001b[1m60/60\u001b[0m \u001b[32m━━━━━━━━━━━━━━━━━━━━\u001b[0m\u001b[37m\u001b[0m \u001b[1m1s\u001b[0m 20ms/step - accuracy: 0.4194 - loss: 1.6412 - val_accuracy: 0.2071 - val_loss: 2.1791\n",
            "Epoch 5/25\n",
            "\u001b[1m60/60\u001b[0m \u001b[32m━━━━━━━━━━━━━━━━━━━━\u001b[0m\u001b[37m\u001b[0m \u001b[1m1s\u001b[0m 20ms/step - accuracy: 0.4323 - loss: 1.6498 - val_accuracy: 0.2657 - val_loss: 2.2629\n",
            "Epoch 6/25\n",
            "\u001b[1m60/60\u001b[0m \u001b[32m━━━━━━━━━━━━━━━━━━━━\u001b[0m\u001b[37m\u001b[0m \u001b[1m1s\u001b[0m 20ms/step - accuracy: 0.5043 - loss: 1.4057 - val_accuracy: 0.1715 - val_loss: 2.1544\n",
            "Epoch 7/25\n",
            "\u001b[1m60/60\u001b[0m \u001b[32m━━━━━━━━━━━━━━━━━━━━\u001b[0m\u001b[37m\u001b[0m \u001b[1m1s\u001b[0m 21ms/step - accuracy: 0.5582 - loss: 1.2369 - val_accuracy: 0.2155 - val_loss: 2.3124\n",
            "Epoch 8/25\n",
            "\u001b[1m60/60\u001b[0m \u001b[32m━━━━━━━━━━━━━━━━━━━━\u001b[0m\u001b[37m\u001b[0m \u001b[1m1s\u001b[0m 20ms/step - accuracy: 0.5822 - loss: 1.1778 - val_accuracy: 0.2782 - val_loss: 2.3173\n",
            "Epoch 9/25\n",
            "\u001b[1m60/60\u001b[0m \u001b[32m━━━━━━━━━━━━━━━━━━━━\u001b[0m\u001b[37m\u001b[0m \u001b[1m1s\u001b[0m 21ms/step - accuracy: 0.6490 - loss: 1.0032 - val_accuracy: 0.2531 - val_loss: 2.4740\n",
            "Epoch 10/25\n",
            "\u001b[1m60/60\u001b[0m \u001b[32m━━━━━━━━━━━━━━━━━━━━\u001b[0m\u001b[37m\u001b[0m \u001b[1m1s\u001b[0m 20ms/step - accuracy: 0.6331 - loss: 1.0150 - val_accuracy: 0.2343 - val_loss: 2.6793\n",
            "Epoch 11/25\n",
            "\u001b[1m60/60\u001b[0m \u001b[32m━━━━━━━━━━━━━━━━━━━━\u001b[0m\u001b[37m\u001b[0m \u001b[1m1s\u001b[0m 20ms/step - accuracy: 0.6824 - loss: 0.8577 - val_accuracy: 0.2301 - val_loss: 2.8894\n",
            "Epoch 12/25\n",
            "\u001b[1m60/60\u001b[0m \u001b[32m━━━━━━━━━━━━━━━━━━━━\u001b[0m\u001b[37m\u001b[0m \u001b[1m1s\u001b[0m 20ms/step - accuracy: 0.7091 - loss: 0.7903 - val_accuracy: 0.2636 - val_loss: 3.0728\n",
            "Epoch 13/25\n",
            "\u001b[1m60/60\u001b[0m \u001b[32m━━━━━━━━━━━━━━━━━━━━\u001b[0m\u001b[37m\u001b[0m \u001b[1m1s\u001b[0m 20ms/step - accuracy: 0.7350 - loss: 0.7181 - val_accuracy: 0.2280 - val_loss: 3.2011\n",
            "Epoch 14/25\n",
            "\u001b[1m60/60\u001b[0m \u001b[32m━━━━━━━━━━━━━━━━━━━━\u001b[0m\u001b[37m\u001b[0m \u001b[1m1s\u001b[0m 20ms/step - accuracy: 0.7923 - loss: 0.5884 - val_accuracy: 0.2238 - val_loss: 3.3227\n",
            "Epoch 15/25\n",
            "\u001b[1m60/60\u001b[0m \u001b[32m━━━━━━━━━━━━━━━━━━━━\u001b[0m\u001b[37m\u001b[0m \u001b[1m1s\u001b[0m 20ms/step - accuracy: 0.8190 - loss: 0.5286 - val_accuracy: 0.2552 - val_loss: 3.8404\n",
            "Epoch 16/25\n",
            "\u001b[1m60/60\u001b[0m \u001b[32m━━━━━━━━━━━━━━━━━━━━\u001b[0m\u001b[37m\u001b[0m \u001b[1m1s\u001b[0m 20ms/step - accuracy: 0.8406 - loss: 0.4841 - val_accuracy: 0.2427 - val_loss: 3.5724\n",
            "Epoch 17/25\n",
            "\u001b[1m60/60\u001b[0m \u001b[32m━━━━━━━━━━━━━━━━━━━━\u001b[0m\u001b[37m\u001b[0m \u001b[1m1s\u001b[0m 20ms/step - accuracy: 0.8425 - loss: 0.4628 - val_accuracy: 0.2322 - val_loss: 3.9659\n",
            "Epoch 18/25\n",
            "\u001b[1m60/60\u001b[0m \u001b[32m━━━━━━━━━━━━━━━━━━━━\u001b[0m\u001b[37m\u001b[0m \u001b[1m1s\u001b[0m 21ms/step - accuracy: 0.8988 - loss: 0.3326 - val_accuracy: 0.2301 - val_loss: 4.0422\n",
            "Epoch 19/25\n",
            "\u001b[1m60/60\u001b[0m \u001b[32m━━━━━━━━━━━━━━━━━━━━\u001b[0m\u001b[37m\u001b[0m \u001b[1m1s\u001b[0m 20ms/step - accuracy: 0.8863 - loss: 0.3429 - val_accuracy: 0.2510 - val_loss: 4.5616\n",
            "Epoch 20/25\n",
            "\u001b[1m60/60\u001b[0m \u001b[32m━━━━━━━━━━━━━━━━━━━━\u001b[0m\u001b[37m\u001b[0m \u001b[1m1s\u001b[0m 20ms/step - accuracy: 0.8640 - loss: 0.3582 - val_accuracy: 0.2238 - val_loss: 5.0025\n",
            "Epoch 21/25\n",
            "\u001b[1m60/60\u001b[0m \u001b[32m━━━━━━━━━━━━━━━━━━━━\u001b[0m\u001b[37m\u001b[0m \u001b[1m1s\u001b[0m 20ms/step - accuracy: 0.8970 - loss: 0.3196 - val_accuracy: 0.2280 - val_loss: 4.8526\n",
            "Epoch 22/25\n",
            "\u001b[1m60/60\u001b[0m \u001b[32m━━━━━━━━━━━━━━━━━━━━\u001b[0m\u001b[37m\u001b[0m \u001b[1m1s\u001b[0m 20ms/step - accuracy: 0.9332 - loss: 0.2108 - val_accuracy: 0.2197 - val_loss: 5.0462\n",
            "Epoch 23/25\n",
            "\u001b[1m60/60\u001b[0m \u001b[32m━━━━━━━━━━━━━━━━━━━━\u001b[0m\u001b[37m\u001b[0m \u001b[1m1s\u001b[0m 20ms/step - accuracy: 0.9288 - loss: 0.2416 - val_accuracy: 0.2280 - val_loss: 5.3026\n",
            "Epoch 24/25\n",
            "\u001b[1m60/60\u001b[0m \u001b[32m━━━━━━━━━━━━━━━━━━━━\u001b[0m\u001b[37m\u001b[0m \u001b[1m1s\u001b[0m 20ms/step - accuracy: 0.9377 - loss: 0.2118 - val_accuracy: 0.2490 - val_loss: 5.0896\n",
            "Epoch 25/25\n",
            "\u001b[1m60/60\u001b[0m \u001b[32m━━━━━━━━━━━━━━━━━━━━\u001b[0m\u001b[37m\u001b[0m \u001b[1m1s\u001b[0m 20ms/step - accuracy: 0.9278 - loss: 0.2402 - val_accuracy: 0.2176 - val_loss: 4.9157\n"
          ]
        }
      ]
    },
    {
      "cell_type": "markdown",
      "metadata": {
        "id": "xfKgtBnOT9Y3"
      },
      "source": [
        "### Store model"
      ]
    },
    {
      "cell_type": "code",
      "execution_count": 91,
      "metadata": {
        "colab": {
          "base_uri": "https://localhost:8080/"
        },
        "id": "fU8hlFHYT9Y3",
        "outputId": "81f75c99-f127-4af2-9d16-be7a4f3198f7"
      },
      "outputs": [
        {
          "output_type": "stream",
          "name": "stderr",
          "text": [
            "WARNING:absl:You are saving your model as an HDF5 file via `model.save()` or `keras.saving.save_model(model)`. This file format is considered legacy. We recommend using instead the native Keras format, e.g. `model.save('my_model.keras')` or `keras.saving.save_model(model, 'my_model.keras')`. \n"
          ]
        }
      ],
      "source": [
        "model_lstm.save('models/history_lstm.h5')"
      ]
    },
    {
      "cell_type": "markdown",
      "metadata": {
        "id": "0ORYM5WYT9Y3"
      },
      "source": [
        "# Exercise 7\n",
        "Models evaluation"
      ]
    },
    {
      "cell_type": "code",
      "execution_count": 92,
      "metadata": {
        "colab": {
          "base_uri": "https://localhost:8080/"
        },
        "id": "L_vLFBoAT9Y3",
        "outputId": "112a25bf-6e5f-4a0d-a483-a9e1e1273350"
      },
      "outputs": [
        {
          "output_type": "stream",
          "name": "stdout",
          "text": [
            "\u001b[1m15/15\u001b[0m \u001b[32m━━━━━━━━━━━━━━━━━━━━\u001b[0m\u001b[37m\u001b[0m \u001b[1m1s\u001b[0m 34ms/step\n",
            "\u001b[1m15/15\u001b[0m \u001b[32m━━━━━━━━━━━━━━━━━━━━\u001b[0m\u001b[37m\u001b[0m \u001b[1m0s\u001b[0m 14ms/step\n"
          ]
        }
      ],
      "source": [
        "y_val_pred_rnn = model_rnn.predict(X_val)\n",
        "y_val_pred_rnn_classes = y_val_pred_rnn.argmax(axis=1)\n",
        "\n",
        "# LSTM predictions\n",
        "y_val_pred_lstm = model_lstm.predict(X_val)\n",
        "y_val_pred_lstm_classes = y_val_pred_lstm.argmax(axis=1)"
      ]
    },
    {
      "cell_type": "code",
      "source": [
        "y_encoded_cats = { k: v for k, v in encoded_category.items() if k in set(y_val) }\n",
        "print(y_encoded_cats)"
      ],
      "metadata": {
        "colab": {
          "base_uri": "https://localhost:8080/"
        },
        "id": "YfiKiiCIz1-B",
        "outputId": "b8c618fb-7a32-49b1-da4a-c13eae7c200b"
      },
      "execution_count": 93,
      "outputs": [
        {
          "output_type": "stream",
          "name": "stdout",
          "text": [
            "{0: 'cultura', 1: 'deportes', 2: 'economia', 3: 'justicia', 4: 'politica', 5: 'salud', 6: 'tecnosfera'}\n"
          ]
        }
      ]
    },
    {
      "cell_type": "code",
      "execution_count": 94,
      "metadata": {
        "colab": {
          "base_uri": "https://localhost:8080/"
        },
        "id": "PWAZlkz_T9Y3",
        "outputId": "c53b455e-7b44-4208-b781-10867def6273"
      },
      "outputs": [
        {
          "output_type": "stream",
          "name": "stdout",
          "text": [
            "RNN Classification Report:\n",
            "              precision    recall  f1-score   support\n",
            "\n",
            "     cultura       0.18      0.11      0.14        83\n",
            "    deportes       0.46      0.38      0.42       141\n",
            "    economia       0.22      0.07      0.10        73\n",
            "    justicia       0.15      0.12      0.13        68\n",
            "    politica       0.25      0.06      0.10        50\n",
            "       salud       0.08      0.19      0.11        21\n",
            "  tecnosfera       0.09      0.36      0.14        42\n",
            "\n",
            "    accuracy                           0.20       478\n",
            "   macro avg       0.20      0.18      0.16       478\n",
            "weighted avg       0.26      0.20      0.21       478\n",
            "\n"
          ]
        }
      ],
      "source": [
        "print(\"RNN Classification Report:\")\n",
        "print(classification_report(y_val, y_val_pred_rnn_classes, target_names=y_encoded_cats.values()))"
      ]
    },
    {
      "cell_type": "code",
      "source": [
        "y_encoded_cats.values()"
      ],
      "metadata": {
        "id": "OoEXZiK9nMOB",
        "outputId": "30b1331e-42fa-4200-8255-12dd30b8250a",
        "colab": {
          "base_uri": "https://localhost:8080/"
        }
      },
      "execution_count": 95,
      "outputs": [
        {
          "output_type": "execute_result",
          "data": {
            "text/plain": [
              "dict_values(['cultura', 'deportes', 'economia', 'justicia', 'politica', 'salud', 'tecnosfera'])"
            ]
          },
          "metadata": {},
          "execution_count": 95
        }
      ]
    },
    {
      "cell_type": "code",
      "source": [
        "print(\"LSTM Classification Report:\")\n",
        "print(classification_report(y_val, y_val_pred_lstm_classes, target_names=y_encoded_cats.values()))"
      ],
      "metadata": {
        "colab": {
          "base_uri": "https://localhost:8080/"
        },
        "id": "pmUtH9Lr2IeM",
        "outputId": "ec06964e-b04f-4fd1-8b85-7f3cd2b3e1de"
      },
      "execution_count": 96,
      "outputs": [
        {
          "output_type": "stream",
          "name": "stdout",
          "text": [
            "LSTM Classification Report:\n",
            "              precision    recall  f1-score   support\n",
            "\n",
            "     cultura       0.28      0.11      0.16        83\n",
            "    deportes       0.41      0.34      0.37       141\n",
            "    economia       0.25      0.19      0.22        73\n",
            "    justicia       0.17      0.18      0.17        68\n",
            "    politica       0.15      0.36      0.21        50\n",
            "       salud       0.00      0.00      0.00        21\n",
            "  tecnosfera       0.04      0.07      0.05        42\n",
            "\n",
            "    accuracy                           0.22       478\n",
            "   macro avg       0.19      0.18      0.17       478\n",
            "weighted avg       0.25      0.22      0.22       478\n",
            "\n"
          ]
        }
      ]
    },
    {
      "cell_type": "code",
      "source": [
        "plt.figure(figsize=(12, 5))\n",
        "\n",
        "plt.subplot(1, 2, 1)\n",
        "plt.plot(history_rnn.history['accuracy'], label='RNN Train')\n",
        "plt.plot(history_rnn.history['val_accuracy'], label='RNN Val')\n",
        "plt.title('RNN Accuracy')\n",
        "plt.xlabel('Epoch')\n",
        "plt.ylabel('Accuracy')\n",
        "plt.legend()\n",
        "\n",
        "plt.subplot(1, 2, 2)\n",
        "plt.plot(history_lstm.history['accuracy'], label='LSTM Train')\n",
        "plt.plot(history_lstm.history['val_accuracy'], label='LSTM Val')\n",
        "plt.title('LSTM Accuracy')\n",
        "plt.xlabel('Epoch')\n",
        "plt.ylabel('Accuracy')\n",
        "plt.legend()\n",
        "\n",
        "plt.tight_layout()\n",
        "plt.show()"
      ],
      "metadata": {
        "colab": {
          "base_uri": "https://localhost:8080/",
          "height": 311
        },
        "id": "a3PNKfnlzWwW",
        "outputId": "ffaba2e2-55da-42a9-fdf0-d56355d30dc9"
      },
      "execution_count": 97,
      "outputs": [
        {
          "output_type": "display_data",
          "data": {
            "text/plain": [
              "<Figure size 1200x500 with 2 Axes>"
            ],
            "image/png": "[encoded data removed]"
          },
          "metadata": {}
        }
      ]
    },
    {
      "cell_type": "markdown",
      "source": [
        "# Conclusions\n",
        "\n",
        "Lost dos modelos se comportan bastante bien despues de realizar algunas actualizaciones a la configuracion, el parametro que agrego mas valor al entrenamiento para los dos modelos fue el numero de neuronas, una vez se incremento este valor de la configuracion pasamos de tener un accuracy de alrededor del 30% a 80% para RNN y 90% para LSTM.\n",
        "\n",
        "Otra observacion en comparacion de los modelos es que LSTM consume muchos menos recursos y realiza el entrenamiento a mayor velocidad, al mismo tiempo que trae mejores resultados."
      ],
      "metadata": {
        "id": "VjGAzjIUui84"
      }
    },
    {
      "cell_type": "code",
      "source": [],
      "metadata": {
        "id": "Z8MOBGYTvJdr"
      },
      "execution_count": 97,
      "outputs": []
    }
  ],
  "metadata": {
    "kernelspec": {
      "display_name": "Python 3",
      "name": "python3"
    },
    "language_info": {
      "codemirror_mode": {
        "name": "ipython",
        "version": 3
      },
      "file_extension": ".py",
      "mimetype": "text/x-python",
      "name": "python",
      "nbconvert_exporter": "python",
      "pygments_lexer": "ipython3",
      "version": "3.10.15"
    },
    "colab": {
      "provenance": [],
      "machine_shape": "hm",
      "gpuType": "A100"
    },
    "accelerator": "GPU"
  },
  "nbformat": 4,
  "nbformat_minor": 0
}