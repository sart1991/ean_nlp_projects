{
  "cells": [
    {
      "cell_type": "code",
      "source": [
        "!pip install openpyxl"
      ],
      "metadata": {
        "id": "qZxYOHlQVk26",
        "outputId": "14e9c694-7247-47ed-a937-c95882187018",
        "colab": {
          "base_uri": "https://localhost:8080/"
        }
      },
      "execution_count": 1,
      "outputs": [
        {
          "output_type": "stream",
          "name": "stdout",
          "text": [
            "Collecting openpyxl\n",
            "  Downloading openpyxl-3.1.5-py2.py3-none-any.whl.metadata (2.5 kB)\n",
            "Collecting et-xmlfile (from openpyxl)\n",
            "  Downloading et_xmlfile-2.0.0-py3-none-any.whl.metadata (2.7 kB)\n",
            "Downloading openpyxl-3.1.5-py2.py3-none-any.whl (250 kB)\n",
            "\u001b[?25l   \u001b[90m━━━━━━━━━━━━━━━━━━━━━━━━━━━━━━━━━━━━━━━━\u001b[0m \u001b[32m0.0/250.9 kB\u001b[0m \u001b[31m?\u001b[0m eta \u001b[36m-:--:--\u001b[0m\r\u001b[2K   \u001b[91m━━━━━━━━━━━━━━━━━━━\u001b[0m\u001b[91m╸\u001b[0m\u001b[90m━━━━━━━━━━━━━━━━━━━━\u001b[0m \u001b[32m122.9/250.9 kB\u001b[0m \u001b[31m3.4 MB/s\u001b[0m eta \u001b[36m0:00:01\u001b[0m\r\u001b[2K   \u001b[90m━━━━━━━━━━━━━━━━━━━━━━━━━━━━━━━━━━━━━━━━\u001b[0m \u001b[32m250.9/250.9 kB\u001b[0m \u001b[31m4.3 MB/s\u001b[0m eta \u001b[36m0:00:00\u001b[0m\n",
            "\u001b[?25hDownloading et_xmlfile-2.0.0-py3-none-any.whl (18 kB)\n",
            "Installing collected packages: et-xmlfile, openpyxl\n",
            "Successfully installed et-xmlfile-2.0.0 openpyxl-3.1.5\n"
          ]
        }
      ]
    },
    {
      "cell_type": "code",
      "execution_count": 2,
      "metadata": {
        "id": "QMR5YzhyT9Yx"
      },
      "outputs": [],
      "source": [
        "import pandas as pd\n",
        "import matplotlib.pyplot as plt\n",
        "import seaborn as sns\n",
        "\n",
        "import nltk\n",
        "import string\n",
        "import re\n",
        "\n",
        "import tensorflow as tf\n",
        "from tensorflow.keras.models import Sequential\n",
        "from tensorflow.keras.layers import Embedding, SimpleRNN, Dense, LSTM\n",
        "from tensorflow.keras.utils import to_categorical\n",
        "from tensorflow.keras.preprocessing.text import Tokenizer\n",
        "from tensorflow.keras.preprocessing.sequence import pad_sequences\n",
        "\n",
        "from sklearn.model_selection import train_test_split\n",
        "from sklearn.metrics import classification_report"
      ]
    },
    {
      "cell_type": "code",
      "execution_count": 3,
      "metadata": {
        "id": "wXqE4hzGT9Yy",
        "outputId": "057db68a-2561-4e92-83d7-e6e132e95bf2",
        "colab": {
          "base_uri": "https://localhost:8080/"
        }
      },
      "outputs": [
        {
          "output_type": "execute_result",
          "data": {
            "text/plain": [
              "(14396, 5)"
            ]
          },
          "metadata": {},
          "execution_count": 3
        }
      ],
      "source": [
        "# load data exclude Columna1\n",
        "df_news = pd.read_excel('data/Noticias.xlsx', usecols='B:F')\n",
        "df_news.shape"
      ]
    },
    {
      "cell_type": "code",
      "execution_count": 4,
      "metadata": {
        "id": "C26kWVLsT9Yz",
        "outputId": "3dfc184f-ec3f-4681-bdf9-e11d49627ff3",
        "colab": {
          "base_uri": "https://localhost:8080/",
          "height": 301
        }
      },
      "outputs": [
        {
          "output_type": "execute_result",
          "data": {
            "text/plain": [
              "                                             Enlaces  \\\n",
              "0  https://www.eltiempo.com/agresion-contra-un-op...   \n",
              "1  https://www.eltiempo.com/archivo/documento/CMS...   \n",
              "\n",
              "                                              Título  \\\n",
              "0  Operador de grúa quedó inconsciente tras agres...   \n",
              "1   Usaquén, primera en infracciones por mal parqueo   \n",
              "\n",
              "                                                info  \\\n",
              "0  El conductor de una moto le lanzó el casco y p...   \n",
              "1  La localidad ocupa el primer lugar en comparen...   \n",
              "\n",
              "                                           contenido  Etiqueta  \n",
              "0  Las autoridades están buscando al conductor de...  colombia  \n",
              "1  \"Los andenes son para los peatones\", reclama e...   archivo  "
            ],
            "text/html": [
              "\n",
              "  <div id=\"df-7ac550b6-4783-4b3c-9fc5-9ed218e32ff5\" class=\"colab-df-container\">\n",
              "    <div>\n",
              "<style scoped>\n",
              "    .dataframe tbody tr th:only-of-type {\n",
              "        vertical-align: middle;\n",
              "    }\n",
              "\n",
              "    .dataframe tbody tr th {\n",
              "        vertical-align: top;\n",
              "    }\n",
              "\n",
              "    .dataframe thead th {\n",
              "        text-align: right;\n",
              "    }\n",
              "</style>\n",
              "<table border=\"1\" class=\"dataframe\">\n",
              "  <thead>\n",
              "    <tr style=\"text-align: right;\">\n",
              "      <th></th>\n",
              "      <th>Enlaces</th>\n",
              "      <th>Título</th>\n",
              "      <th>info</th>\n",
              "      <th>contenido</th>\n",
              "      <th>Etiqueta</th>\n",
              "    </tr>\n",
              "  </thead>\n",
              "  <tbody>\n",
              "    <tr>\n",
              "      <th>0</th>\n",
              "      <td>https://www.eltiempo.com/agresion-contra-un-op...</td>\n",
              "      <td>Operador de grúa quedó inconsciente tras agres...</td>\n",
              "      <td>El conductor de una moto le lanzó el casco y p...</td>\n",
              "      <td>Las autoridades están buscando al conductor de...</td>\n",
              "      <td>colombia</td>\n",
              "    </tr>\n",
              "    <tr>\n",
              "      <th>1</th>\n",
              "      <td>https://www.eltiempo.com/archivo/documento/CMS...</td>\n",
              "      <td>Usaquén, primera en infracciones por mal parqueo</td>\n",
              "      <td>La localidad ocupa el primer lugar en comparen...</td>\n",
              "      <td>\"Los andenes son para los peatones\", reclama e...</td>\n",
              "      <td>archivo</td>\n",
              "    </tr>\n",
              "  </tbody>\n",
              "</table>\n",
              "</div>\n",
              "    <div class=\"colab-df-buttons\">\n",
              "\n",
              "  <div class=\"colab-df-container\">\n",
              "    <button class=\"colab-df-convert\" onclick=\"convertToInteractive('df-7ac550b6-4783-4b3c-9fc5-9ed218e32ff5')\"\n",
              "            title=\"Convert this dataframe to an interactive table.\"\n",
              "            style=\"display:none;\">\n",
              "\n",
              "  <svg xmlns=\"http://www.w3.org/2000/svg\" height=\"24px\" viewBox=\"0 -960 960 960\">\n",
              "    <path d=\"M120-120v-720h720v720H120Zm60-500h600v-160H180v160Zm220 220h160v-160H400v160Zm0 220h160v-160H400v160ZM180-400h160v-160H180v160Zm440 0h160v-160H620v160ZM180-180h160v-160H180v160Zm440 0h160v-160H620v160Z\"/>\n",
              "  </svg>\n",
              "    </button>\n",
              "\n",
              "  <style>\n",
              "    .colab-df-container {\n",
              "      display:flex;\n",
              "      gap: 12px;\n",
              "    }\n",
              "\n",
              "    .colab-df-convert {\n",
              "      background-color: #E8F0FE;\n",
              "      border: none;\n",
              "      border-radius: 50%;\n",
              "      cursor: pointer;\n",
              "      display: none;\n",
              "      fill: #1967D2;\n",
              "      height: 32px;\n",
              "      padding: 0 0 0 0;\n",
              "      width: 32px;\n",
              "    }\n",
              "\n",
              "    .colab-df-convert:hover {\n",
              "      background-color: #E2EBFA;\n",
              "      box-shadow: 0px 1px 2px rgba(60, 64, 67, 0.3), 0px 1px 3px 1px rgba(60, 64, 67, 0.15);\n",
              "      fill: #174EA6;\n",
              "    }\n",
              "\n",
              "    .colab-df-buttons div {\n",
              "      margin-bottom: 4px;\n",
              "    }\n",
              "\n",
              "    [theme=dark] .colab-df-convert {\n",
              "      background-color: #3B4455;\n",
              "      fill: #D2E3FC;\n",
              "    }\n",
              "\n",
              "    [theme=dark] .colab-df-convert:hover {\n",
              "      background-color: #434B5C;\n",
              "      box-shadow: 0px 1px 3px 1px rgba(0, 0, 0, 0.15);\n",
              "      filter: drop-shadow(0px 1px 2px rgba(0, 0, 0, 0.3));\n",
              "      fill: #FFFFFF;\n",
              "    }\n",
              "  </style>\n",
              "\n",
              "    <script>\n",
              "      const buttonEl =\n",
              "        document.querySelector('#df-7ac550b6-4783-4b3c-9fc5-9ed218e32ff5 button.colab-df-convert');\n",
              "      buttonEl.style.display =\n",
              "        google.colab.kernel.accessAllowed ? 'block' : 'none';\n",
              "\n",
              "      async function convertToInteractive(key) {\n",
              "        const element = document.querySelector('#df-7ac550b6-4783-4b3c-9fc5-9ed218e32ff5');\n",
              "        const dataTable =\n",
              "          await google.colab.kernel.invokeFunction('convertToInteractive',\n",
              "                                                    [key], {});\n",
              "        if (!dataTable) return;\n",
              "\n",
              "        const docLinkHtml = 'Like what you see? Visit the ' +\n",
              "          '<a target=\"_blank\" href=https://colab.research.google.com/notebooks/data_table.ipynb>data table notebook</a>'\n",
              "          + ' to learn more about interactive tables.';\n",
              "        element.innerHTML = '';\n",
              "        dataTable['output_type'] = 'display_data';\n",
              "        await google.colab.output.renderOutput(dataTable, element);\n",
              "        const docLink = document.createElement('div');\n",
              "        docLink.innerHTML = docLinkHtml;\n",
              "        element.appendChild(docLink);\n",
              "      }\n",
              "    </script>\n",
              "  </div>\n",
              "\n",
              "\n",
              "<div id=\"df-6f4fe76f-597d-4bb0-8d83-0e866b652842\">\n",
              "  <button class=\"colab-df-quickchart\" onclick=\"quickchart('df-6f4fe76f-597d-4bb0-8d83-0e866b652842')\"\n",
              "            title=\"Suggest charts\"\n",
              "            style=\"display:none;\">\n",
              "\n",
              "<svg xmlns=\"http://www.w3.org/2000/svg\" height=\"24px\"viewBox=\"0 0 24 24\"\n",
              "     width=\"24px\">\n",
              "    <g>\n",
              "        <path d=\"M19 3H5c-1.1 0-2 .9-2 2v14c0 1.1.9 2 2 2h14c1.1 0 2-.9 2-2V5c0-1.1-.9-2-2-2zM9 17H7v-7h2v7zm4 0h-2V7h2v10zm4 0h-2v-4h2v4z\"/>\n",
              "    </g>\n",
              "</svg>\n",
              "  </button>\n",
              "\n",
              "<style>\n",
              "  .colab-df-quickchart {\n",
              "      --bg-color: #E8F0FE;\n",
              "      --fill-color: #1967D2;\n",
              "      --hover-bg-color: #E2EBFA;\n",
              "      --hover-fill-color: #174EA6;\n",
              "      --disabled-fill-color: #AAA;\n",
              "      --disabled-bg-color: #DDD;\n",
              "  }\n",
              "\n",
              "  [theme=dark] .colab-df-quickchart {\n",
              "      --bg-color: #3B4455;\n",
              "      --fill-color: #D2E3FC;\n",
              "      --hover-bg-color: #434B5C;\n",
              "      --hover-fill-color: #FFFFFF;\n",
              "      --disabled-bg-color: #3B4455;\n",
              "      --disabled-fill-color: #666;\n",
              "  }\n",
              "\n",
              "  .colab-df-quickchart {\n",
              "    background-color: var(--bg-color);\n",
              "    border: none;\n",
              "    border-radius: 50%;\n",
              "    cursor: pointer;\n",
              "    display: none;\n",
              "    fill: var(--fill-color);\n",
              "    height: 32px;\n",
              "    padding: 0;\n",
              "    width: 32px;\n",
              "  }\n",
              "\n",
              "  .colab-df-quickchart:hover {\n",
              "    background-color: var(--hover-bg-color);\n",
              "    box-shadow: 0 1px 2px rgba(60, 64, 67, 0.3), 0 1px 3px 1px rgba(60, 64, 67, 0.15);\n",
              "    fill: var(--button-hover-fill-color);\n",
              "  }\n",
              "\n",
              "  .colab-df-quickchart-complete:disabled,\n",
              "  .colab-df-quickchart-complete:disabled:hover {\n",
              "    background-color: var(--disabled-bg-color);\n",
              "    fill: var(--disabled-fill-color);\n",
              "    box-shadow: none;\n",
              "  }\n",
              "\n",
              "  .colab-df-spinner {\n",
              "    border: 2px solid var(--fill-color);\n",
              "    border-color: transparent;\n",
              "    border-bottom-color: var(--fill-color);\n",
              "    animation:\n",
              "      spin 1s steps(1) infinite;\n",
              "  }\n",
              "\n",
              "  @keyframes spin {\n",
              "    0% {\n",
              "      border-color: transparent;\n",
              "      border-bottom-color: var(--fill-color);\n",
              "      border-left-color: var(--fill-color);\n",
              "    }\n",
              "    20% {\n",
              "      border-color: transparent;\n",
              "      border-left-color: var(--fill-color);\n",
              "      border-top-color: var(--fill-color);\n",
              "    }\n",
              "    30% {\n",
              "      border-color: transparent;\n",
              "      border-left-color: var(--fill-color);\n",
              "      border-top-color: var(--fill-color);\n",
              "      border-right-color: var(--fill-color);\n",
              "    }\n",
              "    40% {\n",
              "      border-color: transparent;\n",
              "      border-right-color: var(--fill-color);\n",
              "      border-top-color: var(--fill-color);\n",
              "    }\n",
              "    60% {\n",
              "      border-color: transparent;\n",
              "      border-right-color: var(--fill-color);\n",
              "    }\n",
              "    80% {\n",
              "      border-color: transparent;\n",
              "      border-right-color: var(--fill-color);\n",
              "      border-bottom-color: var(--fill-color);\n",
              "    }\n",
              "    90% {\n",
              "      border-color: transparent;\n",
              "      border-bottom-color: var(--fill-color);\n",
              "    }\n",
              "  }\n",
              "</style>\n",
              "\n",
              "  <script>\n",
              "    async function quickchart(key) {\n",
              "      const quickchartButtonEl =\n",
              "        document.querySelector('#' + key + ' button');\n",
              "      quickchartButtonEl.disabled = true;  // To prevent multiple clicks.\n",
              "      quickchartButtonEl.classList.add('colab-df-spinner');\n",
              "      try {\n",
              "        const charts = await google.colab.kernel.invokeFunction(\n",
              "            'suggestCharts', [key], {});\n",
              "      } catch (error) {\n",
              "        console.error('Error during call to suggestCharts:', error);\n",
              "      }\n",
              "      quickchartButtonEl.classList.remove('colab-df-spinner');\n",
              "      quickchartButtonEl.classList.add('colab-df-quickchart-complete');\n",
              "    }\n",
              "    (() => {\n",
              "      let quickchartButtonEl =\n",
              "        document.querySelector('#df-6f4fe76f-597d-4bb0-8d83-0e866b652842 button');\n",
              "      quickchartButtonEl.style.display =\n",
              "        google.colab.kernel.accessAllowed ? 'block' : 'none';\n",
              "    })();\n",
              "  </script>\n",
              "</div>\n",
              "\n",
              "    </div>\n",
              "  </div>\n"
            ],
            "application/vnd.google.colaboratory.intrinsic+json": {
              "type": "dataframe",
              "variable_name": "df_news",
              "summary": "{\n  \"name\": \"df_news\",\n  \"rows\": 14396,\n  \"fields\": [\n    {\n      \"column\": \"Enlaces\",\n      \"properties\": {\n        \"dtype\": \"string\",\n        \"num_unique_values\": 14396,\n        \"samples\": [\n          \"https://www.eltiempo.com/colombia/otras-ciudades/denuncian-asesinato-de-lider-indigena-en-zona-rural-de-caqueta-155310\",\n          \"https://www.eltiempo.com/bogota/profesores-de-universidades-hacen-llamado-a-lideres-a-dialogar-y-rectificar-el-rumbo-del-pais-439696\",\n          \"https://www.eltiempo.com/archivo/documento/CMS-4865951\"\n        ],\n        \"semantic_type\": \"\",\n        \"description\": \"\"\n      }\n    },\n    {\n      \"column\": \"T\\u00edtulo\",\n      \"properties\": {\n        \"dtype\": \"string\",\n        \"num_unique_values\": 13851,\n        \"samples\": [\n          \"\\u00bfPor qu\\u00e9 volvieron a subir los homicidios en el pa\\u00eds?\",\n          \"Siete carteles en M\\u00e9xico controlan el narcotr\\u00e1fico hacia Estados Unidos\",\n          \"Un a\\u00f1o despu\\u00e9s, no hay condena por crimen de chilena Ilse Amory\"\n        ],\n        \"semantic_type\": \"\",\n        \"description\": \"\"\n      }\n    },\n    {\n      \"column\": \"info\",\n      \"properties\": {\n        \"dtype\": \"string\",\n        \"num_unique_values\": 11412,\n        \"samples\": [\n          \"Un gol del delantero Lionard Pajoy, en el minuto 10 del primer tiempo, le \\n represent\\u00f3 al C\\u00facuta Deportivo los tres puntos, su segunda victoria en el \\n torneo Finalizaci\\u00f3n y la derrota del Junior, anoche en el Estadio Roberto \\n Mel\\u00e9ndez.\",\n          \"El equipo tuvo una jornada para el olvido, al ser goleado por el Eintracht Fr\\u00e1ncfort.\",\n          \"En \\u00faltimos cuatro meses, la guerrilla de las Farc ha recibido cuatro \\n hist\\u00f3ricos golpes militares y pol\\u00edticos que no solo la han debilitado ante \\n la comunidan nacional e internacional, sino que adem\\u00e1s han dejado al \\n descubierto su vulnerabilidad en dos temas clave: el pago de recompensas por \\n su cabecillas y el monitoreo a sus comunicaciones.\"\n        ],\n        \"semantic_type\": \"\",\n        \"description\": \"\"\n      }\n    },\n    {\n      \"column\": \"contenido\",\n      \"properties\": {\n        \"dtype\": \"string\",\n        \"num_unique_values\": 13202,\n        \"samples\": [\n          \"Buenos comentarios de la prensa y elogios fueron los que cosech\\u00f3 Fernando Uribe, quien el mi\\u00e9rcoles pasado anot\\u00f3 tres goles en la victoria de Toluca sobre Necaxa, en la Copa MX. El colombiano se convirti\\u00f3 en figura y recibi\\u00f3 aplausos de los aficionados de los 'Diablos Rojos'. Este jueves, los diarios en M\\u00e9xico resaltaron al exjugador de Millonarios y el paraguayo Jos\\u00e9 Saturnino Cardozo, su t\\u00e9cnico, se mostr\\u00f3 satisfecho con su labor. As\\u00ed manifest\\u00f3: \\\"Trajimos cuatro centro delanteros, sufrimos el torneo pasado y no me gust\\u00f3 para nada, el equipo dej\\u00f3 de hacer cosas importantes. Necesitamos jugadores que te marquen la diferencia en el \\u00e1rea como Fernando y por eso hay que destacar lo que hizo\\\". Cardozo, quien fue un temible goleador, sigui\\u00f3 con su discurso sobre el futbolista pereirano: \\\"Ac\\u00e1 lo bueno es que los goles de Fernando en el partido de Copa MX, le dar\\u00e1n m\\u00e1s confianza\\\". Toluca jugar\\u00e1 el pr\\u00f3ximo domingo frente a Pumas, en juego de la Liga de M\\u00e9xico, y se espera que sea comandado por Uribe en la zona ofensiva. Redacci\\u00f3n Futbolred Coronavirus en Colombia 09:31 p.m. Una cabina de desinfecci\\u00f3n manual para Barranquilla Jes\\u00fas David Vergara y \\u00c1ngel Garc\\u00eda decidieron elaborar un prototipo pa ... Valle del Cauca 07:50 p.m. Se han recogido cerca de 132 mil mercados en 'Donat\\u00f3n Valle Solidario' La meta es llegar a 200 mil mercados. Personas del com\\u00fan y empresas se ... Coronavirus en Colombia 07:36 p.m. Cuarentena en Medell\\u00edn: el diario de lo que pasa en la ciudad Gabriel Garc\\u00eda M\\u00e1rquez 07:15 p.m. Falleci\\u00f3 el 'Mago D\\u00e1vila', primer linotipista que tuvo Garc\\u00eda M\\u00e1rquez Barranquilla 06:43 p.m. Alias el 'Sat\\u00e1nico' busca la libertad por vencimiento de t\\u00e9rminos\",\n          \"La Empresa de Energ\\u00eda de Bogot\\u00e1 (EEB) report\\u00f3 un resultado financiero positivo al cierre del primer trimestre del a\\u00f1o, periodo en el que obtuvo utilidades por 540.005 millones de pesos, cifra que frente a los 224.397 millones de pesos del mismo lapso del 2011 refleja un aumento del 140 por ciento. De acuerdo con el reporte de la compa\\u00f1\\u00eda, en el balance incidieron las utilidades operacionales de sus compa\\u00f1\\u00edas controladas y, de forma importante, los dividendos decretados por sus compa\\u00f1\\u00edas participadas. En efecto, este \\u00faltimo rubro aument\\u00f3 175 por ciento en el primer trimestre, en parte por los mejores resultados operacionales de estas compa\\u00f1\\u00edas y tambi\\u00e9n porque en el mismo periodo del a\\u00f1o pasado Emgesa, Codensa y Gas Natural decretaron dividendos con base en los resultados de los \\u00faltimos meses del periodo inmediatamente anterior. Si estas firmas hubieran decretado sus dividendos con base en periodos anuales, la utilidad neta de la EEB en el primer trimestre de este a\\u00f1o habr\\u00eda crecido 4,2 por ciento. En el primer trimestre, las utilidades operacionales de la empresa capitalina crecieron 5,7 por ciento, principalmente producto de los mejores resultados de C\\u00e1lidda y la Transportadora de Gas Internacional (TGI). Calidda es una compa\\u00f1\\u00eda que est\\u00e1 en el negocio de la distribuci\\u00f3n de gas natural en la zona de Lima y Callao, en el Per\\u00fa, y duplic\\u00f3 en el 2011 el n\\u00famero de usuarios conectados a su red. Para este a\\u00f1o la peruana proyecta una inversi\\u00f3n de 105 millones de d\\u00f3lares, con lo cual podr\\u00e1 incrementar en un 82 por ciento el n\\u00famero de clientes conectados, con una meta de 105.000 conexiones para finalizar el 2012. AUMENTAN LAS INVERSIONES Y LOS NEGOCIOS TGI culmina un proceso de ampliaci\\u00f3n de su infraestructura, que demand\\u00f3 inversiones cercanas a los US$650 millones para aumentar su capacidad de transporte en 53%. Dos de las tres fases de la ampliaci\\u00f3n ya est\\u00e1n en operaci\\u00f3n, y la tercera iniciar\\u00eda operaciones antes de junio de este a\\u00f1o. La empresa destac\\u00f3 el respaldo que la actual junta directiva le dio a su plan de negocios, que fue decisivo para ganar tres subastas de transmisi\\u00f3n de energ\\u00eda en Colombia, cuya inversi\\u00f3n se estima en US$140 millones y en la presentaci\\u00f3n de una oferta para construir activos de transmisi\\u00f3n en Chile, con una inversi\\u00f3n valorada en US$736 millones. Miedo 11:00 p.m. Ejercite su mente en la cuarentena con este test de l\\u00f3gica matem\\u00e1tica Ponga a prueba esas clases de matem\\u00e1ticas del colegio y de la vida par ... Manizales 10:00 p.m. Ya se venden medicamentos de cannabis con f\\u00f3rmula m\\u00e9dica En farmacias especializadas de Colombia es posible acceder a medicamen ... Manizales 10:00 p.m. El gu\\u00eda de la salud mental del pueblo con m\\u00e1s casos de bipolaridad Coronavirus en Colombia 09:31 p.m. Una cabina de desinfecci\\u00f3n manual para Barranquilla Valle del Cauca 07:50 p.m. Se han recogido cerca de 132 mil mercados en 'Donat\\u00f3n Valle Solidario'\",\n          \"La Polic\\u00eda Fiscal y Aduanera adelant\\u00f3 los operativos en seis municipios vallecaucanos y uno caucano. De acuerdo con la Polic\\u00eda Fiscal y Aduanera, en la \\u00faltima semana se aprehendi\\u00f3 calzado, computadores, elementos de aseo, elementos industriales, joyer\\u00eda, perfumer\\u00eda, entre otros. Los operativos de control aduanero fueron realizados en Cali, Jamund\\u00ed, Tulu\\u00e1, Palmira, Candelaria, Yumbo, en el Valle; y Puerto Tejada en el Cauca. La Polic\\u00eda inform\\u00f3 que en la continuando la ofensiva contra el contrabando en esta regi\\u00f3n del pa\\u00eds se logr\\u00f3 la aprehensi\\u00f3n de mercanc\\u00eda por un valor aproximado a los 1.481 millones de pesos. Fueron decomisados 7.198 materiales de aseo por 36 millones de pesos; 2.724 pares de zapatos por 48 millones; 11.840 juguetes por 5'4 millones;  129.193 accesorios de celular por 604 millones;  239.788 textiles por 629 millones; 10.237 art\\u00edculos de joyer\\u00eda por 122 millones; adem\\u00e1s de computadores, perfumer\\u00eda y elementos industriales. Las indagaciones se\\u00f1alan que los productos fueron tra\\u00eddos, al parecer, \\\"de China, escala en Panam\\u00e1 e ingresado al pa\\u00eds por el puerto de Buenaventura. Se presume que ser\\u00eda distribuida a nivel nacional especialmente en Cali y no presentaba la documentaci\\u00f3n requerida para su ingreso al territorio\\\", seg\\u00fan el informe. La Polic\\u00eda Fiscal y Aduanera aseguraz que este operativo se constituye en el cierre al paso de contrabando hacia la capital del Valle del Cauca. Miedo 11:19 p.m. Ejercite su mente en la cuarentena con este test de l\\u00f3gica matem\\u00e1tica Ponga a prueba esas clases de matem\\u00e1ticas del colegio y de la vida par ... Manizales 10:00 p.m. Ya se venden medicamentos de cannabis con f\\u00f3rmula m\\u00e9dica En farmacias especializadas de Colombia es posible acceder a medicamen ... Manizales 10:00 p.m. El gu\\u00eda de la salud mental del pueblo con m\\u00e1s casos de bipolaridad Coronavirus en Colombia 09:31 p.m. Una cabina de desinfecci\\u00f3n manual para Barranquilla Valle del Cauca 07:50 p.m. Se han recogido cerca de 132 mil mercados en 'Donat\\u00f3n Valle Solidario'\"\n        ],\n        \"semantic_type\": \"\",\n        \"description\": \"\"\n      }\n    },\n    {\n      \"column\": \"Etiqueta\",\n      \"properties\": {\n        \"dtype\": \"category\",\n        \"num_unique_values\": 26,\n        \"samples\": [\n          \"deportes\",\n          \"mas-contenido\",\n          \"colombia\"\n        ],\n        \"semantic_type\": \"\",\n        \"description\": \"\"\n      }\n    }\n  ]\n}"
            }
          },
          "metadata": {},
          "execution_count": 4
        }
      ],
      "source": [
        "df_news.head(2)"
      ]
    },
    {
      "cell_type": "code",
      "execution_count": 5,
      "metadata": {
        "id": "YjK1jFzGT9Yz",
        "outputId": "18ce7ea8-c5ee-4ff4-b9bb-afd76378863f",
        "colab": {
          "base_uri": "https://localhost:8080/",
          "height": 278
        }
      },
      "outputs": [
        {
          "output_type": "execute_result",
          "data": {
            "text/plain": [
              "                                                  Enlaces       Título  \\\n",
              "count                                               14396        14378   \n",
              "unique                                              14396        13851   \n",
              "top     https://www.eltiempo.com/vida/viajar/yovoy-cam...  Caricaturas   \n",
              "freq                                                    1          138   \n",
              "\n",
              "                                                     info  \\\n",
              "count                                               11483   \n",
              "unique                                              11412   \n",
              "top     Si no tuvo tiempo para informarse hoy, aquí un...   \n",
              "freq                                                   12   \n",
              "\n",
              "                                                contenido Etiqueta  \n",
              "count                                               13738    14396  \n",
              "unique                                              13202       26  \n",
              "top     Manizales 10:00 p.m. Ya se venden medicamentos...  archivo  \n",
              "freq                                                  238     9187  "
            ],
            "text/html": [
              "\n",
              "  <div id=\"df-74d651d0-403c-4a8f-a37e-ebba29759b8a\" class=\"colab-df-container\">\n",
              "    <div>\n",
              "<style scoped>\n",
              "    .dataframe tbody tr th:only-of-type {\n",
              "        vertical-align: middle;\n",
              "    }\n",
              "\n",
              "    .dataframe tbody tr th {\n",
              "        vertical-align: top;\n",
              "    }\n",
              "\n",
              "    .dataframe thead th {\n",
              "        text-align: right;\n",
              "    }\n",
              "</style>\n",
              "<table border=\"1\" class=\"dataframe\">\n",
              "  <thead>\n",
              "    <tr style=\"text-align: right;\">\n",
              "      <th></th>\n",
              "      <th>Enlaces</th>\n",
              "      <th>Título</th>\n",
              "      <th>info</th>\n",
              "      <th>contenido</th>\n",
              "      <th>Etiqueta</th>\n",
              "    </tr>\n",
              "  </thead>\n",
              "  <tbody>\n",
              "    <tr>\n",
              "      <th>count</th>\n",
              "      <td>14396</td>\n",
              "      <td>14378</td>\n",
              "      <td>11483</td>\n",
              "      <td>13738</td>\n",
              "      <td>14396</td>\n",
              "    </tr>\n",
              "    <tr>\n",
              "      <th>unique</th>\n",
              "      <td>14396</td>\n",
              "      <td>13851</td>\n",
              "      <td>11412</td>\n",
              "      <td>13202</td>\n",
              "      <td>26</td>\n",
              "    </tr>\n",
              "    <tr>\n",
              "      <th>top</th>\n",
              "      <td>https://www.eltiempo.com/vida/viajar/yovoy-cam...</td>\n",
              "      <td>Caricaturas</td>\n",
              "      <td>Si no tuvo tiempo para informarse hoy, aquí un...</td>\n",
              "      <td>Manizales 10:00 p.m. Ya se venden medicamentos...</td>\n",
              "      <td>archivo</td>\n",
              "    </tr>\n",
              "    <tr>\n",
              "      <th>freq</th>\n",
              "      <td>1</td>\n",
              "      <td>138</td>\n",
              "      <td>12</td>\n",
              "      <td>238</td>\n",
              "      <td>9187</td>\n",
              "    </tr>\n",
              "  </tbody>\n",
              "</table>\n",
              "</div>\n",
              "    <div class=\"colab-df-buttons\">\n",
              "\n",
              "  <div class=\"colab-df-container\">\n",
              "    <button class=\"colab-df-convert\" onclick=\"convertToInteractive('df-74d651d0-403c-4a8f-a37e-ebba29759b8a')\"\n",
              "            title=\"Convert this dataframe to an interactive table.\"\n",
              "            style=\"display:none;\">\n",
              "\n",
              "  <svg xmlns=\"http://www.w3.org/2000/svg\" height=\"24px\" viewBox=\"0 -960 960 960\">\n",
              "    <path d=\"M120-120v-720h720v720H120Zm60-500h600v-160H180v160Zm220 220h160v-160H400v160Zm0 220h160v-160H400v160ZM180-400h160v-160H180v160Zm440 0h160v-160H620v160ZM180-180h160v-160H180v160Zm440 0h160v-160H620v160Z\"/>\n",
              "  </svg>\n",
              "    </button>\n",
              "\n",
              "  <style>\n",
              "    .colab-df-container {\n",
              "      display:flex;\n",
              "      gap: 12px;\n",
              "    }\n",
              "\n",
              "    .colab-df-convert {\n",
              "      background-color: #E8F0FE;\n",
              "      border: none;\n",
              "      border-radius: 50%;\n",
              "      cursor: pointer;\n",
              "      display: none;\n",
              "      fill: #1967D2;\n",
              "      height: 32px;\n",
              "      padding: 0 0 0 0;\n",
              "      width: 32px;\n",
              "    }\n",
              "\n",
              "    .colab-df-convert:hover {\n",
              "      background-color: #E2EBFA;\n",
              "      box-shadow: 0px 1px 2px rgba(60, 64, 67, 0.3), 0px 1px 3px 1px rgba(60, 64, 67, 0.15);\n",
              "      fill: #174EA6;\n",
              "    }\n",
              "\n",
              "    .colab-df-buttons div {\n",
              "      margin-bottom: 4px;\n",
              "    }\n",
              "\n",
              "    [theme=dark] .colab-df-convert {\n",
              "      background-color: #3B4455;\n",
              "      fill: #D2E3FC;\n",
              "    }\n",
              "\n",
              "    [theme=dark] .colab-df-convert:hover {\n",
              "      background-color: #434B5C;\n",
              "      box-shadow: 0px 1px 3px 1px rgba(0, 0, 0, 0.15);\n",
              "      filter: drop-shadow(0px 1px 2px rgba(0, 0, 0, 0.3));\n",
              "      fill: #FFFFFF;\n",
              "    }\n",
              "  </style>\n",
              "\n",
              "    <script>\n",
              "      const buttonEl =\n",
              "        document.querySelector('#df-74d651d0-403c-4a8f-a37e-ebba29759b8a button.colab-df-convert');\n",
              "      buttonEl.style.display =\n",
              "        google.colab.kernel.accessAllowed ? 'block' : 'none';\n",
              "\n",
              "      async function convertToInteractive(key) {\n",
              "        const element = document.querySelector('#df-74d651d0-403c-4a8f-a37e-ebba29759b8a');\n",
              "        const dataTable =\n",
              "          await google.colab.kernel.invokeFunction('convertToInteractive',\n",
              "                                                    [key], {});\n",
              "        if (!dataTable) return;\n",
              "\n",
              "        const docLinkHtml = 'Like what you see? Visit the ' +\n",
              "          '<a target=\"_blank\" href=https://colab.research.google.com/notebooks/data_table.ipynb>data table notebook</a>'\n",
              "          + ' to learn more about interactive tables.';\n",
              "        element.innerHTML = '';\n",
              "        dataTable['output_type'] = 'display_data';\n",
              "        await google.colab.output.renderOutput(dataTable, element);\n",
              "        const docLink = document.createElement('div');\n",
              "        docLink.innerHTML = docLinkHtml;\n",
              "        element.appendChild(docLink);\n",
              "      }\n",
              "    </script>\n",
              "  </div>\n",
              "\n",
              "\n",
              "<div id=\"df-19a9c3f6-bd7c-42d0-b4dc-d1ea6b4dc400\">\n",
              "  <button class=\"colab-df-quickchart\" onclick=\"quickchart('df-19a9c3f6-bd7c-42d0-b4dc-d1ea6b4dc400')\"\n",
              "            title=\"Suggest charts\"\n",
              "            style=\"display:none;\">\n",
              "\n",
              "<svg xmlns=\"http://www.w3.org/2000/svg\" height=\"24px\"viewBox=\"0 0 24 24\"\n",
              "     width=\"24px\">\n",
              "    <g>\n",
              "        <path d=\"M19 3H5c-1.1 0-2 .9-2 2v14c0 1.1.9 2 2 2h14c1.1 0 2-.9 2-2V5c0-1.1-.9-2-2-2zM9 17H7v-7h2v7zm4 0h-2V7h2v10zm4 0h-2v-4h2v4z\"/>\n",
              "    </g>\n",
              "</svg>\n",
              "  </button>\n",
              "\n",
              "<style>\n",
              "  .colab-df-quickchart {\n",
              "      --bg-color: #E8F0FE;\n",
              "      --fill-color: #1967D2;\n",
              "      --hover-bg-color: #E2EBFA;\n",
              "      --hover-fill-color: #174EA6;\n",
              "      --disabled-fill-color: #AAA;\n",
              "      --disabled-bg-color: #DDD;\n",
              "  }\n",
              "\n",
              "  [theme=dark] .colab-df-quickchart {\n",
              "      --bg-color: #3B4455;\n",
              "      --fill-color: #D2E3FC;\n",
              "      --hover-bg-color: #434B5C;\n",
              "      --hover-fill-color: #FFFFFF;\n",
              "      --disabled-bg-color: #3B4455;\n",
              "      --disabled-fill-color: #666;\n",
              "  }\n",
              "\n",
              "  .colab-df-quickchart {\n",
              "    background-color: var(--bg-color);\n",
              "    border: none;\n",
              "    border-radius: 50%;\n",
              "    cursor: pointer;\n",
              "    display: none;\n",
              "    fill: var(--fill-color);\n",
              "    height: 32px;\n",
              "    padding: 0;\n",
              "    width: 32px;\n",
              "  }\n",
              "\n",
              "  .colab-df-quickchart:hover {\n",
              "    background-color: var(--hover-bg-color);\n",
              "    box-shadow: 0 1px 2px rgba(60, 64, 67, 0.3), 0 1px 3px 1px rgba(60, 64, 67, 0.15);\n",
              "    fill: var(--button-hover-fill-color);\n",
              "  }\n",
              "\n",
              "  .colab-df-quickchart-complete:disabled,\n",
              "  .colab-df-quickchart-complete:disabled:hover {\n",
              "    background-color: var(--disabled-bg-color);\n",
              "    fill: var(--disabled-fill-color);\n",
              "    box-shadow: none;\n",
              "  }\n",
              "\n",
              "  .colab-df-spinner {\n",
              "    border: 2px solid var(--fill-color);\n",
              "    border-color: transparent;\n",
              "    border-bottom-color: var(--fill-color);\n",
              "    animation:\n",
              "      spin 1s steps(1) infinite;\n",
              "  }\n",
              "\n",
              "  @keyframes spin {\n",
              "    0% {\n",
              "      border-color: transparent;\n",
              "      border-bottom-color: var(--fill-color);\n",
              "      border-left-color: var(--fill-color);\n",
              "    }\n",
              "    20% {\n",
              "      border-color: transparent;\n",
              "      border-left-color: var(--fill-color);\n",
              "      border-top-color: var(--fill-color);\n",
              "    }\n",
              "    30% {\n",
              "      border-color: transparent;\n",
              "      border-left-color: var(--fill-color);\n",
              "      border-top-color: var(--fill-color);\n",
              "      border-right-color: var(--fill-color);\n",
              "    }\n",
              "    40% {\n",
              "      border-color: transparent;\n",
              "      border-right-color: var(--fill-color);\n",
              "      border-top-color: var(--fill-color);\n",
              "    }\n",
              "    60% {\n",
              "      border-color: transparent;\n",
              "      border-right-color: var(--fill-color);\n",
              "    }\n",
              "    80% {\n",
              "      border-color: transparent;\n",
              "      border-right-color: var(--fill-color);\n",
              "      border-bottom-color: var(--fill-color);\n",
              "    }\n",
              "    90% {\n",
              "      border-color: transparent;\n",
              "      border-bottom-color: var(--fill-color);\n",
              "    }\n",
              "  }\n",
              "</style>\n",
              "\n",
              "  <script>\n",
              "    async function quickchart(key) {\n",
              "      const quickchartButtonEl =\n",
              "        document.querySelector('#' + key + ' button');\n",
              "      quickchartButtonEl.disabled = true;  // To prevent multiple clicks.\n",
              "      quickchartButtonEl.classList.add('colab-df-spinner');\n",
              "      try {\n",
              "        const charts = await google.colab.kernel.invokeFunction(\n",
              "            'suggestCharts', [key], {});\n",
              "      } catch (error) {\n",
              "        console.error('Error during call to suggestCharts:', error);\n",
              "      }\n",
              "      quickchartButtonEl.classList.remove('colab-df-spinner');\n",
              "      quickchartButtonEl.classList.add('colab-df-quickchart-complete');\n",
              "    }\n",
              "    (() => {\n",
              "      let quickchartButtonEl =\n",
              "        document.querySelector('#df-19a9c3f6-bd7c-42d0-b4dc-d1ea6b4dc400 button');\n",
              "      quickchartButtonEl.style.display =\n",
              "        google.colab.kernel.accessAllowed ? 'block' : 'none';\n",
              "    })();\n",
              "  </script>\n",
              "</div>\n",
              "\n",
              "    </div>\n",
              "  </div>\n"
            ],
            "application/vnd.google.colaboratory.intrinsic+json": {
              "type": "dataframe",
              "summary": "{\n  \"name\": \"df_news\",\n  \"rows\": 4,\n  \"fields\": [\n    {\n      \"column\": \"Enlaces\",\n      \"properties\": {\n        \"dtype\": \"string\",\n        \"num_unique_values\": 3,\n        \"samples\": [\n          \"14396\",\n          \"https://www.eltiempo.com/vida/viajar/yovoy-campana-nacional-de-turismo-de-mincomercio-332120\",\n          \"1\"\n        ],\n        \"semantic_type\": \"\",\n        \"description\": \"\"\n      }\n    },\n    {\n      \"column\": \"T\\u00edtulo\",\n      \"properties\": {\n        \"dtype\": \"string\",\n        \"num_unique_values\": 4,\n        \"samples\": [\n          13851,\n          \"138\",\n          \"14378\"\n        ],\n        \"semantic_type\": \"\",\n        \"description\": \"\"\n      }\n    },\n    {\n      \"column\": \"info\",\n      \"properties\": {\n        \"dtype\": \"string\",\n        \"num_unique_values\": 4,\n        \"samples\": [\n          11412,\n          \"12\",\n          \"11483\"\n        ],\n        \"semantic_type\": \"\",\n        \"description\": \"\"\n      }\n    },\n    {\n      \"column\": \"contenido\",\n      \"properties\": {\n        \"dtype\": \"string\",\n        \"num_unique_values\": 4,\n        \"samples\": [\n          13202,\n          \"238\",\n          \"13738\"\n        ],\n        \"semantic_type\": \"\",\n        \"description\": \"\"\n      }\n    },\n    {\n      \"column\": \"Etiqueta\",\n      \"properties\": {\n        \"dtype\": \"string\",\n        \"num_unique_values\": 4,\n        \"samples\": [\n          26,\n          \"9187\",\n          \"14396\"\n        ],\n        \"semantic_type\": \"\",\n        \"description\": \"\"\n      }\n    }\n  ]\n}"
            }
          },
          "metadata": {},
          "execution_count": 5
        }
      ],
      "source": [
        "df_news.describe()"
      ]
    },
    {
      "cell_type": "markdown",
      "metadata": {
        "id": "NLwg8X6NT9Yz"
      },
      "source": [
        "# Exercise 1\n",
        "Data exploration"
      ]
    },
    {
      "cell_type": "code",
      "execution_count": 6,
      "metadata": {
        "id": "ERPWuvNUT9Y0",
        "outputId": "15903ea3-f7fd-466f-a4f2-1dd0defd26c6",
        "colab": {
          "base_uri": "https://localhost:8080/"
        }
      },
      "outputs": [
        {
          "output_type": "stream",
          "name": "stdout",
          "text": [
            "Etiqueta\n",
            "archivo                9187\n",
            "colombia                934\n",
            "deportes                727\n",
            "opinion                 532\n",
            "mundo                   446\n",
            "cultura                 430\n",
            "economia                367\n",
            "justicia                343\n",
            "bogota                  311\n",
            "vida                    268\n",
            "politica                252\n",
            "tecnosfera              214\n",
            "salud                   106\n",
            "historias-el-tiempo      57\n",
            "mundial                  47\n",
            "Name: count, dtype: int64\n"
          ]
        }
      ],
      "source": [
        "category_counts = df_news['Etiqueta'].value_counts()\n",
        "print(category_counts[:15])"
      ]
    },
    {
      "cell_type": "code",
      "execution_count": 7,
      "metadata": {
        "id": "fOhHx9aVT9Y0",
        "outputId": "7b604675-b9b5-416f-c322-fc9c4be0ffb8",
        "colab": {
          "base_uri": "https://localhost:8080/",
          "height": 343
        }
      },
      "outputs": [
        {
          "output_type": "display_data",
          "data": {
            "text/plain": [
              "<Figure size 1500x600 with 1 Axes>"
            ],
            "image/png": "[encoded data removed]"
          },
          "metadata": {}
        }
      ],
      "source": [
        "plt.figure(figsize=(15,6))\n",
        "sns.barplot(x=category_counts.index[:15], y=category_counts.values[:15])\n",
        "plt.title('Distribution of News Categories')\n",
        "plt.xlabel('Category')\n",
        "plt.ylabel('Count')\n",
        "plt.xticks(rotation=45)\n",
        "plt.show()"
      ]
    },
    {
      "cell_type": "markdown",
      "metadata": {
        "id": "n3M1a1y6T9Y0"
      },
      "source": [
        "# Exercise 2\n",
        "Filter by most relevant"
      ]
    },
    {
      "cell_type": "code",
      "execution_count": 9,
      "metadata": {
        "id": "Anto-bS0T9Y0",
        "outputId": "3e142b5d-0fd1-498c-ac5c-8069226ab6a1",
        "colab": {
          "base_uri": "https://localhost:8080/"
        }
      },
      "outputs": [
        {
          "output_type": "stream",
          "name": "stdout",
          "text": [
            "Etiqueta\n",
            "colombia      934\n",
            "deportes      727\n",
            "opinion       532\n",
            "mundo         446\n",
            "cultura       430\n",
            "economia      367\n",
            "justicia      343\n",
            "bogota        311\n",
            "vida          268\n",
            "politica      252\n",
            "tecnosfera    214\n",
            "salud         106\n",
            "Name: count, dtype: int64\n"
          ]
        }
      ],
      "source": [
        "# randomly picked 100 as the min threshold\n",
        "most_relevant_cats = category_counts[(category_counts > 100) & (category_counts < 1000)]\n",
        "print(most_relevant_cats)"
      ]
    },
    {
      "cell_type": "code",
      "execution_count": 10,
      "metadata": {
        "id": "6tdRi7osT9Y0",
        "outputId": "4062b176-4b94-4f7f-845e-927f803deecc",
        "colab": {
          "base_uri": "https://localhost:8080/"
        }
      },
      "outputs": [
        {
          "output_type": "execute_result",
          "data": {
            "text/plain": [
              "(2971, 5)"
            ]
          },
          "metadata": {},
          "execution_count": 10
        }
      ],
      "source": [
        "df_filtered = df_news[df_news['Etiqueta'].isin([\n",
        "    'deportes',\n",
        "    'opinion',\n",
        "    'cultura',\n",
        "    'economia',\n",
        "    'justicia',\n",
        "    'politica',\n",
        "    'tecnosfera',\n",
        "    'salud'\n",
        "])]\n",
        "df_filtered.shape"
      ]
    },
    {
      "cell_type": "markdown",
      "metadata": {
        "id": "-pL0xHdcT9Y0"
      },
      "source": [
        "# Exercise 3\n",
        "Data preprocessing"
      ]
    },
    {
      "cell_type": "code",
      "execution_count": 11,
      "metadata": {
        "id": "FRHWf_KYT9Y0",
        "outputId": "9ca61ead-750c-4f7e-e9d6-d74c1c566bef",
        "colab": {
          "base_uri": "https://localhost:8080/"
        }
      },
      "outputs": [
        {
          "output_type": "execute_result",
          "data": {
            "text/plain": [
              "(2971, 5)"
            ]
          },
          "metadata": {},
          "execution_count": 11
        }
      ],
      "source": [
        "df_preprocessed = df_filtered.copy()\n",
        "df_preprocessed.shape"
      ]
    },
    {
      "cell_type": "code",
      "execution_count": 12,
      "metadata": {
        "id": "yGklTbvGT9Y1",
        "outputId": "aac37316-4989-4994-a500-0f160edba499",
        "colab": {
          "base_uri": "https://localhost:8080/"
        }
      },
      "outputs": [
        {
          "output_type": "execute_result",
          "data": {
            "text/plain": [
              "(2971, 4)"
            ]
          },
          "metadata": {},
          "execution_count": 12
        }
      ],
      "source": [
        "df_preprocessed = df_preprocessed[['Título', 'info', 'contenido', 'Etiqueta']]\n",
        "df_preprocessed.shape"
      ]
    },
    {
      "cell_type": "code",
      "execution_count": 13,
      "metadata": {
        "id": "kZkXecNhT9Y1",
        "outputId": "9f45ea46-1f79-4b02-a0c9-f249e0d5c5f2",
        "colab": {
          "base_uri": "https://localhost:8080/"
        }
      },
      "outputs": [
        {
          "output_type": "execute_result",
          "data": {
            "text/plain": [
              "(2388, 4)"
            ]
          },
          "metadata": {},
          "execution_count": 13
        }
      ],
      "source": [
        "df_preprocessed = df_preprocessed.dropna()\n",
        "df_preprocessed.shape"
      ]
    },
    {
      "cell_type": "code",
      "execution_count": 14,
      "metadata": {
        "id": "LcHGN-f_T9Y1",
        "outputId": "7aadc7ad-f630-42c2-a2b2-784f418bd160",
        "colab": {
          "base_uri": "https://localhost:8080/",
          "height": 179
        }
      },
      "outputs": [
        {
          "output_type": "execute_result",
          "data": {
            "text/plain": [
              "                                                  Título  \\\n",
              "10487  Al interior de, aparte, roquero, rock / El len...   \n",
              "10488  Antonina Canal: 20 años de danza oriental en C...   \n",
              "\n",
              "                                                    info  \\\n",
              "10487  'Al interior de' es el reemplazo sofisticado e...   \n",
              "10488  La bailarina habló con EL TIEMPO de su trayect...   \n",
              "\n",
              "                                               contenido Etiqueta  \n",
              "10487  Citas: “Los crímenes de violencia sexual comet...  cultura  \n",
              "10488  Con motivo de la celebración de los 20 años de...  cultura  "
            ],
            "text/html": [
              "\n",
              "  <div id=\"df-b3c9ad53-030a-4f84-ab55-bf23bd98a4e3\" class=\"colab-df-container\">\n",
              "    <div>\n",
              "<style scoped>\n",
              "    .dataframe tbody tr th:only-of-type {\n",
              "        vertical-align: middle;\n",
              "    }\n",
              "\n",
              "    .dataframe tbody tr th {\n",
              "        vertical-align: top;\n",
              "    }\n",
              "\n",
              "    .dataframe thead th {\n",
              "        text-align: right;\n",
              "    }\n",
              "</style>\n",
              "<table border=\"1\" class=\"dataframe\">\n",
              "  <thead>\n",
              "    <tr style=\"text-align: right;\">\n",
              "      <th></th>\n",
              "      <th>Título</th>\n",
              "      <th>info</th>\n",
              "      <th>contenido</th>\n",
              "      <th>Etiqueta</th>\n",
              "    </tr>\n",
              "  </thead>\n",
              "  <tbody>\n",
              "    <tr>\n",
              "      <th>10487</th>\n",
              "      <td>Al interior de, aparte, roquero, rock / El len...</td>\n",
              "      <td>'Al interior de' es el reemplazo sofisticado e...</td>\n",
              "      <td>Citas: “Los crímenes de violencia sexual comet...</td>\n",
              "      <td>cultura</td>\n",
              "    </tr>\n",
              "    <tr>\n",
              "      <th>10488</th>\n",
              "      <td>Antonina Canal: 20 años de danza oriental en C...</td>\n",
              "      <td>La bailarina habló con EL TIEMPO de su trayect...</td>\n",
              "      <td>Con motivo de la celebración de los 20 años de...</td>\n",
              "      <td>cultura</td>\n",
              "    </tr>\n",
              "  </tbody>\n",
              "</table>\n",
              "</div>\n",
              "    <div class=\"colab-df-buttons\">\n",
              "\n",
              "  <div class=\"colab-df-container\">\n",
              "    <button class=\"colab-df-convert\" onclick=\"convertToInteractive('df-b3c9ad53-030a-4f84-ab55-bf23bd98a4e3')\"\n",
              "            title=\"Convert this dataframe to an interactive table.\"\n",
              "            style=\"display:none;\">\n",
              "\n",
              "  <svg xmlns=\"http://www.w3.org/2000/svg\" height=\"24px\" viewBox=\"0 -960 960 960\">\n",
              "    <path d=\"M120-120v-720h720v720H120Zm60-500h600v-160H180v160Zm220 220h160v-160H400v160Zm0 220h160v-160H400v160ZM180-400h160v-160H180v160Zm440 0h160v-160H620v160ZM180-180h160v-160H180v160Zm440 0h160v-160H620v160Z\"/>\n",
              "  </svg>\n",
              "    </button>\n",
              "\n",
              "  <style>\n",
              "    .colab-df-container {\n",
              "      display:flex;\n",
              "      gap: 12px;\n",
              "    }\n",
              "\n",
              "    .colab-df-convert {\n",
              "      background-color: #E8F0FE;\n",
              "      border: none;\n",
              "      border-radius: 50%;\n",
              "      cursor: pointer;\n",
              "      display: none;\n",
              "      fill: #1967D2;\n",
              "      height: 32px;\n",
              "      padding: 0 0 0 0;\n",
              "      width: 32px;\n",
              "    }\n",
              "\n",
              "    .colab-df-convert:hover {\n",
              "      background-color: #E2EBFA;\n",
              "      box-shadow: 0px 1px 2px rgba(60, 64, 67, 0.3), 0px 1px 3px 1px rgba(60, 64, 67, 0.15);\n",
              "      fill: #174EA6;\n",
              "    }\n",
              "\n",
              "    .colab-df-buttons div {\n",
              "      margin-bottom: 4px;\n",
              "    }\n",
              "\n",
              "    [theme=dark] .colab-df-convert {\n",
              "      background-color: #3B4455;\n",
              "      fill: #D2E3FC;\n",
              "    }\n",
              "\n",
              "    [theme=dark] .colab-df-convert:hover {\n",
              "      background-color: #434B5C;\n",
              "      box-shadow: 0px 1px 3px 1px rgba(0, 0, 0, 0.15);\n",
              "      filter: drop-shadow(0px 1px 2px rgba(0, 0, 0, 0.3));\n",
              "      fill: #FFFFFF;\n",
              "    }\n",
              "  </style>\n",
              "\n",
              "    <script>\n",
              "      const buttonEl =\n",
              "        document.querySelector('#df-b3c9ad53-030a-4f84-ab55-bf23bd98a4e3 button.colab-df-convert');\n",
              "      buttonEl.style.display =\n",
              "        google.colab.kernel.accessAllowed ? 'block' : 'none';\n",
              "\n",
              "      async function convertToInteractive(key) {\n",
              "        const element = document.querySelector('#df-b3c9ad53-030a-4f84-ab55-bf23bd98a4e3');\n",
              "        const dataTable =\n",
              "          await google.colab.kernel.invokeFunction('convertToInteractive',\n",
              "                                                    [key], {});\n",
              "        if (!dataTable) return;\n",
              "\n",
              "        const docLinkHtml = 'Like what you see? Visit the ' +\n",
              "          '<a target=\"_blank\" href=https://colab.research.google.com/notebooks/data_table.ipynb>data table notebook</a>'\n",
              "          + ' to learn more about interactive tables.';\n",
              "        element.innerHTML = '';\n",
              "        dataTable['output_type'] = 'display_data';\n",
              "        await google.colab.output.renderOutput(dataTable, element);\n",
              "        const docLink = document.createElement('div');\n",
              "        docLink.innerHTML = docLinkHtml;\n",
              "        element.appendChild(docLink);\n",
              "      }\n",
              "    </script>\n",
              "  </div>\n",
              "\n",
              "\n",
              "<div id=\"df-768e9cd6-e9f9-4d80-a94b-b3fc3e0295b2\">\n",
              "  <button class=\"colab-df-quickchart\" onclick=\"quickchart('df-768e9cd6-e9f9-4d80-a94b-b3fc3e0295b2')\"\n",
              "            title=\"Suggest charts\"\n",
              "            style=\"display:none;\">\n",
              "\n",
              "<svg xmlns=\"http://www.w3.org/2000/svg\" height=\"24px\"viewBox=\"0 0 24 24\"\n",
              "     width=\"24px\">\n",
              "    <g>\n",
              "        <path d=\"M19 3H5c-1.1 0-2 .9-2 2v14c0 1.1.9 2 2 2h14c1.1 0 2-.9 2-2V5c0-1.1-.9-2-2-2zM9 17H7v-7h2v7zm4 0h-2V7h2v10zm4 0h-2v-4h2v4z\"/>\n",
              "    </g>\n",
              "</svg>\n",
              "  </button>\n",
              "\n",
              "<style>\n",
              "  .colab-df-quickchart {\n",
              "      --bg-color: #E8F0FE;\n",
              "      --fill-color: #1967D2;\n",
              "      --hover-bg-color: #E2EBFA;\n",
              "      --hover-fill-color: #174EA6;\n",
              "      --disabled-fill-color: #AAA;\n",
              "      --disabled-bg-color: #DDD;\n",
              "  }\n",
              "\n",
              "  [theme=dark] .colab-df-quickchart {\n",
              "      --bg-color: #3B4455;\n",
              "      --fill-color: #D2E3FC;\n",
              "      --hover-bg-color: #434B5C;\n",
              "      --hover-fill-color: #FFFFFF;\n",
              "      --disabled-bg-color: #3B4455;\n",
              "      --disabled-fill-color: #666;\n",
              "  }\n",
              "\n",
              "  .colab-df-quickchart {\n",
              "    background-color: var(--bg-color);\n",
              "    border: none;\n",
              "    border-radius: 50%;\n",
              "    cursor: pointer;\n",
              "    display: none;\n",
              "    fill: var(--fill-color);\n",
              "    height: 32px;\n",
              "    padding: 0;\n",
              "    width: 32px;\n",
              "  }\n",
              "\n",
              "  .colab-df-quickchart:hover {\n",
              "    background-color: var(--hover-bg-color);\n",
              "    box-shadow: 0 1px 2px rgba(60, 64, 67, 0.3), 0 1px 3px 1px rgba(60, 64, 67, 0.15);\n",
              "    fill: var(--button-hover-fill-color);\n",
              "  }\n",
              "\n",
              "  .colab-df-quickchart-complete:disabled,\n",
              "  .colab-df-quickchart-complete:disabled:hover {\n",
              "    background-color: var(--disabled-bg-color);\n",
              "    fill: var(--disabled-fill-color);\n",
              "    box-shadow: none;\n",
              "  }\n",
              "\n",
              "  .colab-df-spinner {\n",
              "    border: 2px solid var(--fill-color);\n",
              "    border-color: transparent;\n",
              "    border-bottom-color: var(--fill-color);\n",
              "    animation:\n",
              "      spin 1s steps(1) infinite;\n",
              "  }\n",
              "\n",
              "  @keyframes spin {\n",
              "    0% {\n",
              "      border-color: transparent;\n",
              "      border-bottom-color: var(--fill-color);\n",
              "      border-left-color: var(--fill-color);\n",
              "    }\n",
              "    20% {\n",
              "      border-color: transparent;\n",
              "      border-left-color: var(--fill-color);\n",
              "      border-top-color: var(--fill-color);\n",
              "    }\n",
              "    30% {\n",
              "      border-color: transparent;\n",
              "      border-left-color: var(--fill-color);\n",
              "      border-top-color: var(--fill-color);\n",
              "      border-right-color: var(--fill-color);\n",
              "    }\n",
              "    40% {\n",
              "      border-color: transparent;\n",
              "      border-right-color: var(--fill-color);\n",
              "      border-top-color: var(--fill-color);\n",
              "    }\n",
              "    60% {\n",
              "      border-color: transparent;\n",
              "      border-right-color: var(--fill-color);\n",
              "    }\n",
              "    80% {\n",
              "      border-color: transparent;\n",
              "      border-right-color: var(--fill-color);\n",
              "      border-bottom-color: var(--fill-color);\n",
              "    }\n",
              "    90% {\n",
              "      border-color: transparent;\n",
              "      border-bottom-color: var(--fill-color);\n",
              "    }\n",
              "  }\n",
              "</style>\n",
              "\n",
              "  <script>\n",
              "    async function quickchart(key) {\n",
              "      const quickchartButtonEl =\n",
              "        document.querySelector('#' + key + ' button');\n",
              "      quickchartButtonEl.disabled = true;  // To prevent multiple clicks.\n",
              "      quickchartButtonEl.classList.add('colab-df-spinner');\n",
              "      try {\n",
              "        const charts = await google.colab.kernel.invokeFunction(\n",
              "            'suggestCharts', [key], {});\n",
              "      } catch (error) {\n",
              "        console.error('Error during call to suggestCharts:', error);\n",
              "      }\n",
              "      quickchartButtonEl.classList.remove('colab-df-spinner');\n",
              "      quickchartButtonEl.classList.add('colab-df-quickchart-complete');\n",
              "    }\n",
              "    (() => {\n",
              "      let quickchartButtonEl =\n",
              "        document.querySelector('#df-768e9cd6-e9f9-4d80-a94b-b3fc3e0295b2 button');\n",
              "      quickchartButtonEl.style.display =\n",
              "        google.colab.kernel.accessAllowed ? 'block' : 'none';\n",
              "    })();\n",
              "  </script>\n",
              "</div>\n",
              "\n",
              "    </div>\n",
              "  </div>\n"
            ],
            "application/vnd.google.colaboratory.intrinsic+json": {
              "type": "dataframe",
              "variable_name": "df_preprocessed",
              "summary": "{\n  \"name\": \"df_preprocessed\",\n  \"rows\": 2388,\n  \"fields\": [\n    {\n      \"column\": \"T\\u00edtulo\",\n      \"properties\": {\n        \"dtype\": \"string\",\n        \"num_unique_values\": 2386,\n        \"samples\": [\n          \"Definitivo: Jhon 'Calzones' debe abandonar la alcald\\u00eda de Yopal\",\n          \"M\\u00f3naco, a cuartos de final de la Liga de Campeones\",\n          \"Avianca despide a hombre que aparece en video con licor en Mundial\"\n        ],\n        \"semantic_type\": \"\",\n        \"description\": \"\"\n      }\n    },\n    {\n      \"column\": \"info\",\n      \"properties\": {\n        \"dtype\": \"string\",\n        \"num_unique_values\": 2386,\n        \"samples\": [\n          \"La Corte Suprema de Justicia rechaz\\u00f3 casaci\\u00f3n y dej\\u00f3 en firme la condena por urbanizaci\\u00f3n ilegal.\",\n          \"Enfrentan a Montpellier en las semifinales de la Copa de la Liga para salvar la temporada.\",\n          \"La compa\\u00f1\\u00eda inform\\u00f3 que Luis Felipe G\\u00f3mez viol\\u00f3 la normatividad 'vigente en el marco del evento'.\"\n        ],\n        \"semantic_type\": \"\",\n        \"description\": \"\"\n      }\n    },\n    {\n      \"column\": \"contenido\",\n      \"properties\": {\n        \"dtype\": \"string\",\n        \"num_unique_values\": 2387,\n        \"samples\": [\n          \"Este s\\u00e1bado, durante la firma del nuevo acuerdo de paz entre el Gobierno y las Farc, el jefe de la delegaci\\u00f3n negociadora del Gobierno, Humberto de la Calle, comenz\\u00f3 su intervenci\\u00f3n agradeciendo a los pa\\u00edses garantes \\u201cy en particular, a la generosidad del gobierno de Cuba al habernos tenido ac\\u00e1 en medio de un ambiente de apoyo, de seriedad, de trabajo diplom\\u00e1tico impecable durante ya m\\u00e1s de cuatro a\\u00f1os\\u201d. De la Calle record\\u00f3 el camino seguido en el proceso de paz despu\\u00e9s del triunfo del \\u2018No\\u2019 en el plebiscito del pasado 2 de octubre. \\u201cComprendimos que era necesario trabajar con celeridad y responsabilidad en la b\\u00fasqueda de un nuevo acuerdo, incluyente y respetuoso\\u201d , dijo. Como un esfuerzo \\u201cgenuino, leal\\u201d, calific\\u00f3 los di\\u00e1logos abiertos por el presidente Juan Manuel Santos con los distintos voceros del \\u2018No\\u2019 que, seg\\u00fan De la Calle, llevaron a m\\u00e1s de 100 horas de intercambio directo de opiniones. De la Calle reafirm\\u00f3 que los di\\u00e1logos en La Habana, una vez fueron recogidas las inquietudes del \\u2018No\\u2019, implicaron m\\u00e1s de 15 d\\u00edas y noches de trabajo, \\u201cmuchas veces m\\u00e1s all\\u00e1 de la medianoche\\u201d. El jefe negociador del Gobierno reconoci\\u00f3, adem\\u00e1s de las arduas discusiones, la complejidad de los temas puestos sobre la mesa. \\u201cUna vez m\\u00e1s nos probamos que, a pesar de las diferencias y visiones distintas, a trav\\u00e9s del di\\u00e1logo es posible llegar a puntos de encuentro\\u201d , sostuvo. Durante su discurso, De la Calle enumer\\u00f3 algunos de los cambios introducidos al acuerdo de paz y que convierten este, seg\\u00fan reconoci\\u00f3, en un acuerdo mejor que el firmado el 26 de septiembre en Cartagena. Esto, pese a que \\u00e9l mismo hab\\u00eda calificado el acuerdo derrotado en las urnas como \\u201cel mejor posible\\u201d. \\u201cEstamos convencidos de que este documento se\\u00f1ala caminos viables y posibles para acabar con tantas d\\u00e9cadas de conflicto en Colombia\\u201d , dijo. No obstante, reconoci\\u00f3 que \\u201csu aceptaci\\u00f3n no va a ser un\\u00e1nime, como tampoco lo fue el primer acuerdo\\u201d. Entre esos cambios, a los que llam\\u00f3 \\u201cinnovaciones\\u201d, se resalta la precisi\\u00f3n de que las Farc presentar\\u00e1n un inventario de sus bienes y activos durante el proceso de dejaci\\u00f3n de armas. La jurisdicci\\u00f3n especial para la paz se mantiene con algunos cambios, como que ya no habr\\u00e1 presencia de magistrados extranjeros en esta, aunque estos s\\u00ed podr\\u00e1n cumplir un papel de consejeros externos. Adem\\u00e1s, se precis\\u00f3 el alcance geogr\\u00e1fico de la restricci\\u00f3n efectiva de la libertad a espacios con dimensiones similares a las de las zonas veredales de transici\\u00f3n en que se llevar\\u00e1 a cabo la dejaci\\u00f3n de armas. Respecto a la conexidad del narcotr\\u00e1fico con los delitos pol\\u00edticos, la jurisdicci\\u00f3n especial tendr\\u00e1 en cuenta, caso a caso, la jurisprudencia de los altos tribunales colombianos. De la Calle tambi\\u00e9n reiter\\u00f3 que el nuevo acuerdo precisa los alcances del enfoque de g\\u00e9nero , entendido como la igualdad entre hombres y mujeres, sin dejar de reconocer que el conflicto ha impactado de manera diferencial a las mujeres. El respeto a la propiedad privada y su armonizaci\\u00f3n con iniciativas de agroindustria y turismo son algunas de las precisiones logradas en materia de reforma rural integral, seg\\u00fan el comunicado le\\u00eddo por Humberto de la Calle. Tambi\\u00e9n precis\\u00f3 que el acuerdo no contemplar\\u00e1 la creaci\\u00f3n de zonas de reservas campesina. Por orden del presidente Santos, \\u201cquedamos a disposici\\u00f3n de los voceros del \\u2018No\\u2019 para explicar los t\\u00e9rminos del nuevo acuerdo suscrito hoy\\u201d, concluy\\u00f3 De la Calle. En la tarde de este s\\u00e1bado, el senador \\u00c1lvaro Uribe pidi\\u00f3 a Santos que el nuevo acuerdo no tuviera alcance definitivo. \\u201cNo podemos pedir que cese la discusi\\u00f3n, pero s\\u00ed podemos desear que la gran decisi\\u00f3n nacional sea poner en marcha la ejecuci\\u00f3n de los acuerdos, superar el conflicto armado, abrir caminos a la reconciliaci\\u00f3n y profundizar los esfuerzos para lograr una sociedad m\\u00e1s equitativa\\u201d , dijo el negociador, y termin\\u00f3 su discurso: \\u201cHoy termina algo y empieza tambi\\u00e9n una nueva etapa. Es el reto de nosotros, por nuestros hijos y por nuestros nietos\\u201d. DECLARACI\\u00d3N JEFE DE LA DELEGACI\\u00d3N Humberto de la Calle La Habana, 12 de noviembre de 2016 Buenas tardes, Despu\\u00e9s del resultado obtenido el pasado 2 de octubre en el que m\\u00e1s de seis millones de colombianos expresaron mediante su voto los reparos al Acuerdo firmado entre el Gobierno y las FARC, comprendimos que era necesario trabajar con celeridad y responsabilidad en la b\\u00fasqueda de un nuevo Acuerdo. Un Acuerdo incluyente y respetuoso. A partir del mismo 3 de octubre, los colombianos hemos sido testigos de un ejercicio profundo de di\\u00e1logo. Adem\\u00e1s de las m\\u00faltiples reuniones que sostuvo el Jefe de Estado con los diferentes l\\u00edderes del No, muy r\\u00e1pidamente design\\u00f3 una Comisi\\u00f3n conformada por el Ministro de Defensa, la Canciller y por m\\u00ed, en calidad de Jefe Negociador; en la que tambi\\u00e9n participaron el Equipo Negociador, el Ministro del Interior y el Alto Consejero para el Posconflicto y el Alto Comisionado para la Paz, Sergio Jaramillo; con el prop\\u00f3sito de sostener di\\u00e1logos abiertos y recoger inquietudes, preocupaciones y sugerencias al Acuerdo para la Terminaci\\u00f3n del Conflicto. Fue un esfuerzo genuino, leal, que nos permiti\\u00f3 recopilar la totalidad de las iniciativas, ordenarlas, estudiarlas a fondo, luego de cerca de cien horas de intercambio directo de opiniones en un ejercicio constructivo, franco y democr\\u00e1tico. Despu\\u00e9s de terminar las reuniones con los voceros del No, viajamos a La Habana para discutir con las FARC las preocupaciones expresadas en Bogot\\u00e1, insistir en la importancia de incorporar el mayor n\\u00famero de propuestas al texto y trabajar en la construcci\\u00f3n de un nuevo Acuerdo que cumpliera en lo posible con las expectativas de muchos colombianos. Las reuniones con la delegaci\\u00f3n de las FARC fueron igualmente intensas. M\\u00e1s de 15 d\\u00edas y noches de trabajo reuniones con discusiones arduas dada la complejidad de los temas. Debo destacar el ambiente constructivo y la buena voluntad de las delegaciones para trabajar con disciplina y seriedad. Este nuevo Acuerdo fue adem\\u00e1s una oportunidad para aclarar dudas, resolver inquietudes pero sobretodo para unirnos los colombianos. Una vez m\\u00e1s nos probamos que, a pesar de las diferencias y visiones distintas, a trav\\u00e9s del di\\u00e1logo es posible llegar a puntos de encuentro. Esta tarea la asumimos con compromiso, respeto y responsabilidad. Pensamos en los colombianos, en sus expectativas y sus v\\u00e1lidas inquietudes, pero tambi\\u00e9n trabajamos con la certeza de que no hay m\\u00e1s tiempo que perder. Estamos convencidos de que este documento se\\u00f1ala caminos viables y posibles para acabar con tantas d\\u00e9cadas de conflicto en Colombia. Ahora deseo hacer una confesi\\u00f3n personal: Dije que el Acuerdo del 26 de septiembre era el mejor Acuerdo posible, aunque era tambi\\u00e9n susceptible de cr\\u00edticas. Y se\\u00f1al\\u00e9 que esa afirmaci\\u00f3n no se hac\\u00eda desde la arrogancia. Era el mejor por cuanto permit\\u00eda dar por terminado el conflicto, no para desestimar las insatisfacciones que pod\\u00eda generar. Hoy con humildad reconozco que este Acuerdo es mejor en cuanto resuelve muchas de esas cr\\u00edticas e insatisfacciones. Su aceptaci\\u00f3n no va a ser un\\u00e1nime. Como tampoco lo fue en el primer acuerdo. Pero esperamos que la base de apoyo que recoja lo haga m\\u00e1s s\\u00f3lido. Pero m\\u00e1s que exaltar las virtudes de \\u00e9ste frente al anterior, en lo que gana con creces es que mediante un ejercicio democr\\u00e1tico se ha logrado construir una base de sustento m\\u00e1s amplia. La cuesti\\u00f3n no es s\\u00f3lo la ampliaci\\u00f3n del apoyo, sino que este ha sido fabricado en un ejercicio leal de democracia y di\\u00e1logo sincero. A los otros seis millones de votos que nos acompa\\u00f1aron en la refrendaci\\u00f3n del Acuerdo, quiero decirles que los ajustes y precisiones que hemos realizado, no sacrifican las convicciones que le dieron forma al primer Acuerdo. No cancelamos la ilusi\\u00f3n. No dimos marcha atr\\u00e1s en la posibilidad de un pa\\u00eds nuevo. No desistimos del prop\\u00f3sito de reivindicar la familia campesina. Limpiar la pol\\u00edtica. Combatir las bandas criminales y la corrupci\\u00f3n. Contribuir a superar el problema mundial de la droga. Impartir justicia pensando m\\u00e1s en las v\\u00edctimas que en los barrotes. Integrar nuestros territorios. Superar desigualdades ancestrales. Crear una sociedad m\\u00e1s equitativa. Crearla a trav\\u00e9s del di\\u00e1logo, del uso razonable de la autoridad del Estado, buscando darle cimientos fuertes a la seguridad humana. Escuchando, sobre todo escuchando a los m\\u00e1s d\\u00e9biles. Quiero destacar algunas de las innovaciones de este acuerdo: Durante el t\\u00e9rmino de la dejaci\\u00f3n de armas, las FARC presentar\\u00e1n un inventario de bienes y activos para destinarlos a la reparaci\\u00f3n material de las v\\u00edctimas. En cuanto a la Jurisdicci\\u00f3n Especial para la Paz se atendi\\u00f3 la mayor\\u00eda de las propuestas formuladas. Se precisaron de manera concreta las caracter\\u00edsticas y mecanismos de la restricci\\u00f3n efectiva de la libertad. En efecto, se fijaron los espacios territoriales espec\\u00edficos para el cumplimiento de las sanciones con un tama\\u00f1o m\\u00e1ximo a las zonas veredales, los periodos de ejecuci\\u00f3n de las acciones reparadoras, la precisi\\u00f3n del lugar de residencia, los mecanismos de monitoreo y la regulaci\\u00f3n del sistema de autorizaci\\u00f3n para los desplazamientos por fuera de las zonas, requisito necesario en todos los casos. Por iniciativa de algunos opositores se acept\\u00f3 que mientras entra en funcionamiento la JEP, las acciones reparadoras debidamente verificadas pueden ser descontadas de la sanci\\u00f3n que se imponga. Sobre el discutido tema de la conexidad del narcotr\\u00e1fico con el delito pol\\u00edtico, el acuerdo es que los Magistrados tendr\\u00e1n en cuenta caso a caso la jurisprudencia de las cortes colombianas. Se eliminan los Magistrados extranjeros pero se acepta la presencia de amicus curiae, -expertos extranjeros- para rendir conceptos sobre los casos que se tramiten. Queda claro que entre la normatividad aplicable se incluye el C\\u00f3digo Penal Colombiano y que las normas procedimentales deber\\u00e1n ser incorporadas al ordenamiento legal. Ser\\u00e1n de competencia de la JEP las conductas de financiaci\\u00f3n o colaboraci\\u00f3n con actores del conflicto en que hayan incurrido los terceros no combatientes que tuvieron una participaci\\u00f3n activa o determinante en los cr\\u00edmenes m\\u00e1s graves. Se elimin\\u00f3 la participaci\\u00f3n habitual. Y se reafirm\\u00f3 que los dem\\u00e1s, si contribuyen a las medidas de verdad y reparaci\\u00f3n, pueden beneficiarse de la renuncia de la acci\\u00f3n penal u otro tipo de terminaci\\u00f3n anticipada del proceso. Se estableci\\u00f3 el t\\u00e9rmino concreto de duraci\\u00f3n de la Jurisdicci\\u00f3n. Se elimin\\u00f3 la idea de incorporar el Acuerdo a la Constituci\\u00f3n Pol\\u00edtica y al llamado bloque de constitucionalidad. El principio general de garant\\u00eda de cumplimiento es el compromiso de que ambas partes cumplir\\u00e1n de buena fe lo pactado, y en lo que tiene que ver con el Estado, los principios que informan el Acuerdo ser\\u00e1n par\\u00e1metro de interpretaci\\u00f3n y gu\\u00eda de la aplicaci\\u00f3n normativa y pr\\u00e1ctica. Se estableci\\u00f3 tambi\\u00e9n que la revisi\\u00f3n de la tutela contra decisiones de la Jurisdicci\\u00f3n Especial en cabeza de la Corte Constitucional. En el nuevo Acuerdo se define qu\\u00e9 se entiende por enfoque de g\\u00e9nero. Significa el reconocimiento de la igualdad de derechos entre hombres y mujeres y de las circunstancias especiales de cada uno. Supone reconocer que el conflicto ha impactado de manera diferenciada a la mujer y que, en consecuencia, se requieren acciones distintas y espec\\u00edficas para restablecer sus derechos. Incluye tambi\\u00e9n un principio de respeto a la igualdad y no discriminaci\\u00f3n, que implica que toda persona, independientemente de su sexo, edad, creencias religiosas, opiniones, identidad \\u00e9tnica, pertenencia a la poblaci\\u00f3n LGBTI, o cualquier otra raz\\u00f3n, tiene derecho a disfrutar de todos los derechos. Ning\\u00fan contenido del Acuerdo Final se entender\\u00e1 o interpretar\\u00e1 como la negaci\\u00f3n, restricci\\u00f3n o menoscabo de los derechos de las personas. En atenci\\u00f3n al llamado que nos hicieron de diversos sectores religiosos, se estipula que en la implementaci\\u00f3n de lo acordado se deber\\u00e1 respetar la libertad de cultos, lo que significa el reconocimiento y respeto a la pr\\u00e1ctica de cualquier manifestaci\\u00f3n de religiosidad. Mantenemos vivo el compromiso con el campo a trav\\u00e9s de una pol\\u00edtica de recuperaci\\u00f3n de la familia campesina, que impulse el acceso equitativo a la tierra y que cree condiciones de vida digna. En la Reforma Rural Integral hemos afirmado que \\u201cnada de lo establecido en el acuerdo debe afectar el derecho constitucional a la propiedad privada\\u201d. Tambi\\u00e9n qued\\u00f3 expl\\u00edcito que los programas cuyo destinatario es el campesino no impiden la puesta en pr\\u00e1ctica de diversas formas de producci\\u00f3n, tales como la agroindustria o el turismo. Para lograr darle la mayor solidez a la reforma rural, se ajustaron los tiempos de implementaci\\u00f3n a las nuevas realidades fiscales. El acuerdo adem\\u00e1s por s\\u00ed mismo no crea Zonas de Reserva Campesina. Desde el Acuerdo de Cartagena se hab\\u00eda dado un paso inmenso en la lucha contra el problema mundial de la droga. Las FARC se comprometieron a romper todo v\\u00ednculo con \\u00e9l y a cooperar en la superaci\\u00f3n de ese fen\\u00f3meno. Ahora, en el nuevo Acuerdo se ha logrado precisar de manera concreta las caracter\\u00edsticas de esa cooperaci\\u00f3n y adem\\u00e1s quienes acudan a la JEP \\u2013todos, no solo las FARC- deber\\u00e1n informar de manera exhaustiva y detallada sobre las informaciones de las que dispongan para atribuir responsabilidades. De igual modo se aclara que los programas de sustituci\\u00f3n buscan tener territorios libres de cultivos de uso il\\u00edcitos de modo que no se establezca un marco de coexistencia entre el programa de sustituci\\u00f3n y la continuaci\\u00f3n de tales cultivos. En cuanto a la aplicaci\\u00f3n de las pol\\u00edticas sobre el consumo, se robustece el papel de la familia y de los grupos religiosos. Se estableci\\u00f3 el compromiso de respetar el principio de sostenibilidad de las finanzas p\\u00fablicas. En tal sentido, el Plan Marco acordado para las inversiones, deber\\u00e1 contener las fuentes de financiaci\\u00f3n. A partir de hoy los colombianos podr\\u00e1n consultar los cambios y los nuevos elementos del nuevo Acuerdo en las p\\u00e1ginas de internet de La Presidencia de la Rep\\u00fablica, de la Oficina del Alto Comisionado para la Paz, de Equipo Paz Gobierno y de La Mesa de Conversaciones. En el transcurso de la pr\\u00f3xima semana estar\\u00e1 disponible la versi\\u00f3n integrada. Estimados se\\u00f1ores y se\\u00f1oras, No podemos pedir que cese la discusi\\u00f3n. Pero s\\u00ed podemos desear que la gran decisi\\u00f3n nacional sea poner en marcha la ejecuci\\u00f3n de los acuerdos, superar el conflicto armado, abrir caminos a la reconciliaci\\u00f3n y profundizar los esfuerzos para lograr una sociedad equitativa. Ese es el reto ahora. El reto de nosotros, por nuestros hijos y nuestros nietos. ELTIEMPO.COM Miedo 11:19 p.m. Ejercite su mente en la cuarentena con este test de l\\u00f3gica matem\\u00e1tica Ponga a prueba esas clases de matem\\u00e1ticas del colegio y de la vida par ... Manizales 10:00 p.m. Ya se venden medicamentos de cannabis con f\\u00f3rmula m\\u00e9dica En farmacias especializadas de Colombia es posible acceder a medicamen ... Manizales 10:00 p.m. El gu\\u00eda de la salud mental del pueblo con m\\u00e1s casos de bipolaridad Coronavirus en Colombia 09:31 p.m. Una cabina de desinfecci\\u00f3n manual para Barranquilla Valle del Cauca 07:50 p.m. Se han recogido cerca de 132 mil mercados en 'Donat\\u00f3n Valle Solidario'\",\n          \"M\\u00f3naco dej\\u00f3 de ser ese equipo s\\u00f3lido y sorprendente de la pasada temporada, en la que gan\\u00f3 la Liga por encima del poderoso PSG, que se meti\\u00f3 en las semifinales de la Liga de Campeones y estuvo peleando en las copas nacionales. Este modelo 2018 a\\u00fan est\\u00e1 en construcci\\u00f3n, luego de la partida de grandes de sus estrellas. Este mi\\u00e9rcoles tendr\\u00e1 una prueba importante para salvar la temporada: recibe a Montpellier en las semifinales de la Copa de la Liga de Francia, con la firme intenci\\u00f3n de llegar a la final y aspirar a un t\\u00edtulo en este 2018. Las cosas no han sido f\\u00e1ciles para M\\u00f3naco. Quedaron eliminados en la primera fase de la Liga de Campeones, hace una semana le dijeron adi\\u00f3s a la Copa de Francia, y la Liga la ve muy lejos: est\\u00e1n a 12 puntos del l\\u00edder PSG. Para este compromiso, Leonardo Jardim, entrenador de M\\u00f3naco, espera que aparezcan los goles de su m\\u00e1xima estrella, el colombiano Radamel Falcao Garc\\u00eda, quien solo ha anotado un gol en este inicio de a\\u00f1o. \\u201c Es de lejos nuestro mejor goleador (16 tantos en la Liga), todo el mundo conoce su calidad\\u201d, afirm\\u00f3 el entrenador portugu\\u00e9s. \\u201cEstuvo parado un mes. Necesita tiempo para recuperar el nivel, pero de \\u00e9l siempre se espera un gran nivel y goles. Espero que en el futuro pr\\u00f3ximo pueda marcar\\u201d, dijo. Para este compromiso, Jardim cuenta con las ideas y todo el arsenal, uno de los mayores problemas que ha tenido en esta temporada y al que le ha variado el sistema t\\u00e1ctico y los nombres para poder tener un equipo competitivo en el campo. Montpellier es un equipo al que hay que enfrentar con mucha precauci\\u00f3n. \\u201c Alinear\\u00e9 al mejor equipo posible . Sabemos que es muy fuerte nuestro rival, al que es dif\\u00edcil anotarle\\u201d, asegur\\u00f3 Jardim. El ganador de esta serie se enfrentar\\u00e1 al Paris Saint-Germain, que ayer venci\\u00f3 2-3 al Rennes. DEPORTES Miedo 11:19 p.m. Ejercite su mente en la cuarentena con este test de l\\u00f3gica matem\\u00e1tica Ponga a prueba esas clases de matem\\u00e1ticas del colegio y de la vida par ... Manizales 10:00 p.m. Ya se venden medicamentos de cannabis con f\\u00f3rmula m\\u00e9dica En farmacias especializadas de Colombia es posible acceder a medicamen ... Manizales 10:00 p.m. El gu\\u00eda de la salud mental del pueblo con m\\u00e1s casos de bipolaridad Coronavirus en Colombia 09:31 p.m. Una cabina de desinfecci\\u00f3n manual para Barranquilla Valle del Cauca 07:50 p.m. Se han recogido cerca de 132 mil mercados en 'Donat\\u00f3n Valle Solidario'\",\n          \"El pleito entre Avianca Holdings y su accionista minoritario Kingsland Holdings \\u2013de la familia salvadore\\u00f1a Kriete\\u2013 se creci\\u00f3. Este lunes la firma interpuso ante la corte de Nueva York dos recursos en contra de su accionista minoritario. Por un lado, present\\u00f3 una demanda para que se le ordene a Kingsland y a Roberto Kriete que se abstengan de \\u201cseguir divulgando informaci\\u00f3n confidencial de la compa\\u00f1\\u00eda de manera ilegal y en beneficio propio, debiendo cumplir con sus obligaciones contractuales bajo el acuerdo de accionistas suscrito con Synergy Aerospace y Avianca Holdings\\u201d, seg\\u00fan un comunicado de la empresa. En segundo lugar, interpuso una petici\\u00f3n (motion to dismiss) para que dicha corte rechace la demanda presentada por Kingsland a finales de febrero en contra de Avianca. (Le puede interesar: Las ocho aerol\\u00edneas m\\u00e1s cumplidas de Latinoam\\u00e9rica ) As\\u00ed, Hern\\u00e1n Rinc\\u00f3n, presidente de Avianca Holdings, se pronunci\\u00f3 y dijo que la estrategia de la aerol\\u00ednea va m\\u00e1s all\\u00e1 del litigio. \\u201cAvianca est\\u00e1 comprometida con el logro de los dos objetivos estrat\\u00e9gicos aprobados por la Junta Directiva: hacer parte de una alianza comercial con una aerol\\u00ednea de clase mundial y alcanzar el nuevo capital requerido\\u201d, a\\u00f1adi\\u00f3. Por su parte, Kingsland respondi\\u00f3 ante los recursos que todav\\u00eda est\\u00e1n revisando los documentos presentados este lunes , incluyendo la demanda de Avianca . \\u201cSin embargo, mantenemos las acusaciones de nuestra demanda y creemos firmemente que Kingsland ha cumplido con todas sus obligaciones establecidas por el acuerdo de accionistas y otros documentos\\u201d, declar\\u00f3. A su turno, Avianca dice que los documentos legales detallan las intenciones de Kingsland de impedir las negociaciones y desarrollar una alianza comercial estrat\\u00e9gica con United Airlines, adem\\u00e1s de demostrar que las maniobras legales de Kingsland \\u201c son un fuerte intento para obtener mayores derechos en los tribunales de los que previamente se hab\\u00edan negociado y acordado en el acuerdo de accionistas\\u201d. (Adem\\u00e1s: Pasajeros problem\\u00e1ticos en un vuelo pueden ser multados: Aerocivil ) Ante eso, Kingsland dijo que rechaza que Kriete \\u201chaya actuado inapropiadamente en cualquier manera que no sea en los mejores intereses de la compa\\u00f1\\u00eda\\u201d y que est\\u00e1 realizando esta acci\\u00f3n para proteger la viabilidad de la aerol\\u00ednea. El pr\\u00f3ximo 6 de abril, las partes se reunir\\u00e1n ante la corte por primera vez y comenzar\\u00e1 el proceso en que ambos entregar\\u00e1n sus argumentos. ECONOM\\u00cdA Y NEGOCIOS Miedo 11:19 p.m. Ejercite su mente en la cuarentena con este test de l\\u00f3gica matem\\u00e1tica Ponga a prueba esas clases de matem\\u00e1ticas del colegio y de la vida par ... Manizales 10:00 p.m. Ya se venden medicamentos de cannabis con f\\u00f3rmula m\\u00e9dica En farmacias especializadas de Colombia es posible acceder a medicamen ... Manizales 10:00 p.m. El gu\\u00eda de la salud mental del pueblo con m\\u00e1s casos de bipolaridad Coronavirus en Colombia 09:31 p.m. Una cabina de desinfecci\\u00f3n manual para Barranquilla Valle del Cauca 07:50 p.m. Se han recogido cerca de 132 mil mercados en 'Donat\\u00f3n Valle Solidario'\"\n        ],\n        \"semantic_type\": \"\",\n        \"description\": \"\"\n      }\n    },\n    {\n      \"column\": \"Etiqueta\",\n      \"properties\": {\n        \"dtype\": \"category\",\n        \"num_unique_values\": 8,\n        \"samples\": [\n          \"deportes\",\n          \"politica\",\n          \"cultura\"\n        ],\n        \"semantic_type\": \"\",\n        \"description\": \"\"\n      }\n    }\n  ]\n}"
            }
          },
          "metadata": {},
          "execution_count": 14
        }
      ],
      "source": [
        "df_preprocessed.head(2)"
      ]
    },
    {
      "cell_type": "code",
      "execution_count": 15,
      "metadata": {
        "id": "JCp8RHhLT9Y1",
        "outputId": "3d63807a-18fe-4b44-a246-9460fc731a8c",
        "colab": {
          "base_uri": "https://localhost:8080/",
          "height": 213
        }
      },
      "outputs": [
        {
          "output_type": "execute_result",
          "data": {
            "text/plain": [
              "                                                  Título  \\\n",
              "10487  Al interior de, aparte, roquero, rock / El len...   \n",
              "10488  Antonina Canal: 20 años de danza oriental en C...   \n",
              "\n",
              "                                                    info  \\\n",
              "10487  'Al interior de' es el reemplazo sofisticado e...   \n",
              "10488  La bailarina habló con EL TIEMPO de su trayect...   \n",
              "\n",
              "                                               contenido Etiqueta  \\\n",
              "10487  Citas: “Los crímenes de violencia sexual comet...  cultura   \n",
              "10488  Con motivo de la celebración de los 20 años de...  cultura   \n",
              "\n",
              "                                            unified_text  \n",
              "10487  Título: Al interior de, aparte, roquero, rock ...  \n",
              "10488  Título: Antonina Canal: 20 años de danza orien...  "
            ],
            "text/html": [
              "\n",
              "  <div id=\"df-863f0c99-950c-4f4d-ad2d-371ee4e207ac\" class=\"colab-df-container\">\n",
              "    <div>\n",
              "<style scoped>\n",
              "    .dataframe tbody tr th:only-of-type {\n",
              "        vertical-align: middle;\n",
              "    }\n",
              "\n",
              "    .dataframe tbody tr th {\n",
              "        vertical-align: top;\n",
              "    }\n",
              "\n",
              "    .dataframe thead th {\n",
              "        text-align: right;\n",
              "    }\n",
              "</style>\n",
              "<table border=\"1\" class=\"dataframe\">\n",
              "  <thead>\n",
              "    <tr style=\"text-align: right;\">\n",
              "      <th></th>\n",
              "      <th>Título</th>\n",
              "      <th>info</th>\n",
              "      <th>contenido</th>\n",
              "      <th>Etiqueta</th>\n",
              "      <th>unified_text</th>\n",
              "    </tr>\n",
              "  </thead>\n",
              "  <tbody>\n",
              "    <tr>\n",
              "      <th>10487</th>\n",
              "      <td>Al interior de, aparte, roquero, rock / El len...</td>\n",
              "      <td>'Al interior de' es el reemplazo sofisticado e...</td>\n",
              "      <td>Citas: “Los crímenes de violencia sexual comet...</td>\n",
              "      <td>cultura</td>\n",
              "      <td>Título: Al interior de, aparte, roquero, rock ...</td>\n",
              "    </tr>\n",
              "    <tr>\n",
              "      <th>10488</th>\n",
              "      <td>Antonina Canal: 20 años de danza oriental en C...</td>\n",
              "      <td>La bailarina habló con EL TIEMPO de su trayect...</td>\n",
              "      <td>Con motivo de la celebración de los 20 años de...</td>\n",
              "      <td>cultura</td>\n",
              "      <td>Título: Antonina Canal: 20 años de danza orien...</td>\n",
              "    </tr>\n",
              "  </tbody>\n",
              "</table>\n",
              "</div>\n",
              "    <div class=\"colab-df-buttons\">\n",
              "\n",
              "  <div class=\"colab-df-container\">\n",
              "    <button class=\"colab-df-convert\" onclick=\"convertToInteractive('df-863f0c99-950c-4f4d-ad2d-371ee4e207ac')\"\n",
              "            title=\"Convert this dataframe to an interactive table.\"\n",
              "            style=\"display:none;\">\n",
              "\n",
              "  <svg xmlns=\"http://www.w3.org/2000/svg\" height=\"24px\" viewBox=\"0 -960 960 960\">\n",
              "    <path d=\"M120-120v-720h720v720H120Zm60-500h600v-160H180v160Zm220 220h160v-160H400v160Zm0 220h160v-160H400v160ZM180-400h160v-160H180v160Zm440 0h160v-160H620v160ZM180-180h160v-160H180v160Zm440 0h160v-160H620v160Z\"/>\n",
              "  </svg>\n",
              "    </button>\n",
              "\n",
              "  <style>\n",
              "    .colab-df-container {\n",
              "      display:flex;\n",
              "      gap: 12px;\n",
              "    }\n",
              "\n",
              "    .colab-df-convert {\n",
              "      background-color: #E8F0FE;\n",
              "      border: none;\n",
              "      border-radius: 50%;\n",
              "      cursor: pointer;\n",
              "      display: none;\n",
              "      fill: #1967D2;\n",
              "      height: 32px;\n",
              "      padding: 0 0 0 0;\n",
              "      width: 32px;\n",
              "    }\n",
              "\n",
              "    .colab-df-convert:hover {\n",
              "      background-color: #E2EBFA;\n",
              "      box-shadow: 0px 1px 2px rgba(60, 64, 67, 0.3), 0px 1px 3px 1px rgba(60, 64, 67, 0.15);\n",
              "      fill: #174EA6;\n",
              "    }\n",
              "\n",
              "    .colab-df-buttons div {\n",
              "      margin-bottom: 4px;\n",
              "    }\n",
              "\n",
              "    [theme=dark] .colab-df-convert {\n",
              "      background-color: #3B4455;\n",
              "      fill: #D2E3FC;\n",
              "    }\n",
              "\n",
              "    [theme=dark] .colab-df-convert:hover {\n",
              "      background-color: #434B5C;\n",
              "      box-shadow: 0px 1px 3px 1px rgba(0, 0, 0, 0.15);\n",
              "      filter: drop-shadow(0px 1px 2px rgba(0, 0, 0, 0.3));\n",
              "      fill: #FFFFFF;\n",
              "    }\n",
              "  </style>\n",
              "\n",
              "    <script>\n",
              "      const buttonEl =\n",
              "        document.querySelector('#df-863f0c99-950c-4f4d-ad2d-371ee4e207ac button.colab-df-convert');\n",
              "      buttonEl.style.display =\n",
              "        google.colab.kernel.accessAllowed ? 'block' : 'none';\n",
              "\n",
              "      async function convertToInteractive(key) {\n",
              "        const element = document.querySelector('#df-863f0c99-950c-4f4d-ad2d-371ee4e207ac');\n",
              "        const dataTable =\n",
              "          await google.colab.kernel.invokeFunction('convertToInteractive',\n",
              "                                                    [key], {});\n",
              "        if (!dataTable) return;\n",
              "\n",
              "        const docLinkHtml = 'Like what you see? Visit the ' +\n",
              "          '<a target=\"_blank\" href=https://colab.research.google.com/notebooks/data_table.ipynb>data table notebook</a>'\n",
              "          + ' to learn more about interactive tables.';\n",
              "        element.innerHTML = '';\n",
              "        dataTable['output_type'] = 'display_data';\n",
              "        await google.colab.output.renderOutput(dataTable, element);\n",
              "        const docLink = document.createElement('div');\n",
              "        docLink.innerHTML = docLinkHtml;\n",
              "        element.appendChild(docLink);\n",
              "      }\n",
              "    </script>\n",
              "  </div>\n",
              "\n",
              "\n",
              "<div id=\"df-817085d8-626e-46ca-8a8f-d6de945ad2e3\">\n",
              "  <button class=\"colab-df-quickchart\" onclick=\"quickchart('df-817085d8-626e-46ca-8a8f-d6de945ad2e3')\"\n",
              "            title=\"Suggest charts\"\n",
              "            style=\"display:none;\">\n",
              "\n",
              "<svg xmlns=\"http://www.w3.org/2000/svg\" height=\"24px\"viewBox=\"0 0 24 24\"\n",
              "     width=\"24px\">\n",
              "    <g>\n",
              "        <path d=\"M19 3H5c-1.1 0-2 .9-2 2v14c0 1.1.9 2 2 2h14c1.1 0 2-.9 2-2V5c0-1.1-.9-2-2-2zM9 17H7v-7h2v7zm4 0h-2V7h2v10zm4 0h-2v-4h2v4z\"/>\n",
              "    </g>\n",
              "</svg>\n",
              "  </button>\n",
              "\n",
              "<style>\n",
              "  .colab-df-quickchart {\n",
              "      --bg-color: #E8F0FE;\n",
              "      --fill-color: #1967D2;\n",
              "      --hover-bg-color: #E2EBFA;\n",
              "      --hover-fill-color: #174EA6;\n",
              "      --disabled-fill-color: #AAA;\n",
              "      --disabled-bg-color: #DDD;\n",
              "  }\n",
              "\n",
              "  [theme=dark] .colab-df-quickchart {\n",
              "      --bg-color: #3B4455;\n",
              "      --fill-color: #D2E3FC;\n",
              "      --hover-bg-color: #434B5C;\n",
              "      --hover-fill-color: #FFFFFF;\n",
              "      --disabled-bg-color: #3B4455;\n",
              "      --disabled-fill-color: #666;\n",
              "  }\n",
              "\n",
              "  .colab-df-quickchart {\n",
              "    background-color: var(--bg-color);\n",
              "    border: none;\n",
              "    border-radius: 50%;\n",
              "    cursor: pointer;\n",
              "    display: none;\n",
              "    fill: var(--fill-color);\n",
              "    height: 32px;\n",
              "    padding: 0;\n",
              "    width: 32px;\n",
              "  }\n",
              "\n",
              "  .colab-df-quickchart:hover {\n",
              "    background-color: var(--hover-bg-color);\n",
              "    box-shadow: 0 1px 2px rgba(60, 64, 67, 0.3), 0 1px 3px 1px rgba(60, 64, 67, 0.15);\n",
              "    fill: var(--button-hover-fill-color);\n",
              "  }\n",
              "\n",
              "  .colab-df-quickchart-complete:disabled,\n",
              "  .colab-df-quickchart-complete:disabled:hover {\n",
              "    background-color: var(--disabled-bg-color);\n",
              "    fill: var(--disabled-fill-color);\n",
              "    box-shadow: none;\n",
              "  }\n",
              "\n",
              "  .colab-df-spinner {\n",
              "    border: 2px solid var(--fill-color);\n",
              "    border-color: transparent;\n",
              "    border-bottom-color: var(--fill-color);\n",
              "    animation:\n",
              "      spin 1s steps(1) infinite;\n",
              "  }\n",
              "\n",
              "  @keyframes spin {\n",
              "    0% {\n",
              "      border-color: transparent;\n",
              "      border-bottom-color: var(--fill-color);\n",
              "      border-left-color: var(--fill-color);\n",
              "    }\n",
              "    20% {\n",
              "      border-color: transparent;\n",
              "      border-left-color: var(--fill-color);\n",
              "      border-top-color: var(--fill-color);\n",
              "    }\n",
              "    30% {\n",
              "      border-color: transparent;\n",
              "      border-left-color: var(--fill-color);\n",
              "      border-top-color: var(--fill-color);\n",
              "      border-right-color: var(--fill-color);\n",
              "    }\n",
              "    40% {\n",
              "      border-color: transparent;\n",
              "      border-right-color: var(--fill-color);\n",
              "      border-top-color: var(--fill-color);\n",
              "    }\n",
              "    60% {\n",
              "      border-color: transparent;\n",
              "      border-right-color: var(--fill-color);\n",
              "    }\n",
              "    80% {\n",
              "      border-color: transparent;\n",
              "      border-right-color: var(--fill-color);\n",
              "      border-bottom-color: var(--fill-color);\n",
              "    }\n",
              "    90% {\n",
              "      border-color: transparent;\n",
              "      border-bottom-color: var(--fill-color);\n",
              "    }\n",
              "  }\n",
              "</style>\n",
              "\n",
              "  <script>\n",
              "    async function quickchart(key) {\n",
              "      const quickchartButtonEl =\n",
              "        document.querySelector('#' + key + ' button');\n",
              "      quickchartButtonEl.disabled = true;  // To prevent multiple clicks.\n",
              "      quickchartButtonEl.classList.add('colab-df-spinner');\n",
              "      try {\n",
              "        const charts = await google.colab.kernel.invokeFunction(\n",
              "            'suggestCharts', [key], {});\n",
              "      } catch (error) {\n",
              "        console.error('Error during call to suggestCharts:', error);\n",
              "      }\n",
              "      quickchartButtonEl.classList.remove('colab-df-spinner');\n",
              "      quickchartButtonEl.classList.add('colab-df-quickchart-complete');\n",
              "    }\n",
              "    (() => {\n",
              "      let quickchartButtonEl =\n",
              "        document.querySelector('#df-817085d8-626e-46ca-8a8f-d6de945ad2e3 button');\n",
              "      quickchartButtonEl.style.display =\n",
              "        google.colab.kernel.accessAllowed ? 'block' : 'none';\n",
              "    })();\n",
              "  </script>\n",
              "</div>\n",
              "\n",
              "    </div>\n",
              "  </div>\n"
            ],
            "application/vnd.google.colaboratory.intrinsic+json": {
              "type": "dataframe",
              "variable_name": "df_preprocessed",
              "summary": "{\n  \"name\": \"df_preprocessed\",\n  \"rows\": 2388,\n  \"fields\": [\n    {\n      \"column\": \"T\\u00edtulo\",\n      \"properties\": {\n        \"dtype\": \"string\",\n        \"num_unique_values\": 2386,\n        \"samples\": [\n          \"Definitivo: Jhon 'Calzones' debe abandonar la alcald\\u00eda de Yopal\",\n          \"M\\u00f3naco, a cuartos de final de la Liga de Campeones\",\n          \"Avianca despide a hombre que aparece en video con licor en Mundial\"\n        ],\n        \"semantic_type\": \"\",\n        \"description\": \"\"\n      }\n    },\n    {\n      \"column\": \"info\",\n      \"properties\": {\n        \"dtype\": \"string\",\n        \"num_unique_values\": 2386,\n        \"samples\": [\n          \"La Corte Suprema de Justicia rechaz\\u00f3 casaci\\u00f3n y dej\\u00f3 en firme la condena por urbanizaci\\u00f3n ilegal.\",\n          \"Enfrentan a Montpellier en las semifinales de la Copa de la Liga para salvar la temporada.\",\n          \"La compa\\u00f1\\u00eda inform\\u00f3 que Luis Felipe G\\u00f3mez viol\\u00f3 la normatividad 'vigente en el marco del evento'.\"\n        ],\n        \"semantic_type\": \"\",\n        \"description\": \"\"\n      }\n    },\n    {\n      \"column\": \"contenido\",\n      \"properties\": {\n        \"dtype\": \"string\",\n        \"num_unique_values\": 2387,\n        \"samples\": [\n          \"Este s\\u00e1bado, durante la firma del nuevo acuerdo de paz entre el Gobierno y las Farc, el jefe de la delegaci\\u00f3n negociadora del Gobierno, Humberto de la Calle, comenz\\u00f3 su intervenci\\u00f3n agradeciendo a los pa\\u00edses garantes \\u201cy en particular, a la generosidad del gobierno de Cuba al habernos tenido ac\\u00e1 en medio de un ambiente de apoyo, de seriedad, de trabajo diplom\\u00e1tico impecable durante ya m\\u00e1s de cuatro a\\u00f1os\\u201d. De la Calle record\\u00f3 el camino seguido en el proceso de paz despu\\u00e9s del triunfo del \\u2018No\\u2019 en el plebiscito del pasado 2 de octubre. \\u201cComprendimos que era necesario trabajar con celeridad y responsabilidad en la b\\u00fasqueda de un nuevo acuerdo, incluyente y respetuoso\\u201d , dijo. Como un esfuerzo \\u201cgenuino, leal\\u201d, calific\\u00f3 los di\\u00e1logos abiertos por el presidente Juan Manuel Santos con los distintos voceros del \\u2018No\\u2019 que, seg\\u00fan De la Calle, llevaron a m\\u00e1s de 100 horas de intercambio directo de opiniones. De la Calle reafirm\\u00f3 que los di\\u00e1logos en La Habana, una vez fueron recogidas las inquietudes del \\u2018No\\u2019, implicaron m\\u00e1s de 15 d\\u00edas y noches de trabajo, \\u201cmuchas veces m\\u00e1s all\\u00e1 de la medianoche\\u201d. El jefe negociador del Gobierno reconoci\\u00f3, adem\\u00e1s de las arduas discusiones, la complejidad de los temas puestos sobre la mesa. \\u201cUna vez m\\u00e1s nos probamos que, a pesar de las diferencias y visiones distintas, a trav\\u00e9s del di\\u00e1logo es posible llegar a puntos de encuentro\\u201d , sostuvo. Durante su discurso, De la Calle enumer\\u00f3 algunos de los cambios introducidos al acuerdo de paz y que convierten este, seg\\u00fan reconoci\\u00f3, en un acuerdo mejor que el firmado el 26 de septiembre en Cartagena. Esto, pese a que \\u00e9l mismo hab\\u00eda calificado el acuerdo derrotado en las urnas como \\u201cel mejor posible\\u201d. \\u201cEstamos convencidos de que este documento se\\u00f1ala caminos viables y posibles para acabar con tantas d\\u00e9cadas de conflicto en Colombia\\u201d , dijo. No obstante, reconoci\\u00f3 que \\u201csu aceptaci\\u00f3n no va a ser un\\u00e1nime, como tampoco lo fue el primer acuerdo\\u201d. Entre esos cambios, a los que llam\\u00f3 \\u201cinnovaciones\\u201d, se resalta la precisi\\u00f3n de que las Farc presentar\\u00e1n un inventario de sus bienes y activos durante el proceso de dejaci\\u00f3n de armas. La jurisdicci\\u00f3n especial para la paz se mantiene con algunos cambios, como que ya no habr\\u00e1 presencia de magistrados extranjeros en esta, aunque estos s\\u00ed podr\\u00e1n cumplir un papel de consejeros externos. Adem\\u00e1s, se precis\\u00f3 el alcance geogr\\u00e1fico de la restricci\\u00f3n efectiva de la libertad a espacios con dimensiones similares a las de las zonas veredales de transici\\u00f3n en que se llevar\\u00e1 a cabo la dejaci\\u00f3n de armas. Respecto a la conexidad del narcotr\\u00e1fico con los delitos pol\\u00edticos, la jurisdicci\\u00f3n especial tendr\\u00e1 en cuenta, caso a caso, la jurisprudencia de los altos tribunales colombianos. De la Calle tambi\\u00e9n reiter\\u00f3 que el nuevo acuerdo precisa los alcances del enfoque de g\\u00e9nero , entendido como la igualdad entre hombres y mujeres, sin dejar de reconocer que el conflicto ha impactado de manera diferencial a las mujeres. El respeto a la propiedad privada y su armonizaci\\u00f3n con iniciativas de agroindustria y turismo son algunas de las precisiones logradas en materia de reforma rural integral, seg\\u00fan el comunicado le\\u00eddo por Humberto de la Calle. Tambi\\u00e9n precis\\u00f3 que el acuerdo no contemplar\\u00e1 la creaci\\u00f3n de zonas de reservas campesina. Por orden del presidente Santos, \\u201cquedamos a disposici\\u00f3n de los voceros del \\u2018No\\u2019 para explicar los t\\u00e9rminos del nuevo acuerdo suscrito hoy\\u201d, concluy\\u00f3 De la Calle. En la tarde de este s\\u00e1bado, el senador \\u00c1lvaro Uribe pidi\\u00f3 a Santos que el nuevo acuerdo no tuviera alcance definitivo. \\u201cNo podemos pedir que cese la discusi\\u00f3n, pero s\\u00ed podemos desear que la gran decisi\\u00f3n nacional sea poner en marcha la ejecuci\\u00f3n de los acuerdos, superar el conflicto armado, abrir caminos a la reconciliaci\\u00f3n y profundizar los esfuerzos para lograr una sociedad m\\u00e1s equitativa\\u201d , dijo el negociador, y termin\\u00f3 su discurso: \\u201cHoy termina algo y empieza tambi\\u00e9n una nueva etapa. Es el reto de nosotros, por nuestros hijos y por nuestros nietos\\u201d. DECLARACI\\u00d3N JEFE DE LA DELEGACI\\u00d3N Humberto de la Calle La Habana, 12 de noviembre de 2016 Buenas tardes, Despu\\u00e9s del resultado obtenido el pasado 2 de octubre en el que m\\u00e1s de seis millones de colombianos expresaron mediante su voto los reparos al Acuerdo firmado entre el Gobierno y las FARC, comprendimos que era necesario trabajar con celeridad y responsabilidad en la b\\u00fasqueda de un nuevo Acuerdo. Un Acuerdo incluyente y respetuoso. A partir del mismo 3 de octubre, los colombianos hemos sido testigos de un ejercicio profundo de di\\u00e1logo. Adem\\u00e1s de las m\\u00faltiples reuniones que sostuvo el Jefe de Estado con los diferentes l\\u00edderes del No, muy r\\u00e1pidamente design\\u00f3 una Comisi\\u00f3n conformada por el Ministro de Defensa, la Canciller y por m\\u00ed, en calidad de Jefe Negociador; en la que tambi\\u00e9n participaron el Equipo Negociador, el Ministro del Interior y el Alto Consejero para el Posconflicto y el Alto Comisionado para la Paz, Sergio Jaramillo; con el prop\\u00f3sito de sostener di\\u00e1logos abiertos y recoger inquietudes, preocupaciones y sugerencias al Acuerdo para la Terminaci\\u00f3n del Conflicto. Fue un esfuerzo genuino, leal, que nos permiti\\u00f3 recopilar la totalidad de las iniciativas, ordenarlas, estudiarlas a fondo, luego de cerca de cien horas de intercambio directo de opiniones en un ejercicio constructivo, franco y democr\\u00e1tico. Despu\\u00e9s de terminar las reuniones con los voceros del No, viajamos a La Habana para discutir con las FARC las preocupaciones expresadas en Bogot\\u00e1, insistir en la importancia de incorporar el mayor n\\u00famero de propuestas al texto y trabajar en la construcci\\u00f3n de un nuevo Acuerdo que cumpliera en lo posible con las expectativas de muchos colombianos. Las reuniones con la delegaci\\u00f3n de las FARC fueron igualmente intensas. M\\u00e1s de 15 d\\u00edas y noches de trabajo reuniones con discusiones arduas dada la complejidad de los temas. Debo destacar el ambiente constructivo y la buena voluntad de las delegaciones para trabajar con disciplina y seriedad. Este nuevo Acuerdo fue adem\\u00e1s una oportunidad para aclarar dudas, resolver inquietudes pero sobretodo para unirnos los colombianos. Una vez m\\u00e1s nos probamos que, a pesar de las diferencias y visiones distintas, a trav\\u00e9s del di\\u00e1logo es posible llegar a puntos de encuentro. Esta tarea la asumimos con compromiso, respeto y responsabilidad. Pensamos en los colombianos, en sus expectativas y sus v\\u00e1lidas inquietudes, pero tambi\\u00e9n trabajamos con la certeza de que no hay m\\u00e1s tiempo que perder. Estamos convencidos de que este documento se\\u00f1ala caminos viables y posibles para acabar con tantas d\\u00e9cadas de conflicto en Colombia. Ahora deseo hacer una confesi\\u00f3n personal: Dije que el Acuerdo del 26 de septiembre era el mejor Acuerdo posible, aunque era tambi\\u00e9n susceptible de cr\\u00edticas. Y se\\u00f1al\\u00e9 que esa afirmaci\\u00f3n no se hac\\u00eda desde la arrogancia. Era el mejor por cuanto permit\\u00eda dar por terminado el conflicto, no para desestimar las insatisfacciones que pod\\u00eda generar. Hoy con humildad reconozco que este Acuerdo es mejor en cuanto resuelve muchas de esas cr\\u00edticas e insatisfacciones. Su aceptaci\\u00f3n no va a ser un\\u00e1nime. Como tampoco lo fue en el primer acuerdo. Pero esperamos que la base de apoyo que recoja lo haga m\\u00e1s s\\u00f3lido. Pero m\\u00e1s que exaltar las virtudes de \\u00e9ste frente al anterior, en lo que gana con creces es que mediante un ejercicio democr\\u00e1tico se ha logrado construir una base de sustento m\\u00e1s amplia. La cuesti\\u00f3n no es s\\u00f3lo la ampliaci\\u00f3n del apoyo, sino que este ha sido fabricado en un ejercicio leal de democracia y di\\u00e1logo sincero. A los otros seis millones de votos que nos acompa\\u00f1aron en la refrendaci\\u00f3n del Acuerdo, quiero decirles que los ajustes y precisiones que hemos realizado, no sacrifican las convicciones que le dieron forma al primer Acuerdo. No cancelamos la ilusi\\u00f3n. No dimos marcha atr\\u00e1s en la posibilidad de un pa\\u00eds nuevo. No desistimos del prop\\u00f3sito de reivindicar la familia campesina. Limpiar la pol\\u00edtica. Combatir las bandas criminales y la corrupci\\u00f3n. Contribuir a superar el problema mundial de la droga. Impartir justicia pensando m\\u00e1s en las v\\u00edctimas que en los barrotes. Integrar nuestros territorios. Superar desigualdades ancestrales. Crear una sociedad m\\u00e1s equitativa. Crearla a trav\\u00e9s del di\\u00e1logo, del uso razonable de la autoridad del Estado, buscando darle cimientos fuertes a la seguridad humana. Escuchando, sobre todo escuchando a los m\\u00e1s d\\u00e9biles. Quiero destacar algunas de las innovaciones de este acuerdo: Durante el t\\u00e9rmino de la dejaci\\u00f3n de armas, las FARC presentar\\u00e1n un inventario de bienes y activos para destinarlos a la reparaci\\u00f3n material de las v\\u00edctimas. En cuanto a la Jurisdicci\\u00f3n Especial para la Paz se atendi\\u00f3 la mayor\\u00eda de las propuestas formuladas. Se precisaron de manera concreta las caracter\\u00edsticas y mecanismos de la restricci\\u00f3n efectiva de la libertad. En efecto, se fijaron los espacios territoriales espec\\u00edficos para el cumplimiento de las sanciones con un tama\\u00f1o m\\u00e1ximo a las zonas veredales, los periodos de ejecuci\\u00f3n de las acciones reparadoras, la precisi\\u00f3n del lugar de residencia, los mecanismos de monitoreo y la regulaci\\u00f3n del sistema de autorizaci\\u00f3n para los desplazamientos por fuera de las zonas, requisito necesario en todos los casos. Por iniciativa de algunos opositores se acept\\u00f3 que mientras entra en funcionamiento la JEP, las acciones reparadoras debidamente verificadas pueden ser descontadas de la sanci\\u00f3n que se imponga. Sobre el discutido tema de la conexidad del narcotr\\u00e1fico con el delito pol\\u00edtico, el acuerdo es que los Magistrados tendr\\u00e1n en cuenta caso a caso la jurisprudencia de las cortes colombianas. Se eliminan los Magistrados extranjeros pero se acepta la presencia de amicus curiae, -expertos extranjeros- para rendir conceptos sobre los casos que se tramiten. Queda claro que entre la normatividad aplicable se incluye el C\\u00f3digo Penal Colombiano y que las normas procedimentales deber\\u00e1n ser incorporadas al ordenamiento legal. Ser\\u00e1n de competencia de la JEP las conductas de financiaci\\u00f3n o colaboraci\\u00f3n con actores del conflicto en que hayan incurrido los terceros no combatientes que tuvieron una participaci\\u00f3n activa o determinante en los cr\\u00edmenes m\\u00e1s graves. Se elimin\\u00f3 la participaci\\u00f3n habitual. Y se reafirm\\u00f3 que los dem\\u00e1s, si contribuyen a las medidas de verdad y reparaci\\u00f3n, pueden beneficiarse de la renuncia de la acci\\u00f3n penal u otro tipo de terminaci\\u00f3n anticipada del proceso. Se estableci\\u00f3 el t\\u00e9rmino concreto de duraci\\u00f3n de la Jurisdicci\\u00f3n. Se elimin\\u00f3 la idea de incorporar el Acuerdo a la Constituci\\u00f3n Pol\\u00edtica y al llamado bloque de constitucionalidad. El principio general de garant\\u00eda de cumplimiento es el compromiso de que ambas partes cumplir\\u00e1n de buena fe lo pactado, y en lo que tiene que ver con el Estado, los principios que informan el Acuerdo ser\\u00e1n par\\u00e1metro de interpretaci\\u00f3n y gu\\u00eda de la aplicaci\\u00f3n normativa y pr\\u00e1ctica. Se estableci\\u00f3 tambi\\u00e9n que la revisi\\u00f3n de la tutela contra decisiones de la Jurisdicci\\u00f3n Especial en cabeza de la Corte Constitucional. En el nuevo Acuerdo se define qu\\u00e9 se entiende por enfoque de g\\u00e9nero. Significa el reconocimiento de la igualdad de derechos entre hombres y mujeres y de las circunstancias especiales de cada uno. Supone reconocer que el conflicto ha impactado de manera diferenciada a la mujer y que, en consecuencia, se requieren acciones distintas y espec\\u00edficas para restablecer sus derechos. Incluye tambi\\u00e9n un principio de respeto a la igualdad y no discriminaci\\u00f3n, que implica que toda persona, independientemente de su sexo, edad, creencias religiosas, opiniones, identidad \\u00e9tnica, pertenencia a la poblaci\\u00f3n LGBTI, o cualquier otra raz\\u00f3n, tiene derecho a disfrutar de todos los derechos. Ning\\u00fan contenido del Acuerdo Final se entender\\u00e1 o interpretar\\u00e1 como la negaci\\u00f3n, restricci\\u00f3n o menoscabo de los derechos de las personas. En atenci\\u00f3n al llamado que nos hicieron de diversos sectores religiosos, se estipula que en la implementaci\\u00f3n de lo acordado se deber\\u00e1 respetar la libertad de cultos, lo que significa el reconocimiento y respeto a la pr\\u00e1ctica de cualquier manifestaci\\u00f3n de religiosidad. Mantenemos vivo el compromiso con el campo a trav\\u00e9s de una pol\\u00edtica de recuperaci\\u00f3n de la familia campesina, que impulse el acceso equitativo a la tierra y que cree condiciones de vida digna. En la Reforma Rural Integral hemos afirmado que \\u201cnada de lo establecido en el acuerdo debe afectar el derecho constitucional a la propiedad privada\\u201d. Tambi\\u00e9n qued\\u00f3 expl\\u00edcito que los programas cuyo destinatario es el campesino no impiden la puesta en pr\\u00e1ctica de diversas formas de producci\\u00f3n, tales como la agroindustria o el turismo. Para lograr darle la mayor solidez a la reforma rural, se ajustaron los tiempos de implementaci\\u00f3n a las nuevas realidades fiscales. El acuerdo adem\\u00e1s por s\\u00ed mismo no crea Zonas de Reserva Campesina. Desde el Acuerdo de Cartagena se hab\\u00eda dado un paso inmenso en la lucha contra el problema mundial de la droga. Las FARC se comprometieron a romper todo v\\u00ednculo con \\u00e9l y a cooperar en la superaci\\u00f3n de ese fen\\u00f3meno. Ahora, en el nuevo Acuerdo se ha logrado precisar de manera concreta las caracter\\u00edsticas de esa cooperaci\\u00f3n y adem\\u00e1s quienes acudan a la JEP \\u2013todos, no solo las FARC- deber\\u00e1n informar de manera exhaustiva y detallada sobre las informaciones de las que dispongan para atribuir responsabilidades. De igual modo se aclara que los programas de sustituci\\u00f3n buscan tener territorios libres de cultivos de uso il\\u00edcitos de modo que no se establezca un marco de coexistencia entre el programa de sustituci\\u00f3n y la continuaci\\u00f3n de tales cultivos. En cuanto a la aplicaci\\u00f3n de las pol\\u00edticas sobre el consumo, se robustece el papel de la familia y de los grupos religiosos. Se estableci\\u00f3 el compromiso de respetar el principio de sostenibilidad de las finanzas p\\u00fablicas. En tal sentido, el Plan Marco acordado para las inversiones, deber\\u00e1 contener las fuentes de financiaci\\u00f3n. A partir de hoy los colombianos podr\\u00e1n consultar los cambios y los nuevos elementos del nuevo Acuerdo en las p\\u00e1ginas de internet de La Presidencia de la Rep\\u00fablica, de la Oficina del Alto Comisionado para la Paz, de Equipo Paz Gobierno y de La Mesa de Conversaciones. En el transcurso de la pr\\u00f3xima semana estar\\u00e1 disponible la versi\\u00f3n integrada. Estimados se\\u00f1ores y se\\u00f1oras, No podemos pedir que cese la discusi\\u00f3n. Pero s\\u00ed podemos desear que la gran decisi\\u00f3n nacional sea poner en marcha la ejecuci\\u00f3n de los acuerdos, superar el conflicto armado, abrir caminos a la reconciliaci\\u00f3n y profundizar los esfuerzos para lograr una sociedad equitativa. Ese es el reto ahora. El reto de nosotros, por nuestros hijos y nuestros nietos. ELTIEMPO.COM Miedo 11:19 p.m. Ejercite su mente en la cuarentena con este test de l\\u00f3gica matem\\u00e1tica Ponga a prueba esas clases de matem\\u00e1ticas del colegio y de la vida par ... Manizales 10:00 p.m. Ya se venden medicamentos de cannabis con f\\u00f3rmula m\\u00e9dica En farmacias especializadas de Colombia es posible acceder a medicamen ... Manizales 10:00 p.m. El gu\\u00eda de la salud mental del pueblo con m\\u00e1s casos de bipolaridad Coronavirus en Colombia 09:31 p.m. Una cabina de desinfecci\\u00f3n manual para Barranquilla Valle del Cauca 07:50 p.m. Se han recogido cerca de 132 mil mercados en 'Donat\\u00f3n Valle Solidario'\",\n          \"M\\u00f3naco dej\\u00f3 de ser ese equipo s\\u00f3lido y sorprendente de la pasada temporada, en la que gan\\u00f3 la Liga por encima del poderoso PSG, que se meti\\u00f3 en las semifinales de la Liga de Campeones y estuvo peleando en las copas nacionales. Este modelo 2018 a\\u00fan est\\u00e1 en construcci\\u00f3n, luego de la partida de grandes de sus estrellas. Este mi\\u00e9rcoles tendr\\u00e1 una prueba importante para salvar la temporada: recibe a Montpellier en las semifinales de la Copa de la Liga de Francia, con la firme intenci\\u00f3n de llegar a la final y aspirar a un t\\u00edtulo en este 2018. Las cosas no han sido f\\u00e1ciles para M\\u00f3naco. Quedaron eliminados en la primera fase de la Liga de Campeones, hace una semana le dijeron adi\\u00f3s a la Copa de Francia, y la Liga la ve muy lejos: est\\u00e1n a 12 puntos del l\\u00edder PSG. Para este compromiso, Leonardo Jardim, entrenador de M\\u00f3naco, espera que aparezcan los goles de su m\\u00e1xima estrella, el colombiano Radamel Falcao Garc\\u00eda, quien solo ha anotado un gol en este inicio de a\\u00f1o. \\u201c Es de lejos nuestro mejor goleador (16 tantos en la Liga), todo el mundo conoce su calidad\\u201d, afirm\\u00f3 el entrenador portugu\\u00e9s. \\u201cEstuvo parado un mes. Necesita tiempo para recuperar el nivel, pero de \\u00e9l siempre se espera un gran nivel y goles. Espero que en el futuro pr\\u00f3ximo pueda marcar\\u201d, dijo. Para este compromiso, Jardim cuenta con las ideas y todo el arsenal, uno de los mayores problemas que ha tenido en esta temporada y al que le ha variado el sistema t\\u00e1ctico y los nombres para poder tener un equipo competitivo en el campo. Montpellier es un equipo al que hay que enfrentar con mucha precauci\\u00f3n. \\u201c Alinear\\u00e9 al mejor equipo posible . Sabemos que es muy fuerte nuestro rival, al que es dif\\u00edcil anotarle\\u201d, asegur\\u00f3 Jardim. El ganador de esta serie se enfrentar\\u00e1 al Paris Saint-Germain, que ayer venci\\u00f3 2-3 al Rennes. DEPORTES Miedo 11:19 p.m. Ejercite su mente en la cuarentena con este test de l\\u00f3gica matem\\u00e1tica Ponga a prueba esas clases de matem\\u00e1ticas del colegio y de la vida par ... Manizales 10:00 p.m. Ya se venden medicamentos de cannabis con f\\u00f3rmula m\\u00e9dica En farmacias especializadas de Colombia es posible acceder a medicamen ... Manizales 10:00 p.m. El gu\\u00eda de la salud mental del pueblo con m\\u00e1s casos de bipolaridad Coronavirus en Colombia 09:31 p.m. Una cabina de desinfecci\\u00f3n manual para Barranquilla Valle del Cauca 07:50 p.m. Se han recogido cerca de 132 mil mercados en 'Donat\\u00f3n Valle Solidario'\",\n          \"El pleito entre Avianca Holdings y su accionista minoritario Kingsland Holdings \\u2013de la familia salvadore\\u00f1a Kriete\\u2013 se creci\\u00f3. Este lunes la firma interpuso ante la corte de Nueva York dos recursos en contra de su accionista minoritario. Por un lado, present\\u00f3 una demanda para que se le ordene a Kingsland y a Roberto Kriete que se abstengan de \\u201cseguir divulgando informaci\\u00f3n confidencial de la compa\\u00f1\\u00eda de manera ilegal y en beneficio propio, debiendo cumplir con sus obligaciones contractuales bajo el acuerdo de accionistas suscrito con Synergy Aerospace y Avianca Holdings\\u201d, seg\\u00fan un comunicado de la empresa. En segundo lugar, interpuso una petici\\u00f3n (motion to dismiss) para que dicha corte rechace la demanda presentada por Kingsland a finales de febrero en contra de Avianca. (Le puede interesar: Las ocho aerol\\u00edneas m\\u00e1s cumplidas de Latinoam\\u00e9rica ) As\\u00ed, Hern\\u00e1n Rinc\\u00f3n, presidente de Avianca Holdings, se pronunci\\u00f3 y dijo que la estrategia de la aerol\\u00ednea va m\\u00e1s all\\u00e1 del litigio. \\u201cAvianca est\\u00e1 comprometida con el logro de los dos objetivos estrat\\u00e9gicos aprobados por la Junta Directiva: hacer parte de una alianza comercial con una aerol\\u00ednea de clase mundial y alcanzar el nuevo capital requerido\\u201d, a\\u00f1adi\\u00f3. Por su parte, Kingsland respondi\\u00f3 ante los recursos que todav\\u00eda est\\u00e1n revisando los documentos presentados este lunes , incluyendo la demanda de Avianca . \\u201cSin embargo, mantenemos las acusaciones de nuestra demanda y creemos firmemente que Kingsland ha cumplido con todas sus obligaciones establecidas por el acuerdo de accionistas y otros documentos\\u201d, declar\\u00f3. A su turno, Avianca dice que los documentos legales detallan las intenciones de Kingsland de impedir las negociaciones y desarrollar una alianza comercial estrat\\u00e9gica con United Airlines, adem\\u00e1s de demostrar que las maniobras legales de Kingsland \\u201c son un fuerte intento para obtener mayores derechos en los tribunales de los que previamente se hab\\u00edan negociado y acordado en el acuerdo de accionistas\\u201d. (Adem\\u00e1s: Pasajeros problem\\u00e1ticos en un vuelo pueden ser multados: Aerocivil ) Ante eso, Kingsland dijo que rechaza que Kriete \\u201chaya actuado inapropiadamente en cualquier manera que no sea en los mejores intereses de la compa\\u00f1\\u00eda\\u201d y que est\\u00e1 realizando esta acci\\u00f3n para proteger la viabilidad de la aerol\\u00ednea. El pr\\u00f3ximo 6 de abril, las partes se reunir\\u00e1n ante la corte por primera vez y comenzar\\u00e1 el proceso en que ambos entregar\\u00e1n sus argumentos. ECONOM\\u00cdA Y NEGOCIOS Miedo 11:19 p.m. Ejercite su mente en la cuarentena con este test de l\\u00f3gica matem\\u00e1tica Ponga a prueba esas clases de matem\\u00e1ticas del colegio y de la vida par ... Manizales 10:00 p.m. Ya se venden medicamentos de cannabis con f\\u00f3rmula m\\u00e9dica En farmacias especializadas de Colombia es posible acceder a medicamen ... Manizales 10:00 p.m. El gu\\u00eda de la salud mental del pueblo con m\\u00e1s casos de bipolaridad Coronavirus en Colombia 09:31 p.m. Una cabina de desinfecci\\u00f3n manual para Barranquilla Valle del Cauca 07:50 p.m. Se han recogido cerca de 132 mil mercados en 'Donat\\u00f3n Valle Solidario'\"\n        ],\n        \"semantic_type\": \"\",\n        \"description\": \"\"\n      }\n    },\n    {\n      \"column\": \"Etiqueta\",\n      \"properties\": {\n        \"dtype\": \"category\",\n        \"num_unique_values\": 8,\n        \"samples\": [\n          \"deportes\",\n          \"politica\",\n          \"cultura\"\n        ],\n        \"semantic_type\": \"\",\n        \"description\": \"\"\n      }\n    },\n    {\n      \"column\": \"unified_text\",\n      \"properties\": {\n        \"dtype\": \"string\",\n        \"num_unique_values\": 2387,\n        \"samples\": [\n          \"T\\u00edtulo: 'Este acuerdo es mejor que el de septiembre': De la Calle. Resumen: El jefe negociador del Gobierno adelant\\u00f3 algunos de los cambios del nuevo acuerdo de paz.. Contenido: Este s\\u00e1bado, durante la firma del nuevo acuerdo de paz entre el Gobierno y las Farc, el jefe de la delegaci\\u00f3n negociadora del Gobierno, Humberto de la Calle, comenz\\u00f3 su intervenci\\u00f3n agradeciendo a los pa\\u00edses garantes \\u201cy en particular, a la generosidad del gobierno de Cuba al habernos tenido ac\\u00e1 en medio de un ambiente de apoyo, de seriedad, de trabajo diplom\\u00e1tico impecable durante ya m\\u00e1s de cuatro a\\u00f1os\\u201d. De la Calle record\\u00f3 el camino seguido en el proceso de paz despu\\u00e9s del triunfo del \\u2018No\\u2019 en el plebiscito del pasado 2 de octubre. \\u201cComprendimos que era necesario trabajar con celeridad y responsabilidad en la b\\u00fasqueda de un nuevo acuerdo, incluyente y respetuoso\\u201d , dijo. Como un esfuerzo \\u201cgenuino, leal\\u201d, calific\\u00f3 los di\\u00e1logos abiertos por el presidente Juan Manuel Santos con los distintos voceros del \\u2018No\\u2019 que, seg\\u00fan De la Calle, llevaron a m\\u00e1s de 100 horas de intercambio directo de opiniones. De la Calle reafirm\\u00f3 que los di\\u00e1logos en La Habana, una vez fueron recogidas las inquietudes del \\u2018No\\u2019, implicaron m\\u00e1s de 15 d\\u00edas y noches de trabajo, \\u201cmuchas veces m\\u00e1s all\\u00e1 de la medianoche\\u201d. El jefe negociador del Gobierno reconoci\\u00f3, adem\\u00e1s de las arduas discusiones, la complejidad de los temas puestos sobre la mesa. \\u201cUna vez m\\u00e1s nos probamos que, a pesar de las diferencias y visiones distintas, a trav\\u00e9s del di\\u00e1logo es posible llegar a puntos de encuentro\\u201d , sostuvo. Durante su discurso, De la Calle enumer\\u00f3 algunos de los cambios introducidos al acuerdo de paz y que convierten este, seg\\u00fan reconoci\\u00f3, en un acuerdo mejor que el firmado el 26 de septiembre en Cartagena. Esto, pese a que \\u00e9l mismo hab\\u00eda calificado el acuerdo derrotado en las urnas como \\u201cel mejor posible\\u201d. \\u201cEstamos convencidos de que este documento se\\u00f1ala caminos viables y posibles para acabar con tantas d\\u00e9cadas de conflicto en Colombia\\u201d , dijo. No obstante, reconoci\\u00f3 que \\u201csu aceptaci\\u00f3n no va a ser un\\u00e1nime, como tampoco lo fue el primer acuerdo\\u201d. Entre esos cambios, a los que llam\\u00f3 \\u201cinnovaciones\\u201d, se resalta la precisi\\u00f3n de que las Farc presentar\\u00e1n un inventario de sus bienes y activos durante el proceso de dejaci\\u00f3n de armas. La jurisdicci\\u00f3n especial para la paz se mantiene con algunos cambios, como que ya no habr\\u00e1 presencia de magistrados extranjeros en esta, aunque estos s\\u00ed podr\\u00e1n cumplir un papel de consejeros externos. Adem\\u00e1s, se precis\\u00f3 el alcance geogr\\u00e1fico de la restricci\\u00f3n efectiva de la libertad a espacios con dimensiones similares a las de las zonas veredales de transici\\u00f3n en que se llevar\\u00e1 a cabo la dejaci\\u00f3n de armas. Respecto a la conexidad del narcotr\\u00e1fico con los delitos pol\\u00edticos, la jurisdicci\\u00f3n especial tendr\\u00e1 en cuenta, caso a caso, la jurisprudencia de los altos tribunales colombianos. De la Calle tambi\\u00e9n reiter\\u00f3 que el nuevo acuerdo precisa los alcances del enfoque de g\\u00e9nero , entendido como la igualdad entre hombres y mujeres, sin dejar de reconocer que el conflicto ha impactado de manera diferencial a las mujeres. El respeto a la propiedad privada y su armonizaci\\u00f3n con iniciativas de agroindustria y turismo son algunas de las precisiones logradas en materia de reforma rural integral, seg\\u00fan el comunicado le\\u00eddo por Humberto de la Calle. Tambi\\u00e9n precis\\u00f3 que el acuerdo no contemplar\\u00e1 la creaci\\u00f3n de zonas de reservas campesina. Por orden del presidente Santos, \\u201cquedamos a disposici\\u00f3n de los voceros del \\u2018No\\u2019 para explicar los t\\u00e9rminos del nuevo acuerdo suscrito hoy\\u201d, concluy\\u00f3 De la Calle. En la tarde de este s\\u00e1bado, el senador \\u00c1lvaro Uribe pidi\\u00f3 a Santos que el nuevo acuerdo no tuviera alcance definitivo. \\u201cNo podemos pedir que cese la discusi\\u00f3n, pero s\\u00ed podemos desear que la gran decisi\\u00f3n nacional sea poner en marcha la ejecuci\\u00f3n de los acuerdos, superar el conflicto armado, abrir caminos a la reconciliaci\\u00f3n y profundizar los esfuerzos para lograr una sociedad m\\u00e1s equitativa\\u201d , dijo el negociador, y termin\\u00f3 su discurso: \\u201cHoy termina algo y empieza tambi\\u00e9n una nueva etapa. Es el reto de nosotros, por nuestros hijos y por nuestros nietos\\u201d. DECLARACI\\u00d3N JEFE DE LA DELEGACI\\u00d3N Humberto de la Calle La Habana, 12 de noviembre de 2016 Buenas tardes, Despu\\u00e9s del resultado obtenido el pasado 2 de octubre en el que m\\u00e1s de seis millones de colombianos expresaron mediante su voto los reparos al Acuerdo firmado entre el Gobierno y las FARC, comprendimos que era necesario trabajar con celeridad y responsabilidad en la b\\u00fasqueda de un nuevo Acuerdo. Un Acuerdo incluyente y respetuoso. A partir del mismo 3 de octubre, los colombianos hemos sido testigos de un ejercicio profundo de di\\u00e1logo. Adem\\u00e1s de las m\\u00faltiples reuniones que sostuvo el Jefe de Estado con los diferentes l\\u00edderes del No, muy r\\u00e1pidamente design\\u00f3 una Comisi\\u00f3n conformada por el Ministro de Defensa, la Canciller y por m\\u00ed, en calidad de Jefe Negociador; en la que tambi\\u00e9n participaron el Equipo Negociador, el Ministro del Interior y el Alto Consejero para el Posconflicto y el Alto Comisionado para la Paz, Sergio Jaramillo; con el prop\\u00f3sito de sostener di\\u00e1logos abiertos y recoger inquietudes, preocupaciones y sugerencias al Acuerdo para la Terminaci\\u00f3n del Conflicto. Fue un esfuerzo genuino, leal, que nos permiti\\u00f3 recopilar la totalidad de las iniciativas, ordenarlas, estudiarlas a fondo, luego de cerca de cien horas de intercambio directo de opiniones en un ejercicio constructivo, franco y democr\\u00e1tico. Despu\\u00e9s de terminar las reuniones con los voceros del No, viajamos a La Habana para discutir con las FARC las preocupaciones expresadas en Bogot\\u00e1, insistir en la importancia de incorporar el mayor n\\u00famero de propuestas al texto y trabajar en la construcci\\u00f3n de un nuevo Acuerdo que cumpliera en lo posible con las expectativas de muchos colombianos. Las reuniones con la delegaci\\u00f3n de las FARC fueron igualmente intensas. M\\u00e1s de 15 d\\u00edas y noches de trabajo reuniones con discusiones arduas dada la complejidad de los temas. Debo destacar el ambiente constructivo y la buena voluntad de las delegaciones para trabajar con disciplina y seriedad. Este nuevo Acuerdo fue adem\\u00e1s una oportunidad para aclarar dudas, resolver inquietudes pero sobretodo para unirnos los colombianos. Una vez m\\u00e1s nos probamos que, a pesar de las diferencias y visiones distintas, a trav\\u00e9s del di\\u00e1logo es posible llegar a puntos de encuentro. Esta tarea la asumimos con compromiso, respeto y responsabilidad. Pensamos en los colombianos, en sus expectativas y sus v\\u00e1lidas inquietudes, pero tambi\\u00e9n trabajamos con la certeza de que no hay m\\u00e1s tiempo que perder. Estamos convencidos de que este documento se\\u00f1ala caminos viables y posibles para acabar con tantas d\\u00e9cadas de conflicto en Colombia. Ahora deseo hacer una confesi\\u00f3n personal: Dije que el Acuerdo del 26 de septiembre era el mejor Acuerdo posible, aunque era tambi\\u00e9n susceptible de cr\\u00edticas. Y se\\u00f1al\\u00e9 que esa afirmaci\\u00f3n no se hac\\u00eda desde la arrogancia. Era el mejor por cuanto permit\\u00eda dar por terminado el conflicto, no para desestimar las insatisfacciones que pod\\u00eda generar. Hoy con humildad reconozco que este Acuerdo es mejor en cuanto resuelve muchas de esas cr\\u00edticas e insatisfacciones. Su aceptaci\\u00f3n no va a ser un\\u00e1nime. Como tampoco lo fue en el primer acuerdo. Pero esperamos que la base de apoyo que recoja lo haga m\\u00e1s s\\u00f3lido. Pero m\\u00e1s que exaltar las virtudes de \\u00e9ste frente al anterior, en lo que gana con creces es que mediante un ejercicio democr\\u00e1tico se ha logrado construir una base de sustento m\\u00e1s amplia. La cuesti\\u00f3n no es s\\u00f3lo la ampliaci\\u00f3n del apoyo, sino que este ha sido fabricado en un ejercicio leal de democracia y di\\u00e1logo sincero. A los otros seis millones de votos que nos acompa\\u00f1aron en la refrendaci\\u00f3n del Acuerdo, quiero decirles que los ajustes y precisiones que hemos realizado, no sacrifican las convicciones que le dieron forma al primer Acuerdo. No cancelamos la ilusi\\u00f3n. No dimos marcha atr\\u00e1s en la posibilidad de un pa\\u00eds nuevo. No desistimos del prop\\u00f3sito de reivindicar la familia campesina. Limpiar la pol\\u00edtica. Combatir las bandas criminales y la corrupci\\u00f3n. Contribuir a superar el problema mundial de la droga. Impartir justicia pensando m\\u00e1s en las v\\u00edctimas que en los barrotes. Integrar nuestros territorios. Superar desigualdades ancestrales. Crear una sociedad m\\u00e1s equitativa. Crearla a trav\\u00e9s del di\\u00e1logo, del uso razonable de la autoridad del Estado, buscando darle cimientos fuertes a la seguridad humana. Escuchando, sobre todo escuchando a los m\\u00e1s d\\u00e9biles. Quiero destacar algunas de las innovaciones de este acuerdo: Durante el t\\u00e9rmino de la dejaci\\u00f3n de armas, las FARC presentar\\u00e1n un inventario de bienes y activos para destinarlos a la reparaci\\u00f3n material de las v\\u00edctimas. En cuanto a la Jurisdicci\\u00f3n Especial para la Paz se atendi\\u00f3 la mayor\\u00eda de las propuestas formuladas. Se precisaron de manera concreta las caracter\\u00edsticas y mecanismos de la restricci\\u00f3n efectiva de la libertad. En efecto, se fijaron los espacios territoriales espec\\u00edficos para el cumplimiento de las sanciones con un tama\\u00f1o m\\u00e1ximo a las zonas veredales, los periodos de ejecuci\\u00f3n de las acciones reparadoras, la precisi\\u00f3n del lugar de residencia, los mecanismos de monitoreo y la regulaci\\u00f3n del sistema de autorizaci\\u00f3n para los desplazamientos por fuera de las zonas, requisito necesario en todos los casos. Por iniciativa de algunos opositores se acept\\u00f3 que mientras entra en funcionamiento la JEP, las acciones reparadoras debidamente verificadas pueden ser descontadas de la sanci\\u00f3n que se imponga. Sobre el discutido tema de la conexidad del narcotr\\u00e1fico con el delito pol\\u00edtico, el acuerdo es que los Magistrados tendr\\u00e1n en cuenta caso a caso la jurisprudencia de las cortes colombianas. Se eliminan los Magistrados extranjeros pero se acepta la presencia de amicus curiae, -expertos extranjeros- para rendir conceptos sobre los casos que se tramiten. Queda claro que entre la normatividad aplicable se incluye el C\\u00f3digo Penal Colombiano y que las normas procedimentales deber\\u00e1n ser incorporadas al ordenamiento legal. Ser\\u00e1n de competencia de la JEP las conductas de financiaci\\u00f3n o colaboraci\\u00f3n con actores del conflicto en que hayan incurrido los terceros no combatientes que tuvieron una participaci\\u00f3n activa o determinante en los cr\\u00edmenes m\\u00e1s graves. Se elimin\\u00f3 la participaci\\u00f3n habitual. Y se reafirm\\u00f3 que los dem\\u00e1s, si contribuyen a las medidas de verdad y reparaci\\u00f3n, pueden beneficiarse de la renuncia de la acci\\u00f3n penal u otro tipo de terminaci\\u00f3n anticipada del proceso. Se estableci\\u00f3 el t\\u00e9rmino concreto de duraci\\u00f3n de la Jurisdicci\\u00f3n. Se elimin\\u00f3 la idea de incorporar el Acuerdo a la Constituci\\u00f3n Pol\\u00edtica y al llamado bloque de constitucionalidad. El principio general de garant\\u00eda de cumplimiento es el compromiso de que ambas partes cumplir\\u00e1n de buena fe lo pactado, y en lo que tiene que ver con el Estado, los principios que informan el Acuerdo ser\\u00e1n par\\u00e1metro de interpretaci\\u00f3n y gu\\u00eda de la aplicaci\\u00f3n normativa y pr\\u00e1ctica. Se estableci\\u00f3 tambi\\u00e9n que la revisi\\u00f3n de la tutela contra decisiones de la Jurisdicci\\u00f3n Especial en cabeza de la Corte Constitucional. En el nuevo Acuerdo se define qu\\u00e9 se entiende por enfoque de g\\u00e9nero. Significa el reconocimiento de la igualdad de derechos entre hombres y mujeres y de las circunstancias especiales de cada uno. Supone reconocer que el conflicto ha impactado de manera diferenciada a la mujer y que, en consecuencia, se requieren acciones distintas y espec\\u00edficas para restablecer sus derechos. Incluye tambi\\u00e9n un principio de respeto a la igualdad y no discriminaci\\u00f3n, que implica que toda persona, independientemente de su sexo, edad, creencias religiosas, opiniones, identidad \\u00e9tnica, pertenencia a la poblaci\\u00f3n LGBTI, o cualquier otra raz\\u00f3n, tiene derecho a disfrutar de todos los derechos. Ning\\u00fan contenido del Acuerdo Final se entender\\u00e1 o interpretar\\u00e1 como la negaci\\u00f3n, restricci\\u00f3n o menoscabo de los derechos de las personas. En atenci\\u00f3n al llamado que nos hicieron de diversos sectores religiosos, se estipula que en la implementaci\\u00f3n de lo acordado se deber\\u00e1 respetar la libertad de cultos, lo que significa el reconocimiento y respeto a la pr\\u00e1ctica de cualquier manifestaci\\u00f3n de religiosidad. Mantenemos vivo el compromiso con el campo a trav\\u00e9s de una pol\\u00edtica de recuperaci\\u00f3n de la familia campesina, que impulse el acceso equitativo a la tierra y que cree condiciones de vida digna. En la Reforma Rural Integral hemos afirmado que \\u201cnada de lo establecido en el acuerdo debe afectar el derecho constitucional a la propiedad privada\\u201d. Tambi\\u00e9n qued\\u00f3 expl\\u00edcito que los programas cuyo destinatario es el campesino no impiden la puesta en pr\\u00e1ctica de diversas formas de producci\\u00f3n, tales como la agroindustria o el turismo. Para lograr darle la mayor solidez a la reforma rural, se ajustaron los tiempos de implementaci\\u00f3n a las nuevas realidades fiscales. El acuerdo adem\\u00e1s por s\\u00ed mismo no crea Zonas de Reserva Campesina. Desde el Acuerdo de Cartagena se hab\\u00eda dado un paso inmenso en la lucha contra el problema mundial de la droga. Las FARC se comprometieron a romper todo v\\u00ednculo con \\u00e9l y a cooperar en la superaci\\u00f3n de ese fen\\u00f3meno. Ahora, en el nuevo Acuerdo se ha logrado precisar de manera concreta las caracter\\u00edsticas de esa cooperaci\\u00f3n y adem\\u00e1s quienes acudan a la JEP \\u2013todos, no solo las FARC- deber\\u00e1n informar de manera exhaustiva y detallada sobre las informaciones de las que dispongan para atribuir responsabilidades. De igual modo se aclara que los programas de sustituci\\u00f3n buscan tener territorios libres de cultivos de uso il\\u00edcitos de modo que no se establezca un marco de coexistencia entre el programa de sustituci\\u00f3n y la continuaci\\u00f3n de tales cultivos. En cuanto a la aplicaci\\u00f3n de las pol\\u00edticas sobre el consumo, se robustece el papel de la familia y de los grupos religiosos. Se estableci\\u00f3 el compromiso de respetar el principio de sostenibilidad de las finanzas p\\u00fablicas. En tal sentido, el Plan Marco acordado para las inversiones, deber\\u00e1 contener las fuentes de financiaci\\u00f3n. A partir de hoy los colombianos podr\\u00e1n consultar los cambios y los nuevos elementos del nuevo Acuerdo en las p\\u00e1ginas de internet de La Presidencia de la Rep\\u00fablica, de la Oficina del Alto Comisionado para la Paz, de Equipo Paz Gobierno y de La Mesa de Conversaciones. En el transcurso de la pr\\u00f3xima semana estar\\u00e1 disponible la versi\\u00f3n integrada. Estimados se\\u00f1ores y se\\u00f1oras, No podemos pedir que cese la discusi\\u00f3n. Pero s\\u00ed podemos desear que la gran decisi\\u00f3n nacional sea poner en marcha la ejecuci\\u00f3n de los acuerdos, superar el conflicto armado, abrir caminos a la reconciliaci\\u00f3n y profundizar los esfuerzos para lograr una sociedad equitativa. Ese es el reto ahora. El reto de nosotros, por nuestros hijos y nuestros nietos. ELTIEMPO.COM Miedo 11:19 p.m. Ejercite su mente en la cuarentena con este test de l\\u00f3gica matem\\u00e1tica Ponga a prueba esas clases de matem\\u00e1ticas del colegio y de la vida par ... Manizales 10:00 p.m. Ya se venden medicamentos de cannabis con f\\u00f3rmula m\\u00e9dica En farmacias especializadas de Colombia es posible acceder a medicamen ... Manizales 10:00 p.m. El gu\\u00eda de la salud mental del pueblo con m\\u00e1s casos de bipolaridad Coronavirus en Colombia 09:31 p.m. Una cabina de desinfecci\\u00f3n manual para Barranquilla Valle del Cauca 07:50 p.m. Se han recogido cerca de 132 mil mercados en 'Donat\\u00f3n Valle Solidario'.\",\n          \"T\\u00edtulo: M\\u00f3naco y Falcao se juegan este mi\\u00e9rcoles la \\u00fanica copa que les queda. Resumen: Enfrentan a Montpellier en las semifinales de la Copa de la Liga para salvar la temporada.. Contenido: M\\u00f3naco dej\\u00f3 de ser ese equipo s\\u00f3lido y sorprendente de la pasada temporada, en la que gan\\u00f3 la Liga por encima del poderoso PSG, que se meti\\u00f3 en las semifinales de la Liga de Campeones y estuvo peleando en las copas nacionales. Este modelo 2018 a\\u00fan est\\u00e1 en construcci\\u00f3n, luego de la partida de grandes de sus estrellas. Este mi\\u00e9rcoles tendr\\u00e1 una prueba importante para salvar la temporada: recibe a Montpellier en las semifinales de la Copa de la Liga de Francia, con la firme intenci\\u00f3n de llegar a la final y aspirar a un t\\u00edtulo en este 2018. Las cosas no han sido f\\u00e1ciles para M\\u00f3naco. Quedaron eliminados en la primera fase de la Liga de Campeones, hace una semana le dijeron adi\\u00f3s a la Copa de Francia, y la Liga la ve muy lejos: est\\u00e1n a 12 puntos del l\\u00edder PSG. Para este compromiso, Leonardo Jardim, entrenador de M\\u00f3naco, espera que aparezcan los goles de su m\\u00e1xima estrella, el colombiano Radamel Falcao Garc\\u00eda, quien solo ha anotado un gol en este inicio de a\\u00f1o. \\u201c Es de lejos nuestro mejor goleador (16 tantos en la Liga), todo el mundo conoce su calidad\\u201d, afirm\\u00f3 el entrenador portugu\\u00e9s. \\u201cEstuvo parado un mes. Necesita tiempo para recuperar el nivel, pero de \\u00e9l siempre se espera un gran nivel y goles. Espero que en el futuro pr\\u00f3ximo pueda marcar\\u201d, dijo. Para este compromiso, Jardim cuenta con las ideas y todo el arsenal, uno de los mayores problemas que ha tenido en esta temporada y al que le ha variado el sistema t\\u00e1ctico y los nombres para poder tener un equipo competitivo en el campo. Montpellier es un equipo al que hay que enfrentar con mucha precauci\\u00f3n. \\u201c Alinear\\u00e9 al mejor equipo posible . Sabemos que es muy fuerte nuestro rival, al que es dif\\u00edcil anotarle\\u201d, asegur\\u00f3 Jardim. El ganador de esta serie se enfrentar\\u00e1 al Paris Saint-Germain, que ayer venci\\u00f3 2-3 al Rennes. DEPORTES Miedo 11:19 p.m. Ejercite su mente en la cuarentena con este test de l\\u00f3gica matem\\u00e1tica Ponga a prueba esas clases de matem\\u00e1ticas del colegio y de la vida par ... Manizales 10:00 p.m. Ya se venden medicamentos de cannabis con f\\u00f3rmula m\\u00e9dica En farmacias especializadas de Colombia es posible acceder a medicamen ... Manizales 10:00 p.m. El gu\\u00eda de la salud mental del pueblo con m\\u00e1s casos de bipolaridad Coronavirus en Colombia 09:31 p.m. Una cabina de desinfecci\\u00f3n manual para Barranquilla Valle del Cauca 07:50 p.m. Se han recogido cerca de 132 mil mercados en 'Donat\\u00f3n Valle Solidario'.\",\n          \"T\\u00edtulo: Avianca demanda a socio minoritario que se opone a alianza con United. Resumen: La aerol\\u00ednea interpuso dos recursos contra la familia Kriete ante una corte de Nueva York.. Contenido: El pleito entre Avianca Holdings y su accionista minoritario Kingsland Holdings \\u2013de la familia salvadore\\u00f1a Kriete\\u2013 se creci\\u00f3. Este lunes la firma interpuso ante la corte de Nueva York dos recursos en contra de su accionista minoritario. Por un lado, present\\u00f3 una demanda para que se le ordene a Kingsland y a Roberto Kriete que se abstengan de \\u201cseguir divulgando informaci\\u00f3n confidencial de la compa\\u00f1\\u00eda de manera ilegal y en beneficio propio, debiendo cumplir con sus obligaciones contractuales bajo el acuerdo de accionistas suscrito con Synergy Aerospace y Avianca Holdings\\u201d, seg\\u00fan un comunicado de la empresa. En segundo lugar, interpuso una petici\\u00f3n (motion to dismiss) para que dicha corte rechace la demanda presentada por Kingsland a finales de febrero en contra de Avianca. (Le puede interesar: Las ocho aerol\\u00edneas m\\u00e1s cumplidas de Latinoam\\u00e9rica ) As\\u00ed, Hern\\u00e1n Rinc\\u00f3n, presidente de Avianca Holdings, se pronunci\\u00f3 y dijo que la estrategia de la aerol\\u00ednea va m\\u00e1s all\\u00e1 del litigio. \\u201cAvianca est\\u00e1 comprometida con el logro de los dos objetivos estrat\\u00e9gicos aprobados por la Junta Directiva: hacer parte de una alianza comercial con una aerol\\u00ednea de clase mundial y alcanzar el nuevo capital requerido\\u201d, a\\u00f1adi\\u00f3. Por su parte, Kingsland respondi\\u00f3 ante los recursos que todav\\u00eda est\\u00e1n revisando los documentos presentados este lunes , incluyendo la demanda de Avianca . \\u201cSin embargo, mantenemos las acusaciones de nuestra demanda y creemos firmemente que Kingsland ha cumplido con todas sus obligaciones establecidas por el acuerdo de accionistas y otros documentos\\u201d, declar\\u00f3. A su turno, Avianca dice que los documentos legales detallan las intenciones de Kingsland de impedir las negociaciones y desarrollar una alianza comercial estrat\\u00e9gica con United Airlines, adem\\u00e1s de demostrar que las maniobras legales de Kingsland \\u201c son un fuerte intento para obtener mayores derechos en los tribunales de los que previamente se hab\\u00edan negociado y acordado en el acuerdo de accionistas\\u201d. (Adem\\u00e1s: Pasajeros problem\\u00e1ticos en un vuelo pueden ser multados: Aerocivil ) Ante eso, Kingsland dijo que rechaza que Kriete \\u201chaya actuado inapropiadamente en cualquier manera que no sea en los mejores intereses de la compa\\u00f1\\u00eda\\u201d y que est\\u00e1 realizando esta acci\\u00f3n para proteger la viabilidad de la aerol\\u00ednea. El pr\\u00f3ximo 6 de abril, las partes se reunir\\u00e1n ante la corte por primera vez y comenzar\\u00e1 el proceso en que ambos entregar\\u00e1n sus argumentos. ECONOM\\u00cdA Y NEGOCIOS Miedo 11:19 p.m. Ejercite su mente en la cuarentena con este test de l\\u00f3gica matem\\u00e1tica Ponga a prueba esas clases de matem\\u00e1ticas del colegio y de la vida par ... Manizales 10:00 p.m. Ya se venden medicamentos de cannabis con f\\u00f3rmula m\\u00e9dica En farmacias especializadas de Colombia es posible acceder a medicamen ... Manizales 10:00 p.m. El gu\\u00eda de la salud mental del pueblo con m\\u00e1s casos de bipolaridad Coronavirus en Colombia 09:31 p.m. Una cabina de desinfecci\\u00f3n manual para Barranquilla Valle del Cauca 07:50 p.m. Se han recogido cerca de 132 mil mercados en 'Donat\\u00f3n Valle Solidario'.\"\n        ],\n        \"semantic_type\": \"\",\n        \"description\": \"\"\n      }\n    }\n  ]\n}"
            }
          },
          "metadata": {},
          "execution_count": 15
        }
      ],
      "source": [
        "df_preprocessed['unified_text'] = 'Título: ' + df_preprocessed['Título'] + '. Resumen: ' + df_preprocessed['info'] + '. Contenido: ' + df_preprocessed['contenido'] + '.'\n",
        "df_preprocessed.head(2)"
      ]
    },
    {
      "cell_type": "code",
      "execution_count": 16,
      "metadata": {
        "id": "A9hk7vmBT9Y2"
      },
      "outputs": [],
      "source": [
        "def preprocess_text(text):\n",
        "    stripped = text.strip()\n",
        "    cleaned = re.sub(r'[\\n\\t]+', ' ', stripped)\n",
        "    cleaned = re.sub(r'\\s{2,}', ' ', cleaned)\n",
        "    cleaned = re.sub(r'\\.{2,}', '.', cleaned)\n",
        "    return cleaned"
      ]
    },
    {
      "cell_type": "code",
      "execution_count": 17,
      "metadata": {
        "id": "41Z3W3FOT9Y2",
        "outputId": "545122c5-6a04-4b05-edd8-641d627396b8",
        "colab": {
          "base_uri": "https://localhost:8080/",
          "height": 318
        }
      },
      "outputs": [
        {
          "output_type": "execute_result",
          "data": {
            "text/plain": [
              "                                                  Título  \\\n",
              "10487  Al interior de, aparte, roquero, rock / El len...   \n",
              "10488  Antonina Canal: 20 años de danza oriental en C...   \n",
              "\n",
              "                                                    info  \\\n",
              "10487  'Al interior de' es el reemplazo sofisticado e...   \n",
              "10488  La bailarina habló con EL TIEMPO de su trayect...   \n",
              "\n",
              "                                               contenido Etiqueta  \\\n",
              "10487  Citas: “Los crímenes de violencia sexual comet...  cultura   \n",
              "10488  Con motivo de la celebración de los 20 años de...  cultura   \n",
              "\n",
              "                                            unified_text  \\\n",
              "10487  Título: Al interior de, aparte, roquero, rock ...   \n",
              "10488  Título: Antonina Canal: 20 años de danza orien...   \n",
              "\n",
              "                                            cleaned_text  \n",
              "10487  Título: Al interior de, aparte, roquero, rock ...  \n",
              "10488  Título: Antonina Canal: 20 años de danza orien...  "
            ],
            "text/html": [
              "\n",
              "  <div id=\"df-2d3f8bb1-7e34-4b5e-ba7f-527771a59b75\" class=\"colab-df-container\">\n",
              "    <div>\n",
              "<style scoped>\n",
              "    .dataframe tbody tr th:only-of-type {\n",
              "        vertical-align: middle;\n",
              "    }\n",
              "\n",
              "    .dataframe tbody tr th {\n",
              "        vertical-align: top;\n",
              "    }\n",
              "\n",
              "    .dataframe thead th {\n",
              "        text-align: right;\n",
              "    }\n",
              "</style>\n",
              "<table border=\"1\" class=\"dataframe\">\n",
              "  <thead>\n",
              "    <tr style=\"text-align: right;\">\n",
              "      <th></th>\n",
              "      <th>Título</th>\n",
              "      <th>info</th>\n",
              "      <th>contenido</th>\n",
              "      <th>Etiqueta</th>\n",
              "      <th>unified_text</th>\n",
              "      <th>cleaned_text</th>\n",
              "    </tr>\n",
              "  </thead>\n",
              "  <tbody>\n",
              "    <tr>\n",
              "      <th>10487</th>\n",
              "      <td>Al interior de, aparte, roquero, rock / El len...</td>\n",
              "      <td>'Al interior de' es el reemplazo sofisticado e...</td>\n",
              "      <td>Citas: “Los crímenes de violencia sexual comet...</td>\n",
              "      <td>cultura</td>\n",
              "      <td>Título: Al interior de, aparte, roquero, rock ...</td>\n",
              "      <td>Título: Al interior de, aparte, roquero, rock ...</td>\n",
              "    </tr>\n",
              "    <tr>\n",
              "      <th>10488</th>\n",
              "      <td>Antonina Canal: 20 años de danza oriental en C...</td>\n",
              "      <td>La bailarina habló con EL TIEMPO de su trayect...</td>\n",
              "      <td>Con motivo de la celebración de los 20 años de...</td>\n",
              "      <td>cultura</td>\n",
              "      <td>Título: Antonina Canal: 20 años de danza orien...</td>\n",
              "      <td>Título: Antonina Canal: 20 años de danza orien...</td>\n",
              "    </tr>\n",
              "  </tbody>\n",
              "</table>\n",
              "</div>\n",
              "    <div class=\"colab-df-buttons\">\n",
              "\n",
              "  <div class=\"colab-df-container\">\n",
              "    <button class=\"colab-df-convert\" onclick=\"convertToInteractive('df-2d3f8bb1-7e34-4b5e-ba7f-527771a59b75')\"\n",
              "            title=\"Convert this dataframe to an interactive table.\"\n",
              "            style=\"display:none;\">\n",
              "\n",
              "  <svg xmlns=\"http://www.w3.org/2000/svg\" height=\"24px\" viewBox=\"0 -960 960 960\">\n",
              "    <path d=\"M120-120v-720h720v720H120Zm60-500h600v-160H180v160Zm220 220h160v-160H400v160Zm0 220h160v-160H400v160ZM180-400h160v-160H180v160Zm440 0h160v-160H620v160ZM180-180h160v-160H180v160Zm440 0h160v-160H620v160Z\"/>\n",
              "  </svg>\n",
              "    </button>\n",
              "\n",
              "  <style>\n",
              "    .colab-df-container {\n",
              "      display:flex;\n",
              "      gap: 12px;\n",
              "    }\n",
              "\n",
              "    .colab-df-convert {\n",
              "      background-color: #E8F0FE;\n",
              "      border: none;\n",
              "      border-radius: 50%;\n",
              "      cursor: pointer;\n",
              "      display: none;\n",
              "      fill: #1967D2;\n",
              "      height: 32px;\n",
              "      padding: 0 0 0 0;\n",
              "      width: 32px;\n",
              "    }\n",
              "\n",
              "    .colab-df-convert:hover {\n",
              "      background-color: #E2EBFA;\n",
              "      box-shadow: 0px 1px 2px rgba(60, 64, 67, 0.3), 0px 1px 3px 1px rgba(60, 64, 67, 0.15);\n",
              "      fill: #174EA6;\n",
              "    }\n",
              "\n",
              "    .colab-df-buttons div {\n",
              "      margin-bottom: 4px;\n",
              "    }\n",
              "\n",
              "    [theme=dark] .colab-df-convert {\n",
              "      background-color: #3B4455;\n",
              "      fill: #D2E3FC;\n",
              "    }\n",
              "\n",
              "    [theme=dark] .colab-df-convert:hover {\n",
              "      background-color: #434B5C;\n",
              "      box-shadow: 0px 1px 3px 1px rgba(0, 0, 0, 0.15);\n",
              "      filter: drop-shadow(0px 1px 2px rgba(0, 0, 0, 0.3));\n",
              "      fill: #FFFFFF;\n",
              "    }\n",
              "  </style>\n",
              "\n",
              "    <script>\n",
              "      const buttonEl =\n",
              "        document.querySelector('#df-2d3f8bb1-7e34-4b5e-ba7f-527771a59b75 button.colab-df-convert');\n",
              "      buttonEl.style.display =\n",
              "        google.colab.kernel.accessAllowed ? 'block' : 'none';\n",
              "\n",
              "      async function convertToInteractive(key) {\n",
              "        const element = document.querySelector('#df-2d3f8bb1-7e34-4b5e-ba7f-527771a59b75');\n",
              "        const dataTable =\n",
              "          await google.colab.kernel.invokeFunction('convertToInteractive',\n",
              "                                                    [key], {});\n",
              "        if (!dataTable) return;\n",
              "\n",
              "        const docLinkHtml = 'Like what you see? Visit the ' +\n",
              "          '<a target=\"_blank\" href=https://colab.research.google.com/notebooks/data_table.ipynb>data table notebook</a>'\n",
              "          + ' to learn more about interactive tables.';\n",
              "        element.innerHTML = '';\n",
              "        dataTable['output_type'] = 'display_data';\n",
              "        await google.colab.output.renderOutput(dataTable, element);\n",
              "        const docLink = document.createElement('div');\n",
              "        docLink.innerHTML = docLinkHtml;\n",
              "        element.appendChild(docLink);\n",
              "      }\n",
              "    </script>\n",
              "  </div>\n",
              "\n",
              "\n",
              "<div id=\"df-6bf6e553-49c8-44cc-af03-a06b02ff4cba\">\n",
              "  <button class=\"colab-df-quickchart\" onclick=\"quickchart('df-6bf6e553-49c8-44cc-af03-a06b02ff4cba')\"\n",
              "            title=\"Suggest charts\"\n",
              "            style=\"display:none;\">\n",
              "\n",
              "<svg xmlns=\"http://www.w3.org/2000/svg\" height=\"24px\"viewBox=\"0 0 24 24\"\n",
              "     width=\"24px\">\n",
              "    <g>\n",
              "        <path d=\"M19 3H5c-1.1 0-2 .9-2 2v14c0 1.1.9 2 2 2h14c1.1 0 2-.9 2-2V5c0-1.1-.9-2-2-2zM9 17H7v-7h2v7zm4 0h-2V7h2v10zm4 0h-2v-4h2v4z\"/>\n",
              "    </g>\n",
              "</svg>\n",
              "  </button>\n",
              "\n",
              "<style>\n",
              "  .colab-df-quickchart {\n",
              "      --bg-color: #E8F0FE;\n",
              "      --fill-color: #1967D2;\n",
              "      --hover-bg-color: #E2EBFA;\n",
              "      --hover-fill-color: #174EA6;\n",
              "      --disabled-fill-color: #AAA;\n",
              "      --disabled-bg-color: #DDD;\n",
              "  }\n",
              "\n",
              "  [theme=dark] .colab-df-quickchart {\n",
              "      --bg-color: #3B4455;\n",
              "      --fill-color: #D2E3FC;\n",
              "      --hover-bg-color: #434B5C;\n",
              "      --hover-fill-color: #FFFFFF;\n",
              "      --disabled-bg-color: #3B4455;\n",
              "      --disabled-fill-color: #666;\n",
              "  }\n",
              "\n",
              "  .colab-df-quickchart {\n",
              "    background-color: var(--bg-color);\n",
              "    border: none;\n",
              "    border-radius: 50%;\n",
              "    cursor: pointer;\n",
              "    display: none;\n",
              "    fill: var(--fill-color);\n",
              "    height: 32px;\n",
              "    padding: 0;\n",
              "    width: 32px;\n",
              "  }\n",
              "\n",
              "  .colab-df-quickchart:hover {\n",
              "    background-color: var(--hover-bg-color);\n",
              "    box-shadow: 0 1px 2px rgba(60, 64, 67, 0.3), 0 1px 3px 1px rgba(60, 64, 67, 0.15);\n",
              "    fill: var(--button-hover-fill-color);\n",
              "  }\n",
              "\n",
              "  .colab-df-quickchart-complete:disabled,\n",
              "  .colab-df-quickchart-complete:disabled:hover {\n",
              "    background-color: var(--disabled-bg-color);\n",
              "    fill: var(--disabled-fill-color);\n",
              "    box-shadow: none;\n",
              "  }\n",
              "\n",
              "  .colab-df-spinner {\n",
              "    border: 2px solid var(--fill-color);\n",
              "    border-color: transparent;\n",
              "    border-bottom-color: var(--fill-color);\n",
              "    animation:\n",
              "      spin 1s steps(1) infinite;\n",
              "  }\n",
              "\n",
              "  @keyframes spin {\n",
              "    0% {\n",
              "      border-color: transparent;\n",
              "      border-bottom-color: var(--fill-color);\n",
              "      border-left-color: var(--fill-color);\n",
              "    }\n",
              "    20% {\n",
              "      border-color: transparent;\n",
              "      border-left-color: var(--fill-color);\n",
              "      border-top-color: var(--fill-color);\n",
              "    }\n",
              "    30% {\n",
              "      border-color: transparent;\n",
              "      border-left-color: var(--fill-color);\n",
              "      border-top-color: var(--fill-color);\n",
              "      border-right-color: var(--fill-color);\n",
              "    }\n",
              "    40% {\n",
              "      border-color: transparent;\n",
              "      border-right-color: var(--fill-color);\n",
              "      border-top-color: var(--fill-color);\n",
              "    }\n",
              "    60% {\n",
              "      border-color: transparent;\n",
              "      border-right-color: var(--fill-color);\n",
              "    }\n",
              "    80% {\n",
              "      border-color: transparent;\n",
              "      border-right-color: var(--fill-color);\n",
              "      border-bottom-color: var(--fill-color);\n",
              "    }\n",
              "    90% {\n",
              "      border-color: transparent;\n",
              "      border-bottom-color: var(--fill-color);\n",
              "    }\n",
              "  }\n",
              "</style>\n",
              "\n",
              "  <script>\n",
              "    async function quickchart(key) {\n",
              "      const quickchartButtonEl =\n",
              "        document.querySelector('#' + key + ' button');\n",
              "      quickchartButtonEl.disabled = true;  // To prevent multiple clicks.\n",
              "      quickchartButtonEl.classList.add('colab-df-spinner');\n",
              "      try {\n",
              "        const charts = await google.colab.kernel.invokeFunction(\n",
              "            'suggestCharts', [key], {});\n",
              "      } catch (error) {\n",
              "        console.error('Error during call to suggestCharts:', error);\n",
              "      }\n",
              "      quickchartButtonEl.classList.remove('colab-df-spinner');\n",
              "      quickchartButtonEl.classList.add('colab-df-quickchart-complete');\n",
              "    }\n",
              "    (() => {\n",
              "      let quickchartButtonEl =\n",
              "        document.querySelector('#df-6bf6e553-49c8-44cc-af03-a06b02ff4cba button');\n",
              "      quickchartButtonEl.style.display =\n",
              "        google.colab.kernel.accessAllowed ? 'block' : 'none';\n",
              "    })();\n",
              "  </script>\n",
              "</div>\n",
              "\n",
              "    </div>\n",
              "  </div>\n"
            ],
            "application/vnd.google.colaboratory.intrinsic+json": {
              "type": "dataframe",
              "variable_name": "df_preprocessed",
              "summary": "{\n  \"name\": \"df_preprocessed\",\n  \"rows\": 2388,\n  \"fields\": [\n    {\n      \"column\": \"T\\u00edtulo\",\n      \"properties\": {\n        \"dtype\": \"string\",\n        \"num_unique_values\": 2386,\n        \"samples\": [\n          \"Definitivo: Jhon 'Calzones' debe abandonar la alcald\\u00eda de Yopal\",\n          \"M\\u00f3naco, a cuartos de final de la Liga de Campeones\",\n          \"Avianca despide a hombre que aparece en video con licor en Mundial\"\n        ],\n        \"semantic_type\": \"\",\n        \"description\": \"\"\n      }\n    },\n    {\n      \"column\": \"info\",\n      \"properties\": {\n        \"dtype\": \"string\",\n        \"num_unique_values\": 2386,\n        \"samples\": [\n          \"La Corte Suprema de Justicia rechaz\\u00f3 casaci\\u00f3n y dej\\u00f3 en firme la condena por urbanizaci\\u00f3n ilegal.\",\n          \"Enfrentan a Montpellier en las semifinales de la Copa de la Liga para salvar la temporada.\",\n          \"La compa\\u00f1\\u00eda inform\\u00f3 que Luis Felipe G\\u00f3mez viol\\u00f3 la normatividad 'vigente en el marco del evento'.\"\n        ],\n        \"semantic_type\": \"\",\n        \"description\": \"\"\n      }\n    },\n    {\n      \"column\": \"contenido\",\n      \"properties\": {\n        \"dtype\": \"string\",\n        \"num_unique_values\": 2387,\n        \"samples\": [\n          \"Este s\\u00e1bado, durante la firma del nuevo acuerdo de paz entre el Gobierno y las Farc, el jefe de la delegaci\\u00f3n negociadora del Gobierno, Humberto de la Calle, comenz\\u00f3 su intervenci\\u00f3n agradeciendo a los pa\\u00edses garantes \\u201cy en particular, a la generosidad del gobierno de Cuba al habernos tenido ac\\u00e1 en medio de un ambiente de apoyo, de seriedad, de trabajo diplom\\u00e1tico impecable durante ya m\\u00e1s de cuatro a\\u00f1os\\u201d. De la Calle record\\u00f3 el camino seguido en el proceso de paz despu\\u00e9s del triunfo del \\u2018No\\u2019 en el plebiscito del pasado 2 de octubre. \\u201cComprendimos que era necesario trabajar con celeridad y responsabilidad en la b\\u00fasqueda de un nuevo acuerdo, incluyente y respetuoso\\u201d , dijo. Como un esfuerzo \\u201cgenuino, leal\\u201d, calific\\u00f3 los di\\u00e1logos abiertos por el presidente Juan Manuel Santos con los distintos voceros del \\u2018No\\u2019 que, seg\\u00fan De la Calle, llevaron a m\\u00e1s de 100 horas de intercambio directo de opiniones. De la Calle reafirm\\u00f3 que los di\\u00e1logos en La Habana, una vez fueron recogidas las inquietudes del \\u2018No\\u2019, implicaron m\\u00e1s de 15 d\\u00edas y noches de trabajo, \\u201cmuchas veces m\\u00e1s all\\u00e1 de la medianoche\\u201d. El jefe negociador del Gobierno reconoci\\u00f3, adem\\u00e1s de las arduas discusiones, la complejidad de los temas puestos sobre la mesa. \\u201cUna vez m\\u00e1s nos probamos que, a pesar de las diferencias y visiones distintas, a trav\\u00e9s del di\\u00e1logo es posible llegar a puntos de encuentro\\u201d , sostuvo. Durante su discurso, De la Calle enumer\\u00f3 algunos de los cambios introducidos al acuerdo de paz y que convierten este, seg\\u00fan reconoci\\u00f3, en un acuerdo mejor que el firmado el 26 de septiembre en Cartagena. Esto, pese a que \\u00e9l mismo hab\\u00eda calificado el acuerdo derrotado en las urnas como \\u201cel mejor posible\\u201d. \\u201cEstamos convencidos de que este documento se\\u00f1ala caminos viables y posibles para acabar con tantas d\\u00e9cadas de conflicto en Colombia\\u201d , dijo. No obstante, reconoci\\u00f3 que \\u201csu aceptaci\\u00f3n no va a ser un\\u00e1nime, como tampoco lo fue el primer acuerdo\\u201d. Entre esos cambios, a los que llam\\u00f3 \\u201cinnovaciones\\u201d, se resalta la precisi\\u00f3n de que las Farc presentar\\u00e1n un inventario de sus bienes y activos durante el proceso de dejaci\\u00f3n de armas. La jurisdicci\\u00f3n especial para la paz se mantiene con algunos cambios, como que ya no habr\\u00e1 presencia de magistrados extranjeros en esta, aunque estos s\\u00ed podr\\u00e1n cumplir un papel de consejeros externos. Adem\\u00e1s, se precis\\u00f3 el alcance geogr\\u00e1fico de la restricci\\u00f3n efectiva de la libertad a espacios con dimensiones similares a las de las zonas veredales de transici\\u00f3n en que se llevar\\u00e1 a cabo la dejaci\\u00f3n de armas. Respecto a la conexidad del narcotr\\u00e1fico con los delitos pol\\u00edticos, la jurisdicci\\u00f3n especial tendr\\u00e1 en cuenta, caso a caso, la jurisprudencia de los altos tribunales colombianos. De la Calle tambi\\u00e9n reiter\\u00f3 que el nuevo acuerdo precisa los alcances del enfoque de g\\u00e9nero , entendido como la igualdad entre hombres y mujeres, sin dejar de reconocer que el conflicto ha impactado de manera diferencial a las mujeres. El respeto a la propiedad privada y su armonizaci\\u00f3n con iniciativas de agroindustria y turismo son algunas de las precisiones logradas en materia de reforma rural integral, seg\\u00fan el comunicado le\\u00eddo por Humberto de la Calle. Tambi\\u00e9n precis\\u00f3 que el acuerdo no contemplar\\u00e1 la creaci\\u00f3n de zonas de reservas campesina. Por orden del presidente Santos, \\u201cquedamos a disposici\\u00f3n de los voceros del \\u2018No\\u2019 para explicar los t\\u00e9rminos del nuevo acuerdo suscrito hoy\\u201d, concluy\\u00f3 De la Calle. En la tarde de este s\\u00e1bado, el senador \\u00c1lvaro Uribe pidi\\u00f3 a Santos que el nuevo acuerdo no tuviera alcance definitivo. \\u201cNo podemos pedir que cese la discusi\\u00f3n, pero s\\u00ed podemos desear que la gran decisi\\u00f3n nacional sea poner en marcha la ejecuci\\u00f3n de los acuerdos, superar el conflicto armado, abrir caminos a la reconciliaci\\u00f3n y profundizar los esfuerzos para lograr una sociedad m\\u00e1s equitativa\\u201d , dijo el negociador, y termin\\u00f3 su discurso: \\u201cHoy termina algo y empieza tambi\\u00e9n una nueva etapa. Es el reto de nosotros, por nuestros hijos y por nuestros nietos\\u201d. DECLARACI\\u00d3N JEFE DE LA DELEGACI\\u00d3N Humberto de la Calle La Habana, 12 de noviembre de 2016 Buenas tardes, Despu\\u00e9s del resultado obtenido el pasado 2 de octubre en el que m\\u00e1s de seis millones de colombianos expresaron mediante su voto los reparos al Acuerdo firmado entre el Gobierno y las FARC, comprendimos que era necesario trabajar con celeridad y responsabilidad en la b\\u00fasqueda de un nuevo Acuerdo. Un Acuerdo incluyente y respetuoso. A partir del mismo 3 de octubre, los colombianos hemos sido testigos de un ejercicio profundo de di\\u00e1logo. Adem\\u00e1s de las m\\u00faltiples reuniones que sostuvo el Jefe de Estado con los diferentes l\\u00edderes del No, muy r\\u00e1pidamente design\\u00f3 una Comisi\\u00f3n conformada por el Ministro de Defensa, la Canciller y por m\\u00ed, en calidad de Jefe Negociador; en la que tambi\\u00e9n participaron el Equipo Negociador, el Ministro del Interior y el Alto Consejero para el Posconflicto y el Alto Comisionado para la Paz, Sergio Jaramillo; con el prop\\u00f3sito de sostener di\\u00e1logos abiertos y recoger inquietudes, preocupaciones y sugerencias al Acuerdo para la Terminaci\\u00f3n del Conflicto. Fue un esfuerzo genuino, leal, que nos permiti\\u00f3 recopilar la totalidad de las iniciativas, ordenarlas, estudiarlas a fondo, luego de cerca de cien horas de intercambio directo de opiniones en un ejercicio constructivo, franco y democr\\u00e1tico. Despu\\u00e9s de terminar las reuniones con los voceros del No, viajamos a La Habana para discutir con las FARC las preocupaciones expresadas en Bogot\\u00e1, insistir en la importancia de incorporar el mayor n\\u00famero de propuestas al texto y trabajar en la construcci\\u00f3n de un nuevo Acuerdo que cumpliera en lo posible con las expectativas de muchos colombianos. Las reuniones con la delegaci\\u00f3n de las FARC fueron igualmente intensas. M\\u00e1s de 15 d\\u00edas y noches de trabajo reuniones con discusiones arduas dada la complejidad de los temas. Debo destacar el ambiente constructivo y la buena voluntad de las delegaciones para trabajar con disciplina y seriedad. Este nuevo Acuerdo fue adem\\u00e1s una oportunidad para aclarar dudas, resolver inquietudes pero sobretodo para unirnos los colombianos. Una vez m\\u00e1s nos probamos que, a pesar de las diferencias y visiones distintas, a trav\\u00e9s del di\\u00e1logo es posible llegar a puntos de encuentro. Esta tarea la asumimos con compromiso, respeto y responsabilidad. Pensamos en los colombianos, en sus expectativas y sus v\\u00e1lidas inquietudes, pero tambi\\u00e9n trabajamos con la certeza de que no hay m\\u00e1s tiempo que perder. Estamos convencidos de que este documento se\\u00f1ala caminos viables y posibles para acabar con tantas d\\u00e9cadas de conflicto en Colombia. Ahora deseo hacer una confesi\\u00f3n personal: Dije que el Acuerdo del 26 de septiembre era el mejor Acuerdo posible, aunque era tambi\\u00e9n susceptible de cr\\u00edticas. Y se\\u00f1al\\u00e9 que esa afirmaci\\u00f3n no se hac\\u00eda desde la arrogancia. Era el mejor por cuanto permit\\u00eda dar por terminado el conflicto, no para desestimar las insatisfacciones que pod\\u00eda generar. Hoy con humildad reconozco que este Acuerdo es mejor en cuanto resuelve muchas de esas cr\\u00edticas e insatisfacciones. Su aceptaci\\u00f3n no va a ser un\\u00e1nime. Como tampoco lo fue en el primer acuerdo. Pero esperamos que la base de apoyo que recoja lo haga m\\u00e1s s\\u00f3lido. Pero m\\u00e1s que exaltar las virtudes de \\u00e9ste frente al anterior, en lo que gana con creces es que mediante un ejercicio democr\\u00e1tico se ha logrado construir una base de sustento m\\u00e1s amplia. La cuesti\\u00f3n no es s\\u00f3lo la ampliaci\\u00f3n del apoyo, sino que este ha sido fabricado en un ejercicio leal de democracia y di\\u00e1logo sincero. A los otros seis millones de votos que nos acompa\\u00f1aron en la refrendaci\\u00f3n del Acuerdo, quiero decirles que los ajustes y precisiones que hemos realizado, no sacrifican las convicciones que le dieron forma al primer Acuerdo. No cancelamos la ilusi\\u00f3n. No dimos marcha atr\\u00e1s en la posibilidad de un pa\\u00eds nuevo. No desistimos del prop\\u00f3sito de reivindicar la familia campesina. Limpiar la pol\\u00edtica. Combatir las bandas criminales y la corrupci\\u00f3n. Contribuir a superar el problema mundial de la droga. Impartir justicia pensando m\\u00e1s en las v\\u00edctimas que en los barrotes. Integrar nuestros territorios. Superar desigualdades ancestrales. Crear una sociedad m\\u00e1s equitativa. Crearla a trav\\u00e9s del di\\u00e1logo, del uso razonable de la autoridad del Estado, buscando darle cimientos fuertes a la seguridad humana. Escuchando, sobre todo escuchando a los m\\u00e1s d\\u00e9biles. Quiero destacar algunas de las innovaciones de este acuerdo: Durante el t\\u00e9rmino de la dejaci\\u00f3n de armas, las FARC presentar\\u00e1n un inventario de bienes y activos para destinarlos a la reparaci\\u00f3n material de las v\\u00edctimas. En cuanto a la Jurisdicci\\u00f3n Especial para la Paz se atendi\\u00f3 la mayor\\u00eda de las propuestas formuladas. Se precisaron de manera concreta las caracter\\u00edsticas y mecanismos de la restricci\\u00f3n efectiva de la libertad. En efecto, se fijaron los espacios territoriales espec\\u00edficos para el cumplimiento de las sanciones con un tama\\u00f1o m\\u00e1ximo a las zonas veredales, los periodos de ejecuci\\u00f3n de las acciones reparadoras, la precisi\\u00f3n del lugar de residencia, los mecanismos de monitoreo y la regulaci\\u00f3n del sistema de autorizaci\\u00f3n para los desplazamientos por fuera de las zonas, requisito necesario en todos los casos. Por iniciativa de algunos opositores se acept\\u00f3 que mientras entra en funcionamiento la JEP, las acciones reparadoras debidamente verificadas pueden ser descontadas de la sanci\\u00f3n que se imponga. Sobre el discutido tema de la conexidad del narcotr\\u00e1fico con el delito pol\\u00edtico, el acuerdo es que los Magistrados tendr\\u00e1n en cuenta caso a caso la jurisprudencia de las cortes colombianas. Se eliminan los Magistrados extranjeros pero se acepta la presencia de amicus curiae, -expertos extranjeros- para rendir conceptos sobre los casos que se tramiten. Queda claro que entre la normatividad aplicable se incluye el C\\u00f3digo Penal Colombiano y que las normas procedimentales deber\\u00e1n ser incorporadas al ordenamiento legal. Ser\\u00e1n de competencia de la JEP las conductas de financiaci\\u00f3n o colaboraci\\u00f3n con actores del conflicto en que hayan incurrido los terceros no combatientes que tuvieron una participaci\\u00f3n activa o determinante en los cr\\u00edmenes m\\u00e1s graves. Se elimin\\u00f3 la participaci\\u00f3n habitual. Y se reafirm\\u00f3 que los dem\\u00e1s, si contribuyen a las medidas de verdad y reparaci\\u00f3n, pueden beneficiarse de la renuncia de la acci\\u00f3n penal u otro tipo de terminaci\\u00f3n anticipada del proceso. Se estableci\\u00f3 el t\\u00e9rmino concreto de duraci\\u00f3n de la Jurisdicci\\u00f3n. Se elimin\\u00f3 la idea de incorporar el Acuerdo a la Constituci\\u00f3n Pol\\u00edtica y al llamado bloque de constitucionalidad. El principio general de garant\\u00eda de cumplimiento es el compromiso de que ambas partes cumplir\\u00e1n de buena fe lo pactado, y en lo que tiene que ver con el Estado, los principios que informan el Acuerdo ser\\u00e1n par\\u00e1metro de interpretaci\\u00f3n y gu\\u00eda de la aplicaci\\u00f3n normativa y pr\\u00e1ctica. Se estableci\\u00f3 tambi\\u00e9n que la revisi\\u00f3n de la tutela contra decisiones de la Jurisdicci\\u00f3n Especial en cabeza de la Corte Constitucional. En el nuevo Acuerdo se define qu\\u00e9 se entiende por enfoque de g\\u00e9nero. Significa el reconocimiento de la igualdad de derechos entre hombres y mujeres y de las circunstancias especiales de cada uno. Supone reconocer que el conflicto ha impactado de manera diferenciada a la mujer y que, en consecuencia, se requieren acciones distintas y espec\\u00edficas para restablecer sus derechos. Incluye tambi\\u00e9n un principio de respeto a la igualdad y no discriminaci\\u00f3n, que implica que toda persona, independientemente de su sexo, edad, creencias religiosas, opiniones, identidad \\u00e9tnica, pertenencia a la poblaci\\u00f3n LGBTI, o cualquier otra raz\\u00f3n, tiene derecho a disfrutar de todos los derechos. Ning\\u00fan contenido del Acuerdo Final se entender\\u00e1 o interpretar\\u00e1 como la negaci\\u00f3n, restricci\\u00f3n o menoscabo de los derechos de las personas. En atenci\\u00f3n al llamado que nos hicieron de diversos sectores religiosos, se estipula que en la implementaci\\u00f3n de lo acordado se deber\\u00e1 respetar la libertad de cultos, lo que significa el reconocimiento y respeto a la pr\\u00e1ctica de cualquier manifestaci\\u00f3n de religiosidad. Mantenemos vivo el compromiso con el campo a trav\\u00e9s de una pol\\u00edtica de recuperaci\\u00f3n de la familia campesina, que impulse el acceso equitativo a la tierra y que cree condiciones de vida digna. En la Reforma Rural Integral hemos afirmado que \\u201cnada de lo establecido en el acuerdo debe afectar el derecho constitucional a la propiedad privada\\u201d. Tambi\\u00e9n qued\\u00f3 expl\\u00edcito que los programas cuyo destinatario es el campesino no impiden la puesta en pr\\u00e1ctica de diversas formas de producci\\u00f3n, tales como la agroindustria o el turismo. Para lograr darle la mayor solidez a la reforma rural, se ajustaron los tiempos de implementaci\\u00f3n a las nuevas realidades fiscales. El acuerdo adem\\u00e1s por s\\u00ed mismo no crea Zonas de Reserva Campesina. Desde el Acuerdo de Cartagena se hab\\u00eda dado un paso inmenso en la lucha contra el problema mundial de la droga. Las FARC se comprometieron a romper todo v\\u00ednculo con \\u00e9l y a cooperar en la superaci\\u00f3n de ese fen\\u00f3meno. Ahora, en el nuevo Acuerdo se ha logrado precisar de manera concreta las caracter\\u00edsticas de esa cooperaci\\u00f3n y adem\\u00e1s quienes acudan a la JEP \\u2013todos, no solo las FARC- deber\\u00e1n informar de manera exhaustiva y detallada sobre las informaciones de las que dispongan para atribuir responsabilidades. De igual modo se aclara que los programas de sustituci\\u00f3n buscan tener territorios libres de cultivos de uso il\\u00edcitos de modo que no se establezca un marco de coexistencia entre el programa de sustituci\\u00f3n y la continuaci\\u00f3n de tales cultivos. En cuanto a la aplicaci\\u00f3n de las pol\\u00edticas sobre el consumo, se robustece el papel de la familia y de los grupos religiosos. Se estableci\\u00f3 el compromiso de respetar el principio de sostenibilidad de las finanzas p\\u00fablicas. En tal sentido, el Plan Marco acordado para las inversiones, deber\\u00e1 contener las fuentes de financiaci\\u00f3n. A partir de hoy los colombianos podr\\u00e1n consultar los cambios y los nuevos elementos del nuevo Acuerdo en las p\\u00e1ginas de internet de La Presidencia de la Rep\\u00fablica, de la Oficina del Alto Comisionado para la Paz, de Equipo Paz Gobierno y de La Mesa de Conversaciones. En el transcurso de la pr\\u00f3xima semana estar\\u00e1 disponible la versi\\u00f3n integrada. Estimados se\\u00f1ores y se\\u00f1oras, No podemos pedir que cese la discusi\\u00f3n. Pero s\\u00ed podemos desear que la gran decisi\\u00f3n nacional sea poner en marcha la ejecuci\\u00f3n de los acuerdos, superar el conflicto armado, abrir caminos a la reconciliaci\\u00f3n y profundizar los esfuerzos para lograr una sociedad equitativa. Ese es el reto ahora. El reto de nosotros, por nuestros hijos y nuestros nietos. ELTIEMPO.COM Miedo 11:19 p.m. Ejercite su mente en la cuarentena con este test de l\\u00f3gica matem\\u00e1tica Ponga a prueba esas clases de matem\\u00e1ticas del colegio y de la vida par ... Manizales 10:00 p.m. Ya se venden medicamentos de cannabis con f\\u00f3rmula m\\u00e9dica En farmacias especializadas de Colombia es posible acceder a medicamen ... Manizales 10:00 p.m. El gu\\u00eda de la salud mental del pueblo con m\\u00e1s casos de bipolaridad Coronavirus en Colombia 09:31 p.m. Una cabina de desinfecci\\u00f3n manual para Barranquilla Valle del Cauca 07:50 p.m. Se han recogido cerca de 132 mil mercados en 'Donat\\u00f3n Valle Solidario'\",\n          \"M\\u00f3naco dej\\u00f3 de ser ese equipo s\\u00f3lido y sorprendente de la pasada temporada, en la que gan\\u00f3 la Liga por encima del poderoso PSG, que se meti\\u00f3 en las semifinales de la Liga de Campeones y estuvo peleando en las copas nacionales. Este modelo 2018 a\\u00fan est\\u00e1 en construcci\\u00f3n, luego de la partida de grandes de sus estrellas. Este mi\\u00e9rcoles tendr\\u00e1 una prueba importante para salvar la temporada: recibe a Montpellier en las semifinales de la Copa de la Liga de Francia, con la firme intenci\\u00f3n de llegar a la final y aspirar a un t\\u00edtulo en este 2018. Las cosas no han sido f\\u00e1ciles para M\\u00f3naco. Quedaron eliminados en la primera fase de la Liga de Campeones, hace una semana le dijeron adi\\u00f3s a la Copa de Francia, y la Liga la ve muy lejos: est\\u00e1n a 12 puntos del l\\u00edder PSG. Para este compromiso, Leonardo Jardim, entrenador de M\\u00f3naco, espera que aparezcan los goles de su m\\u00e1xima estrella, el colombiano Radamel Falcao Garc\\u00eda, quien solo ha anotado un gol en este inicio de a\\u00f1o. \\u201c Es de lejos nuestro mejor goleador (16 tantos en la Liga), todo el mundo conoce su calidad\\u201d, afirm\\u00f3 el entrenador portugu\\u00e9s. \\u201cEstuvo parado un mes. Necesita tiempo para recuperar el nivel, pero de \\u00e9l siempre se espera un gran nivel y goles. Espero que en el futuro pr\\u00f3ximo pueda marcar\\u201d, dijo. Para este compromiso, Jardim cuenta con las ideas y todo el arsenal, uno de los mayores problemas que ha tenido en esta temporada y al que le ha variado el sistema t\\u00e1ctico y los nombres para poder tener un equipo competitivo en el campo. Montpellier es un equipo al que hay que enfrentar con mucha precauci\\u00f3n. \\u201c Alinear\\u00e9 al mejor equipo posible . Sabemos que es muy fuerte nuestro rival, al que es dif\\u00edcil anotarle\\u201d, asegur\\u00f3 Jardim. El ganador de esta serie se enfrentar\\u00e1 al Paris Saint-Germain, que ayer venci\\u00f3 2-3 al Rennes. DEPORTES Miedo 11:19 p.m. Ejercite su mente en la cuarentena con este test de l\\u00f3gica matem\\u00e1tica Ponga a prueba esas clases de matem\\u00e1ticas del colegio y de la vida par ... Manizales 10:00 p.m. Ya se venden medicamentos de cannabis con f\\u00f3rmula m\\u00e9dica En farmacias especializadas de Colombia es posible acceder a medicamen ... Manizales 10:00 p.m. El gu\\u00eda de la salud mental del pueblo con m\\u00e1s casos de bipolaridad Coronavirus en Colombia 09:31 p.m. Una cabina de desinfecci\\u00f3n manual para Barranquilla Valle del Cauca 07:50 p.m. Se han recogido cerca de 132 mil mercados en 'Donat\\u00f3n Valle Solidario'\",\n          \"El pleito entre Avianca Holdings y su accionista minoritario Kingsland Holdings \\u2013de la familia salvadore\\u00f1a Kriete\\u2013 se creci\\u00f3. Este lunes la firma interpuso ante la corte de Nueva York dos recursos en contra de su accionista minoritario. Por un lado, present\\u00f3 una demanda para que se le ordene a Kingsland y a Roberto Kriete que se abstengan de \\u201cseguir divulgando informaci\\u00f3n confidencial de la compa\\u00f1\\u00eda de manera ilegal y en beneficio propio, debiendo cumplir con sus obligaciones contractuales bajo el acuerdo de accionistas suscrito con Synergy Aerospace y Avianca Holdings\\u201d, seg\\u00fan un comunicado de la empresa. En segundo lugar, interpuso una petici\\u00f3n (motion to dismiss) para que dicha corte rechace la demanda presentada por Kingsland a finales de febrero en contra de Avianca. (Le puede interesar: Las ocho aerol\\u00edneas m\\u00e1s cumplidas de Latinoam\\u00e9rica ) As\\u00ed, Hern\\u00e1n Rinc\\u00f3n, presidente de Avianca Holdings, se pronunci\\u00f3 y dijo que la estrategia de la aerol\\u00ednea va m\\u00e1s all\\u00e1 del litigio. \\u201cAvianca est\\u00e1 comprometida con el logro de los dos objetivos estrat\\u00e9gicos aprobados por la Junta Directiva: hacer parte de una alianza comercial con una aerol\\u00ednea de clase mundial y alcanzar el nuevo capital requerido\\u201d, a\\u00f1adi\\u00f3. Por su parte, Kingsland respondi\\u00f3 ante los recursos que todav\\u00eda est\\u00e1n revisando los documentos presentados este lunes , incluyendo la demanda de Avianca . \\u201cSin embargo, mantenemos las acusaciones de nuestra demanda y creemos firmemente que Kingsland ha cumplido con todas sus obligaciones establecidas por el acuerdo de accionistas y otros documentos\\u201d, declar\\u00f3. A su turno, Avianca dice que los documentos legales detallan las intenciones de Kingsland de impedir las negociaciones y desarrollar una alianza comercial estrat\\u00e9gica con United Airlines, adem\\u00e1s de demostrar que las maniobras legales de Kingsland \\u201c son un fuerte intento para obtener mayores derechos en los tribunales de los que previamente se hab\\u00edan negociado y acordado en el acuerdo de accionistas\\u201d. (Adem\\u00e1s: Pasajeros problem\\u00e1ticos en un vuelo pueden ser multados: Aerocivil ) Ante eso, Kingsland dijo que rechaza que Kriete \\u201chaya actuado inapropiadamente en cualquier manera que no sea en los mejores intereses de la compa\\u00f1\\u00eda\\u201d y que est\\u00e1 realizando esta acci\\u00f3n para proteger la viabilidad de la aerol\\u00ednea. El pr\\u00f3ximo 6 de abril, las partes se reunir\\u00e1n ante la corte por primera vez y comenzar\\u00e1 el proceso en que ambos entregar\\u00e1n sus argumentos. ECONOM\\u00cdA Y NEGOCIOS Miedo 11:19 p.m. Ejercite su mente en la cuarentena con este test de l\\u00f3gica matem\\u00e1tica Ponga a prueba esas clases de matem\\u00e1ticas del colegio y de la vida par ... Manizales 10:00 p.m. Ya se venden medicamentos de cannabis con f\\u00f3rmula m\\u00e9dica En farmacias especializadas de Colombia es posible acceder a medicamen ... Manizales 10:00 p.m. El gu\\u00eda de la salud mental del pueblo con m\\u00e1s casos de bipolaridad Coronavirus en Colombia 09:31 p.m. Una cabina de desinfecci\\u00f3n manual para Barranquilla Valle del Cauca 07:50 p.m. Se han recogido cerca de 132 mil mercados en 'Donat\\u00f3n Valle Solidario'\"\n        ],\n        \"semantic_type\": \"\",\n        \"description\": \"\"\n      }\n    },\n    {\n      \"column\": \"Etiqueta\",\n      \"properties\": {\n        \"dtype\": \"category\",\n        \"num_unique_values\": 8,\n        \"samples\": [\n          \"deportes\",\n          \"politica\",\n          \"cultura\"\n        ],\n        \"semantic_type\": \"\",\n        \"description\": \"\"\n      }\n    },\n    {\n      \"column\": \"unified_text\",\n      \"properties\": {\n        \"dtype\": \"string\",\n        \"num_unique_values\": 2387,\n        \"samples\": [\n          \"T\\u00edtulo: 'Este acuerdo es mejor que el de septiembre': De la Calle. Resumen: El jefe negociador del Gobierno adelant\\u00f3 algunos de los cambios del nuevo acuerdo de paz.. Contenido: Este s\\u00e1bado, durante la firma del nuevo acuerdo de paz entre el Gobierno y las Farc, el jefe de la delegaci\\u00f3n negociadora del Gobierno, Humberto de la Calle, comenz\\u00f3 su intervenci\\u00f3n agradeciendo a los pa\\u00edses garantes \\u201cy en particular, a la generosidad del gobierno de Cuba al habernos tenido ac\\u00e1 en medio de un ambiente de apoyo, de seriedad, de trabajo diplom\\u00e1tico impecable durante ya m\\u00e1s de cuatro a\\u00f1os\\u201d. De la Calle record\\u00f3 el camino seguido en el proceso de paz despu\\u00e9s del triunfo del \\u2018No\\u2019 en el plebiscito del pasado 2 de octubre. \\u201cComprendimos que era necesario trabajar con celeridad y responsabilidad en la b\\u00fasqueda de un nuevo acuerdo, incluyente y respetuoso\\u201d , dijo. Como un esfuerzo \\u201cgenuino, leal\\u201d, calific\\u00f3 los di\\u00e1logos abiertos por el presidente Juan Manuel Santos con los distintos voceros del \\u2018No\\u2019 que, seg\\u00fan De la Calle, llevaron a m\\u00e1s de 100 horas de intercambio directo de opiniones. De la Calle reafirm\\u00f3 que los di\\u00e1logos en La Habana, una vez fueron recogidas las inquietudes del \\u2018No\\u2019, implicaron m\\u00e1s de 15 d\\u00edas y noches de trabajo, \\u201cmuchas veces m\\u00e1s all\\u00e1 de la medianoche\\u201d. El jefe negociador del Gobierno reconoci\\u00f3, adem\\u00e1s de las arduas discusiones, la complejidad de los temas puestos sobre la mesa. \\u201cUna vez m\\u00e1s nos probamos que, a pesar de las diferencias y visiones distintas, a trav\\u00e9s del di\\u00e1logo es posible llegar a puntos de encuentro\\u201d , sostuvo. Durante su discurso, De la Calle enumer\\u00f3 algunos de los cambios introducidos al acuerdo de paz y que convierten este, seg\\u00fan reconoci\\u00f3, en un acuerdo mejor que el firmado el 26 de septiembre en Cartagena. Esto, pese a que \\u00e9l mismo hab\\u00eda calificado el acuerdo derrotado en las urnas como \\u201cel mejor posible\\u201d. \\u201cEstamos convencidos de que este documento se\\u00f1ala caminos viables y posibles para acabar con tantas d\\u00e9cadas de conflicto en Colombia\\u201d , dijo. No obstante, reconoci\\u00f3 que \\u201csu aceptaci\\u00f3n no va a ser un\\u00e1nime, como tampoco lo fue el primer acuerdo\\u201d. Entre esos cambios, a los que llam\\u00f3 \\u201cinnovaciones\\u201d, se resalta la precisi\\u00f3n de que las Farc presentar\\u00e1n un inventario de sus bienes y activos durante el proceso de dejaci\\u00f3n de armas. La jurisdicci\\u00f3n especial para la paz se mantiene con algunos cambios, como que ya no habr\\u00e1 presencia de magistrados extranjeros en esta, aunque estos s\\u00ed podr\\u00e1n cumplir un papel de consejeros externos. Adem\\u00e1s, se precis\\u00f3 el alcance geogr\\u00e1fico de la restricci\\u00f3n efectiva de la libertad a espacios con dimensiones similares a las de las zonas veredales de transici\\u00f3n en que se llevar\\u00e1 a cabo la dejaci\\u00f3n de armas. Respecto a la conexidad del narcotr\\u00e1fico con los delitos pol\\u00edticos, la jurisdicci\\u00f3n especial tendr\\u00e1 en cuenta, caso a caso, la jurisprudencia de los altos tribunales colombianos. De la Calle tambi\\u00e9n reiter\\u00f3 que el nuevo acuerdo precisa los alcances del enfoque de g\\u00e9nero , entendido como la igualdad entre hombres y mujeres, sin dejar de reconocer que el conflicto ha impactado de manera diferencial a las mujeres. El respeto a la propiedad privada y su armonizaci\\u00f3n con iniciativas de agroindustria y turismo son algunas de las precisiones logradas en materia de reforma rural integral, seg\\u00fan el comunicado le\\u00eddo por Humberto de la Calle. Tambi\\u00e9n precis\\u00f3 que el acuerdo no contemplar\\u00e1 la creaci\\u00f3n de zonas de reservas campesina. Por orden del presidente Santos, \\u201cquedamos a disposici\\u00f3n de los voceros del \\u2018No\\u2019 para explicar los t\\u00e9rminos del nuevo acuerdo suscrito hoy\\u201d, concluy\\u00f3 De la Calle. En la tarde de este s\\u00e1bado, el senador \\u00c1lvaro Uribe pidi\\u00f3 a Santos que el nuevo acuerdo no tuviera alcance definitivo. \\u201cNo podemos pedir que cese la discusi\\u00f3n, pero s\\u00ed podemos desear que la gran decisi\\u00f3n nacional sea poner en marcha la ejecuci\\u00f3n de los acuerdos, superar el conflicto armado, abrir caminos a la reconciliaci\\u00f3n y profundizar los esfuerzos para lograr una sociedad m\\u00e1s equitativa\\u201d , dijo el negociador, y termin\\u00f3 su discurso: \\u201cHoy termina algo y empieza tambi\\u00e9n una nueva etapa. Es el reto de nosotros, por nuestros hijos y por nuestros nietos\\u201d. DECLARACI\\u00d3N JEFE DE LA DELEGACI\\u00d3N Humberto de la Calle La Habana, 12 de noviembre de 2016 Buenas tardes, Despu\\u00e9s del resultado obtenido el pasado 2 de octubre en el que m\\u00e1s de seis millones de colombianos expresaron mediante su voto los reparos al Acuerdo firmado entre el Gobierno y las FARC, comprendimos que era necesario trabajar con celeridad y responsabilidad en la b\\u00fasqueda de un nuevo Acuerdo. Un Acuerdo incluyente y respetuoso. A partir del mismo 3 de octubre, los colombianos hemos sido testigos de un ejercicio profundo de di\\u00e1logo. Adem\\u00e1s de las m\\u00faltiples reuniones que sostuvo el Jefe de Estado con los diferentes l\\u00edderes del No, muy r\\u00e1pidamente design\\u00f3 una Comisi\\u00f3n conformada por el Ministro de Defensa, la Canciller y por m\\u00ed, en calidad de Jefe Negociador; en la que tambi\\u00e9n participaron el Equipo Negociador, el Ministro del Interior y el Alto Consejero para el Posconflicto y el Alto Comisionado para la Paz, Sergio Jaramillo; con el prop\\u00f3sito de sostener di\\u00e1logos abiertos y recoger inquietudes, preocupaciones y sugerencias al Acuerdo para la Terminaci\\u00f3n del Conflicto. Fue un esfuerzo genuino, leal, que nos permiti\\u00f3 recopilar la totalidad de las iniciativas, ordenarlas, estudiarlas a fondo, luego de cerca de cien horas de intercambio directo de opiniones en un ejercicio constructivo, franco y democr\\u00e1tico. Despu\\u00e9s de terminar las reuniones con los voceros del No, viajamos a La Habana para discutir con las FARC las preocupaciones expresadas en Bogot\\u00e1, insistir en la importancia de incorporar el mayor n\\u00famero de propuestas al texto y trabajar en la construcci\\u00f3n de un nuevo Acuerdo que cumpliera en lo posible con las expectativas de muchos colombianos. Las reuniones con la delegaci\\u00f3n de las FARC fueron igualmente intensas. M\\u00e1s de 15 d\\u00edas y noches de trabajo reuniones con discusiones arduas dada la complejidad de los temas. Debo destacar el ambiente constructivo y la buena voluntad de las delegaciones para trabajar con disciplina y seriedad. Este nuevo Acuerdo fue adem\\u00e1s una oportunidad para aclarar dudas, resolver inquietudes pero sobretodo para unirnos los colombianos. Una vez m\\u00e1s nos probamos que, a pesar de las diferencias y visiones distintas, a trav\\u00e9s del di\\u00e1logo es posible llegar a puntos de encuentro. Esta tarea la asumimos con compromiso, respeto y responsabilidad. Pensamos en los colombianos, en sus expectativas y sus v\\u00e1lidas inquietudes, pero tambi\\u00e9n trabajamos con la certeza de que no hay m\\u00e1s tiempo que perder. Estamos convencidos de que este documento se\\u00f1ala caminos viables y posibles para acabar con tantas d\\u00e9cadas de conflicto en Colombia. Ahora deseo hacer una confesi\\u00f3n personal: Dije que el Acuerdo del 26 de septiembre era el mejor Acuerdo posible, aunque era tambi\\u00e9n susceptible de cr\\u00edticas. Y se\\u00f1al\\u00e9 que esa afirmaci\\u00f3n no se hac\\u00eda desde la arrogancia. Era el mejor por cuanto permit\\u00eda dar por terminado el conflicto, no para desestimar las insatisfacciones que pod\\u00eda generar. Hoy con humildad reconozco que este Acuerdo es mejor en cuanto resuelve muchas de esas cr\\u00edticas e insatisfacciones. Su aceptaci\\u00f3n no va a ser un\\u00e1nime. Como tampoco lo fue en el primer acuerdo. Pero esperamos que la base de apoyo que recoja lo haga m\\u00e1s s\\u00f3lido. Pero m\\u00e1s que exaltar las virtudes de \\u00e9ste frente al anterior, en lo que gana con creces es que mediante un ejercicio democr\\u00e1tico se ha logrado construir una base de sustento m\\u00e1s amplia. La cuesti\\u00f3n no es s\\u00f3lo la ampliaci\\u00f3n del apoyo, sino que este ha sido fabricado en un ejercicio leal de democracia y di\\u00e1logo sincero. A los otros seis millones de votos que nos acompa\\u00f1aron en la refrendaci\\u00f3n del Acuerdo, quiero decirles que los ajustes y precisiones que hemos realizado, no sacrifican las convicciones que le dieron forma al primer Acuerdo. No cancelamos la ilusi\\u00f3n. No dimos marcha atr\\u00e1s en la posibilidad de un pa\\u00eds nuevo. No desistimos del prop\\u00f3sito de reivindicar la familia campesina. Limpiar la pol\\u00edtica. Combatir las bandas criminales y la corrupci\\u00f3n. Contribuir a superar el problema mundial de la droga. Impartir justicia pensando m\\u00e1s en las v\\u00edctimas que en los barrotes. Integrar nuestros territorios. Superar desigualdades ancestrales. Crear una sociedad m\\u00e1s equitativa. Crearla a trav\\u00e9s del di\\u00e1logo, del uso razonable de la autoridad del Estado, buscando darle cimientos fuertes a la seguridad humana. Escuchando, sobre todo escuchando a los m\\u00e1s d\\u00e9biles. Quiero destacar algunas de las innovaciones de este acuerdo: Durante el t\\u00e9rmino de la dejaci\\u00f3n de armas, las FARC presentar\\u00e1n un inventario de bienes y activos para destinarlos a la reparaci\\u00f3n material de las v\\u00edctimas. En cuanto a la Jurisdicci\\u00f3n Especial para la Paz se atendi\\u00f3 la mayor\\u00eda de las propuestas formuladas. Se precisaron de manera concreta las caracter\\u00edsticas y mecanismos de la restricci\\u00f3n efectiva de la libertad. En efecto, se fijaron los espacios territoriales espec\\u00edficos para el cumplimiento de las sanciones con un tama\\u00f1o m\\u00e1ximo a las zonas veredales, los periodos de ejecuci\\u00f3n de las acciones reparadoras, la precisi\\u00f3n del lugar de residencia, los mecanismos de monitoreo y la regulaci\\u00f3n del sistema de autorizaci\\u00f3n para los desplazamientos por fuera de las zonas, requisito necesario en todos los casos. Por iniciativa de algunos opositores se acept\\u00f3 que mientras entra en funcionamiento la JEP, las acciones reparadoras debidamente verificadas pueden ser descontadas de la sanci\\u00f3n que se imponga. Sobre el discutido tema de la conexidad del narcotr\\u00e1fico con el delito pol\\u00edtico, el acuerdo es que los Magistrados tendr\\u00e1n en cuenta caso a caso la jurisprudencia de las cortes colombianas. Se eliminan los Magistrados extranjeros pero se acepta la presencia de amicus curiae, -expertos extranjeros- para rendir conceptos sobre los casos que se tramiten. Queda claro que entre la normatividad aplicable se incluye el C\\u00f3digo Penal Colombiano y que las normas procedimentales deber\\u00e1n ser incorporadas al ordenamiento legal. Ser\\u00e1n de competencia de la JEP las conductas de financiaci\\u00f3n o colaboraci\\u00f3n con actores del conflicto en que hayan incurrido los terceros no combatientes que tuvieron una participaci\\u00f3n activa o determinante en los cr\\u00edmenes m\\u00e1s graves. Se elimin\\u00f3 la participaci\\u00f3n habitual. Y se reafirm\\u00f3 que los dem\\u00e1s, si contribuyen a las medidas de verdad y reparaci\\u00f3n, pueden beneficiarse de la renuncia de la acci\\u00f3n penal u otro tipo de terminaci\\u00f3n anticipada del proceso. Se estableci\\u00f3 el t\\u00e9rmino concreto de duraci\\u00f3n de la Jurisdicci\\u00f3n. Se elimin\\u00f3 la idea de incorporar el Acuerdo a la Constituci\\u00f3n Pol\\u00edtica y al llamado bloque de constitucionalidad. El principio general de garant\\u00eda de cumplimiento es el compromiso de que ambas partes cumplir\\u00e1n de buena fe lo pactado, y en lo que tiene que ver con el Estado, los principios que informan el Acuerdo ser\\u00e1n par\\u00e1metro de interpretaci\\u00f3n y gu\\u00eda de la aplicaci\\u00f3n normativa y pr\\u00e1ctica. Se estableci\\u00f3 tambi\\u00e9n que la revisi\\u00f3n de la tutela contra decisiones de la Jurisdicci\\u00f3n Especial en cabeza de la Corte Constitucional. En el nuevo Acuerdo se define qu\\u00e9 se entiende por enfoque de g\\u00e9nero. Significa el reconocimiento de la igualdad de derechos entre hombres y mujeres y de las circunstancias especiales de cada uno. Supone reconocer que el conflicto ha impactado de manera diferenciada a la mujer y que, en consecuencia, se requieren acciones distintas y espec\\u00edficas para restablecer sus derechos. Incluye tambi\\u00e9n un principio de respeto a la igualdad y no discriminaci\\u00f3n, que implica que toda persona, independientemente de su sexo, edad, creencias religiosas, opiniones, identidad \\u00e9tnica, pertenencia a la poblaci\\u00f3n LGBTI, o cualquier otra raz\\u00f3n, tiene derecho a disfrutar de todos los derechos. Ning\\u00fan contenido del Acuerdo Final se entender\\u00e1 o interpretar\\u00e1 como la negaci\\u00f3n, restricci\\u00f3n o menoscabo de los derechos de las personas. En atenci\\u00f3n al llamado que nos hicieron de diversos sectores religiosos, se estipula que en la implementaci\\u00f3n de lo acordado se deber\\u00e1 respetar la libertad de cultos, lo que significa el reconocimiento y respeto a la pr\\u00e1ctica de cualquier manifestaci\\u00f3n de religiosidad. Mantenemos vivo el compromiso con el campo a trav\\u00e9s de una pol\\u00edtica de recuperaci\\u00f3n de la familia campesina, que impulse el acceso equitativo a la tierra y que cree condiciones de vida digna. En la Reforma Rural Integral hemos afirmado que \\u201cnada de lo establecido en el acuerdo debe afectar el derecho constitucional a la propiedad privada\\u201d. Tambi\\u00e9n qued\\u00f3 expl\\u00edcito que los programas cuyo destinatario es el campesino no impiden la puesta en pr\\u00e1ctica de diversas formas de producci\\u00f3n, tales como la agroindustria o el turismo. Para lograr darle la mayor solidez a la reforma rural, se ajustaron los tiempos de implementaci\\u00f3n a las nuevas realidades fiscales. El acuerdo adem\\u00e1s por s\\u00ed mismo no crea Zonas de Reserva Campesina. Desde el Acuerdo de Cartagena se hab\\u00eda dado un paso inmenso en la lucha contra el problema mundial de la droga. Las FARC se comprometieron a romper todo v\\u00ednculo con \\u00e9l y a cooperar en la superaci\\u00f3n de ese fen\\u00f3meno. Ahora, en el nuevo Acuerdo se ha logrado precisar de manera concreta las caracter\\u00edsticas de esa cooperaci\\u00f3n y adem\\u00e1s quienes acudan a la JEP \\u2013todos, no solo las FARC- deber\\u00e1n informar de manera exhaustiva y detallada sobre las informaciones de las que dispongan para atribuir responsabilidades. De igual modo se aclara que los programas de sustituci\\u00f3n buscan tener territorios libres de cultivos de uso il\\u00edcitos de modo que no se establezca un marco de coexistencia entre el programa de sustituci\\u00f3n y la continuaci\\u00f3n de tales cultivos. En cuanto a la aplicaci\\u00f3n de las pol\\u00edticas sobre el consumo, se robustece el papel de la familia y de los grupos religiosos. Se estableci\\u00f3 el compromiso de respetar el principio de sostenibilidad de las finanzas p\\u00fablicas. En tal sentido, el Plan Marco acordado para las inversiones, deber\\u00e1 contener las fuentes de financiaci\\u00f3n. A partir de hoy los colombianos podr\\u00e1n consultar los cambios y los nuevos elementos del nuevo Acuerdo en las p\\u00e1ginas de internet de La Presidencia de la Rep\\u00fablica, de la Oficina del Alto Comisionado para la Paz, de Equipo Paz Gobierno y de La Mesa de Conversaciones. En el transcurso de la pr\\u00f3xima semana estar\\u00e1 disponible la versi\\u00f3n integrada. Estimados se\\u00f1ores y se\\u00f1oras, No podemos pedir que cese la discusi\\u00f3n. Pero s\\u00ed podemos desear que la gran decisi\\u00f3n nacional sea poner en marcha la ejecuci\\u00f3n de los acuerdos, superar el conflicto armado, abrir caminos a la reconciliaci\\u00f3n y profundizar los esfuerzos para lograr una sociedad equitativa. Ese es el reto ahora. El reto de nosotros, por nuestros hijos y nuestros nietos. ELTIEMPO.COM Miedo 11:19 p.m. Ejercite su mente en la cuarentena con este test de l\\u00f3gica matem\\u00e1tica Ponga a prueba esas clases de matem\\u00e1ticas del colegio y de la vida par ... Manizales 10:00 p.m. Ya se venden medicamentos de cannabis con f\\u00f3rmula m\\u00e9dica En farmacias especializadas de Colombia es posible acceder a medicamen ... Manizales 10:00 p.m. El gu\\u00eda de la salud mental del pueblo con m\\u00e1s casos de bipolaridad Coronavirus en Colombia 09:31 p.m. Una cabina de desinfecci\\u00f3n manual para Barranquilla Valle del Cauca 07:50 p.m. Se han recogido cerca de 132 mil mercados en 'Donat\\u00f3n Valle Solidario'.\",\n          \"T\\u00edtulo: M\\u00f3naco y Falcao se juegan este mi\\u00e9rcoles la \\u00fanica copa que les queda. Resumen: Enfrentan a Montpellier en las semifinales de la Copa de la Liga para salvar la temporada.. Contenido: M\\u00f3naco dej\\u00f3 de ser ese equipo s\\u00f3lido y sorprendente de la pasada temporada, en la que gan\\u00f3 la Liga por encima del poderoso PSG, que se meti\\u00f3 en las semifinales de la Liga de Campeones y estuvo peleando en las copas nacionales. Este modelo 2018 a\\u00fan est\\u00e1 en construcci\\u00f3n, luego de la partida de grandes de sus estrellas. Este mi\\u00e9rcoles tendr\\u00e1 una prueba importante para salvar la temporada: recibe a Montpellier en las semifinales de la Copa de la Liga de Francia, con la firme intenci\\u00f3n de llegar a la final y aspirar a un t\\u00edtulo en este 2018. Las cosas no han sido f\\u00e1ciles para M\\u00f3naco. Quedaron eliminados en la primera fase de la Liga de Campeones, hace una semana le dijeron adi\\u00f3s a la Copa de Francia, y la Liga la ve muy lejos: est\\u00e1n a 12 puntos del l\\u00edder PSG. Para este compromiso, Leonardo Jardim, entrenador de M\\u00f3naco, espera que aparezcan los goles de su m\\u00e1xima estrella, el colombiano Radamel Falcao Garc\\u00eda, quien solo ha anotado un gol en este inicio de a\\u00f1o. \\u201c Es de lejos nuestro mejor goleador (16 tantos en la Liga), todo el mundo conoce su calidad\\u201d, afirm\\u00f3 el entrenador portugu\\u00e9s. \\u201cEstuvo parado un mes. Necesita tiempo para recuperar el nivel, pero de \\u00e9l siempre se espera un gran nivel y goles. Espero que en el futuro pr\\u00f3ximo pueda marcar\\u201d, dijo. Para este compromiso, Jardim cuenta con las ideas y todo el arsenal, uno de los mayores problemas que ha tenido en esta temporada y al que le ha variado el sistema t\\u00e1ctico y los nombres para poder tener un equipo competitivo en el campo. Montpellier es un equipo al que hay que enfrentar con mucha precauci\\u00f3n. \\u201c Alinear\\u00e9 al mejor equipo posible . Sabemos que es muy fuerte nuestro rival, al que es dif\\u00edcil anotarle\\u201d, asegur\\u00f3 Jardim. El ganador de esta serie se enfrentar\\u00e1 al Paris Saint-Germain, que ayer venci\\u00f3 2-3 al Rennes. DEPORTES Miedo 11:19 p.m. Ejercite su mente en la cuarentena con este test de l\\u00f3gica matem\\u00e1tica Ponga a prueba esas clases de matem\\u00e1ticas del colegio y de la vida par ... Manizales 10:00 p.m. Ya se venden medicamentos de cannabis con f\\u00f3rmula m\\u00e9dica En farmacias especializadas de Colombia es posible acceder a medicamen ... Manizales 10:00 p.m. El gu\\u00eda de la salud mental del pueblo con m\\u00e1s casos de bipolaridad Coronavirus en Colombia 09:31 p.m. Una cabina de desinfecci\\u00f3n manual para Barranquilla Valle del Cauca 07:50 p.m. Se han recogido cerca de 132 mil mercados en 'Donat\\u00f3n Valle Solidario'.\",\n          \"T\\u00edtulo: Avianca demanda a socio minoritario que se opone a alianza con United. Resumen: La aerol\\u00ednea interpuso dos recursos contra la familia Kriete ante una corte de Nueva York.. Contenido: El pleito entre Avianca Holdings y su accionista minoritario Kingsland Holdings \\u2013de la familia salvadore\\u00f1a Kriete\\u2013 se creci\\u00f3. Este lunes la firma interpuso ante la corte de Nueva York dos recursos en contra de su accionista minoritario. Por un lado, present\\u00f3 una demanda para que se le ordene a Kingsland y a Roberto Kriete que se abstengan de \\u201cseguir divulgando informaci\\u00f3n confidencial de la compa\\u00f1\\u00eda de manera ilegal y en beneficio propio, debiendo cumplir con sus obligaciones contractuales bajo el acuerdo de accionistas suscrito con Synergy Aerospace y Avianca Holdings\\u201d, seg\\u00fan un comunicado de la empresa. En segundo lugar, interpuso una petici\\u00f3n (motion to dismiss) para que dicha corte rechace la demanda presentada por Kingsland a finales de febrero en contra de Avianca. (Le puede interesar: Las ocho aerol\\u00edneas m\\u00e1s cumplidas de Latinoam\\u00e9rica ) As\\u00ed, Hern\\u00e1n Rinc\\u00f3n, presidente de Avianca Holdings, se pronunci\\u00f3 y dijo que la estrategia de la aerol\\u00ednea va m\\u00e1s all\\u00e1 del litigio. \\u201cAvianca est\\u00e1 comprometida con el logro de los dos objetivos estrat\\u00e9gicos aprobados por la Junta Directiva: hacer parte de una alianza comercial con una aerol\\u00ednea de clase mundial y alcanzar el nuevo capital requerido\\u201d, a\\u00f1adi\\u00f3. Por su parte, Kingsland respondi\\u00f3 ante los recursos que todav\\u00eda est\\u00e1n revisando los documentos presentados este lunes , incluyendo la demanda de Avianca . \\u201cSin embargo, mantenemos las acusaciones de nuestra demanda y creemos firmemente que Kingsland ha cumplido con todas sus obligaciones establecidas por el acuerdo de accionistas y otros documentos\\u201d, declar\\u00f3. A su turno, Avianca dice que los documentos legales detallan las intenciones de Kingsland de impedir las negociaciones y desarrollar una alianza comercial estrat\\u00e9gica con United Airlines, adem\\u00e1s de demostrar que las maniobras legales de Kingsland \\u201c son un fuerte intento para obtener mayores derechos en los tribunales de los que previamente se hab\\u00edan negociado y acordado en el acuerdo de accionistas\\u201d. (Adem\\u00e1s: Pasajeros problem\\u00e1ticos en un vuelo pueden ser multados: Aerocivil ) Ante eso, Kingsland dijo que rechaza que Kriete \\u201chaya actuado inapropiadamente en cualquier manera que no sea en los mejores intereses de la compa\\u00f1\\u00eda\\u201d y que est\\u00e1 realizando esta acci\\u00f3n para proteger la viabilidad de la aerol\\u00ednea. El pr\\u00f3ximo 6 de abril, las partes se reunir\\u00e1n ante la corte por primera vez y comenzar\\u00e1 el proceso en que ambos entregar\\u00e1n sus argumentos. ECONOM\\u00cdA Y NEGOCIOS Miedo 11:19 p.m. Ejercite su mente en la cuarentena con este test de l\\u00f3gica matem\\u00e1tica Ponga a prueba esas clases de matem\\u00e1ticas del colegio y de la vida par ... Manizales 10:00 p.m. Ya se venden medicamentos de cannabis con f\\u00f3rmula m\\u00e9dica En farmacias especializadas de Colombia es posible acceder a medicamen ... Manizales 10:00 p.m. El gu\\u00eda de la salud mental del pueblo con m\\u00e1s casos de bipolaridad Coronavirus en Colombia 09:31 p.m. Una cabina de desinfecci\\u00f3n manual para Barranquilla Valle del Cauca 07:50 p.m. Se han recogido cerca de 132 mil mercados en 'Donat\\u00f3n Valle Solidario'.\"\n        ],\n        \"semantic_type\": \"\",\n        \"description\": \"\"\n      }\n    },\n    {\n      \"column\": \"cleaned_text\",\n      \"properties\": {\n        \"dtype\": \"string\",\n        \"num_unique_values\": 2387,\n        \"samples\": [\n          \"T\\u00edtulo: 'Este acuerdo es mejor que el de septiembre': De la Calle. Resumen: El jefe negociador del Gobierno adelant\\u00f3 algunos de los cambios del nuevo acuerdo de paz. Contenido: Este s\\u00e1bado, durante la firma del nuevo acuerdo de paz entre el Gobierno y las Farc, el jefe de la delegaci\\u00f3n negociadora del Gobierno, Humberto de la Calle, comenz\\u00f3 su intervenci\\u00f3n agradeciendo a los pa\\u00edses garantes \\u201cy en particular, a la generosidad del gobierno de Cuba al habernos tenido ac\\u00e1 en medio de un ambiente de apoyo, de seriedad, de trabajo diplom\\u00e1tico impecable durante ya m\\u00e1s de cuatro a\\u00f1os\\u201d. De la Calle record\\u00f3 el camino seguido en el proceso de paz despu\\u00e9s del triunfo del \\u2018No\\u2019 en el plebiscito del pasado 2 de octubre. \\u201cComprendimos que era necesario trabajar con celeridad y responsabilidad en la b\\u00fasqueda de un nuevo acuerdo, incluyente y respetuoso\\u201d , dijo. Como un esfuerzo \\u201cgenuino, leal\\u201d, calific\\u00f3 los di\\u00e1logos abiertos por el presidente Juan Manuel Santos con los distintos voceros del \\u2018No\\u2019 que, seg\\u00fan De la Calle, llevaron a m\\u00e1s de 100 horas de intercambio directo de opiniones. De la Calle reafirm\\u00f3 que los di\\u00e1logos en La Habana, una vez fueron recogidas las inquietudes del \\u2018No\\u2019, implicaron m\\u00e1s de 15 d\\u00edas y noches de trabajo, \\u201cmuchas veces m\\u00e1s all\\u00e1 de la medianoche\\u201d. El jefe negociador del Gobierno reconoci\\u00f3, adem\\u00e1s de las arduas discusiones, la complejidad de los temas puestos sobre la mesa. \\u201cUna vez m\\u00e1s nos probamos que, a pesar de las diferencias y visiones distintas, a trav\\u00e9s del di\\u00e1logo es posible llegar a puntos de encuentro\\u201d , sostuvo. Durante su discurso, De la Calle enumer\\u00f3 algunos de los cambios introducidos al acuerdo de paz y que convierten este, seg\\u00fan reconoci\\u00f3, en un acuerdo mejor que el firmado el 26 de septiembre en Cartagena. Esto, pese a que \\u00e9l mismo hab\\u00eda calificado el acuerdo derrotado en las urnas como \\u201cel mejor posible\\u201d. \\u201cEstamos convencidos de que este documento se\\u00f1ala caminos viables y posibles para acabar con tantas d\\u00e9cadas de conflicto en Colombia\\u201d , dijo. No obstante, reconoci\\u00f3 que \\u201csu aceptaci\\u00f3n no va a ser un\\u00e1nime, como tampoco lo fue el primer acuerdo\\u201d. Entre esos cambios, a los que llam\\u00f3 \\u201cinnovaciones\\u201d, se resalta la precisi\\u00f3n de que las Farc presentar\\u00e1n un inventario de sus bienes y activos durante el proceso de dejaci\\u00f3n de armas. La jurisdicci\\u00f3n especial para la paz se mantiene con algunos cambios, como que ya no habr\\u00e1 presencia de magistrados extranjeros en esta, aunque estos s\\u00ed podr\\u00e1n cumplir un papel de consejeros externos. Adem\\u00e1s, se precis\\u00f3 el alcance geogr\\u00e1fico de la restricci\\u00f3n efectiva de la libertad a espacios con dimensiones similares a las de las zonas veredales de transici\\u00f3n en que se llevar\\u00e1 a cabo la dejaci\\u00f3n de armas. Respecto a la conexidad del narcotr\\u00e1fico con los delitos pol\\u00edticos, la jurisdicci\\u00f3n especial tendr\\u00e1 en cuenta, caso a caso, la jurisprudencia de los altos tribunales colombianos. De la Calle tambi\\u00e9n reiter\\u00f3 que el nuevo acuerdo precisa los alcances del enfoque de g\\u00e9nero , entendido como la igualdad entre hombres y mujeres, sin dejar de reconocer que el conflicto ha impactado de manera diferencial a las mujeres. El respeto a la propiedad privada y su armonizaci\\u00f3n con iniciativas de agroindustria y turismo son algunas de las precisiones logradas en materia de reforma rural integral, seg\\u00fan el comunicado le\\u00eddo por Humberto de la Calle. Tambi\\u00e9n precis\\u00f3 que el acuerdo no contemplar\\u00e1 la creaci\\u00f3n de zonas de reservas campesina. Por orden del presidente Santos, \\u201cquedamos a disposici\\u00f3n de los voceros del \\u2018No\\u2019 para explicar los t\\u00e9rminos del nuevo acuerdo suscrito hoy\\u201d, concluy\\u00f3 De la Calle. En la tarde de este s\\u00e1bado, el senador \\u00c1lvaro Uribe pidi\\u00f3 a Santos que el nuevo acuerdo no tuviera alcance definitivo. \\u201cNo podemos pedir que cese la discusi\\u00f3n, pero s\\u00ed podemos desear que la gran decisi\\u00f3n nacional sea poner en marcha la ejecuci\\u00f3n de los acuerdos, superar el conflicto armado, abrir caminos a la reconciliaci\\u00f3n y profundizar los esfuerzos para lograr una sociedad m\\u00e1s equitativa\\u201d , dijo el negociador, y termin\\u00f3 su discurso: \\u201cHoy termina algo y empieza tambi\\u00e9n una nueva etapa. Es el reto de nosotros, por nuestros hijos y por nuestros nietos\\u201d. DECLARACI\\u00d3N JEFE DE LA DELEGACI\\u00d3N Humberto de la Calle La Habana, 12 de noviembre de 2016 Buenas tardes, Despu\\u00e9s del resultado obtenido el pasado 2 de octubre en el que m\\u00e1s de seis millones de colombianos expresaron mediante su voto los reparos al Acuerdo firmado entre el Gobierno y las FARC, comprendimos que era necesario trabajar con celeridad y responsabilidad en la b\\u00fasqueda de un nuevo Acuerdo. Un Acuerdo incluyente y respetuoso. A partir del mismo 3 de octubre, los colombianos hemos sido testigos de un ejercicio profundo de di\\u00e1logo. Adem\\u00e1s de las m\\u00faltiples reuniones que sostuvo el Jefe de Estado con los diferentes l\\u00edderes del No, muy r\\u00e1pidamente design\\u00f3 una Comisi\\u00f3n conformada por el Ministro de Defensa, la Canciller y por m\\u00ed, en calidad de Jefe Negociador; en la que tambi\\u00e9n participaron el Equipo Negociador, el Ministro del Interior y el Alto Consejero para el Posconflicto y el Alto Comisionado para la Paz, Sergio Jaramillo; con el prop\\u00f3sito de sostener di\\u00e1logos abiertos y recoger inquietudes, preocupaciones y sugerencias al Acuerdo para la Terminaci\\u00f3n del Conflicto. Fue un esfuerzo genuino, leal, que nos permiti\\u00f3 recopilar la totalidad de las iniciativas, ordenarlas, estudiarlas a fondo, luego de cerca de cien horas de intercambio directo de opiniones en un ejercicio constructivo, franco y democr\\u00e1tico. Despu\\u00e9s de terminar las reuniones con los voceros del No, viajamos a La Habana para discutir con las FARC las preocupaciones expresadas en Bogot\\u00e1, insistir en la importancia de incorporar el mayor n\\u00famero de propuestas al texto y trabajar en la construcci\\u00f3n de un nuevo Acuerdo que cumpliera en lo posible con las expectativas de muchos colombianos. Las reuniones con la delegaci\\u00f3n de las FARC fueron igualmente intensas. M\\u00e1s de 15 d\\u00edas y noches de trabajo reuniones con discusiones arduas dada la complejidad de los temas. Debo destacar el ambiente constructivo y la buena voluntad de las delegaciones para trabajar con disciplina y seriedad. Este nuevo Acuerdo fue adem\\u00e1s una oportunidad para aclarar dudas, resolver inquietudes pero sobretodo para unirnos los colombianos. Una vez m\\u00e1s nos probamos que, a pesar de las diferencias y visiones distintas, a trav\\u00e9s del di\\u00e1logo es posible llegar a puntos de encuentro. Esta tarea la asumimos con compromiso, respeto y responsabilidad. Pensamos en los colombianos, en sus expectativas y sus v\\u00e1lidas inquietudes, pero tambi\\u00e9n trabajamos con la certeza de que no hay m\\u00e1s tiempo que perder. Estamos convencidos de que este documento se\\u00f1ala caminos viables y posibles para acabar con tantas d\\u00e9cadas de conflicto en Colombia. Ahora deseo hacer una confesi\\u00f3n personal: Dije que el Acuerdo del 26 de septiembre era el mejor Acuerdo posible, aunque era tambi\\u00e9n susceptible de cr\\u00edticas. Y se\\u00f1al\\u00e9 que esa afirmaci\\u00f3n no se hac\\u00eda desde la arrogancia. Era el mejor por cuanto permit\\u00eda dar por terminado el conflicto, no para desestimar las insatisfacciones que pod\\u00eda generar. Hoy con humildad reconozco que este Acuerdo es mejor en cuanto resuelve muchas de esas cr\\u00edticas e insatisfacciones. Su aceptaci\\u00f3n no va a ser un\\u00e1nime. Como tampoco lo fue en el primer acuerdo. Pero esperamos que la base de apoyo que recoja lo haga m\\u00e1s s\\u00f3lido. Pero m\\u00e1s que exaltar las virtudes de \\u00e9ste frente al anterior, en lo que gana con creces es que mediante un ejercicio democr\\u00e1tico se ha logrado construir una base de sustento m\\u00e1s amplia. La cuesti\\u00f3n no es s\\u00f3lo la ampliaci\\u00f3n del apoyo, sino que este ha sido fabricado en un ejercicio leal de democracia y di\\u00e1logo sincero. A los otros seis millones de votos que nos acompa\\u00f1aron en la refrendaci\\u00f3n del Acuerdo, quiero decirles que los ajustes y precisiones que hemos realizado, no sacrifican las convicciones que le dieron forma al primer Acuerdo. No cancelamos la ilusi\\u00f3n. No dimos marcha atr\\u00e1s en la posibilidad de un pa\\u00eds nuevo. No desistimos del prop\\u00f3sito de reivindicar la familia campesina. Limpiar la pol\\u00edtica. Combatir las bandas criminales y la corrupci\\u00f3n. Contribuir a superar el problema mundial de la droga. Impartir justicia pensando m\\u00e1s en las v\\u00edctimas que en los barrotes. Integrar nuestros territorios. Superar desigualdades ancestrales. Crear una sociedad m\\u00e1s equitativa. Crearla a trav\\u00e9s del di\\u00e1logo, del uso razonable de la autoridad del Estado, buscando darle cimientos fuertes a la seguridad humana. Escuchando, sobre todo escuchando a los m\\u00e1s d\\u00e9biles. Quiero destacar algunas de las innovaciones de este acuerdo: Durante el t\\u00e9rmino de la dejaci\\u00f3n de armas, las FARC presentar\\u00e1n un inventario de bienes y activos para destinarlos a la reparaci\\u00f3n material de las v\\u00edctimas. En cuanto a la Jurisdicci\\u00f3n Especial para la Paz se atendi\\u00f3 la mayor\\u00eda de las propuestas formuladas. Se precisaron de manera concreta las caracter\\u00edsticas y mecanismos de la restricci\\u00f3n efectiva de la libertad. En efecto, se fijaron los espacios territoriales espec\\u00edficos para el cumplimiento de las sanciones con un tama\\u00f1o m\\u00e1ximo a las zonas veredales, los periodos de ejecuci\\u00f3n de las acciones reparadoras, la precisi\\u00f3n del lugar de residencia, los mecanismos de monitoreo y la regulaci\\u00f3n del sistema de autorizaci\\u00f3n para los desplazamientos por fuera de las zonas, requisito necesario en todos los casos. Por iniciativa de algunos opositores se acept\\u00f3 que mientras entra en funcionamiento la JEP, las acciones reparadoras debidamente verificadas pueden ser descontadas de la sanci\\u00f3n que se imponga. Sobre el discutido tema de la conexidad del narcotr\\u00e1fico con el delito pol\\u00edtico, el acuerdo es que los Magistrados tendr\\u00e1n en cuenta caso a caso la jurisprudencia de las cortes colombianas. Se eliminan los Magistrados extranjeros pero se acepta la presencia de amicus curiae, -expertos extranjeros- para rendir conceptos sobre los casos que se tramiten. Queda claro que entre la normatividad aplicable se incluye el C\\u00f3digo Penal Colombiano y que las normas procedimentales deber\\u00e1n ser incorporadas al ordenamiento legal. Ser\\u00e1n de competencia de la JEP las conductas de financiaci\\u00f3n o colaboraci\\u00f3n con actores del conflicto en que hayan incurrido los terceros no combatientes que tuvieron una participaci\\u00f3n activa o determinante en los cr\\u00edmenes m\\u00e1s graves. Se elimin\\u00f3 la participaci\\u00f3n habitual. Y se reafirm\\u00f3 que los dem\\u00e1s, si contribuyen a las medidas de verdad y reparaci\\u00f3n, pueden beneficiarse de la renuncia de la acci\\u00f3n penal u otro tipo de terminaci\\u00f3n anticipada del proceso. Se estableci\\u00f3 el t\\u00e9rmino concreto de duraci\\u00f3n de la Jurisdicci\\u00f3n. Se elimin\\u00f3 la idea de incorporar el Acuerdo a la Constituci\\u00f3n Pol\\u00edtica y al llamado bloque de constitucionalidad. El principio general de garant\\u00eda de cumplimiento es el compromiso de que ambas partes cumplir\\u00e1n de buena fe lo pactado, y en lo que tiene que ver con el Estado, los principios que informan el Acuerdo ser\\u00e1n par\\u00e1metro de interpretaci\\u00f3n y gu\\u00eda de la aplicaci\\u00f3n normativa y pr\\u00e1ctica. Se estableci\\u00f3 tambi\\u00e9n que la revisi\\u00f3n de la tutela contra decisiones de la Jurisdicci\\u00f3n Especial en cabeza de la Corte Constitucional. En el nuevo Acuerdo se define qu\\u00e9 se entiende por enfoque de g\\u00e9nero. Significa el reconocimiento de la igualdad de derechos entre hombres y mujeres y de las circunstancias especiales de cada uno. Supone reconocer que el conflicto ha impactado de manera diferenciada a la mujer y que, en consecuencia, se requieren acciones distintas y espec\\u00edficas para restablecer sus derechos. Incluye tambi\\u00e9n un principio de respeto a la igualdad y no discriminaci\\u00f3n, que implica que toda persona, independientemente de su sexo, edad, creencias religiosas, opiniones, identidad \\u00e9tnica, pertenencia a la poblaci\\u00f3n LGBTI, o cualquier otra raz\\u00f3n, tiene derecho a disfrutar de todos los derechos. Ning\\u00fan contenido del Acuerdo Final se entender\\u00e1 o interpretar\\u00e1 como la negaci\\u00f3n, restricci\\u00f3n o menoscabo de los derechos de las personas. En atenci\\u00f3n al llamado que nos hicieron de diversos sectores religiosos, se estipula que en la implementaci\\u00f3n de lo acordado se deber\\u00e1 respetar la libertad de cultos, lo que significa el reconocimiento y respeto a la pr\\u00e1ctica de cualquier manifestaci\\u00f3n de religiosidad. Mantenemos vivo el compromiso con el campo a trav\\u00e9s de una pol\\u00edtica de recuperaci\\u00f3n de la familia campesina, que impulse el acceso equitativo a la tierra y que cree condiciones de vida digna. En la Reforma Rural Integral hemos afirmado que \\u201cnada de lo establecido en el acuerdo debe afectar el derecho constitucional a la propiedad privada\\u201d. Tambi\\u00e9n qued\\u00f3 expl\\u00edcito que los programas cuyo destinatario es el campesino no impiden la puesta en pr\\u00e1ctica de diversas formas de producci\\u00f3n, tales como la agroindustria o el turismo. Para lograr darle la mayor solidez a la reforma rural, se ajustaron los tiempos de implementaci\\u00f3n a las nuevas realidades fiscales. El acuerdo adem\\u00e1s por s\\u00ed mismo no crea Zonas de Reserva Campesina. Desde el Acuerdo de Cartagena se hab\\u00eda dado un paso inmenso en la lucha contra el problema mundial de la droga. Las FARC se comprometieron a romper todo v\\u00ednculo con \\u00e9l y a cooperar en la superaci\\u00f3n de ese fen\\u00f3meno. Ahora, en el nuevo Acuerdo se ha logrado precisar de manera concreta las caracter\\u00edsticas de esa cooperaci\\u00f3n y adem\\u00e1s quienes acudan a la JEP \\u2013todos, no solo las FARC- deber\\u00e1n informar de manera exhaustiva y detallada sobre las informaciones de las que dispongan para atribuir responsabilidades. De igual modo se aclara que los programas de sustituci\\u00f3n buscan tener territorios libres de cultivos de uso il\\u00edcitos de modo que no se establezca un marco de coexistencia entre el programa de sustituci\\u00f3n y la continuaci\\u00f3n de tales cultivos. En cuanto a la aplicaci\\u00f3n de las pol\\u00edticas sobre el consumo, se robustece el papel de la familia y de los grupos religiosos. Se estableci\\u00f3 el compromiso de respetar el principio de sostenibilidad de las finanzas p\\u00fablicas. En tal sentido, el Plan Marco acordado para las inversiones, deber\\u00e1 contener las fuentes de financiaci\\u00f3n. A partir de hoy los colombianos podr\\u00e1n consultar los cambios y los nuevos elementos del nuevo Acuerdo en las p\\u00e1ginas de internet de La Presidencia de la Rep\\u00fablica, de la Oficina del Alto Comisionado para la Paz, de Equipo Paz Gobierno y de La Mesa de Conversaciones. En el transcurso de la pr\\u00f3xima semana estar\\u00e1 disponible la versi\\u00f3n integrada. Estimados se\\u00f1ores y se\\u00f1oras, No podemos pedir que cese la discusi\\u00f3n. Pero s\\u00ed podemos desear que la gran decisi\\u00f3n nacional sea poner en marcha la ejecuci\\u00f3n de los acuerdos, superar el conflicto armado, abrir caminos a la reconciliaci\\u00f3n y profundizar los esfuerzos para lograr una sociedad equitativa. Ese es el reto ahora. El reto de nosotros, por nuestros hijos y nuestros nietos. ELTIEMPO.COM Miedo 11:19 p.m. Ejercite su mente en la cuarentena con este test de l\\u00f3gica matem\\u00e1tica Ponga a prueba esas clases de matem\\u00e1ticas del colegio y de la vida par . Manizales 10:00 p.m. Ya se venden medicamentos de cannabis con f\\u00f3rmula m\\u00e9dica En farmacias especializadas de Colombia es posible acceder a medicamen . Manizales 10:00 p.m. El gu\\u00eda de la salud mental del pueblo con m\\u00e1s casos de bipolaridad Coronavirus en Colombia 09:31 p.m. Una cabina de desinfecci\\u00f3n manual para Barranquilla Valle del Cauca 07:50 p.m. Se han recogido cerca de 132 mil mercados en 'Donat\\u00f3n Valle Solidario'.\",\n          \"T\\u00edtulo: M\\u00f3naco y Falcao se juegan este mi\\u00e9rcoles la \\u00fanica copa que les queda. Resumen: Enfrentan a Montpellier en las semifinales de la Copa de la Liga para salvar la temporada. Contenido: M\\u00f3naco dej\\u00f3 de ser ese equipo s\\u00f3lido y sorprendente de la pasada temporada, en la que gan\\u00f3 la Liga por encima del poderoso PSG, que se meti\\u00f3 en las semifinales de la Liga de Campeones y estuvo peleando en las copas nacionales. Este modelo 2018 a\\u00fan est\\u00e1 en construcci\\u00f3n, luego de la partida de grandes de sus estrellas. Este mi\\u00e9rcoles tendr\\u00e1 una prueba importante para salvar la temporada: recibe a Montpellier en las semifinales de la Copa de la Liga de Francia, con la firme intenci\\u00f3n de llegar a la final y aspirar a un t\\u00edtulo en este 2018. Las cosas no han sido f\\u00e1ciles para M\\u00f3naco. Quedaron eliminados en la primera fase de la Liga de Campeones, hace una semana le dijeron adi\\u00f3s a la Copa de Francia, y la Liga la ve muy lejos: est\\u00e1n a 12 puntos del l\\u00edder PSG. Para este compromiso, Leonardo Jardim, entrenador de M\\u00f3naco, espera que aparezcan los goles de su m\\u00e1xima estrella, el colombiano Radamel Falcao Garc\\u00eda, quien solo ha anotado un gol en este inicio de a\\u00f1o. \\u201c Es de lejos nuestro mejor goleador (16 tantos en la Liga), todo el mundo conoce su calidad\\u201d, afirm\\u00f3 el entrenador portugu\\u00e9s. \\u201cEstuvo parado un mes. Necesita tiempo para recuperar el nivel, pero de \\u00e9l siempre se espera un gran nivel y goles. Espero que en el futuro pr\\u00f3ximo pueda marcar\\u201d, dijo. Para este compromiso, Jardim cuenta con las ideas y todo el arsenal, uno de los mayores problemas que ha tenido en esta temporada y al que le ha variado el sistema t\\u00e1ctico y los nombres para poder tener un equipo competitivo en el campo. Montpellier es un equipo al que hay que enfrentar con mucha precauci\\u00f3n. \\u201c Alinear\\u00e9 al mejor equipo posible . Sabemos que es muy fuerte nuestro rival, al que es dif\\u00edcil anotarle\\u201d, asegur\\u00f3 Jardim. El ganador de esta serie se enfrentar\\u00e1 al Paris Saint-Germain, que ayer venci\\u00f3 2-3 al Rennes. DEPORTES Miedo 11:19 p.m. Ejercite su mente en la cuarentena con este test de l\\u00f3gica matem\\u00e1tica Ponga a prueba esas clases de matem\\u00e1ticas del colegio y de la vida par . Manizales 10:00 p.m. Ya se venden medicamentos de cannabis con f\\u00f3rmula m\\u00e9dica En farmacias especializadas de Colombia es posible acceder a medicamen . Manizales 10:00 p.m. El gu\\u00eda de la salud mental del pueblo con m\\u00e1s casos de bipolaridad Coronavirus en Colombia 09:31 p.m. Una cabina de desinfecci\\u00f3n manual para Barranquilla Valle del Cauca 07:50 p.m. Se han recogido cerca de 132 mil mercados en 'Donat\\u00f3n Valle Solidario'.\",\n          \"T\\u00edtulo: Avianca demanda a socio minoritario que se opone a alianza con United. Resumen: La aerol\\u00ednea interpuso dos recursos contra la familia Kriete ante una corte de Nueva York. Contenido: El pleito entre Avianca Holdings y su accionista minoritario Kingsland Holdings \\u2013de la familia salvadore\\u00f1a Kriete\\u2013 se creci\\u00f3. Este lunes la firma interpuso ante la corte de Nueva York dos recursos en contra de su accionista minoritario. Por un lado, present\\u00f3 una demanda para que se le ordene a Kingsland y a Roberto Kriete que se abstengan de \\u201cseguir divulgando informaci\\u00f3n confidencial de la compa\\u00f1\\u00eda de manera ilegal y en beneficio propio, debiendo cumplir con sus obligaciones contractuales bajo el acuerdo de accionistas suscrito con Synergy Aerospace y Avianca Holdings\\u201d, seg\\u00fan un comunicado de la empresa. En segundo lugar, interpuso una petici\\u00f3n (motion to dismiss) para que dicha corte rechace la demanda presentada por Kingsland a finales de febrero en contra de Avianca. (Le puede interesar: Las ocho aerol\\u00edneas m\\u00e1s cumplidas de Latinoam\\u00e9rica ) As\\u00ed, Hern\\u00e1n Rinc\\u00f3n, presidente de Avianca Holdings, se pronunci\\u00f3 y dijo que la estrategia de la aerol\\u00ednea va m\\u00e1s all\\u00e1 del litigio. \\u201cAvianca est\\u00e1 comprometida con el logro de los dos objetivos estrat\\u00e9gicos aprobados por la Junta Directiva: hacer parte de una alianza comercial con una aerol\\u00ednea de clase mundial y alcanzar el nuevo capital requerido\\u201d, a\\u00f1adi\\u00f3. Por su parte, Kingsland respondi\\u00f3 ante los recursos que todav\\u00eda est\\u00e1n revisando los documentos presentados este lunes , incluyendo la demanda de Avianca . \\u201cSin embargo, mantenemos las acusaciones de nuestra demanda y creemos firmemente que Kingsland ha cumplido con todas sus obligaciones establecidas por el acuerdo de accionistas y otros documentos\\u201d, declar\\u00f3. A su turno, Avianca dice que los documentos legales detallan las intenciones de Kingsland de impedir las negociaciones y desarrollar una alianza comercial estrat\\u00e9gica con United Airlines, adem\\u00e1s de demostrar que las maniobras legales de Kingsland \\u201c son un fuerte intento para obtener mayores derechos en los tribunales de los que previamente se hab\\u00edan negociado y acordado en el acuerdo de accionistas\\u201d. (Adem\\u00e1s: Pasajeros problem\\u00e1ticos en un vuelo pueden ser multados: Aerocivil ) Ante eso, Kingsland dijo que rechaza que Kriete \\u201chaya actuado inapropiadamente en cualquier manera que no sea en los mejores intereses de la compa\\u00f1\\u00eda\\u201d y que est\\u00e1 realizando esta acci\\u00f3n para proteger la viabilidad de la aerol\\u00ednea. El pr\\u00f3ximo 6 de abril, las partes se reunir\\u00e1n ante la corte por primera vez y comenzar\\u00e1 el proceso en que ambos entregar\\u00e1n sus argumentos. ECONOM\\u00cdA Y NEGOCIOS Miedo 11:19 p.m. Ejercite su mente en la cuarentena con este test de l\\u00f3gica matem\\u00e1tica Ponga a prueba esas clases de matem\\u00e1ticas del colegio y de la vida par . Manizales 10:00 p.m. Ya se venden medicamentos de cannabis con f\\u00f3rmula m\\u00e9dica En farmacias especializadas de Colombia es posible acceder a medicamen . Manizales 10:00 p.m. El gu\\u00eda de la salud mental del pueblo con m\\u00e1s casos de bipolaridad Coronavirus en Colombia 09:31 p.m. Una cabina de desinfecci\\u00f3n manual para Barranquilla Valle del Cauca 07:50 p.m. Se han recogido cerca de 132 mil mercados en 'Donat\\u00f3n Valle Solidario'.\"\n        ],\n        \"semantic_type\": \"\",\n        \"description\": \"\"\n      }\n    }\n  ]\n}"
            }
          },
          "metadata": {},
          "execution_count": 17
        }
      ],
      "source": [
        "df_preprocessed['cleaned_text'] = df_preprocessed['unified_text'].apply(preprocess_text)\n",
        "df_preprocessed.head(2)"
      ]
    },
    {
      "cell_type": "code",
      "execution_count": 18,
      "metadata": {
        "id": "tEl23YHfT9Y2",
        "outputId": "32a587c9-8f4c-4364-d9f3-24796047e0b2",
        "colab": {
          "base_uri": "https://localhost:8080/"
        }
      },
      "outputs": [
        {
          "output_type": "stream",
          "name": "stdout",
          "text": [
            "Number of unique words: 66222\n",
            "First 10 words: {'<OOV>': 1, 'de': 2, 'la': 3, 'en': 4, 'el': 5, 'que': 6, 'y': 7, 'a': 8, 'del': 9, 'los': 10}\n"
          ]
        }
      ],
      "source": [
        "# oov token is used to replace the words which are not in the vocabulary (Out Of Vocabulary)\n",
        "tokenizer = Tokenizer(oov_token=\"<OOV>\")\n",
        "tokenizer.fit_on_texts(df_preprocessed['cleaned_text'])\n",
        "word_index = tokenizer.word_index\n",
        "print('Number of unique words:', len(word_index))\n",
        "print('First 10 words:', dict(list(word_index.items())[:10]))"
      ]
    },
    {
      "cell_type": "code",
      "execution_count": 19,
      "metadata": {
        "id": "MRLKdy9lT9Y2"
      },
      "outputs": [],
      "source": [
        "sequences = tokenizer.texts_to_sequences(df_preprocessed['cleaned_text'])\n",
        "max_length = max([len(seq) for seq in sequences])\n",
        "X = pad_sequences(sequences, maxlen=max_length, padding='post')\n",
        "cats = df_preprocessed['Etiqueta'].astype('category').cat\n",
        "y = cats.codes.values\n",
        "encoded_category = dict(enumerate(cats.categories))"
      ]
    },
    {
      "cell_type": "markdown",
      "metadata": {
        "id": "Ec_ydTf_T9Y2"
      },
      "source": [
        "# Exercise 4\n",
        "Data split"
      ]
    },
    {
      "cell_type": "code",
      "execution_count": 20,
      "metadata": {
        "id": "U-Jm-H6gT9Y2",
        "outputId": "a4d6d323-9d89-492d-9bd3-bc8108fb26c9",
        "colab": {
          "base_uri": "https://localhost:8080/"
        }
      },
      "outputs": [
        {
          "output_type": "stream",
          "name": "stdout",
          "text": [
            "Training set size: (1910, 5824) (1910,)\n",
            "Validation set size: (478, 5824) (478,)\n"
          ]
        }
      ],
      "source": [
        "X_train, X_val, y_train, y_val = train_test_split(X, y, test_size=0.2, stratify=y, random_state=42)\n",
        "\n",
        "print(\"Training set size:\", X_train.shape, y_train.shape)\n",
        "print(\"Validation set size:\", X_val.shape, y_val.shape)"
      ]
    },
    {
      "cell_type": "markdown",
      "metadata": {
        "id": "wEgWrQ9HT9Y2"
      },
      "source": [
        "# Exercise 5\n",
        "RNN model"
      ]
    },
    {
      "cell_type": "code",
      "execution_count": 28,
      "metadata": {
        "id": "B9QP25ejT9Y2",
        "outputId": "d26a7a59-14cc-4445-82d7-b379935dfa2c",
        "colab": {
          "base_uri": "https://localhost:8080/"
        }
      },
      "outputs": [
        {
          "output_type": "stream",
          "name": "stdout",
          "text": [
            "Model: \"sequential_3\"\n",
            "_________________________________________________________________\n",
            " Layer (type)                Output Shape              Param #   \n",
            "=================================================================\n",
            " embedding_3 (Embedding)     (None, 5824, 100)         6622300   \n",
            "                                                                 \n",
            " simple_rnn_3 (SimpleRNN)    (None, 64)                10560     \n",
            "                                                                 \n",
            " dense_3 (Dense)             (None, 8)                 520       \n",
            "                                                                 \n",
            "=================================================================\n",
            "Total params: 6633380 (25.30 MB)\n",
            "Trainable params: 6633380 (25.30 MB)\n",
            "Non-trainable params: 0 (0.00 Byte)\n",
            "_________________________________________________________________\n"
          ]
        }
      ],
      "source": [
        "num_classes = len(encoded_category)\n",
        "y_train_cat = to_categorical(y_train, num_classes=num_classes)\n",
        "y_val_cat = to_categorical(y_val, num_classes=num_classes)\n",
        "\n",
        "model_rnn = Sequential()\n",
        "model_rnn.add(Embedding(\n",
        "    input_dim=len(word_index) + 1,\n",
        "    output_dim=100,\n",
        "    input_length=max_length\n",
        "))\n",
        "model_rnn.add(SimpleRNN(64))\n",
        "model_rnn.add(Dense(num_classes, activation='softmax'))\n",
        "\n",
        "model_rnn.compile(\n",
        "    loss='categorical_crossentropy',\n",
        "    optimizer='adam',\n",
        "    metrics=['accuracy']\n",
        ")\n",
        "model_rnn.summary()"
      ]
    },
    {
      "cell_type": "code",
      "execution_count": 30,
      "metadata": {
        "id": "2M_vS1HlT9Y3",
        "outputId": "8e56771a-08c0-448f-dd71-a2812f59bd2f",
        "colab": {
          "base_uri": "https://localhost:8080/"
        }
      },
      "outputs": [
        {
          "output_type": "stream",
          "name": "stdout",
          "text": [
            "Epoch 1/5\n",
            "60/60 [==============================] - 335s 6s/step - loss: 1.8497 - accuracy: 0.2963 - val_loss: 1.8277 - val_accuracy: 0.2950\n",
            "Epoch 2/5\n",
            "60/60 [==============================] - 350s 6s/step - loss: 1.8362 - accuracy: 0.2963 - val_loss: 1.8229 - val_accuracy: 0.2950\n",
            "Epoch 3/5\n",
            "60/60 [==============================] - 319s 5s/step - loss: 1.8351 - accuracy: 0.2963 - val_loss: 1.8216 - val_accuracy: 0.2950\n",
            "Epoch 4/5\n",
            "60/60 [==============================] - 368s 6s/step - loss: 1.8330 - accuracy: 0.2963 - val_loss: 1.8405 - val_accuracy: 0.2950\n",
            "Epoch 5/5\n",
            "60/60 [==============================] - 340s 6s/step - loss: 1.8309 - accuracy: 0.2963 - val_loss: 1.8316 - val_accuracy: 0.2950\n"
          ]
        }
      ],
      "source": [
        "history_rnn = model_rnn.fit(\n",
        "    X_train,\n",
        "    y_train_cat,\n",
        "    validation_data=(X_val, y_val_cat),\n",
        "    epochs=5,\n",
        "    verbose=1\n",
        ")"
      ]
    },
    {
      "cell_type": "markdown",
      "metadata": {
        "id": "rcQFCgy-T9Y3"
      },
      "source": [
        "### Store model"
      ]
    },
    {
      "cell_type": "code",
      "execution_count": 31,
      "metadata": {
        "id": "vRPo99DGT9Y3",
        "outputId": "9b8a7de7-8f52-4117-d028-e26109b9ae43",
        "colab": {
          "base_uri": "https://localhost:8080/"
        }
      },
      "outputs": [
        {
          "output_type": "stream",
          "name": "stderr",
          "text": [
            "/usr/local/lib/python3.10/dist-packages/keras/src/engine/training.py:3103: UserWarning: You are saving your model as an HDF5 file via `model.save()`. This file format is considered legacy. We recommend using instead the native Keras format, e.g. `model.save('my_model.keras')`.\n",
            "  saving_api.save_model(\n"
          ]
        }
      ],
      "source": [
        "model_rnn.save('models/history_rnn.h5')"
      ]
    },
    {
      "cell_type": "markdown",
      "metadata": {
        "id": "wC1UIomIT9Y3"
      },
      "source": [
        "# Exercise 6\n",
        "LSTM model"
      ]
    },
    {
      "cell_type": "code",
      "execution_count": 32,
      "metadata": {
        "id": "QxzDTif1T9Y3",
        "outputId": "ad76bfc6-382a-4f46-8a46-a5ea3131084b",
        "colab": {
          "base_uri": "https://localhost:8080/"
        }
      },
      "outputs": [
        {
          "output_type": "stream",
          "name": "stdout",
          "text": [
            "Model: \"sequential_4\"\n",
            "_________________________________________________________________\n",
            " Layer (type)                Output Shape              Param #   \n",
            "=================================================================\n",
            " embedding_4 (Embedding)     (None, 5824, 100)         6622300   \n",
            "                                                                 \n",
            " lstm (LSTM)                 (None, 64)                42240     \n",
            "                                                                 \n",
            " dense_4 (Dense)             (None, 8)                 520       \n",
            "                                                                 \n",
            "=================================================================\n",
            "Total params: 6665060 (25.43 MB)\n",
            "Trainable params: 6665060 (25.43 MB)\n",
            "Non-trainable params: 0 (0.00 Byte)\n",
            "_________________________________________________________________\n"
          ]
        }
      ],
      "source": [
        "model_lstm = Sequential()\n",
        "model_lstm.add(Embedding(\n",
        "  input_dim=len(word_index) + 1,\n",
        "  output_dim=100,\n",
        "  input_length=max_length\n",
        "))\n",
        "model_lstm.add(LSTM(64))\n",
        "model_lstm.add(Dense(num_classes, activation='softmax'))\n",
        "\n",
        "model_lstm.compile(loss='categorical_crossentropy', optimizer='adam', metrics=['accuracy'])\n",
        "model_lstm.summary()"
      ]
    },
    {
      "cell_type": "code",
      "source": [
        "history_lstm = model_lstm.fit(\n",
        "  X_train,\n",
        "  y_train_cat,\n",
        "  validation_data=(X_val, y_val_cat),\n",
        "  epochs=5,\n",
        "  batch_size=32\n",
        ")"
      ],
      "metadata": {
        "id": "u856K8GgWJN-",
        "outputId": "b3884a19-14d8-4c22-ed23-54445661e21d",
        "colab": {
          "base_uri": "https://localhost:8080/"
        }
      },
      "execution_count": 33,
      "outputs": [
        {
          "output_type": "stream",
          "name": "stdout",
          "text": [
            "Epoch 1/5\n",
            "60/60 [==============================] - 358s 6s/step - loss: 1.8772 - accuracy: 0.2958 - val_loss: 1.8330 - val_accuracy: 0.2950\n",
            "Epoch 2/5\n",
            "60/60 [==============================] - 348s 6s/step - loss: 1.8379 - accuracy: 0.2958 - val_loss: 1.8233 - val_accuracy: 0.2950\n",
            "Epoch 3/5\n",
            "60/60 [==============================] - 352s 6s/step - loss: 1.8340 - accuracy: 0.2958 - val_loss: 1.8244 - val_accuracy: 0.2950\n",
            "Epoch 4/5\n",
            "60/60 [==============================] - 340s 6s/step - loss: 1.8316 - accuracy: 0.2963 - val_loss: 1.8245 - val_accuracy: 0.2950\n",
            "Epoch 5/5\n",
            "60/60 [==============================] - 343s 6s/step - loss: 1.8262 - accuracy: 0.2958 - val_loss: 1.8244 - val_accuracy: 0.2950\n"
          ]
        }
      ]
    },
    {
      "cell_type": "markdown",
      "metadata": {
        "id": "xfKgtBnOT9Y3"
      },
      "source": [
        "### Store model"
      ]
    },
    {
      "cell_type": "code",
      "execution_count": 34,
      "metadata": {
        "id": "fU8hlFHYT9Y3"
      },
      "outputs": [],
      "source": [
        "model_lstm.save('models/history_lstm.h5')"
      ]
    },
    {
      "cell_type": "markdown",
      "metadata": {
        "id": "0ORYM5WYT9Y3"
      },
      "source": [
        "# Exercise 7\n",
        "Models evaluation"
      ]
    },
    {
      "cell_type": "code",
      "execution_count": 36,
      "metadata": {
        "id": "L_vLFBoAT9Y3",
        "outputId": "24b84ad1-5ded-4f14-8847-f52ca0906703",
        "colab": {
          "base_uri": "https://localhost:8080/"
        }
      },
      "outputs": [
        {
          "output_type": "stream",
          "name": "stdout",
          "text": [
            "15/15 [==============================] - 4s 268ms/step\n",
            "15/15 [==============================] - 9s 569ms/step\n"
          ]
        }
      ],
      "source": [
        "y_val_pred_rnn = model_rnn.predict(X_val)\n",
        "y_val_pred_rnn_classes = y_val_pred_rnn.argmax(axis=1)\n",
        "\n",
        "# LSTM predictions\n",
        "y_val_pred_lstm = model_lstm.predict(X_val)\n",
        "y_val_pred_lstm_classes = y_val_pred_lstm.argmax(axis=1)"
      ]
    },
    {
      "cell_type": "code",
      "source": [
        "y_encoded_cats = { k: v for k, v in encoded_category.items() if k in set(y_val) }\n",
        "print(y_encoded_cats)"
      ],
      "metadata": {
        "id": "YfiKiiCIz1-B",
        "outputId": "40334829-63d8-4a46-a93b-4d41d0a9c6a9",
        "colab": {
          "base_uri": "https://localhost:8080/"
        }
      },
      "execution_count": 52,
      "outputs": [
        {
          "output_type": "stream",
          "name": "stdout",
          "text": [
            "{0: 'cultura', 1: 'deportes', 2: 'economia', 3: 'justicia', 5: 'politica', 6: 'salud', 7: 'tecnosfera'}\n"
          ]
        }
      ]
    },
    {
      "cell_type": "code",
      "execution_count": 56,
      "metadata": {
        "id": "PWAZlkz_T9Y3",
        "outputId": "809f444b-3eb1-43a7-adf2-f499cb2091f9",
        "colab": {
          "base_uri": "https://localhost:8080/"
        }
      },
      "outputs": [
        {
          "output_type": "stream",
          "name": "stdout",
          "text": [
            "RNN Classification Report:\n",
            "              precision    recall  f1-score   support\n",
            "\n",
            "     cultura       0.00      0.00      0.00        83\n",
            "    deportes       0.29      1.00      0.46       141\n",
            "    economia       0.00      0.00      0.00        73\n",
            "    justicia       0.00      0.00      0.00        68\n",
            "    politica       0.00      0.00      0.00        50\n",
            "       salud       0.00      0.00      0.00        21\n",
            "  tecnosfera       0.00      0.00      0.00        42\n",
            "\n",
            "    accuracy                           0.29       478\n",
            "   macro avg       0.04      0.14      0.07       478\n",
            "weighted avg       0.09      0.29      0.13       478\n",
            "\n"
          ]
        },
        {
          "output_type": "stream",
          "name": "stderr",
          "text": [
            "/usr/local/lib/python3.10/dist-packages/sklearn/metrics/_classification.py:1531: UndefinedMetricWarning: Precision is ill-defined and being set to 0.0 in labels with no predicted samples. Use `zero_division` parameter to control this behavior.\n",
            "  _warn_prf(average, modifier, f\"{metric.capitalize()} is\", len(result))\n",
            "/usr/local/lib/python3.10/dist-packages/sklearn/metrics/_classification.py:1531: UndefinedMetricWarning: Precision is ill-defined and being set to 0.0 in labels with no predicted samples. Use `zero_division` parameter to control this behavior.\n",
            "  _warn_prf(average, modifier, f\"{metric.capitalize()} is\", len(result))\n",
            "/usr/local/lib/python3.10/dist-packages/sklearn/metrics/_classification.py:1531: UndefinedMetricWarning: Precision is ill-defined and being set to 0.0 in labels with no predicted samples. Use `zero_division` parameter to control this behavior.\n",
            "  _warn_prf(average, modifier, f\"{metric.capitalize()} is\", len(result))\n"
          ]
        }
      ],
      "source": [
        "print(\"RNN Classification Report:\")\n",
        "print(classification_report(y_val, y_val_pred_rnn_classes, target_names=y_encoded_cats.values()))"
      ]
    },
    {
      "cell_type": "code",
      "source": [
        "print(\"LSTM Classification Report:\")\n",
        "print(classification_report(y_val, y_val_pred_lstm_classes, target_names=y_encoded_cats.values()))"
      ],
      "metadata": {
        "id": "pmUtH9Lr2IeM",
        "outputId": "5e7e19c7-1ade-4e9d-c89f-7151385404bd",
        "colab": {
          "base_uri": "https://localhost:8080/"
        }
      },
      "execution_count": 57,
      "outputs": [
        {
          "output_type": "stream",
          "name": "stdout",
          "text": [
            "LSTM Classification Report:\n",
            "              precision    recall  f1-score   support\n",
            "\n",
            "     cultura       0.00      0.00      0.00        83\n",
            "    deportes       0.29      1.00      0.46       141\n",
            "    economia       0.00      0.00      0.00        73\n",
            "    justicia       0.00      0.00      0.00        68\n",
            "    politica       0.00      0.00      0.00        50\n",
            "       salud       0.00      0.00      0.00        21\n",
            "  tecnosfera       0.00      0.00      0.00        42\n",
            "\n",
            "    accuracy                           0.29       478\n",
            "   macro avg       0.04      0.14      0.07       478\n",
            "weighted avg       0.09      0.29      0.13       478\n",
            "\n"
          ]
        },
        {
          "output_type": "stream",
          "name": "stderr",
          "text": [
            "/usr/local/lib/python3.10/dist-packages/sklearn/metrics/_classification.py:1531: UndefinedMetricWarning: Precision is ill-defined and being set to 0.0 in labels with no predicted samples. Use `zero_division` parameter to control this behavior.\n",
            "  _warn_prf(average, modifier, f\"{metric.capitalize()} is\", len(result))\n",
            "/usr/local/lib/python3.10/dist-packages/sklearn/metrics/_classification.py:1531: UndefinedMetricWarning: Precision is ill-defined and being set to 0.0 in labels with no predicted samples. Use `zero_division` parameter to control this behavior.\n",
            "  _warn_prf(average, modifier, f\"{metric.capitalize()} is\", len(result))\n",
            "/usr/local/lib/python3.10/dist-packages/sklearn/metrics/_classification.py:1531: UndefinedMetricWarning: Precision is ill-defined and being set to 0.0 in labels with no predicted samples. Use `zero_division` parameter to control this behavior.\n",
            "  _warn_prf(average, modifier, f\"{metric.capitalize()} is\", len(result))\n"
          ]
        }
      ]
    },
    {
      "cell_type": "code",
      "source": [
        "plt.figure(figsize=(12, 5))\n",
        "\n",
        "plt.subplot(1, 2, 1)\n",
        "plt.plot(history_rnn.history['accuracy'], label='RNN Train')\n",
        "plt.plot(history_rnn.history['val_accuracy'], label='RNN Val')\n",
        "plt.title('RNN Accuracy')\n",
        "plt.xlabel('Epoch')\n",
        "plt.ylabel('Accuracy')\n",
        "plt.legend()\n",
        "\n",
        "plt.subplot(1, 2, 2)\n",
        "plt.plot(history_lstm.history['accuracy'], label='LSTM Train')\n",
        "plt.plot(history_lstm.history['val_accuracy'], label='LSTM Val')\n",
        "plt.title('LSTM Accuracy')\n",
        "plt.xlabel('Epoch')\n",
        "plt.ylabel('Accuracy')\n",
        "plt.legend()\n",
        "\n",
        "plt.tight_layout()\n",
        "plt.show()"
      ],
      "metadata": {
        "id": "a3PNKfnlzWwW",
        "outputId": "9b098fb2-a808-46d6-92fc-18713dfe285a",
        "colab": {
          "base_uri": "https://localhost:8080/",
          "height": 281
        }
      },
      "execution_count": 58,
      "outputs": [
        {
          "output_type": "display_data",
          "data": {
            "text/plain": [
              "<Figure size 1200x500 with 2 Axes>"
            ],
            "image/png": "[encoded data removed]"
          },
          "metadata": {}
        }
      ]
    }
  ],
  "metadata": {
    "kernelspec": {
      "display_name": "Python 3",
      "name": "python3"
    },
    "language_info": {
      "codemirror_mode": {
        "name": "ipython",
        "version": 3
      },
      "file_extension": ".py",
      "mimetype": "text/x-python",
      "name": "python",
      "nbconvert_exporter": "python",
      "pygments_lexer": "ipython3",
      "version": "3.10.15"
    },
    "colab": {
      "provenance": [],
      "machine_shape": "hm",
      "gpuType": "V28"
    },
    "accelerator": "TPU"
  },
  "nbformat": 4,
  "nbformat_minor": 0
}