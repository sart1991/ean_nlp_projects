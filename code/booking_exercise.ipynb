{
 "cells": [
  {
   "cell_type": "code",
   "metadata": {
    "ExecuteTime": {
     "end_time": "2024-11-30T17:24:06.061725Z",
     "start_time": "2024-11-30T17:24:05.546566Z"
    }
   },
   "source": "import pandas as pd",
   "outputs": [],
   "execution_count": 1
  },
  {
   "cell_type": "code",
   "metadata": {
    "ExecuteTime": {
     "end_time": "2024-11-30T17:24:06.946633Z",
     "start_time": "2024-11-30T17:24:06.064885Z"
    }
   },
   "source": "df_booking = pd.read_csv('../data/reviews_booking.csv', low_memory=False)",
   "outputs": [],
   "execution_count": 2
  },
  {
   "cell_type": "code",
   "metadata": {
    "ExecuteTime": {
     "end_time": "2024-11-30T17:24:07.088448Z",
     "start_time": "2024-11-30T17:24:07.085513Z"
    }
   },
   "source": [
    "df_booking.columns"
   ],
   "outputs": [
    {
     "data": {
      "text/plain": [
       "Index(['Unnamed: 0', 'País', 'Acomodación', 'Noches', 'Fecha hospedaje',\n",
       "       'Grupo viaje', 'Fecha reseña', 'Titulo', 'Calificación',\n",
       "       'Cosas Positivas', 'Cosas Negativas', 'reseña'],\n",
       "      dtype='object')"
      ]
     },
     "execution_count": 3,
     "metadata": {},
     "output_type": "execute_result"
    }
   ],
   "execution_count": 3
  },
  {
   "cell_type": "code",
   "metadata": {
    "ExecuteTime": {
     "end_time": "2024-11-30T17:24:07.096860Z",
     "start_time": "2024-11-30T17:24:07.094370Z"
    }
   },
   "source": [
    "df_booking['Titulo']"
   ],
   "outputs": [
    {
     "data": {
      "text/plain": [
       "0                                     Excepcional\n",
       "1                                      Fantástica\n",
       "2                                     Excepcional\n",
       "3         Gran apartamento en una gran ubicación.\n",
       "4                                     Excepcional\n",
       "                           ...                   \n",
       "438208                                 Fantástico\n",
       "438209                                Excepcional\n",
       "438210                                     Pésimo\n",
       "438211                                Excepcional\n",
       "438212                                  excelente\n",
       "Name: Titulo, Length: 438213, dtype: object"
      ]
     },
     "execution_count": 4,
     "metadata": {},
     "output_type": "execute_result"
    }
   ],
   "execution_count": 4
  },
  {
   "cell_type": "code",
   "metadata": {
    "ExecuteTime": {
     "end_time": "2024-11-30T17:24:07.147216Z",
     "start_time": "2024-11-30T17:24:07.122154Z"
    }
   },
   "source": [
    "df_selected = df_booking[['País', 'Noches', 'Titulo', 'Calificación', 'Cosas Positivas', 'Cosas Negativas', 'reseña']]"
   ],
   "outputs": [],
   "execution_count": 5
  },
  {
   "cell_type": "code",
   "metadata": {
    "ExecuteTime": {
     "end_time": "2024-11-30T17:24:07.186600Z",
     "start_time": "2024-11-30T17:24:07.173084Z"
    }
   },
   "source": [
    "df_selected['reseña'].value_counts()"
   ],
   "outputs": [
    {
     "data": {
      "text/plain": [
       "reseña\n",
       "Sí    248829\n",
       "No    189384\n",
       "Name: count, dtype: int64"
      ]
     },
     "execution_count": 6,
     "metadata": {},
     "output_type": "execute_result"
    }
   ],
   "execution_count": 6
  },
  {
   "cell_type": "code",
   "metadata": {
    "ExecuteTime": {
     "end_time": "2024-11-30T17:24:07.411401Z",
     "start_time": "2024-11-30T17:24:07.255953Z"
    }
   },
   "source": [
    "df_first_tranformation = df_selected.copy()\n",
    "df_first_tranformation['Calificación'] = df_first_tranformation['Calificación'].str.replace(',', '.')\n",
    "df_first_tranformation['Calificación'] = pd.to_numeric(df_first_tranformation['Calificación'], errors='coerce')"
   ],
   "outputs": [],
   "execution_count": 7
  },
  {
   "cell_type": "code",
   "metadata": {
    "ExecuteTime": {
     "end_time": "2024-11-30T17:24:07.935874Z",
     "start_time": "2024-11-30T17:24:07.450474Z"
    }
   },
   "source": [
    "df_second_tranformation = df_first_tranformation.copy()\n",
    "df_second_tranformation['Noches'] = df_second_tranformation['Noches'].str.extract(r'(\\d+)')\n",
    "df_second_tranformation['Noches'] = pd.to_numeric(df_second_tranformation['Noches'], errors='coerce')\n",
    "df_second_tranformation['Noches'] = df_second_tranformation['Noches'].fillna(1)\n",
    "df_second_tranformation['Cosas Positivas'] = df_second_tranformation['Cosas Positivas'].where(df_second_tranformation['Calificación'] > 7, '')\n",
    "df_second_tranformation['Cosas Positivas'] = df_second_tranformation['Cosas Positivas'].fillna('')\n",
    "df_second_tranformation['Cosas Negativas'] = df_second_tranformation['Cosas Negativas'].where(df_second_tranformation['Calificación'] <= 7, '')\n",
    "df_second_tranformation['Cosas Negativas'] = df_second_tranformation['Cosas Negativas'].fillna('')\n",
    "df_second_tranformation.head()"
   ],
   "outputs": [
    {
     "data": {
      "text/plain": [
       "        País  Noches                                   Titulo  Calificación  \\\n",
       "0  Venezuela       2                              Excepcional          10.0   \n",
       "1   Colombia       4                               Fantástica          10.0   \n",
       "2   Colombia       1                              Excepcional          10.0   \n",
       "3   Colombia       1  Gran apartamento en una gran ubicación.          10.0   \n",
       "4   Colombia       3                              Excepcional          10.0   \n",
       "\n",
       "                                     Cosas Positivas Cosas Negativas reseña  \n",
       "0  Fue la Mejor Opción que pudimos haber tomado e...                     Sí  \n",
       "1                  Ubicación, comodidades y limpieza                     Sí  \n",
       "2  El lugar esta muy bien ubicado, el apartamento...                     Sí  \n",
       "3  Todo estuvo perfecto. La ubicación y la relaci...                     Sí  \n",
       "4  Es muy cómodo y acogedor, la atención es excel...                     Sí  "
      ],
      "text/html": [
       "<div>\n",
       "<style scoped>\n",
       "    .dataframe tbody tr th:only-of-type {\n",
       "        vertical-align: middle;\n",
       "    }\n",
       "\n",
       "    .dataframe tbody tr th {\n",
       "        vertical-align: top;\n",
       "    }\n",
       "\n",
       "    .dataframe thead th {\n",
       "        text-align: right;\n",
       "    }\n",
       "</style>\n",
       "<table border=\"1\" class=\"dataframe\">\n",
       "  <thead>\n",
       "    <tr style=\"text-align: right;\">\n",
       "      <th></th>\n",
       "      <th>País</th>\n",
       "      <th>Noches</th>\n",
       "      <th>Titulo</th>\n",
       "      <th>Calificación</th>\n",
       "      <th>Cosas Positivas</th>\n",
       "      <th>Cosas Negativas</th>\n",
       "      <th>reseña</th>\n",
       "    </tr>\n",
       "  </thead>\n",
       "  <tbody>\n",
       "    <tr>\n",
       "      <th>0</th>\n",
       "      <td>Venezuela</td>\n",
       "      <td>2</td>\n",
       "      <td>Excepcional</td>\n",
       "      <td>10.0</td>\n",
       "      <td>Fue la Mejor Opción que pudimos haber tomado e...</td>\n",
       "      <td></td>\n",
       "      <td>Sí</td>\n",
       "    </tr>\n",
       "    <tr>\n",
       "      <th>1</th>\n",
       "      <td>Colombia</td>\n",
       "      <td>4</td>\n",
       "      <td>Fantástica</td>\n",
       "      <td>10.0</td>\n",
       "      <td>Ubicación, comodidades y limpieza</td>\n",
       "      <td></td>\n",
       "      <td>Sí</td>\n",
       "    </tr>\n",
       "    <tr>\n",
       "      <th>2</th>\n",
       "      <td>Colombia</td>\n",
       "      <td>1</td>\n",
       "      <td>Excepcional</td>\n",
       "      <td>10.0</td>\n",
       "      <td>El lugar esta muy bien ubicado, el apartamento...</td>\n",
       "      <td></td>\n",
       "      <td>Sí</td>\n",
       "    </tr>\n",
       "    <tr>\n",
       "      <th>3</th>\n",
       "      <td>Colombia</td>\n",
       "      <td>1</td>\n",
       "      <td>Gran apartamento en una gran ubicación.</td>\n",
       "      <td>10.0</td>\n",
       "      <td>Todo estuvo perfecto. La ubicación y la relaci...</td>\n",
       "      <td></td>\n",
       "      <td>Sí</td>\n",
       "    </tr>\n",
       "    <tr>\n",
       "      <th>4</th>\n",
       "      <td>Colombia</td>\n",
       "      <td>3</td>\n",
       "      <td>Excepcional</td>\n",
       "      <td>10.0</td>\n",
       "      <td>Es muy cómodo y acogedor, la atención es excel...</td>\n",
       "      <td></td>\n",
       "      <td>Sí</td>\n",
       "    </tr>\n",
       "  </tbody>\n",
       "</table>\n",
       "</div>"
      ]
     },
     "execution_count": 8,
     "metadata": {},
     "output_type": "execute_result"
    }
   ],
   "execution_count": 8
  },
  {
   "cell_type": "code",
   "metadata": {
    "ExecuteTime": {
     "end_time": "2024-11-30T17:24:08.155014Z",
     "start_time": "2024-11-30T17:24:07.957794Z"
    }
   },
   "source": [
    "df_filtered = df_second_tranformation[(df_second_tranformation['reseña'].notnull()) & (df_second_tranformation['reseña'] == 'Sí')]\n",
    "print(f\"reseña filter: {df_filtered.shape}\")\n",
    "df_filtered = df_filtered[\n",
    "    (df_filtered['Noches'].notnull())\n",
    "    &\n",
    "    (df_filtered['Titulo'].notnull())\n",
    "    &\n",
    "    (\n",
    "        (df_filtered['Calificación'].notna())\n",
    "    )\n",
    "]\n",
    "print(f\"noches, titulo, calificación filter: {df_filtered.shape}\")\n",
    "# filter in, if Calificación >= 8 then Cosas Positivas must have some text\n",
    "df_filtered = df_filtered.drop(df_filtered[\n",
    "    (df_filtered['Calificación'] >= 8)\n",
    "    &\n",
    "    (\n",
    "        (df_filtered['Cosas Positivas'].isnull())\n",
    "        |\n",
    "        (df_filtered['Cosas Positivas'].str.strip() == '')\n",
    "        |\n",
    "        (df_filtered['Cosas Positivas'].isna())\n",
    "    )\n",
    "].index)\n",
    "print(f\"calificación >= 8 filter: {df_filtered.shape}\")\n",
    "\n",
    "# filter in, if Calificación < 8 then Cosas Negativas must have some text\n",
    "df_filtered = df_filtered.drop(df_filtered[\n",
    "    (df_filtered['Calificación'] < 8)\n",
    "    &\n",
    "    (\n",
    "        (df_filtered['Cosas Negativas'].isnull())\n",
    "        |\n",
    "        (df_filtered['Cosas Negativas'].str.strip() == '')\n",
    "        |\n",
    "        (df_filtered['Cosas Negativas'].isna())\n",
    "    )\n",
    "].index)\n",
    "print(f\"calificación < 8 filter: {df_filtered.shape}\")\n",
    "valid_esp_countries = ['España', 'México', 'Argentina', 'Colombia', 'Chile', 'Perú', 'Venezuela', 'Ecuador', 'Guatemala', 'Cuba', 'Bolivia', 'República Dominicana', 'Honduras', 'Paraguay', 'El Salvador', 'Nicaragua', 'Costa Rica', 'Puerto Rico', 'Panamá', 'Uruguay']\n",
    "df_filtered = df_filtered[df_filtered['País'].isin(valid_esp_countries)]\n",
    "print(f\"country filter: {df_filtered.shape}\")"
   ],
   "outputs": [
    {
     "name": "stdout",
     "output_type": "stream",
     "text": [
      "reseña filter: (248829, 7)\n",
      "noches, titulo, calificación filter: (248786, 7)\n",
      "calificación >= 8 filter: (244978, 7)\n",
      "calificación < 8 filter: (242345, 7)\n",
      "country filter: (179521, 7)\n"
     ]
    }
   ],
   "execution_count": 9
  },
  {
   "cell_type": "code",
   "metadata": {
    "ExecuteTime": {
     "end_time": "2024-11-30T17:24:08.181909Z",
     "start_time": "2024-11-30T17:24:08.177503Z"
    }
   },
   "source": [
    "df_filtered.head()"
   ],
   "outputs": [
    {
     "data": {
      "text/plain": [
       "        País  Noches                                   Titulo  Calificación  \\\n",
       "0  Venezuela       2                              Excepcional          10.0   \n",
       "1   Colombia       4                               Fantástica          10.0   \n",
       "2   Colombia       1                              Excepcional          10.0   \n",
       "3   Colombia       1  Gran apartamento en una gran ubicación.          10.0   \n",
       "4   Colombia       3                              Excepcional          10.0   \n",
       "\n",
       "                                     Cosas Positivas Cosas Negativas reseña  \n",
       "0  Fue la Mejor Opción que pudimos haber tomado e...                     Sí  \n",
       "1                  Ubicación, comodidades y limpieza                     Sí  \n",
       "2  El lugar esta muy bien ubicado, el apartamento...                     Sí  \n",
       "3  Todo estuvo perfecto. La ubicación y la relaci...                     Sí  \n",
       "4  Es muy cómodo y acogedor, la atención es excel...                     Sí  "
      ],
      "text/html": [
       "<div>\n",
       "<style scoped>\n",
       "    .dataframe tbody tr th:only-of-type {\n",
       "        vertical-align: middle;\n",
       "    }\n",
       "\n",
       "    .dataframe tbody tr th {\n",
       "        vertical-align: top;\n",
       "    }\n",
       "\n",
       "    .dataframe thead th {\n",
       "        text-align: right;\n",
       "    }\n",
       "</style>\n",
       "<table border=\"1\" class=\"dataframe\">\n",
       "  <thead>\n",
       "    <tr style=\"text-align: right;\">\n",
       "      <th></th>\n",
       "      <th>País</th>\n",
       "      <th>Noches</th>\n",
       "      <th>Titulo</th>\n",
       "      <th>Calificación</th>\n",
       "      <th>Cosas Positivas</th>\n",
       "      <th>Cosas Negativas</th>\n",
       "      <th>reseña</th>\n",
       "    </tr>\n",
       "  </thead>\n",
       "  <tbody>\n",
       "    <tr>\n",
       "      <th>0</th>\n",
       "      <td>Venezuela</td>\n",
       "      <td>2</td>\n",
       "      <td>Excepcional</td>\n",
       "      <td>10.0</td>\n",
       "      <td>Fue la Mejor Opción que pudimos haber tomado e...</td>\n",
       "      <td></td>\n",
       "      <td>Sí</td>\n",
       "    </tr>\n",
       "    <tr>\n",
       "      <th>1</th>\n",
       "      <td>Colombia</td>\n",
       "      <td>4</td>\n",
       "      <td>Fantástica</td>\n",
       "      <td>10.0</td>\n",
       "      <td>Ubicación, comodidades y limpieza</td>\n",
       "      <td></td>\n",
       "      <td>Sí</td>\n",
       "    </tr>\n",
       "    <tr>\n",
       "      <th>2</th>\n",
       "      <td>Colombia</td>\n",
       "      <td>1</td>\n",
       "      <td>Excepcional</td>\n",
       "      <td>10.0</td>\n",
       "      <td>El lugar esta muy bien ubicado, el apartamento...</td>\n",
       "      <td></td>\n",
       "      <td>Sí</td>\n",
       "    </tr>\n",
       "    <tr>\n",
       "      <th>3</th>\n",
       "      <td>Colombia</td>\n",
       "      <td>1</td>\n",
       "      <td>Gran apartamento en una gran ubicación.</td>\n",
       "      <td>10.0</td>\n",
       "      <td>Todo estuvo perfecto. La ubicación y la relaci...</td>\n",
       "      <td></td>\n",
       "      <td>Sí</td>\n",
       "    </tr>\n",
       "    <tr>\n",
       "      <th>4</th>\n",
       "      <td>Colombia</td>\n",
       "      <td>3</td>\n",
       "      <td>Excepcional</td>\n",
       "      <td>10.0</td>\n",
       "      <td>Es muy cómodo y acogedor, la atención es excel...</td>\n",
       "      <td></td>\n",
       "      <td>Sí</td>\n",
       "    </tr>\n",
       "  </tbody>\n",
       "</table>\n",
       "</div>"
      ]
     },
     "execution_count": 10,
     "metadata": {},
     "output_type": "execute_result"
    }
   ],
   "execution_count": 10
  },
  {
   "cell_type": "code",
   "metadata": {
    "ExecuteTime": {
     "end_time": "2024-11-30T17:24:08.272405Z",
     "start_time": "2024-11-30T17:24:08.210124Z"
    }
   },
   "source": [
    "df_stable = df_second_tranformation.copy().reset_index(drop=True)\n",
    "df_stable.head()"
   ],
   "outputs": [
    {
     "data": {
      "text/plain": [
       "        País  Noches                                   Titulo  Calificación  \\\n",
       "0  Venezuela       2                              Excepcional          10.0   \n",
       "1   Colombia       4                               Fantástica          10.0   \n",
       "2   Colombia       1                              Excepcional          10.0   \n",
       "3   Colombia       1  Gran apartamento en una gran ubicación.          10.0   \n",
       "4   Colombia       3                              Excepcional          10.0   \n",
       "\n",
       "                                     Cosas Positivas Cosas Negativas reseña  \n",
       "0  Fue la Mejor Opción que pudimos haber tomado e...                     Sí  \n",
       "1                  Ubicación, comodidades y limpieza                     Sí  \n",
       "2  El lugar esta muy bien ubicado, el apartamento...                     Sí  \n",
       "3  Todo estuvo perfecto. La ubicación y la relaci...                     Sí  \n",
       "4  Es muy cómodo y acogedor, la atención es excel...                     Sí  "
      ],
      "text/html": [
       "<div>\n",
       "<style scoped>\n",
       "    .dataframe tbody tr th:only-of-type {\n",
       "        vertical-align: middle;\n",
       "    }\n",
       "\n",
       "    .dataframe tbody tr th {\n",
       "        vertical-align: top;\n",
       "    }\n",
       "\n",
       "    .dataframe thead th {\n",
       "        text-align: right;\n",
       "    }\n",
       "</style>\n",
       "<table border=\"1\" class=\"dataframe\">\n",
       "  <thead>\n",
       "    <tr style=\"text-align: right;\">\n",
       "      <th></th>\n",
       "      <th>País</th>\n",
       "      <th>Noches</th>\n",
       "      <th>Titulo</th>\n",
       "      <th>Calificación</th>\n",
       "      <th>Cosas Positivas</th>\n",
       "      <th>Cosas Negativas</th>\n",
       "      <th>reseña</th>\n",
       "    </tr>\n",
       "  </thead>\n",
       "  <tbody>\n",
       "    <tr>\n",
       "      <th>0</th>\n",
       "      <td>Venezuela</td>\n",
       "      <td>2</td>\n",
       "      <td>Excepcional</td>\n",
       "      <td>10.0</td>\n",
       "      <td>Fue la Mejor Opción que pudimos haber tomado e...</td>\n",
       "      <td></td>\n",
       "      <td>Sí</td>\n",
       "    </tr>\n",
       "    <tr>\n",
       "      <th>1</th>\n",
       "      <td>Colombia</td>\n",
       "      <td>4</td>\n",
       "      <td>Fantástica</td>\n",
       "      <td>10.0</td>\n",
       "      <td>Ubicación, comodidades y limpieza</td>\n",
       "      <td></td>\n",
       "      <td>Sí</td>\n",
       "    </tr>\n",
       "    <tr>\n",
       "      <th>2</th>\n",
       "      <td>Colombia</td>\n",
       "      <td>1</td>\n",
       "      <td>Excepcional</td>\n",
       "      <td>10.0</td>\n",
       "      <td>El lugar esta muy bien ubicado, el apartamento...</td>\n",
       "      <td></td>\n",
       "      <td>Sí</td>\n",
       "    </tr>\n",
       "    <tr>\n",
       "      <th>3</th>\n",
       "      <td>Colombia</td>\n",
       "      <td>1</td>\n",
       "      <td>Gran apartamento en una gran ubicación.</td>\n",
       "      <td>10.0</td>\n",
       "      <td>Todo estuvo perfecto. La ubicación y la relaci...</td>\n",
       "      <td></td>\n",
       "      <td>Sí</td>\n",
       "    </tr>\n",
       "    <tr>\n",
       "      <th>4</th>\n",
       "      <td>Colombia</td>\n",
       "      <td>3</td>\n",
       "      <td>Excepcional</td>\n",
       "      <td>10.0</td>\n",
       "      <td>Es muy cómodo y acogedor, la atención es excel...</td>\n",
       "      <td></td>\n",
       "      <td>Sí</td>\n",
       "    </tr>\n",
       "  </tbody>\n",
       "</table>\n",
       "</div>"
      ]
     },
     "execution_count": 11,
     "metadata": {},
     "output_type": "execute_result"
    }
   ],
   "execution_count": 11
  },
  {
   "cell_type": "markdown",
   "metadata": {},
   "source": [
    "## Analysis"
   ]
  },
  {
   "cell_type": "code",
   "metadata": {
    "ExecuteTime": {
     "end_time": "2024-11-30T17:24:08.809674Z",
     "start_time": "2024-11-30T17:24:08.292842Z"
    }
   },
   "source": [
    "from matplotlib import pyplot as plt"
   ],
   "outputs": [],
   "execution_count": 12
  },
  {
   "cell_type": "code",
   "metadata": {
    "ExecuteTime": {
     "end_time": "2024-11-30T17:24:16.707346Z",
     "start_time": "2024-11-30T17:24:08.833566Z"
    }
   },
   "source": [
    "df_stable['positive_words_length'] = df_stable['Cosas Positivas'].str.split().apply(len)\n",
    "df_stable['negative_words_length'] = df_stable['Cosas Negativas'].str.split().apply(len)\n",
    "\n",
    "plt.scatter(df_stable['Calificación'], df_stable['positive_words_length'], color='blue', label='positive')\n",
    "plt.scatter(df_stable['Calificación'], df_stable['negative_words_length'], color='red', label='negative')\n",
    "plt.xlabel('Calificación')\n",
    "plt.ylabel('Words Length')\n",
    "plt.legend()\n",
    "plt.show()"
   ],
   "outputs": [
    {
     "name": "stderr",
     "output_type": "stream",
     "text": [
      "/Users/sero/Documents/datascience_master/nat_language/workdir/ean_nlp_projects/.venv/lib/python3.10/site-packages/IPython/core/pylabtools.py:170: UserWarning: Creating legend with loc=\"best\" can be slow with large amounts of data.\n",
      "  fig.canvas.print_figure(bytes_io, **kw)\n"
     ]
    },
    {
     "data": {
      "text/plain": [
       "<Figure size 640x480 with 1 Axes>"
      ],
      "image/png": "[encoded data removed]"
     },
     "metadata": {},
     "output_type": "display_data"
    }
   ],
   "execution_count": 13
  },
  {
   "cell_type": "code",
   "metadata": {
    "ExecuteTime": {
     "end_time": "2024-11-30T17:24:16.980241Z",
     "start_time": "2024-11-30T17:24:16.728541Z"
    }
   },
   "source": [
    "# plot noches vs calificación\n",
    "plt.scatter(df_stable['Noches'], df_stable['Calificación'], color='blue')\n",
    "plt.xlabel('Noches')\n",
    "plt.ylabel('Calificación')\n",
    "plt.show()"
   ],
   "outputs": [
    {
     "data": {
      "text/plain": [
       "<Figure size 640x480 with 1 Axes>"
      ],
      "image/png": "[encoded data removed]"
     },
     "metadata": {},
     "output_type": "display_data"
    }
   ],
   "execution_count": 14
  },
  {
   "cell_type": "markdown",
   "metadata": {},
   "source": [
    "## Data transformation"
   ]
  },
  {
   "cell_type": "code",
   "metadata": {
    "ExecuteTime": {
     "end_time": "2024-11-30T17:24:18.942448Z",
     "start_time": "2024-11-30T17:24:16.984737Z"
    }
   },
   "source": [
    "from sklearn.pipeline import make_pipeline\n",
    "from sklearn.base import BaseEstimator, TransformerMixin\n",
    "from sklearn import set_config\n",
    "\n",
    "\n",
    "set_config(display='pandas')"
   ],
   "outputs": [],
   "execution_count": 15
  },
  {
   "cell_type": "code",
   "metadata": {
    "ExecuteTime": {
     "end_time": "2024-11-30T17:24:18.986538Z",
     "start_time": "2024-11-30T17:24:18.952379Z"
    }
   },
   "source": [
    "df_usable = df_stable.copy()\n",
    "df_usable = df_usable.drop(['País', 'reseña', 'Noches'], axis=1)"
   ],
   "outputs": [],
   "execution_count": 16
  },
  {
   "cell_type": "code",
   "metadata": {
    "ExecuteTime": {
     "end_time": "2024-11-30T17:24:18.999680Z",
     "start_time": "2024-11-30T17:24:18.997398Z"
    }
   },
   "source": [
    "class ReviewTransformer(BaseEstimator, TransformerMixin):\n",
    "    def fit(self, X, y=None):\n",
    "        return self\n",
    "\n",
    "    def transform(self, X):\n",
    "        X['review'] = X['Titulo'] + ' ' + X['Cosas Positivas'] + ' ' + X['Cosas Negativas']\n",
    "        return X"
   ],
   "outputs": [],
   "execution_count": 17
  },
  {
   "cell_type": "code",
   "metadata": {
    "ExecuteTime": {
     "end_time": "2024-11-30T17:24:19.019519Z",
     "start_time": "2024-11-30T17:24:19.017217Z"
    }
   },
   "source": [
    "class TargetTransformer(BaseEstimator, TransformerMixin):\n",
    "    def fit(self, X, y=None):\n",
    "        return self\n",
    "\n",
    "    def transform(self, X):\n",
    "        X['target'] = X['Calificación'].apply(lambda x: 1 if x >= 8 else 0)\n",
    "        return X"
   ],
   "outputs": [],
   "execution_count": 18
  },
  {
   "cell_type": "code",
   "metadata": {
    "ExecuteTime": {
     "end_time": "2024-11-30T17:24:19.024629Z",
     "start_time": "2024-11-30T17:24:19.022569Z"
    }
   },
   "source": [
    "class TextNormalizer(BaseEstimator, TransformerMixin):\n",
    "    def fit(self, X, y=None):\n",
    "        return self\n",
    "\n",
    "    def transform(self, X):\n",
    "        X['review'] = X['review'].str.lower()\n",
    "        # X['review'] = X['review'].str.replace(r'[^a-z0-9\\sáéíóú]', '').str.strip()\n",
    "        return X"
   ],
   "outputs": [],
   "execution_count": 19
  },
  {
   "cell_type": "code",
   "metadata": {
    "ExecuteTime": {
     "end_time": "2024-11-30T17:24:19.509326Z",
     "start_time": "2024-11-30T17:24:19.034309Z"
    }
   },
   "source": [
    "first_preprocessing = make_pipeline(\n",
    "    ReviewTransformer(),\n",
    "    TargetTransformer(),\n",
    "    TextNormalizer()\n",
    ")\n",
    "df_res = first_preprocessing.fit_transform(df_usable)\n",
    "print(f\"First res shape: {df_res.shape}\")\n",
    "df_res = df_res.drop(\n",
    "    df_res[df_res['review'].str.len() == 0].index\n",
    ")\n",
    "print(f\"Second res shape: {df_res.shape}\")"
   ],
   "outputs": [
    {
     "name": "stdout",
     "output_type": "stream",
     "text": [
      "First res shape: (438213, 8)\n",
      "Second res shape: (438213, 8)\n"
     ]
    }
   ],
   "execution_count": 20
  },
  {
   "cell_type": "code",
   "metadata": {
    "ExecuteTime": {
     "end_time": "2024-11-30T17:24:19.552312Z",
     "start_time": "2024-11-30T17:24:19.536749Z"
    }
   },
   "source": [
    "df_transformed = df_res[['review', 'target']].reset_index(drop=True)\n",
    "df_transformed.head()"
   ],
   "outputs": [
    {
     "data": {
      "text/plain": [
       "                                              review  target\n",
       "0  excepcional fue la mejor opción que pudimos ha...       1\n",
       "1      fantástica ubicación, comodidades y limpieza        1\n",
       "2  excepcional el lugar esta muy bien ubicado, el...       1\n",
       "3  gran apartamento en una gran ubicación. todo e...       1\n",
       "4  excepcional es muy cómodo y acogedor, la atenc...       1"
      ],
      "text/html": [
       "<div>\n",
       "<style scoped>\n",
       "    .dataframe tbody tr th:only-of-type {\n",
       "        vertical-align: middle;\n",
       "    }\n",
       "\n",
       "    .dataframe tbody tr th {\n",
       "        vertical-align: top;\n",
       "    }\n",
       "\n",
       "    .dataframe thead th {\n",
       "        text-align: right;\n",
       "    }\n",
       "</style>\n",
       "<table border=\"1\" class=\"dataframe\">\n",
       "  <thead>\n",
       "    <tr style=\"text-align: right;\">\n",
       "      <th></th>\n",
       "      <th>review</th>\n",
       "      <th>target</th>\n",
       "    </tr>\n",
       "  </thead>\n",
       "  <tbody>\n",
       "    <tr>\n",
       "      <th>0</th>\n",
       "      <td>excepcional fue la mejor opción que pudimos ha...</td>\n",
       "      <td>1</td>\n",
       "    </tr>\n",
       "    <tr>\n",
       "      <th>1</th>\n",
       "      <td>fantástica ubicación, comodidades y limpieza</td>\n",
       "      <td>1</td>\n",
       "    </tr>\n",
       "    <tr>\n",
       "      <th>2</th>\n",
       "      <td>excepcional el lugar esta muy bien ubicado, el...</td>\n",
       "      <td>1</td>\n",
       "    </tr>\n",
       "    <tr>\n",
       "      <th>3</th>\n",
       "      <td>gran apartamento en una gran ubicación. todo e...</td>\n",
       "      <td>1</td>\n",
       "    </tr>\n",
       "    <tr>\n",
       "      <th>4</th>\n",
       "      <td>excepcional es muy cómodo y acogedor, la atenc...</td>\n",
       "      <td>1</td>\n",
       "    </tr>\n",
       "  </tbody>\n",
       "</table>\n",
       "</div>"
      ]
     },
     "execution_count": 21,
     "metadata": {},
     "output_type": "execute_result"
    }
   ],
   "execution_count": 21
  },
  {
   "metadata": {
    "ExecuteTime": {
     "end_time": "2024-11-30T17:24:19.585397Z",
     "start_time": "2024-11-30T17:24:19.582490Z"
    }
   },
   "cell_type": "code",
   "source": "df_transformed.shape",
   "outputs": [
    {
     "data": {
      "text/plain": [
       "(438213, 2)"
      ]
     },
     "execution_count": 22,
     "metadata": {},
     "output_type": "execute_result"
    }
   ],
   "execution_count": 22
  },
  {
   "metadata": {
    "ExecuteTime": {
     "end_time": "2024-11-30T17:24:19.635129Z",
     "start_time": "2024-11-30T17:24:19.610458Z"
    }
   },
   "cell_type": "code",
   "source": "df_transformed.dropna(inplace=True)",
   "outputs": [],
   "execution_count": 23
  },
  {
   "metadata": {
    "ExecuteTime": {
     "end_time": "2024-11-30T17:24:19.646072Z",
     "start_time": "2024-11-30T17:24:19.643870Z"
    }
   },
   "cell_type": "code",
   "source": "df_transformed.shape",
   "outputs": [
    {
     "data": {
      "text/plain": [
       "(437552, 2)"
      ]
     },
     "execution_count": 24,
     "metadata": {},
     "output_type": "execute_result"
    }
   ],
   "execution_count": 24
  },
  {
   "cell_type": "markdown",
   "metadata": {},
   "source": "## Training: CountVectorizer and GradientBoostingClassifier"
  },
  {
   "metadata": {
    "ExecuteTime": {
     "end_time": "2024-11-30T17:24:20.443384Z",
     "start_time": "2024-11-30T17:24:19.677843Z"
    }
   },
   "cell_type": "code",
   "source": [
    "from sklearn.model_selection import train_test_split\n",
    "from sklearn.pipeline import Pipeline\n",
    "from sklearn.ensemble import GradientBoostingClassifier\n",
    "from sklearn.feature_extraction.text import CountVectorizer"
   ],
   "outputs": [],
   "execution_count": 25
  },
  {
   "metadata": {},
   "cell_type": "markdown",
   "source": "### Pipeline"
  },
  {
   "cell_type": "code",
   "metadata": {
    "ExecuteTime": {
     "end_time": "2024-11-30T17:24:20.469967Z",
     "start_time": "2024-11-30T17:24:20.468196Z"
    }
   },
   "source": [
    "pipeline = Pipeline([\n",
    "    ('vectorizer', CountVectorizer()),\n",
    "    ('classifier', GradientBoostingClassifier(max_depth=8, min_samples_split=6, n_estimators=180, random_state=20241130))\n",
    "])"
   ],
   "outputs": [],
   "execution_count": 26
  },
  {
   "metadata": {},
   "cell_type": "markdown",
   "source": "### Training"
  },
  {
   "metadata": {
    "ExecuteTime": {
     "end_time": "2024-11-30T17:24:20.491329Z",
     "start_time": "2024-11-30T17:24:20.472407Z"
    }
   },
   "cell_type": "code",
   "source": "x_train, x_test, y_train, y_test = train_test_split(df_transformed['review'], df_transformed['target'], test_size=0.2, random_state=20241130)",
   "outputs": [],
   "execution_count": 27
  },
  {
   "metadata": {
    "ExecuteTime": {
     "end_time": "2024-11-30T17:27:09.145952Z",
     "start_time": "2024-11-30T17:24:20.505720Z"
    }
   },
   "cell_type": "code",
   "source": [
    "trained_pipe = pipeline.fit(x_train, y_train)\n",
    "trained_pipe"
   ],
   "outputs": [
    {
     "data": {
      "text/plain": [
       "Pipeline(steps=[('vectorizer', CountVectorizer()),\n",
       "                ('classifier',\n",
       "                 GradientBoostingClassifier(max_depth=8, min_samples_split=6,\n",
       "                                            n_estimators=180,\n",
       "                                            random_state=20241130))])"
      ]
     },
     "execution_count": 28,
     "metadata": {},
     "output_type": "execute_result"
    }
   ],
   "execution_count": 28
  },
  {
   "metadata": {},
   "cell_type": "markdown",
   "source": "### Validation"
  },
  {
   "metadata": {
    "ExecuteTime": {
     "end_time": "2024-11-30T17:27:09.179240Z",
     "start_time": "2024-11-30T17:27:09.177008Z"
    }
   },
   "cell_type": "code",
   "source": "from sklearn.metrics import classification_report, confusion_matrix",
   "outputs": [],
   "execution_count": 29
  },
  {
   "metadata": {
    "ExecuteTime": {
     "end_time": "2024-11-30T17:27:10.149239Z",
     "start_time": "2024-11-30T17:27:09.201824Z"
    }
   },
   "cell_type": "code",
   "source": "y_pred = trained_pipe.predict(x_test)",
   "outputs": [],
   "execution_count": 30
  },
  {
   "metadata": {
    "ExecuteTime": {
     "end_time": "2024-11-30T17:27:10.232218Z",
     "start_time": "2024-11-30T17:27:10.154072Z"
    }
   },
   "cell_type": "code",
   "source": "print(classification_report(y_test, y_pred))",
   "outputs": [
    {
     "name": "stdout",
     "output_type": "stream",
     "text": [
      "              precision    recall  f1-score   support\n",
      "\n",
      "           0       0.83      0.78      0.80     18481\n",
      "           1       0.94      0.96      0.95     69030\n",
      "\n",
      "    accuracy                           0.92     87511\n",
      "   macro avg       0.88      0.87      0.87     87511\n",
      "weighted avg       0.92      0.92      0.92     87511\n",
      "\n"
     ]
    }
   ],
   "execution_count": 31
  },
  {
   "metadata": {
    "ExecuteTime": {
     "end_time": "2024-11-30T17:27:10.259666Z",
     "start_time": "2024-11-30T17:27:10.249020Z"
    }
   },
   "cell_type": "code",
   "source": [
    "tn, fp, fn, tp = confusion_matrix(y_test, y_pred).ravel()\n",
    "print(f\"True Negatives: {tn}\")\n",
    "print(f\"False Positives: {fp}\")\n",
    "print(f\"False Negatives: {fn}\")\n",
    "print(f\"True Positives: {tp}\")"
   ],
   "outputs": [
    {
     "name": "stdout",
     "output_type": "stream",
     "text": [
      "True Negatives: 14371\n",
      "False Positives: 4110\n",
      "False Negatives: 3037\n",
      "True Positives: 65993\n"
     ]
    }
   ],
   "execution_count": 32
  },
  {
   "metadata": {},
   "cell_type": "markdown",
   "source": "### Training: Doc2Vec and GradientBoostingClassifier"
  },
  {
   "metadata": {
    "ExecuteTime": {
     "end_time": "2024-11-30T17:27:11.052458Z",
     "start_time": "2024-11-30T17:27:10.275731Z"
    }
   },
   "cell_type": "code",
   "source": "from gensim.models.doc2vec import Doc2Vec, TaggedDocument",
   "outputs": [],
   "execution_count": 33
  },
  {
   "metadata": {
    "ExecuteTime": {
     "end_time": "2024-11-30T17:27:11.085832Z",
     "start_time": "2024-11-30T17:27:11.079736Z"
    }
   },
   "cell_type": "code",
   "source": "df_doc = df_transformed.copy()",
   "outputs": [],
   "execution_count": 34
  },
  {
   "metadata": {
    "ExecuteTime": {
     "end_time": "2024-11-30T17:27:11.775250Z",
     "start_time": "2024-11-30T17:27:11.105093Z"
    }
   },
   "cell_type": "code",
   "source": "df_doc['review_tokens'] = df_doc['review'].apply(lambda x: x.split())",
   "outputs": [],
   "execution_count": 35
  },
  {
   "metadata": {
    "ExecuteTime": {
     "end_time": "2024-11-30T17:27:12.662382Z",
     "start_time": "2024-11-30T17:27:11.790372Z"
    }
   },
   "cell_type": "code",
   "source": "tagged_docs = [TaggedDocument(doc, [i]) for i, doc in enumerate(df_doc['review_tokens'])]",
   "outputs": [],
   "execution_count": 36
  },
  {
   "metadata": {
    "ExecuteTime": {
     "end_time": "2024-11-30T17:28:47.949784Z",
     "start_time": "2024-11-30T17:27:12.692368Z"
    }
   },
   "cell_type": "code",
   "source": "d2v_mod = Doc2Vec(tagged_docs, vector_size=100, window=2, min_count=1, workers=4)",
   "outputs": [],
   "execution_count": 37
  },
  {
   "metadata": {},
   "cell_type": "markdown",
   "source": "#### Save and Load model"
  },
  {
   "metadata": {
    "ExecuteTime": {
     "end_time": "2024-11-30T17:28:48.184917Z",
     "start_time": "2024-11-30T17:28:47.974708Z"
    }
   },
   "cell_type": "code",
   "source": "d2v_mod.save(\"../models/booking_doc2vec.model\")",
   "outputs": [],
   "execution_count": 38
  },
  {
   "metadata": {
    "ExecuteTime": {
     "end_time": "2024-11-30T17:28:48.782432Z",
     "start_time": "2024-11-30T17:28:48.203450Z"
    }
   },
   "cell_type": "code",
   "source": "d2v_mod = Doc2Vec.load(\"../models/booking_doc2vec.model\")",
   "outputs": [],
   "execution_count": 39
  },
  {
   "metadata": {},
   "cell_type": "markdown",
   "source": "### Validation"
  },
  {
   "metadata": {
    "ExecuteTime": {
     "end_time": "2024-11-30T17:28:48.816302Z",
     "start_time": "2024-11-30T17:28:48.787610Z"
    }
   },
   "cell_type": "code",
   "source": "d2v_mod.wv.most_similar('mal')",
   "outputs": [
    {
     "data": {
      "text/plain": [
       "[('pésimo', 0.8528085350990295),\n",
       " ('aceptable', 0.79474937915802),\n",
       " ('regular', 0.784342348575592),\n",
       " ('decepcionante', 0.7754964232444763),\n",
       " ('bien', 0.7730273604393005),\n",
       " ('agradable', 0.6992626786231995),\n",
       " ('mal,', 0.6504109501838684),\n",
       " ('fantástico', 0.6474305391311646),\n",
       " ('excepcional', 0.646378219127655),\n",
       " ('normal', 0.6430110931396484)]"
      ]
     },
     "execution_count": 40,
     "metadata": {},
     "output_type": "execute_result"
    }
   ],
   "execution_count": 40
  },
  {
   "metadata": {
    "ExecuteTime": {
     "end_time": "2024-11-30T17:28:48.921853Z",
     "start_time": "2024-11-30T17:28:48.902859Z"
    }
   },
   "cell_type": "code",
   "source": "d2v_mod.wv.most_similar('excelente')",
   "outputs": [
    {
     "data": {
      "text/plain": [
       "[('exelente', 0.9021160006523132),\n",
       " ('buena', 0.8554985523223877),\n",
       " ('increíble', 0.8308255076408386),\n",
       " ('espectacular', 0.8284937739372253),\n",
       " ('genial', 0.8246389031410217),\n",
       " ('excelente.', 0.8077729940414429),\n",
       " ('excelente,', 0.8009641766548157),\n",
       " ('perfecta', 0.7995492219924927),\n",
       " ('buen', 0.7973801493644714),\n",
       " ('excelente!', 0.79475998878479)]"
      ]
     },
     "execution_count": 41,
     "metadata": {},
     "output_type": "execute_result"
    }
   ],
   "execution_count": 41
  },
  {
   "metadata": {},
   "cell_type": "markdown",
   "source": "### Training d2v and GradientBoostingClassifier"
  },
  {
   "metadata": {
    "ExecuteTime": {
     "end_time": "2024-11-30T17:30:22.464715Z",
     "start_time": "2024-11-30T17:30:22.462701Z"
    }
   },
   "cell_type": "code",
   "source": "from sklearn.ensemble import GradientBoostingClassifier",
   "outputs": [],
   "execution_count": 49
  },
  {
   "metadata": {
    "ExecuteTime": {
     "end_time": "2024-11-30T17:31:57.376364Z",
     "start_time": "2024-11-30T17:30:22.505837Z"
    }
   },
   "cell_type": "code",
   "source": "df_doc['d2v_vectors'] = [d2v_mod.infer_vector(doc) for doc in df_doc['review_tokens']]",
   "outputs": [],
   "execution_count": 50
  },
  {
   "metadata": {
    "ExecuteTime": {
     "end_time": "2024-11-30T17:31:57.414061Z",
     "start_time": "2024-11-30T17:31:57.412225Z"
    }
   },
   "cell_type": "code",
   "source": "gb_mod = GradientBoostingClassifier(max_depth=8, min_samples_split=6, n_estimators=180, random_state=20241130)",
   "outputs": [],
   "execution_count": 51
  },
  {
   "metadata": {
    "ExecuteTime": {
     "end_time": "2024-11-30T17:31:57.522692Z",
     "start_time": "2024-11-30T17:31:57.418431Z"
    }
   },
   "cell_type": "code",
   "source": "x_d2v_train, x_d2v_test, y_d2v_train, y_d2v_test = train_test_split(df_doc['d2v_vectors'].to_list(), df_doc['target'], test_size=0.2, random_state=20241130)",
   "outputs": [],
   "execution_count": 52
  },
  {
   "metadata": {
    "ExecuteTime": {
     "end_time": "2024-11-30T19:08:28.816459Z",
     "start_time": "2024-11-30T17:31:57.549561Z"
    }
   },
   "cell_type": "code",
   "source": "trained_gb = gb_mod.fit(x_d2v_train, y_d2v_train)",
   "outputs": [],
   "execution_count": 53
  },
  {
   "metadata": {
    "ExecuteTime": {
     "end_time": "2024-11-30T19:20:37.807646Z",
     "start_time": "2024-11-30T19:20:37.312220Z"
    }
   },
   "cell_type": "code",
   "source": "y_d2v_preds = gb_mod.predict(x_d2v_test)",
   "outputs": [],
   "execution_count": 54
  },
  {
   "metadata": {
    "ExecuteTime": {
     "end_time": "2024-11-30T19:21:37.116694Z",
     "start_time": "2024-11-30T19:21:37.037580Z"
    }
   },
   "cell_type": "code",
   "source": "print(classification_report(y_d2v_test, y_d2v_preds))",
   "outputs": [
    {
     "name": "stdout",
     "output_type": "stream",
     "text": [
      "              precision    recall  f1-score   support\n",
      "\n",
      "           0       0.79      0.61      0.69     18481\n",
      "           1       0.90      0.96      0.93     69030\n",
      "\n",
      "    accuracy                           0.88     87511\n",
      "   macro avg       0.85      0.78      0.81     87511\n",
      "weighted avg       0.88      0.88      0.88     87511\n",
      "\n"
     ]
    }
   ],
   "execution_count": 55
  },
  {
   "metadata": {
    "ExecuteTime": {
     "end_time": "2024-11-30T19:22:08.727150Z",
     "start_time": "2024-11-30T19:22:08.716326Z"
    }
   },
   "cell_type": "code",
   "source": [
    "tn, fp, fn, tp = confusion_matrix(y_d2v_test, y_d2v_preds).ravel()\n",
    "print(f\"True Negatives: {tn}\")\n",
    "print(f\"False Positives: {fp}\")\n",
    "print(f\"False Negatives: {fn}\")\n",
    "print(f\"True Positives: {tp}\")"
   ],
   "outputs": [
    {
     "name": "stdout",
     "output_type": "stream",
     "text": [
      "True Negatives: 11313\n",
      "False Positives: 7168\n",
      "False Negatives: 2957\n",
      "True Positives: 66073\n"
     ]
    }
   ],
   "execution_count": 56
  },
  {
   "metadata": {},
   "cell_type": "markdown",
   "source": "#### Save model"
  },
  {
   "metadata": {
    "ExecuteTime": {
     "end_time": "2024-11-30T19:26:30.734106Z",
     "start_time": "2024-11-30T19:26:30.709763Z"
    }
   },
   "cell_type": "code",
   "source": [
    "import joblib\n",
    "\n",
    "joblib.dump(gb_mod, \"../models/booking_gb_model.pkl\")"
   ],
   "outputs": [
    {
     "data": {
      "text/plain": [
       "['../models/booking_gb_model.pkl']"
      ]
     },
     "execution_count": 57,
     "metadata": {},
     "output_type": "execute_result"
    }
   ],
   "execution_count": 57
  },
  {
   "metadata": {},
   "cell_type": "markdown",
   "source": "### Clustering Kmeans"
  },
  {
   "metadata": {
    "ExecuteTime": {
     "end_time": "2024-11-30T17:28:49.347969Z",
     "start_time": "2024-11-30T17:28:48.977256Z"
    }
   },
   "cell_type": "code",
   "source": "from sklearn.cluster import KMeans",
   "outputs": [],
   "execution_count": 42
  },
  {
   "metadata": {
    "ExecuteTime": {
     "end_time": "2024-11-30T17:30:21.209422Z",
     "start_time": "2024-11-30T17:30:21.207517Z"
    }
   },
   "cell_type": "code",
   "source": "d2v_kmeans = KMeans(n_clusters=2, random_state=20241130)",
   "outputs": [],
   "execution_count": 44
  },
  {
   "metadata": {
    "ExecuteTime": {
     "end_time": "2024-11-30T17:30:22.288773Z",
     "start_time": "2024-11-30T17:30:21.213199Z"
    }
   },
   "cell_type": "code",
   "source": "d2v_kmeans.fit(df_doc['d2v_vectors'])",
   "outputs": [
    {
     "data": {
      "text/plain": [
       "KMeans(n_clusters=2, random_state=20241130)"
      ]
     },
     "execution_count": 45,
     "metadata": {},
     "output_type": "execute_result"
    }
   ],
   "execution_count": 45
  },
  {
   "metadata": {
    "ExecuteTime": {
     "end_time": "2024-11-30T17:30:22.373436Z",
     "start_time": "2024-11-30T17:30:22.309514Z"
    }
   },
   "cell_type": "code",
   "source": [
    "df_d2v_clustering = df_doc.copy()\n",
    "df_d2v_clustering['cluster'] = d2v_kmeans.labels_"
   ],
   "outputs": [],
   "execution_count": 46
  },
  {
   "metadata": {
    "ExecuteTime": {
     "end_time": "2024-11-30T17:30:22.396376Z",
     "start_time": "2024-11-30T17:30:22.391275Z"
    }
   },
   "cell_type": "code",
   "source": "df_d2v_clustering['cluster'].value_counts()",
   "outputs": [
    {
     "data": {
      "text/plain": [
       "cluster\n",
       "0    361543\n",
       "1     76009\n",
       "Name: count, dtype: int64"
      ]
     },
     "execution_count": 47,
     "metadata": {},
     "output_type": "execute_result"
    }
   ],
   "execution_count": 47
  },
  {
   "metadata": {
    "ExecuteTime": {
     "end_time": "2024-11-30T17:30:22.438805Z",
     "start_time": "2024-11-30T17:30:22.434320Z"
    }
   },
   "cell_type": "code",
   "source": "df_d2v_clustering['target'].value_counts()",
   "outputs": [
    {
     "data": {
      "text/plain": [
       "target\n",
       "1    345252\n",
       "0     92300\n",
       "Name: count, dtype: int64"
      ]
     },
     "execution_count": 48,
     "metadata": {},
     "output_type": "execute_result"
    }
   ],
   "execution_count": 48
  }
 ],
 "metadata": {
  "kernelspec": {
   "display_name": ".venv",
   "language": "python",
   "name": "python3"
  },
  "language_info": {
   "codemirror_mode": {
    "name": "ipython",
    "version": 3
   },
   "file_extension": ".py",
   "mimetype": "text/x-python",
   "name": "python",
   "nbconvert_exporter": "python",
   "pygments_lexer": "ipython3",
   "version": "3.10.8"
  }
 },
 "nbformat": 4,
 "nbformat_minor": 2
}
