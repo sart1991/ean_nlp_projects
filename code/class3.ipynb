{
 "cells": [
  {
   "cell_type": "markdown",
   "metadata": {},
   "source": [
    "# Modelo no supervisado de clasificación de texto\n",
    "\n",
    "## Introducción\n",
    "\n",
    "En este notebook se presenta un modelo no supervisado de clasificación de texto. El modelo se basa en el uso de embeddings de palabras y clustering. Se utiliza el algoritmo de clustering KMeans para agrupar los textos en clusters. \n",
    "\n"
   ]
  },
  {
   "cell_type": "code",
   "metadata": {
    "ExecuteTime": {
     "end_time": "2024-11-30T15:18:33.793175Z",
     "start_time": "2024-11-30T15:18:30.250866Z"
    }
   },
   "source": [
    "### Librerias necesarias Doc2Vec\n",
    "\n",
    "import gensim\n",
    "from gensim.models import Doc2Vec\n",
    "from gensim.models.doc2vec import TaggedDocument\n",
    "\n",
    "### Librerias necesarias para el preprocesamiento de texto\n",
    "import nltk\n",
    "from nltk.corpus import stopwords\n",
    "from nltk.tokenize import word_tokenize\n",
    "from nltk.stem import PorterStemmer\n",
    "\n",
    "### Descargar stopwords\n",
    "nltk.download('stopwords')\n",
    "nltk.download('punkt')\n",
    "\n",
    "\n",
    "### Otras librerias necesarias\n",
    "import numpy as np\n",
    "import pandas as pd\n",
    "import re\n",
    "import os"
   ],
   "outputs": [
    {
     "name": "stderr",
     "output_type": "stream",
     "text": [
      "[nltk_data] Downloading package stopwords to /Users/sero/nltk_data...\n",
      "[nltk_data]   Package stopwords is already up-to-date!\n",
      "[nltk_data] Downloading package punkt to /Users/sero/nltk_data...\n",
      "[nltk_data]   Package punkt is already up-to-date!\n"
     ]
    }
   ],
   "execution_count": 1
  },
  {
   "cell_type": "markdown",
   "metadata": {},
   "source": [
    "### 1.1 Modelo Doc2Vec\n",
    "\n",
    "El modelo Doc2Vec es una extensión del modelo Word2Vec que agrega un vector adicional para cada documento en el corpus. Este vector adicional se entrena junto con los vectores de palabras y se utiliza para representar el contenido de un documento en un espacio vectorial. Esto permite comparar documentos y encontrar similitudes entre ellos. En este caso ocurre lo siguiente:\n",
    "\n",
    "#### ¿Cómo funciona Doc2Vec?\n",
    "\n",
    "Doc2Vec tiene dos enfoques principales:\n",
    "\n",
    "1. **PV-DM (Distributed Memory):** Este modelo predice una palabra en el documento usando el contexto de palabras a su alrededor y un vector que representa al documento completo. En otras palabras:\n",
    "   - Se toma un documento y se le asigna un vector único (el vector del documento).\n",
    "   - Luego, junto con las palabras cercanas, este vector se usa para predecir una palabra en el documento.\n",
    "   - Al entrenar el modelo, este vector se va ajustando para que capture mejor el significado del documento.\n",
    "\n",
    "2. **PV-DBOW (Distributed Bag of Words):** Aquí se usa solo el vector del documento para predecir palabras al azar dentro del documento, sin tener en cuenta el contexto de palabras. Es más rápido, pero menos preciso.\n",
    "\n",
    "En resumen, Doc2Vec es un modelo que entrena vectores para palabras y documentos al mismo tiempo. Estos vectores pueden ser usados luego para comparar documentos, encontrar similitudes entre ellos, o incluso para clasificarlos.\n",
    "\n",
    "![Proceso doc2vec](../../Datos/Imágenes/doc2vec.png)\n"
   ]
  },
  {
   "cell_type": "markdown",
   "metadata": {},
   "source": [
    "## 2. Cargar el texto\n",
    "\n",
    "El dataset \"es_tweets_laboral\" de la colección \"somosnlp-hackathon-2022\" en Hugging Face está diseñado específicamente para el análisis de texto relacionado con temas laborales en español. Este dataset contiene tuits que abordan temas laborales, y es ideal para tareas de clasificación de texto, análisis de sentimientos, y otras aplicaciones de procesamiento de lenguaje natural (NLP) enfocadas en el ámbito laboral.\n",
    "\n",
    "**Características del Dataset:**\n",
    "- *Contenido*: Incluye tuits en español relacionados con temas laborales, como empleo, condiciones de trabajo, y derechos laborales.\n",
    "- *Etiquetas*: Los tuits pueden estar etiquetados según el tema o el sentimiento, lo que facilita su uso en tareas de clasificación supervisada.\n",
    "- *Aplicaciones*: Este dataset es útil para construir modelos que analicen la percepción de los usuarios sobre temas laborales, detectar tendencias en el mercado laboral, o identificar problemas comunes en el ámbito laboral.\n",
    "\n",
    "El dataset es parte de un esfuerzo colaborativo durante el Hackathon de SomosNLP en 2022, que busca fomentar el desarrollo de tecnologías de procesamiento de lenguaje natural en español.\n",
    "\n"
   ]
  },
  {
   "cell_type": "code",
   "metadata": {
    "ExecuteTime": {
     "end_time": "2024-11-30T15:18:38.486153Z",
     "start_time": "2024-11-30T15:18:33.797166Z"
    }
   },
   "source": [
    "### Carga dataset desde huggingface\n",
    "\n",
    "from datasets import load_dataset\n",
    "import tqdm as notebook_tqdm\n",
    "import re\n",
    "\n",
    "# Cargando el dataset \"es_tweets_laboral\" desde Hugging Face\n",
    "dataset = load_dataset(\"somosnlp-hackathon-2022/es_tweets_laboral\")\n",
    "\n",
    "# Explorando el contenido del dataset\n",
    "print(dataset)\n"
   ],
   "outputs": [
    {
     "name": "stdout",
     "output_type": "stream",
     "text": [
      "DatasetDict({\n",
      "    train: Dataset({\n",
      "        features: ['text', 'intent', 'entities'],\n",
      "        num_rows: 184\n",
      "    })\n",
      "    test: Dataset({\n",
      "        features: ['text', 'intent', 'entities'],\n",
      "        num_rows: 47\n",
      "    })\n",
      "})\n"
     ]
    }
   ],
   "execution_count": 2
  },
  {
   "cell_type": "code",
   "metadata": {
    "ExecuteTime": {
     "end_time": "2024-11-30T15:18:38.666201Z",
     "start_time": "2024-11-30T15:18:38.642174Z"
    }
   },
   "source": [
    "train = dataset['train']\n",
    "test = dataset['test']\n",
    "\n",
    "# Explorando el contenido de los datos de entrenamiento\n",
    "\n",
    "train_df = train.to_pandas()\n",
    "test_df = test.to_pandas()\n",
    "print(\"Shape of train data: \", train_df.shape)\n",
    "print(\"Shape of test data: \", test_df.shape)\n",
    "\n",
    "train_df.head()"
   ],
   "outputs": [
    {
     "name": "stdout",
     "output_type": "stream",
     "text": [
      "Shape of train data:  (184, 3)\n",
      "Shape of test data:  (47, 3)\n"
     ]
    },
    {
     "data": {
      "text/plain": [
       "                                                text              intent  \\\n",
       "0  ni siquiera decir \"palabras sucias\" te hace me...     abuso_autoridad   \n",
       "1  un amigo de mi hermana le comentó, dudo mucho ...    salario_precario   \n",
       "2  respecto a los salarios: todos merecemos un sa...    salario_precario   \n",
       "3  @FOVISSSTEmx @fovissste Gracias por su atenció...  derechos_laborales   \n",
       "4  docentes venezolanos, perciben salarios insufi...    salario_precario   \n",
       "\n",
       "                                            entities  \n",
       "0     [{'value': 'mal jefe,', 'entity': 'denuncia'}]  \n",
       "1  [{'value': 'nos maltratan con el salario', 'en...  \n",
       "2  [{'value': 'salario que nos permita vivir dign...  \n",
       "3  [{'value': 'no es un esquema que favorezca al ...  \n",
       "4  [{'value': 'perciben salarios insuficientes', ...  "
      ],
      "text/html": [
       "<div>\n",
       "<style scoped>\n",
       "    .dataframe tbody tr th:only-of-type {\n",
       "        vertical-align: middle;\n",
       "    }\n",
       "\n",
       "    .dataframe tbody tr th {\n",
       "        vertical-align: top;\n",
       "    }\n",
       "\n",
       "    .dataframe thead th {\n",
       "        text-align: right;\n",
       "    }\n",
       "</style>\n",
       "<table border=\"1\" class=\"dataframe\">\n",
       "  <thead>\n",
       "    <tr style=\"text-align: right;\">\n",
       "      <th></th>\n",
       "      <th>text</th>\n",
       "      <th>intent</th>\n",
       "      <th>entities</th>\n",
       "    </tr>\n",
       "  </thead>\n",
       "  <tbody>\n",
       "    <tr>\n",
       "      <th>0</th>\n",
       "      <td>ni siquiera decir \"palabras sucias\" te hace me...</td>\n",
       "      <td>abuso_autoridad</td>\n",
       "      <td>[{'value': 'mal jefe,', 'entity': 'denuncia'}]</td>\n",
       "    </tr>\n",
       "    <tr>\n",
       "      <th>1</th>\n",
       "      <td>un amigo de mi hermana le comentó, dudo mucho ...</td>\n",
       "      <td>salario_precario</td>\n",
       "      <td>[{'value': 'nos maltratan con el salario', 'en...</td>\n",
       "    </tr>\n",
       "    <tr>\n",
       "      <th>2</th>\n",
       "      <td>respecto a los salarios: todos merecemos un sa...</td>\n",
       "      <td>salario_precario</td>\n",
       "      <td>[{'value': 'salario que nos permita vivir dign...</td>\n",
       "    </tr>\n",
       "    <tr>\n",
       "      <th>3</th>\n",
       "      <td>@FOVISSSTEmx @fovissste Gracias por su atenció...</td>\n",
       "      <td>derechos_laborales</td>\n",
       "      <td>[{'value': 'no es un esquema que favorezca al ...</td>\n",
       "    </tr>\n",
       "    <tr>\n",
       "      <th>4</th>\n",
       "      <td>docentes venezolanos, perciben salarios insufi...</td>\n",
       "      <td>salario_precario</td>\n",
       "      <td>[{'value': 'perciben salarios insuficientes', ...</td>\n",
       "    </tr>\n",
       "  </tbody>\n",
       "</table>\n",
       "</div>"
      ]
     },
     "execution_count": 3,
     "metadata": {},
     "output_type": "execute_result"
    }
   ],
   "execution_count": 3
  },
  {
   "cell_type": "code",
   "metadata": {
    "ExecuteTime": {
     "end_time": "2024-11-30T15:18:38.745396Z",
     "start_time": "2024-11-30T15:18:38.741241Z"
    }
   },
   "source": [
    "test_df.head()"
   ],
   "outputs": [
    {
     "data": {
      "text/plain": [
       "                                                text               intent  \\\n",
       "0  #OficinaDeEnvigado #TrabajoPorHoras #AbusoLabo...  explotacion_laboral   \n",
       "1  @MarianaLaActriz Oiga no la he visto cotizar e...        acoso_laboral   \n",
       "2  La Asociación de Rectores Universitarios exigi...     salario_precario   \n",
       "3  15).-Venezuela. Gobierno. Rusia. Presenta, en ...     salario_precario   \n",
       "4  Después que Maduro bajó el salario mínimo de $...     salario_precario   \n",
       "\n",
       "                                            entities  \n",
       "0  [{'value': '#AbusoLaboral', 'entity': 'denunci...  \n",
       "1  [{'value': 'acoso sexual', 'entity': 'denuncia...  \n",
       "2  [{'value': 'ajuste del incremento salarial', '...  \n",
       "3  [{'value': 'índice relativamente bajo de desem...  \n",
       "4  [{'value': 'bajó el salario mínimo', 'entity':...  "
      ],
      "text/html": [
       "<div>\n",
       "<style scoped>\n",
       "    .dataframe tbody tr th:only-of-type {\n",
       "        vertical-align: middle;\n",
       "    }\n",
       "\n",
       "    .dataframe tbody tr th {\n",
       "        vertical-align: top;\n",
       "    }\n",
       "\n",
       "    .dataframe thead th {\n",
       "        text-align: right;\n",
       "    }\n",
       "</style>\n",
       "<table border=\"1\" class=\"dataframe\">\n",
       "  <thead>\n",
       "    <tr style=\"text-align: right;\">\n",
       "      <th></th>\n",
       "      <th>text</th>\n",
       "      <th>intent</th>\n",
       "      <th>entities</th>\n",
       "    </tr>\n",
       "  </thead>\n",
       "  <tbody>\n",
       "    <tr>\n",
       "      <th>0</th>\n",
       "      <td>#OficinaDeEnvigado #TrabajoPorHoras #AbusoLabo...</td>\n",
       "      <td>explotacion_laboral</td>\n",
       "      <td>[{'value': '#AbusoLaboral', 'entity': 'denunci...</td>\n",
       "    </tr>\n",
       "    <tr>\n",
       "      <th>1</th>\n",
       "      <td>@MarianaLaActriz Oiga no la he visto cotizar e...</td>\n",
       "      <td>acoso_laboral</td>\n",
       "      <td>[{'value': 'acoso sexual', 'entity': 'denuncia...</td>\n",
       "    </tr>\n",
       "    <tr>\n",
       "      <th>2</th>\n",
       "      <td>La Asociación de Rectores Universitarios exigi...</td>\n",
       "      <td>salario_precario</td>\n",
       "      <td>[{'value': 'ajuste del incremento salarial', '...</td>\n",
       "    </tr>\n",
       "    <tr>\n",
       "      <th>3</th>\n",
       "      <td>15).-Venezuela. Gobierno. Rusia. Presenta, en ...</td>\n",
       "      <td>salario_precario</td>\n",
       "      <td>[{'value': 'índice relativamente bajo de desem...</td>\n",
       "    </tr>\n",
       "    <tr>\n",
       "      <th>4</th>\n",
       "      <td>Después que Maduro bajó el salario mínimo de $...</td>\n",
       "      <td>salario_precario</td>\n",
       "      <td>[{'value': 'bajó el salario mínimo', 'entity':...</td>\n",
       "    </tr>\n",
       "  </tbody>\n",
       "</table>\n",
       "</div>"
      ]
     },
     "execution_count": 4,
     "metadata": {},
     "output_type": "execute_result"
    }
   ],
   "execution_count": 4
  },
  {
   "cell_type": "markdown",
   "metadata": {},
   "source": [
    "## 3. Preprocesamiento\n",
    "\n",
    "Empezamos por cargar el dataset y realizar un preprocesamiento básico de los textos. En este caso, se eliminan las menciones a usuarios, los enlaces, y los caracteres especiales. Además, se convierten los textos a minúsculas y se eliminan las stopwords."
   ]
  },
  {
   "cell_type": "code",
   "metadata": {
    "ExecuteTime": {
     "end_time": "2024-11-30T15:18:38.839566Z",
     "start_time": "2024-11-30T15:18:38.772797Z"
    }
   },
   "source": [
    "########## Preprocesamiento de texto ###############\n",
    "\n",
    "def preprocess_text(text):\n",
    "    # Eliminando caracteres especiales y números\n",
    "    text = re.sub(r'[^a-zA-ZáéíóúÁÉÍÓÚ\\s]', '', text, re.I|re.A)\n",
    "    # Convertir a minúsculas\n",
    "    text = text.lower()\n",
    "    # eliminando stopwords\n",
    "    stop_words = set(stopwords.words('spanish'))\n",
    "    word_tokens = word_tokenize(text)\n",
    "    text = [i for i in word_tokens if not i in stop_words]\n",
    "    text = ' '.join(text)\n",
    "    return text\n",
    "\n",
    "# Aplicando la función de preprocesamiento a los datos de entrenamiento y prueba\n",
    "\n",
    "train_df['text_pre'] = train_df['text'].apply(preprocess_text)\n",
    "\n",
    "test_df['text_pre'] = test_df['text'].apply(preprocess_text)\n",
    "\n",
    "train_df.head()"
   ],
   "outputs": [
    {
     "data": {
      "text/plain": [
       "                                                text              intent  \\\n",
       "0  ni siquiera decir \"palabras sucias\" te hace me...     abuso_autoridad   \n",
       "1  un amigo de mi hermana le comentó, dudo mucho ...    salario_precario   \n",
       "2  respecto a los salarios: todos merecemos un sa...    salario_precario   \n",
       "3  @FOVISSSTEmx @fovissste Gracias por su atenció...  derechos_laborales   \n",
       "4  docentes venezolanos, perciben salarios insufi...    salario_precario   \n",
       "\n",
       "                                            entities  \\\n",
       "0     [{'value': 'mal jefe,', 'entity': 'denuncia'}]   \n",
       "1  [{'value': 'nos maltratan con el salario', 'en...   \n",
       "2  [{'value': 'salario que nos permita vivir dign...   \n",
       "3  [{'value': 'no es un esquema que favorezca al ...   \n",
       "4  [{'value': 'perciben salarios insuficientes', ...   \n",
       "\n",
       "                                            text_pre  \n",
       "0  siquiera decir palabras sucias hace menos prof...  \n",
       "1  amigo hermana comentó dudo vuelva trabajar uni...  \n",
       "2  respecto salarios merecemos salario permita vi...  \n",
       "3  fovissstemx fovissste gracias atención desgrac...  \n",
       "4  docentes venezolanos perciben salarios insufic...  "
      ],
      "text/html": [
       "<div>\n",
       "<style scoped>\n",
       "    .dataframe tbody tr th:only-of-type {\n",
       "        vertical-align: middle;\n",
       "    }\n",
       "\n",
       "    .dataframe tbody tr th {\n",
       "        vertical-align: top;\n",
       "    }\n",
       "\n",
       "    .dataframe thead th {\n",
       "        text-align: right;\n",
       "    }\n",
       "</style>\n",
       "<table border=\"1\" class=\"dataframe\">\n",
       "  <thead>\n",
       "    <tr style=\"text-align: right;\">\n",
       "      <th></th>\n",
       "      <th>text</th>\n",
       "      <th>intent</th>\n",
       "      <th>entities</th>\n",
       "      <th>text_pre</th>\n",
       "    </tr>\n",
       "  </thead>\n",
       "  <tbody>\n",
       "    <tr>\n",
       "      <th>0</th>\n",
       "      <td>ni siquiera decir \"palabras sucias\" te hace me...</td>\n",
       "      <td>abuso_autoridad</td>\n",
       "      <td>[{'value': 'mal jefe,', 'entity': 'denuncia'}]</td>\n",
       "      <td>siquiera decir palabras sucias hace menos prof...</td>\n",
       "    </tr>\n",
       "    <tr>\n",
       "      <th>1</th>\n",
       "      <td>un amigo de mi hermana le comentó, dudo mucho ...</td>\n",
       "      <td>salario_precario</td>\n",
       "      <td>[{'value': 'nos maltratan con el salario', 'en...</td>\n",
       "      <td>amigo hermana comentó dudo vuelva trabajar uni...</td>\n",
       "    </tr>\n",
       "    <tr>\n",
       "      <th>2</th>\n",
       "      <td>respecto a los salarios: todos merecemos un sa...</td>\n",
       "      <td>salario_precario</td>\n",
       "      <td>[{'value': 'salario que nos permita vivir dign...</td>\n",
       "      <td>respecto salarios merecemos salario permita vi...</td>\n",
       "    </tr>\n",
       "    <tr>\n",
       "      <th>3</th>\n",
       "      <td>@FOVISSSTEmx @fovissste Gracias por su atenció...</td>\n",
       "      <td>derechos_laborales</td>\n",
       "      <td>[{'value': 'no es un esquema que favorezca al ...</td>\n",
       "      <td>fovissstemx fovissste gracias atención desgrac...</td>\n",
       "    </tr>\n",
       "    <tr>\n",
       "      <th>4</th>\n",
       "      <td>docentes venezolanos, perciben salarios insufi...</td>\n",
       "      <td>salario_precario</td>\n",
       "      <td>[{'value': 'perciben salarios insuficientes', ...</td>\n",
       "      <td>docentes venezolanos perciben salarios insufic...</td>\n",
       "    </tr>\n",
       "  </tbody>\n",
       "</table>\n",
       "</div>"
      ]
     },
     "execution_count": 5,
     "metadata": {},
     "output_type": "execute_result"
    }
   ],
   "execution_count": 5
  },
  {
   "cell_type": "markdown",
   "metadata": {},
   "source": [
    "## 4. Modelo de Clasificación de Texto\n",
    "\n",
    "Una vez que hemos preprocesado los textos, podemos aplicar un modelo de clasificación no supervisado para agruparlos en categorías o clusters. En este caso, utilizaremos el algoritmo de clustering KMeans para agrupar los textos en clusters. AUnque primero debemos convertir los textos en vectores numéricos utilizando embeddings de palabras.\n"
   ]
  },
  {
   "cell_type": "code",
   "metadata": {
    "ExecuteTime": {
     "end_time": "2024-11-30T15:18:38.891754Z",
     "start_time": "2024-11-30T15:18:38.886045Z"
    }
   },
   "source": [
    "################## Entrenamiento de Word2Vec ####################\n",
    "\n",
    "# Tokenizando el texto\n",
    "\n",
    "train_df['text_tokens'] = train_df['text_pre'].apply(lambda x: x.split())\n",
    "test_df['text_tokens'] = test_df['text_pre'].apply(lambda x: x.split())\n",
    "\n",
    "train_df.head()"
   ],
   "outputs": [
    {
     "data": {
      "text/plain": [
       "                                                text              intent  \\\n",
       "0  ni siquiera decir \"palabras sucias\" te hace me...     abuso_autoridad   \n",
       "1  un amigo de mi hermana le comentó, dudo mucho ...    salario_precario   \n",
       "2  respecto a los salarios: todos merecemos un sa...    salario_precario   \n",
       "3  @FOVISSSTEmx @fovissste Gracias por su atenció...  derechos_laborales   \n",
       "4  docentes venezolanos, perciben salarios insufi...    salario_precario   \n",
       "\n",
       "                                            entities  \\\n",
       "0     [{'value': 'mal jefe,', 'entity': 'denuncia'}]   \n",
       "1  [{'value': 'nos maltratan con el salario', 'en...   \n",
       "2  [{'value': 'salario que nos permita vivir dign...   \n",
       "3  [{'value': 'no es un esquema que favorezca al ...   \n",
       "4  [{'value': 'perciben salarios insuficientes', ...   \n",
       "\n",
       "                                            text_pre  \\\n",
       "0  siquiera decir palabras sucias hace menos prof...   \n",
       "1  amigo hermana comentó dudo vuelva trabajar uni...   \n",
       "2  respecto salarios merecemos salario permita vi...   \n",
       "3  fovissstemx fovissste gracias atención desgrac...   \n",
       "4  docentes venezolanos perciben salarios insufic...   \n",
       "\n",
       "                                         text_tokens  \n",
       "0  [siquiera, decir, palabras, sucias, hace, meno...  \n",
       "1  [amigo, hermana, comentó, dudo, vuelva, trabaj...  \n",
       "2  [respecto, salarios, merecemos, salario, permi...  \n",
       "3  [fovissstemx, fovissste, gracias, atención, de...  \n",
       "4  [docentes, venezolanos, perciben, salarios, in...  "
      ],
      "text/html": [
       "<div>\n",
       "<style scoped>\n",
       "    .dataframe tbody tr th:only-of-type {\n",
       "        vertical-align: middle;\n",
       "    }\n",
       "\n",
       "    .dataframe tbody tr th {\n",
       "        vertical-align: top;\n",
       "    }\n",
       "\n",
       "    .dataframe thead th {\n",
       "        text-align: right;\n",
       "    }\n",
       "</style>\n",
       "<table border=\"1\" class=\"dataframe\">\n",
       "  <thead>\n",
       "    <tr style=\"text-align: right;\">\n",
       "      <th></th>\n",
       "      <th>text</th>\n",
       "      <th>intent</th>\n",
       "      <th>entities</th>\n",
       "      <th>text_pre</th>\n",
       "      <th>text_tokens</th>\n",
       "    </tr>\n",
       "  </thead>\n",
       "  <tbody>\n",
       "    <tr>\n",
       "      <th>0</th>\n",
       "      <td>ni siquiera decir \"palabras sucias\" te hace me...</td>\n",
       "      <td>abuso_autoridad</td>\n",
       "      <td>[{'value': 'mal jefe,', 'entity': 'denuncia'}]</td>\n",
       "      <td>siquiera decir palabras sucias hace menos prof...</td>\n",
       "      <td>[siquiera, decir, palabras, sucias, hace, meno...</td>\n",
       "    </tr>\n",
       "    <tr>\n",
       "      <th>1</th>\n",
       "      <td>un amigo de mi hermana le comentó, dudo mucho ...</td>\n",
       "      <td>salario_precario</td>\n",
       "      <td>[{'value': 'nos maltratan con el salario', 'en...</td>\n",
       "      <td>amigo hermana comentó dudo vuelva trabajar uni...</td>\n",
       "      <td>[amigo, hermana, comentó, dudo, vuelva, trabaj...</td>\n",
       "    </tr>\n",
       "    <tr>\n",
       "      <th>2</th>\n",
       "      <td>respecto a los salarios: todos merecemos un sa...</td>\n",
       "      <td>salario_precario</td>\n",
       "      <td>[{'value': 'salario que nos permita vivir dign...</td>\n",
       "      <td>respecto salarios merecemos salario permita vi...</td>\n",
       "      <td>[respecto, salarios, merecemos, salario, permi...</td>\n",
       "    </tr>\n",
       "    <tr>\n",
       "      <th>3</th>\n",
       "      <td>@FOVISSSTEmx @fovissste Gracias por su atenció...</td>\n",
       "      <td>derechos_laborales</td>\n",
       "      <td>[{'value': 'no es un esquema que favorezca al ...</td>\n",
       "      <td>fovissstemx fovissste gracias atención desgrac...</td>\n",
       "      <td>[fovissstemx, fovissste, gracias, atención, de...</td>\n",
       "    </tr>\n",
       "    <tr>\n",
       "      <th>4</th>\n",
       "      <td>docentes venezolanos, perciben salarios insufi...</td>\n",
       "      <td>salario_precario</td>\n",
       "      <td>[{'value': 'perciben salarios insuficientes', ...</td>\n",
       "      <td>docentes venezolanos perciben salarios insufic...</td>\n",
       "      <td>[docentes, venezolanos, perciben, salarios, in...</td>\n",
       "    </tr>\n",
       "  </tbody>\n",
       "</table>\n",
       "</div>"
      ]
     },
     "execution_count": 6,
     "metadata": {},
     "output_type": "execute_result"
    }
   ],
   "execution_count": 6
  },
  {
   "cell_type": "code",
   "metadata": {
    "ExecuteTime": {
     "end_time": "2024-11-30T15:18:38.998724Z",
     "start_time": "2024-11-30T15:18:38.930774Z"
    }
   },
   "source": [
    "# Entrenando el modelo Doc2Vec\n",
    "\n",
    "documents = [TaggedDocument(doc, [i]) for i, doc in enumerate(train_df['text_tokens'])]\n",
    "\n",
    "# Definiendo el modelo Doc2Vec\n",
    "\n",
    "model = Doc2Vec(documents, vector_size=100, window=2, min_count=1, workers=4)\n",
    "\n",
    "# Guardando el modelo entrenado\n",
    "\n",
    "model.save(\"doc2vec.model\")\n"
   ],
   "outputs": [],
   "execution_count": 7
  },
  {
   "cell_type": "code",
   "metadata": {
    "ExecuteTime": {
     "end_time": "2024-11-30T15:18:39.063103Z",
     "start_time": "2024-11-30T15:18:39.010140Z"
    }
   },
   "source": [
    "# Cargando el modelo entrenado\n",
    "\n",
    "model = Doc2Vec.load(\"doc2vec.model\")\n",
    "\n",
    "# Obteniendo el vector de una palabra\n",
    "\n",
    "model.wv['trabajo']\n",
    "\n",
    "# Obteniendo las palabras más similares a una palabra\n",
    "\n",
    "model.wv.most_similar('abuso')\n"
   ],
   "outputs": [
    {
     "data": {
      "text/plain": [
       "[('tv', 0.3388918340206146),\n",
       " ('páginas', 0.33612701296806335),\n",
       " ('inspección', 0.3290232717990875),\n",
       " ('casa', 0.30751997232437134),\n",
       " ('gómezpalacios', 0.3025720715522766),\n",
       " ('interiorizado', 0.3020995855331421),\n",
       " ('fernand', 0.28665125370025635),\n",
       " ('cuantamugre', 0.28345754742622375),\n",
       " ('terminó', 0.27055150270462036),\n",
       " ('maldonado', 0.2618955671787262)]"
      ]
     },
     "execution_count": 8,
     "metadata": {},
     "output_type": "execute_result"
    }
   ],
   "execution_count": 8
  },
  {
   "cell_type": "code",
   "metadata": {
    "ExecuteTime": {
     "end_time": "2024-11-30T15:18:39.110777Z",
     "start_time": "2024-11-30T15:18:39.102344Z"
    }
   },
   "source": [
    "# Obteniendo la similitud entre dos palabras\n",
    "\n",
    "model.wv.similarity('trabajo', 'empleo')\n"
   ],
   "outputs": [
    {
     "data": {
      "text/plain": [
       "0.10175322"
      ]
     },
     "execution_count": 9,
     "metadata": {},
     "output_type": "execute_result"
    }
   ],
   "execution_count": 9
  },
  {
   "cell_type": "code",
   "metadata": {
    "ExecuteTime": {
     "end_time": "2024-11-30T15:18:39.625258Z",
     "start_time": "2024-11-30T15:18:39.195780Z"
    }
   },
   "source": [
    "#### Hacemos un clustering de los tweets con KMeans\n",
    "\n",
    "from sklearn.cluster import KMeans\n",
    "\n",
    "# Obteniendo los vectores de los tweets\n",
    "\n",
    "vectors = [model.infer_vector(doc) for doc in train_df['text_tokens']]\n",
    "\n",
    "# Definiendo el modelo KMeans\n",
    "\n",
    "kmeans = KMeans(n_clusters=5, random_state=0)\n",
    "\n",
    "# Entrenando el modelo KMeans\n",
    "\n",
    "kmeans.fit(vectors)\n",
    "\n",
    "# Obteniendo las etiquetas de los clusters\n",
    "\n",
    "train_df['cluster'] = kmeans.labels_\n",
    "\n",
    "# Explorando los clusters\n",
    "\n",
    "train_df['cluster'].value_counts()\n",
    "\n"
   ],
   "outputs": [
    {
     "data": {
      "text/plain": [
       "cluster\n",
       "3    61\n",
       "2    50\n",
       "1    31\n",
       "0    21\n",
       "4    21\n",
       "Name: count, dtype: int64"
      ]
     },
     "execution_count": 10,
     "metadata": {},
     "output_type": "execute_result"
    }
   ],
   "execution_count": 10
  },
  {
   "cell_type": "code",
   "metadata": {
    "ExecuteTime": {
     "end_time": "2024-11-30T15:18:39.725793Z",
     "start_time": "2024-11-30T15:18:39.704168Z"
    }
   },
   "source": [
    "### Veamos los tweets de un cluster\n",
    "\n",
    "pd.set_option('display.max_colwidth', None)\n",
    "\n",
    "train_df[train_df['cluster'] == 0]['text'].head(10)"
   ],
   "outputs": [
    {
     "data": {
      "text/plain": [
       "0                                 ni siquiera decir \"palabras sucias\" te hace menos profesional.lo que verdaderamente te quita profesionalismo es ser corrupto, mala gente, mal jefe, patán, la falta de compromiso, etc. eso sí afecta tu profesionalismo, no la manera en que lleves tu cabello o tu vida personal\n",
       "1                                un amigo de mi hermana le comentó, dudo mucho que vuelva a trabajar en la universidad, me gusta lo que hago, pero nos maltratan con el salario y quiero formar una familia! qué gran verdad, todos los trabajadores somos maquievalicamente maltratados por este injusto gobierno!!\n",
       "13                                                                                 @CarolinaPiparo Carolina...los trabajadores pagamos Ganancias ( MM dijo \"ningún trabajador pagará, etc...) de n/sueldo en blanco. Estos son evasores, y fugadores. De paso devuelven la que se llevaron, guita que entró del FMI.\n",
       "18                                                                  Se aumentará un 15% la cuantía del Ingreso Mínimo Vital y se ampliarán los beneficios del bono social eléctrico con el objetivo de que hasta dos millones de familias se encuentren bajo su paraguas.\\n\\nSalario social de Rajoy, lo otro igual.\n",
       "35    @Fedebrune @pamelacontaste En lo económico la LUC tenía el centro en la “libertad financiera” y no en salario. Es cierto. Pero al menos un tirón de orejas al presidente mentiroso le podías dar. Prometió bajar costo de vida pero bajo el salario y subió los costos. Es feo que se lo apoye por mentir 🤷‍♂️\n",
       "43                                                                                                                                                                                     Niegan atención médica a Walfrido Rodríguez Piloto🇨🇺 trabajador por cuenta propia detenido en la prisión Valle Grande #LaHab…\n",
       "62                                                                                 Si eres víctima de estafa, denuncia en las Brigadas de Delitos Económicos presentes en la región de Los Lagos.\\n\\nTu información es vital para el trabajo investigativo. \\n\\n#DelitosEconómicos\\n#Fraudes https://t.co/ro1kERsDqQ\n",
       "76                                    La familia del trabajador de #ENAP, víctima de un grave accidente laboral, denuncia negligencias al interior de la empresa y amenazas de acciones legales en su contra, en caso de que difundan el registro  que capturaron las cámaras de seguridad.\\nhttps://t.co/1Py37MagU0\n",
       "85                   @constant_hevia Además del matete nominal que tiene, confunde largo plazo con RBC todo el tiempo.  Dice, por ejemplo, que el salario real está \"bajo\", ¿en relación a qué? ¿cuál es el parámetro? La palabra productividad ni se asoma y me parece que hay lío de tendencia con ajuste cíclico.\n",
       "86                                                                                                                         @MariaEl03386030 Hay demasiada gente q sufre discriminación y abuso laboral pero no demandan eso debería de estar obligamdo ala gente q trabaja y patrones a tomar iniciativas q no dañen\n",
       "Name: text, dtype: object"
      ]
     },
     "execution_count": 11,
     "metadata": {},
     "output_type": "execute_result"
    }
   ],
   "execution_count": 11
  },
  {
   "cell_type": "code",
   "metadata": {
    "ExecuteTime": {
     "end_time": "2024-11-30T15:18:39.801596Z",
     "start_time": "2024-11-30T15:18:39.787598Z"
    }
   },
   "source": [
    "### Veamos el centroide de cada cluster\n",
    "\n",
    "for i in range(5):\n",
    "    print(\"Cluster \", i)\n",
    "    print(model.wv.most_similar(positive=[kmeans.cluster_centers_[i]], topn=10))\n",
    "    print(\"\\n\\n\")"
   ],
   "outputs": [
    {
     "name": "stdout",
     "output_type": "stream",
     "text": [
      "Cluster  0\n",
      "[('salum', 0.3681280016899109), ('mortal', 0.31465664505958557), ('plantean', 0.31280219554901123), ('capaz', 0.31043264269828796), ('salario', 0.3078862130641937), ('sacando', 0.3050749897956848), ('vida', 0.3005218505859375), ('bajo', 0.29367339611053467), ('si', 0.29026374220848083), ('cuento', 0.2901109755039215)]\n",
      "\n",
      "\n",
      "\n",
      "Cluster  1\n",
      "[('si', 0.38502249121665955), ('sacando', 0.36337897181510925), ('explotada', 0.32770878076553345), ('diciendo', 0.3119906485080719), ('salario', 0.30475783348083496), ('hogar', 0.2944182753562927), ('vida', 0.29437094926834106), ('prohibidoolvidar', 0.28389671444892883), ('httpstcondhjiggsq', 0.283516526222229), ('además', 0.2834523618221283)]\n",
      "\n",
      "\n",
      "\n",
      "Cluster  2\n",
      "[('salario', 0.4218840003013611), ('si', 0.36491858959198), ('mortal', 0.3533870577812195), ('lucha', 0.33517539501190186), ('escuchada', 0.335084468126297), ('incendio', 0.31260403990745544), ('capaz', 0.30838945508003235), ('país', 0.3079666197299957), ('httpstcorpunorsx', 0.30779457092285156), ('necesitan', 0.2952033281326294)]\n",
      "\n",
      "\n",
      "\n",
      "Cluster  3\n",
      "[('plantean', 0.35804271697998047), ('laboral', 0.35457324981689453), ('salario', 0.3512606918811798), ('tv', 0.34306585788726807), ('salum', 0.34206798672676086), ('q', 0.3282356560230255), ('casa', 0.3203529417514801), ('salarioigualcanastabásica', 0.3185894191265106), ('region', 0.30662232637405396), ('crecer', 0.2946396768093109)]\n",
      "\n",
      "\n",
      "\n",
      "Cluster  4\n",
      "[('ahorra', 0.35777443647384644), ('importante', 0.3479733169078827), ('trabajo', 0.3209158182144165), ('morena', 0.3019210398197174), ('grandes', 0.2935386896133423), ('mal', 0.291146457195282), ('tantas', 0.2902373671531677), ('rusia', 0.27683261036872864), ('verocph', 0.2715795338153839), ('cuento', 0.26991474628448486)]\n",
      "\n",
      "\n",
      "\n"
     ]
    }
   ],
   "execution_count": 12
  },
  {
   "cell_type": "code",
   "metadata": {
    "ExecuteTime": {
     "end_time": "2024-11-30T15:18:40.168396Z",
     "start_time": "2024-11-30T15:18:40.166761Z"
    }
   },
   "source": [],
   "outputs": [],
   "execution_count": null
  }
 ],
 "metadata": {
  "kernelspec": {
   "display_name": ".venv",
   "language": "python",
   "name": "python3"
  },
  "language_info": {
   "codemirror_mode": {
    "name": "ipython",
    "version": 3
   },
   "file_extension": ".py",
   "mimetype": "text/x-python",
   "name": "python",
   "nbconvert_exporter": "python",
   "pygments_lexer": "ipython3",
   "version": "3.10.15"
  }
 },
 "nbformat": 4,
 "nbformat_minor": 2
}
